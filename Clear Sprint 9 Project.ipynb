{
 "cells": [
  {
   "cell_type": "markdown",
   "metadata": {
    "toc": true
   },
   "source": [
    "<h1>Содержание<span class=\"tocSkip\"></span></h1>\n",
    "<div class=\"toc\"><ul class=\"toc-item\"><li><span><a href=\"#Подготовка-данных\" data-toc-modified-id=\"Подготовка-данных-1\"><span class=\"toc-item-num\">1&nbsp;&nbsp;</span>Подготовка данных</a></span><ul class=\"toc-item\"><li><span><a href=\"#Изучение-представленных-данных\" data-toc-modified-id=\"Изучение-представленных-данных-1.1\"><span class=\"toc-item-num\">1.1&nbsp;&nbsp;</span>Изучение представленных данных</a></span></li><li><span><a href=\"#Проверка-корректности-расчета-эффективности-обогащения-в-представленных-данных\" data-toc-modified-id=\"Проверка-корректности-расчета-эффективности-обогащения-в-представленных-данных-1.2\"><span class=\"toc-item-num\">1.2&nbsp;&nbsp;</span>Проверка корректности расчета эффективности обогащения в представленных данных</a></span></li><li><span><a href=\"#Анализ-отсутствующих-в-тестовой-выборке-признаков\" data-toc-modified-id=\"Анализ-отсутствующих-в-тестовой-выборке-признаков-1.3\"><span class=\"toc-item-num\">1.3&nbsp;&nbsp;</span>Анализ отсутствующих в тестовой выборке признаков</a></span></li><li><span><a href=\"#Предобработка-данных\" data-toc-modified-id=\"Предобработка-данных-1.4\"><span class=\"toc-item-num\">1.4&nbsp;&nbsp;</span>Предобработка данных</a></span><ul class=\"toc-item\"><li><span><a href=\"#train_data\" data-toc-modified-id=\"train_data-1.4.1\"><span class=\"toc-item-num\">1.4.1&nbsp;&nbsp;</span>train_data</a></span></li><li><span><a href=\"#test_data\" data-toc-modified-id=\"test_data-1.4.2\"><span class=\"toc-item-num\">1.4.2&nbsp;&nbsp;</span>test_data</a></span></li><li><span><a href=\"#full_data\" data-toc-modified-id=\"full_data-1.4.3\"><span class=\"toc-item-num\">1.4.3&nbsp;&nbsp;</span>full_data</a></span></li></ul></li></ul></li><li><span><a href=\"#Анализ-данных\" data-toc-modified-id=\"Анализ-данных-2\"><span class=\"toc-item-num\">2&nbsp;&nbsp;</span>Анализ данных</a></span><ul class=\"toc-item\"><li><span><a href=\"#Концентрация-металлов-на-различных-этапах-очистки\" data-toc-modified-id=\"Концентрация-металлов-на-различных-этапах-очистки-2.1\"><span class=\"toc-item-num\">2.1&nbsp;&nbsp;</span>Концентрация металлов на различных этапах очистки</a></span><ul class=\"toc-item\"><li><span><a href=\"#Изменение-концентрации-Золота-(Au)-на-разных-этапах\" data-toc-modified-id=\"Изменение-концентрации-Золота-(Au)-на-разных-этапах-2.1.1\"><span class=\"toc-item-num\">2.1.1&nbsp;&nbsp;</span>Изменение концентрации Золота (Au) на разных этапах</a></span></li><li><span><a href=\"#Изменение-концентрации-Серебра-(Ag)-на-разных-этапах\" data-toc-modified-id=\"Изменение-концентрации-Серебра-(Ag)-на-разных-этапах-2.1.2\"><span class=\"toc-item-num\">2.1.2&nbsp;&nbsp;</span>Изменение концентрации Серебра (Ag) на разных этапах</a></span></li><li><span><a href=\"#Изменение-концентрации-Свинца-(Pb)-на-разных-этапах\" data-toc-modified-id=\"Изменение-концентрации-Свинца-(Pb)-на-разных-этапах-2.1.3\"><span class=\"toc-item-num\">2.1.3&nbsp;&nbsp;</span>Изменение концентрации Свинца (Pb) на разных этапах</a></span></li><li><span><a href=\"#Изменение-соотношения-веществ-в-концентрате-на-различных-этапах\" data-toc-modified-id=\"Изменение-соотношения-веществ-в-концентрате-на-различных-этапах-2.1.4\"><span class=\"toc-item-num\">2.1.4&nbsp;&nbsp;</span>Изменение соотношения веществ в концентрате на различных этапах</a></span></li></ul></li><li><span><a href=\"#Анализ-размера-гранул\" data-toc-modified-id=\"Анализ-размера-гранул-2.2\"><span class=\"toc-item-num\">2.2&nbsp;&nbsp;</span>Анализ размера гранул</a></span></li><li><span><a href=\"#Суммарная-концентрация-веществ-на-разных-стадиях\" data-toc-modified-id=\"Суммарная-концентрация-веществ-на-разных-стадиях-2.3\"><span class=\"toc-item-num\">2.3&nbsp;&nbsp;</span>Суммарная концентрация веществ на разных стадиях</a></span></li></ul></li><li><span><a href=\"#Построение-модели\" data-toc-modified-id=\"Построение-модели-3\"><span class=\"toc-item-num\">3&nbsp;&nbsp;</span>Построение модели</a></span><ul class=\"toc-item\"><li><span><a href=\"#Функция-вычисления-sMAPE\" data-toc-modified-id=\"Функция-вычисления-sMAPE-3.1\"><span class=\"toc-item-num\">3.1&nbsp;&nbsp;</span>Функция вычисления sMAPE</a></span></li><li><span><a href=\"#Обучение-моделей-и-кросс-валидация-эффективности\" data-toc-modified-id=\"Обучение-моделей-и-кросс-валидация-эффективности-3.2\"><span class=\"toc-item-num\">3.2&nbsp;&nbsp;</span>Обучение моделей и кросс-валидация эффективности</a></span><ul class=\"toc-item\"><li><span><a href=\"#Инициализация-признаков-и-их-подготовка\" data-toc-modified-id=\"Инициализация-признаков-и-их-подготовка-3.2.1\"><span class=\"toc-item-num\">3.2.1&nbsp;&nbsp;</span>Инициализация признаков и их подготовка</a></span></li><li><span><a href=\"#Тестирование-на-разных-моделях\" data-toc-modified-id=\"Тестирование-на-разных-моделях-3.2.2\"><span class=\"toc-item-num\">3.2.2&nbsp;&nbsp;</span>Тестирование на разных моделях</a></span></li><li><span><a href=\"#Итоговая-проверка-модели-на-тестовой-выборке\" data-toc-modified-id=\"Итоговая-проверка-модели-на-тестовой-выборке-3.2.3\"><span class=\"toc-item-num\">3.2.3&nbsp;&nbsp;</span>Итоговая проверка модели на тестовой выборке</a></span></li></ul></li></ul></li><li><span><a href=\"#Чек-лист-готовности-проекта\" data-toc-modified-id=\"Чек-лист-готовности-проекта-4\"><span class=\"toc-item-num\">4&nbsp;&nbsp;</span>Чек-лист готовности проекта</a></span></li></ul></div>"
   ]
  },
  {
   "cell_type": "markdown",
   "metadata": {},
   "source": [
    "# Восстановление золота из руды"
   ]
  },
  {
   "cell_type": "markdown",
   "metadata": {},
   "source": [
    "Подготовьте прототип модели машинного обучения для «Цифры». Компания разрабатывает решения для эффективной работы промышленных предприятий.\n",
    "\n",
    "Модель должна предсказать коэффициент восстановления золота из золотосодержащей руды. Используйте данные с параметрами добычи и очистки. \n",
    "\n",
    "Модель поможет оптимизировать производство, чтобы не запускать предприятие с убыточными характеристиками.\n",
    "\n",
    "Вам нужно:\n",
    "\n",
    "1. Подготовить данные;\n",
    "2. Провести исследовательский анализ данных;\n",
    "3. Построить и обучить модель.\n",
    "\n",
    "Чтобы выполнить проект, обращайтесь к библиотекам *pandas*, *matplotlib* и *sklearn.* Вам поможет их документация."
   ]
  },
  {
   "cell_type": "markdown",
   "metadata": {},
   "source": [
    "## Подготовка данных"
   ]
  },
  {
   "cell_type": "code",
   "execution_count": 8,
   "metadata": {},
   "outputs": [
    {
     "data": {
      "text/html": [
       "<style>.container { width:85% !important; }</style>"
      ],
      "text/plain": [
       "<IPython.core.display.HTML object>"
      ]
     },
     "metadata": {},
     "output_type": "display_data"
    }
   ],
   "source": [
    "import pandas as pd\n",
    "pd.set_option('display.max_columns', None)\n",
    "from IPython.core.display import display, HTML\n",
    "display(HTML(\"<style>.container { width:85% !important; }</style>\"))\n",
    "\n",
    "from sklearn.metrics import mean_absolute_error\n",
    "from matplotlib import pyplot as plt\n",
    "\n",
    "from sklearn.model_selection import cross_val_score\n",
    "from sklearn.linear_model import LinearRegression  \n",
    "from sklearn.tree import DecisionTreeRegressor     \n",
    "from sklearn.ensemble import RandomForestRegressor\n",
    "from sklearn.dummy import DummyRegressor\n",
    "from sklearn.model_selection import GridSearchCV, KFold\n",
    "\n",
    "from sklearn.metrics import make_scorer\n",
    "from sklearn.preprocessing import StandardScaler \n",
    "\n",
    "pd.options.mode.chained_assignment = None"
   ]
  },
  {
   "cell_type": "code",
   "execution_count": 9,
   "metadata": {},
   "outputs": [],
   "source": [
    "train_data = pd.read_csv('/datasets/gold_recovery_train.csv')\n",
    "test_data = pd.read_csv('/datasets/gold_recovery_test.csv')\n",
    "full_data = pd.read_csv('/datasets/gold_recovery_full.csv')"
   ]
  },
  {
   "cell_type": "markdown",
   "metadata": {},
   "source": [
    "### Изучение представленных данных"
   ]
  },
  {
   "cell_type": "code",
   "execution_count": 10,
   "metadata": {},
   "outputs": [
    {
     "data": {
      "text/html": [
       "<div>\n",
       "<style scoped>\n",
       "    .dataframe tbody tr th:only-of-type {\n",
       "        vertical-align: middle;\n",
       "    }\n",
       "\n",
       "    .dataframe tbody tr th {\n",
       "        vertical-align: top;\n",
       "    }\n",
       "\n",
       "    .dataframe thead th {\n",
       "        text-align: right;\n",
       "    }\n",
       "</style>\n",
       "<table border=\"1\" class=\"dataframe\">\n",
       "  <thead>\n",
       "    <tr style=\"text-align: right;\">\n",
       "      <th></th>\n",
       "      <th>date</th>\n",
       "      <th>final.output.concentrate_ag</th>\n",
       "      <th>final.output.concentrate_pb</th>\n",
       "      <th>final.output.concentrate_sol</th>\n",
       "      <th>final.output.concentrate_au</th>\n",
       "      <th>final.output.recovery</th>\n",
       "      <th>final.output.tail_ag</th>\n",
       "      <th>final.output.tail_pb</th>\n",
       "      <th>final.output.tail_sol</th>\n",
       "      <th>final.output.tail_au</th>\n",
       "      <th>primary_cleaner.input.sulfate</th>\n",
       "      <th>primary_cleaner.input.depressant</th>\n",
       "      <th>primary_cleaner.input.feed_size</th>\n",
       "      <th>primary_cleaner.input.xanthate</th>\n",
       "      <th>primary_cleaner.output.concentrate_ag</th>\n",
       "      <th>primary_cleaner.output.concentrate_pb</th>\n",
       "      <th>primary_cleaner.output.concentrate_sol</th>\n",
       "      <th>primary_cleaner.output.concentrate_au</th>\n",
       "      <th>primary_cleaner.output.tail_ag</th>\n",
       "      <th>primary_cleaner.output.tail_pb</th>\n",
       "      <th>primary_cleaner.output.tail_sol</th>\n",
       "      <th>primary_cleaner.output.tail_au</th>\n",
       "      <th>primary_cleaner.state.floatbank8_a_air</th>\n",
       "      <th>primary_cleaner.state.floatbank8_a_level</th>\n",
       "      <th>primary_cleaner.state.floatbank8_b_air</th>\n",
       "      <th>primary_cleaner.state.floatbank8_b_level</th>\n",
       "      <th>primary_cleaner.state.floatbank8_c_air</th>\n",
       "      <th>primary_cleaner.state.floatbank8_c_level</th>\n",
       "      <th>primary_cleaner.state.floatbank8_d_air</th>\n",
       "      <th>primary_cleaner.state.floatbank8_d_level</th>\n",
       "      <th>rougher.calculation.sulfate_to_au_concentrate</th>\n",
       "      <th>rougher.calculation.floatbank10_sulfate_to_au_feed</th>\n",
       "      <th>rougher.calculation.floatbank11_sulfate_to_au_feed</th>\n",
       "      <th>rougher.calculation.au_pb_ratio</th>\n",
       "      <th>rougher.input.feed_ag</th>\n",
       "      <th>rougher.input.feed_pb</th>\n",
       "      <th>rougher.input.feed_rate</th>\n",
       "      <th>rougher.input.feed_size</th>\n",
       "      <th>rougher.input.feed_sol</th>\n",
       "      <th>rougher.input.feed_au</th>\n",
       "      <th>rougher.input.floatbank10_sulfate</th>\n",
       "      <th>rougher.input.floatbank10_xanthate</th>\n",
       "      <th>rougher.input.floatbank11_sulfate</th>\n",
       "      <th>rougher.input.floatbank11_xanthate</th>\n",
       "      <th>rougher.output.concentrate_ag</th>\n",
       "      <th>rougher.output.concentrate_pb</th>\n",
       "      <th>rougher.output.concentrate_sol</th>\n",
       "      <th>rougher.output.concentrate_au</th>\n",
       "      <th>rougher.output.recovery</th>\n",
       "      <th>rougher.output.tail_ag</th>\n",
       "      <th>rougher.output.tail_pb</th>\n",
       "      <th>rougher.output.tail_sol</th>\n",
       "      <th>rougher.output.tail_au</th>\n",
       "      <th>rougher.state.floatbank10_a_air</th>\n",
       "      <th>rougher.state.floatbank10_a_level</th>\n",
       "      <th>rougher.state.floatbank10_b_air</th>\n",
       "      <th>rougher.state.floatbank10_b_level</th>\n",
       "      <th>rougher.state.floatbank10_c_air</th>\n",
       "      <th>rougher.state.floatbank10_c_level</th>\n",
       "      <th>rougher.state.floatbank10_d_air</th>\n",
       "      <th>rougher.state.floatbank10_d_level</th>\n",
       "      <th>rougher.state.floatbank10_e_air</th>\n",
       "      <th>rougher.state.floatbank10_e_level</th>\n",
       "      <th>rougher.state.floatbank10_f_air</th>\n",
       "      <th>rougher.state.floatbank10_f_level</th>\n",
       "      <th>secondary_cleaner.output.tail_ag</th>\n",
       "      <th>secondary_cleaner.output.tail_pb</th>\n",
       "      <th>secondary_cleaner.output.tail_sol</th>\n",
       "      <th>secondary_cleaner.output.tail_au</th>\n",
       "      <th>secondary_cleaner.state.floatbank2_a_air</th>\n",
       "      <th>secondary_cleaner.state.floatbank2_a_level</th>\n",
       "      <th>secondary_cleaner.state.floatbank2_b_air</th>\n",
       "      <th>secondary_cleaner.state.floatbank2_b_level</th>\n",
       "      <th>secondary_cleaner.state.floatbank3_a_air</th>\n",
       "      <th>secondary_cleaner.state.floatbank3_a_level</th>\n",
       "      <th>secondary_cleaner.state.floatbank3_b_air</th>\n",
       "      <th>secondary_cleaner.state.floatbank3_b_level</th>\n",
       "      <th>secondary_cleaner.state.floatbank4_a_air</th>\n",
       "      <th>secondary_cleaner.state.floatbank4_a_level</th>\n",
       "      <th>secondary_cleaner.state.floatbank4_b_air</th>\n",
       "      <th>secondary_cleaner.state.floatbank4_b_level</th>\n",
       "      <th>secondary_cleaner.state.floatbank5_a_air</th>\n",
       "      <th>secondary_cleaner.state.floatbank5_a_level</th>\n",
       "      <th>secondary_cleaner.state.floatbank5_b_air</th>\n",
       "      <th>secondary_cleaner.state.floatbank5_b_level</th>\n",
       "      <th>secondary_cleaner.state.floatbank6_a_air</th>\n",
       "      <th>secondary_cleaner.state.floatbank6_a_level</th>\n",
       "    </tr>\n",
       "  </thead>\n",
       "  <tbody>\n",
       "    <tr>\n",
       "      <th>0</th>\n",
       "      <td>2016-01-15 00:00:00</td>\n",
       "      <td>6.055403</td>\n",
       "      <td>9.889648</td>\n",
       "      <td>5.507324</td>\n",
       "      <td>42.192020</td>\n",
       "      <td>70.541216</td>\n",
       "      <td>10.411962</td>\n",
       "      <td>0.895447</td>\n",
       "      <td>16.904297</td>\n",
       "      <td>2.143149</td>\n",
       "      <td>127.092003</td>\n",
       "      <td>10.128295</td>\n",
       "      <td>7.25</td>\n",
       "      <td>0.988759</td>\n",
       "      <td>8.547551</td>\n",
       "      <td>10.389648</td>\n",
       "      <td>19.529297</td>\n",
       "      <td>34.174427</td>\n",
       "      <td>14.936526</td>\n",
       "      <td>2.534912</td>\n",
       "      <td>7.476074</td>\n",
       "      <td>2.106679</td>\n",
       "      <td>1549.775757</td>\n",
       "      <td>-498.912140</td>\n",
       "      <td>1551.434204</td>\n",
       "      <td>-516.403442</td>\n",
       "      <td>1549.873901</td>\n",
       "      <td>-498.666595</td>\n",
       "      <td>1554.367432</td>\n",
       "      <td>-493.428131</td>\n",
       "      <td>41885.707031</td>\n",
       "      <td>3481.779053</td>\n",
       "      <td>3520.337158</td>\n",
       "      <td>2.838687</td>\n",
       "      <td>6.100378</td>\n",
       "      <td>2.284912</td>\n",
       "      <td>523.546326</td>\n",
       "      <td>55.486599</td>\n",
       "      <td>36.808594</td>\n",
       "      <td>6.486150</td>\n",
       "      <td>11.986616</td>\n",
       "      <td>6.007990</td>\n",
       "      <td>11.836743</td>\n",
       "      <td>6.005818</td>\n",
       "      <td>11.500771</td>\n",
       "      <td>7.101074</td>\n",
       "      <td>28.029297</td>\n",
       "      <td>19.793808</td>\n",
       "      <td>87.107763</td>\n",
       "      <td>5.008018</td>\n",
       "      <td>0.508728</td>\n",
       "      <td>19.154297</td>\n",
       "      <td>1.170244</td>\n",
       "      <td>999.706909</td>\n",
       "      <td>-404.066986</td>\n",
       "      <td>1603.011353</td>\n",
       "      <td>-434.715027</td>\n",
       "      <td>1602.375000</td>\n",
       "      <td>-442.204468</td>\n",
       "      <td>1598.937256</td>\n",
       "      <td>-451.294128</td>\n",
       "      <td>1404.472046</td>\n",
       "      <td>-455.462982</td>\n",
       "      <td>1416.354980</td>\n",
       "      <td>-451.939636</td>\n",
       "      <td>14.500184</td>\n",
       "      <td>4.694824</td>\n",
       "      <td>8.764648</td>\n",
       "      <td>2.606185</td>\n",
       "      <td>25.853109</td>\n",
       "      <td>-498.526489</td>\n",
       "      <td>23.893660</td>\n",
       "      <td>-501.406281</td>\n",
       "      <td>23.961798</td>\n",
       "      <td>-495.262817</td>\n",
       "      <td>21.940409</td>\n",
       "      <td>-499.340973</td>\n",
       "      <td>14.016835</td>\n",
       "      <td>-502.488007</td>\n",
       "      <td>12.099931</td>\n",
       "      <td>-504.715942</td>\n",
       "      <td>9.925633</td>\n",
       "      <td>-498.310211</td>\n",
       "      <td>8.079666</td>\n",
       "      <td>-500.470978</td>\n",
       "      <td>14.151341</td>\n",
       "      <td>-605.841980</td>\n",
       "    </tr>\n",
       "    <tr>\n",
       "      <th>1</th>\n",
       "      <td>2016-01-15 01:00:00</td>\n",
       "      <td>6.029369</td>\n",
       "      <td>9.968944</td>\n",
       "      <td>5.257781</td>\n",
       "      <td>42.701629</td>\n",
       "      <td>69.266198</td>\n",
       "      <td>10.462676</td>\n",
       "      <td>0.927452</td>\n",
       "      <td>16.634514</td>\n",
       "      <td>2.224930</td>\n",
       "      <td>125.629232</td>\n",
       "      <td>10.296251</td>\n",
       "      <td>7.25</td>\n",
       "      <td>1.002663</td>\n",
       "      <td>8.558743</td>\n",
       "      <td>10.497069</td>\n",
       "      <td>19.369147</td>\n",
       "      <td>34.118526</td>\n",
       "      <td>16.250511</td>\n",
       "      <td>3.049646</td>\n",
       "      <td>6.733907</td>\n",
       "      <td>2.353017</td>\n",
       "      <td>1576.166671</td>\n",
       "      <td>-500.904965</td>\n",
       "      <td>1575.950626</td>\n",
       "      <td>-499.865889</td>\n",
       "      <td>1575.994189</td>\n",
       "      <td>-499.315107</td>\n",
       "      <td>1574.479259</td>\n",
       "      <td>-498.931665</td>\n",
       "      <td>42050.861809</td>\n",
       "      <td>3498.370979</td>\n",
       "      <td>3489.981857</td>\n",
       "      <td>2.858998</td>\n",
       "      <td>6.161113</td>\n",
       "      <td>2.266033</td>\n",
       "      <td>525.290581</td>\n",
       "      <td>57.278666</td>\n",
       "      <td>35.753385</td>\n",
       "      <td>6.478583</td>\n",
       "      <td>11.971193</td>\n",
       "      <td>6.005766</td>\n",
       "      <td>11.996163</td>\n",
       "      <td>6.012594</td>\n",
       "      <td>11.615865</td>\n",
       "      <td>7.278807</td>\n",
       "      <td>28.067063</td>\n",
       "      <td>20.050975</td>\n",
       "      <td>86.843261</td>\n",
       "      <td>4.955378</td>\n",
       "      <td>0.536689</td>\n",
       "      <td>18.965234</td>\n",
       "      <td>1.184827</td>\n",
       "      <td>1000.286398</td>\n",
       "      <td>-400.065196</td>\n",
       "      <td>1600.754587</td>\n",
       "      <td>-449.953435</td>\n",
       "      <td>1600.479580</td>\n",
       "      <td>-449.830646</td>\n",
       "      <td>1600.527589</td>\n",
       "      <td>-449.953649</td>\n",
       "      <td>1399.227084</td>\n",
       "      <td>-450.869848</td>\n",
       "      <td>1399.719514</td>\n",
       "      <td>-450.119001</td>\n",
       "      <td>14.265474</td>\n",
       "      <td>4.592547</td>\n",
       "      <td>9.001494</td>\n",
       "      <td>2.488248</td>\n",
       "      <td>25.880539</td>\n",
       "      <td>-499.989656</td>\n",
       "      <td>23.889530</td>\n",
       "      <td>-500.372428</td>\n",
       "      <td>23.970550</td>\n",
       "      <td>-500.085473</td>\n",
       "      <td>22.085714</td>\n",
       "      <td>-499.446897</td>\n",
       "      <td>13.992281</td>\n",
       "      <td>-505.503262</td>\n",
       "      <td>11.950531</td>\n",
       "      <td>-501.331529</td>\n",
       "      <td>10.039245</td>\n",
       "      <td>-500.169983</td>\n",
       "      <td>7.984757</td>\n",
       "      <td>-500.582168</td>\n",
       "      <td>13.998353</td>\n",
       "      <td>-599.787184</td>\n",
       "    </tr>\n",
       "    <tr>\n",
       "      <th>2</th>\n",
       "      <td>2016-01-15 02:00:00</td>\n",
       "      <td>6.055926</td>\n",
       "      <td>10.213995</td>\n",
       "      <td>5.383759</td>\n",
       "      <td>42.657501</td>\n",
       "      <td>68.116445</td>\n",
       "      <td>10.507046</td>\n",
       "      <td>0.953716</td>\n",
       "      <td>16.208849</td>\n",
       "      <td>2.257889</td>\n",
       "      <td>123.819808</td>\n",
       "      <td>11.316280</td>\n",
       "      <td>7.25</td>\n",
       "      <td>0.991265</td>\n",
       "      <td>8.603505</td>\n",
       "      <td>10.354494</td>\n",
       "      <td>19.167579</td>\n",
       "      <td>33.969464</td>\n",
       "      <td>16.491823</td>\n",
       "      <td>3.124664</td>\n",
       "      <td>6.471768</td>\n",
       "      <td>2.416800</td>\n",
       "      <td>1601.556163</td>\n",
       "      <td>-499.997791</td>\n",
       "      <td>1600.386685</td>\n",
       "      <td>-500.607762</td>\n",
       "      <td>1602.003542</td>\n",
       "      <td>-500.870069</td>\n",
       "      <td>1599.541515</td>\n",
       "      <td>-499.827444</td>\n",
       "      <td>42018.101184</td>\n",
       "      <td>3495.348910</td>\n",
       "      <td>3502.359819</td>\n",
       "      <td>2.945989</td>\n",
       "      <td>6.116455</td>\n",
       "      <td>2.159622</td>\n",
       "      <td>530.026610</td>\n",
       "      <td>57.510649</td>\n",
       "      <td>35.971630</td>\n",
       "      <td>6.362222</td>\n",
       "      <td>11.920603</td>\n",
       "      <td>6.197377</td>\n",
       "      <td>11.920305</td>\n",
       "      <td>6.204633</td>\n",
       "      <td>11.695753</td>\n",
       "      <td>7.216833</td>\n",
       "      <td>27.454037</td>\n",
       "      <td>19.737170</td>\n",
       "      <td>86.842308</td>\n",
       "      <td>4.843460</td>\n",
       "      <td>0.546416</td>\n",
       "      <td>18.808533</td>\n",
       "      <td>1.162562</td>\n",
       "      <td>999.719565</td>\n",
       "      <td>-400.074028</td>\n",
       "      <td>1599.337330</td>\n",
       "      <td>-450.008530</td>\n",
       "      <td>1599.672797</td>\n",
       "      <td>-449.954491</td>\n",
       "      <td>1599.849325</td>\n",
       "      <td>-449.954185</td>\n",
       "      <td>1399.180945</td>\n",
       "      <td>-449.937588</td>\n",
       "      <td>1400.316682</td>\n",
       "      <td>-450.527147</td>\n",
       "      <td>14.115662</td>\n",
       "      <td>4.624775</td>\n",
       "      <td>8.842896</td>\n",
       "      <td>2.458187</td>\n",
       "      <td>26.005245</td>\n",
       "      <td>-499.929616</td>\n",
       "      <td>23.886657</td>\n",
       "      <td>-499.951928</td>\n",
       "      <td>23.913535</td>\n",
       "      <td>-499.442343</td>\n",
       "      <td>23.957717</td>\n",
       "      <td>-499.901982</td>\n",
       "      <td>14.015015</td>\n",
       "      <td>-502.520901</td>\n",
       "      <td>11.912783</td>\n",
       "      <td>-501.133383</td>\n",
       "      <td>10.070913</td>\n",
       "      <td>-500.129135</td>\n",
       "      <td>8.013877</td>\n",
       "      <td>-500.517572</td>\n",
       "      <td>14.028663</td>\n",
       "      <td>-601.427363</td>\n",
       "    </tr>\n",
       "  </tbody>\n",
       "</table>\n",
       "</div>"
      ],
      "text/plain": [
       "                  date  final.output.concentrate_ag  \\\n",
       "0  2016-01-15 00:00:00                     6.055403   \n",
       "1  2016-01-15 01:00:00                     6.029369   \n",
       "2  2016-01-15 02:00:00                     6.055926   \n",
       "\n",
       "   final.output.concentrate_pb  final.output.concentrate_sol  \\\n",
       "0                     9.889648                      5.507324   \n",
       "1                     9.968944                      5.257781   \n",
       "2                    10.213995                      5.383759   \n",
       "\n",
       "   final.output.concentrate_au  final.output.recovery  final.output.tail_ag  \\\n",
       "0                    42.192020              70.541216             10.411962   \n",
       "1                    42.701629              69.266198             10.462676   \n",
       "2                    42.657501              68.116445             10.507046   \n",
       "\n",
       "   final.output.tail_pb  final.output.tail_sol  final.output.tail_au  \\\n",
       "0              0.895447              16.904297              2.143149   \n",
       "1              0.927452              16.634514              2.224930   \n",
       "2              0.953716              16.208849              2.257889   \n",
       "\n",
       "   primary_cleaner.input.sulfate  primary_cleaner.input.depressant  \\\n",
       "0                     127.092003                         10.128295   \n",
       "1                     125.629232                         10.296251   \n",
       "2                     123.819808                         11.316280   \n",
       "\n",
       "   primary_cleaner.input.feed_size  primary_cleaner.input.xanthate  \\\n",
       "0                             7.25                        0.988759   \n",
       "1                             7.25                        1.002663   \n",
       "2                             7.25                        0.991265   \n",
       "\n",
       "   primary_cleaner.output.concentrate_ag  \\\n",
       "0                               8.547551   \n",
       "1                               8.558743   \n",
       "2                               8.603505   \n",
       "\n",
       "   primary_cleaner.output.concentrate_pb  \\\n",
       "0                              10.389648   \n",
       "1                              10.497069   \n",
       "2                              10.354494   \n",
       "\n",
       "   primary_cleaner.output.concentrate_sol  \\\n",
       "0                               19.529297   \n",
       "1                               19.369147   \n",
       "2                               19.167579   \n",
       "\n",
       "   primary_cleaner.output.concentrate_au  primary_cleaner.output.tail_ag  \\\n",
       "0                              34.174427                       14.936526   \n",
       "1                              34.118526                       16.250511   \n",
       "2                              33.969464                       16.491823   \n",
       "\n",
       "   primary_cleaner.output.tail_pb  primary_cleaner.output.tail_sol  \\\n",
       "0                        2.534912                         7.476074   \n",
       "1                        3.049646                         6.733907   \n",
       "2                        3.124664                         6.471768   \n",
       "\n",
       "   primary_cleaner.output.tail_au  primary_cleaner.state.floatbank8_a_air  \\\n",
       "0                        2.106679                             1549.775757   \n",
       "1                        2.353017                             1576.166671   \n",
       "2                        2.416800                             1601.556163   \n",
       "\n",
       "   primary_cleaner.state.floatbank8_a_level  \\\n",
       "0                               -498.912140   \n",
       "1                               -500.904965   \n",
       "2                               -499.997791   \n",
       "\n",
       "   primary_cleaner.state.floatbank8_b_air  \\\n",
       "0                             1551.434204   \n",
       "1                             1575.950626   \n",
       "2                             1600.386685   \n",
       "\n",
       "   primary_cleaner.state.floatbank8_b_level  \\\n",
       "0                               -516.403442   \n",
       "1                               -499.865889   \n",
       "2                               -500.607762   \n",
       "\n",
       "   primary_cleaner.state.floatbank8_c_air  \\\n",
       "0                             1549.873901   \n",
       "1                             1575.994189   \n",
       "2                             1602.003542   \n",
       "\n",
       "   primary_cleaner.state.floatbank8_c_level  \\\n",
       "0                               -498.666595   \n",
       "1                               -499.315107   \n",
       "2                               -500.870069   \n",
       "\n",
       "   primary_cleaner.state.floatbank8_d_air  \\\n",
       "0                             1554.367432   \n",
       "1                             1574.479259   \n",
       "2                             1599.541515   \n",
       "\n",
       "   primary_cleaner.state.floatbank8_d_level  \\\n",
       "0                               -493.428131   \n",
       "1                               -498.931665   \n",
       "2                               -499.827444   \n",
       "\n",
       "   rougher.calculation.sulfate_to_au_concentrate  \\\n",
       "0                                   41885.707031   \n",
       "1                                   42050.861809   \n",
       "2                                   42018.101184   \n",
       "\n",
       "   rougher.calculation.floatbank10_sulfate_to_au_feed  \\\n",
       "0                                        3481.779053    \n",
       "1                                        3498.370979    \n",
       "2                                        3495.348910    \n",
       "\n",
       "   rougher.calculation.floatbank11_sulfate_to_au_feed  \\\n",
       "0                                        3520.337158    \n",
       "1                                        3489.981857    \n",
       "2                                        3502.359819    \n",
       "\n",
       "   rougher.calculation.au_pb_ratio  rougher.input.feed_ag  \\\n",
       "0                         2.838687               6.100378   \n",
       "1                         2.858998               6.161113   \n",
       "2                         2.945989               6.116455   \n",
       "\n",
       "   rougher.input.feed_pb  rougher.input.feed_rate  rougher.input.feed_size  \\\n",
       "0               2.284912               523.546326                55.486599   \n",
       "1               2.266033               525.290581                57.278666   \n",
       "2               2.159622               530.026610                57.510649   \n",
       "\n",
       "   rougher.input.feed_sol  rougher.input.feed_au  \\\n",
       "0               36.808594               6.486150   \n",
       "1               35.753385               6.478583   \n",
       "2               35.971630               6.362222   \n",
       "\n",
       "   rougher.input.floatbank10_sulfate  rougher.input.floatbank10_xanthate  \\\n",
       "0                          11.986616                            6.007990   \n",
       "1                          11.971193                            6.005766   \n",
       "2                          11.920603                            6.197377   \n",
       "\n",
       "   rougher.input.floatbank11_sulfate  rougher.input.floatbank11_xanthate  \\\n",
       "0                          11.836743                            6.005818   \n",
       "1                          11.996163                            6.012594   \n",
       "2                          11.920305                            6.204633   \n",
       "\n",
       "   rougher.output.concentrate_ag  rougher.output.concentrate_pb  \\\n",
       "0                      11.500771                       7.101074   \n",
       "1                      11.615865                       7.278807   \n",
       "2                      11.695753                       7.216833   \n",
       "\n",
       "   rougher.output.concentrate_sol  rougher.output.concentrate_au  \\\n",
       "0                       28.029297                      19.793808   \n",
       "1                       28.067063                      20.050975   \n",
       "2                       27.454037                      19.737170   \n",
       "\n",
       "   rougher.output.recovery  rougher.output.tail_ag  rougher.output.tail_pb  \\\n",
       "0                87.107763                5.008018                0.508728   \n",
       "1                86.843261                4.955378                0.536689   \n",
       "2                86.842308                4.843460                0.546416   \n",
       "\n",
       "   rougher.output.tail_sol  rougher.output.tail_au  \\\n",
       "0                19.154297                1.170244   \n",
       "1                18.965234                1.184827   \n",
       "2                18.808533                1.162562   \n",
       "\n",
       "   rougher.state.floatbank10_a_air  rougher.state.floatbank10_a_level  \\\n",
       "0                       999.706909                        -404.066986   \n",
       "1                      1000.286398                        -400.065196   \n",
       "2                       999.719565                        -400.074028   \n",
       "\n",
       "   rougher.state.floatbank10_b_air  rougher.state.floatbank10_b_level  \\\n",
       "0                      1603.011353                        -434.715027   \n",
       "1                      1600.754587                        -449.953435   \n",
       "2                      1599.337330                        -450.008530   \n",
       "\n",
       "   rougher.state.floatbank10_c_air  rougher.state.floatbank10_c_level  \\\n",
       "0                      1602.375000                        -442.204468   \n",
       "1                      1600.479580                        -449.830646   \n",
       "2                      1599.672797                        -449.954491   \n",
       "\n",
       "   rougher.state.floatbank10_d_air  rougher.state.floatbank10_d_level  \\\n",
       "0                      1598.937256                        -451.294128   \n",
       "1                      1600.527589                        -449.953649   \n",
       "2                      1599.849325                        -449.954185   \n",
       "\n",
       "   rougher.state.floatbank10_e_air  rougher.state.floatbank10_e_level  \\\n",
       "0                      1404.472046                        -455.462982   \n",
       "1                      1399.227084                        -450.869848   \n",
       "2                      1399.180945                        -449.937588   \n",
       "\n",
       "   rougher.state.floatbank10_f_air  rougher.state.floatbank10_f_level  \\\n",
       "0                      1416.354980                        -451.939636   \n",
       "1                      1399.719514                        -450.119001   \n",
       "2                      1400.316682                        -450.527147   \n",
       "\n",
       "   secondary_cleaner.output.tail_ag  secondary_cleaner.output.tail_pb  \\\n",
       "0                         14.500184                          4.694824   \n",
       "1                         14.265474                          4.592547   \n",
       "2                         14.115662                          4.624775   \n",
       "\n",
       "   secondary_cleaner.output.tail_sol  secondary_cleaner.output.tail_au  \\\n",
       "0                           8.764648                          2.606185   \n",
       "1                           9.001494                          2.488248   \n",
       "2                           8.842896                          2.458187   \n",
       "\n",
       "   secondary_cleaner.state.floatbank2_a_air  \\\n",
       "0                                 25.853109   \n",
       "1                                 25.880539   \n",
       "2                                 26.005245   \n",
       "\n",
       "   secondary_cleaner.state.floatbank2_a_level  \\\n",
       "0                                 -498.526489   \n",
       "1                                 -499.989656   \n",
       "2                                 -499.929616   \n",
       "\n",
       "   secondary_cleaner.state.floatbank2_b_air  \\\n",
       "0                                 23.893660   \n",
       "1                                 23.889530   \n",
       "2                                 23.886657   \n",
       "\n",
       "   secondary_cleaner.state.floatbank2_b_level  \\\n",
       "0                                 -501.406281   \n",
       "1                                 -500.372428   \n",
       "2                                 -499.951928   \n",
       "\n",
       "   secondary_cleaner.state.floatbank3_a_air  \\\n",
       "0                                 23.961798   \n",
       "1                                 23.970550   \n",
       "2                                 23.913535   \n",
       "\n",
       "   secondary_cleaner.state.floatbank3_a_level  \\\n",
       "0                                 -495.262817   \n",
       "1                                 -500.085473   \n",
       "2                                 -499.442343   \n",
       "\n",
       "   secondary_cleaner.state.floatbank3_b_air  \\\n",
       "0                                 21.940409   \n",
       "1                                 22.085714   \n",
       "2                                 23.957717   \n",
       "\n",
       "   secondary_cleaner.state.floatbank3_b_level  \\\n",
       "0                                 -499.340973   \n",
       "1                                 -499.446897   \n",
       "2                                 -499.901982   \n",
       "\n",
       "   secondary_cleaner.state.floatbank4_a_air  \\\n",
       "0                                 14.016835   \n",
       "1                                 13.992281   \n",
       "2                                 14.015015   \n",
       "\n",
       "   secondary_cleaner.state.floatbank4_a_level  \\\n",
       "0                                 -502.488007   \n",
       "1                                 -505.503262   \n",
       "2                                 -502.520901   \n",
       "\n",
       "   secondary_cleaner.state.floatbank4_b_air  \\\n",
       "0                                 12.099931   \n",
       "1                                 11.950531   \n",
       "2                                 11.912783   \n",
       "\n",
       "   secondary_cleaner.state.floatbank4_b_level  \\\n",
       "0                                 -504.715942   \n",
       "1                                 -501.331529   \n",
       "2                                 -501.133383   \n",
       "\n",
       "   secondary_cleaner.state.floatbank5_a_air  \\\n",
       "0                                  9.925633   \n",
       "1                                 10.039245   \n",
       "2                                 10.070913   \n",
       "\n",
       "   secondary_cleaner.state.floatbank5_a_level  \\\n",
       "0                                 -498.310211   \n",
       "1                                 -500.169983   \n",
       "2                                 -500.129135   \n",
       "\n",
       "   secondary_cleaner.state.floatbank5_b_air  \\\n",
       "0                                  8.079666   \n",
       "1                                  7.984757   \n",
       "2                                  8.013877   \n",
       "\n",
       "   secondary_cleaner.state.floatbank5_b_level  \\\n",
       "0                                 -500.470978   \n",
       "1                                 -500.582168   \n",
       "2                                 -500.517572   \n",
       "\n",
       "   secondary_cleaner.state.floatbank6_a_air  \\\n",
       "0                                 14.151341   \n",
       "1                                 13.998353   \n",
       "2                                 14.028663   \n",
       "\n",
       "   secondary_cleaner.state.floatbank6_a_level  \n",
       "0                                 -605.841980  \n",
       "1                                 -599.787184  \n",
       "2                                 -601.427363  "
      ]
     },
     "execution_count": 10,
     "metadata": {},
     "output_type": "execute_result"
    }
   ],
   "source": [
    "train_data.head(3)"
   ]
  },
  {
   "cell_type": "code",
   "execution_count": 11,
   "metadata": {
    "scrolled": false
   },
   "outputs": [
    {
     "name": "stdout",
     "output_type": "stream",
     "text": [
      "<class 'pandas.core.frame.DataFrame'>\n",
      "RangeIndex: 16860 entries, 0 to 16859\n",
      "Data columns (total 87 columns):\n",
      " #   Column                                              Non-Null Count  Dtype  \n",
      "---  ------                                              --------------  -----  \n",
      " 0   date                                                16860 non-null  object \n",
      " 1   final.output.concentrate_ag                         16788 non-null  float64\n",
      " 2   final.output.concentrate_pb                         16788 non-null  float64\n",
      " 3   final.output.concentrate_sol                        16490 non-null  float64\n",
      " 4   final.output.concentrate_au                         16789 non-null  float64\n",
      " 5   final.output.recovery                               15339 non-null  float64\n",
      " 6   final.output.tail_ag                                16794 non-null  float64\n",
      " 7   final.output.tail_pb                                16677 non-null  float64\n",
      " 8   final.output.tail_sol                               16715 non-null  float64\n",
      " 9   final.output.tail_au                                16794 non-null  float64\n",
      " 10  primary_cleaner.input.sulfate                       15553 non-null  float64\n",
      " 11  primary_cleaner.input.depressant                    15598 non-null  float64\n",
      " 12  primary_cleaner.input.feed_size                     16860 non-null  float64\n",
      " 13  primary_cleaner.input.xanthate                      15875 non-null  float64\n",
      " 14  primary_cleaner.output.concentrate_ag               16778 non-null  float64\n",
      " 15  primary_cleaner.output.concentrate_pb               16502 non-null  float64\n",
      " 16  primary_cleaner.output.concentrate_sol              16224 non-null  float64\n",
      " 17  primary_cleaner.output.concentrate_au               16778 non-null  float64\n",
      " 18  primary_cleaner.output.tail_ag                      16777 non-null  float64\n",
      " 19  primary_cleaner.output.tail_pb                      16761 non-null  float64\n",
      " 20  primary_cleaner.output.tail_sol                     16579 non-null  float64\n",
      " 21  primary_cleaner.output.tail_au                      16777 non-null  float64\n",
      " 22  primary_cleaner.state.floatbank8_a_air              16820 non-null  float64\n",
      " 23  primary_cleaner.state.floatbank8_a_level            16827 non-null  float64\n",
      " 24  primary_cleaner.state.floatbank8_b_air              16820 non-null  float64\n",
      " 25  primary_cleaner.state.floatbank8_b_level            16833 non-null  float64\n",
      " 26  primary_cleaner.state.floatbank8_c_air              16822 non-null  float64\n",
      " 27  primary_cleaner.state.floatbank8_c_level            16833 non-null  float64\n",
      " 28  primary_cleaner.state.floatbank8_d_air              16821 non-null  float64\n",
      " 29  primary_cleaner.state.floatbank8_d_level            16833 non-null  float64\n",
      " 30  rougher.calculation.sulfate_to_au_concentrate       16833 non-null  float64\n",
      " 31  rougher.calculation.floatbank10_sulfate_to_au_feed  16833 non-null  float64\n",
      " 32  rougher.calculation.floatbank11_sulfate_to_au_feed  16833 non-null  float64\n",
      " 33  rougher.calculation.au_pb_ratio                     15618 non-null  float64\n",
      " 34  rougher.input.feed_ag                               16778 non-null  float64\n",
      " 35  rougher.input.feed_pb                               16632 non-null  float64\n",
      " 36  rougher.input.feed_rate                             16347 non-null  float64\n",
      " 37  rougher.input.feed_size                             16443 non-null  float64\n",
      " 38  rougher.input.feed_sol                              16568 non-null  float64\n",
      " 39  rougher.input.feed_au                               16777 non-null  float64\n",
      " 40  rougher.input.floatbank10_sulfate                   15816 non-null  float64\n",
      " 41  rougher.input.floatbank10_xanthate                  16514 non-null  float64\n",
      " 42  rougher.input.floatbank11_sulfate                   16237 non-null  float64\n",
      " 43  rougher.input.floatbank11_xanthate                  14956 non-null  float64\n",
      " 44  rougher.output.concentrate_ag                       16778 non-null  float64\n",
      " 45  rougher.output.concentrate_pb                       16778 non-null  float64\n",
      " 46  rougher.output.concentrate_sol                      16698 non-null  float64\n",
      " 47  rougher.output.concentrate_au                       16778 non-null  float64\n",
      " 48  rougher.output.recovery                             14287 non-null  float64\n",
      " 49  rougher.output.tail_ag                              14610 non-null  float64\n",
      " 50  rougher.output.tail_pb                              16778 non-null  float64\n",
      " 51  rougher.output.tail_sol                             14611 non-null  float64\n",
      " 52  rougher.output.tail_au                              14611 non-null  float64\n",
      " 53  rougher.state.floatbank10_a_air                     16807 non-null  float64\n",
      " 54  rougher.state.floatbank10_a_level                   16807 non-null  float64\n",
      " 55  rougher.state.floatbank10_b_air                     16807 non-null  float64\n",
      " 56  rougher.state.floatbank10_b_level                   16807 non-null  float64\n",
      " 57  rougher.state.floatbank10_c_air                     16807 non-null  float64\n",
      " 58  rougher.state.floatbank10_c_level                   16814 non-null  float64\n",
      " 59  rougher.state.floatbank10_d_air                     16802 non-null  float64\n",
      " 60  rougher.state.floatbank10_d_level                   16809 non-null  float64\n",
      " 61  rougher.state.floatbank10_e_air                     16257 non-null  float64\n",
      " 62  rougher.state.floatbank10_e_level                   16809 non-null  float64\n",
      " 63  rougher.state.floatbank10_f_air                     16802 non-null  float64\n",
      " 64  rougher.state.floatbank10_f_level                   16802 non-null  float64\n",
      " 65  secondary_cleaner.output.tail_ag                    16776 non-null  float64\n",
      " 66  secondary_cleaner.output.tail_pb                    16764 non-null  float64\n",
      " 67  secondary_cleaner.output.tail_sol                   14874 non-null  float64\n",
      " 68  secondary_cleaner.output.tail_au                    16778 non-null  float64\n",
      " 69  secondary_cleaner.state.floatbank2_a_air            16497 non-null  float64\n",
      " 70  secondary_cleaner.state.floatbank2_a_level          16751 non-null  float64\n",
      " 71  secondary_cleaner.state.floatbank2_b_air            16705 non-null  float64\n",
      " 72  secondary_cleaner.state.floatbank2_b_level          16748 non-null  float64\n",
      " 73  secondary_cleaner.state.floatbank3_a_air            16763 non-null  float64\n",
      " 74  secondary_cleaner.state.floatbank3_a_level          16747 non-null  float64\n",
      " 75  secondary_cleaner.state.floatbank3_b_air            16752 non-null  float64\n",
      " 76  secondary_cleaner.state.floatbank3_b_level          16750 non-null  float64\n",
      " 77  secondary_cleaner.state.floatbank4_a_air            16731 non-null  float64\n",
      " 78  secondary_cleaner.state.floatbank4_a_level          16747 non-null  float64\n",
      " 79  secondary_cleaner.state.floatbank4_b_air            16768 non-null  float64\n",
      " 80  secondary_cleaner.state.floatbank4_b_level          16767 non-null  float64\n",
      " 81  secondary_cleaner.state.floatbank5_a_air            16775 non-null  float64\n",
      " 82  secondary_cleaner.state.floatbank5_a_level          16775 non-null  float64\n",
      " 83  secondary_cleaner.state.floatbank5_b_air            16775 non-null  float64\n",
      " 84  secondary_cleaner.state.floatbank5_b_level          16776 non-null  float64\n",
      " 85  secondary_cleaner.state.floatbank6_a_air            16757 non-null  float64\n",
      " 86  secondary_cleaner.state.floatbank6_a_level          16775 non-null  float64\n",
      "dtypes: float64(86), object(1)\n",
      "memory usage: 11.2+ MB\n"
     ]
    }
   ],
   "source": [
    "train_data.info()"
   ]
  },
  {
   "cell_type": "code",
   "execution_count": 12,
   "metadata": {
    "scrolled": false
   },
   "outputs": [
    {
     "data": {
      "text/html": [
       "<div>\n",
       "<style scoped>\n",
       "    .dataframe tbody tr th:only-of-type {\n",
       "        vertical-align: middle;\n",
       "    }\n",
       "\n",
       "    .dataframe tbody tr th {\n",
       "        vertical-align: top;\n",
       "    }\n",
       "\n",
       "    .dataframe thead th {\n",
       "        text-align: right;\n",
       "    }\n",
       "</style>\n",
       "<table border=\"1\" class=\"dataframe\">\n",
       "  <thead>\n",
       "    <tr style=\"text-align: right;\">\n",
       "      <th></th>\n",
       "      <th>date</th>\n",
       "      <th>primary_cleaner.input.sulfate</th>\n",
       "      <th>primary_cleaner.input.depressant</th>\n",
       "      <th>primary_cleaner.input.feed_size</th>\n",
       "      <th>primary_cleaner.input.xanthate</th>\n",
       "      <th>primary_cleaner.state.floatbank8_a_air</th>\n",
       "      <th>primary_cleaner.state.floatbank8_a_level</th>\n",
       "      <th>primary_cleaner.state.floatbank8_b_air</th>\n",
       "      <th>primary_cleaner.state.floatbank8_b_level</th>\n",
       "      <th>primary_cleaner.state.floatbank8_c_air</th>\n",
       "      <th>primary_cleaner.state.floatbank8_c_level</th>\n",
       "      <th>primary_cleaner.state.floatbank8_d_air</th>\n",
       "      <th>primary_cleaner.state.floatbank8_d_level</th>\n",
       "      <th>rougher.input.feed_ag</th>\n",
       "      <th>rougher.input.feed_pb</th>\n",
       "      <th>rougher.input.feed_rate</th>\n",
       "      <th>rougher.input.feed_size</th>\n",
       "      <th>rougher.input.feed_sol</th>\n",
       "      <th>rougher.input.feed_au</th>\n",
       "      <th>rougher.input.floatbank10_sulfate</th>\n",
       "      <th>rougher.input.floatbank10_xanthate</th>\n",
       "      <th>rougher.input.floatbank11_sulfate</th>\n",
       "      <th>rougher.input.floatbank11_xanthate</th>\n",
       "      <th>rougher.state.floatbank10_a_air</th>\n",
       "      <th>rougher.state.floatbank10_a_level</th>\n",
       "      <th>rougher.state.floatbank10_b_air</th>\n",
       "      <th>rougher.state.floatbank10_b_level</th>\n",
       "      <th>rougher.state.floatbank10_c_air</th>\n",
       "      <th>rougher.state.floatbank10_c_level</th>\n",
       "      <th>rougher.state.floatbank10_d_air</th>\n",
       "      <th>rougher.state.floatbank10_d_level</th>\n",
       "      <th>rougher.state.floatbank10_e_air</th>\n",
       "      <th>rougher.state.floatbank10_e_level</th>\n",
       "      <th>rougher.state.floatbank10_f_air</th>\n",
       "      <th>rougher.state.floatbank10_f_level</th>\n",
       "      <th>secondary_cleaner.state.floatbank2_a_air</th>\n",
       "      <th>secondary_cleaner.state.floatbank2_a_level</th>\n",
       "      <th>secondary_cleaner.state.floatbank2_b_air</th>\n",
       "      <th>secondary_cleaner.state.floatbank2_b_level</th>\n",
       "      <th>secondary_cleaner.state.floatbank3_a_air</th>\n",
       "      <th>secondary_cleaner.state.floatbank3_a_level</th>\n",
       "      <th>secondary_cleaner.state.floatbank3_b_air</th>\n",
       "      <th>secondary_cleaner.state.floatbank3_b_level</th>\n",
       "      <th>secondary_cleaner.state.floatbank4_a_air</th>\n",
       "      <th>secondary_cleaner.state.floatbank4_a_level</th>\n",
       "      <th>secondary_cleaner.state.floatbank4_b_air</th>\n",
       "      <th>secondary_cleaner.state.floatbank4_b_level</th>\n",
       "      <th>secondary_cleaner.state.floatbank5_a_air</th>\n",
       "      <th>secondary_cleaner.state.floatbank5_a_level</th>\n",
       "      <th>secondary_cleaner.state.floatbank5_b_air</th>\n",
       "      <th>secondary_cleaner.state.floatbank5_b_level</th>\n",
       "      <th>secondary_cleaner.state.floatbank6_a_air</th>\n",
       "      <th>secondary_cleaner.state.floatbank6_a_level</th>\n",
       "    </tr>\n",
       "  </thead>\n",
       "  <tbody>\n",
       "    <tr>\n",
       "      <th>0</th>\n",
       "      <td>2016-09-01 00:59:59</td>\n",
       "      <td>210.800909</td>\n",
       "      <td>14.993118</td>\n",
       "      <td>8.080000</td>\n",
       "      <td>1.005021</td>\n",
       "      <td>1398.981301</td>\n",
       "      <td>-500.225577</td>\n",
       "      <td>1399.144926</td>\n",
       "      <td>-499.919735</td>\n",
       "      <td>1400.102998</td>\n",
       "      <td>-500.704369</td>\n",
       "      <td>1399.001695</td>\n",
       "      <td>-499.485144</td>\n",
       "      <td>13.128569</td>\n",
       "      <td>5.636710</td>\n",
       "      <td>489.793655</td>\n",
       "      <td>62.710452</td>\n",
       "      <td>42.022440</td>\n",
       "      <td>12.084103</td>\n",
       "      <td>16.922877</td>\n",
       "      <td>6.153479</td>\n",
       "      <td>16.867518</td>\n",
       "      <td>6.150709</td>\n",
       "      <td>1001.849317</td>\n",
       "      <td>-350.301265</td>\n",
       "      <td>1249.738612</td>\n",
       "      <td>-399.107531</td>\n",
       "      <td>1249.750520</td>\n",
       "      <td>-399.396730</td>\n",
       "      <td>1198.287855</td>\n",
       "      <td>-399.488594</td>\n",
       "      <td>999.472250</td>\n",
       "      <td>-399.530962</td>\n",
       "      <td>949.566189</td>\n",
       "      <td>-398.180807</td>\n",
       "      <td>24.938200</td>\n",
       "      <td>-500.490963</td>\n",
       "      <td>14.947607</td>\n",
       "      <td>-500.013837</td>\n",
       "      <td>20.018166</td>\n",
       "      <td>-450.395995</td>\n",
       "      <td>13.987058</td>\n",
       "      <td>-449.831513</td>\n",
       "      <td>12.023554</td>\n",
       "      <td>-497.795834</td>\n",
       "      <td>8.016656</td>\n",
       "      <td>-501.289139</td>\n",
       "      <td>7.946562</td>\n",
       "      <td>-432.317850</td>\n",
       "      <td>4.872511</td>\n",
       "      <td>-500.037437</td>\n",
       "      <td>26.705889</td>\n",
       "      <td>-499.709414</td>\n",
       "    </tr>\n",
       "    <tr>\n",
       "      <th>1</th>\n",
       "      <td>2016-09-01 01:59:59</td>\n",
       "      <td>215.392455</td>\n",
       "      <td>14.987471</td>\n",
       "      <td>8.080000</td>\n",
       "      <td>0.990469</td>\n",
       "      <td>1398.777912</td>\n",
       "      <td>-500.057435</td>\n",
       "      <td>1398.055362</td>\n",
       "      <td>-499.778182</td>\n",
       "      <td>1396.151033</td>\n",
       "      <td>-499.240168</td>\n",
       "      <td>1399.508091</td>\n",
       "      <td>-500.416324</td>\n",
       "      <td>13.036280</td>\n",
       "      <td>5.526065</td>\n",
       "      <td>490.104534</td>\n",
       "      <td>61.961163</td>\n",
       "      <td>41.187903</td>\n",
       "      <td>11.918977</td>\n",
       "      <td>17.002532</td>\n",
       "      <td>5.999043</td>\n",
       "      <td>16.996063</td>\n",
       "      <td>6.002315</td>\n",
       "      <td>998.690785</td>\n",
       "      <td>-350.425704</td>\n",
       "      <td>1248.395457</td>\n",
       "      <td>-399.946025</td>\n",
       "      <td>1249.514451</td>\n",
       "      <td>-399.630810</td>\n",
       "      <td>1200.506459</td>\n",
       "      <td>-399.942434</td>\n",
       "      <td>1000.002114</td>\n",
       "      <td>-399.491528</td>\n",
       "      <td>950.200009</td>\n",
       "      <td>-405.787514</td>\n",
       "      <td>24.923466</td>\n",
       "      <td>-499.813963</td>\n",
       "      <td>14.930873</td>\n",
       "      <td>-500.764452</td>\n",
       "      <td>19.988503</td>\n",
       "      <td>-450.114024</td>\n",
       "      <td>14.092981</td>\n",
       "      <td>-450.059163</td>\n",
       "      <td>12.058140</td>\n",
       "      <td>-498.695773</td>\n",
       "      <td>8.130979</td>\n",
       "      <td>-499.634209</td>\n",
       "      <td>7.958270</td>\n",
       "      <td>-525.839648</td>\n",
       "      <td>4.878850</td>\n",
       "      <td>-500.162375</td>\n",
       "      <td>25.019940</td>\n",
       "      <td>-499.819438</td>\n",
       "    </tr>\n",
       "    <tr>\n",
       "      <th>2</th>\n",
       "      <td>2016-09-01 02:59:59</td>\n",
       "      <td>215.259946</td>\n",
       "      <td>12.884934</td>\n",
       "      <td>7.786667</td>\n",
       "      <td>0.996043</td>\n",
       "      <td>1398.493666</td>\n",
       "      <td>-500.868360</td>\n",
       "      <td>1398.860436</td>\n",
       "      <td>-499.764529</td>\n",
       "      <td>1398.075709</td>\n",
       "      <td>-502.151509</td>\n",
       "      <td>1399.497088</td>\n",
       "      <td>-499.715479</td>\n",
       "      <td>13.138412</td>\n",
       "      <td>5.426561</td>\n",
       "      <td>489.617969</td>\n",
       "      <td>66.903807</td>\n",
       "      <td>42.546294</td>\n",
       "      <td>12.091332</td>\n",
       "      <td>16.992520</td>\n",
       "      <td>5.850632</td>\n",
       "      <td>16.982096</td>\n",
       "      <td>5.853594</td>\n",
       "      <td>998.516720</td>\n",
       "      <td>-349.783538</td>\n",
       "      <td>1247.440748</td>\n",
       "      <td>-400.264330</td>\n",
       "      <td>1248.207204</td>\n",
       "      <td>-401.074405</td>\n",
       "      <td>1199.770026</td>\n",
       "      <td>-400.790582</td>\n",
       "      <td>999.925519</td>\n",
       "      <td>-399.236999</td>\n",
       "      <td>950.320481</td>\n",
       "      <td>-400.864340</td>\n",
       "      <td>24.908732</td>\n",
       "      <td>-500.304035</td>\n",
       "      <td>14.996511</td>\n",
       "      <td>-500.993821</td>\n",
       "      <td>20.039689</td>\n",
       "      <td>-450.263164</td>\n",
       "      <td>14.077881</td>\n",
       "      <td>-449.660997</td>\n",
       "      <td>11.962366</td>\n",
       "      <td>-498.767484</td>\n",
       "      <td>8.096893</td>\n",
       "      <td>-500.827423</td>\n",
       "      <td>8.071056</td>\n",
       "      <td>-500.801673</td>\n",
       "      <td>4.905125</td>\n",
       "      <td>-499.828510</td>\n",
       "      <td>24.994862</td>\n",
       "      <td>-500.622559</td>\n",
       "    </tr>\n",
       "  </tbody>\n",
       "</table>\n",
       "</div>"
      ],
      "text/plain": [
       "                  date  primary_cleaner.input.sulfate  \\\n",
       "0  2016-09-01 00:59:59                     210.800909   \n",
       "1  2016-09-01 01:59:59                     215.392455   \n",
       "2  2016-09-01 02:59:59                     215.259946   \n",
       "\n",
       "   primary_cleaner.input.depressant  primary_cleaner.input.feed_size  \\\n",
       "0                         14.993118                         8.080000   \n",
       "1                         14.987471                         8.080000   \n",
       "2                         12.884934                         7.786667   \n",
       "\n",
       "   primary_cleaner.input.xanthate  primary_cleaner.state.floatbank8_a_air  \\\n",
       "0                        1.005021                             1398.981301   \n",
       "1                        0.990469                             1398.777912   \n",
       "2                        0.996043                             1398.493666   \n",
       "\n",
       "   primary_cleaner.state.floatbank8_a_level  \\\n",
       "0                               -500.225577   \n",
       "1                               -500.057435   \n",
       "2                               -500.868360   \n",
       "\n",
       "   primary_cleaner.state.floatbank8_b_air  \\\n",
       "0                             1399.144926   \n",
       "1                             1398.055362   \n",
       "2                             1398.860436   \n",
       "\n",
       "   primary_cleaner.state.floatbank8_b_level  \\\n",
       "0                               -499.919735   \n",
       "1                               -499.778182   \n",
       "2                               -499.764529   \n",
       "\n",
       "   primary_cleaner.state.floatbank8_c_air  \\\n",
       "0                             1400.102998   \n",
       "1                             1396.151033   \n",
       "2                             1398.075709   \n",
       "\n",
       "   primary_cleaner.state.floatbank8_c_level  \\\n",
       "0                               -500.704369   \n",
       "1                               -499.240168   \n",
       "2                               -502.151509   \n",
       "\n",
       "   primary_cleaner.state.floatbank8_d_air  \\\n",
       "0                             1399.001695   \n",
       "1                             1399.508091   \n",
       "2                             1399.497088   \n",
       "\n",
       "   primary_cleaner.state.floatbank8_d_level  rougher.input.feed_ag  \\\n",
       "0                               -499.485144              13.128569   \n",
       "1                               -500.416324              13.036280   \n",
       "2                               -499.715479              13.138412   \n",
       "\n",
       "   rougher.input.feed_pb  rougher.input.feed_rate  rougher.input.feed_size  \\\n",
       "0               5.636710               489.793655                62.710452   \n",
       "1               5.526065               490.104534                61.961163   \n",
       "2               5.426561               489.617969                66.903807   \n",
       "\n",
       "   rougher.input.feed_sol  rougher.input.feed_au  \\\n",
       "0               42.022440              12.084103   \n",
       "1               41.187903              11.918977   \n",
       "2               42.546294              12.091332   \n",
       "\n",
       "   rougher.input.floatbank10_sulfate  rougher.input.floatbank10_xanthate  \\\n",
       "0                          16.922877                            6.153479   \n",
       "1                          17.002532                            5.999043   \n",
       "2                          16.992520                            5.850632   \n",
       "\n",
       "   rougher.input.floatbank11_sulfate  rougher.input.floatbank11_xanthate  \\\n",
       "0                          16.867518                            6.150709   \n",
       "1                          16.996063                            6.002315   \n",
       "2                          16.982096                            5.853594   \n",
       "\n",
       "   rougher.state.floatbank10_a_air  rougher.state.floatbank10_a_level  \\\n",
       "0                      1001.849317                        -350.301265   \n",
       "1                       998.690785                        -350.425704   \n",
       "2                       998.516720                        -349.783538   \n",
       "\n",
       "   rougher.state.floatbank10_b_air  rougher.state.floatbank10_b_level  \\\n",
       "0                      1249.738612                        -399.107531   \n",
       "1                      1248.395457                        -399.946025   \n",
       "2                      1247.440748                        -400.264330   \n",
       "\n",
       "   rougher.state.floatbank10_c_air  rougher.state.floatbank10_c_level  \\\n",
       "0                      1249.750520                        -399.396730   \n",
       "1                      1249.514451                        -399.630810   \n",
       "2                      1248.207204                        -401.074405   \n",
       "\n",
       "   rougher.state.floatbank10_d_air  rougher.state.floatbank10_d_level  \\\n",
       "0                      1198.287855                        -399.488594   \n",
       "1                      1200.506459                        -399.942434   \n",
       "2                      1199.770026                        -400.790582   \n",
       "\n",
       "   rougher.state.floatbank10_e_air  rougher.state.floatbank10_e_level  \\\n",
       "0                       999.472250                        -399.530962   \n",
       "1                      1000.002114                        -399.491528   \n",
       "2                       999.925519                        -399.236999   \n",
       "\n",
       "   rougher.state.floatbank10_f_air  rougher.state.floatbank10_f_level  \\\n",
       "0                       949.566189                        -398.180807   \n",
       "1                       950.200009                        -405.787514   \n",
       "2                       950.320481                        -400.864340   \n",
       "\n",
       "   secondary_cleaner.state.floatbank2_a_air  \\\n",
       "0                                 24.938200   \n",
       "1                                 24.923466   \n",
       "2                                 24.908732   \n",
       "\n",
       "   secondary_cleaner.state.floatbank2_a_level  \\\n",
       "0                                 -500.490963   \n",
       "1                                 -499.813963   \n",
       "2                                 -500.304035   \n",
       "\n",
       "   secondary_cleaner.state.floatbank2_b_air  \\\n",
       "0                                 14.947607   \n",
       "1                                 14.930873   \n",
       "2                                 14.996511   \n",
       "\n",
       "   secondary_cleaner.state.floatbank2_b_level  \\\n",
       "0                                 -500.013837   \n",
       "1                                 -500.764452   \n",
       "2                                 -500.993821   \n",
       "\n",
       "   secondary_cleaner.state.floatbank3_a_air  \\\n",
       "0                                 20.018166   \n",
       "1                                 19.988503   \n",
       "2                                 20.039689   \n",
       "\n",
       "   secondary_cleaner.state.floatbank3_a_level  \\\n",
       "0                                 -450.395995   \n",
       "1                                 -450.114024   \n",
       "2                                 -450.263164   \n",
       "\n",
       "   secondary_cleaner.state.floatbank3_b_air  \\\n",
       "0                                 13.987058   \n",
       "1                                 14.092981   \n",
       "2                                 14.077881   \n",
       "\n",
       "   secondary_cleaner.state.floatbank3_b_level  \\\n",
       "0                                 -449.831513   \n",
       "1                                 -450.059163   \n",
       "2                                 -449.660997   \n",
       "\n",
       "   secondary_cleaner.state.floatbank4_a_air  \\\n",
       "0                                 12.023554   \n",
       "1                                 12.058140   \n",
       "2                                 11.962366   \n",
       "\n",
       "   secondary_cleaner.state.floatbank4_a_level  \\\n",
       "0                                 -497.795834   \n",
       "1                                 -498.695773   \n",
       "2                                 -498.767484   \n",
       "\n",
       "   secondary_cleaner.state.floatbank4_b_air  \\\n",
       "0                                  8.016656   \n",
       "1                                  8.130979   \n",
       "2                                  8.096893   \n",
       "\n",
       "   secondary_cleaner.state.floatbank4_b_level  \\\n",
       "0                                 -501.289139   \n",
       "1                                 -499.634209   \n",
       "2                                 -500.827423   \n",
       "\n",
       "   secondary_cleaner.state.floatbank5_a_air  \\\n",
       "0                                  7.946562   \n",
       "1                                  7.958270   \n",
       "2                                  8.071056   \n",
       "\n",
       "   secondary_cleaner.state.floatbank5_a_level  \\\n",
       "0                                 -432.317850   \n",
       "1                                 -525.839648   \n",
       "2                                 -500.801673   \n",
       "\n",
       "   secondary_cleaner.state.floatbank5_b_air  \\\n",
       "0                                  4.872511   \n",
       "1                                  4.878850   \n",
       "2                                  4.905125   \n",
       "\n",
       "   secondary_cleaner.state.floatbank5_b_level  \\\n",
       "0                                 -500.037437   \n",
       "1                                 -500.162375   \n",
       "2                                 -499.828510   \n",
       "\n",
       "   secondary_cleaner.state.floatbank6_a_air  \\\n",
       "0                                 26.705889   \n",
       "1                                 25.019940   \n",
       "2                                 24.994862   \n",
       "\n",
       "   secondary_cleaner.state.floatbank6_a_level  \n",
       "0                                 -499.709414  \n",
       "1                                 -499.819438  \n",
       "2                                 -500.622559  "
      ]
     },
     "execution_count": 12,
     "metadata": {},
     "output_type": "execute_result"
    }
   ],
   "source": [
    "test_data.head(3)"
   ]
  },
  {
   "cell_type": "code",
   "execution_count": 13,
   "metadata": {},
   "outputs": [
    {
     "name": "stdout",
     "output_type": "stream",
     "text": [
      "<class 'pandas.core.frame.DataFrame'>\n",
      "RangeIndex: 5856 entries, 0 to 5855\n",
      "Data columns (total 53 columns):\n",
      " #   Column                                      Non-Null Count  Dtype  \n",
      "---  ------                                      --------------  -----  \n",
      " 0   date                                        5856 non-null   object \n",
      " 1   primary_cleaner.input.sulfate               5554 non-null   float64\n",
      " 2   primary_cleaner.input.depressant            5572 non-null   float64\n",
      " 3   primary_cleaner.input.feed_size             5856 non-null   float64\n",
      " 4   primary_cleaner.input.xanthate              5690 non-null   float64\n",
      " 5   primary_cleaner.state.floatbank8_a_air      5840 non-null   float64\n",
      " 6   primary_cleaner.state.floatbank8_a_level    5840 non-null   float64\n",
      " 7   primary_cleaner.state.floatbank8_b_air      5840 non-null   float64\n",
      " 8   primary_cleaner.state.floatbank8_b_level    5840 non-null   float64\n",
      " 9   primary_cleaner.state.floatbank8_c_air      5840 non-null   float64\n",
      " 10  primary_cleaner.state.floatbank8_c_level    5840 non-null   float64\n",
      " 11  primary_cleaner.state.floatbank8_d_air      5840 non-null   float64\n",
      " 12  primary_cleaner.state.floatbank8_d_level    5840 non-null   float64\n",
      " 13  rougher.input.feed_ag                       5840 non-null   float64\n",
      " 14  rougher.input.feed_pb                       5840 non-null   float64\n",
      " 15  rougher.input.feed_rate                     5816 non-null   float64\n",
      " 16  rougher.input.feed_size                     5834 non-null   float64\n",
      " 17  rougher.input.feed_sol                      5789 non-null   float64\n",
      " 18  rougher.input.feed_au                       5840 non-null   float64\n",
      " 19  rougher.input.floatbank10_sulfate           5599 non-null   float64\n",
      " 20  rougher.input.floatbank10_xanthate          5733 non-null   float64\n",
      " 21  rougher.input.floatbank11_sulfate           5801 non-null   float64\n",
      " 22  rougher.input.floatbank11_xanthate          5503 non-null   float64\n",
      " 23  rougher.state.floatbank10_a_air             5839 non-null   float64\n",
      " 24  rougher.state.floatbank10_a_level           5840 non-null   float64\n",
      " 25  rougher.state.floatbank10_b_air             5839 non-null   float64\n",
      " 26  rougher.state.floatbank10_b_level           5840 non-null   float64\n",
      " 27  rougher.state.floatbank10_c_air             5839 non-null   float64\n",
      " 28  rougher.state.floatbank10_c_level           5840 non-null   float64\n",
      " 29  rougher.state.floatbank10_d_air             5839 non-null   float64\n",
      " 30  rougher.state.floatbank10_d_level           5840 non-null   float64\n",
      " 31  rougher.state.floatbank10_e_air             5839 non-null   float64\n",
      " 32  rougher.state.floatbank10_e_level           5840 non-null   float64\n",
      " 33  rougher.state.floatbank10_f_air             5839 non-null   float64\n",
      " 34  rougher.state.floatbank10_f_level           5840 non-null   float64\n",
      " 35  secondary_cleaner.state.floatbank2_a_air    5836 non-null   float64\n",
      " 36  secondary_cleaner.state.floatbank2_a_level  5840 non-null   float64\n",
      " 37  secondary_cleaner.state.floatbank2_b_air    5833 non-null   float64\n",
      " 38  secondary_cleaner.state.floatbank2_b_level  5840 non-null   float64\n",
      " 39  secondary_cleaner.state.floatbank3_a_air    5822 non-null   float64\n",
      " 40  secondary_cleaner.state.floatbank3_a_level  5840 non-null   float64\n",
      " 41  secondary_cleaner.state.floatbank3_b_air    5840 non-null   float64\n",
      " 42  secondary_cleaner.state.floatbank3_b_level  5840 non-null   float64\n",
      " 43  secondary_cleaner.state.floatbank4_a_air    5840 non-null   float64\n",
      " 44  secondary_cleaner.state.floatbank4_a_level  5840 non-null   float64\n",
      " 45  secondary_cleaner.state.floatbank4_b_air    5840 non-null   float64\n",
      " 46  secondary_cleaner.state.floatbank4_b_level  5840 non-null   float64\n",
      " 47  secondary_cleaner.state.floatbank5_a_air    5840 non-null   float64\n",
      " 48  secondary_cleaner.state.floatbank5_a_level  5840 non-null   float64\n",
      " 49  secondary_cleaner.state.floatbank5_b_air    5840 non-null   float64\n",
      " 50  secondary_cleaner.state.floatbank5_b_level  5840 non-null   float64\n",
      " 51  secondary_cleaner.state.floatbank6_a_air    5840 non-null   float64\n",
      " 52  secondary_cleaner.state.floatbank6_a_level  5840 non-null   float64\n",
      "dtypes: float64(52), object(1)\n",
      "memory usage: 2.4+ MB\n"
     ]
    }
   ],
   "source": [
    "test_data.info()"
   ]
  },
  {
   "cell_type": "code",
   "execution_count": 14,
   "metadata": {},
   "outputs": [
    {
     "data": {
      "text/html": [
       "<div>\n",
       "<style scoped>\n",
       "    .dataframe tbody tr th:only-of-type {\n",
       "        vertical-align: middle;\n",
       "    }\n",
       "\n",
       "    .dataframe tbody tr th {\n",
       "        vertical-align: top;\n",
       "    }\n",
       "\n",
       "    .dataframe thead th {\n",
       "        text-align: right;\n",
       "    }\n",
       "</style>\n",
       "<table border=\"1\" class=\"dataframe\">\n",
       "  <thead>\n",
       "    <tr style=\"text-align: right;\">\n",
       "      <th></th>\n",
       "      <th>date</th>\n",
       "      <th>final.output.concentrate_ag</th>\n",
       "      <th>final.output.concentrate_pb</th>\n",
       "      <th>final.output.concentrate_sol</th>\n",
       "      <th>final.output.concentrate_au</th>\n",
       "      <th>final.output.recovery</th>\n",
       "      <th>final.output.tail_ag</th>\n",
       "      <th>final.output.tail_pb</th>\n",
       "      <th>final.output.tail_sol</th>\n",
       "      <th>final.output.tail_au</th>\n",
       "      <th>primary_cleaner.input.sulfate</th>\n",
       "      <th>primary_cleaner.input.depressant</th>\n",
       "      <th>primary_cleaner.input.feed_size</th>\n",
       "      <th>primary_cleaner.input.xanthate</th>\n",
       "      <th>primary_cleaner.output.concentrate_ag</th>\n",
       "      <th>primary_cleaner.output.concentrate_pb</th>\n",
       "      <th>primary_cleaner.output.concentrate_sol</th>\n",
       "      <th>primary_cleaner.output.concentrate_au</th>\n",
       "      <th>primary_cleaner.output.tail_ag</th>\n",
       "      <th>primary_cleaner.output.tail_pb</th>\n",
       "      <th>primary_cleaner.output.tail_sol</th>\n",
       "      <th>primary_cleaner.output.tail_au</th>\n",
       "      <th>primary_cleaner.state.floatbank8_a_air</th>\n",
       "      <th>primary_cleaner.state.floatbank8_a_level</th>\n",
       "      <th>primary_cleaner.state.floatbank8_b_air</th>\n",
       "      <th>primary_cleaner.state.floatbank8_b_level</th>\n",
       "      <th>primary_cleaner.state.floatbank8_c_air</th>\n",
       "      <th>primary_cleaner.state.floatbank8_c_level</th>\n",
       "      <th>primary_cleaner.state.floatbank8_d_air</th>\n",
       "      <th>primary_cleaner.state.floatbank8_d_level</th>\n",
       "      <th>rougher.calculation.sulfate_to_au_concentrate</th>\n",
       "      <th>rougher.calculation.floatbank10_sulfate_to_au_feed</th>\n",
       "      <th>rougher.calculation.floatbank11_sulfate_to_au_feed</th>\n",
       "      <th>rougher.calculation.au_pb_ratio</th>\n",
       "      <th>rougher.input.feed_ag</th>\n",
       "      <th>rougher.input.feed_pb</th>\n",
       "      <th>rougher.input.feed_rate</th>\n",
       "      <th>rougher.input.feed_size</th>\n",
       "      <th>rougher.input.feed_sol</th>\n",
       "      <th>rougher.input.feed_au</th>\n",
       "      <th>rougher.input.floatbank10_sulfate</th>\n",
       "      <th>rougher.input.floatbank10_xanthate</th>\n",
       "      <th>rougher.input.floatbank11_sulfate</th>\n",
       "      <th>rougher.input.floatbank11_xanthate</th>\n",
       "      <th>rougher.output.concentrate_ag</th>\n",
       "      <th>rougher.output.concentrate_pb</th>\n",
       "      <th>rougher.output.concentrate_sol</th>\n",
       "      <th>rougher.output.concentrate_au</th>\n",
       "      <th>rougher.output.recovery</th>\n",
       "      <th>rougher.output.tail_ag</th>\n",
       "      <th>rougher.output.tail_pb</th>\n",
       "      <th>rougher.output.tail_sol</th>\n",
       "      <th>rougher.output.tail_au</th>\n",
       "      <th>rougher.state.floatbank10_a_air</th>\n",
       "      <th>rougher.state.floatbank10_a_level</th>\n",
       "      <th>rougher.state.floatbank10_b_air</th>\n",
       "      <th>rougher.state.floatbank10_b_level</th>\n",
       "      <th>rougher.state.floatbank10_c_air</th>\n",
       "      <th>rougher.state.floatbank10_c_level</th>\n",
       "      <th>rougher.state.floatbank10_d_air</th>\n",
       "      <th>rougher.state.floatbank10_d_level</th>\n",
       "      <th>rougher.state.floatbank10_e_air</th>\n",
       "      <th>rougher.state.floatbank10_e_level</th>\n",
       "      <th>rougher.state.floatbank10_f_air</th>\n",
       "      <th>rougher.state.floatbank10_f_level</th>\n",
       "      <th>secondary_cleaner.output.tail_ag</th>\n",
       "      <th>secondary_cleaner.output.tail_pb</th>\n",
       "      <th>secondary_cleaner.output.tail_sol</th>\n",
       "      <th>secondary_cleaner.output.tail_au</th>\n",
       "      <th>secondary_cleaner.state.floatbank2_a_air</th>\n",
       "      <th>secondary_cleaner.state.floatbank2_a_level</th>\n",
       "      <th>secondary_cleaner.state.floatbank2_b_air</th>\n",
       "      <th>secondary_cleaner.state.floatbank2_b_level</th>\n",
       "      <th>secondary_cleaner.state.floatbank3_a_air</th>\n",
       "      <th>secondary_cleaner.state.floatbank3_a_level</th>\n",
       "      <th>secondary_cleaner.state.floatbank3_b_air</th>\n",
       "      <th>secondary_cleaner.state.floatbank3_b_level</th>\n",
       "      <th>secondary_cleaner.state.floatbank4_a_air</th>\n",
       "      <th>secondary_cleaner.state.floatbank4_a_level</th>\n",
       "      <th>secondary_cleaner.state.floatbank4_b_air</th>\n",
       "      <th>secondary_cleaner.state.floatbank4_b_level</th>\n",
       "      <th>secondary_cleaner.state.floatbank5_a_air</th>\n",
       "      <th>secondary_cleaner.state.floatbank5_a_level</th>\n",
       "      <th>secondary_cleaner.state.floatbank5_b_air</th>\n",
       "      <th>secondary_cleaner.state.floatbank5_b_level</th>\n",
       "      <th>secondary_cleaner.state.floatbank6_a_air</th>\n",
       "      <th>secondary_cleaner.state.floatbank6_a_level</th>\n",
       "    </tr>\n",
       "  </thead>\n",
       "  <tbody>\n",
       "    <tr>\n",
       "      <th>0</th>\n",
       "      <td>2016-01-15 00:00:00</td>\n",
       "      <td>6.055403</td>\n",
       "      <td>9.889648</td>\n",
       "      <td>5.507324</td>\n",
       "      <td>42.192020</td>\n",
       "      <td>70.541216</td>\n",
       "      <td>10.411962</td>\n",
       "      <td>0.895447</td>\n",
       "      <td>16.904297</td>\n",
       "      <td>2.143149</td>\n",
       "      <td>127.092003</td>\n",
       "      <td>10.128295</td>\n",
       "      <td>7.25</td>\n",
       "      <td>0.988759</td>\n",
       "      <td>8.547551</td>\n",
       "      <td>10.389648</td>\n",
       "      <td>19.529297</td>\n",
       "      <td>34.174427</td>\n",
       "      <td>14.936526</td>\n",
       "      <td>2.534912</td>\n",
       "      <td>7.476074</td>\n",
       "      <td>2.106679</td>\n",
       "      <td>1549.775757</td>\n",
       "      <td>-498.912140</td>\n",
       "      <td>1551.434204</td>\n",
       "      <td>-516.403442</td>\n",
       "      <td>1549.873901</td>\n",
       "      <td>-498.666595</td>\n",
       "      <td>1554.367432</td>\n",
       "      <td>-493.428131</td>\n",
       "      <td>41885.707031</td>\n",
       "      <td>3481.779053</td>\n",
       "      <td>3520.337158</td>\n",
       "      <td>2.838687</td>\n",
       "      <td>6.100378</td>\n",
       "      <td>2.284912</td>\n",
       "      <td>523.546326</td>\n",
       "      <td>55.486599</td>\n",
       "      <td>36.808594</td>\n",
       "      <td>6.486150</td>\n",
       "      <td>11.986616</td>\n",
       "      <td>6.007990</td>\n",
       "      <td>11.836743</td>\n",
       "      <td>6.005818</td>\n",
       "      <td>11.500771</td>\n",
       "      <td>7.101074</td>\n",
       "      <td>28.029297</td>\n",
       "      <td>19.793808</td>\n",
       "      <td>87.107763</td>\n",
       "      <td>5.008018</td>\n",
       "      <td>0.508728</td>\n",
       "      <td>19.154297</td>\n",
       "      <td>1.170244</td>\n",
       "      <td>999.706909</td>\n",
       "      <td>-404.066986</td>\n",
       "      <td>1603.011353</td>\n",
       "      <td>-434.715027</td>\n",
       "      <td>1602.375000</td>\n",
       "      <td>-442.204468</td>\n",
       "      <td>1598.937256</td>\n",
       "      <td>-451.294128</td>\n",
       "      <td>1404.472046</td>\n",
       "      <td>-455.462982</td>\n",
       "      <td>1416.354980</td>\n",
       "      <td>-451.939636</td>\n",
       "      <td>14.500184</td>\n",
       "      <td>4.694824</td>\n",
       "      <td>8.764648</td>\n",
       "      <td>2.606185</td>\n",
       "      <td>25.853109</td>\n",
       "      <td>-498.526489</td>\n",
       "      <td>23.893660</td>\n",
       "      <td>-501.406281</td>\n",
       "      <td>23.961798</td>\n",
       "      <td>-495.262817</td>\n",
       "      <td>21.940409</td>\n",
       "      <td>-499.340973</td>\n",
       "      <td>14.016835</td>\n",
       "      <td>-502.488007</td>\n",
       "      <td>12.099931</td>\n",
       "      <td>-504.715942</td>\n",
       "      <td>9.925633</td>\n",
       "      <td>-498.310211</td>\n",
       "      <td>8.079666</td>\n",
       "      <td>-500.470978</td>\n",
       "      <td>14.151341</td>\n",
       "      <td>-605.841980</td>\n",
       "    </tr>\n",
       "    <tr>\n",
       "      <th>1</th>\n",
       "      <td>2016-01-15 01:00:00</td>\n",
       "      <td>6.029369</td>\n",
       "      <td>9.968944</td>\n",
       "      <td>5.257781</td>\n",
       "      <td>42.701629</td>\n",
       "      <td>69.266198</td>\n",
       "      <td>10.462676</td>\n",
       "      <td>0.927452</td>\n",
       "      <td>16.634514</td>\n",
       "      <td>2.224930</td>\n",
       "      <td>125.629232</td>\n",
       "      <td>10.296251</td>\n",
       "      <td>7.25</td>\n",
       "      <td>1.002663</td>\n",
       "      <td>8.558743</td>\n",
       "      <td>10.497069</td>\n",
       "      <td>19.369147</td>\n",
       "      <td>34.118526</td>\n",
       "      <td>16.250511</td>\n",
       "      <td>3.049646</td>\n",
       "      <td>6.733907</td>\n",
       "      <td>2.353017</td>\n",
       "      <td>1576.166671</td>\n",
       "      <td>-500.904965</td>\n",
       "      <td>1575.950626</td>\n",
       "      <td>-499.865889</td>\n",
       "      <td>1575.994189</td>\n",
       "      <td>-499.315107</td>\n",
       "      <td>1574.479259</td>\n",
       "      <td>-498.931665</td>\n",
       "      <td>42050.861809</td>\n",
       "      <td>3498.370979</td>\n",
       "      <td>3489.981857</td>\n",
       "      <td>2.858998</td>\n",
       "      <td>6.161113</td>\n",
       "      <td>2.266033</td>\n",
       "      <td>525.290581</td>\n",
       "      <td>57.278666</td>\n",
       "      <td>35.753385</td>\n",
       "      <td>6.478583</td>\n",
       "      <td>11.971193</td>\n",
       "      <td>6.005766</td>\n",
       "      <td>11.996163</td>\n",
       "      <td>6.012594</td>\n",
       "      <td>11.615865</td>\n",
       "      <td>7.278807</td>\n",
       "      <td>28.067063</td>\n",
       "      <td>20.050975</td>\n",
       "      <td>86.843261</td>\n",
       "      <td>4.955378</td>\n",
       "      <td>0.536689</td>\n",
       "      <td>18.965234</td>\n",
       "      <td>1.184827</td>\n",
       "      <td>1000.286398</td>\n",
       "      <td>-400.065196</td>\n",
       "      <td>1600.754587</td>\n",
       "      <td>-449.953435</td>\n",
       "      <td>1600.479580</td>\n",
       "      <td>-449.830646</td>\n",
       "      <td>1600.527589</td>\n",
       "      <td>-449.953649</td>\n",
       "      <td>1399.227084</td>\n",
       "      <td>-450.869848</td>\n",
       "      <td>1399.719514</td>\n",
       "      <td>-450.119001</td>\n",
       "      <td>14.265474</td>\n",
       "      <td>4.592547</td>\n",
       "      <td>9.001494</td>\n",
       "      <td>2.488248</td>\n",
       "      <td>25.880539</td>\n",
       "      <td>-499.989656</td>\n",
       "      <td>23.889530</td>\n",
       "      <td>-500.372428</td>\n",
       "      <td>23.970550</td>\n",
       "      <td>-500.085473</td>\n",
       "      <td>22.085714</td>\n",
       "      <td>-499.446897</td>\n",
       "      <td>13.992281</td>\n",
       "      <td>-505.503262</td>\n",
       "      <td>11.950531</td>\n",
       "      <td>-501.331529</td>\n",
       "      <td>10.039245</td>\n",
       "      <td>-500.169983</td>\n",
       "      <td>7.984757</td>\n",
       "      <td>-500.582168</td>\n",
       "      <td>13.998353</td>\n",
       "      <td>-599.787184</td>\n",
       "    </tr>\n",
       "    <tr>\n",
       "      <th>2</th>\n",
       "      <td>2016-01-15 02:00:00</td>\n",
       "      <td>6.055926</td>\n",
       "      <td>10.213995</td>\n",
       "      <td>5.383759</td>\n",
       "      <td>42.657501</td>\n",
       "      <td>68.116445</td>\n",
       "      <td>10.507046</td>\n",
       "      <td>0.953716</td>\n",
       "      <td>16.208849</td>\n",
       "      <td>2.257889</td>\n",
       "      <td>123.819808</td>\n",
       "      <td>11.316280</td>\n",
       "      <td>7.25</td>\n",
       "      <td>0.991265</td>\n",
       "      <td>8.603505</td>\n",
       "      <td>10.354494</td>\n",
       "      <td>19.167579</td>\n",
       "      <td>33.969464</td>\n",
       "      <td>16.491823</td>\n",
       "      <td>3.124664</td>\n",
       "      <td>6.471768</td>\n",
       "      <td>2.416800</td>\n",
       "      <td>1601.556163</td>\n",
       "      <td>-499.997791</td>\n",
       "      <td>1600.386685</td>\n",
       "      <td>-500.607762</td>\n",
       "      <td>1602.003542</td>\n",
       "      <td>-500.870069</td>\n",
       "      <td>1599.541515</td>\n",
       "      <td>-499.827444</td>\n",
       "      <td>42018.101184</td>\n",
       "      <td>3495.348910</td>\n",
       "      <td>3502.359819</td>\n",
       "      <td>2.945989</td>\n",
       "      <td>6.116455</td>\n",
       "      <td>2.159622</td>\n",
       "      <td>530.026610</td>\n",
       "      <td>57.510649</td>\n",
       "      <td>35.971630</td>\n",
       "      <td>6.362222</td>\n",
       "      <td>11.920603</td>\n",
       "      <td>6.197377</td>\n",
       "      <td>11.920305</td>\n",
       "      <td>6.204633</td>\n",
       "      <td>11.695753</td>\n",
       "      <td>7.216833</td>\n",
       "      <td>27.454037</td>\n",
       "      <td>19.737170</td>\n",
       "      <td>86.842308</td>\n",
       "      <td>4.843460</td>\n",
       "      <td>0.546416</td>\n",
       "      <td>18.808533</td>\n",
       "      <td>1.162562</td>\n",
       "      <td>999.719565</td>\n",
       "      <td>-400.074028</td>\n",
       "      <td>1599.337330</td>\n",
       "      <td>-450.008530</td>\n",
       "      <td>1599.672797</td>\n",
       "      <td>-449.954491</td>\n",
       "      <td>1599.849325</td>\n",
       "      <td>-449.954185</td>\n",
       "      <td>1399.180945</td>\n",
       "      <td>-449.937588</td>\n",
       "      <td>1400.316682</td>\n",
       "      <td>-450.527147</td>\n",
       "      <td>14.115662</td>\n",
       "      <td>4.624775</td>\n",
       "      <td>8.842896</td>\n",
       "      <td>2.458187</td>\n",
       "      <td>26.005245</td>\n",
       "      <td>-499.929616</td>\n",
       "      <td>23.886657</td>\n",
       "      <td>-499.951928</td>\n",
       "      <td>23.913535</td>\n",
       "      <td>-499.442343</td>\n",
       "      <td>23.957717</td>\n",
       "      <td>-499.901982</td>\n",
       "      <td>14.015015</td>\n",
       "      <td>-502.520901</td>\n",
       "      <td>11.912783</td>\n",
       "      <td>-501.133383</td>\n",
       "      <td>10.070913</td>\n",
       "      <td>-500.129135</td>\n",
       "      <td>8.013877</td>\n",
       "      <td>-500.517572</td>\n",
       "      <td>14.028663</td>\n",
       "      <td>-601.427363</td>\n",
       "    </tr>\n",
       "    <tr>\n",
       "      <th>3</th>\n",
       "      <td>2016-01-15 03:00:00</td>\n",
       "      <td>6.047977</td>\n",
       "      <td>9.977019</td>\n",
       "      <td>4.858634</td>\n",
       "      <td>42.689819</td>\n",
       "      <td>68.347543</td>\n",
       "      <td>10.422762</td>\n",
       "      <td>0.883763</td>\n",
       "      <td>16.532835</td>\n",
       "      <td>2.146849</td>\n",
       "      <td>122.270188</td>\n",
       "      <td>11.322140</td>\n",
       "      <td>7.25</td>\n",
       "      <td>0.996739</td>\n",
       "      <td>7.221879</td>\n",
       "      <td>8.496563</td>\n",
       "      <td>15.978538</td>\n",
       "      <td>28.260743</td>\n",
       "      <td>16.024359</td>\n",
       "      <td>2.960362</td>\n",
       "      <td>6.843791</td>\n",
       "      <td>2.262051</td>\n",
       "      <td>1599.968720</td>\n",
       "      <td>-500.951778</td>\n",
       "      <td>1600.659236</td>\n",
       "      <td>-499.677094</td>\n",
       "      <td>1600.304144</td>\n",
       "      <td>-500.727997</td>\n",
       "      <td>1600.449520</td>\n",
       "      <td>-500.052575</td>\n",
       "      <td>42029.447991</td>\n",
       "      <td>3498.578313</td>\n",
       "      <td>3499.162912</td>\n",
       "      <td>3.002340</td>\n",
       "      <td>6.043309</td>\n",
       "      <td>2.037807</td>\n",
       "      <td>542.590390</td>\n",
       "      <td>57.792734</td>\n",
       "      <td>36.862241</td>\n",
       "      <td>6.118189</td>\n",
       "      <td>11.630094</td>\n",
       "      <td>6.203177</td>\n",
       "      <td>11.692450</td>\n",
       "      <td>6.196578</td>\n",
       "      <td>11.915047</td>\n",
       "      <td>7.175616</td>\n",
       "      <td>27.341277</td>\n",
       "      <td>19.320810</td>\n",
       "      <td>87.226430</td>\n",
       "      <td>4.655288</td>\n",
       "      <td>0.542525</td>\n",
       "      <td>19.330200</td>\n",
       "      <td>1.079755</td>\n",
       "      <td>999.814770</td>\n",
       "      <td>-400.200179</td>\n",
       "      <td>1600.059442</td>\n",
       "      <td>-450.619948</td>\n",
       "      <td>1600.012842</td>\n",
       "      <td>-449.910497</td>\n",
       "      <td>1597.725177</td>\n",
       "      <td>-450.130127</td>\n",
       "      <td>1400.943157</td>\n",
       "      <td>-450.030142</td>\n",
       "      <td>1400.234743</td>\n",
       "      <td>-449.790835</td>\n",
       "      <td>13.732071</td>\n",
       "      <td>4.482453</td>\n",
       "      <td>9.122857</td>\n",
       "      <td>2.322062</td>\n",
       "      <td>25.942508</td>\n",
       "      <td>-499.176749</td>\n",
       "      <td>23.955516</td>\n",
       "      <td>-499.848796</td>\n",
       "      <td>23.966838</td>\n",
       "      <td>-500.008812</td>\n",
       "      <td>23.954443</td>\n",
       "      <td>-499.944710</td>\n",
       "      <td>14.036510</td>\n",
       "      <td>-500.857308</td>\n",
       "      <td>11.999550</td>\n",
       "      <td>-501.193686</td>\n",
       "      <td>9.970366</td>\n",
       "      <td>-499.201640</td>\n",
       "      <td>7.977324</td>\n",
       "      <td>-500.255908</td>\n",
       "      <td>14.005551</td>\n",
       "      <td>-599.996129</td>\n",
       "    </tr>\n",
       "    <tr>\n",
       "      <th>4</th>\n",
       "      <td>2016-01-15 04:00:00</td>\n",
       "      <td>6.148599</td>\n",
       "      <td>10.142511</td>\n",
       "      <td>4.939416</td>\n",
       "      <td>42.774141</td>\n",
       "      <td>66.927016</td>\n",
       "      <td>10.360302</td>\n",
       "      <td>0.792826</td>\n",
       "      <td>16.525686</td>\n",
       "      <td>2.055292</td>\n",
       "      <td>117.988169</td>\n",
       "      <td>11.913613</td>\n",
       "      <td>7.25</td>\n",
       "      <td>1.009869</td>\n",
       "      <td>9.089428</td>\n",
       "      <td>9.986786</td>\n",
       "      <td>19.199864</td>\n",
       "      <td>33.044932</td>\n",
       "      <td>16.480185</td>\n",
       "      <td>3.112100</td>\n",
       "      <td>6.550154</td>\n",
       "      <td>2.277073</td>\n",
       "      <td>1601.339707</td>\n",
       "      <td>-498.975456</td>\n",
       "      <td>1601.437854</td>\n",
       "      <td>-500.323246</td>\n",
       "      <td>1599.581894</td>\n",
       "      <td>-500.888152</td>\n",
       "      <td>1602.649541</td>\n",
       "      <td>-500.593010</td>\n",
       "      <td>42125.354245</td>\n",
       "      <td>3494.800771</td>\n",
       "      <td>3506.679315</td>\n",
       "      <td>3.169615</td>\n",
       "      <td>6.060915</td>\n",
       "      <td>1.786875</td>\n",
       "      <td>540.531893</td>\n",
       "      <td>56.047189</td>\n",
       "      <td>34.347666</td>\n",
       "      <td>5.663707</td>\n",
       "      <td>10.957755</td>\n",
       "      <td>6.198826</td>\n",
       "      <td>10.960521</td>\n",
       "      <td>6.194897</td>\n",
       "      <td>12.411054</td>\n",
       "      <td>7.240205</td>\n",
       "      <td>27.041023</td>\n",
       "      <td>19.216101</td>\n",
       "      <td>86.688794</td>\n",
       "      <td>4.552800</td>\n",
       "      <td>0.515438</td>\n",
       "      <td>19.267422</td>\n",
       "      <td>1.012642</td>\n",
       "      <td>999.678690</td>\n",
       "      <td>-399.752729</td>\n",
       "      <td>1600.208824</td>\n",
       "      <td>-449.599614</td>\n",
       "      <td>1600.357732</td>\n",
       "      <td>-450.034364</td>\n",
       "      <td>1599.759049</td>\n",
       "      <td>-449.909799</td>\n",
       "      <td>1401.560902</td>\n",
       "      <td>-448.877187</td>\n",
       "      <td>1401.160227</td>\n",
       "      <td>-450.407128</td>\n",
       "      <td>14.079996</td>\n",
       "      <td>4.470737</td>\n",
       "      <td>8.871028</td>\n",
       "      <td>2.330448</td>\n",
       "      <td>26.024787</td>\n",
       "      <td>-500.279091</td>\n",
       "      <td>23.955345</td>\n",
       "      <td>-500.593614</td>\n",
       "      <td>23.985703</td>\n",
       "      <td>-500.083811</td>\n",
       "      <td>23.958945</td>\n",
       "      <td>-499.990309</td>\n",
       "      <td>14.027298</td>\n",
       "      <td>-499.838632</td>\n",
       "      <td>11.953070</td>\n",
       "      <td>-501.053894</td>\n",
       "      <td>9.925709</td>\n",
       "      <td>-501.686727</td>\n",
       "      <td>7.894242</td>\n",
       "      <td>-500.356035</td>\n",
       "      <td>13.996647</td>\n",
       "      <td>-601.496691</td>\n",
       "    </tr>\n",
       "  </tbody>\n",
       "</table>\n",
       "</div>"
      ],
      "text/plain": [
       "                  date  final.output.concentrate_ag  \\\n",
       "0  2016-01-15 00:00:00                     6.055403   \n",
       "1  2016-01-15 01:00:00                     6.029369   \n",
       "2  2016-01-15 02:00:00                     6.055926   \n",
       "3  2016-01-15 03:00:00                     6.047977   \n",
       "4  2016-01-15 04:00:00                     6.148599   \n",
       "\n",
       "   final.output.concentrate_pb  final.output.concentrate_sol  \\\n",
       "0                     9.889648                      5.507324   \n",
       "1                     9.968944                      5.257781   \n",
       "2                    10.213995                      5.383759   \n",
       "3                     9.977019                      4.858634   \n",
       "4                    10.142511                      4.939416   \n",
       "\n",
       "   final.output.concentrate_au  final.output.recovery  final.output.tail_ag  \\\n",
       "0                    42.192020              70.541216             10.411962   \n",
       "1                    42.701629              69.266198             10.462676   \n",
       "2                    42.657501              68.116445             10.507046   \n",
       "3                    42.689819              68.347543             10.422762   \n",
       "4                    42.774141              66.927016             10.360302   \n",
       "\n",
       "   final.output.tail_pb  final.output.tail_sol  final.output.tail_au  \\\n",
       "0              0.895447              16.904297              2.143149   \n",
       "1              0.927452              16.634514              2.224930   \n",
       "2              0.953716              16.208849              2.257889   \n",
       "3              0.883763              16.532835              2.146849   \n",
       "4              0.792826              16.525686              2.055292   \n",
       "\n",
       "   primary_cleaner.input.sulfate  primary_cleaner.input.depressant  \\\n",
       "0                     127.092003                         10.128295   \n",
       "1                     125.629232                         10.296251   \n",
       "2                     123.819808                         11.316280   \n",
       "3                     122.270188                         11.322140   \n",
       "4                     117.988169                         11.913613   \n",
       "\n",
       "   primary_cleaner.input.feed_size  primary_cleaner.input.xanthate  \\\n",
       "0                             7.25                        0.988759   \n",
       "1                             7.25                        1.002663   \n",
       "2                             7.25                        0.991265   \n",
       "3                             7.25                        0.996739   \n",
       "4                             7.25                        1.009869   \n",
       "\n",
       "   primary_cleaner.output.concentrate_ag  \\\n",
       "0                               8.547551   \n",
       "1                               8.558743   \n",
       "2                               8.603505   \n",
       "3                               7.221879   \n",
       "4                               9.089428   \n",
       "\n",
       "   primary_cleaner.output.concentrate_pb  \\\n",
       "0                              10.389648   \n",
       "1                              10.497069   \n",
       "2                              10.354494   \n",
       "3                               8.496563   \n",
       "4                               9.986786   \n",
       "\n",
       "   primary_cleaner.output.concentrate_sol  \\\n",
       "0                               19.529297   \n",
       "1                               19.369147   \n",
       "2                               19.167579   \n",
       "3                               15.978538   \n",
       "4                               19.199864   \n",
       "\n",
       "   primary_cleaner.output.concentrate_au  primary_cleaner.output.tail_ag  \\\n",
       "0                              34.174427                       14.936526   \n",
       "1                              34.118526                       16.250511   \n",
       "2                              33.969464                       16.491823   \n",
       "3                              28.260743                       16.024359   \n",
       "4                              33.044932                       16.480185   \n",
       "\n",
       "   primary_cleaner.output.tail_pb  primary_cleaner.output.tail_sol  \\\n",
       "0                        2.534912                         7.476074   \n",
       "1                        3.049646                         6.733907   \n",
       "2                        3.124664                         6.471768   \n",
       "3                        2.960362                         6.843791   \n",
       "4                        3.112100                         6.550154   \n",
       "\n",
       "   primary_cleaner.output.tail_au  primary_cleaner.state.floatbank8_a_air  \\\n",
       "0                        2.106679                             1549.775757   \n",
       "1                        2.353017                             1576.166671   \n",
       "2                        2.416800                             1601.556163   \n",
       "3                        2.262051                             1599.968720   \n",
       "4                        2.277073                             1601.339707   \n",
       "\n",
       "   primary_cleaner.state.floatbank8_a_level  \\\n",
       "0                               -498.912140   \n",
       "1                               -500.904965   \n",
       "2                               -499.997791   \n",
       "3                               -500.951778   \n",
       "4                               -498.975456   \n",
       "\n",
       "   primary_cleaner.state.floatbank8_b_air  \\\n",
       "0                             1551.434204   \n",
       "1                             1575.950626   \n",
       "2                             1600.386685   \n",
       "3                             1600.659236   \n",
       "4                             1601.437854   \n",
       "\n",
       "   primary_cleaner.state.floatbank8_b_level  \\\n",
       "0                               -516.403442   \n",
       "1                               -499.865889   \n",
       "2                               -500.607762   \n",
       "3                               -499.677094   \n",
       "4                               -500.323246   \n",
       "\n",
       "   primary_cleaner.state.floatbank8_c_air  \\\n",
       "0                             1549.873901   \n",
       "1                             1575.994189   \n",
       "2                             1602.003542   \n",
       "3                             1600.304144   \n",
       "4                             1599.581894   \n",
       "\n",
       "   primary_cleaner.state.floatbank8_c_level  \\\n",
       "0                               -498.666595   \n",
       "1                               -499.315107   \n",
       "2                               -500.870069   \n",
       "3                               -500.727997   \n",
       "4                               -500.888152   \n",
       "\n",
       "   primary_cleaner.state.floatbank8_d_air  \\\n",
       "0                             1554.367432   \n",
       "1                             1574.479259   \n",
       "2                             1599.541515   \n",
       "3                             1600.449520   \n",
       "4                             1602.649541   \n",
       "\n",
       "   primary_cleaner.state.floatbank8_d_level  \\\n",
       "0                               -493.428131   \n",
       "1                               -498.931665   \n",
       "2                               -499.827444   \n",
       "3                               -500.052575   \n",
       "4                               -500.593010   \n",
       "\n",
       "   rougher.calculation.sulfate_to_au_concentrate  \\\n",
       "0                                   41885.707031   \n",
       "1                                   42050.861809   \n",
       "2                                   42018.101184   \n",
       "3                                   42029.447991   \n",
       "4                                   42125.354245   \n",
       "\n",
       "   rougher.calculation.floatbank10_sulfate_to_au_feed  \\\n",
       "0                                        3481.779053    \n",
       "1                                        3498.370979    \n",
       "2                                        3495.348910    \n",
       "3                                        3498.578313    \n",
       "4                                        3494.800771    \n",
       "\n",
       "   rougher.calculation.floatbank11_sulfate_to_au_feed  \\\n",
       "0                                        3520.337158    \n",
       "1                                        3489.981857    \n",
       "2                                        3502.359819    \n",
       "3                                        3499.162912    \n",
       "4                                        3506.679315    \n",
       "\n",
       "   rougher.calculation.au_pb_ratio  rougher.input.feed_ag  \\\n",
       "0                         2.838687               6.100378   \n",
       "1                         2.858998               6.161113   \n",
       "2                         2.945989               6.116455   \n",
       "3                         3.002340               6.043309   \n",
       "4                         3.169615               6.060915   \n",
       "\n",
       "   rougher.input.feed_pb  rougher.input.feed_rate  rougher.input.feed_size  \\\n",
       "0               2.284912               523.546326                55.486599   \n",
       "1               2.266033               525.290581                57.278666   \n",
       "2               2.159622               530.026610                57.510649   \n",
       "3               2.037807               542.590390                57.792734   \n",
       "4               1.786875               540.531893                56.047189   \n",
       "\n",
       "   rougher.input.feed_sol  rougher.input.feed_au  \\\n",
       "0               36.808594               6.486150   \n",
       "1               35.753385               6.478583   \n",
       "2               35.971630               6.362222   \n",
       "3               36.862241               6.118189   \n",
       "4               34.347666               5.663707   \n",
       "\n",
       "   rougher.input.floatbank10_sulfate  rougher.input.floatbank10_xanthate  \\\n",
       "0                          11.986616                            6.007990   \n",
       "1                          11.971193                            6.005766   \n",
       "2                          11.920603                            6.197377   \n",
       "3                          11.630094                            6.203177   \n",
       "4                          10.957755                            6.198826   \n",
       "\n",
       "   rougher.input.floatbank11_sulfate  rougher.input.floatbank11_xanthate  \\\n",
       "0                          11.836743                            6.005818   \n",
       "1                          11.996163                            6.012594   \n",
       "2                          11.920305                            6.204633   \n",
       "3                          11.692450                            6.196578   \n",
       "4                          10.960521                            6.194897   \n",
       "\n",
       "   rougher.output.concentrate_ag  rougher.output.concentrate_pb  \\\n",
       "0                      11.500771                       7.101074   \n",
       "1                      11.615865                       7.278807   \n",
       "2                      11.695753                       7.216833   \n",
       "3                      11.915047                       7.175616   \n",
       "4                      12.411054                       7.240205   \n",
       "\n",
       "   rougher.output.concentrate_sol  rougher.output.concentrate_au  \\\n",
       "0                       28.029297                      19.793808   \n",
       "1                       28.067063                      20.050975   \n",
       "2                       27.454037                      19.737170   \n",
       "3                       27.341277                      19.320810   \n",
       "4                       27.041023                      19.216101   \n",
       "\n",
       "   rougher.output.recovery  rougher.output.tail_ag  rougher.output.tail_pb  \\\n",
       "0                87.107763                5.008018                0.508728   \n",
       "1                86.843261                4.955378                0.536689   \n",
       "2                86.842308                4.843460                0.546416   \n",
       "3                87.226430                4.655288                0.542525   \n",
       "4                86.688794                4.552800                0.515438   \n",
       "\n",
       "   rougher.output.tail_sol  rougher.output.tail_au  \\\n",
       "0                19.154297                1.170244   \n",
       "1                18.965234                1.184827   \n",
       "2                18.808533                1.162562   \n",
       "3                19.330200                1.079755   \n",
       "4                19.267422                1.012642   \n",
       "\n",
       "   rougher.state.floatbank10_a_air  rougher.state.floatbank10_a_level  \\\n",
       "0                       999.706909                        -404.066986   \n",
       "1                      1000.286398                        -400.065196   \n",
       "2                       999.719565                        -400.074028   \n",
       "3                       999.814770                        -400.200179   \n",
       "4                       999.678690                        -399.752729   \n",
       "\n",
       "   rougher.state.floatbank10_b_air  rougher.state.floatbank10_b_level  \\\n",
       "0                      1603.011353                        -434.715027   \n",
       "1                      1600.754587                        -449.953435   \n",
       "2                      1599.337330                        -450.008530   \n",
       "3                      1600.059442                        -450.619948   \n",
       "4                      1600.208824                        -449.599614   \n",
       "\n",
       "   rougher.state.floatbank10_c_air  rougher.state.floatbank10_c_level  \\\n",
       "0                      1602.375000                        -442.204468   \n",
       "1                      1600.479580                        -449.830646   \n",
       "2                      1599.672797                        -449.954491   \n",
       "3                      1600.012842                        -449.910497   \n",
       "4                      1600.357732                        -450.034364   \n",
       "\n",
       "   rougher.state.floatbank10_d_air  rougher.state.floatbank10_d_level  \\\n",
       "0                      1598.937256                        -451.294128   \n",
       "1                      1600.527589                        -449.953649   \n",
       "2                      1599.849325                        -449.954185   \n",
       "3                      1597.725177                        -450.130127   \n",
       "4                      1599.759049                        -449.909799   \n",
       "\n",
       "   rougher.state.floatbank10_e_air  rougher.state.floatbank10_e_level  \\\n",
       "0                      1404.472046                        -455.462982   \n",
       "1                      1399.227084                        -450.869848   \n",
       "2                      1399.180945                        -449.937588   \n",
       "3                      1400.943157                        -450.030142   \n",
       "4                      1401.560902                        -448.877187   \n",
       "\n",
       "   rougher.state.floatbank10_f_air  rougher.state.floatbank10_f_level  \\\n",
       "0                      1416.354980                        -451.939636   \n",
       "1                      1399.719514                        -450.119001   \n",
       "2                      1400.316682                        -450.527147   \n",
       "3                      1400.234743                        -449.790835   \n",
       "4                      1401.160227                        -450.407128   \n",
       "\n",
       "   secondary_cleaner.output.tail_ag  secondary_cleaner.output.tail_pb  \\\n",
       "0                         14.500184                          4.694824   \n",
       "1                         14.265474                          4.592547   \n",
       "2                         14.115662                          4.624775   \n",
       "3                         13.732071                          4.482453   \n",
       "4                         14.079996                          4.470737   \n",
       "\n",
       "   secondary_cleaner.output.tail_sol  secondary_cleaner.output.tail_au  \\\n",
       "0                           8.764648                          2.606185   \n",
       "1                           9.001494                          2.488248   \n",
       "2                           8.842896                          2.458187   \n",
       "3                           9.122857                          2.322062   \n",
       "4                           8.871028                          2.330448   \n",
       "\n",
       "   secondary_cleaner.state.floatbank2_a_air  \\\n",
       "0                                 25.853109   \n",
       "1                                 25.880539   \n",
       "2                                 26.005245   \n",
       "3                                 25.942508   \n",
       "4                                 26.024787   \n",
       "\n",
       "   secondary_cleaner.state.floatbank2_a_level  \\\n",
       "0                                 -498.526489   \n",
       "1                                 -499.989656   \n",
       "2                                 -499.929616   \n",
       "3                                 -499.176749   \n",
       "4                                 -500.279091   \n",
       "\n",
       "   secondary_cleaner.state.floatbank2_b_air  \\\n",
       "0                                 23.893660   \n",
       "1                                 23.889530   \n",
       "2                                 23.886657   \n",
       "3                                 23.955516   \n",
       "4                                 23.955345   \n",
       "\n",
       "   secondary_cleaner.state.floatbank2_b_level  \\\n",
       "0                                 -501.406281   \n",
       "1                                 -500.372428   \n",
       "2                                 -499.951928   \n",
       "3                                 -499.848796   \n",
       "4                                 -500.593614   \n",
       "\n",
       "   secondary_cleaner.state.floatbank3_a_air  \\\n",
       "0                                 23.961798   \n",
       "1                                 23.970550   \n",
       "2                                 23.913535   \n",
       "3                                 23.966838   \n",
       "4                                 23.985703   \n",
       "\n",
       "   secondary_cleaner.state.floatbank3_a_level  \\\n",
       "0                                 -495.262817   \n",
       "1                                 -500.085473   \n",
       "2                                 -499.442343   \n",
       "3                                 -500.008812   \n",
       "4                                 -500.083811   \n",
       "\n",
       "   secondary_cleaner.state.floatbank3_b_air  \\\n",
       "0                                 21.940409   \n",
       "1                                 22.085714   \n",
       "2                                 23.957717   \n",
       "3                                 23.954443   \n",
       "4                                 23.958945   \n",
       "\n",
       "   secondary_cleaner.state.floatbank3_b_level  \\\n",
       "0                                 -499.340973   \n",
       "1                                 -499.446897   \n",
       "2                                 -499.901982   \n",
       "3                                 -499.944710   \n",
       "4                                 -499.990309   \n",
       "\n",
       "   secondary_cleaner.state.floatbank4_a_air  \\\n",
       "0                                 14.016835   \n",
       "1                                 13.992281   \n",
       "2                                 14.015015   \n",
       "3                                 14.036510   \n",
       "4                                 14.027298   \n",
       "\n",
       "   secondary_cleaner.state.floatbank4_a_level  \\\n",
       "0                                 -502.488007   \n",
       "1                                 -505.503262   \n",
       "2                                 -502.520901   \n",
       "3                                 -500.857308   \n",
       "4                                 -499.838632   \n",
       "\n",
       "   secondary_cleaner.state.floatbank4_b_air  \\\n",
       "0                                 12.099931   \n",
       "1                                 11.950531   \n",
       "2                                 11.912783   \n",
       "3                                 11.999550   \n",
       "4                                 11.953070   \n",
       "\n",
       "   secondary_cleaner.state.floatbank4_b_level  \\\n",
       "0                                 -504.715942   \n",
       "1                                 -501.331529   \n",
       "2                                 -501.133383   \n",
       "3                                 -501.193686   \n",
       "4                                 -501.053894   \n",
       "\n",
       "   secondary_cleaner.state.floatbank5_a_air  \\\n",
       "0                                  9.925633   \n",
       "1                                 10.039245   \n",
       "2                                 10.070913   \n",
       "3                                  9.970366   \n",
       "4                                  9.925709   \n",
       "\n",
       "   secondary_cleaner.state.floatbank5_a_level  \\\n",
       "0                                 -498.310211   \n",
       "1                                 -500.169983   \n",
       "2                                 -500.129135   \n",
       "3                                 -499.201640   \n",
       "4                                 -501.686727   \n",
       "\n",
       "   secondary_cleaner.state.floatbank5_b_air  \\\n",
       "0                                  8.079666   \n",
       "1                                  7.984757   \n",
       "2                                  8.013877   \n",
       "3                                  7.977324   \n",
       "4                                  7.894242   \n",
       "\n",
       "   secondary_cleaner.state.floatbank5_b_level  \\\n",
       "0                                 -500.470978   \n",
       "1                                 -500.582168   \n",
       "2                                 -500.517572   \n",
       "3                                 -500.255908   \n",
       "4                                 -500.356035   \n",
       "\n",
       "   secondary_cleaner.state.floatbank6_a_air  \\\n",
       "0                                 14.151341   \n",
       "1                                 13.998353   \n",
       "2                                 14.028663   \n",
       "3                                 14.005551   \n",
       "4                                 13.996647   \n",
       "\n",
       "   secondary_cleaner.state.floatbank6_a_level  \n",
       "0                                 -605.841980  \n",
       "1                                 -599.787184  \n",
       "2                                 -601.427363  \n",
       "3                                 -599.996129  \n",
       "4                                 -601.496691  "
      ]
     },
     "execution_count": 14,
     "metadata": {},
     "output_type": "execute_result"
    }
   ],
   "source": [
    "full_data.head()"
   ]
  },
  {
   "cell_type": "markdown",
   "metadata": {},
   "source": [
    "### Проверка корректности расчета эффективности обогащения в представленных данных"
   ]
  },
  {
   "cell_type": "markdown",
   "metadata": {},
   "source": [
    "Посчитаем значение метрики эффективности обогащения (recovery) для чернового концентрата после флотации."
   ]
  },
  {
   "cell_type": "code",
   "execution_count": 15,
   "metadata": {},
   "outputs": [
    {
     "data": {
      "text/plain": [
       "0        87.107763\n",
       "1        86.843261\n",
       "2        86.842308\n",
       "3        87.226430\n",
       "4        86.688794\n",
       "           ...    \n",
       "16855    89.574376\n",
       "16856    87.724007\n",
       "16857    88.890579\n",
       "16858    89.858126\n",
       "16859    89.514960\n",
       "Length: 16860, dtype: float64"
      ]
     },
     "execution_count": 15,
     "metadata": {},
     "output_type": "execute_result"
    }
   ],
   "source": [
    "recovery_numerator = train_data['rougher.output.concentrate_au'] * (train_data['rougher.input.feed_au'] - train_data['rougher.output.tail_au'])\n",
    "recovery_denominator = train_data['rougher.input.feed_au'] * (train_data['rougher.output.concentrate_au'] - train_data['rougher.output.tail_au'])\n",
    "recovery_rougher = (recovery_numerator / recovery_denominator) * 100\n",
    "recovery_rougher"
   ]
  },
  {
   "cell_type": "markdown",
   "metadata": {},
   "source": [
    "Посчитаем среднюю абсолютную ошибку в расчетных и предоставленных данных чтобы убедиться у адекватности представленных данных."
   ]
  },
  {
   "cell_type": "code",
   "execution_count": 16,
   "metadata": {},
   "outputs": [
    {
     "data": {
      "text/plain": [
       "-1.168115944996525e-16"
      ]
     },
     "execution_count": 16,
     "metadata": {},
     "output_type": "execute_result"
    }
   ],
   "source": [
    "MAE_recovery_rougher = (recovery_rougher - train_data['rougher.output.recovery']).mean()\n",
    "MAE_recovery_rougher"
   ]
  },
  {
   "cell_type": "markdown",
   "metadata": {},
   "source": [
    "**Вывод:** Средняя абсолютная ошибка ничтожно мала, и скорее всего связяна с точностью форматов вывода. Из чего можно сделать вывод об адекватности представленных данных."
   ]
  },
  {
   "cell_type": "markdown",
   "metadata": {},
   "source": [
    "### Анализ отсутствующих в тестовой выборке признаков"
   ]
  },
  {
   "cell_type": "markdown",
   "metadata": {},
   "source": [
    "Выведем на экран названия столбцов, которые отсутствуют в тестовой выборке."
   ]
  },
  {
   "cell_type": "code",
   "execution_count": 17,
   "metadata": {},
   "outputs": [
    {
     "name": "stdout",
     "output_type": "stream",
     "text": [
      "final.output.concentrate_ag\n",
      "final.output.concentrate_pb\n",
      "final.output.concentrate_sol\n",
      "final.output.concentrate_au\n",
      "final.output.recovery\n",
      "final.output.tail_ag\n",
      "final.output.tail_pb\n",
      "final.output.tail_sol\n",
      "final.output.tail_au\n",
      "primary_cleaner.output.concentrate_ag\n",
      "primary_cleaner.output.concentrate_pb\n",
      "primary_cleaner.output.concentrate_sol\n",
      "primary_cleaner.output.concentrate_au\n",
      "primary_cleaner.output.tail_ag\n",
      "primary_cleaner.output.tail_pb\n",
      "primary_cleaner.output.tail_sol\n",
      "primary_cleaner.output.tail_au\n",
      "rougher.calculation.sulfate_to_au_concentrate\n",
      "rougher.calculation.floatbank10_sulfate_to_au_feed\n",
      "rougher.calculation.floatbank11_sulfate_to_au_feed\n",
      "rougher.calculation.au_pb_ratio\n",
      "rougher.output.concentrate_ag\n",
      "rougher.output.concentrate_pb\n",
      "rougher.output.concentrate_sol\n",
      "rougher.output.concentrate_au\n",
      "rougher.output.recovery\n",
      "rougher.output.tail_ag\n",
      "rougher.output.tail_pb\n",
      "rougher.output.tail_sol\n",
      "rougher.output.tail_au\n",
      "secondary_cleaner.output.tail_ag\n",
      "secondary_cleaner.output.tail_pb\n",
      "secondary_cleaner.output.tail_sol\n",
      "secondary_cleaner.output.tail_au\n"
     ]
    }
   ],
   "source": [
    "for i in train_data.columns:\n",
    "    if i not in test_data.columns:\n",
    "        print(i)"
   ]
  },
  {
   "cell_type": "markdown",
   "metadata": {},
   "source": [
    "**Вывод:** В тестовой выборке отсутствуют признаки выходных параметров содержания веществ как в концентрате, так и в отвальных хвостах на каждом этапе. Это оправданно, так как именно выходное количество вещества нам и нужно будет прогнозировать. \n",
    "\n",
    "Также отсутствуют несколько производных расчетных параметров которые завязаны на выходных значениях, которых как раз и нет в данной выборке."
   ]
  },
  {
   "cell_type": "markdown",
   "metadata": {},
   "source": [
    "### Предобработка данных"
   ]
  },
  {
   "cell_type": "markdown",
   "metadata": {},
   "source": [
    "#### train_data"
   ]
  },
  {
   "cell_type": "markdown",
   "metadata": {},
   "source": [
    "Изучим строки с пропущенными значениями целевых признаков."
   ]
  },
  {
   "cell_type": "markdown",
   "metadata": {},
   "source": [
    "Целевыми признаками являются столбцы: `rougher.output.recovery` и `final.output.recovery`"
   ]
  },
  {
   "cell_type": "code",
   "execution_count": 18,
   "metadata": {},
   "outputs": [
    {
     "name": "stdout",
     "output_type": "stream",
     "text": [
      "0.1526097271648873\n",
      "\n",
      "False    14287\n",
      "True      2573\n",
      "Name: rougher.output.recovery, dtype: int64\n"
     ]
    }
   ],
   "source": [
    "print(train_data['rougher.output.recovery'].isna().mean())\n",
    "print()\n",
    "print(train_data['rougher.output.recovery'].isna().value_counts())"
   ]
  },
  {
   "cell_type": "code",
   "execution_count": 19,
   "metadata": {
    "scrolled": true
   },
   "outputs": [
    {
     "name": "stdout",
     "output_type": "stream",
     "text": [
      "0.0902135231316726\n",
      "\n",
      "False    15339\n",
      "True      1521\n",
      "Name: final.output.recovery, dtype: int64\n"
     ]
    }
   ],
   "source": [
    "print(train_data['final.output.recovery'].isna().mean())\n",
    "print()\n",
    "print(train_data['final.output.recovery'].isna().value_counts())"
   ]
  },
  {
   "cell_type": "markdown",
   "metadata": {},
   "source": [
    "15% и 9% пропусков в каждом признаке. Так как у нас идет непрерывный процесс получения данных, откидывание данных пропусков может негативно сказаться на обучении модели при регрессии. \n",
    "\n",
    "В связи с накопительным итогом будет логичным заполнить пропуски предшетсвующими значениями."
   ]
  },
  {
   "cell_type": "markdown",
   "metadata": {},
   "source": [
    "Так как метод позволяет экстраполировать замену на весь датафрейм, воспользуемся им и в остальных столбцах, там аналогичная ситуация по накоплению данных, да еще к тому же и меньше пропусков."
   ]
  },
  {
   "cell_type": "code",
   "execution_count": 20,
   "metadata": {},
   "outputs": [],
   "source": [
    "train_data.dropna(subset=('rougher.output.recovery', 'final.output.recovery'), axis=0, inplace=True)"
   ]
  },
  {
   "cell_type": "code",
   "execution_count": 21,
   "metadata": {
    "scrolled": true
   },
   "outputs": [],
   "source": [
    "train_data.fillna(method='ffill', inplace=True)"
   ]
  },
  {
   "cell_type": "markdown",
   "metadata": {},
   "source": [
    "Посмотрим на заполненный датафрейм."
   ]
  },
  {
   "cell_type": "code",
   "execution_count": 22,
   "metadata": {
    "scrolled": true
   },
   "outputs": [
    {
     "name": "stdout",
     "output_type": "stream",
     "text": [
      "<class 'pandas.core.frame.DataFrame'>\n",
      "Int64Index: 14149 entries, 0 to 16859\n",
      "Data columns (total 87 columns):\n",
      " #   Column                                              Non-Null Count  Dtype  \n",
      "---  ------                                              --------------  -----  \n",
      " 0   date                                                14149 non-null  object \n",
      " 1   final.output.concentrate_ag                         14149 non-null  float64\n",
      " 2   final.output.concentrate_pb                         14149 non-null  float64\n",
      " 3   final.output.concentrate_sol                        14149 non-null  float64\n",
      " 4   final.output.concentrate_au                         14149 non-null  float64\n",
      " 5   final.output.recovery                               14149 non-null  float64\n",
      " 6   final.output.tail_ag                                14149 non-null  float64\n",
      " 7   final.output.tail_pb                                14149 non-null  float64\n",
      " 8   final.output.tail_sol                               14149 non-null  float64\n",
      " 9   final.output.tail_au                                14149 non-null  float64\n",
      " 10  primary_cleaner.input.sulfate                       14149 non-null  float64\n",
      " 11  primary_cleaner.input.depressant                    14149 non-null  float64\n",
      " 12  primary_cleaner.input.feed_size                     14149 non-null  float64\n",
      " 13  primary_cleaner.input.xanthate                      14149 non-null  float64\n",
      " 14  primary_cleaner.output.concentrate_ag               14149 non-null  float64\n",
      " 15  primary_cleaner.output.concentrate_pb               14149 non-null  float64\n",
      " 16  primary_cleaner.output.concentrate_sol              14149 non-null  float64\n",
      " 17  primary_cleaner.output.concentrate_au               14149 non-null  float64\n",
      " 18  primary_cleaner.output.tail_ag                      14149 non-null  float64\n",
      " 19  primary_cleaner.output.tail_pb                      14149 non-null  float64\n",
      " 20  primary_cleaner.output.tail_sol                     14149 non-null  float64\n",
      " 21  primary_cleaner.output.tail_au                      14149 non-null  float64\n",
      " 22  primary_cleaner.state.floatbank8_a_air              14149 non-null  float64\n",
      " 23  primary_cleaner.state.floatbank8_a_level            14149 non-null  float64\n",
      " 24  primary_cleaner.state.floatbank8_b_air              14149 non-null  float64\n",
      " 25  primary_cleaner.state.floatbank8_b_level            14149 non-null  float64\n",
      " 26  primary_cleaner.state.floatbank8_c_air              14149 non-null  float64\n",
      " 27  primary_cleaner.state.floatbank8_c_level            14149 non-null  float64\n",
      " 28  primary_cleaner.state.floatbank8_d_air              14149 non-null  float64\n",
      " 29  primary_cleaner.state.floatbank8_d_level            14149 non-null  float64\n",
      " 30  rougher.calculation.sulfate_to_au_concentrate       14149 non-null  float64\n",
      " 31  rougher.calculation.floatbank10_sulfate_to_au_feed  14149 non-null  float64\n",
      " 32  rougher.calculation.floatbank11_sulfate_to_au_feed  14149 non-null  float64\n",
      " 33  rougher.calculation.au_pb_ratio                     14149 non-null  float64\n",
      " 34  rougher.input.feed_ag                               14149 non-null  float64\n",
      " 35  rougher.input.feed_pb                               14149 non-null  float64\n",
      " 36  rougher.input.feed_rate                             14149 non-null  float64\n",
      " 37  rougher.input.feed_size                             14149 non-null  float64\n",
      " 38  rougher.input.feed_sol                              14149 non-null  float64\n",
      " 39  rougher.input.feed_au                               14149 non-null  float64\n",
      " 40  rougher.input.floatbank10_sulfate                   14149 non-null  float64\n",
      " 41  rougher.input.floatbank10_xanthate                  14149 non-null  float64\n",
      " 42  rougher.input.floatbank11_sulfate                   14149 non-null  float64\n",
      " 43  rougher.input.floatbank11_xanthate                  14149 non-null  float64\n",
      " 44  rougher.output.concentrate_ag                       14149 non-null  float64\n",
      " 45  rougher.output.concentrate_pb                       14149 non-null  float64\n",
      " 46  rougher.output.concentrate_sol                      14149 non-null  float64\n",
      " 47  rougher.output.concentrate_au                       14149 non-null  float64\n",
      " 48  rougher.output.recovery                             14149 non-null  float64\n",
      " 49  rougher.output.tail_ag                              14149 non-null  float64\n",
      " 50  rougher.output.tail_pb                              14149 non-null  float64\n",
      " 51  rougher.output.tail_sol                             14149 non-null  float64\n",
      " 52  rougher.output.tail_au                              14149 non-null  float64\n",
      " 53  rougher.state.floatbank10_a_air                     14149 non-null  float64\n",
      " 54  rougher.state.floatbank10_a_level                   14149 non-null  float64\n",
      " 55  rougher.state.floatbank10_b_air                     14149 non-null  float64\n",
      " 56  rougher.state.floatbank10_b_level                   14149 non-null  float64\n",
      " 57  rougher.state.floatbank10_c_air                     14149 non-null  float64\n",
      " 58  rougher.state.floatbank10_c_level                   14149 non-null  float64\n",
      " 59  rougher.state.floatbank10_d_air                     14149 non-null  float64\n",
      " 60  rougher.state.floatbank10_d_level                   14149 non-null  float64\n",
      " 61  rougher.state.floatbank10_e_air                     14149 non-null  float64\n",
      " 62  rougher.state.floatbank10_e_level                   14149 non-null  float64\n",
      " 63  rougher.state.floatbank10_f_air                     14149 non-null  float64\n",
      " 64  rougher.state.floatbank10_f_level                   14149 non-null  float64\n",
      " 65  secondary_cleaner.output.tail_ag                    14149 non-null  float64\n",
      " 66  secondary_cleaner.output.tail_pb                    14149 non-null  float64\n",
      " 67  secondary_cleaner.output.tail_sol                   14149 non-null  float64\n",
      " 68  secondary_cleaner.output.tail_au                    14149 non-null  float64\n",
      " 69  secondary_cleaner.state.floatbank2_a_air            14149 non-null  float64\n",
      " 70  secondary_cleaner.state.floatbank2_a_level          14149 non-null  float64\n",
      " 71  secondary_cleaner.state.floatbank2_b_air            14149 non-null  float64\n",
      " 72  secondary_cleaner.state.floatbank2_b_level          14149 non-null  float64\n",
      " 73  secondary_cleaner.state.floatbank3_a_air            14149 non-null  float64\n",
      " 74  secondary_cleaner.state.floatbank3_a_level          14149 non-null  float64\n",
      " 75  secondary_cleaner.state.floatbank3_b_air            14149 non-null  float64\n",
      " 76  secondary_cleaner.state.floatbank3_b_level          14149 non-null  float64\n",
      " 77  secondary_cleaner.state.floatbank4_a_air            14149 non-null  float64\n",
      " 78  secondary_cleaner.state.floatbank4_a_level          14149 non-null  float64\n",
      " 79  secondary_cleaner.state.floatbank4_b_air            14149 non-null  float64\n",
      " 80  secondary_cleaner.state.floatbank4_b_level          14149 non-null  float64\n",
      " 81  secondary_cleaner.state.floatbank5_a_air            14149 non-null  float64\n",
      " 82  secondary_cleaner.state.floatbank5_a_level          14149 non-null  float64\n",
      " 83  secondary_cleaner.state.floatbank5_b_air            14149 non-null  float64\n",
      " 84  secondary_cleaner.state.floatbank5_b_level          14149 non-null  float64\n",
      " 85  secondary_cleaner.state.floatbank6_a_air            14149 non-null  float64\n",
      " 86  secondary_cleaner.state.floatbank6_a_level          14149 non-null  float64\n",
      "dtypes: float64(86), object(1)\n",
      "memory usage: 9.5+ MB\n"
     ]
    }
   ],
   "source": [
    "train_data.info() "
   ]
  },
  {
   "cell_type": "markdown",
   "metadata": {},
   "source": [
    "Пропуски заполнены."
   ]
  },
  {
   "cell_type": "markdown",
   "metadata": {},
   "source": [
    "#### test_data"
   ]
  },
  {
   "cell_type": "markdown",
   "metadata": {},
   "source": [
    "Воспользуемся тем же методом для заполнения пропусков в тестовой выборке."
   ]
  },
  {
   "cell_type": "code",
   "execution_count": 23,
   "metadata": {},
   "outputs": [],
   "source": [
    "test_data.fillna(method='ffill', inplace=True)"
   ]
  },
  {
   "cell_type": "code",
   "execution_count": 24,
   "metadata": {
    "scrolled": true
   },
   "outputs": [
    {
     "name": "stdout",
     "output_type": "stream",
     "text": [
      "<class 'pandas.core.frame.DataFrame'>\n",
      "RangeIndex: 5856 entries, 0 to 5855\n",
      "Data columns (total 53 columns):\n",
      " #   Column                                      Non-Null Count  Dtype  \n",
      "---  ------                                      --------------  -----  \n",
      " 0   date                                        5856 non-null   object \n",
      " 1   primary_cleaner.input.sulfate               5856 non-null   float64\n",
      " 2   primary_cleaner.input.depressant            5856 non-null   float64\n",
      " 3   primary_cleaner.input.feed_size             5856 non-null   float64\n",
      " 4   primary_cleaner.input.xanthate              5856 non-null   float64\n",
      " 5   primary_cleaner.state.floatbank8_a_air      5856 non-null   float64\n",
      " 6   primary_cleaner.state.floatbank8_a_level    5856 non-null   float64\n",
      " 7   primary_cleaner.state.floatbank8_b_air      5856 non-null   float64\n",
      " 8   primary_cleaner.state.floatbank8_b_level    5856 non-null   float64\n",
      " 9   primary_cleaner.state.floatbank8_c_air      5856 non-null   float64\n",
      " 10  primary_cleaner.state.floatbank8_c_level    5856 non-null   float64\n",
      " 11  primary_cleaner.state.floatbank8_d_air      5856 non-null   float64\n",
      " 12  primary_cleaner.state.floatbank8_d_level    5856 non-null   float64\n",
      " 13  rougher.input.feed_ag                       5856 non-null   float64\n",
      " 14  rougher.input.feed_pb                       5856 non-null   float64\n",
      " 15  rougher.input.feed_rate                     5856 non-null   float64\n",
      " 16  rougher.input.feed_size                     5856 non-null   float64\n",
      " 17  rougher.input.feed_sol                      5856 non-null   float64\n",
      " 18  rougher.input.feed_au                       5856 non-null   float64\n",
      " 19  rougher.input.floatbank10_sulfate           5856 non-null   float64\n",
      " 20  rougher.input.floatbank10_xanthate          5856 non-null   float64\n",
      " 21  rougher.input.floatbank11_sulfate           5856 non-null   float64\n",
      " 22  rougher.input.floatbank11_xanthate          5856 non-null   float64\n",
      " 23  rougher.state.floatbank10_a_air             5856 non-null   float64\n",
      " 24  rougher.state.floatbank10_a_level           5856 non-null   float64\n",
      " 25  rougher.state.floatbank10_b_air             5856 non-null   float64\n",
      " 26  rougher.state.floatbank10_b_level           5856 non-null   float64\n",
      " 27  rougher.state.floatbank10_c_air             5856 non-null   float64\n",
      " 28  rougher.state.floatbank10_c_level           5856 non-null   float64\n",
      " 29  rougher.state.floatbank10_d_air             5856 non-null   float64\n",
      " 30  rougher.state.floatbank10_d_level           5856 non-null   float64\n",
      " 31  rougher.state.floatbank10_e_air             5856 non-null   float64\n",
      " 32  rougher.state.floatbank10_e_level           5856 non-null   float64\n",
      " 33  rougher.state.floatbank10_f_air             5856 non-null   float64\n",
      " 34  rougher.state.floatbank10_f_level           5856 non-null   float64\n",
      " 35  secondary_cleaner.state.floatbank2_a_air    5856 non-null   float64\n",
      " 36  secondary_cleaner.state.floatbank2_a_level  5856 non-null   float64\n",
      " 37  secondary_cleaner.state.floatbank2_b_air    5856 non-null   float64\n",
      " 38  secondary_cleaner.state.floatbank2_b_level  5856 non-null   float64\n",
      " 39  secondary_cleaner.state.floatbank3_a_air    5856 non-null   float64\n",
      " 40  secondary_cleaner.state.floatbank3_a_level  5856 non-null   float64\n",
      " 41  secondary_cleaner.state.floatbank3_b_air    5856 non-null   float64\n",
      " 42  secondary_cleaner.state.floatbank3_b_level  5856 non-null   float64\n",
      " 43  secondary_cleaner.state.floatbank4_a_air    5856 non-null   float64\n",
      " 44  secondary_cleaner.state.floatbank4_a_level  5856 non-null   float64\n",
      " 45  secondary_cleaner.state.floatbank4_b_air    5856 non-null   float64\n",
      " 46  secondary_cleaner.state.floatbank4_b_level  5856 non-null   float64\n",
      " 47  secondary_cleaner.state.floatbank5_a_air    5856 non-null   float64\n",
      " 48  secondary_cleaner.state.floatbank5_a_level  5856 non-null   float64\n",
      " 49  secondary_cleaner.state.floatbank5_b_air    5856 non-null   float64\n",
      " 50  secondary_cleaner.state.floatbank5_b_level  5856 non-null   float64\n",
      " 51  secondary_cleaner.state.floatbank6_a_air    5856 non-null   float64\n",
      " 52  secondary_cleaner.state.floatbank6_a_level  5856 non-null   float64\n",
      "dtypes: float64(52), object(1)\n",
      "memory usage: 2.4+ MB\n"
     ]
    }
   ],
   "source": [
    "test_data.info()"
   ]
  },
  {
   "cell_type": "markdown",
   "metadata": {},
   "source": [
    "Пропуски заполнены."
   ]
  },
  {
   "cell_type": "markdown",
   "metadata": {},
   "source": [
    "#### full_data"
   ]
  },
  {
   "cell_type": "markdown",
   "metadata": {},
   "source": [
    "Заполним пропуски в full_data."
   ]
  },
  {
   "cell_type": "code",
   "execution_count": 25,
   "metadata": {},
   "outputs": [],
   "source": [
    "full_data.fillna(method='ffill', inplace=True)"
   ]
  },
  {
   "cell_type": "code",
   "execution_count": 26,
   "metadata": {
    "scrolled": true
   },
   "outputs": [
    {
     "name": "stdout",
     "output_type": "stream",
     "text": [
      "<class 'pandas.core.frame.DataFrame'>\n",
      "RangeIndex: 22716 entries, 0 to 22715\n",
      "Data columns (total 87 columns):\n",
      " #   Column                                              Non-Null Count  Dtype  \n",
      "---  ------                                              --------------  -----  \n",
      " 0   date                                                22716 non-null  object \n",
      " 1   final.output.concentrate_ag                         22716 non-null  float64\n",
      " 2   final.output.concentrate_pb                         22716 non-null  float64\n",
      " 3   final.output.concentrate_sol                        22716 non-null  float64\n",
      " 4   final.output.concentrate_au                         22716 non-null  float64\n",
      " 5   final.output.recovery                               22716 non-null  float64\n",
      " 6   final.output.tail_ag                                22716 non-null  float64\n",
      " 7   final.output.tail_pb                                22716 non-null  float64\n",
      " 8   final.output.tail_sol                               22716 non-null  float64\n",
      " 9   final.output.tail_au                                22716 non-null  float64\n",
      " 10  primary_cleaner.input.sulfate                       22716 non-null  float64\n",
      " 11  primary_cleaner.input.depressant                    22716 non-null  float64\n",
      " 12  primary_cleaner.input.feed_size                     22716 non-null  float64\n",
      " 13  primary_cleaner.input.xanthate                      22716 non-null  float64\n",
      " 14  primary_cleaner.output.concentrate_ag               22716 non-null  float64\n",
      " 15  primary_cleaner.output.concentrate_pb               22716 non-null  float64\n",
      " 16  primary_cleaner.output.concentrate_sol              22716 non-null  float64\n",
      " 17  primary_cleaner.output.concentrate_au               22716 non-null  float64\n",
      " 18  primary_cleaner.output.tail_ag                      22716 non-null  float64\n",
      " 19  primary_cleaner.output.tail_pb                      22716 non-null  float64\n",
      " 20  primary_cleaner.output.tail_sol                     22716 non-null  float64\n",
      " 21  primary_cleaner.output.tail_au                      22716 non-null  float64\n",
      " 22  primary_cleaner.state.floatbank8_a_air              22716 non-null  float64\n",
      " 23  primary_cleaner.state.floatbank8_a_level            22716 non-null  float64\n",
      " 24  primary_cleaner.state.floatbank8_b_air              22716 non-null  float64\n",
      " 25  primary_cleaner.state.floatbank8_b_level            22716 non-null  float64\n",
      " 26  primary_cleaner.state.floatbank8_c_air              22716 non-null  float64\n",
      " 27  primary_cleaner.state.floatbank8_c_level            22716 non-null  float64\n",
      " 28  primary_cleaner.state.floatbank8_d_air              22716 non-null  float64\n",
      " 29  primary_cleaner.state.floatbank8_d_level            22716 non-null  float64\n",
      " 30  rougher.calculation.sulfate_to_au_concentrate       22716 non-null  float64\n",
      " 31  rougher.calculation.floatbank10_sulfate_to_au_feed  22716 non-null  float64\n",
      " 32  rougher.calculation.floatbank11_sulfate_to_au_feed  22716 non-null  float64\n",
      " 33  rougher.calculation.au_pb_ratio                     22716 non-null  float64\n",
      " 34  rougher.input.feed_ag                               22716 non-null  float64\n",
      " 35  rougher.input.feed_pb                               22716 non-null  float64\n",
      " 36  rougher.input.feed_rate                             22716 non-null  float64\n",
      " 37  rougher.input.feed_size                             22716 non-null  float64\n",
      " 38  rougher.input.feed_sol                              22716 non-null  float64\n",
      " 39  rougher.input.feed_au                               22716 non-null  float64\n",
      " 40  rougher.input.floatbank10_sulfate                   22716 non-null  float64\n",
      " 41  rougher.input.floatbank10_xanthate                  22716 non-null  float64\n",
      " 42  rougher.input.floatbank11_sulfate                   22716 non-null  float64\n",
      " 43  rougher.input.floatbank11_xanthate                  22716 non-null  float64\n",
      " 44  rougher.output.concentrate_ag                       22716 non-null  float64\n",
      " 45  rougher.output.concentrate_pb                       22716 non-null  float64\n",
      " 46  rougher.output.concentrate_sol                      22716 non-null  float64\n",
      " 47  rougher.output.concentrate_au                       22716 non-null  float64\n",
      " 48  rougher.output.recovery                             22716 non-null  float64\n",
      " 49  rougher.output.tail_ag                              22716 non-null  float64\n",
      " 50  rougher.output.tail_pb                              22716 non-null  float64\n",
      " 51  rougher.output.tail_sol                             22716 non-null  float64\n",
      " 52  rougher.output.tail_au                              22716 non-null  float64\n",
      " 53  rougher.state.floatbank10_a_air                     22716 non-null  float64\n",
      " 54  rougher.state.floatbank10_a_level                   22716 non-null  float64\n",
      " 55  rougher.state.floatbank10_b_air                     22716 non-null  float64\n",
      " 56  rougher.state.floatbank10_b_level                   22716 non-null  float64\n",
      " 57  rougher.state.floatbank10_c_air                     22716 non-null  float64\n",
      " 58  rougher.state.floatbank10_c_level                   22716 non-null  float64\n",
      " 59  rougher.state.floatbank10_d_air                     22716 non-null  float64\n",
      " 60  rougher.state.floatbank10_d_level                   22716 non-null  float64\n",
      " 61  rougher.state.floatbank10_e_air                     22716 non-null  float64\n",
      " 62  rougher.state.floatbank10_e_level                   22716 non-null  float64\n",
      " 63  rougher.state.floatbank10_f_air                     22716 non-null  float64\n",
      " 64  rougher.state.floatbank10_f_level                   22716 non-null  float64\n",
      " 65  secondary_cleaner.output.tail_ag                    22716 non-null  float64\n",
      " 66  secondary_cleaner.output.tail_pb                    22716 non-null  float64\n",
      " 67  secondary_cleaner.output.tail_sol                   22716 non-null  float64\n",
      " 68  secondary_cleaner.output.tail_au                    22716 non-null  float64\n",
      " 69  secondary_cleaner.state.floatbank2_a_air            22716 non-null  float64\n",
      " 70  secondary_cleaner.state.floatbank2_a_level          22716 non-null  float64\n",
      " 71  secondary_cleaner.state.floatbank2_b_air            22716 non-null  float64\n",
      " 72  secondary_cleaner.state.floatbank2_b_level          22716 non-null  float64\n",
      " 73  secondary_cleaner.state.floatbank3_a_air            22716 non-null  float64\n",
      " 74  secondary_cleaner.state.floatbank3_a_level          22716 non-null  float64\n",
      " 75  secondary_cleaner.state.floatbank3_b_air            22716 non-null  float64\n",
      " 76  secondary_cleaner.state.floatbank3_b_level          22716 non-null  float64\n",
      " 77  secondary_cleaner.state.floatbank4_a_air            22716 non-null  float64\n",
      " 78  secondary_cleaner.state.floatbank4_a_level          22716 non-null  float64\n",
      " 79  secondary_cleaner.state.floatbank4_b_air            22716 non-null  float64\n",
      " 80  secondary_cleaner.state.floatbank4_b_level          22716 non-null  float64\n",
      " 81  secondary_cleaner.state.floatbank5_a_air            22716 non-null  float64\n",
      " 82  secondary_cleaner.state.floatbank5_a_level          22716 non-null  float64\n",
      " 83  secondary_cleaner.state.floatbank5_b_air            22716 non-null  float64\n",
      " 84  secondary_cleaner.state.floatbank5_b_level          22716 non-null  float64\n",
      " 85  secondary_cleaner.state.floatbank6_a_air            22716 non-null  float64\n",
      " 86  secondary_cleaner.state.floatbank6_a_level          22716 non-null  float64\n",
      "dtypes: float64(86), object(1)\n",
      "memory usage: 15.1+ MB\n"
     ]
    }
   ],
   "source": [
    "full_data.info()"
   ]
  },
  {
   "cell_type": "markdown",
   "metadata": {},
   "source": [
    "## Анализ данных"
   ]
  },
  {
   "cell_type": "markdown",
   "metadata": {},
   "source": [
    "### Концентрация металлов на различных этапах очистки"
   ]
  },
  {
   "cell_type": "markdown",
   "metadata": {},
   "source": [
    "#### Изменение концентрации Золота (Au) на разных этапах"
   ]
  },
  {
   "cell_type": "markdown",
   "metadata": {},
   "source": [
    "Посмотрим на концентрацию Золота (Au) на разных этапах очистки."
   ]
  },
  {
   "cell_type": "code",
   "execution_count": 27,
   "metadata": {
    "scrolled": false
   },
   "outputs": [],
   "source": [
    "# функция визуализации веществ на разных этапах\n",
    "def show_phase(phase1, phase2, phase3, phase4, label):\n",
    "    plt.figure(figsize=(12, 6))\n",
    "    plt.hist(phase1, label='Сырье', bins=100, alpha=0.5)\n",
    "    plt.hist(phase2, label='После флотации', bins=100, alpha=0.5)\n",
    "    plt.hist(phase3, label='После первой очистки', bins=100, alpha=0.5)\n",
    "    plt.hist(phase4, label='Финальная концентрация', bins=100, alpha=0.5)\n",
    "\n",
    "    plt.title('Концентрация на различных этапах очистки'+ \"\\n\" + label + \"\\n\")\n",
    "    plt.xlabel('Концентрация')\n",
    "    plt.ylabel('Частотность')\n",
    "    plt.legend()\n",
    "    plt.grid(True)\n",
    "\n",
    "    plt.show()"
   ]
  },
  {
   "cell_type": "code",
   "execution_count": 28,
   "metadata": {},
   "outputs": [
    {
     "data": {
      "image/png": "[encoded data removed]",
      "text/plain": [
       "<Figure size 864x432 with 1 Axes>"
      ]
     },
     "metadata": {
      "needs_background": "light"
     },
     "output_type": "display_data"
    }
   ],
   "source": [
    "show_phase(\n",
    "    full_data['rougher.input.feed_au'], \n",
    "    full_data['rougher.output.concentrate_au'], \n",
    "    full_data['primary_cleaner.output.concentrate_au'], \n",
    "    full_data['final.output.concentrate_au'],\n",
    "    'Au'\n",
    ")"
   ]
  },
  {
   "cell_type": "markdown",
   "metadata": {},
   "source": [
    "***Концентрация золота в сырье и концентрате растет от этапа к этапу, так и должно быть.***"
   ]
  },
  {
   "cell_type": "markdown",
   "metadata": {},
   "source": [
    "Видны выбросы - нулевые значения, вероятно это связано либо с паузами в производстве, либо ошибками сбора данных. Предполагаю, что и в других критериях это отражается, поэтому сразу будем отсекать нулевые значения."
   ]
  },
  {
   "cell_type": "code",
   "execution_count": 29,
   "metadata": {},
   "outputs": [],
   "source": [
    "full_data = full_data.loc[\n",
    "    (full_data['rougher.input.feed_au'] > 0.1) &\n",
    "    (full_data['rougher.output.concentrate_au'] > 0.1) &\n",
    "    (full_data['primary_cleaner.output.concentrate_au'] > 0.1) &\n",
    "    (full_data['final.output.concentrate_au'] > 0.1)\n",
    "    \n",
    "]"
   ]
  },
  {
   "cell_type": "markdown",
   "metadata": {},
   "source": [
    "#### Изменение концентрации Серебра (Ag) на разных этапах"
   ]
  },
  {
   "cell_type": "markdown",
   "metadata": {},
   "source": [
    "Избавимся от нулевых выбросов в признаках."
   ]
  },
  {
   "cell_type": "code",
   "execution_count": 30,
   "metadata": {},
   "outputs": [],
   "source": [
    "full_data = full_data.loc[\n",
    "    (full_data['rougher.input.feed_ag'] > 0.1) &\n",
    "    (full_data['rougher.output.concentrate_ag'] > 0.1) &\n",
    "    (full_data['primary_cleaner.output.concentrate_ag'] > 0.1) &\n",
    "    (full_data['final.output.concentrate_ag'] > 0.1)\n",
    "    \n",
    "]"
   ]
  },
  {
   "cell_type": "code",
   "execution_count": 31,
   "metadata": {
    "scrolled": false
   },
   "outputs": [
    {
     "data": {
      "image/png": "[encoded data removed]",
      "text/plain": [
       "<Figure size 864x432 with 1 Axes>"
      ]
     },
     "metadata": {
      "needs_background": "light"
     },
     "output_type": "display_data"
    }
   ],
   "source": [
    "show_phase(\n",
    "    full_data['rougher.input.feed_ag'], \n",
    "    full_data['rougher.output.concentrate_ag'], \n",
    "    full_data['primary_cleaner.output.concentrate_ag'], \n",
    "    full_data['final.output.concentrate_ag'],\n",
    "    'Ag'\n",
    ")"
   ]
  },
  {
   "cell_type": "markdown",
   "metadata": {},
   "source": [
    "Концентрация серебра меняется не так линейно, как целевого элемента (Au) и после флотации несколько увеличивается, а затем идет на снижение."
   ]
  },
  {
   "cell_type": "markdown",
   "metadata": {},
   "source": [
    "#### Изменение концентрации Свинца (Pb) на разных этапах"
   ]
  },
  {
   "cell_type": "markdown",
   "metadata": {},
   "source": [
    "Избавимся от нулевых выбросов в признаках."
   ]
  },
  {
   "cell_type": "code",
   "execution_count": 32,
   "metadata": {},
   "outputs": [],
   "source": [
    "full_data = full_data.loc[\n",
    "    (full_data['rougher.input.feed_pb'] > 0.1) &\n",
    "    (full_data['rougher.output.concentrate_pb'] > 0.1) &\n",
    "    (full_data['primary_cleaner.output.concentrate_pb'] > 0.1) &\n",
    "    (full_data['final.output.concentrate_pb'] > 0.1)\n",
    "    \n",
    "]"
   ]
  },
  {
   "cell_type": "code",
   "execution_count": 33,
   "metadata": {
    "scrolled": false
   },
   "outputs": [
    {
     "data": {
      "image/png": "[encoded data removed]",
      "text/plain": [
       "<Figure size 864x432 with 1 Axes>"
      ]
     },
     "metadata": {
      "needs_background": "light"
     },
     "output_type": "display_data"
    }
   ],
   "source": [
    "show_phase(\n",
    "    full_data['rougher.input.feed_pb'], \n",
    "    full_data['rougher.output.concentrate_pb'], \n",
    "    full_data['primary_cleaner.output.concentrate_pb'], \n",
    "    full_data['final.output.concentrate_pb'],\n",
    "    'Pb'\n",
    ")"
   ]
  },
  {
   "cell_type": "markdown",
   "metadata": {},
   "source": [
    "Концентрация свинца в концентрате к финальной стадии повышается, смещение заметнее всего от стадии сырья до завершения флотации, далее идет небольшая консолидация по распределению, но существенного смещения после первой стадии очистки не наблюдается."
   ]
  },
  {
   "cell_type": "markdown",
   "metadata": {},
   "source": [
    "#### Изменение соотношения веществ в концентрате на различных этапах"
   ]
  },
  {
   "cell_type": "markdown",
   "metadata": {},
   "source": [
    "Посмотрим на соотношение концентрации Золота, Серебра и Свинца на разных этапах очистки."
   ]
  },
  {
   "cell_type": "code",
   "execution_count": 34,
   "metadata": {},
   "outputs": [],
   "source": [
    "# функция визуализации соотношения веществ на разных этапах\n",
    "def show_element(element1, element2, element3, label):\n",
    "    plt.figure(figsize=(12, 6))\n",
    "    plt.hist(element1, label='Золото (Au)', bins=100, alpha=0.5)\n",
    "    plt.hist(element2, label='Серебро (Ag)', bins=100, alpha=0.5)\n",
    "    plt.hist(element3, label='Свинец (Pb)', bins=100, alpha=0.5)\n",
    "    \n",
    "\n",
    "    plt.title('Соотношение веществ на различных этапах очистки'+ \"\\n\" + \"\\n\" + label + \"\\n\")\n",
    "    plt.xlabel('Концентрация')\n",
    "    plt.ylabel('Частотность')\n",
    "    plt.legend()\n",
    "    plt.grid(True)\n",
    "\n",
    "    plt.show()"
   ]
  },
  {
   "cell_type": "markdown",
   "metadata": {},
   "source": [
    "***Этап сырья***"
   ]
  },
  {
   "cell_type": "code",
   "execution_count": 35,
   "metadata": {},
   "outputs": [
    {
     "data": {
      "image/png": "[encoded data removed]",
      "text/plain": [
       "<Figure size 864x432 with 1 Axes>"
      ]
     },
     "metadata": {
      "needs_background": "light"
     },
     "output_type": "display_data"
    }
   ],
   "source": [
    "show_element(\n",
    "    full_data['rougher.input.feed_au'], \n",
    "    full_data['rougher.input.feed_ag'], \n",
    "    full_data['rougher.input.feed_pb'], \n",
    "    'Сырье'\n",
    ")"
   ]
  },
  {
   "cell_type": "markdown",
   "metadata": {},
   "source": [
    "В изначальной породе (на этапе сырья) концентрация Золота и Серебра очень схожи, тогда как содержание Свинца ниже в 2-3 раза."
   ]
  },
  {
   "cell_type": "markdown",
   "metadata": {},
   "source": [
    "***После флотации***"
   ]
  },
  {
   "cell_type": "code",
   "execution_count": 36,
   "metadata": {
    "scrolled": false
   },
   "outputs": [
    {
     "data": {
      "image/png": "[encoded data removed]",
      "text/plain": [
       "<Figure size 864x432 with 1 Axes>"
      ]
     },
     "metadata": {
      "needs_background": "light"
     },
     "output_type": "display_data"
    }
   ],
   "source": [
    "show_element(\n",
    "    full_data['rougher.output.concentrate_au'], \n",
    "    full_data['rougher.output.concentrate_ag'], \n",
    "    full_data['rougher.output.concentrate_pb'], \n",
    "    'После флотации'\n",
    ")"
   ]
  },
  {
   "cell_type": "markdown",
   "metadata": {},
   "source": [
    "После флотации долевое содержание веществ в концентрате повышается и становится явным главеноство целевого вещества (Золота) порядка 20 условных единиц (было порядка 8 до флотации). \n",
    "\n",
    "На втором месте Серебро, далее Свинец."
   ]
  },
  {
   "cell_type": "markdown",
   "metadata": {},
   "source": [
    "***После первого этапа очистки***"
   ]
  },
  {
   "cell_type": "code",
   "execution_count": 37,
   "metadata": {
    "scrolled": false
   },
   "outputs": [
    {
     "data": {
      "image/png": "[encoded data removed]",
      "text/plain": [
       "<Figure size 864x432 with 1 Axes>"
      ]
     },
     "metadata": {
      "needs_background": "light"
     },
     "output_type": "display_data"
    }
   ],
   "source": [
    "show_element(\n",
    "    full_data['primary_cleaner.output.concentrate_au'], \n",
    "    full_data['primary_cleaner.output.concentrate_ag'], \n",
    "    full_data['primary_cleaner.output.concentrate_pb'], \n",
    "    'После первого этапа очистки'\n",
    ")"
   ]
  },
  {
   "cell_type": "markdown",
   "metadata": {},
   "source": [
    "После первого этапа очистки наблюдается значительное смещение в концентрации Золота (порядка 33 единиц), тогда как Свинец и Серебро на уровне 10 и 8 единици соответсвенно.\n",
    "\n",
    "Серебро уступает по доле Свинцу на данном этапе."
   ]
  },
  {
   "cell_type": "markdown",
   "metadata": {},
   "source": [
    "***Финальный концентрат***"
   ]
  },
  {
   "cell_type": "code",
   "execution_count": 38,
   "metadata": {},
   "outputs": [
    {
     "data": {
      "image/png": "[encoded data removed]",
      "text/plain": [
       "<Figure size 864x432 with 1 Axes>"
      ]
     },
     "metadata": {
      "needs_background": "light"
     },
     "output_type": "display_data"
    }
   ],
   "source": [
    "show_element(\n",
    "    full_data['final.output.concentrate_au'], \n",
    "    full_data['final.output.concentrate_ag'], \n",
    "    full_data['final.output.concentrate_pb'], \n",
    "    'Финальный концентрат'\n",
    ")"
   ]
  },
  {
   "cell_type": "markdown",
   "metadata": {},
   "source": [
    "В финальном концентрате соотношение целевого элемента (Золота) к Свинцу и Серебру 4,5 и 9 раз соответственно.\n",
    "\n",
    "Серебро окончательно уступает Свинцу по доле концентрации в два раза 5 против 10 единиц."
   ]
  },
  {
   "cell_type": "markdown",
   "metadata": {},
   "source": [
    "**Вывод:** Увеличение доли целевого элемента (Золота) от этапа к этапу закономерно и справедливо, данные подтверждают разумность технологических процессов. \n",
    "\n"
   ]
  },
  {
   "cell_type": "markdown",
   "metadata": {},
   "source": [
    "###  Анализ размера гранул"
   ]
  },
  {
   "cell_type": "markdown",
   "metadata": {},
   "source": [
    "Посмотрим на распределение размеров гранул на обучающей и тестовой выборках на разных этапах."
   ]
  },
  {
   "cell_type": "code",
   "execution_count": 39,
   "metadata": {},
   "outputs": [],
   "source": [
    "# функция распределения размера гранул по двум выборкам\n",
    "def feed_size(size_train, size_test, label):\n",
    "    plt.figure(figsize=(12, 6))\n",
    "    plt.hist(size_train, label='size_train', bins=100, alpha=0.5, density=True) # density\n",
    "    plt.hist(size_test, label='size_test', bins=100, alpha=0.5, density=True)\n",
    "    \n",
    "    \n",
    "\n",
    "    plt.title('Размер гранул на этапе'+ \"\\n\" + \"\\n\" + label + \"\\n\")\n",
    "    plt.xlabel('Концентрация')\n",
    "    plt.ylabel('Частотность/Доля')\n",
    "    plt.legend()\n",
    "    plt.grid(True)\n",
    "\n",
    "    plt.show()"
   ]
  },
  {
   "cell_type": "markdown",
   "metadata": {},
   "source": [
    "***Этап сырья***"
   ]
  },
  {
   "cell_type": "code",
   "execution_count": 40,
   "metadata": {},
   "outputs": [
    {
     "data": {
      "image/png": "[encoded data removed]",
      "text/plain": [
       "<Figure size 864x432 with 1 Axes>"
      ]
     },
     "metadata": {
      "needs_background": "light"
     },
     "output_type": "display_data"
    }
   ],
   "source": [
    "feed_size(\n",
    "    train_data['rougher.input.feed_size'],\n",
    "    test_data['rougher.input.feed_size'],\n",
    "    'Сырьё'\n",
    ")"
   ]
  },
  {
   "cell_type": "markdown",
   "metadata": {},
   "source": [
    "***После флотации***"
   ]
  },
  {
   "cell_type": "code",
   "execution_count": 41,
   "metadata": {},
   "outputs": [
    {
     "data": {
      "image/png": "[encoded data removed]",
      "text/plain": [
       "<Figure size 864x432 with 1 Axes>"
      ]
     },
     "metadata": {
      "needs_background": "light"
     },
     "output_type": "display_data"
    }
   ],
   "source": [
    "feed_size(\n",
    "    train_data['primary_cleaner.input.feed_size'],\n",
    "    test_data['primary_cleaner.input.feed_size'],\n",
    "    'После флотации'\n",
    ")"
   ]
  },
  {
   "cell_type": "markdown",
   "metadata": {},
   "source": [
    "**Вывод:** Распределение размеров гранул в выборках схоже, сильного расхождения нет, искажений с обучением модели в будущем быть не должно."
   ]
  },
  {
   "cell_type": "markdown",
   "metadata": {},
   "source": [
    "### Суммарная концентрация веществ на разных стадиях"
   ]
  },
  {
   "cell_type": "markdown",
   "metadata": {},
   "source": [
    "Посмотрим на распределение суммарной концентрации веществ в обучающей и полной выборке на разных стадиях."
   ]
  },
  {
   "cell_type": "code",
   "execution_count": 42,
   "metadata": {},
   "outputs": [],
   "source": [
    "# функция распределения размера гранул по двум выборкам\n",
    "def total_concentration(sum_elements, label):\n",
    "    plt.figure(figsize=(12, 6))\n",
    "    plt.hist(sum_elements, label='Cуммарная концентрация', bins=100, alpha=0.5)\n",
    "    plt.title('Суммарная концентрация веществ'+ \"\\n\" + \"\\n\" + label + \"\\n\")\n",
    "    plt.xlabel('Концентрация')\n",
    "    plt.ylabel('Частотность')\n",
    "    plt.legend()\n",
    "    plt.grid(True)\n",
    "\n",
    "    plt.show()"
   ]
  },
  {
   "cell_type": "code",
   "execution_count": 43,
   "metadata": {},
   "outputs": [],
   "source": [
    "# Переменные суммарной концентрации веществ в обучающей выборке на разных стадиях\n",
    "train_sum_input = (\n",
    "    train_data['rougher.input.feed_sol'] + \n",
    "    train_data['rougher.input.feed_au'] + \n",
    "    train_data['rougher.input.feed_ag'] + \n",
    "    train_data['rougher.input.feed_pb']\n",
    ")\n",
    "\n",
    "train_sum_rough  = (\n",
    "    train_data['rougher.output.concentrate_sol'] + \n",
    "    train_data['rougher.output.concentrate_au'] + \n",
    "    train_data['rougher.output.concentrate_ag'] + \n",
    "    train_data['rougher.output.concentrate_pb']\n",
    ")\n",
    "\n",
    "train_sum_final  = (\n",
    "    train_data['final.output.concentrate_sol'] + \n",
    "    train_data['final.output.concentrate_au'] + \n",
    "    train_data['final.output.concentrate_ag'] + \n",
    "    train_data['final.output.concentrate_pb']\n",
    ")\n"
   ]
  },
  {
   "cell_type": "code",
   "execution_count": 44,
   "metadata": {},
   "outputs": [],
   "source": [
    "# Переменные суммарной концентрации веществ в полной выборке на разных стадиях\n",
    "full_sum_input = (\n",
    "    full_data['rougher.input.feed_sol'] + \n",
    "    full_data['rougher.input.feed_au'] + \n",
    "    full_data['rougher.input.feed_ag'] + \n",
    "    full_data['rougher.input.feed_pb']\n",
    ")\n",
    "\n",
    "full_sum_rough  = (\n",
    "    full_data['rougher.output.concentrate_sol'] + \n",
    "    full_data['rougher.output.concentrate_au'] + \n",
    "    full_data['rougher.output.concentrate_ag'] + \n",
    "    full_data['rougher.output.concentrate_pb']\n",
    ")\n",
    "\n",
    "full_sum_final  = (\n",
    "    full_data['final.output.concentrate_sol'] + \n",
    "    full_data['final.output.concentrate_au'] + \n",
    "    full_data['final.output.concentrate_ag'] + \n",
    "    full_data['final.output.concentrate_pb']\n",
    ")"
   ]
  },
  {
   "cell_type": "markdown",
   "metadata": {},
   "source": [
    "***Обучающая выборка***"
   ]
  },
  {
   "cell_type": "code",
   "execution_count": 45,
   "metadata": {},
   "outputs": [
    {
     "data": {
      "image/png": "[encoded data removed]",
      "text/plain": [
       "<Figure size 864x432 with 1 Axes>"
      ]
     },
     "metadata": {
      "needs_background": "light"
     },
     "output_type": "display_data"
    }
   ],
   "source": [
    "total_concentration(train_sum_input, 'Обучающая выборка, сырьё')"
   ]
  },
  {
   "cell_type": "code",
   "execution_count": 46,
   "metadata": {},
   "outputs": [
    {
     "data": {
      "image/png": "[encoded data removed]",
      "text/plain": [
       "<Figure size 864x432 with 1 Axes>"
      ]
     },
     "metadata": {
      "needs_background": "light"
     },
     "output_type": "display_data"
    }
   ],
   "source": [
    "total_concentration(train_sum_rough, 'Обучающая выборка, черновой концентрат')"
   ]
  },
  {
   "cell_type": "code",
   "execution_count": 47,
   "metadata": {},
   "outputs": [
    {
     "data": {
      "image/png": "[encoded data removed]",
      "text/plain": [
       "<Figure size 864x432 with 1 Axes>"
      ]
     },
     "metadata": {
      "needs_background": "light"
     },
     "output_type": "display_data"
    }
   ],
   "source": [
    "total_concentration(train_sum_final, 'Обучающая выборка, финальный концентрат,')"
   ]
  },
  {
   "cell_type": "markdown",
   "metadata": {},
   "source": [
    "***Полная выборка***"
   ]
  },
  {
   "cell_type": "code",
   "execution_count": 48,
   "metadata": {
    "scrolled": false
   },
   "outputs": [
    {
     "data": {
      "image/png": "[encoded data removed]",
      "text/plain": [
       "<Figure size 864x432 with 1 Axes>"
      ]
     },
     "metadata": {
      "needs_background": "light"
     },
     "output_type": "display_data"
    }
   ],
   "source": [
    "total_concentration(full_sum_input, 'Вся выборка, сырьё')"
   ]
  },
  {
   "cell_type": "code",
   "execution_count": 49,
   "metadata": {},
   "outputs": [
    {
     "data": {
      "image/png": "[encoded data removed]",
      "text/plain": [
       "<Figure size 864x432 with 1 Axes>"
      ]
     },
     "metadata": {
      "needs_background": "light"
     },
     "output_type": "display_data"
    }
   ],
   "source": [
    "total_concentration(full_sum_rough, 'Вся выборка, черновой концентрат')"
   ]
  },
  {
   "cell_type": "code",
   "execution_count": 50,
   "metadata": {},
   "outputs": [
    {
     "data": {
      "image/png": "[encoded data removed]",
      "text/plain": [
       "<Figure size 864x432 with 1 Axes>"
      ]
     },
     "metadata": {
      "needs_background": "light"
     },
     "output_type": "display_data"
    }
   ],
   "source": [
    "total_concentration(full_sum_final, 'Вся выборка, финальный концентрат')"
   ]
  },
  {
   "cell_type": "markdown",
   "metadata": {},
   "source": [
    "Из распределений видно, что в обучающей выборке присутствуют выбросы нулевых значений. Выше для полной выборки уже разбирался этот прецедент и выбросы были удалены.\n",
    "\n",
    "Проделаем тоже самое и для обучающей выборки."
   ]
  },
  {
   "cell_type": "code",
   "execution_count": 51,
   "metadata": {},
   "outputs": [],
   "source": [
    "train_data = train_data.loc[\n",
    "    (train_data['rougher.input.feed_au'] > 0.1) &\n",
    "    (train_data['rougher.output.concentrate_au'] > 0.1) &\n",
    "    (train_data['primary_cleaner.output.concentrate_au'] > 0.1) &\n",
    "    (train_data['final.output.concentrate_au'] > 0.1) &\n",
    "    (train_data['rougher.input.feed_pb'] > 0.1) &\n",
    "    (train_data['rougher.output.concentrate_pb'] > 0.1) &\n",
    "    (train_data['primary_cleaner.output.concentrate_pb'] > 0.1) &\n",
    "    (train_data['final.output.concentrate_pb'] > 0.1) &\n",
    "    (train_data['rougher.input.feed_ag'] > 0.1) &\n",
    "    (train_data['rougher.output.concentrate_ag'] > 0.1) &\n",
    "    (train_data['primary_cleaner.output.concentrate_ag'] > 0.1) &\n",
    "    (train_data['final.output.concentrate_ag'] > 0.1)\n",
    "]"
   ]
  },
  {
   "cell_type": "markdown",
   "metadata": {},
   "source": [
    "И для тестовой."
   ]
  },
  {
   "cell_type": "code",
   "execution_count": 52,
   "metadata": {},
   "outputs": [],
   "source": [
    "test_data = test_data.loc[\n",
    "    (test_data['rougher.input.feed_au'] > 0.1) &\n",
    "    (test_data['rougher.input.feed_pb'] > 0.1) &\n",
    "    (test_data['rougher.input.feed_ag'] > 0.1) \n",
    "]"
   ]
  },
  {
   "cell_type": "markdown",
   "metadata": {},
   "source": [
    "***Вывод:*** Выбросы в районе нулевых значений в суммарной концентрации веществ, могут говорить об остановках оборудования, либо о сбоях в загрузке сырья. Чтобы этот факт не сказался отрицательно на обучении модели, избавились от выборосов."
   ]
  },
  {
   "cell_type": "markdown",
   "metadata": {},
   "source": [
    "## Построение модели"
   ]
  },
  {
   "cell_type": "markdown",
   "metadata": {},
   "source": [
    "### Функция вычисления sMAPE"
   ]
  },
  {
   "cell_type": "markdown",
   "metadata": {},
   "source": [
    "Напишем функцию для вычисления sMAPE, которая на вход принимает значения recovery по предсказанию модели и по фактическим данных."
   ]
  },
  {
   "cell_type": "code",
   "execution_count": 53,
   "metadata": {},
   "outputs": [],
   "source": [
    "def smape(y_target, y_pred): \n",
    "    return (sum((abs(y_target - y_pred) / ((abs(y_target) + abs(y_pred)) / 2))) * 100) / len(y_pred)"
   ]
  },
  {
   "cell_type": "markdown",
   "metadata": {},
   "source": [
    "Напишем функцию Итоговой sMAPE, которая на вход принимает sMAPE по черновому концентрату и sMAPE по финальному концентрату."
   ]
  },
  {
   "cell_type": "code",
   "execution_count": 54,
   "metadata": {},
   "outputs": [
    {
     "data": {
      "text/plain": [
       "'\\ndef total_smape(smape_rougher, smape_final):\\n    return (0.25 * smape_rougher) + (0.75 * smape_final)\\n'"
      ]
     },
     "execution_count": 54,
     "metadata": {},
     "output_type": "execute_result"
    }
   ],
   "source": [
    "'''\n",
    "def total_smape(smape_rougher, smape_final):\n",
    "    return (0.25 * smape_rougher) + (0.75 * smape_final)\n",
    "'''"
   ]
  },
  {
   "cell_type": "code",
   "execution_count": 55,
   "metadata": {},
   "outputs": [],
   "source": [
    "def total_smape(target, predict):\n",
    "    rougher = smape(target.iloc[:, 0], predict[:, 0])\n",
    "    final = smape(target.iloc[:, 1], predict[:, 1])\n",
    "    return (0.25 * rougher) + (0.75 * final)"
   ]
  },
  {
   "cell_type": "markdown",
   "metadata": {},
   "source": [
    "### Обучение моделей и кросс-валидация эффективности"
   ]
  },
  {
   "cell_type": "markdown",
   "metadata": {},
   "source": [
    "#### Инициализация признаков и их подготовка"
   ]
  },
  {
   "cell_type": "markdown",
   "metadata": {},
   "source": [
    "Определим признаки и целевые значение для обучения и кросс-валидации модели на обучающей выборке."
   ]
  },
  {
   "cell_type": "markdown",
   "metadata": {},
   "source": [
    "Выберем все имеющиеся признаки из тестовой выборки, чтобы использовать соответствующие признаки в обучающей выборке."
   ]
  },
  {
   "cell_type": "code",
   "execution_count": 56,
   "metadata": {},
   "outputs": [],
   "source": [
    "features_columns = test_data.columns[1:] # название столбцов из test_data"
   ]
  },
  {
   "cell_type": "markdown",
   "metadata": {},
   "source": [
    "Возьмем соответствующий срез из обучающей выборки."
   ]
  },
  {
   "cell_type": "code",
   "execution_count": 57,
   "metadata": {},
   "outputs": [],
   "source": [
    "train_features11 = train_data[features_columns] "
   ]
  },
  {
   "cell_type": "code",
   "execution_count": 58,
   "metadata": {},
   "outputs": [],
   "source": [
    "train_features = train_data[features_columns]\n",
    "train_target = train_data[['rougher.output.recovery', 'final.output.recovery']]"
   ]
  },
  {
   "cell_type": "markdown",
   "metadata": {},
   "source": [
    "Создадим синтетическую метрику для кросс-валидации с использованием метода ``make_scorer``"
   ]
  },
  {
   "cell_type": "code",
   "execution_count": 59,
   "metadata": {},
   "outputs": [],
   "source": [
    "score_smape = make_scorer(total_smape, greater_is_better=False)"
   ]
  },
  {
   "cell_type": "markdown",
   "metadata": {},
   "source": [
    "Произведем масштабирование признаков."
   ]
  },
  {
   "cell_type": "code",
   "execution_count": 60,
   "metadata": {},
   "outputs": [],
   "source": [
    "scaler = StandardScaler()\n",
    "\n",
    "train_features[features_columns] = scaler.fit_transform(train_features[features_columns])"
   ]
  },
  {
   "cell_type": "markdown",
   "metadata": {},
   "source": [
    "####  Тестирование на разных моделях"
   ]
  },
  {
   "cell_type": "markdown",
   "metadata": {},
   "source": [
    "**Линейная регрессия**"
   ]
  },
  {
   "cell_type": "code",
   "execution_count": 61,
   "metadata": {},
   "outputs": [],
   "source": [
    "model_linear = LinearRegression()\n",
    "\n",
    "scores = cross_val_score(model_linear, train_features, train_target, cv=20, scoring=score_smape)"
   ]
  },
  {
   "cell_type": "code",
   "execution_count": 62,
   "metadata": {
    "scrolled": true
   },
   "outputs": [
    {
     "name": "stdout",
     "output_type": "stream",
     "text": [
      "Значение итоговой метрики sMAPE: 8.422380659004912\n"
     ]
    }
   ],
   "source": [
    "print('Значение итоговой метрики sMAPE:', scores.mean() * (-1))"
   ]
  },
  {
   "cell_type": "code",
   "execution_count": 63,
   "metadata": {},
   "outputs": [
    {
     "name": "stdout",
     "output_type": "stream",
     "text": [
      "Параметры модели: {'copy_X': True, 'fit_intercept': True, 'n_jobs': None, 'normalize': False}\n"
     ]
    }
   ],
   "source": [
    "print('Параметры модели:', model_linear.get_params())"
   ]
  },
  {
   "cell_type": "markdown",
   "metadata": {},
   "source": [
    "**Дерево решений**"
   ]
  },
  {
   "cell_type": "code",
   "execution_count": 64,
   "metadata": {
    "scrolled": true
   },
   "outputs": [
    {
     "name": "stdout",
     "output_type": "stream",
     "text": [
      "Значение итоговой метрики sMAPE: 8.859924093767683\n",
      "Параметры модели: {'max_depth': 2}\n",
      "Wall time: 1.34 s\n"
     ]
    }
   ],
   "source": [
    "%%time \n",
    "# ~1.5min\n",
    "#parameters = {'max_depth':range(2, 24, 3), 'splitter':('best', 'random')}  \n",
    "parameters = {'max_depth':range(2, 3, 1)}\n",
    "model_dt = DecisionTreeRegressor(random_state=12345)\n",
    "\n",
    "\n",
    "dtr = GridSearchCV(estimator=model_dt, param_grid=parameters, scoring=score_smape, cv=10)\n",
    "dtr.fit(train_features,  train_target)\n",
    "print('Значение итоговой метрики sMAPE:', dtr.best_score_ * (-1))\n",
    "print('Параметры модели:', dtr.best_params_)\n"
   ]
  },
  {
   "cell_type": "markdown",
   "metadata": {},
   "source": [
    "**Случайный лес**"
   ]
  },
  {
   "cell_type": "code",
   "execution_count": 65,
   "metadata": {
    "scrolled": true
   },
   "outputs": [
    {
     "name": "stdout",
     "output_type": "stream",
     "text": [
      "Итоговая метрика sMAPE: 9.498569171452809\n",
      "Параметры модели: {'max_depth': 16, 'n_estimators': 6}\n",
      "Wall time: 25.3 s\n"
     ]
    }
   ],
   "source": [
    "%%time  \n",
    "# ~1.5min   \n",
    "\n",
    "#parameters = {'n_estimators': range(2,10,4), 'max_depth':range(9, 17, 7)} \n",
    "parameters = {'n_estimators': range(6,7,1), 'max_depth':range(16, 17, 1)}\n",
    "\n",
    "model_rfr = RandomForestRegressor(random_state=12345)\n",
    "\n",
    "rfr = GridSearchCV(estimator=model_rfr, param_grid=parameters, scoring=score_smape, cv=10)\n",
    "rfr.fit(train_features, train_target)\n",
    "print('Итоговая метрика sMAPE:', rfr.best_score_ * (-1))\n",
    "print('Параметры модели:', rfr.best_params_)"
   ]
  },
  {
   "cell_type": "markdown",
   "metadata": {},
   "source": [
    "**`В результате кросс-валидации, лучшая итоговая метрика sMAPE у модели Линейной Регрессии: 8.42%`**"
   ]
  },
  {
   "cell_type": "markdown",
   "metadata": {},
   "source": [
    "Для проверки адекватности полученных результатов прогоним через кросс-валидацию примитивную  модель по среднему значению"
   ]
  },
  {
   "cell_type": "code",
   "execution_count": 66,
   "metadata": {
    "scrolled": true
   },
   "outputs": [],
   "source": [
    "model = DummyRegressor()\n",
    "\n",
    "scores = cross_val_score(model, train_features, train_target, cv=10, scoring=score_smape)"
   ]
  },
  {
   "cell_type": "code",
   "execution_count": 67,
   "metadata": {
    "scrolled": false
   },
   "outputs": [
    {
     "name": "stdout",
     "output_type": "stream",
     "text": [
      "Итоговая метрика sMAPE на примитивной модели: 9.66 %\n"
     ]
    }
   ],
   "source": [
    "print('Итоговая метрика sMAPE на примитивной модели:', round(scores.mean(), 2) * (-1),'%')"
   ]
  },
  {
   "cell_type": "markdown",
   "metadata": {},
   "source": [
    "**Вывод:** модель линейной регресси прошла проверку на адекватность и показала лучший результат по итогам проведенный кросс-валидации на обучающей выборке."
   ]
  },
  {
   "cell_type": "markdown",
   "metadata": {},
   "source": [
    "#### Итоговая проверка модели на тестовой выборке\n"
   ]
  },
  {
   "cell_type": "markdown",
   "metadata": {},
   "source": [
    "Для проверки качества модели на тестовой выборке исходя из значения метрики sMAPE необходимо добавить в датасет значения целевых признаков.\n",
    "\n",
    "Их возможно извлечь из выборки `full_data` синхронизирую значения по дате."
   ]
  },
  {
   "cell_type": "code",
   "execution_count": 68,
   "metadata": {},
   "outputs": [],
   "source": [
    "test_target = test_data.merge(right=full_data , how='left', on='date')[['rougher.output.recovery', 'final.output.recovery']]"
   ]
  },
  {
   "cell_type": "markdown",
   "metadata": {},
   "source": [
    "Так как при объединении таблиц есть риск получить пропущенные значения, проведем процедуру заполнения пропусков, как уже делалось ранее."
   ]
  },
  {
   "cell_type": "code",
   "execution_count": 69,
   "metadata": {},
   "outputs": [],
   "source": [
    "test_target.fillna(method='ffill', inplace=True)"
   ]
  },
  {
   "cell_type": "markdown",
   "metadata": {},
   "source": [
    "<div class=\"alert alert-block alert-info\">\n",
    "<b>Вопрос: </b> Есть мнение, что лучше не заполнять пропуски, как это реализовано сейчас, а удалить их, но при удалении возникаем проблема разноразмерности target и predict. Как быть? \n",
    "</div>\n"
   ]
  },
  {
   "cell_type": "markdown",
   "metadata": {},
   "source": [
    "Инициализируем признаки."
   ]
  },
  {
   "cell_type": "code",
   "execution_count": 72,
   "metadata": {},
   "outputs": [],
   "source": [
    "test_features = test_data.drop('date', axis=1)"
   ]
  },
  {
   "cell_type": "markdown",
   "metadata": {},
   "source": [
    "Проведем масштабирование признаков."
   ]
  },
  {
   "cell_type": "code",
   "execution_count": 73,
   "metadata": {},
   "outputs": [],
   "source": [
    "test_features[features_columns] = scaler.transform(test_features[features_columns])"
   ]
  },
  {
   "cell_type": "markdown",
   "metadata": {},
   "source": [
    "Получим предсказания модели на тестовой выборке и посчитаем итоговую метрику sMAPE."
   ]
  },
  {
   "cell_type": "code",
   "execution_count": 75,
   "metadata": {},
   "outputs": [],
   "source": [
    "model_linear.fit(train_features, train_target)\n",
    "predictions = model_linear.predict(test_features)"
   ]
  },
  {
   "cell_type": "code",
   "execution_count": 76,
   "metadata": {},
   "outputs": [
    {
     "name": "stdout",
     "output_type": "stream",
     "text": [
      "Метрика качества sMAPE на тестовой выборке: 8.17 %\n"
     ]
    }
   ],
   "source": [
    "print('Метрика качества sMAPE на тестовой выборке:', round(total_smape(test_target, predictions), 2),'%')"
   ]
  },
  {
   "cell_type": "markdown",
   "metadata": {},
   "source": [
    "**Вывод:** \n",
    "\n",
    "Наилучшей моделью для прогнозирования результатов данного технологиского процесса оказалась Линейная Регрессия. \n",
    "\n",
    "Целевая контрольная метрика sMAPE для данной модели: 8.17%."
   ]
  },
  {
   "cell_type": "markdown",
   "metadata": {},
   "source": [
    "## Чек-лист готовности проекта"
   ]
  },
  {
   "cell_type": "markdown",
   "metadata": {},
   "source": [
    "- [x]  Jupyter Notebook открыт\n",
    "- [x]  Весь код выполняется без ошибок\n",
    "- [x]  Ячейки с кодом расположены в порядке выполнения\n",
    "- [x]  Выполнен шаг 1: данные подготовлены\n",
    "    - [x]  Проверена формула вычисления эффективности обогащения\n",
    "    - [x]  Проанализированы признаки, недоступные в тестовой выборке\n",
    "    - [x]  Проведена предобработка данных\n",
    "- [x]  Выполнен шаг 2: данные проанализированы\n",
    "    - [x]  Исследовано изменение концентрации элементов на каждом этапе\n",
    "    - [x]  Проанализированы распределения размеров гранул на обучающей и тестовой выборках\n",
    "    - [x]  Исследованы суммарные концентрации\n",
    "    - [x]  Проанализированы и обработаны аномальные значения\n",
    "- [x]  Выполнен шаг 3: построена модель прогнозирования\n",
    "    - [x]  Написана функция для вычисления итогового *sMAPE*\n",
    "    - [x]  Обучено и проверено несколько моделей\n",
    "    - [x]  Выбрана лучшая модель, её качество проверено на тестовой выборке"
   ]
  }
 ],
 "metadata": {
  "ExecuteTimeLog": [
   {
    "duration": 1582,
    "start_time": "2021-06-08T12:41:21.290Z"
   },
   {
    "duration": 980,
    "start_time": "2021-06-08T12:41:22.874Z"
   },
   {
    "duration": 88,
    "start_time": "2021-06-08T12:41:23.856Z"
   },
   {
    "duration": 25,
    "start_time": "2021-06-08T12:41:23.962Z"
   },
   {
    "duration": 93,
    "start_time": "2021-06-08T12:41:23.990Z"
   },
   {
    "duration": 15,
    "start_time": "2021-06-08T12:41:24.086Z"
   },
   {
    "duration": 161,
    "start_time": "2021-06-08T12:41:24.104Z"
   },
   {
    "duration": 20,
    "start_time": "2021-06-08T12:41:24.271Z"
   },
   {
    "duration": 8,
    "start_time": "2021-06-08T12:41:24.295Z"
   },
   {
    "duration": 13,
    "start_time": "2021-06-08T12:41:24.306Z"
   },
   {
    "duration": 47,
    "start_time": "2021-06-08T12:41:24.321Z"
   },
   {
    "duration": 9,
    "start_time": "2021-06-08T12:41:24.370Z"
   },
   {
    "duration": 11,
    "start_time": "2021-06-08T12:41:24.381Z"
   },
   {
    "duration": 24,
    "start_time": "2021-06-08T12:41:24.394Z"
   },
   {
    "duration": 43,
    "start_time": "2021-06-08T12:41:24.421Z"
   },
   {
    "duration": 15,
    "start_time": "2021-06-08T12:41:24.467Z"
   },
   {
    "duration": 10,
    "start_time": "2021-06-08T12:41:24.485Z"
   },
   {
    "duration": 25,
    "start_time": "2021-06-08T12:41:24.498Z"
   },
   {
    "duration": 39,
    "start_time": "2021-06-08T12:41:24.526Z"
   },
   {
    "duration": 1877,
    "start_time": "2021-06-08T12:41:24.567Z"
   },
   {
    "duration": 28,
    "start_time": "2021-06-08T12:41:26.446Z"
   },
   {
    "duration": 19,
    "start_time": "2021-06-08T12:41:26.477Z"
   },
   {
    "duration": 1878,
    "start_time": "2021-06-08T12:41:26.501Z"
   },
   {
    "duration": 18,
    "start_time": "2021-06-08T12:41:28.382Z"
   },
   {
    "duration": 1861,
    "start_time": "2021-06-08T12:41:28.403Z"
   },
   {
    "duration": 6,
    "start_time": "2021-06-08T12:41:30.266Z"
   },
   {
    "duration": 1594,
    "start_time": "2021-06-08T12:41:30.274Z"
   },
   {
    "duration": 2255,
    "start_time": "2021-06-08T12:41:31.871Z"
   },
   {
    "duration": 2256,
    "start_time": "2021-06-08T12:41:34.129Z"
   },
   {
    "duration": 1557,
    "start_time": "2021-06-08T12:41:36.388Z"
   },
   {
    "duration": 18,
    "start_time": "2021-06-08T12:41:37.948Z"
   },
   {
    "duration": 726,
    "start_time": "2021-06-08T12:41:37.969Z"
   },
   {
    "duration": 745,
    "start_time": "2021-06-08T12:41:38.697Z"
   },
   {
    "duration": 30,
    "start_time": "2021-06-08T12:41:39.445Z"
   },
   {
    "duration": 12,
    "start_time": "2021-06-08T12:41:39.477Z"
   },
   {
    "duration": 13,
    "start_time": "2021-06-08T12:41:39.491Z"
   },
   {
    "duration": 56,
    "start_time": "2021-06-08T12:41:39.506Z"
   },
   {
    "duration": 28,
    "start_time": "2021-06-08T12:41:39.565Z"
   },
   {
    "duration": 10,
    "start_time": "2021-06-08T12:41:39.595Z"
   },
   {
    "duration": 61,
    "start_time": "2021-06-08T12:41:39.607Z"
   },
   {
    "duration": 9,
    "start_time": "2021-06-08T12:41:39.670Z"
   },
   {
    "duration": 8,
    "start_time": "2021-06-08T12:41:39.681Z"
   },
   {
    "duration": 139,
    "start_time": "2021-06-08T12:41:39.691Z"
   },
   {
    "duration": 8,
    "start_time": "2021-06-08T12:41:39.832Z"
   },
   {
    "duration": 331,
    "start_time": "2021-06-08T12:41:39.861Z"
   },
   {
    "duration": 37,
    "start_time": "2021-06-08T12:41:40.194Z"
   },
   {
    "duration": 6,
    "start_time": "2021-06-08T12:43:27.561Z"
   },
   {
    "duration": 1045,
    "start_time": "2021-06-08T12:43:30.417Z"
   },
   {
    "duration": 1241,
    "start_time": "2021-06-08T12:43:31.465Z"
   },
   {
    "duration": 20,
    "start_time": "2021-06-08T12:43:32.709Z"
   },
   {
    "duration": 6,
    "start_time": "2021-06-08T12:50:24.076Z"
   },
   {
    "duration": 19,
    "start_time": "2021-06-08T12:58:06.500Z"
   },
   {
    "duration": 7,
    "start_time": "2021-06-08T12:59:08.654Z"
   },
   {
    "duration": 297,
    "start_time": "2021-06-08T12:59:25.092Z"
   },
   {
    "duration": 1284,
    "start_time": "2021-06-08T13:00:41.903Z"
   },
   {
    "duration": 1069,
    "start_time": "2021-06-08T13:01:41.130Z"
   },
   {
    "duration": 1136,
    "start_time": "2021-06-08T13:02:27.691Z"
   },
   {
    "duration": 1175,
    "start_time": "2021-06-08T13:02:40.844Z"
   },
   {
    "duration": 5,
    "start_time": "2021-06-08T13:03:09.185Z"
   },
   {
    "duration": 543,
    "start_time": "2021-06-08T13:03:09.962Z"
   },
   {
    "duration": 529,
    "start_time": "2021-06-08T13:03:39.552Z"
   },
   {
    "duration": 6,
    "start_time": "2021-06-08T13:03:44.228Z"
   },
   {
    "duration": 1054,
    "start_time": "2021-06-08T13:03:45.137Z"
   },
   {
    "duration": 9,
    "start_time": "2021-06-08T13:04:46.981Z"
   },
   {
    "duration": 13,
    "start_time": "2021-06-08T13:07:17.941Z"
   },
   {
    "duration": 8,
    "start_time": "2021-06-08T13:09:41.118Z"
   },
   {
    "duration": 760,
    "start_time": "2021-06-08T13:10:19.358Z"
   },
   {
    "duration": 846,
    "start_time": "2021-06-08T13:10:52.484Z"
   },
   {
    "duration": 10,
    "start_time": "2021-06-08T13:13:50.893Z"
   },
   {
    "duration": 737,
    "start_time": "2021-06-08T13:14:09.964Z"
   },
   {
    "duration": 9,
    "start_time": "2021-06-08T13:15:14.685Z"
   },
   {
    "duration": 11,
    "start_time": "2021-06-08T13:16:41.624Z"
   },
   {
    "duration": 12,
    "start_time": "2021-06-08T13:17:26.168Z"
   },
   {
    "duration": 11,
    "start_time": "2021-06-08T13:17:28.534Z"
   },
   {
    "duration": 736,
    "start_time": "2021-06-08T13:17:52.168Z"
   },
   {
    "duration": 6,
    "start_time": "2021-06-08T13:18:29.124Z"
   },
   {
    "duration": 11,
    "start_time": "2021-06-08T13:19:39.042Z"
   },
   {
    "duration": 9,
    "start_time": "2021-06-08T13:20:44.206Z"
   },
   {
    "duration": 758,
    "start_time": "2021-06-08T13:21:31.828Z"
   },
   {
    "duration": 721,
    "start_time": "2021-06-08T13:22:54.234Z"
   },
   {
    "duration": 759,
    "start_time": "2021-06-08T13:22:54.957Z"
   },
   {
    "duration": 10,
    "start_time": "2021-06-08T13:26:38.584Z"
   },
   {
    "duration": 434,
    "start_time": "2021-06-08T13:32:23.476Z"
   },
   {
    "duration": 23,
    "start_time": "2021-06-08T13:32:46.676Z"
   },
   {
    "duration": 2379,
    "start_time": "2021-06-08T13:33:54.303Z"
   },
   {
    "duration": 32,
    "start_time": "2021-06-08T13:34:10.744Z"
   },
   {
    "duration": 3423,
    "start_time": "2021-06-08T13:34:11.281Z"
   },
   {
    "duration": 7,
    "start_time": "2021-06-08T13:35:30.629Z"
   },
   {
    "duration": 12,
    "start_time": "2021-06-08T13:35:32.182Z"
   },
   {
    "duration": 12,
    "start_time": "2021-06-08T13:35:32.543Z"
   },
   {
    "duration": 1152,
    "start_time": "2021-06-08T13:35:33.124Z"
   },
   {
    "duration": 1116,
    "start_time": "2021-06-08T13:35:34.279Z"
   },
   {
    "duration": 1200,
    "start_time": "2021-06-08T13:35:35.399Z"
   },
   {
    "duration": 1169,
    "start_time": "2021-06-08T13:35:36.603Z"
   },
   {
    "duration": 1133,
    "start_time": "2021-06-08T13:35:37.776Z"
   },
   {
    "duration": 1301,
    "start_time": "2021-06-08T13:35:38.912Z"
   },
   {
    "duration": 47,
    "start_time": "2021-06-08T13:35:40.216Z"
   },
   {
    "duration": 3430,
    "start_time": "2021-06-08T13:35:40.268Z"
   },
   {
    "duration": 14,
    "start_time": "2021-06-08T13:35:43.701Z"
   },
   {
    "duration": 55,
    "start_time": "2021-06-08T13:35:43.718Z"
   },
   {
    "duration": 110,
    "start_time": "2021-06-08T13:35:57.465Z"
   },
   {
    "duration": 1119,
    "start_time": "2021-06-08T13:35:57.579Z"
   },
   {
    "duration": 88,
    "start_time": "2021-06-08T13:35:58.701Z"
   },
   {
    "duration": 27,
    "start_time": "2021-06-08T13:35:58.793Z"
   },
   {
    "duration": 82,
    "start_time": "2021-06-08T13:35:58.823Z"
   },
   {
    "duration": 22,
    "start_time": "2021-06-08T13:35:58.908Z"
   },
   {
    "duration": 172,
    "start_time": "2021-06-08T13:35:58.933Z"
   },
   {
    "duration": 13,
    "start_time": "2021-06-08T13:35:59.107Z"
   },
   {
    "duration": 22,
    "start_time": "2021-06-08T13:35:59.125Z"
   },
   {
    "duration": 15,
    "start_time": "2021-06-08T13:35:59.162Z"
   },
   {
    "duration": 14,
    "start_time": "2021-06-08T13:35:59.179Z"
   },
   {
    "duration": 12,
    "start_time": "2021-06-08T13:35:59.195Z"
   },
   {
    "duration": 13,
    "start_time": "2021-06-08T13:35:59.209Z"
   },
   {
    "duration": 57,
    "start_time": "2021-06-08T13:35:59.224Z"
   },
   {
    "duration": 9,
    "start_time": "2021-06-08T13:35:59.283Z"
   },
   {
    "duration": 56,
    "start_time": "2021-06-08T13:35:59.295Z"
   },
   {
    "duration": 11,
    "start_time": "2021-06-08T13:35:59.353Z"
   },
   {
    "duration": 28,
    "start_time": "2021-06-08T13:35:59.367Z"
   },
   {
    "duration": 6,
    "start_time": "2021-06-08T13:35:59.398Z"
   },
   {
    "duration": 1955,
    "start_time": "2021-06-08T13:35:59.407Z"
   },
   {
    "duration": 16,
    "start_time": "2021-06-08T13:36:01.364Z"
   },
   {
    "duration": 20,
    "start_time": "2021-06-08T13:36:01.382Z"
   },
   {
    "duration": 1804,
    "start_time": "2021-06-08T13:36:01.405Z"
   },
   {
    "duration": 14,
    "start_time": "2021-06-08T13:36:03.211Z"
   },
   {
    "duration": 1921,
    "start_time": "2021-06-08T13:36:03.228Z"
   },
   {
    "duration": 10,
    "start_time": "2021-06-08T13:36:05.152Z"
   },
   {
    "duration": 1594,
    "start_time": "2021-06-08T13:36:05.168Z"
   },
   {
    "duration": 1442,
    "start_time": "2021-06-08T13:36:06.765Z"
   },
   {
    "duration": 1578,
    "start_time": "2021-06-08T13:36:08.210Z"
   },
   {
    "duration": 1471,
    "start_time": "2021-06-08T13:36:09.791Z"
   },
   {
    "duration": 6,
    "start_time": "2021-06-08T13:36:11.264Z"
   },
   {
    "duration": 1101,
    "start_time": "2021-06-08T13:36:11.272Z"
   },
   {
    "duration": 1234,
    "start_time": "2021-06-08T13:36:12.376Z"
   },
   {
    "duration": 8,
    "start_time": "2021-06-08T13:36:13.613Z"
   },
   {
    "duration": 37,
    "start_time": "2021-06-08T13:36:13.624Z"
   },
   {
    "duration": 18,
    "start_time": "2021-06-08T13:36:13.664Z"
   },
   {
    "duration": 736,
    "start_time": "2021-06-08T13:36:13.684Z"
   },
   {
    "duration": 735,
    "start_time": "2021-06-08T13:36:14.422Z"
   },
   {
    "duration": 748,
    "start_time": "2021-06-08T13:36:15.162Z"
   },
   {
    "duration": 724,
    "start_time": "2021-06-08T13:36:15.912Z"
   },
   {
    "duration": 817,
    "start_time": "2021-06-08T13:36:16.638Z"
   },
   {
    "duration": 1155,
    "start_time": "2021-06-08T13:36:17.461Z"
   },
   {
    "duration": 44,
    "start_time": "2021-06-08T13:36:18.620Z"
   },
   {
    "duration": 3517,
    "start_time": "2021-06-08T13:36:18.668Z"
   },
   {
    "duration": 19,
    "start_time": "2021-06-08T13:36:22.188Z"
   },
   {
    "duration": 24,
    "start_time": "2021-06-08T13:36:22.209Z"
   },
   {
    "duration": 10,
    "start_time": "2021-06-08T13:36:22.236Z"
   },
   {
    "duration": 36,
    "start_time": "2021-06-08T13:36:22.248Z"
   },
   {
    "duration": 26,
    "start_time": "2021-06-08T13:36:22.287Z"
   },
   {
    "duration": 9,
    "start_time": "2021-06-08T13:36:22.316Z"
   },
   {
    "duration": 37,
    "start_time": "2021-06-08T13:36:22.328Z"
   },
   {
    "duration": 9,
    "start_time": "2021-06-08T13:36:22.367Z"
   },
   {
    "duration": 9,
    "start_time": "2021-06-08T13:36:22.378Z"
   },
   {
    "duration": 123,
    "start_time": "2021-06-08T13:36:22.389Z"
   },
   {
    "duration": 8,
    "start_time": "2021-06-08T13:36:22.515Z"
   },
   {
    "duration": 342,
    "start_time": "2021-06-08T13:36:22.525Z"
   },
   {
    "duration": 37,
    "start_time": "2021-06-08T13:36:22.869Z"
   },
   {
    "duration": 2351,
    "start_time": "2021-06-08T13:41:24.371Z"
   },
   {
    "duration": 23,
    "start_time": "2021-06-08T13:41:30.272Z"
   },
   {
    "duration": 2257,
    "start_time": "2021-06-08T13:41:31.014Z"
   },
   {
    "duration": 29,
    "start_time": "2021-06-08T13:42:45.640Z"
   },
   {
    "duration": 3518,
    "start_time": "2021-06-08T13:42:46.248Z"
   },
   {
    "duration": 24,
    "start_time": "2021-06-08T13:44:03.389Z"
   },
   {
    "duration": 77,
    "start_time": "2021-06-08T14:02:04.326Z"
   },
   {
    "duration": 112,
    "start_time": "2021-06-08T14:02:58.387Z"
   },
   {
    "duration": 114,
    "start_time": "2021-06-08T14:03:32.007Z"
   },
   {
    "duration": 4,
    "start_time": "2021-06-08T19:50:40.226Z"
   },
   {
    "duration": 5,
    "start_time": "2021-06-08T19:58:10.993Z"
   },
   {
    "duration": 3,
    "start_time": "2021-06-08T19:58:51.432Z"
   },
   {
    "duration": 1629,
    "start_time": "2021-06-09T15:41:03.092Z"
   },
   {
    "duration": 116,
    "start_time": "2021-06-09T15:41:07.557Z"
   },
   {
    "duration": 1039,
    "start_time": "2021-06-09T15:41:07.675Z"
   },
   {
    "duration": 95,
    "start_time": "2021-06-09T15:41:08.717Z"
   },
   {
    "duration": 25,
    "start_time": "2021-06-09T15:41:08.815Z"
   },
   {
    "duration": 74,
    "start_time": "2021-06-09T15:41:08.842Z"
   },
   {
    "duration": 16,
    "start_time": "2021-06-09T15:41:08.919Z"
   },
   {
    "duration": 115,
    "start_time": "2021-06-09T15:41:08.937Z"
   },
   {
    "duration": 15,
    "start_time": "2021-06-09T15:41:09.055Z"
   },
   {
    "duration": 6,
    "start_time": "2021-06-09T15:41:09.073Z"
   },
   {
    "duration": 32,
    "start_time": "2021-06-09T15:41:09.082Z"
   },
   {
    "duration": 9,
    "start_time": "2021-06-09T15:41:09.116Z"
   },
   {
    "duration": 13,
    "start_time": "2021-06-09T15:41:09.128Z"
   },
   {
    "duration": 11,
    "start_time": "2021-06-09T15:41:09.143Z"
   },
   {
    "duration": 26,
    "start_time": "2021-06-09T15:41:09.209Z"
   },
   {
    "duration": 8,
    "start_time": "2021-06-09T15:41:09.238Z"
   },
   {
    "duration": 22,
    "start_time": "2021-06-09T15:41:09.248Z"
   },
   {
    "duration": 43,
    "start_time": "2021-06-09T15:41:09.272Z"
   },
   {
    "duration": 27,
    "start_time": "2021-06-09T15:41:09.317Z"
   },
   {
    "duration": 7,
    "start_time": "2021-06-09T15:41:09.346Z"
   },
   {
    "duration": 1864,
    "start_time": "2021-06-09T15:41:09.355Z"
   },
   {
    "duration": 18,
    "start_time": "2021-06-09T15:41:11.221Z"
   },
   {
    "duration": 18,
    "start_time": "2021-06-09T15:41:11.241Z"
   },
   {
    "duration": 1846,
    "start_time": "2021-06-09T15:41:11.267Z"
   },
   {
    "duration": 19,
    "start_time": "2021-06-09T15:41:13.117Z"
   },
   {
    "duration": 1978,
    "start_time": "2021-06-09T15:41:13.139Z"
   },
   {
    "duration": 7,
    "start_time": "2021-06-09T15:41:15.121Z"
   },
   {
    "duration": 2693,
    "start_time": "2021-06-09T15:41:15.131Z"
   },
   {
    "duration": 1435,
    "start_time": "2021-06-09T15:41:17.827Z"
   },
   {
    "duration": 1647,
    "start_time": "2021-06-09T15:41:19.264Z"
   },
   {
    "duration": 1461,
    "start_time": "2021-06-09T15:41:20.914Z"
   },
   {
    "duration": 6,
    "start_time": "2021-06-09T15:41:22.377Z"
   },
   {
    "duration": 1517,
    "start_time": "2021-06-09T15:41:22.385Z"
   },
   {
    "duration": 1164,
    "start_time": "2021-06-09T15:41:23.908Z"
   },
   {
    "duration": 5,
    "start_time": "2021-06-09T15:41:25.075Z"
   },
   {
    "duration": 982,
    "start_time": "2021-06-09T15:41:25.082Z"
   },
   {
    "duration": 11,
    "start_time": "2021-06-09T15:41:26.066Z"
   },
   {
    "duration": 1035,
    "start_time": "2021-06-09T15:41:26.080Z"
   },
   {
    "duration": 1005,
    "start_time": "2021-06-09T15:41:27.117Z"
   },
   {
    "duration": 856,
    "start_time": "2021-06-09T15:41:28.124Z"
   },
   {
    "duration": 841,
    "start_time": "2021-06-09T15:41:28.983Z"
   },
   {
    "duration": 722,
    "start_time": "2021-06-09T15:41:29.827Z"
   },
   {
    "duration": 848,
    "start_time": "2021-06-09T15:41:30.552Z"
   },
   {
    "duration": 24,
    "start_time": "2021-06-09T15:41:31.402Z"
   },
   {
    "duration": 4,
    "start_time": "2021-06-09T15:41:31.429Z"
   },
   {
    "duration": 10,
    "start_time": "2021-06-09T15:41:31.435Z"
   },
   {
    "duration": 17,
    "start_time": "2021-06-09T15:41:31.448Z"
   },
   {
    "duration": 60,
    "start_time": "2021-06-09T15:41:31.467Z"
   },
   {
    "duration": 31,
    "start_time": "2021-06-09T15:41:31.530Z"
   },
   {
    "duration": 10,
    "start_time": "2021-06-09T15:41:31.563Z"
   },
   {
    "duration": 51,
    "start_time": "2021-06-09T15:41:31.575Z"
   },
   {
    "duration": 28,
    "start_time": "2021-06-09T15:41:31.629Z"
   },
   {
    "duration": 8,
    "start_time": "2021-06-09T15:41:31.660Z"
   },
   {
    "duration": 124,
    "start_time": "2021-06-09T15:41:31.670Z"
   },
   {
    "duration": 18,
    "start_time": "2021-06-09T15:41:31.796Z"
   },
   {
    "duration": 343,
    "start_time": "2021-06-09T15:41:31.817Z"
   },
   {
    "duration": 56,
    "start_time": "2021-06-09T15:41:32.162Z"
   },
   {
    "duration": 221,
    "start_time": "2021-06-09T19:32:09.858Z"
   },
   {
    "duration": 500,
    "start_time": "2021-06-09T19:33:06.108Z"
   },
   {
    "duration": 379,
    "start_time": "2021-06-09T19:33:15.119Z"
   },
   {
    "duration": 3,
    "start_time": "2021-06-09T19:34:34.004Z"
   },
   {
    "duration": 107,
    "start_time": "2021-06-09T19:39:42.370Z"
   },
   {
    "duration": 6,
    "start_time": "2021-06-09T19:41:16.047Z"
   },
   {
    "duration": 6,
    "start_time": "2021-06-09T19:42:24.423Z"
   },
   {
    "duration": 9447,
    "start_time": "2021-06-09T19:43:34.091Z"
   },
   {
    "duration": 16,
    "start_time": "2021-06-09T19:48:43.003Z"
   },
   {
    "duration": 326,
    "start_time": "2021-06-09T19:49:47.631Z"
   },
   {
    "duration": 2160,
    "start_time": "2021-06-09T19:50:49.949Z"
   },
   {
    "duration": 6,
    "start_time": "2021-06-09T19:50:59.367Z"
   },
   {
    "duration": 108,
    "start_time": "2021-06-09T20:31:13.660Z"
   },
   {
    "duration": 124,
    "start_time": "2021-06-10T18:30:34.370Z"
   },
   {
    "duration": 12,
    "start_time": "2021-06-10T18:30:41.450Z"
   },
   {
    "duration": 6,
    "start_time": "2021-06-10T18:41:44.783Z"
   },
   {
    "duration": 1602,
    "start_time": "2021-06-10T18:41:50.072Z"
   },
   {
    "duration": 974,
    "start_time": "2021-06-10T18:41:51.677Z"
   },
   {
    "duration": 91,
    "start_time": "2021-06-10T18:41:52.654Z"
   },
   {
    "duration": 26,
    "start_time": "2021-06-10T18:41:52.748Z"
   },
   {
    "duration": 81,
    "start_time": "2021-06-10T18:41:52.776Z"
   },
   {
    "duration": 15,
    "start_time": "2021-06-10T18:41:52.859Z"
   },
   {
    "duration": 113,
    "start_time": "2021-06-10T18:41:52.877Z"
   },
   {
    "duration": 27,
    "start_time": "2021-06-10T18:41:52.993Z"
   },
   {
    "duration": 6,
    "start_time": "2021-06-10T18:41:53.023Z"
   },
   {
    "duration": 15,
    "start_time": "2021-06-10T18:41:53.032Z"
   },
   {
    "duration": 18,
    "start_time": "2021-06-10T18:41:53.050Z"
   },
   {
    "duration": 8,
    "start_time": "2021-06-10T18:41:53.070Z"
   },
   {
    "duration": 11,
    "start_time": "2021-06-10T18:41:53.110Z"
   },
   {
    "duration": 26,
    "start_time": "2021-06-10T18:41:53.124Z"
   },
   {
    "duration": 8,
    "start_time": "2021-06-10T18:41:53.153Z"
   },
   {
    "duration": 58,
    "start_time": "2021-06-10T18:41:53.163Z"
   },
   {
    "duration": 14,
    "start_time": "2021-06-10T18:41:53.223Z"
   },
   {
    "duration": 26,
    "start_time": "2021-06-10T18:41:53.239Z"
   },
   {
    "duration": 6,
    "start_time": "2021-06-10T18:41:53.267Z"
   },
   {
    "duration": 1904,
    "start_time": "2021-06-10T18:41:53.276Z"
   },
   {
    "duration": 31,
    "start_time": "2021-06-10T18:41:55.182Z"
   },
   {
    "duration": 19,
    "start_time": "2021-06-10T18:41:55.216Z"
   },
   {
    "duration": 1775,
    "start_time": "2021-06-10T18:41:55.243Z"
   },
   {
    "duration": 19,
    "start_time": "2021-06-10T18:41:57.023Z"
   },
   {
    "duration": 1894,
    "start_time": "2021-06-10T18:41:57.044Z"
   },
   {
    "duration": 7,
    "start_time": "2021-06-10T18:41:58.941Z"
   },
   {
    "duration": 1545,
    "start_time": "2021-06-10T18:41:58.951Z"
   },
   {
    "duration": 1513,
    "start_time": "2021-06-10T18:42:00.499Z"
   },
   {
    "duration": 1529,
    "start_time": "2021-06-10T18:42:02.014Z"
   },
   {
    "duration": 1412,
    "start_time": "2021-06-10T18:42:03.546Z"
   },
   {
    "duration": 6,
    "start_time": "2021-06-10T18:42:04.960Z"
   },
   {
    "duration": 1058,
    "start_time": "2021-06-10T18:42:04.968Z"
   },
   {
    "duration": 1186,
    "start_time": "2021-06-10T18:42:06.028Z"
   },
   {
    "duration": 7,
    "start_time": "2021-06-10T18:42:07.216Z"
   },
   {
    "duration": 9,
    "start_time": "2021-06-10T18:42:07.226Z"
   },
   {
    "duration": 12,
    "start_time": "2021-06-10T18:42:07.238Z"
   },
   {
    "duration": 800,
    "start_time": "2021-06-10T18:42:07.253Z"
   },
   {
    "duration": 741,
    "start_time": "2021-06-10T18:42:08.055Z"
   },
   {
    "duration": 756,
    "start_time": "2021-06-10T18:42:08.799Z"
   },
   {
    "duration": 836,
    "start_time": "2021-06-10T18:42:09.558Z"
   },
   {
    "duration": 720,
    "start_time": "2021-06-10T18:42:10.397Z"
   },
   {
    "duration": 876,
    "start_time": "2021-06-10T18:42:11.119Z"
   },
   {
    "duration": 27,
    "start_time": "2021-06-10T18:42:11.998Z"
   },
   {
    "duration": 4,
    "start_time": "2021-06-10T18:42:12.028Z"
   },
   {
    "duration": 8,
    "start_time": "2021-06-10T18:42:12.035Z"
   },
   {
    "duration": 6,
    "start_time": "2021-06-10T18:42:12.046Z"
   },
   {
    "duration": 15,
    "start_time": "2021-06-10T18:42:12.054Z"
   },
   {
    "duration": 37,
    "start_time": "2021-06-10T18:42:12.072Z"
   },
   {
    "duration": 875,
    "start_time": "2021-06-10T18:42:12.112Z"
   },
   {
    "duration": -920,
    "start_time": "2021-06-10T18:42:13.909Z"
   },
   {
    "duration": -922,
    "start_time": "2021-06-10T18:42:13.913Z"
   },
   {
    "duration": -925,
    "start_time": "2021-06-10T18:42:13.917Z"
   },
   {
    "duration": -926,
    "start_time": "2021-06-10T18:42:13.920Z"
   },
   {
    "duration": -929,
    "start_time": "2021-06-10T18:42:13.924Z"
   },
   {
    "duration": -935,
    "start_time": "2021-06-10T18:42:13.931Z"
   },
   {
    "duration": -937,
    "start_time": "2021-06-10T18:42:13.934Z"
   },
   {
    "duration": -938,
    "start_time": "2021-06-10T18:42:13.937Z"
   },
   {
    "duration": -940,
    "start_time": "2021-06-10T18:42:13.940Z"
   },
   {
    "duration": -943,
    "start_time": "2021-06-10T18:42:13.944Z"
   },
   {
    "duration": -945,
    "start_time": "2021-06-10T18:42:13.947Z"
   },
   {
    "duration": -947,
    "start_time": "2021-06-10T18:42:13.950Z"
   },
   {
    "duration": -949,
    "start_time": "2021-06-10T18:42:13.953Z"
   },
   {
    "duration": 73,
    "start_time": "2021-06-10T18:46:05.351Z"
   },
   {
    "duration": 6,
    "start_time": "2021-06-10T18:46:13.627Z"
   },
   {
    "duration": 4,
    "start_time": "2021-06-10T18:48:10.859Z"
   },
   {
    "duration": 1143,
    "start_time": "2021-06-10T18:48:26.729Z"
   },
   {
    "duration": 5,
    "start_time": "2021-06-10T18:50:05.716Z"
   },
   {
    "duration": 4,
    "start_time": "2021-06-10T18:50:08.760Z"
   },
   {
    "duration": 3,
    "start_time": "2021-06-10T18:50:10.143Z"
   },
   {
    "duration": 690,
    "start_time": "2021-06-10T18:50:11.064Z"
   },
   {
    "duration": 5,
    "start_time": "2021-06-10T18:50:35.459Z"
   },
   {
    "duration": 12,
    "start_time": "2021-06-10T18:50:37.447Z"
   },
   {
    "duration": 4,
    "start_time": "2021-06-10T18:50:37.867Z"
   },
   {
    "duration": 3,
    "start_time": "2021-06-10T18:50:38.651Z"
   },
   {
    "duration": 936,
    "start_time": "2021-06-10T18:50:39.084Z"
   },
   {
    "duration": 5,
    "start_time": "2021-06-10T18:51:05.925Z"
   },
   {
    "duration": 12,
    "start_time": "2021-06-10T18:51:07.369Z"
   },
   {
    "duration": 5,
    "start_time": "2021-06-10T18:51:07.747Z"
   },
   {
    "duration": 4,
    "start_time": "2021-06-10T18:51:08.372Z"
   },
   {
    "duration": 2325,
    "start_time": "2021-06-10T18:51:08.787Z"
   },
   {
    "duration": 7,
    "start_time": "2021-06-10T18:51:17.289Z"
   },
   {
    "duration": 138,
    "start_time": "2021-06-10T18:54:47.598Z"
   },
   {
    "duration": 21,
    "start_time": "2021-06-10T19:00:54.406Z"
   },
   {
    "duration": 7,
    "start_time": "2021-06-10T19:00:57.624Z"
   },
   {
    "duration": 4,
    "start_time": "2021-06-10T19:02:35.003Z"
   },
   {
    "duration": 7,
    "start_time": "2021-06-10T19:02:55.882Z"
   },
   {
    "duration": 72,
    "start_time": "2021-06-10T19:03:01.239Z"
   },
   {
    "duration": 5,
    "start_time": "2021-06-10T19:03:08.799Z"
   },
   {
    "duration": 3,
    "start_time": "2021-06-10T19:03:32.100Z"
   },
   {
    "duration": 7,
    "start_time": "2021-06-10T19:03:36.046Z"
   },
   {
    "duration": 6,
    "start_time": "2021-06-10T19:03:37.098Z"
   },
   {
    "duration": 365,
    "start_time": "2021-06-10T19:03:47.887Z"
   },
   {
    "duration": 370,
    "start_time": "2021-06-10T19:03:52.259Z"
   },
   {
    "duration": 5,
    "start_time": "2021-06-10T19:04:02.124Z"
   },
   {
    "duration": 5,
    "start_time": "2021-06-10T19:04:13.195Z"
   },
   {
    "duration": 306,
    "start_time": "2021-06-10T19:04:26.503Z"
   },
   {
    "duration": 4,
    "start_time": "2021-06-10T19:04:37.899Z"
   },
   {
    "duration": 8,
    "start_time": "2021-06-10T19:04:38.239Z"
   },
   {
    "duration": 5,
    "start_time": "2021-06-10T19:04:38.562Z"
   },
   {
    "duration": 11,
    "start_time": "2021-06-10T19:04:38.984Z"
   },
   {
    "duration": 5,
    "start_time": "2021-06-10T19:04:39.545Z"
   },
   {
    "duration": 10,
    "start_time": "2021-06-10T19:05:00.887Z"
   },
   {
    "duration": 4,
    "start_time": "2021-06-10T19:05:22.621Z"
   },
   {
    "duration": 3,
    "start_time": "2021-06-10T19:05:46.535Z"
   },
   {
    "duration": 34,
    "start_time": "2021-06-10T19:05:47.904Z"
   },
   {
    "duration": 72,
    "start_time": "2021-06-10T19:05:49.155Z"
   },
   {
    "duration": 143,
    "start_time": "2021-06-10T19:06:23.818Z"
   },
   {
    "duration": 32,
    "start_time": "2021-06-10T19:06:32.982Z"
   },
   {
    "duration": 73,
    "start_time": "2021-06-10T19:06:33.745Z"
   },
   {
    "duration": 3,
    "start_time": "2021-06-10T19:06:46.450Z"
   },
   {
    "duration": 1991,
    "start_time": "2021-06-10T19:06:46.819Z"
   },
   {
    "duration": 6,
    "start_time": "2021-06-10T19:06:59.489Z"
   },
   {
    "duration": 6,
    "start_time": "2021-06-10T19:07:06.351Z"
   },
   {
    "duration": 71,
    "start_time": "2021-06-10T19:07:19.656Z"
   },
   {
    "duration": 1533,
    "start_time": "2021-06-10T19:07:24.783Z"
   },
   {
    "duration": 5,
    "start_time": "2021-06-10T19:07:29.739Z"
   },
   {
    "duration": 1756,
    "start_time": "2021-06-10T19:07:39.653Z"
   },
   {
    "duration": 6,
    "start_time": "2021-06-10T19:07:42.307Z"
   },
   {
    "duration": 1285,
    "start_time": "2021-06-10T19:07:54.132Z"
   },
   {
    "duration": 7,
    "start_time": "2021-06-10T19:07:55.420Z"
   },
   {
    "duration": 778,
    "start_time": "2021-06-10T19:08:02.636Z"
   },
   {
    "duration": 7,
    "start_time": "2021-06-10T19:08:04.006Z"
   },
   {
    "duration": 2063,
    "start_time": "2021-06-10T19:08:14.159Z"
   },
   {
    "duration": 6,
    "start_time": "2021-06-10T19:08:17.514Z"
   },
   {
    "duration": 3993,
    "start_time": "2021-06-10T19:08:42.027Z"
   },
   {
    "duration": 14,
    "start_time": "2021-06-10T19:08:47.300Z"
   },
   {
    "duration": 356,
    "start_time": "2021-06-10T19:23:43.944Z"
   },
   {
    "duration": 131,
    "start_time": "2021-06-10T19:24:19.596Z"
   },
   {
    "duration": 328,
    "start_time": "2021-06-10T19:24:25.285Z"
   },
   {
    "duration": 190850,
    "start_time": "2021-06-10T19:25:20.677Z"
   },
   {
    "duration": 5133844,
    "start_time": "2021-06-10T19:28:49.025Z"
   },
   {
    "duration": 14384,
    "start_time": "2021-06-10T20:55:16.703Z"
   },
   {
    "duration": 6,
    "start_time": "2021-06-10T20:55:43.145Z"
   },
   {
    "duration": 53167,
    "start_time": "2021-06-10T20:56:26.702Z"
   },
   {
    "duration": 342,
    "start_time": "2021-06-10T20:59:38.565Z"
   },
   {
    "duration": 5511,
    "start_time": "2021-06-10T21:00:53.585Z"
   },
   {
    "duration": 1658522,
    "start_time": "2021-06-10T21:01:10.872Z"
   },
   {
    "duration": 53966,
    "start_time": "2021-06-10T21:29:04.643Z"
   },
   {
    "duration": 55390,
    "start_time": "2021-06-10T21:30:13.823Z"
   },
   {
    "duration": 8080,
    "start_time": "2021-06-10T21:32:10.691Z"
   },
   {
    "duration": 52666,
    "start_time": "2021-06-10T21:32:29.743Z"
   },
   {
    "duration": 1484500,
    "start_time": "2021-06-10T21:33:43.860Z"
   },
   {
    "duration": 24103,
    "start_time": "2021-06-10T21:58:28.363Z"
   },
   {
    "duration": 596267,
    "start_time": "2021-06-10T21:59:31.727Z"
   },
   {
    "duration": 250,
    "start_time": "2021-06-10T22:10:00.436Z"
   },
   {
    "duration": 431225,
    "start_time": "2021-06-10T22:10:41.634Z"
   },
   {
    "duration": 26765,
    "start_time": "2021-06-10T22:20:26.559Z"
   },
   {
    "duration": 140797,
    "start_time": "2021-06-10T22:20:58.123Z"
   },
   {
    "duration": 65319,
    "start_time": "2021-06-10T22:24:56.029Z"
   },
   {
    "duration": 709301,
    "start_time": "2021-06-10T22:26:04.166Z"
   },
   {
    "duration": 726613,
    "start_time": "2021-06-10T22:39:36.939Z"
   },
   {
    "duration": 132,
    "start_time": "2021-06-10T22:53:42.966Z"
   },
   {
    "duration": 86,
    "start_time": "2021-06-10T22:54:22.364Z"
   },
   {
    "duration": 6,
    "start_time": "2021-06-10T22:54:25.351Z"
   },
   {
    "duration": 6,
    "start_time": "2021-06-10T22:54:43.320Z"
   },
   {
    "duration": 2463,
    "start_time": "2021-06-10T22:54:50.654Z"
   },
   {
    "duration": 5,
    "start_time": "2021-06-10T22:54:53.210Z"
   },
   {
    "duration": 5,
    "start_time": "2021-06-10T22:55:01.343Z"
   },
   {
    "duration": 4,
    "start_time": "2021-06-10T22:57:00.936Z"
   },
   {
    "duration": 118733,
    "start_time": "2021-06-10T22:57:29.484Z"
   },
   {
    "duration": 946,
    "start_time": "2021-06-11T23:47:18.839Z"
   },
   {
    "duration": 1638,
    "start_time": "2021-06-11T23:47:27.530Z"
   },
   {
    "duration": 1022,
    "start_time": "2021-06-11T23:47:29.542Z"
   },
   {
    "duration": 95,
    "start_time": "2021-06-11T23:47:30.567Z"
   },
   {
    "duration": 24,
    "start_time": "2021-06-11T23:47:30.665Z"
   },
   {
    "duration": 76,
    "start_time": "2021-06-11T23:47:30.691Z"
   },
   {
    "duration": 15,
    "start_time": "2021-06-11T23:47:30.769Z"
   },
   {
    "duration": 91,
    "start_time": "2021-06-11T23:47:31.000Z"
   },
   {
    "duration": 14,
    "start_time": "2021-06-11T23:47:33.599Z"
   },
   {
    "duration": 7,
    "start_time": "2021-06-11T23:47:37.446Z"
   },
   {
    "duration": 13,
    "start_time": "2021-06-11T23:47:39.940Z"
   },
   {
    "duration": 10,
    "start_time": "2021-06-11T23:47:42.984Z"
   },
   {
    "duration": 8,
    "start_time": "2021-06-11T23:47:45.756Z"
   },
   {
    "duration": 915,
    "start_time": "2021-06-11T23:47:47.317Z"
   },
   {
    "duration": 120,
    "start_time": "2021-06-11T23:48:00.598Z"
   },
   {
    "duration": 15,
    "start_time": "2021-06-11T23:48:21.745Z"
   },
   {
    "duration": 8,
    "start_time": "2021-06-11T23:48:25.204Z"
   },
   {
    "duration": 22,
    "start_time": "2021-06-11T23:49:32.788Z"
   },
   {
    "duration": 5,
    "start_time": "2021-06-11T23:49:42.158Z"
   },
   {
    "duration": 17,
    "start_time": "2021-06-11T23:49:42.504Z"
   },
   {
    "duration": 10,
    "start_time": "2021-06-12T00:01:39.509Z"
   },
   {
    "duration": 27,
    "start_time": "2021-06-12T00:01:39.876Z"
   },
   {
    "duration": 8,
    "start_time": "2021-06-12T00:01:44.596Z"
   },
   {
    "duration": 1907,
    "start_time": "2021-06-12T00:01:45.580Z"
   },
   {
    "duration": 17,
    "start_time": "2021-06-12T00:01:49.125Z"
   },
   {
    "duration": 19,
    "start_time": "2021-06-12T00:01:51.430Z"
   },
   {
    "duration": 1749,
    "start_time": "2021-06-12T00:01:52.153Z"
   },
   {
    "duration": 19,
    "start_time": "2021-06-12T00:09:16.187Z"
   },
   {
    "duration": 1979,
    "start_time": "2021-06-12T00:09:16.810Z"
   },
   {
    "duration": 6,
    "start_time": "2021-06-12T00:09:32.214Z"
   },
   {
    "duration": 1425,
    "start_time": "2021-06-12T00:09:33.835Z"
   },
   {
    "duration": 1398,
    "start_time": "2021-06-12T00:09:37.903Z"
   },
   {
    "duration": 1526,
    "start_time": "2021-06-12T00:09:40.540Z"
   },
   {
    "duration": 1512,
    "start_time": "2021-06-12T00:09:43.551Z"
   },
   {
    "duration": 6,
    "start_time": "2021-06-12T00:09:48.141Z"
   },
   {
    "duration": 1031,
    "start_time": "2021-06-12T00:09:58.458Z"
   },
   {
    "duration": 1155,
    "start_time": "2021-06-12T00:11:38.964Z"
   },
   {
    "duration": 5,
    "start_time": "2021-06-12T00:13:13.063Z"
   },
   {
    "duration": 9,
    "start_time": "2021-06-12T00:13:13.564Z"
   },
   {
    "duration": 9,
    "start_time": "2021-06-12T00:13:14.067Z"
   },
   {
    "duration": 746,
    "start_time": "2021-06-12T00:13:17.313Z"
   },
   {
    "duration": 745,
    "start_time": "2021-06-12T00:13:18.062Z"
   },
   {
    "duration": 791,
    "start_time": "2021-06-12T00:13:18.810Z"
   },
   {
    "duration": 734,
    "start_time": "2021-06-12T00:13:21.944Z"
   },
   {
    "duration": 822,
    "start_time": "2021-06-12T00:13:22.681Z"
   },
   {
    "duration": 857,
    "start_time": "2021-06-12T00:13:23.506Z"
   },
   {
    "duration": 27,
    "start_time": "2021-06-12T00:17:15.932Z"
   },
   {
    "duration": 7,
    "start_time": "2021-06-12T00:17:33.751Z"
   },
   {
    "duration": 543,
    "start_time": "2021-06-12T00:18:42.824Z"
   },
   {
    "duration": 381,
    "start_time": "2021-06-12T00:19:02.481Z"
   },
   {
    "duration": 388,
    "start_time": "2021-06-12T00:19:22.776Z"
   },
   {
    "duration": 383,
    "start_time": "2021-06-12T00:19:29.321Z"
   },
   {
    "duration": 337,
    "start_time": "2021-06-12T00:19:37.447Z"
   },
   {
    "duration": 440,
    "start_time": "2021-06-12T00:20:29.524Z"
   },
   {
    "duration": 338,
    "start_time": "2021-06-12T00:21:15.019Z"
   },
   {
    "duration": 10,
    "start_time": "2021-06-12T00:22:33.667Z"
   },
   {
    "duration": 4,
    "start_time": "2021-06-12T00:23:51.543Z"
   },
   {
    "duration": 6,
    "start_time": "2021-06-12T00:23:52.757Z"
   },
   {
    "duration": 5,
    "start_time": "2021-06-12T00:23:53.175Z"
   },
   {
    "duration": 3,
    "start_time": "2021-06-12T00:25:48.368Z"
   },
   {
    "duration": 10,
    "start_time": "2021-06-12T00:25:49.286Z"
   },
   {
    "duration": 10,
    "start_time": "2021-06-12T00:25:50.232Z"
   },
   {
    "duration": 4,
    "start_time": "2021-06-12T00:25:51.200Z"
   },
   {
    "duration": 34,
    "start_time": "2021-06-12T00:29:22.362Z"
   },
   {
    "duration": 2408,
    "start_time": "2021-06-12T00:29:32.627Z"
   },
   {
    "duration": 5,
    "start_time": "2021-06-12T00:31:06.035Z"
   },
   {
    "duration": 25314,
    "start_time": "2021-06-12T00:31:11.922Z"
   },
   {
    "duration": 5,
    "start_time": "2021-06-12T00:31:43.042Z"
   },
   {
    "duration": 5163,
    "start_time": "2021-06-12T00:31:48.462Z"
   },
   {
    "duration": 5,
    "start_time": "2021-06-12T00:32:17.230Z"
   },
   {
    "duration": 4,
    "start_time": "2021-06-12T00:32:37.937Z"
   },
   {
    "duration": 68495,
    "start_time": "2021-06-12T00:32:44.432Z"
   },
   {
    "duration": 80971,
    "start_time": "2021-06-12T00:34:38.032Z"
   },
   {
    "duration": 86,
    "start_time": "2021-06-12T00:38:00.135Z"
   },
   {
    "duration": 5,
    "start_time": "2021-06-12T00:38:00.824Z"
   },
   {
    "duration": 39,
    "start_time": "2021-06-12T00:40:10.761Z"
   },
   {
    "duration": 375,
    "start_time": "2021-06-12T00:40:16.715Z"
   },
   {
    "duration": 370,
    "start_time": "2021-06-12T00:40:48.620Z"
   },
   {
    "duration": 8,
    "start_time": "2021-06-12T00:42:07.844Z"
   },
   {
    "duration": 14,
    "start_time": "2021-06-12T00:42:13.678Z"
   },
   {
    "duration": 9,
    "start_time": "2021-06-12T00:43:06.227Z"
   },
   {
    "duration": 3,
    "start_time": "2021-06-12T00:43:06.615Z"
   },
   {
    "duration": 6,
    "start_time": "2021-06-12T00:43:18.614Z"
   },
   {
    "duration": 13,
    "start_time": "2021-06-12T00:45:48.814Z"
   },
   {
    "duration": 177,
    "start_time": "2021-06-12T00:46:30.655Z"
   },
   {
    "duration": 1063,
    "start_time": "2021-06-12T00:46:32.820Z"
   },
   {
    "duration": 5,
    "start_time": "2021-06-12T00:47:46.825Z"
   },
   {
    "duration": 5,
    "start_time": "2021-06-12T00:47:58.821Z"
   },
   {
    "duration": 1406,
    "start_time": "2021-06-12T00:48:57.446Z"
   },
   {
    "duration": 37,
    "start_time": "2021-06-12T00:49:43.376Z"
   },
   {
    "duration": 6,
    "start_time": "2021-06-12T00:49:49.896Z"
   },
   {
    "duration": 8,
    "start_time": "2021-06-12T00:50:21.092Z"
   },
   {
    "duration": 6,
    "start_time": "2021-06-12T00:50:22.509Z"
   },
   {
    "duration": 71,
    "start_time": "2021-06-12T00:50:30.964Z"
   },
   {
    "duration": 651,
    "start_time": "2021-06-12T00:51:24.566Z"
   },
   {
    "duration": 8,
    "start_time": "2021-06-12T01:00:51.024Z"
   },
   {
    "duration": 5,
    "start_time": "2021-06-12T01:00:51.420Z"
   },
   {
    "duration": 5,
    "start_time": "2021-06-12T01:00:54.103Z"
   },
   {
    "duration": 5,
    "start_time": "2021-06-12T01:01:30.829Z"
   },
   {
    "duration": 72,
    "start_time": "2021-06-12T01:01:31.056Z"
   },
   {
    "duration": 368,
    "start_time": "2021-06-12T01:02:03.759Z"
   },
   {
    "duration": 34,
    "start_time": "2021-06-12T01:04:17.011Z"
   },
   {
    "duration": 22,
    "start_time": "2021-06-12T01:04:37.368Z"
   },
   {
    "duration": 19,
    "start_time": "2021-06-12T01:05:42.990Z"
   },
   {
    "duration": 19,
    "start_time": "2021-06-12T01:05:45.771Z"
   },
   {
    "duration": 7,
    "start_time": "2021-06-12T01:06:37.917Z"
   },
   {
    "duration": 364,
    "start_time": "2021-06-12T01:06:51.719Z"
   },
   {
    "duration": 12,
    "start_time": "2021-06-12T01:06:58.046Z"
   },
   {
    "duration": 7,
    "start_time": "2021-06-12T01:07:20.575Z"
   },
   {
    "duration": 13,
    "start_time": "2021-06-12T01:07:57.843Z"
   },
   {
    "duration": 8,
    "start_time": "2021-06-12T01:08:15.217Z"
   },
   {
    "duration": 5,
    "start_time": "2021-06-12T01:08:15.886Z"
   },
   {
    "duration": 13,
    "start_time": "2021-06-12T01:08:16.486Z"
   },
   {
    "duration": 6,
    "start_time": "2021-06-12T01:09:04.973Z"
   },
   {
    "duration": 5,
    "start_time": "2021-06-12T01:09:18.165Z"
   },
   {
    "duration": 70,
    "start_time": "2021-06-12T01:09:26.465Z"
   },
   {
    "duration": 16,
    "start_time": "2021-06-12T01:09:44.419Z"
   },
   {
    "duration": 3,
    "start_time": "2021-06-12T01:09:56.922Z"
   },
   {
    "duration": 376,
    "start_time": "2021-06-12T01:10:28.929Z"
   },
   {
    "duration": 40,
    "start_time": "2021-06-12T01:10:41.513Z"
   },
   {
    "duration": 6,
    "start_time": "2021-06-12T01:10:44.830Z"
   },
   {
    "duration": 4,
    "start_time": "2021-06-12T01:10:48.259Z"
   },
   {
    "duration": 38,
    "start_time": "2021-06-12T01:10:58.884Z"
   },
   {
    "duration": 6,
    "start_time": "2021-06-12T01:11:00.445Z"
   },
   {
    "duration": 70,
    "start_time": "2021-06-12T01:11:06.346Z"
   },
   {
    "duration": 37,
    "start_time": "2021-06-12T01:11:54.159Z"
   },
   {
    "duration": 70,
    "start_time": "2021-06-12T01:11:56.719Z"
   },
   {
    "duration": 344,
    "start_time": "2021-06-12T01:12:25.571Z"
   },
   {
    "duration": 6,
    "start_time": "2021-06-12T01:12:40.228Z"
   },
   {
    "duration": 16,
    "start_time": "2021-06-12T01:12:41.739Z"
   },
   {
    "duration": 374,
    "start_time": "2021-06-12T01:12:42.221Z"
   },
   {
    "duration": 369,
    "start_time": "2021-06-12T01:12:54.401Z"
   },
   {
    "duration": 389,
    "start_time": "2021-06-12T01:12:59.069Z"
   },
   {
    "duration": 374,
    "start_time": "2021-06-12T01:13:03.842Z"
   },
   {
    "duration": 352,
    "start_time": "2021-06-12T01:13:08.430Z"
   },
   {
    "duration": 690,
    "start_time": "2021-06-12T01:13:23.762Z"
   },
   {
    "duration": 365,
    "start_time": "2021-06-12T01:13:32.290Z"
   },
   {
    "duration": 447,
    "start_time": "2021-06-12T01:13:37.755Z"
   },
   {
    "duration": 436,
    "start_time": "2021-06-12T01:14:21.498Z"
   },
   {
    "duration": 399,
    "start_time": "2021-06-12T01:14:51.181Z"
   },
   {
    "duration": 364,
    "start_time": "2021-06-12T01:15:21.353Z"
   },
   {
    "duration": 39,
    "start_time": "2021-06-12T01:21:41.259Z"
   },
   {
    "duration": 5,
    "start_time": "2021-06-12T01:21:57.965Z"
   },
   {
    "duration": 6,
    "start_time": "2021-06-12T01:22:09.355Z"
   },
   {
    "duration": 12,
    "start_time": "2021-06-12T01:22:15.747Z"
   },
   {
    "duration": 76,
    "start_time": "2021-06-12T01:22:56.455Z"
   },
   {
    "duration": 71,
    "start_time": "2021-06-12T01:23:52.845Z"
   },
   {
    "duration": 207,
    "start_time": "2021-06-12T01:24:05.126Z"
   },
   {
    "duration": 10,
    "start_time": "2021-06-12T01:24:07.729Z"
   },
   {
    "duration": 103,
    "start_time": "2021-06-12T01:30:22.155Z"
   },
   {
    "duration": 1687,
    "start_time": "2021-06-12T19:18:31.848Z"
   },
   {
    "duration": 987,
    "start_time": "2021-06-12T19:18:33.538Z"
   },
   {
    "duration": 99,
    "start_time": "2021-06-12T19:18:34.528Z"
   },
   {
    "duration": 24,
    "start_time": "2021-06-12T19:18:34.630Z"
   },
   {
    "duration": 83,
    "start_time": "2021-06-12T19:18:34.657Z"
   },
   {
    "duration": 15,
    "start_time": "2021-06-12T19:18:34.743Z"
   },
   {
    "duration": 117,
    "start_time": "2021-06-12T19:18:34.760Z"
   },
   {
    "duration": 15,
    "start_time": "2021-06-12T19:18:34.880Z"
   },
   {
    "duration": 30,
    "start_time": "2021-06-12T19:18:34.898Z"
   },
   {
    "duration": 13,
    "start_time": "2021-06-12T19:18:34.930Z"
   },
   {
    "duration": 9,
    "start_time": "2021-06-12T19:18:34.945Z"
   },
   {
    "duration": 8,
    "start_time": "2021-06-12T19:18:34.956Z"
   },
   {
    "duration": 62,
    "start_time": "2021-06-12T19:18:34.967Z"
   },
   {
    "duration": 9,
    "start_time": "2021-06-12T19:18:35.031Z"
   },
   {
    "duration": 25,
    "start_time": "2021-06-12T19:18:35.043Z"
   },
   {
    "duration": 6,
    "start_time": "2021-06-12T19:18:35.070Z"
   },
   {
    "duration": 59,
    "start_time": "2021-06-12T19:18:35.078Z"
   },
   {
    "duration": 13,
    "start_time": "2021-06-12T19:18:35.140Z"
   },
   {
    "duration": 29,
    "start_time": "2021-06-12T19:18:35.155Z"
   },
   {
    "duration": 40,
    "start_time": "2021-06-12T19:18:35.187Z"
   },
   {
    "duration": 1934,
    "start_time": "2021-06-12T19:18:35.230Z"
   },
   {
    "duration": 21,
    "start_time": "2021-06-12T19:18:37.166Z"
   },
   {
    "duration": 37,
    "start_time": "2021-06-12T19:18:37.193Z"
   },
   {
    "duration": 1742,
    "start_time": "2021-06-12T19:18:37.234Z"
   },
   {
    "duration": 17,
    "start_time": "2021-06-12T19:18:38.979Z"
   },
   {
    "duration": 1923,
    "start_time": "2021-06-12T19:18:38.998Z"
   },
   {
    "duration": 8,
    "start_time": "2021-06-12T19:18:40.924Z"
   },
   {
    "duration": 1548,
    "start_time": "2021-06-12T19:18:40.934Z"
   },
   {
    "duration": 1514,
    "start_time": "2021-06-12T19:18:42.486Z"
   },
   {
    "duration": 1560,
    "start_time": "2021-06-12T19:18:44.003Z"
   },
   {
    "duration": 1436,
    "start_time": "2021-06-12T19:18:45.566Z"
   },
   {
    "duration": 6,
    "start_time": "2021-06-12T19:18:47.004Z"
   },
   {
    "duration": 1076,
    "start_time": "2021-06-12T19:18:47.013Z"
   },
   {
    "duration": 1376,
    "start_time": "2021-06-12T19:18:48.092Z"
   },
   {
    "duration": 5,
    "start_time": "2021-06-12T19:18:49.471Z"
   },
   {
    "duration": 13,
    "start_time": "2021-06-12T19:18:49.479Z"
   },
   {
    "duration": 35,
    "start_time": "2021-06-12T19:18:49.495Z"
   },
   {
    "duration": 1117,
    "start_time": "2021-06-12T19:18:49.533Z"
   },
   {
    "duration": 1082,
    "start_time": "2021-06-12T19:18:50.654Z"
   },
   {
    "duration": 1125,
    "start_time": "2021-06-12T19:18:51.740Z"
   },
   {
    "duration": 1085,
    "start_time": "2021-06-12T19:18:52.868Z"
   },
   {
    "duration": 1077,
    "start_time": "2021-06-12T19:18:53.956Z"
   },
   {
    "duration": 850,
    "start_time": "2021-06-12T19:18:55.036Z"
   },
   {
    "duration": 23,
    "start_time": "2021-06-12T19:18:55.888Z"
   },
   {
    "duration": 13,
    "start_time": "2021-06-12T19:18:55.926Z"
   },
   {
    "duration": 6,
    "start_time": "2021-06-12T19:18:55.941Z"
   },
   {
    "duration": 7,
    "start_time": "2021-06-12T19:18:55.950Z"
   },
   {
    "duration": 6,
    "start_time": "2021-06-12T19:18:55.960Z"
   },
   {
    "duration": 6,
    "start_time": "2021-06-12T19:18:55.969Z"
   },
   {
    "duration": 9,
    "start_time": "2021-06-12T19:18:56.025Z"
   },
   {
    "duration": 13,
    "start_time": "2021-06-12T19:18:56.038Z"
   },
   {
    "duration": 6,
    "start_time": "2021-06-12T19:18:56.053Z"
   },
   {
    "duration": 491,
    "start_time": "2021-06-12T19:18:56.062Z"
   },
   {
    "duration": -700,
    "start_time": "2021-06-12T19:18:57.258Z"
   },
   {
    "duration": -703,
    "start_time": "2021-06-12T19:18:57.263Z"
   },
   {
    "duration": -705,
    "start_time": "2021-06-12T19:18:57.267Z"
   },
   {
    "duration": -709,
    "start_time": "2021-06-12T19:18:57.272Z"
   },
   {
    "duration": -712,
    "start_time": "2021-06-12T19:18:57.277Z"
   },
   {
    "duration": -715,
    "start_time": "2021-06-12T19:18:57.281Z"
   },
   {
    "duration": -722,
    "start_time": "2021-06-12T19:18:57.290Z"
   },
   {
    "duration": -725,
    "start_time": "2021-06-12T19:18:57.295Z"
   },
   {
    "duration": -728,
    "start_time": "2021-06-12T19:18:57.299Z"
   },
   {
    "duration": -731,
    "start_time": "2021-06-12T19:18:57.304Z"
   },
   {
    "duration": -733,
    "start_time": "2021-06-12T19:18:57.308Z"
   },
   {
    "duration": -737,
    "start_time": "2021-06-12T19:18:57.313Z"
   },
   {
    "duration": -739,
    "start_time": "2021-06-12T19:18:57.317Z"
   },
   {
    "duration": -742,
    "start_time": "2021-06-12T19:18:57.321Z"
   },
   {
    "duration": 35,
    "start_time": "2021-06-12T19:19:48.932Z"
   },
   {
    "duration": 8226,
    "start_time": "2021-06-12T19:19:53.199Z"
   },
   {
    "duration": 5,
    "start_time": "2021-06-12T19:20:04.405Z"
   },
   {
    "duration": 5,
    "start_time": "2021-06-12T19:20:11.500Z"
   },
   {
    "duration": 68006,
    "start_time": "2021-06-12T19:20:16.065Z"
   },
   {
    "duration": 84422,
    "start_time": "2021-06-12T19:23:20.058Z"
   },
   {
    "duration": 6164,
    "start_time": "2021-06-12T19:24:50.361Z"
   },
   {
    "duration": 5,
    "start_time": "2021-06-12T19:24:59.661Z"
   },
   {
    "duration": 5,
    "start_time": "2021-06-12T19:25:00.923Z"
   },
   {
    "duration": 70799,
    "start_time": "2021-06-12T19:25:02.150Z"
   },
   {
    "duration": 124462,
    "start_time": "2021-06-12T19:26:12.952Z"
   },
   {
    "duration": 78,
    "start_time": "2021-06-12T19:28:35.754Z"
   },
   {
    "duration": 5,
    "start_time": "2021-06-12T19:28:36.748Z"
   },
   {
    "duration": 5,
    "start_time": "2021-06-12T19:28:48.743Z"
   },
   {
    "duration": 37,
    "start_time": "2021-06-12T19:28:52.388Z"
   },
   {
    "duration": 128,
    "start_time": "2021-06-12T19:29:21.350Z"
   },
   {
    "duration": 8,
    "start_time": "2021-06-12T19:29:23.996Z"
   },
   {
    "duration": 4,
    "start_time": "2021-06-12T19:29:30.957Z"
   },
   {
    "duration": 351,
    "start_time": "2021-06-12T19:29:39.883Z"
   },
   {
    "duration": 5,
    "start_time": "2021-06-12T19:29:46.757Z"
   },
   {
    "duration": 133,
    "start_time": "2021-06-12T19:32:42.002Z"
   },
   {
    "duration": 1188,
    "start_time": "2021-06-12T19:32:42.138Z"
   },
   {
    "duration": 85,
    "start_time": "2021-06-12T19:32:43.329Z"
   },
   {
    "duration": 25,
    "start_time": "2021-06-12T19:32:43.426Z"
   },
   {
    "duration": 83,
    "start_time": "2021-06-12T19:32:43.454Z"
   },
   {
    "duration": 15,
    "start_time": "2021-06-12T19:32:43.540Z"
   },
   {
    "duration": 121,
    "start_time": "2021-06-12T19:32:43.557Z"
   },
   {
    "duration": 11,
    "start_time": "2021-06-12T19:32:43.681Z"
   },
   {
    "duration": 32,
    "start_time": "2021-06-12T19:32:43.695Z"
   },
   {
    "duration": 17,
    "start_time": "2021-06-12T19:32:43.730Z"
   },
   {
    "duration": 10,
    "start_time": "2021-06-12T19:32:43.750Z"
   },
   {
    "duration": 10,
    "start_time": "2021-06-12T19:32:43.762Z"
   },
   {
    "duration": 53,
    "start_time": "2021-06-12T19:32:43.774Z"
   },
   {
    "duration": 8,
    "start_time": "2021-06-12T19:32:43.830Z"
   },
   {
    "duration": 25,
    "start_time": "2021-06-12T19:32:43.841Z"
   },
   {
    "duration": 5,
    "start_time": "2021-06-12T19:32:43.869Z"
   },
   {
    "duration": 62,
    "start_time": "2021-06-12T19:32:43.877Z"
   },
   {
    "duration": 11,
    "start_time": "2021-06-12T19:32:43.941Z"
   },
   {
    "duration": 26,
    "start_time": "2021-06-12T19:32:43.955Z"
   },
   {
    "duration": 42,
    "start_time": "2021-06-12T19:32:43.984Z"
   },
   {
    "duration": 1947,
    "start_time": "2021-06-12T19:32:44.028Z"
   },
   {
    "duration": 13,
    "start_time": "2021-06-12T19:32:45.977Z"
   },
   {
    "duration": 32,
    "start_time": "2021-06-12T19:32:45.997Z"
   },
   {
    "duration": 1886,
    "start_time": "2021-06-12T19:32:46.033Z"
   },
   {
    "duration": 16,
    "start_time": "2021-06-12T19:32:47.926Z"
   },
   {
    "duration": 2671,
    "start_time": "2021-06-12T19:32:47.944Z"
   },
   {
    "duration": 8,
    "start_time": "2021-06-12T19:32:50.626Z"
   },
   {
    "duration": 1671,
    "start_time": "2021-06-12T19:32:50.637Z"
   },
   {
    "duration": 1454,
    "start_time": "2021-06-12T19:32:52.311Z"
   },
   {
    "duration": 1435,
    "start_time": "2021-06-12T19:32:53.767Z"
   },
   {
    "duration": 1644,
    "start_time": "2021-06-12T19:32:55.205Z"
   },
   {
    "duration": 6,
    "start_time": "2021-06-12T19:32:56.853Z"
   },
   {
    "duration": 1760,
    "start_time": "2021-06-12T19:32:56.861Z"
   },
   {
    "duration": 1045,
    "start_time": "2021-06-12T19:32:58.626Z"
   },
   {
    "duration": 6,
    "start_time": "2021-06-12T19:32:59.674Z"
   },
   {
    "duration": 9,
    "start_time": "2021-06-12T19:32:59.683Z"
   },
   {
    "duration": 31,
    "start_time": "2021-06-12T19:32:59.694Z"
   },
   {
    "duration": 730,
    "start_time": "2021-06-12T19:32:59.728Z"
   },
   {
    "duration": 864,
    "start_time": "2021-06-12T19:33:00.461Z"
   },
   {
    "duration": 861,
    "start_time": "2021-06-12T19:33:01.327Z"
   },
   {
    "duration": 742,
    "start_time": "2021-06-12T19:33:02.191Z"
   },
   {
    "duration": 715,
    "start_time": "2021-06-12T19:33:02.936Z"
   },
   {
    "duration": 803,
    "start_time": "2021-06-12T19:33:03.654Z"
   },
   {
    "duration": 27,
    "start_time": "2021-06-12T19:33:04.459Z"
   },
   {
    "duration": 8,
    "start_time": "2021-06-12T19:33:04.489Z"
   },
   {
    "duration": 27,
    "start_time": "2021-06-12T19:33:04.500Z"
   },
   {
    "duration": 11,
    "start_time": "2021-06-12T19:33:04.530Z"
   },
   {
    "duration": 5,
    "start_time": "2021-06-12T19:33:04.544Z"
   },
   {
    "duration": 6,
    "start_time": "2021-06-12T19:33:04.552Z"
   },
   {
    "duration": 10,
    "start_time": "2021-06-12T19:33:04.561Z"
   },
   {
    "duration": 62,
    "start_time": "2021-06-12T19:33:04.574Z"
   },
   {
    "duration": 7,
    "start_time": "2021-06-12T19:33:04.639Z"
   },
   {
    "duration": 28,
    "start_time": "2021-06-12T19:33:04.649Z"
   },
   {
    "duration": 7458,
    "start_time": "2021-06-12T19:33:04.679Z"
   },
   {
    "duration": 185,
    "start_time": "2021-06-12T19:33:12.140Z"
   },
   {
    "duration": 5,
    "start_time": "2021-06-12T19:33:12.328Z"
   },
   {
    "duration": 2148,
    "start_time": "2021-06-12T19:33:12.337Z"
   },
   {
    "duration": 40529,
    "start_time": "2021-06-12T19:33:14.487Z"
   },
   {
    "duration": 82,
    "start_time": "2021-06-12T19:33:55.026Z"
   },
   {
    "duration": 18,
    "start_time": "2021-06-12T19:33:55.111Z"
   },
   {
    "duration": 30,
    "start_time": "2021-06-12T19:33:55.132Z"
   },
   {
    "duration": 359,
    "start_time": "2021-06-12T19:33:55.165Z"
   },
   {
    "duration": -702,
    "start_time": "2021-06-12T19:33:56.228Z"
   },
   {
    "duration": -704,
    "start_time": "2021-06-12T19:33:56.232Z"
   },
   {
    "duration": -710,
    "start_time": "2021-06-12T19:33:56.239Z"
   },
   {
    "duration": -712,
    "start_time": "2021-06-12T19:33:56.243Z"
   },
   {
    "duration": -716,
    "start_time": "2021-06-12T19:33:56.248Z"
   },
   {
    "duration": -719,
    "start_time": "2021-06-12T19:33:56.253Z"
   },
   {
    "duration": 9,
    "start_time": "2021-06-12T19:35:13.100Z"
   },
   {
    "duration": 7,
    "start_time": "2021-06-12T19:35:13.676Z"
   },
   {
    "duration": 9,
    "start_time": "2021-06-12T19:35:23.573Z"
   },
   {
    "duration": 12,
    "start_time": "2021-06-12T19:35:26.469Z"
   },
   {
    "duration": 5,
    "start_time": "2021-06-12T19:35:37.596Z"
   },
   {
    "duration": 157,
    "start_time": "2021-06-12T19:37:40.472Z"
   },
   {
    "duration": 1058,
    "start_time": "2021-06-12T19:37:44.110Z"
   },
   {
    "duration": 71,
    "start_time": "2021-06-12T20:25:12.903Z"
   },
   {
    "duration": 358,
    "start_time": "2021-06-12T20:25:40.981Z"
   },
   {
    "duration": 9,
    "start_time": "2021-06-12T20:25:57.727Z"
   },
   {
    "duration": 72,
    "start_time": "2021-06-12T20:26:09.403Z"
   },
   {
    "duration": 5,
    "start_time": "2021-06-12T20:26:22.873Z"
   },
   {
    "duration": 71,
    "start_time": "2021-06-12T21:12:37.855Z"
   },
   {
    "duration": 5,
    "start_time": "2021-06-12T21:13:09.459Z"
   }
  ],
  "kernelspec": {
   "display_name": "Python 3",
   "language": "python",
   "name": "python3"
  },
  "language_info": {
   "codemirror_mode": {
    "name": "ipython",
    "version": 3
   },
   "file_extension": ".py",
   "mimetype": "text/x-python",
   "name": "python",
   "nbconvert_exporter": "python",
   "pygments_lexer": "ipython3",
   "version": "3.8.5"
  },
  "toc": {
   "base_numbering": 1,
   "nav_menu": {},
   "number_sections": true,
   "sideBar": true,
   "skip_h1_title": true,
   "title_cell": "Содержание",
   "title_sidebar": "Contents",
   "toc_cell": true,
   "toc_position": {},
   "toc_section_display": true,
   "toc_window_display": false
  }
 },
 "nbformat": 4,
 "nbformat_minor": 2
}
