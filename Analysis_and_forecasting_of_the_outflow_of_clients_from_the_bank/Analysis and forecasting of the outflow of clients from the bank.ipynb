{
 "cells": [
  {
   "cell_type": "markdown",
   "metadata": {},
   "source": [
    "# Анализ и прогнозирование оттока клиентов для банка"
   ]
  },
  {
   "cell_type": "markdown",
   "metadata": {},
   "source": [
    "На предоставленных данных из банка необходимо произвести анализ и спрогнозировать отток клиентов, для своевременного принятия мер по удержанию.\n"
   ]
  },
  {
   "cell_type": "markdown",
   "metadata": {},
   "source": [
    "Признаки:\n",
    "- RowNumber — индекс строки в данных;\n",
    "- CustomerId — уникальный идентификатор клиента;\n",
    "- Surname — фамилия;\n",
    "- CreditScore — кредитный рейтинг;\n",
    "- Geography — страна проживания;\n",
    "- Gender — пол;\n",
    "- Age — возраст;\n",
    "- Tenure — сколько лет человек является клиентом банка;\n",
    "- Balance — баланс на счёте;\n",
    "- NumOfProducts — количество продуктов банка, используемых клиентом;\n",
    "- HasCrCard — наличие кредитной карты;\n",
    "- IsActiveMember — активность клиента;\n",
    "- EstimatedSalary — предполагаемая зарплата.\n",
    "\n",
    "Целевой признак:\n",
    "- Exited — факт ухода клиента."
   ]
  },
  {
   "cell_type": "markdown",
   "metadata": {
    "toc": true
   },
   "source": [
    "<h1>Содержание<span class=\"tocSkip\"></span></h1>\n",
    "<div class=\"toc\"><ul class=\"toc-item\"><li><span><a href=\"#Подготовка-данных\" data-toc-modified-id=\"Подготовка-данных-1\"><span class=\"toc-item-num\">1&nbsp;&nbsp;</span>Подготовка данных</a></span><ul class=\"toc-item\"><li><span><a href=\"#Изучение-предоставленных-данных\" data-toc-modified-id=\"Изучение-предоставленных-данных-1.1\"><span class=\"toc-item-num\">1.1&nbsp;&nbsp;</span>Изучение предоставленных данных</a></span></li><li><span><a href=\"#Предобработка-данных\" data-toc-modified-id=\"Предобработка-данных-1.2\"><span class=\"toc-item-num\">1.2&nbsp;&nbsp;</span>Предобработка данных</a></span></li><li><span><a href=\"#Произведём-кодирование-категориальных-признаков\" data-toc-modified-id=\"Произведём-кодирование-категориальных-признаков-1.3\"><span class=\"toc-item-num\">1.3&nbsp;&nbsp;</span>Произведём кодирование категориальных признаков</a></span></li><li><span><a href=\"#Произведем-нормирование-величин\" data-toc-modified-id=\"Произведем-нормирование-величин-1.4\"><span class=\"toc-item-num\">1.4&nbsp;&nbsp;</span>Произведем нормирование величин</a></span></li></ul></li><li><span><a href=\"#Исследование-задачи\" data-toc-modified-id=\"Исследование-задачи-2\"><span class=\"toc-item-num\">2&nbsp;&nbsp;</span>Исследование задачи</a></span><ul class=\"toc-item\"><li><span><a href=\"#Выявления-дисбаланса-классов\" data-toc-modified-id=\"Выявления-дисбаланса-классов-2.1\"><span class=\"toc-item-num\">2.1&nbsp;&nbsp;</span>Выявления дисбаланса классов</a></span></li><li><span><a href=\"#Выбор-модели-и-подбор-гиперпараметров\" data-toc-modified-id=\"Выбор-модели-и-подбор-гиперпараметров-2.2\"><span class=\"toc-item-num\">2.2&nbsp;&nbsp;</span>Выбор модели и подбор гиперпараметров</a></span></li><li><span><a href=\"#Подсчет-метрик\" data-toc-modified-id=\"Подсчет-метрик-2.3\"><span class=\"toc-item-num\">2.3&nbsp;&nbsp;</span>Подсчет метрик</a></span></li></ul></li><li><span><a href=\"#Борьба-с-дисбалансом-и-поиск-наилучшей-модели\" data-toc-modified-id=\"Борьба-с-дисбалансом-и-поиск-наилучшей-модели-3\"><span class=\"toc-item-num\">3&nbsp;&nbsp;</span>Борьба с дисбалансом и поиск наилучшей модели</a></span><ul class=\"toc-item\"><li><span><a href=\"#Корректировка-дисбаланса\" data-toc-modified-id=\"Корректировка-дисбаланса-3.1\"><span class=\"toc-item-num\">3.1&nbsp;&nbsp;</span>Корректировка дисбаланса</a></span><ul class=\"toc-item\"><li><span><a href=\"#Метод-upsampling\" data-toc-modified-id=\"Метод-upsampling-3.1.1\"><span class=\"toc-item-num\">3.1.1&nbsp;&nbsp;</span>Метод upsampling</a></span></li><li><span><a href=\"#Метод-downsampling\" data-toc-modified-id=\"Метод-downsampling-3.1.2\"><span class=\"toc-item-num\">3.1.2&nbsp;&nbsp;</span>Метод downsampling</a></span></li></ul></li><li><span><a href=\"#Проверим-на-уже-использованной-выше-модели-с-выбранными-гиперпараметрами-скорректированную-выборку.\" data-toc-modified-id=\"Проверим-на-уже-использованной-выше-модели-с-выбранными-гиперпараметрами-скорректированную-выборку.-3.2\"><span class=\"toc-item-num\">3.2&nbsp;&nbsp;</span>Проверим на уже использованной выше модели с выбранными гиперпараметрами скорректированную выборку.</a></span><ul class=\"toc-item\"><li><span><a href=\"#Используем-сбалансированную-выборку-методом-upsamling\" data-toc-modified-id=\"Используем-сбалансированную-выборку-методом-upsamling-3.2.1\"><span class=\"toc-item-num\">3.2.1&nbsp;&nbsp;</span>Используем сбалансированную выборку методом upsamling</a></span></li><li><span><a href=\"#Используем-сбалансированную-выборку-методом-downsamling\" data-toc-modified-id=\"Используем-сбалансированную-выборку-методом-downsamling-3.2.2\"><span class=\"toc-item-num\">3.2.2&nbsp;&nbsp;</span>Используем сбалансированную выборку методом downsamling</a></span></li></ul></li><li><span><a href=\"#Модель-логистической-регрессии-с-подбором-гиперпараметров\" data-toc-modified-id=\"Модель-логистической-регрессии-с-подбором-гиперпараметров-3.3\"><span class=\"toc-item-num\">3.3&nbsp;&nbsp;</span>Модель логистической регрессии с подбором гиперпараметров</a></span></li><li><span><a href=\"#Модель-решающего-дерева-с-подбором-гиперпараметров\" data-toc-modified-id=\"Модель-решающего-дерева-с-подбором-гиперпараметров-3.4\"><span class=\"toc-item-num\">3.4&nbsp;&nbsp;</span>Модель решающего дерева с подбором гиперпараметров</a></span></li></ul></li><li><span><a href=\"#Финальное-тестирование-наилучшей-модели\" data-toc-modified-id=\"Финальное-тестирование-наилучшей-модели-4\"><span class=\"toc-item-num\">4&nbsp;&nbsp;</span>Финальное тестирование наилучшей модели</a></span><ul class=\"toc-item\"><li><span><a href=\"#Модель-Случайного-Леса\" data-toc-modified-id=\"Модель-Случайного-Леса-4.1\"><span class=\"toc-item-num\">4.1&nbsp;&nbsp;</span>Модель Случайного Леса</a></span></li><li><span><a href=\"#Модель-Решающего-Дерева\" data-toc-modified-id=\"Модель-Решающего-Дерева-4.2\"><span class=\"toc-item-num\">4.2&nbsp;&nbsp;</span>Модель Решающего Дерева</a></span></li><li><span><a href=\"#Вывод\" data-toc-modified-id=\"Вывод-4.3\"><span class=\"toc-item-num\">4.3&nbsp;&nbsp;</span>Вывод</a></span></li></ul></li></ul></div>"
   ]
  },
  {
   "cell_type": "markdown",
   "metadata": {},
   "source": [
    "## Подготовка данных"
   ]
  },
  {
   "cell_type": "code",
   "execution_count": 1,
   "metadata": {},
   "outputs": [],
   "source": [
    "import pandas as pd\n",
    "from tqdm.notebook import tqdm\n",
    "\n",
    "from sklearn.preprocessing import StandardScaler \n",
    "\n",
    "from sklearn.model_selection import train_test_split\n",
    "\n",
    "from sklearn.model_selection import GridSearchCV\n",
    "from sklearn.tree import DecisionTreeClassifier\n",
    "from sklearn.ensemble import RandomForestClassifier\n",
    "from sklearn.linear_model import LogisticRegression\n",
    "\n",
    "from sklearn.metrics import precision_score, recall_score\n",
    "from sklearn.metrics import f1_score\n",
    "from sklearn.metrics import roc_curve \n",
    "from sklearn.metrics import roc_auc_score\n",
    "import matplotlib.pyplot as plt\n",
    "\n",
    "from sklearn.utils import shuffle\n",
    "\n",
    "import warnings\n",
    "warnings.filterwarnings('ignore')"
   ]
  },
  {
   "cell_type": "code",
   "execution_count": 2,
   "metadata": {},
   "outputs": [],
   "source": [
    "pash = 'C:/users/v_kly'"
   ]
  },
  {
   "cell_type": "code",
   "execution_count": 3,
   "metadata": {},
   "outputs": [],
   "source": [
    "df = pd.read_csv(pash + '/datasets/Churn.csv')"
   ]
  },
  {
   "cell_type": "markdown",
   "metadata": {},
   "source": [
    "### Изучение предоставленных данных"
   ]
  },
  {
   "cell_type": "code",
   "execution_count": 4,
   "metadata": {
    "scrolled": true
   },
   "outputs": [
    {
     "data": {
      "text/html": [
       "<div>\n",
       "<style scoped>\n",
       "    .dataframe tbody tr th:only-of-type {\n",
       "        vertical-align: middle;\n",
       "    }\n",
       "\n",
       "    .dataframe tbody tr th {\n",
       "        vertical-align: top;\n",
       "    }\n",
       "\n",
       "    .dataframe thead th {\n",
       "        text-align: right;\n",
       "    }\n",
       "</style>\n",
       "<table border=\"1\" class=\"dataframe\">\n",
       "  <thead>\n",
       "    <tr style=\"text-align: right;\">\n",
       "      <th></th>\n",
       "      <th>RowNumber</th>\n",
       "      <th>CustomerId</th>\n",
       "      <th>Surname</th>\n",
       "      <th>CreditScore</th>\n",
       "      <th>Geography</th>\n",
       "      <th>Gender</th>\n",
       "      <th>Age</th>\n",
       "      <th>Tenure</th>\n",
       "      <th>Balance</th>\n",
       "      <th>NumOfProducts</th>\n",
       "      <th>HasCrCard</th>\n",
       "      <th>IsActiveMember</th>\n",
       "      <th>EstimatedSalary</th>\n",
       "      <th>Exited</th>\n",
       "    </tr>\n",
       "  </thead>\n",
       "  <tbody>\n",
       "    <tr>\n",
       "      <th>0</th>\n",
       "      <td>1</td>\n",
       "      <td>15634602</td>\n",
       "      <td>Hargrave</td>\n",
       "      <td>619</td>\n",
       "      <td>France</td>\n",
       "      <td>Female</td>\n",
       "      <td>42</td>\n",
       "      <td>2.0</td>\n",
       "      <td>0.00</td>\n",
       "      <td>1</td>\n",
       "      <td>1</td>\n",
       "      <td>1</td>\n",
       "      <td>101348.88</td>\n",
       "      <td>1</td>\n",
       "    </tr>\n",
       "    <tr>\n",
       "      <th>1</th>\n",
       "      <td>2</td>\n",
       "      <td>15647311</td>\n",
       "      <td>Hill</td>\n",
       "      <td>608</td>\n",
       "      <td>Spain</td>\n",
       "      <td>Female</td>\n",
       "      <td>41</td>\n",
       "      <td>1.0</td>\n",
       "      <td>83807.86</td>\n",
       "      <td>1</td>\n",
       "      <td>0</td>\n",
       "      <td>1</td>\n",
       "      <td>112542.58</td>\n",
       "      <td>0</td>\n",
       "    </tr>\n",
       "    <tr>\n",
       "      <th>2</th>\n",
       "      <td>3</td>\n",
       "      <td>15619304</td>\n",
       "      <td>Onio</td>\n",
       "      <td>502</td>\n",
       "      <td>France</td>\n",
       "      <td>Female</td>\n",
       "      <td>42</td>\n",
       "      <td>8.0</td>\n",
       "      <td>159660.80</td>\n",
       "      <td>3</td>\n",
       "      <td>1</td>\n",
       "      <td>0</td>\n",
       "      <td>113931.57</td>\n",
       "      <td>1</td>\n",
       "    </tr>\n",
       "    <tr>\n",
       "      <th>3</th>\n",
       "      <td>4</td>\n",
       "      <td>15701354</td>\n",
       "      <td>Boni</td>\n",
       "      <td>699</td>\n",
       "      <td>France</td>\n",
       "      <td>Female</td>\n",
       "      <td>39</td>\n",
       "      <td>1.0</td>\n",
       "      <td>0.00</td>\n",
       "      <td>2</td>\n",
       "      <td>0</td>\n",
       "      <td>0</td>\n",
       "      <td>93826.63</td>\n",
       "      <td>0</td>\n",
       "    </tr>\n",
       "    <tr>\n",
       "      <th>4</th>\n",
       "      <td>5</td>\n",
       "      <td>15737888</td>\n",
       "      <td>Mitchell</td>\n",
       "      <td>850</td>\n",
       "      <td>Spain</td>\n",
       "      <td>Female</td>\n",
       "      <td>43</td>\n",
       "      <td>2.0</td>\n",
       "      <td>125510.82</td>\n",
       "      <td>1</td>\n",
       "      <td>1</td>\n",
       "      <td>1</td>\n",
       "      <td>79084.10</td>\n",
       "      <td>0</td>\n",
       "    </tr>\n",
       "  </tbody>\n",
       "</table>\n",
       "</div>"
      ],
      "text/plain": [
       "   RowNumber  CustomerId   Surname  CreditScore Geography  Gender  Age  \\\n",
       "0          1    15634602  Hargrave          619    France  Female   42   \n",
       "1          2    15647311      Hill          608     Spain  Female   41   \n",
       "2          3    15619304      Onio          502    France  Female   42   \n",
       "3          4    15701354      Boni          699    France  Female   39   \n",
       "4          5    15737888  Mitchell          850     Spain  Female   43   \n",
       "\n",
       "   Tenure    Balance  NumOfProducts  HasCrCard  IsActiveMember  \\\n",
       "0     2.0       0.00              1          1               1   \n",
       "1     1.0   83807.86              1          0               1   \n",
       "2     8.0  159660.80              3          1               0   \n",
       "3     1.0       0.00              2          0               0   \n",
       "4     2.0  125510.82              1          1               1   \n",
       "\n",
       "   EstimatedSalary  Exited  \n",
       "0        101348.88       1  \n",
       "1        112542.58       0  \n",
       "2        113931.57       1  \n",
       "3         93826.63       0  \n",
       "4         79084.10       0  "
      ]
     },
     "execution_count": 4,
     "metadata": {},
     "output_type": "execute_result"
    }
   ],
   "source": [
    "df.head()"
   ]
  },
  {
   "cell_type": "code",
   "execution_count": 5,
   "metadata": {},
   "outputs": [
    {
     "name": "stdout",
     "output_type": "stream",
     "text": [
      "<class 'pandas.core.frame.DataFrame'>\n",
      "RangeIndex: 10000 entries, 0 to 9999\n",
      "Data columns (total 14 columns):\n",
      " #   Column           Non-Null Count  Dtype  \n",
      "---  ------           --------------  -----  \n",
      " 0   RowNumber        10000 non-null  int64  \n",
      " 1   CustomerId       10000 non-null  int64  \n",
      " 2   Surname          10000 non-null  object \n",
      " 3   CreditScore      10000 non-null  int64  \n",
      " 4   Geography        10000 non-null  object \n",
      " 5   Gender           10000 non-null  object \n",
      " 6   Age              10000 non-null  int64  \n",
      " 7   Tenure           9091 non-null   float64\n",
      " 8   Balance          10000 non-null  float64\n",
      " 9   NumOfProducts    10000 non-null  int64  \n",
      " 10  HasCrCard        10000 non-null  int64  \n",
      " 11  IsActiveMember   10000 non-null  int64  \n",
      " 12  EstimatedSalary  10000 non-null  float64\n",
      " 13  Exited           10000 non-null  int64  \n",
      "dtypes: float64(3), int64(8), object(3)\n",
      "memory usage: 1.1+ MB\n"
     ]
    }
   ],
   "source": [
    "df.info()"
   ]
  },
  {
   "cell_type": "markdown",
   "metadata": {},
   "source": [
    "Для обучения модели и предсказания класса нам не потребуются столбцы RowNumber (столбец с индексами, дубль), CustomerId (id клиента) и Surname (имя клиента). Исключим их из датафрейма. Предварительно убедимся, что нет дублей среди id клиентов."
   ]
  },
  {
   "cell_type": "code",
   "execution_count": 6,
   "metadata": {},
   "outputs": [
    {
     "data": {
      "text/plain": [
       "10000"
      ]
     },
     "execution_count": 6,
     "metadata": {},
     "output_type": "execute_result"
    }
   ],
   "source": [
    "df.CustomerId.nunique() "
   ]
  },
  {
   "cell_type": "markdown",
   "metadata": {},
   "source": [
    "Количество уникальных id соответствует количеству строк, дублей нет."
   ]
  },
  {
   "cell_type": "code",
   "execution_count": 7,
   "metadata": {},
   "outputs": [],
   "source": [
    "data = df.drop(['RowNumber', 'CustomerId', 'Surname'], axis=1)"
   ]
  },
  {
   "cell_type": "markdown",
   "metadata": {},
   "source": [
    "### Предобработка данных"
   ]
  },
  {
   "cell_type": "markdown",
   "metadata": {},
   "source": [
    "Посмотрим на уникальные значения некоторых столбцов."
   ]
  },
  {
   "cell_type": "code",
   "execution_count": 8,
   "metadata": {},
   "outputs": [
    {
     "data": {
      "text/plain": [
       "Index(['CreditScore', 'Geography', 'Gender', 'Age', 'Tenure', 'Balance',\n",
       "       'NumOfProducts', 'HasCrCard', 'IsActiveMember', 'EstimatedSalary',\n",
       "       'Exited'],\n",
       "      dtype='object')"
      ]
     },
     "execution_count": 8,
     "metadata": {},
     "output_type": "execute_result"
    }
   ],
   "source": [
    "data.columns"
   ]
  },
  {
   "cell_type": "code",
   "execution_count": 9,
   "metadata": {},
   "outputs": [
    {
     "data": {
      "text/plain": [
       "array([1, 0], dtype=int64)"
      ]
     },
     "execution_count": 9,
     "metadata": {},
     "output_type": "execute_result"
    }
   ],
   "source": [
    "data.Exited.unique() "
   ]
  },
  {
   "cell_type": "markdown",
   "metadata": {},
   "source": [
    "Факт ухода. Категориальный признак, два бинарных значения, это мы и ожидаем увидеть, всё в порядке."
   ]
  },
  {
   "cell_type": "code",
   "execution_count": 10,
   "metadata": {},
   "outputs": [
    {
     "data": {
      "text/plain": [
       "array([1, 0], dtype=int64)"
      ]
     },
     "execution_count": 10,
     "metadata": {},
     "output_type": "execute_result"
    }
   ],
   "source": [
    "data.IsActiveMember.unique() "
   ]
  },
  {
   "cell_type": "markdown",
   "metadata": {},
   "source": [
    "Активность клиента. Бинарный признак, два значения, всё ок."
   ]
  },
  {
   "cell_type": "code",
   "execution_count": 11,
   "metadata": {},
   "outputs": [
    {
     "data": {
      "text/plain": [
       "array([1, 0], dtype=int64)"
      ]
     },
     "execution_count": 11,
     "metadata": {},
     "output_type": "execute_result"
    }
   ],
   "source": [
    "data.HasCrCard.unique() "
   ]
  },
  {
   "cell_type": "markdown",
   "metadata": {},
   "source": [
    "Наличие кредитной карты. Бинарный признак, всё ок."
   ]
  },
  {
   "cell_type": "code",
   "execution_count": 12,
   "metadata": {},
   "outputs": [
    {
     "data": {
      "text/plain": [
       "array([1, 3, 2, 4], dtype=int64)"
      ]
     },
     "execution_count": 12,
     "metadata": {},
     "output_type": "execute_result"
    }
   ],
   "source": [
    "data.NumOfProducts.unique() "
   ]
  },
  {
   "cell_type": "markdown",
   "metadata": {},
   "source": [
    "Количество используемых продуктов. Четыре целочисленных значения, всё ок."
   ]
  },
  {
   "cell_type": "code",
   "execution_count": 13,
   "metadata": {},
   "outputs": [
    {
     "data": {
      "text/plain": [
       "array([ 2.,  1.,  8.,  7.,  4.,  6.,  3., 10.,  5.,  9.,  0., nan])"
      ]
     },
     "execution_count": 13,
     "metadata": {},
     "output_type": "execute_result"
    }
   ],
   "source": [
    "data.Tenure.unique() "
   ]
  },
  {
   "cell_type": "markdown",
   "metadata": {},
   "source": [
    "Продолжительность \"жизни\" клиента, целочисленные значения, есть пропуски, это было видно ранее, менее 10%."
   ]
  },
  {
   "cell_type": "markdown",
   "metadata": {},
   "source": [
    "Избавимся от пропусков в столбце `Tenure`"
   ]
  },
  {
   "cell_type": "code",
   "execution_count": 14,
   "metadata": {},
   "outputs": [],
   "source": [
    "data = data.loc[~data['Tenure'].isna()]"
   ]
  },
  {
   "cell_type": "code",
   "execution_count": 15,
   "metadata": {},
   "outputs": [
    {
     "data": {
      "text/plain": [
       "array([42, 41, 39, 43, 44, 50, 29, 27, 31, 24, 34, 25, 35, 45, 58, 32, 38,\n",
       "       46, 36, 33, 40, 51, 61, 49, 37, 19, 66, 56, 26, 21, 55, 22, 30, 28,\n",
       "       65, 52, 48, 57, 73, 47, 54, 72, 20, 67, 79, 62, 53, 80, 59, 68, 75,\n",
       "       23, 60, 63, 64, 70, 18, 82, 69, 74, 71, 76, 77, 88, 85, 84, 81, 78,\n",
       "       92, 83], dtype=int64)"
      ]
     },
     "execution_count": 15,
     "metadata": {},
     "output_type": "execute_result"
    }
   ],
   "source": [
    "data.Age.unique() "
   ]
  },
  {
   "cell_type": "markdown",
   "metadata": {},
   "source": [
    "Возраст клиента. Целочисленные значения, выпадающих значений нет, всё ок."
   ]
  },
  {
   "cell_type": "code",
   "execution_count": 16,
   "metadata": {},
   "outputs": [
    {
     "data": {
      "text/plain": [
       "array(['Female', 'Male'], dtype=object)"
      ]
     },
     "execution_count": 16,
     "metadata": {},
     "output_type": "execute_result"
    }
   ],
   "source": [
    "data.Gender.unique()"
   ]
  },
  {
   "cell_type": "markdown",
   "metadata": {},
   "source": [
    "Пол клиента, два значения типа object. При использовании логистической регрессии потребуется кодирование."
   ]
  },
  {
   "cell_type": "code",
   "execution_count": 17,
   "metadata": {},
   "outputs": [
    {
     "data": {
      "text/plain": [
       "array(['France', 'Spain', 'Germany'], dtype=object)"
      ]
     },
     "execution_count": 17,
     "metadata": {},
     "output_type": "execute_result"
    }
   ],
   "source": [
    "data.Geography.unique() "
   ]
  },
  {
   "cell_type": "markdown",
   "metadata": {},
   "source": [
    "Географическое расположение. Три значения типа object, потребуется кодирование."
   ]
  },
  {
   "cell_type": "code",
   "execution_count": 18,
   "metadata": {
    "scrolled": true
   },
   "outputs": [
    {
     "data": {
      "text/plain": [
       "array([619, 608, 502, 699, 850, 645, 822, 376, 501, 684, 528, 497, 476,\n",
       "       549, 635, 616, 653, 587, 726, 732, 636, 510, 669, 846, 577, 756,\n",
       "       571, 574, 411, 533, 553, 520, 722, 475, 490, 804, 582, 472, 465,\n",
       "       556, 834, 660, 776, 829, 637, 698, 788, 601, 656, 725, 511, 614,\n",
       "       687, 555, 603, 751, 581, 735, 661, 675, 738, 813, 657, 604, 519,\n",
       "       664, 678, 757, 416, 665, 777, 506, 493, 750, 729, 646, 647, 808,\n",
       "       524, 769, 515, 773, 814, 710, 623, 670, 622, 785, 605, 479, 685,\n",
       "       562, 721, 628, 668, 828, 674, 625, 770, 758, 795, 686, 789, 589,\n",
       "       461, 584, 579, 663, 682, 793, 691, 485, 650, 754, 535, 716, 539,\n",
       "       706, 586, 631, 717, 683, 704, 615, 667, 484, 480, 512, 606, 597,\n",
       "       778, 514, 730, 525, 715, 580, 807, 521, 759, 516, 711, 550, 618,\n",
       "       643, 671, 689, 620, 676, 572, 695, 592, 694, 547, 594, 673, 610,\n",
       "       767, 585, 763, 712, 703, 662, 659, 523, 772, 545, 634, 739, 771,\n",
       "       681, 544, 766, 727, 557, 531, 498, 651, 791, 733, 811, 707, 714,\n",
       "       782, 775, 799, 744, 588, 747, 583, 627, 731, 629, 438, 652, 642,\n",
       "       806, 474, 559, 429, 680, 749, 734, 644, 626, 649, 805, 543, 718,\n",
       "       840, 630, 654, 568, 613, 737, 648, 443, 640, 540, 460, 593, 611,\n",
       "       802, 745, 483, 690, 492, 709, 705, 560, 752, 701, 538, 537, 487,\n",
       "       702, 486, 724, 548, 762, 464, 790, 748, 494, 590, 509, 818, 816,\n",
       "       536, 753, 774, 621, 569, 658, 641, 542, 692, 591, 639, 765, 570,\n",
       "       638, 599, 632, 468, 779, 527, 696, 564, 504, 842, 508, 417, 598,\n",
       "       741, 607, 761, 848, 546, 755, 760, 526, 713, 700, 666, 566, 495,\n",
       "       688, 612, 477, 427, 839, 819, 578, 720, 459, 503, 624, 529, 563,\n",
       "       482, 796, 445, 746, 742, 786, 554, 672, 787, 499, 844, 450, 815,\n",
       "       838, 803, 736, 633, 600, 679, 517, 792, 743, 488, 421, 708, 507,\n",
       "       505, 567, 456, 561, 565, 435, 728, 596, 784, 552, 609, 764, 697,\n",
       "       723, 551, 655, 444, 719, 496, 541, 830, 812, 602, 677, 432, 420,\n",
       "       595, 833, 617, 809, 500, 434, 513, 693, 363, 399, 780, 452, 575,\n",
       "       837, 794, 824, 534, 823, 781, 849, 489, 431, 768, 831, 820, 573,\n",
       "       576, 558, 817, 797, 440, 415, 821, 530, 350, 446, 439, 798, 425,\n",
       "       518, 740, 481, 428, 783, 358, 800, 845, 841, 451, 458, 469, 404,\n",
       "       836, 835, 478, 473, 351, 466, 801, 827, 843, 365, 414, 471, 401,\n",
       "       532, 449, 491, 810, 832, 447, 422, 825, 430, 436, 470, 426, 453,\n",
       "       408, 847, 418, 463, 437, 413, 826, 522, 454, 407, 462, 386, 405,\n",
       "       457, 410, 383, 395, 467, 455, 433, 442, 424, 448, 441, 367, 412,\n",
       "       382, 373, 419], dtype=int64)"
      ]
     },
     "execution_count": 18,
     "metadata": {},
     "output_type": "execute_result"
    }
   ],
   "source": [
    "data.CreditScore.unique() "
   ]
  },
  {
   "cell_type": "code",
   "execution_count": 44,
   "metadata": {},
   "outputs": [
    {
     "data": {
      "text/plain": [
       "<AxesSubplot:ylabel='Frequency'>"
      ]
     },
     "execution_count": 44,
     "metadata": {},
     "output_type": "execute_result"
    },
    {
     "data": {
      "image/png": "[encoded data removed]",
      "text/plain": [
       "<Figure size 576x324 with 1 Axes>"
      ]
     },
     "metadata": {
      "needs_background": "light"
     },
     "output_type": "display_data"
    }
   ],
   "source": [
    "data.CreditScore.plot(kind='hist', grid=True, bins=15, figsize=(8,4.5))"
   ]
  },
  {
   "cell_type": "code",
   "execution_count": 30,
   "metadata": {},
   "outputs": [
    {
     "data": {
      "text/plain": [
       "count    9091.000000\n",
       "mean      650.736553\n",
       "std        96.410471\n",
       "min       350.000000\n",
       "25%       584.000000\n",
       "50%       652.000000\n",
       "75%       717.000000\n",
       "max       850.000000\n",
       "Name: CreditScore, dtype: float64"
      ]
     },
     "execution_count": 30,
     "metadata": {},
     "output_type": "execute_result"
    }
   ],
   "source": [
    "data.CreditScore.describe()"
   ]
  },
  {
   "cell_type": "markdown",
   "metadata": {},
   "source": [
    "Кредитный рейтинг. Целочисленные значения, распределение близко к нормальному, выбросов нет, всё ок."
   ]
  },
  {
   "cell_type": "markdown",
   "metadata": {},
   "source": [
    "### Произведём кодирование категориальных признаков"
   ]
  },
  {
   "cell_type": "markdown",
   "metadata": {},
   "source": [
    "Произведём прямое кодирование данных."
   ]
  },
  {
   "cell_type": "code",
   "execution_count": 18,
   "metadata": {},
   "outputs": [],
   "source": [
    "data = pd.get_dummies(data, drop_first=True) # Сбросим первые столбцы, для изежания дамми-ловушки"
   ]
  },
  {
   "cell_type": "markdown",
   "metadata": {},
   "source": [
    "### Произведем нормирование величин"
   ]
  },
  {
   "cell_type": "markdown",
   "metadata": {},
   "source": [
    "Прежде чем проводить стандартизацию, поделим выборку на тренировочную, валидационную и тестовую части."
   ]
  },
  {
   "cell_type": "code",
   "execution_count": 19,
   "metadata": {},
   "outputs": [],
   "source": [
    "features = data.drop('Exited', axis=1)\n",
    "target = data['Exited']\n",
    "\n",
    "features_train, features_valid_test, target_train, target_valid_test = train_test_split(\n",
    "    features, target, test_size=0.40, random_state=12345)\n",
    "\n",
    "features_valid, features_test, target_valid, target_test = train_test_split(\n",
    "    features_valid_test, target_valid_test, test_size=0.50, random_state=12345)\n"
   ]
  },
  {
   "cell_type": "code",
   "execution_count": 20,
   "metadata": {},
   "outputs": [
    {
     "name": "stdout",
     "output_type": "stream",
     "text": [
      "Тренировочная выборка: признаки - 5454 , целевые значения - 5454\n",
      "Валидационная выборка: признаки - 1818 , целевые значения - 1818\n",
      "Тестовая выборка: признаки - 1819 , целевые значения - 1819\n"
     ]
    }
   ],
   "source": [
    "print('Тренировочная выборка: признаки -', len(features_train), ', целевые значения -', len(target_train))\n",
    "print('Валидационная выборка: признаки -', len(features_valid), ', целевые значения -', len(target_valid))\n",
    "print('Тестовая выборка: признаки -', len(features_test), ', целевые значения -', len(target_test))"
   ]
  },
  {
   "cell_type": "markdown",
   "metadata": {},
   "source": [
    "Создадим объект класса `StandardScaler` и настроим его на обучающих данных."
   ]
  },
  {
   "cell_type": "code",
   "execution_count": 21,
   "metadata": {},
   "outputs": [
    {
     "data": {
      "text/plain": [
       "StandardScaler(copy=True, with_mean=True, with_std=True)"
      ]
     },
     "execution_count": 21,
     "metadata": {},
     "output_type": "execute_result"
    }
   ],
   "source": [
    "numeric = ['CreditScore', 'Age', 'Balance', 'EstimatedSalary', 'Tenure']\n",
    "\n",
    "scaler = StandardScaler()\n",
    "\n",
    "scaler.fit(features_train[numeric])"
   ]
  },
  {
   "cell_type": "markdown",
   "metadata": {},
   "source": [
    "Преобразуем обучающую, валидационную и тестовую выборки функцией transform()."
   ]
  },
  {
   "cell_type": "code",
   "execution_count": 22,
   "metadata": {},
   "outputs": [],
   "source": [
    "features_train[numeric] = scaler.transform(features_train[numeric])\n",
    "\n",
    "features_valid[numeric] = scaler.transform(features_valid[numeric])\n",
    "\n",
    "features_test[numeric] = scaler.transform(features_test[numeric])"
   ]
  },
  {
   "cell_type": "markdown",
   "metadata": {},
   "source": [
    "## Исследование задачи"
   ]
  },
  {
   "cell_type": "markdown",
   "metadata": {},
   "source": [
    "### Выявления дисбаланса классов"
   ]
  },
  {
   "cell_type": "markdown",
   "metadata": {},
   "source": [
    "Посмотрим на баланс классов по целевому признаку"
   ]
  },
  {
   "cell_type": "code",
   "execution_count": 23,
   "metadata": {
    "scrolled": true
   },
   "outputs": [
    {
     "data": {
      "text/plain": [
       "0.2039379606203938"
      ]
     },
     "execution_count": 23,
     "metadata": {},
     "output_type": "execute_result"
    }
   ],
   "source": [
    "data.Exited.mean()"
   ]
  },
  {
   "cell_type": "markdown",
   "metadata": {},
   "source": [
    "Как видно из значения выше: класс \"1\" занимает 1/5 часть всей выборки."
   ]
  },
  {
   "cell_type": "markdown",
   "metadata": {},
   "source": [
    "Попробуем обучить модель невзирая на явный дисбаланс классов, и посмотрим на результаты.,"
   ]
  },
  {
   "cell_type": "markdown",
   "metadata": {},
   "source": [
    "### Выбор модели и подбор гиперпараметров"
   ]
  },
  {
   "cell_type": "markdown",
   "metadata": {},
   "source": [
    "Используем для подбора гиперпараметров класс GridSearchCV."
   ]
  },
  {
   "cell_type": "markdown",
   "metadata": {},
   "source": [
    "Попробуем использовать модель случайного леса."
   ]
  },
  {
   "cell_type": "code",
   "execution_count": 24,
   "metadata": {
    "scrolled": false
   },
   "outputs": [
    {
     "data": {
      "text/plain": [
       "\"\\n%%time\\n\\nparameters = {'n_estimators': range(1,51), 'criterion':('gini', 'entropy'), 'max_depth':range(1, 20)}\\n\\nmodel = RandomForestClassifier(random_state=12345)\\n\\nclf = GridSearchCV(estimator=model, param_grid=parameters, scoring='f1', cv=4)\\nclf.fit(features_train, target_train)\\nprint('F-1 score модели случайного леса с наилучшими параметрами:', clf.best_score_)\\nclf.best_params_\\n\""
      ]
     },
     "execution_count": 24,
     "metadata": {},
     "output_type": "execute_result"
    }
   ],
   "source": [
    "# Данная ячейка закомментирована по причине длительного исполнения (около 30 минут).\n",
    "# Она полностью рабочая и свою функцию выполнила - гиперпараметры были подобраны.\n",
    "# Комментирования было сделано для ускорения и удобства работы со всей тетрадью.\n",
    "\n",
    "'''\n",
    "%%time\n",
    "\n",
    "parameters = {'n_estimators': range(1,51), 'criterion':('gini', 'entropy'), 'max_depth':range(1, 20)}\n",
    "\n",
    "model = RandomForestClassifier(random_state=12345)\n",
    "\n",
    "clf = GridSearchCV(estimator=model, param_grid=parameters, scoring='f1', cv=4)\n",
    "clf.fit(features_train, target_train)\n",
    "print('F-1 score модели случайного леса с наилучшими параметрами:', clf.best_score_)\n",
    "clf.best_params_\n",
    "'''"
   ]
  },
  {
   "cell_type": "markdown",
   "metadata": {},
   "source": [
    "### Подсчет метрик"
   ]
  },
  {
   "cell_type": "markdown",
   "metadata": {},
   "source": [
    "Параметры подобраны. Теперь посчитаем различные метрики для данной модели на валидационной выборке."
   ]
  },
  {
   "cell_type": "code",
   "execution_count": 25,
   "metadata": {},
   "outputs": [],
   "source": [
    "model_forest = RandomForestClassifier(criterion='gini', max_depth=18, n_estimators=45, random_state=12345)\n",
    "model_forest.fit(features_train, target_train)\n",
    "predicted_valid = model_forest.predict(features_valid)\n",
    "\n",
    "probabilities_valid = model_forest.predict_proba(features_valid) \n",
    "probabilities_one_valid = probabilities_valid[:, 1]"
   ]
  },
  {
   "cell_type": "markdown",
   "metadata": {},
   "source": [
    "Построим ROC кривую и высчитаем площадь под ней."
   ]
  },
  {
   "cell_type": "code",
   "execution_count": 26,
   "metadata": {
    "scrolled": false
   },
   "outputs": [
    {
     "data": {
      "image/png": "[encoded data removed]",
      "text/plain": [
       "<Figure size 432x432 with 1 Axes>"
      ]
     },
     "metadata": {
      "needs_background": "light"
     },
     "output_type": "display_data"
    }
   ],
   "source": [
    "fpr, tpr, thresholds = roc_curve(target_valid, probabilities_one_valid) \n",
    "\n",
    "plt.figure(figsize=(6,6))\n",
    "\n",
    "plt.plot(fpr, tpr)\n",
    "\n",
    "# ROC-кривая случайной модели (выглядит как прямая)\n",
    "plt.plot([0, 1], [0, 1], linestyle='--')\n",
    "plt.xlim(0, 1)                                        \n",
    "plt.ylim(0, 1)\n",
    "plt.xlabel(\"False Positive Rate\")\n",
    "plt.ylabel(\"True Positive Rate\")\n",
    "plt.title(\"ROC-кривая\")\n",
    "plt.show()"
   ]
  },
  {
   "cell_type": "code",
   "execution_count": 27,
   "metadata": {
    "scrolled": true
   },
   "outputs": [
    {
     "name": "stdout",
     "output_type": "stream",
     "text": [
      "Значение ROC-AUC: 0.8571771739710672\n"
     ]
    }
   ],
   "source": [
    "print('Значение ROC-AUC:', roc_auc_score(target_valid, probabilities_one_valid))"
   ]
  },
  {
   "cell_type": "markdown",
   "metadata": {},
   "source": [
    "Значение ROC-AUC впечатляет, но стоит проверить Полноту(`recall`) и Точность(`precision`)"
   ]
  },
  {
   "cell_type": "code",
   "execution_count": 28,
   "metadata": {
    "scrolled": true
   },
   "outputs": [
    {
     "name": "stdout",
     "output_type": "stream",
     "text": [
      "Значение Precision: 0.7551020408163265\n"
     ]
    }
   ],
   "source": [
    "print('Значение Precision:', precision_score(target_valid, predicted_valid))"
   ]
  },
  {
   "cell_type": "code",
   "execution_count": 29,
   "metadata": {
    "scrolled": true
   },
   "outputs": [
    {
     "name": "stdout",
     "output_type": "stream",
     "text": [
      "Значение Recall: 0.4907161803713528\n"
     ]
    }
   ],
   "source": [
    "print('Значение Recall:', recall_score(target_valid, predicted_valid))"
   ]
  },
  {
   "cell_type": "markdown",
   "metadata": {},
   "source": [
    "Как видно из значений выше, модель не так частно ошибается в предсказании интересуюшего нас Первого класса (\"1\", метрика precision 0,75), но при этом модели не удается предсказать и половины значений целевого класса (49%, метрика recall)"
   ]
  },
  {
   "cell_type": "markdown",
   "metadata": {},
   "source": [
    "Посчитаем совокупную метрику F1:"
   ]
  },
  {
   "cell_type": "code",
   "execution_count": 30,
   "metadata": {
    "scrolled": false
   },
   "outputs": [
    {
     "name": "stdout",
     "output_type": "stream",
     "text": [
      "F-1 мера: 0.594855305466238\n"
     ]
    }
   ],
   "source": [
    "print('F-1 мера:', f1_score(target_valid, predicted_valid))"
   ]
  },
  {
   "cell_type": "markdown",
   "metadata": {},
   "source": [
    "Значение далеко от идеального, не смотря на то, что метрика ROC-AUC сигнализировала о хорошем положении дел, вероятнее всего это связано с дисбалансом классов. Исправим это."
   ]
  },
  {
   "cell_type": "markdown",
   "metadata": {},
   "source": [
    "## Борьба с дисбалансом и поиск наилучшей модели"
   ]
  },
  {
   "cell_type": "markdown",
   "metadata": {},
   "source": [
    "### Корректировка дисбаланса\n"
   ]
  },
  {
   "cell_type": "markdown",
   "metadata": {},
   "source": [
    "#### Метод upsampling"
   ]
  },
  {
   "cell_type": "markdown",
   "metadata": {},
   "source": [
    "Преобразуем данные с помощью метода `upsampling`, тем самым увеличив долю положительных классов в обучающей выборке, приблизительно сравняв ее с отрицательным классом."
   ]
  },
  {
   "cell_type": "markdown",
   "metadata": {},
   "source": [
    "Разделим обучающую выборку по классам: на отрицательные и положительные объекты."
   ]
  },
  {
   "cell_type": "code",
   "execution_count": 31,
   "metadata": {},
   "outputs": [],
   "source": [
    "features_zeros = features_train[target_train == 0]   # Срез по индексам двух объектов типа Series с одинаковыми индексами\n",
    "features_ones = features_train[target_train == 1]\n",
    "target_zeros = target_train[target_train == 0]\n",
    "target_ones = target_train[target_train == 1]"
   ]
  },
  {
   "cell_type": "markdown",
   "metadata": {},
   "source": [
    "Соединим полученные таблицы с мультипликатором для положительного класса."
   ]
  },
  {
   "cell_type": "code",
   "execution_count": 32,
   "metadata": {},
   "outputs": [],
   "source": [
    "repeat = 2\n",
    "features_upsampled = pd.concat([features_zeros] + [features_ones] * repeat)\n",
    "target_upsampled = pd.concat([target_zeros] + [target_ones] * repeat) "
   ]
  },
  {
   "cell_type": "markdown",
   "metadata": {},
   "source": [
    "Теперь необходимо перемешать данные в соединенных таблицах, чтобы объекты одного класса не распологались подряд.\n",
    "\n",
    "Применим метод `shuffle`"
   ]
  },
  {
   "cell_type": "code",
   "execution_count": 33,
   "metadata": {},
   "outputs": [],
   "source": [
    "features_upsampled, target_upsampled = shuffle(features_upsampled, target_upsampled, random_state=12345)"
   ]
  },
  {
   "cell_type": "markdown",
   "metadata": {},
   "source": [
    "#### Метод downsampling"
   ]
  },
  {
   "cell_type": "markdown",
   "metadata": {},
   "source": [
    "Для сравления используем второй метод."
   ]
  },
  {
   "cell_type": "markdown",
   "metadata": {},
   "source": [
    "Преобразуем данные с помощью метода `downsampling`, тем самым уменьшив долю отрицательных классов в обучающей выборке, приблизительно сравняв ее с положительным классом.\n",
    "\n",
    "Последовательность действий схожа: уменьшение таблиц объектов производим внутри метода соединения таблиц, после чего перемешиваем данные в склеенном датафрейме."
   ]
  },
  {
   "cell_type": "code",
   "execution_count": 34,
   "metadata": {},
   "outputs": [],
   "source": [
    "fraction = 0.25\n",
    "features_downsampled = pd.concat([features_zeros.sample(frac=fraction, random_state=12345)] + [features_ones])\n",
    "target_downsampled = pd.concat([target_zeros.sample(frac=fraction, random_state=12345)] + [target_ones])\n",
    "    \n",
    "features_downsampled, target_downsampled = shuffle(features_downsampled, target_downsampled, random_state=12345)"
   ]
  },
  {
   "cell_type": "markdown",
   "metadata": {},
   "source": [
    "### Проверим на уже использованной выше модели с выбранными гиперпараметрами скорректированную выборку."
   ]
  },
  {
   "cell_type": "markdown",
   "metadata": {},
   "source": [
    "#### Используем сбалансированную выборку методом upsamling\n"
   ]
  },
  {
   "cell_type": "code",
   "execution_count": 35,
   "metadata": {},
   "outputs": [],
   "source": [
    "model_forest = RandomForestClassifier(criterion='gini', max_depth=18, n_estimators=45, random_state=12345)\n",
    "model_forest.fit(features_upsampled, target_upsampled)\n",
    "predicted_valid = model_forest.predict(features_valid)"
   ]
  },
  {
   "cell_type": "markdown",
   "metadata": {},
   "source": [
    "Посчитаем метрики для результатов на валидационной выборке."
   ]
  },
  {
   "cell_type": "code",
   "execution_count": 36,
   "metadata": {},
   "outputs": [],
   "source": [
    "probabilities_valid = model_forest.predict_proba(features_valid) \n",
    "probabilities_one_valid = probabilities_valid[:, 1]"
   ]
  },
  {
   "cell_type": "code",
   "execution_count": 37,
   "metadata": {
    "scrolled": false
   },
   "outputs": [
    {
     "data": {
      "image/png": "[encoded data removed]",
      "text/plain": [
       "<Figure size 432x432 with 1 Axes>"
      ]
     },
     "metadata": {
      "needs_background": "light"
     },
     "output_type": "display_data"
    },
    {
     "name": "stdout",
     "output_type": "stream",
     "text": [
      "Значение ROC-AUC: 0.8639603355318016\n",
      "Значение Precision: 0.6898954703832753\n",
      "Значение Recall: 0.5251989389920424\n",
      "F-1 мера: 0.5963855421686747\n"
     ]
    }
   ],
   "source": [
    "fpr, tpr, thresholds = roc_curve(target_valid, probabilities_one_valid) \n",
    "\n",
    "plt.figure(figsize=(6,6))\n",
    "\n",
    "plt.plot(fpr, tpr)\n",
    "\n",
    "\n",
    "plt.plot([0, 1], [0, 1], linestyle='--')  # ROC-кривая случайной модели\n",
    "plt.xlim(0, 1)                                        \n",
    "plt.ylim(0, 1)\n",
    "plt.xlabel(\"False Positive Rate\")\n",
    "plt.ylabel(\"True Positive Rate\")\n",
    "plt.title(\"ROC-кривая\")\n",
    "plt.show()\n",
    "\n",
    "print('Значение ROC-AUC:', roc_auc_score(target_valid, probabilities_one_valid))\n",
    "print('Значение Precision:', precision_score(target_valid, predicted_valid))\n",
    "print('Значение Recall:', recall_score(target_valid, predicted_valid))\n",
    "print('F-1 мера:', f1_score(target_valid, predicted_valid))"
   ]
  },
  {
   "cell_type": "markdown",
   "metadata": {},
   "source": [
    "Удалось повысить метрику `Recall` - модель стала лучше предсказывать положительный класс на 3 процентных пункта.\n",
    "\n",
    "Метрика F-1 улучшилась на 0,15 процентных пункта. Значение ROC-AUC также выросло на 0,68 процентных пункта."
   ]
  },
  {
   "cell_type": "markdown",
   "metadata": {},
   "source": [
    "#### Используем сбалансированную выборку методом downsamling"
   ]
  },
  {
   "cell_type": "code",
   "execution_count": 38,
   "metadata": {
    "scrolled": false
   },
   "outputs": [
    {
     "data": {
      "image/png": "[encoded data removed]",
      "text/plain": [
       "<Figure size 432x432 with 1 Axes>"
      ]
     },
     "metadata": {
      "needs_background": "light"
     },
     "output_type": "display_data"
    },
    {
     "name": "stdout",
     "output_type": "stream",
     "text": [
      "Значение ROC-AUC: 0.8561242653108933\n",
      "Значение Precision: 0.4635658914728682\n",
      "Значение Recall: 0.7931034482758621\n",
      "F-1 мера: 0.5851272015655578\n"
     ]
    }
   ],
   "source": [
    "model_forest = RandomForestClassifier(criterion='gini', max_depth=18, n_estimators=45, random_state=12345)\n",
    "model_forest.fit(features_downsampled, target_downsampled)\n",
    "predicted_valid = model_forest.predict(features_valid)\n",
    "\n",
    "probabilities_valid = model_forest.predict_proba(features_valid) \n",
    "probabilities_one_valid = probabilities_valid[:, 1]\n",
    "\n",
    "fpr, tpr, thresholds = roc_curve(target_valid, probabilities_one_valid) \n",
    "\n",
    "plt.figure(figsize=(6,6))\n",
    "plt.plot(fpr, tpr)\n",
    "plt.plot([0, 1], [0, 1], linestyle='--')  # ROC-кривая случайной модели\n",
    "plt.xlim(0, 1)                                        \n",
    "plt.ylim(0, 1)\n",
    "plt.xlabel(\"False Positive Rate\")\n",
    "plt.ylabel(\"True Positive Rate\")\n",
    "plt.title(\"ROC-кривая\")\n",
    "plt.show()\n",
    "\n",
    "print('Значение ROC-AUC:', roc_auc_score(target_valid, probabilities_one_valid))\n",
    "print('Значение Precision:', precision_score(target_valid, predicted_valid))\n",
    "print('Значение Recall:', recall_score(target_valid, predicted_valid))\n",
    "print('F-1 мера:', f1_score(target_valid, predicted_valid))"
   ]
  },
  {
   "cell_type": "markdown",
   "metadata": {},
   "source": [
    "Метрики на данной выборке исказились, контрольная метрика F-1 снизилась. Такое вероятно произошло из-за сильного снижения выборки, что привело к появлению искажений при обучении.\n",
    "\n",
    "**В дальнейшем исследовании будем использовать выборку сбалансированную методом upsampling.***"
   ]
  },
  {
   "cell_type": "markdown",
   "metadata": {},
   "source": [
    "### Модель логистической регрессии с подбором гиперпараметров"
   ]
  },
  {
   "cell_type": "code",
   "execution_count": 45,
   "metadata": {},
   "outputs": [
    {
     "data": {
      "application/vnd.jupyter.widget-view+json": {
       "model_id": "df92cab54d1e489484f76d1d580b4634",
       "version_major": 2,
       "version_minor": 0
      },
      "text/plain": [
       "HBox(children=(FloatProgress(value=0.0, max=5.0), HTML(value='')))"
      ]
     },
     "metadata": {},
     "output_type": "display_data"
    },
    {
     "name": "stdout",
     "output_type": "stream",
     "text": [
      "\n",
      "F-1 наилучшей модели на валидационной выборке: 0.46309696092619396\n",
      "\n",
      "Подобранные гиперпараметры для данной модели:\n",
      "solver = saga\n",
      "\n",
      "CPU times: user 1.02 s, sys: 706 ms, total: 1.73 s\n",
      "Wall time: 1.75 s\n"
     ]
    }
   ],
   "source": [
    "%%time\n",
    "best_model_log_reg = None\n",
    "best_result = 0\n",
    "solver = None\n",
    "\n",
    "for solv in tqdm({'newton-cg', 'lbfgs', 'liblinear', 'sag', 'saga'}):\n",
    "        model_log_reg = LogisticRegression(\n",
    "            random_state=12345, solver=solv\n",
    "        ) \n",
    "        model_log_reg.fit(features_upsampled, target_upsampled) \n",
    "        predicted_valid = model_log_reg.predict(features_valid)\n",
    "        result = f1_score(target_valid, predicted_valid)\n",
    "        if result > best_result:\n",
    "            best_model_log_reg = model_log_reg\n",
    "            best_result = result\n",
    "            solver = solv\n",
    "                \n",
    "print('F-1 наилучшей модели на валидационной выборке:', best_result)\n",
    "print()\n",
    "print('Подобранные гиперпараметры для данной модели:')\n",
    "print('solver =', solver)\n",
    "print()"
   ]
  },
  {
   "cell_type": "markdown",
   "metadata": {},
   "source": [
    "Метрика F-1 для модели Логистической Регресси на валидационной выборке уступает по значению метрике Случайного Леса на 0,13 процентных пункта."
   ]
  },
  {
   "cell_type": "markdown",
   "metadata": {},
   "source": [
    "### Модель решающего дерева с подбором гиперпараметров"
   ]
  },
  {
   "cell_type": "code",
   "execution_count": 49,
   "metadata": {},
   "outputs": [
    {
     "data": {
      "application/vnd.jupyter.widget-view+json": {
       "model_id": "af957e676c67498486621e3518d789b8",
       "version_major": 2,
       "version_minor": 0
      },
      "text/plain": [
       "HBox(children=(FloatProgress(value=0.0, max=39.0), HTML(value='')))"
      ]
     },
     "metadata": {},
     "output_type": "display_data"
    },
    {
     "name": "stdout",
     "output_type": "stream",
     "text": [
      "\n",
      "F-1 наилучшей модели Решающего Дерева на валидационной выборке: 0.5973684210526317\n",
      "\n",
      "Подобранные гиперпараметры для данной модели:\n",
      "max_depth = 9\n",
      "criterion = entropy\n",
      "splitter = random\n",
      "\n",
      "CPU times: user 4.72 s, sys: 48.4 ms, total: 4.77 s\n",
      "Wall time: 5.1 s\n"
     ]
    }
   ],
   "source": [
    "%%time\n",
    "best_model_tree = None\n",
    "best_result = 0\n",
    "max_depth = 0\n",
    "criterion = None\n",
    "splitter = None\n",
    "\n",
    "for depth in tqdm(range(1, 40)):\n",
    "    for crtrion in {'gini', 'entropy'}:\n",
    "        for splt in {'best', 'random'}:\n",
    "            model_tree = DecisionTreeClassifier(random_state=12345, max_depth=depth, criterion=crtrion, splitter=splt) \n",
    "            model_tree.fit(features_upsampled, target_upsampled)\n",
    "            predicted_valid = model_tree.predict(features_valid)            \n",
    "            result = f1_score(target_valid, predicted_valid)\n",
    "            if result > best_result:\n",
    "                best_model_tree = model_tree\n",
    "                best_result = result\n",
    "                max_depth = depth\n",
    "                criterion = crtrion\n",
    "                splitter = splt\n",
    "                \n",
    "print('F-1 наилучшей модели Решающего Дерева на валидационной выборке:', best_result)\n",
    "print()\n",
    "print('Подобранные гиперпараметры для данной модели:')\n",
    "print('max_depth =', max_depth)\n",
    "print('criterion =', criterion)\n",
    "print('splitter =', splitter)\n",
    "print()"
   ]
  },
  {
   "cell_type": "markdown",
   "metadata": {},
   "source": [
    "Метрика F-1 модели Решающего Дерева на валидационной незначительно выигрывает по значению метрике Случайного Леса на 0,001 процентных пункта."
   ]
  },
  {
   "cell_type": "markdown",
   "metadata": {},
   "source": [
    "## Финальное тестирование наилучшей модели"
   ]
  },
  {
   "cell_type": "markdown",
   "metadata": {},
   "source": [
    "Проведем финальное тестирование на двух моделях показавших себя наилучшим образом."
   ]
  },
  {
   "cell_type": "markdown",
   "metadata": {},
   "source": [
    "### Модель Случайного Леса"
   ]
  },
  {
   "cell_type": "code",
   "execution_count": 44,
   "metadata": {},
   "outputs": [
    {
     "data": {
      "image/png": "[encoded data removed]",
      "text/plain": [
       "<Figure size 432x432 with 1 Axes>"
      ]
     },
     "metadata": {
      "needs_background": "light"
     },
     "output_type": "display_data"
    },
    {
     "name": "stdout",
     "output_type": "stream",
     "text": [
      "Значение ROC-AUC: 0.8489679157254089\n",
      "Значение Precision: 0.7\n",
      "Значение Recall: 0.5384615384615384\n",
      "F-1 мера: 0.608695652173913\n"
     ]
    }
   ],
   "source": [
    "model_forest = RandomForestClassifier(criterion='gini', max_depth=18, n_estimators=45, random_state=12345)\n",
    "model_forest.fit(features_upsampled, target_upsampled)\n",
    "predicted_test = model_forest.predict(features_test)\n",
    "\n",
    "probabilities_test = model_forest.predict_proba(features_test) \n",
    "probabilities_one_test = probabilities_test[:, 1]\n",
    "\n",
    "fpr, tpr, thresholds = roc_curve(target_test, probabilities_one_test) \n",
    "\n",
    "plt.figure(figsize=(6,6))\n",
    "\n",
    "plt.plot(fpr, tpr)\n",
    "\n",
    "# ROC-кривая случайной модели (выглядит как прямая)\n",
    "plt.plot([0, 1], [0, 1], linestyle='--')\n",
    "plt.xlim(0, 1)                                        \n",
    "plt.ylim(0, 1)\n",
    "plt.xlabel(\"False Positive Rate\")\n",
    "plt.ylabel(\"True Positive Rate\")\n",
    "plt.title(\"ROC-кривая\")\n",
    "plt.show()\n",
    "\n",
    "print('Значение ROC-AUC:', roc_auc_score(target_test, probabilities_one_test))\n",
    "print('Значение Precision:', precision_score(target_test, predicted_test))\n",
    "print('Значение Recall:', recall_score(target_test, predicted_test))\n",
    "print('F-1 мера:', f1_score(target_test, predicted_test))"
   ]
  },
  {
   "cell_type": "markdown",
   "metadata": {},
   "source": [
    "### Модель Решающего Дерева"
   ]
  },
  {
   "cell_type": "code",
   "execution_count": 55,
   "metadata": {},
   "outputs": [
    {
     "data": {
      "image/png": "[encoded data removed]",
      "text/plain": [
       "<Figure size 432x432 with 1 Axes>"
      ]
     },
     "metadata": {
      "needs_background": "light"
     },
     "output_type": "display_data"
    },
    {
     "name": "stdout",
     "output_type": "stream",
     "text": [
      "Значение ROC-AUC: 0.7999875792791322\n",
      "Значение Precision: 0.5452054794520548\n",
      "Значение Recall: 0.5669515669515669\n",
      "F-1 мера: 0.5558659217877094\n"
     ]
    }
   ],
   "source": [
    "predicted_test = best_model_tree.predict(features_test)\n",
    "\n",
    "probabilities_test = best_model_tree.predict_proba(features_test) \n",
    "probabilities_one_test = probabilities_test[:, 1]\n",
    "\n",
    "fpr, tpr, thresholds = roc_curve(target_test, probabilities_one_test) \n",
    "\n",
    "plt.figure(figsize=(6,6))\n",
    "\n",
    "plt.plot(fpr, tpr)\n",
    "\n",
    "# ROC-кривая случайной модели (выглядит как прямая)\n",
    "plt.plot([0, 1], [0, 1], linestyle='--')\n",
    "plt.xlim(0, 1)                                        \n",
    "plt.ylim(0, 1)\n",
    "plt.xlabel(\"False Positive Rate\")\n",
    "plt.ylabel(\"True Positive Rate\")\n",
    "plt.title(\"ROC-кривая\")\n",
    "plt.show()\n",
    "\n",
    "print('Значение ROC-AUC:', roc_auc_score(target_test, probabilities_one_test))\n",
    "print('Значение Precision:', precision_score(target_test, predicted_test))\n",
    "print('Значение Recall:', recall_score(target_test, predicted_test))\n",
    "print('F-1 мера:', f1_score(target_test, predicted_test))"
   ]
  },
  {
   "cell_type": "markdown",
   "metadata": {},
   "source": [
    "### Вывод"
   ]
  },
  {
   "cell_type": "markdown",
   "metadata": {},
   "source": [
    "**Вывод:** Наилучшие результаты показала модель Случайного Леса с гиперпараметрами `criterion='gini', max_depth=18, n_estimators=45`. На тестовой выборке результат **F-1** меры равен **0,6087**.\n",
    "\n",
    "-------------------------------------------------------------------------------------------------------------------------\n",
    "\n",
    "Значение `ROC-AUC` равное 0,8489 показывает, что выбранная модель существенно превосходит случайную (0,5) по соотношению правильных предсказаний первого класса к количеству ошибок.\n",
    "\n",
    "Значение `Precision` равное 0,7 говорит о том, что модель правильно определяет первый класс в 70% случаев.\n",
    "\n",
    "Значение `Recall` равное 0,5384 сигнализирует о том, что модель предсказывает/\"находит\"  54% значений первого класса из всего первого класса."
   ]
  }
 ],
 "metadata": {
  "kernelspec": {
   "display_name": "Python 3",
   "language": "python",
   "name": "python3"
  },
  "language_info": {
   "codemirror_mode": {
    "name": "ipython",
    "version": 3
   },
   "file_extension": ".py",
   "mimetype": "text/x-python",
   "name": "python",
   "nbconvert_exporter": "python",
   "pygments_lexer": "ipython3",
   "version": "3.8.5"
  },
  "toc": {
   "base_numbering": 1,
   "nav_menu": {},
   "number_sections": true,
   "sideBar": true,
   "skip_h1_title": true,
   "title_cell": "Содержание",
   "title_sidebar": "Contents",
   "toc_cell": true,
   "toc_position": {},
   "toc_section_display": true,
   "toc_window_display": false
  }
 },
 "nbformat": 4,
 "nbformat_minor": 2
}
