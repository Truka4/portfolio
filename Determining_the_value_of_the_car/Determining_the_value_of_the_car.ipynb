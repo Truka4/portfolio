{
 "cells": [
  {
   "cell_type": "markdown",
   "metadata": {},
   "source": [
    "# Определение стоимости автомобиля"
   ]
  },
  {
   "cell_type": "markdown",
   "metadata": {},
   "source": [
    "Для сервиса по продаже автомобилей необходимо создать модель предсказания рыночной цены, чтобы клиенты сервиса могли самостоятельно определять стоимость своего автомобиля в приложении."
   ]
  },
  {
   "cell_type": "markdown",
   "metadata": {},
   "source": [
    "Заказчику важны:\n",
    "\n",
    "- качество предсказания;\n",
    "- скорость предсказания;\n",
    "- время обучения."
   ]
  },
  {
   "cell_type": "markdown",
   "metadata": {},
   "source": [
    "Признаки:\n",
    "- DateCrawled — дата скачивания анкеты из базы;\n",
    "- VehicleType — тип автомобильного кузова;\n",
    "- RegistrationYear — год регистрации автомобиля;\n",
    "- Gearbox — тип коробки передач;\n",
    "- Power — мощность (л. с.);\n",
    "- Model — модель автомобиля;\n",
    "- Kilometer — пробег (км);\n",
    "- RegistrationMonth — месяц регистрации автомобиля;\n",
    "- FuelType — тип топлива;\n",
    "- Brand — марка автомобиля;\n",
    "- NotRepaired — была машина в ремонте или нет;\n",
    "- DateCreated — дата создания анкеты;\n",
    "- NumberOfPictures — количество фотографий автомобиля;\n",
    "- PostalCode — почтовый индекс владельца анкеты (пользователя);\n",
    "- LastSeen — дата последней активности пользователя.\n",
    "\n",
    "Целевой признак:\n",
    "- Price — цена (евро)."
   ]
  },
  {
   "cell_type": "markdown",
   "metadata": {
    "toc": true
   },
   "source": [
    "<h1>Оглавление<span class=\"tocSkip\"></span></h1>\n",
    "<div class=\"toc\"><ul class=\"toc-item\"><li><span><a href=\"#Подготовка-данных\" data-toc-modified-id=\"Подготовка-данных-1\"><span class=\"toc-item-num\">1&nbsp;&nbsp;</span>Подготовка данных</a></span></li><li><span><a href=\"#Обучение-моделей\" data-toc-modified-id=\"Обучение-моделей-2\"><span class=\"toc-item-num\">2&nbsp;&nbsp;</span>Обучение моделей</a></span><ul class=\"toc-item\"><li><span><a href=\"#Модель-Случайного-Леса-Регрессии\" data-toc-modified-id=\"Модель-Случайного-Леса-Регрессии-2.1\"><span class=\"toc-item-num\">2.1&nbsp;&nbsp;</span>Модель Случайного Леса Регрессии</a></span></li><li><span><a href=\"#Модели-градиентного-бустинга\" data-toc-modified-id=\"Модели-градиентного-бустинга-2.2\"><span class=\"toc-item-num\">2.2&nbsp;&nbsp;</span>Модели градиентного бустинга</a></span><ul class=\"toc-item\"><li><span><a href=\"#LightGBM\" data-toc-modified-id=\"LightGBM-2.2.1\"><span class=\"toc-item-num\">2.2.1&nbsp;&nbsp;</span>LightGBM</a></span></li><li><span><a href=\"#CatBoost\" data-toc-modified-id=\"CatBoost-2.2.2\"><span class=\"toc-item-num\">2.2.2&nbsp;&nbsp;</span>CatBoost</a></span></li><li><span><a href=\"#Используем-функционал-работы-с-категориальными-признаками--у-моделей-Catboost-и-lightGBM\" data-toc-modified-id=\"Используем-функционал-работы-с-категориальными-признаками--у-моделей-Catboost-и-lightGBM-2.2.3\"><span class=\"toc-item-num\">2.2.3&nbsp;&nbsp;</span>Используем функционал работы с категориальными признаками  у моделей Catboost и lightGBM</a></span><ul class=\"toc-item\"><li><span><a href=\"#Модель-LightGBM-с-категориальными-признаками\" data-toc-modified-id=\"Модель-LightGBM-с-категориальными-признаками-2.2.3.1\"><span class=\"toc-item-num\">2.2.3.1&nbsp;&nbsp;</span>Модель LightGBM с категориальными признаками</a></span></li><li><span><a href=\"#Модель-CatBoost-с-категориальными-признаками\" data-toc-modified-id=\"Модель-CatBoost-с-категориальными-признаками-2.2.3.2\"><span class=\"toc-item-num\">2.2.3.2&nbsp;&nbsp;</span>Модель CatBoost с категориальными признаками</a></span></li></ul></li></ul></li></ul></li><li><span><a href=\"#Анализ-моделей\" data-toc-modified-id=\"Анализ-моделей-3\"><span class=\"toc-item-num\">3&nbsp;&nbsp;</span>Анализ моделей</a></span><ul class=\"toc-item\"><li><span><a href=\"#Модель-случайного-леса\" data-toc-modified-id=\"Модель-случайного-леса-3.1\"><span class=\"toc-item-num\">3.1&nbsp;&nbsp;</span>Модель случайного леса</a></span></li><li><span><a href=\"#Модель-LightGBM\" data-toc-modified-id=\"Модель-LightGBM-3.2\"><span class=\"toc-item-num\">3.2&nbsp;&nbsp;</span>Модель LightGBM</a></span></li><li><span><a href=\"#Модель-CatBoost\" data-toc-modified-id=\"Модель-CatBoost-3.3\"><span class=\"toc-item-num\">3.3&nbsp;&nbsp;</span>Модель CatBoost</a></span></li></ul></li><li><span><a href=\"#Вывод\" data-toc-modified-id=\"Вывод-4\"><span class=\"toc-item-num\">4&nbsp;&nbsp;</span>Вывод</a></span></li></ul></div>"
   ]
  },
  {
   "cell_type": "markdown",
   "metadata": {},
   "source": [
    "## Подготовка данных"
   ]
  },
  {
   "cell_type": "code",
   "execution_count": 1,
   "metadata": {},
   "outputs": [],
   "source": [
    "import pandas as pd\n",
    "\n",
    "from sklearn.metrics import mean_squared_error\n",
    "from sklearn.model_selection import train_test_split\n",
    "from sklearn.ensemble import RandomForestRegressor\n",
    "from tqdm.notebook import tqdm\n",
    "import time\n",
    "\n",
    "#import xgboost as xgb\n",
    "import lightgbm as lgb\n",
    "from lightgbm import LGBMRegressor\n",
    "from catboost import CatBoostRegressor"
   ]
  },
  {
   "cell_type": "code",
   "execution_count": 2,
   "metadata": {},
   "outputs": [],
   "source": [
    "path = 'C:/users/v_kly'"
   ]
  },
  {
   "cell_type": "code",
   "execution_count": 3,
   "metadata": {},
   "outputs": [],
   "source": [
    "df = pd.read_csv(path + '/datasets/autos.csv')"
   ]
  },
  {
   "cell_type": "code",
   "execution_count": 4,
   "metadata": {
    "scrolled": true
   },
   "outputs": [
    {
     "data": {
      "text/html": [
       "<div>\n",
       "<style scoped>\n",
       "    .dataframe tbody tr th:only-of-type {\n",
       "        vertical-align: middle;\n",
       "    }\n",
       "\n",
       "    .dataframe tbody tr th {\n",
       "        vertical-align: top;\n",
       "    }\n",
       "\n",
       "    .dataframe thead th {\n",
       "        text-align: right;\n",
       "    }\n",
       "</style>\n",
       "<table border=\"1\" class=\"dataframe\">\n",
       "  <thead>\n",
       "    <tr style=\"text-align: right;\">\n",
       "      <th></th>\n",
       "      <th>DateCrawled</th>\n",
       "      <th>Price</th>\n",
       "      <th>VehicleType</th>\n",
       "      <th>RegistrationYear</th>\n",
       "      <th>Gearbox</th>\n",
       "      <th>Power</th>\n",
       "      <th>Model</th>\n",
       "      <th>Kilometer</th>\n",
       "      <th>RegistrationMonth</th>\n",
       "      <th>FuelType</th>\n",
       "      <th>Brand</th>\n",
       "      <th>NotRepaired</th>\n",
       "      <th>DateCreated</th>\n",
       "      <th>NumberOfPictures</th>\n",
       "      <th>PostalCode</th>\n",
       "      <th>LastSeen</th>\n",
       "    </tr>\n",
       "  </thead>\n",
       "  <tbody>\n",
       "    <tr>\n",
       "      <th>0</th>\n",
       "      <td>2016-03-24 11:52:17</td>\n",
       "      <td>480</td>\n",
       "      <td>NaN</td>\n",
       "      <td>1993</td>\n",
       "      <td>manual</td>\n",
       "      <td>0</td>\n",
       "      <td>golf</td>\n",
       "      <td>150000</td>\n",
       "      <td>0</td>\n",
       "      <td>petrol</td>\n",
       "      <td>volkswagen</td>\n",
       "      <td>NaN</td>\n",
       "      <td>2016-03-24 00:00:00</td>\n",
       "      <td>0</td>\n",
       "      <td>70435</td>\n",
       "      <td>2016-04-07 03:16:57</td>\n",
       "    </tr>\n",
       "    <tr>\n",
       "      <th>1</th>\n",
       "      <td>2016-03-24 10:58:45</td>\n",
       "      <td>18300</td>\n",
       "      <td>coupe</td>\n",
       "      <td>2011</td>\n",
       "      <td>manual</td>\n",
       "      <td>190</td>\n",
       "      <td>NaN</td>\n",
       "      <td>125000</td>\n",
       "      <td>5</td>\n",
       "      <td>gasoline</td>\n",
       "      <td>audi</td>\n",
       "      <td>yes</td>\n",
       "      <td>2016-03-24 00:00:00</td>\n",
       "      <td>0</td>\n",
       "      <td>66954</td>\n",
       "      <td>2016-04-07 01:46:50</td>\n",
       "    </tr>\n",
       "    <tr>\n",
       "      <th>2</th>\n",
       "      <td>2016-03-14 12:52:21</td>\n",
       "      <td>9800</td>\n",
       "      <td>suv</td>\n",
       "      <td>2004</td>\n",
       "      <td>auto</td>\n",
       "      <td>163</td>\n",
       "      <td>grand</td>\n",
       "      <td>125000</td>\n",
       "      <td>8</td>\n",
       "      <td>gasoline</td>\n",
       "      <td>jeep</td>\n",
       "      <td>NaN</td>\n",
       "      <td>2016-03-14 00:00:00</td>\n",
       "      <td>0</td>\n",
       "      <td>90480</td>\n",
       "      <td>2016-04-05 12:47:46</td>\n",
       "    </tr>\n",
       "    <tr>\n",
       "      <th>3</th>\n",
       "      <td>2016-03-17 16:54:04</td>\n",
       "      <td>1500</td>\n",
       "      <td>small</td>\n",
       "      <td>2001</td>\n",
       "      <td>manual</td>\n",
       "      <td>75</td>\n",
       "      <td>golf</td>\n",
       "      <td>150000</td>\n",
       "      <td>6</td>\n",
       "      <td>petrol</td>\n",
       "      <td>volkswagen</td>\n",
       "      <td>no</td>\n",
       "      <td>2016-03-17 00:00:00</td>\n",
       "      <td>0</td>\n",
       "      <td>91074</td>\n",
       "      <td>2016-03-17 17:40:17</td>\n",
       "    </tr>\n",
       "    <tr>\n",
       "      <th>4</th>\n",
       "      <td>2016-03-31 17:25:20</td>\n",
       "      <td>3600</td>\n",
       "      <td>small</td>\n",
       "      <td>2008</td>\n",
       "      <td>manual</td>\n",
       "      <td>69</td>\n",
       "      <td>fabia</td>\n",
       "      <td>90000</td>\n",
       "      <td>7</td>\n",
       "      <td>gasoline</td>\n",
       "      <td>skoda</td>\n",
       "      <td>no</td>\n",
       "      <td>2016-03-31 00:00:00</td>\n",
       "      <td>0</td>\n",
       "      <td>60437</td>\n",
       "      <td>2016-04-06 10:17:21</td>\n",
       "    </tr>\n",
       "  </tbody>\n",
       "</table>\n",
       "</div>"
      ],
      "text/plain": [
       "           DateCrawled  Price VehicleType  RegistrationYear Gearbox  Power  \\\n",
       "0  2016-03-24 11:52:17    480         NaN              1993  manual      0   \n",
       "1  2016-03-24 10:58:45  18300       coupe              2011  manual    190   \n",
       "2  2016-03-14 12:52:21   9800         suv              2004    auto    163   \n",
       "3  2016-03-17 16:54:04   1500       small              2001  manual     75   \n",
       "4  2016-03-31 17:25:20   3600       small              2008  manual     69   \n",
       "\n",
       "   Model  Kilometer  RegistrationMonth  FuelType       Brand NotRepaired  \\\n",
       "0   golf     150000                  0    petrol  volkswagen         NaN   \n",
       "1    NaN     125000                  5  gasoline        audi         yes   \n",
       "2  grand     125000                  8  gasoline        jeep         NaN   \n",
       "3   golf     150000                  6    petrol  volkswagen          no   \n",
       "4  fabia      90000                  7  gasoline       skoda          no   \n",
       "\n",
       "           DateCreated  NumberOfPictures  PostalCode             LastSeen  \n",
       "0  2016-03-24 00:00:00                 0       70435  2016-04-07 03:16:57  \n",
       "1  2016-03-24 00:00:00                 0       66954  2016-04-07 01:46:50  \n",
       "2  2016-03-14 00:00:00                 0       90480  2016-04-05 12:47:46  \n",
       "3  2016-03-17 00:00:00                 0       91074  2016-03-17 17:40:17  \n",
       "4  2016-03-31 00:00:00                 0       60437  2016-04-06 10:17:21  "
      ]
     },
     "execution_count": 4,
     "metadata": {},
     "output_type": "execute_result"
    }
   ],
   "source": [
    "df.head()"
   ]
  },
  {
   "cell_type": "code",
   "execution_count": 5,
   "metadata": {
    "scrolled": false
   },
   "outputs": [
    {
     "name": "stdout",
     "output_type": "stream",
     "text": [
      "<class 'pandas.core.frame.DataFrame'>\n",
      "RangeIndex: 354369 entries, 0 to 354368\n",
      "Data columns (total 16 columns):\n",
      " #   Column             Non-Null Count   Dtype \n",
      "---  ------             --------------   ----- \n",
      " 0   DateCrawled        354369 non-null  object\n",
      " 1   Price              354369 non-null  int64 \n",
      " 2   VehicleType        316879 non-null  object\n",
      " 3   RegistrationYear   354369 non-null  int64 \n",
      " 4   Gearbox            334536 non-null  object\n",
      " 5   Power              354369 non-null  int64 \n",
      " 6   Model              334664 non-null  object\n",
      " 7   Kilometer          354369 non-null  int64 \n",
      " 8   RegistrationMonth  354369 non-null  int64 \n",
      " 9   FuelType           321474 non-null  object\n",
      " 10  Brand              354369 non-null  object\n",
      " 11  NotRepaired        283215 non-null  object\n",
      " 12  DateCreated        354369 non-null  object\n",
      " 13  NumberOfPictures   354369 non-null  int64 \n",
      " 14  PostalCode         354369 non-null  int64 \n",
      " 15  LastSeen           354369 non-null  object\n",
      "dtypes: int64(7), object(9)\n",
      "memory usage: 43.3+ MB\n"
     ]
    }
   ],
   "source": [
    "df.info()"
   ]
  },
  {
   "cell_type": "markdown",
   "metadata": {},
   "source": [
    "По целевому значению пропусков нет, но необходимо проверить есть ли нулевые значения, которые будут вносить шумы в обучение модели."
   ]
  },
  {
   "cell_type": "code",
   "execution_count": 6,
   "metadata": {
    "scrolled": true
   },
   "outputs": [
    {
     "data": {
      "text/plain": [
       "0.030397692800442477"
      ]
     },
     "execution_count": 6,
     "metadata": {},
     "output_type": "execute_result"
    }
   ],
   "source": [
    "len(df['Price'].loc[df['Price'] == 0]) / len(df)"
   ]
  },
  {
   "cell_type": "markdown",
   "metadata": {},
   "source": [
    "Таких строк оказалось 3%, можем смело от них избавиться."
   ]
  },
  {
   "cell_type": "code",
   "execution_count": 7,
   "metadata": {},
   "outputs": [],
   "source": [
    "df = df.loc[df['Price'] != 0]"
   ]
  },
  {
   "cell_type": "code",
   "execution_count": 8,
   "metadata": {},
   "outputs": [],
   "source": [
    "fetures_col = ['VehicleType', 'RegistrationYear', 'Gearbox',\n",
    "       'Power', 'Model', 'Kilometer', 'RegistrationMonth', 'FuelType', 'Brand',\n",
    "       'NotRepaired']"
   ]
  },
  {
   "cell_type": "markdown",
   "metadata": {},
   "source": [
    "**Обработаем пропуски**"
   ]
  },
  {
   "cell_type": "code",
   "execution_count": 9,
   "metadata": {},
   "outputs": [
    {
     "data": {
      "text/plain": [
       "(343597, 16)"
      ]
     },
     "execution_count": 9,
     "metadata": {},
     "output_type": "execute_result"
    }
   ],
   "source": [
    "df.shape"
   ]
  },
  {
   "cell_type": "code",
   "execution_count": 10,
   "metadata": {},
   "outputs": [
    {
     "data": {
      "text/plain": [
       "VehicleType          0.098226\n",
       "RegistrationYear     0.000000\n",
       "Gearbox              0.050510\n",
       "Power                0.000000\n",
       "Model                0.050993\n",
       "Kilometer            0.000000\n",
       "RegistrationMonth    0.000000\n",
       "FuelType             0.085737\n",
       "Brand                0.000000\n",
       "NotRepaired          0.191696\n",
       "dtype: float64"
      ]
     },
     "execution_count": 10,
     "metadata": {},
     "output_type": "execute_result"
    }
   ],
   "source": [
    "df[fetures_col].isnull().mean()"
   ]
  },
  {
   "cell_type": "markdown",
   "metadata": {},
   "source": [
    "Видно, что в признаки `NotRepaired` (была машина в ремонте или нет) почти 20% пропущенных значений. В данном случае, такое большое количество пропусков может быть связано с тем, что при такой постановке вопроса, для машин которые не были в ремонте данная графа просто не заполнялась. Таким образом логично будет заполнить пропуски значением `no`."
   ]
  },
  {
   "cell_type": "code",
   "execution_count": 11,
   "metadata": {},
   "outputs": [],
   "source": [
    "df.NotRepaired.fillna('no', inplace=True)"
   ]
  },
  {
   "cell_type": "markdown",
   "metadata": {},
   "source": [
    "Остальные пропуски в четырех признаках имеют не большое процентное отношение к выборке, избавимся от них, так как общий размер выборки достаточно большой, а без пропусков работа моделей будет чище."
   ]
  },
  {
   "cell_type": "code",
   "execution_count": 12,
   "metadata": {},
   "outputs": [],
   "source": [
    "df = df.dropna(axis=0)"
   ]
  },
  {
   "cell_type": "code",
   "execution_count": 13,
   "metadata": {},
   "outputs": [
    {
     "data": {
      "text/plain": [
       "(279085, 10)"
      ]
     },
     "execution_count": 13,
     "metadata": {},
     "output_type": "execute_result"
    }
   ],
   "source": [
    "df[fetures_col].shape"
   ]
  },
  {
   "cell_type": "code",
   "execution_count": 14,
   "metadata": {},
   "outputs": [
    {
     "data": {
      "text/plain": [
       "0.18775484070000614"
      ]
     },
     "execution_count": 14,
     "metadata": {},
     "output_type": "execute_result"
    }
   ],
   "source": [
    "1 - 279085/343597"
   ]
  },
  {
   "cell_type": "markdown",
   "metadata": {},
   "source": [
    "После удаления всех строк с пропусками, мы потеряли чуть менее 19% выборки, оставшее количество объектов 279 085 строк."
   ]
  },
  {
   "cell_type": "markdown",
   "metadata": {},
   "source": [
    "Проверим итоговый результат."
   ]
  },
  {
   "cell_type": "code",
   "execution_count": 15,
   "metadata": {
    "scrolled": true
   },
   "outputs": [
    {
     "data": {
      "text/plain": [
       "VehicleType          0.0\n",
       "RegistrationYear     0.0\n",
       "Gearbox              0.0\n",
       "Power                0.0\n",
       "Model                0.0\n",
       "Kilometer            0.0\n",
       "RegistrationMonth    0.0\n",
       "FuelType             0.0\n",
       "Brand                0.0\n",
       "NotRepaired          0.0\n",
       "dtype: float64"
      ]
     },
     "execution_count": 15,
     "metadata": {},
     "output_type": "execute_result"
    }
   ],
   "source": [
    "df[fetures_col].isnull().mean()"
   ]
  },
  {
   "cell_type": "markdown",
   "metadata": {},
   "source": [
    "Пропуски отсутствуют."
   ]
  },
  {
   "cell_type": "markdown",
   "metadata": {},
   "source": [
    "**Поделим данные на тренировочную, валидационную и тестовую выборки**"
   ]
  },
  {
   "cell_type": "code",
   "execution_count": 16,
   "metadata": {},
   "outputs": [],
   "source": [
    "features = df[fetures_col]\n",
    "target = df['Price']"
   ]
  },
  {
   "cell_type": "markdown",
   "metadata": {},
   "source": [
    "Предварительно произведем кодирование категориальных признаков."
   ]
  },
  {
   "cell_type": "code",
   "execution_count": 17,
   "metadata": {},
   "outputs": [],
   "source": [
    "features = pd.get_dummies(features, drop_first=True) "
   ]
  },
  {
   "cell_type": "code",
   "execution_count": 18,
   "metadata": {},
   "outputs": [],
   "source": [
    "features_train, features_valid_test, target_train, target_valid_test = train_test_split(\n",
    "    features, target, test_size=0.4, random_state=12345)\n",
    "\n",
    "features_valid, features_test, target_valid, target_test = train_test_split(\n",
    "    features_valid_test, target_valid_test, test_size=0.5, random_state=12345)"
   ]
  },
  {
   "cell_type": "code",
   "execution_count": 19,
   "metadata": {},
   "outputs": [
    {
     "name": "stdout",
     "output_type": "stream",
     "text": [
      "(167451, 306) (167451,)\n",
      "(55817, 306) (55817,)\n",
      "(55817, 306) (55817,)\n"
     ]
    }
   ],
   "source": [
    "print(features_train.shape, target_train.shape)\n",
    "print(features_valid.shape, target_valid.shape)\n",
    "print(features_test.shape, target_test.shape)"
   ]
  },
  {
   "cell_type": "markdown",
   "metadata": {},
   "source": [
    "## Обучение моделей"
   ]
  },
  {
   "cell_type": "code",
   "execution_count": 20,
   "metadata": {},
   "outputs": [],
   "source": [
    "random_state = 42"
   ]
  },
  {
   "cell_type": "markdown",
   "metadata": {},
   "source": [
    "Посчитаем среднюю цену в выборке."
   ]
  },
  {
   "cell_type": "code",
   "execution_count": 21,
   "metadata": {},
   "outputs": [
    {
     "data": {
      "text/plain": [
       "4934.819721590196"
      ]
     },
     "execution_count": 21,
     "metadata": {},
     "output_type": "execute_result"
    }
   ],
   "source": [
    "df.Price.mean()"
   ]
  },
  {
   "cell_type": "markdown",
   "metadata": {},
   "source": [
    "### Модель Случайного Леса Регрессии"
   ]
  },
  {
   "cell_type": "markdown",
   "metadata": {},
   "source": [
    "Обучим модель RandomForestRegressor с параметрами по умолчанию и посчитаем контрольную метрику RMSE на валидационной выборке."
   ]
  },
  {
   "cell_type": "code",
   "execution_count": 22,
   "metadata": {
    "scrolled": true
   },
   "outputs": [
    {
     "name": "stdout",
     "output_type": "stream",
     "text": [
      "Wall time: 5min 36s\n"
     ]
    },
    {
     "data": {
      "text/plain": [
       "RandomForestRegressor(random_state=42)"
      ]
     },
     "execution_count": 22,
     "metadata": {},
     "output_type": "execute_result"
    }
   ],
   "source": [
    "%%time\n",
    "model_rfr_default = RandomForestRegressor(random_state=random_state)\n",
    "model_rfr_default.fit(features_train, target_train)"
   ]
  },
  {
   "cell_type": "code",
   "execution_count": 23,
   "metadata": {},
   "outputs": [],
   "source": [
    "predictions = model_rfr_default.predict(features_valid)"
   ]
  },
  {
   "cell_type": "code",
   "execution_count": 24,
   "metadata": {},
   "outputs": [],
   "source": [
    "rmse = mean_squared_error(target_valid, predictions)**0.5"
   ]
  },
  {
   "cell_type": "code",
   "execution_count": 25,
   "metadata": {
    "scrolled": false
   },
   "outputs": [
    {
     "name": "stdout",
     "output_type": "stream",
     "text": [
      "RMSE модели Случайного Леса: 1573.9717486406037\n"
     ]
    }
   ],
   "source": [
    "print('RMSE модели Случайного Леса:', rmse)"
   ]
  },
  {
   "cell_type": "markdown",
   "metadata": {},
   "source": [
    "**Подберем гиперпараметры и посчитаем изменение метрики.**"
   ]
  },
  {
   "cell_type": "code",
   "execution_count": 26,
   "metadata": {},
   "outputs": [],
   "source": [
    "# формирования списка моделей с разными гиперпараметрами\n",
    "def get_models_rfr():\n",
    "    models = []\n",
    "    for n in range(10, 100, 10):\n",
    "        for i in range(2, 20, 3):\n",
    "            models.append(RandomForestRegressor(n_estimators=n, max_depth = i))\n",
    "    return models"
   ]
  },
  {
   "cell_type": "code",
   "execution_count": 27,
   "metadata": {},
   "outputs": [
    {
     "data": {
      "text/plain": [
       "\"\\n%%time\\nmodels = get_models_rfr()\\nbest_model_rfr = []\\nbest_rmse = 10000\\nbest_total_time = 0\\nfor i in tqdm(models):\\n    startTime = time.time() \\n    i.fit(features_train, target_train)\\n    endTime = time.time()\\n    totalTime = endTime - startTime \\n    pred = i.predict(features_valid)\\n    rmse = mean_squared_error(target_valid, pred)**0.5\\n    if rmse < best_rmse:\\n        best_rmse = rmse\\n        best_model_rfr = i\\n        best_total_time = totalTime\\n        \\nprint('Время обучения лучшей модели:', round(best_total_time), 'сек.')\\nprint('RMSE модели', best_rmse)\\nprint('Лучшая модель:', best_model_rfr)\\n\""
      ]
     },
     "execution_count": 27,
     "metadata": {},
     "output_type": "execute_result"
    }
   ],
   "source": [
    "# wall time: 1h 7min 53s\n",
    "'''\n",
    "%%time\n",
    "models = get_models_rfr()\n",
    "best_model_rfr = []\n",
    "best_rmse = 10000\n",
    "best_total_time = 0\n",
    "for i in tqdm(models):\n",
    "    startTime = time.time() \n",
    "    i.fit(features_train, target_train)\n",
    "    endTime = time.time()\n",
    "    totalTime = endTime - startTime \n",
    "    pred = i.predict(features_valid)\n",
    "    rmse = mean_squared_error(target_valid, pred)**0.5\n",
    "    if rmse < best_rmse:\n",
    "        best_rmse = rmse\n",
    "        best_model_rfr = i\n",
    "        best_total_time = totalTime\n",
    "        \n",
    "print('Время обучения лучшей модели:', round(best_total_time), 'сек.')\n",
    "print('RMSE модели', best_rmse)\n",
    "print('Лучшая модель:', best_model_rfr)\n",
    "'''"
   ]
  },
  {
   "cell_type": "markdown",
   "metadata": {},
   "source": [
    "Итоги работы ячейки выше:\n",
    "\n",
    "Время обучения лучшей модели: 166 сек.\n",
    "\n",
    "RMSE модели 1641.8401792795123\n",
    "\n",
    "Лучшая модель: RandomForestRegressor(bootstrap=True, criterion='mse', max_depth=17,\n",
    "\n",
    "                      max_features='auto', max_leaf_nodes=None,\n",
    "                      min_impurity_decrease=0.0, min_impurity_split=None,\n",
    "                      min_samples_leaf=1, min_samples_split=2,\n",
    "                      min_weight_fraction_leaf=0.0, n_estimators=80,\n",
    "                      n_jobs=None, oob_score=False, random_state=None,\n",
    "                      verbose=0, warm_start=False)\n",
    "                      \n",
    "CPU times: user 1h 6min 44s, sys: 11.7 s, total: 1h 6min 55s\n",
    "\n",
    "Wall time: 1h 7min 53s"
   ]
  },
  {
   "cell_type": "code",
   "execution_count": 28,
   "metadata": {},
   "outputs": [],
   "source": [
    "# Наилучшую модель Случайного леса сохраним в ручную, чтобы избежать перезапуска коды выше.\n",
    "best_model_rfr = RandomForestRegressor(bootstrap=True, criterion='mse', max_depth=17,\n",
    "                      max_features='auto', max_leaf_nodes=None,\n",
    "                      min_impurity_decrease=0.0, min_impurity_split=None,\n",
    "                      min_samples_leaf=1, min_samples_split=2,\n",
    "                      min_weight_fraction_leaf=0.0, n_estimators=80,\n",
    "                      n_jobs=None, oob_score=False, random_state=None,\n",
    "                      verbose=0, warm_start=False)\n"
   ]
  },
  {
   "cell_type": "markdown",
   "metadata": {},
   "source": [
    "**Вывод:** Модель Случайного Леса Регрессии с подобраными гиперпараметрами обучилась за ``2 минуты 46 секунд``. Метрика RMSE равна `1641.84`"
   ]
  },
  {
   "cell_type": "markdown",
   "metadata": {},
   "source": [
    "### Модели градиентного бустинга"
   ]
  },
  {
   "cell_type": "markdown",
   "metadata": {},
   "source": [
    "####  LightGBM "
   ]
  },
  {
   "cell_type": "markdown",
   "metadata": {},
   "source": [
    "Обучим модель `LightGBM` с гиперпараметрами по умолчанию."
   ]
  },
  {
   "cell_type": "code",
   "execution_count": 29,
   "metadata": {},
   "outputs": [],
   "source": [
    "model_lgbm_default = LGBMRegressor()"
   ]
  },
  {
   "cell_type": "code",
   "execution_count": 30,
   "metadata": {},
   "outputs": [
    {
     "name": "stdout",
     "output_type": "stream",
     "text": [
      "Wall time: 1.14 s\n"
     ]
    },
    {
     "data": {
      "text/plain": [
       "LGBMRegressor()"
      ]
     },
     "execution_count": 30,
     "metadata": {},
     "output_type": "execute_result"
    }
   ],
   "source": [
    "%%time\n",
    "model_lgbm_default.fit(features_train, target_train)"
   ]
  },
  {
   "cell_type": "code",
   "execution_count": 31,
   "metadata": {},
   "outputs": [
    {
     "name": "stdout",
     "output_type": "stream",
     "text": [
      "Wall time: 254 ms\n"
     ]
    }
   ],
   "source": [
    "%%time\n",
    "predictions = model_lgbm_default.predict(features_valid)"
   ]
  },
  {
   "cell_type": "code",
   "execution_count": 32,
   "metadata": {
    "scrolled": true
   },
   "outputs": [
    {
     "name": "stdout",
     "output_type": "stream",
     "text": [
      "RMSE модели LightGBM: 1646.2189752279303\n"
     ]
    }
   ],
   "source": [
    "print('RMSE модели LightGBM:', mean_squared_error(target_valid, predictions)**0.5)"
   ]
  },
  {
   "cell_type": "markdown",
   "metadata": {},
   "source": [
    "Время обучения модели 1 минута 18 секунд. RMSE модели: 1760.8"
   ]
  },
  {
   "cell_type": "markdown",
   "metadata": {},
   "source": [
    "**Изменим количество используемых деревьев в модели.**"
   ]
  },
  {
   "cell_type": "markdown",
   "metadata": {},
   "source": [
    "Обучим четыре модели с 10, 50, 100 и 500 деревьями соответственно, и посмотрим как меняется метрика качества."
   ]
  },
  {
   "cell_type": "code",
   "execution_count": 33,
   "metadata": {},
   "outputs": [],
   "source": [
    "# формирования списка моделей с разными гиперпараметрами\n",
    "def get_models():\n",
    "    models = []\n",
    "    trees = [10, 50, 100, 500]\n",
    "    for n in trees:\n",
    "        models.append(LGBMRegressor(n_estimators=n))\n",
    "    return models"
   ]
  },
  {
   "cell_type": "code",
   "execution_count": 34,
   "metadata": {},
   "outputs": [
    {
     "data": {
      "application/vnd.jupyter.widget-view+json": {
       "model_id": "9302632d18224fb8bebb818051d05093",
       "version_major": 2,
       "version_minor": 0
      },
      "text/plain": [
       "HBox(children=(HTML(value=''), FloatProgress(value=0.0, max=4.0), HTML(value='')))"
      ]
     },
     "metadata": {},
     "output_type": "display_data"
    },
    {
     "name": "stdout",
     "output_type": "stream",
     "text": [
      "Время обучения модели: 1 сек.\n",
      "RMSE модели 2621.3507193507276\n",
      "\n",
      "Время обучения модели: 1 сек.\n",
      "RMSE модели 1737.0893824320453\n",
      "\n",
      "Время обучения модели: 1 сек.\n",
      "RMSE модели 1646.2189752279303\n",
      "\n",
      "Время обучения модели: 2 сек.\n",
      "RMSE модели 1532.3475695996954\n",
      "\n",
      "\n",
      "Wall time: 5.8 s\n"
     ]
    }
   ],
   "source": [
    "%%time\n",
    "models = get_models()\n",
    "for i in tqdm(models):\n",
    "    startTime = time.time() \n",
    "    i.fit(features_train, target_train)\n",
    "    endTime = time.time()\n",
    "    totalTime = endTime - startTime \n",
    "    pred = i.predict(features_valid)\n",
    "    rmse = mean_squared_error(target_valid, pred)**0.5\n",
    "    print('Время обучения модели:', round(totalTime), 'сек.')\n",
    "    print('RMSE модели', rmse)\n",
    "    print()"
   ]
  },
  {
   "cell_type": "markdown",
   "metadata": {},
   "source": [
    "Выше видим соотношение времени обучения модели и получившейся метрики качества RMSE."
   ]
  },
  {
   "cell_type": "markdown",
   "metadata": {},
   "source": [
    "#### CatBoost"
   ]
  },
  {
   "cell_type": "markdown",
   "metadata": {},
   "source": [
    "Обучим модель `CatBoost` с параметрами по умолчанию."
   ]
  },
  {
   "cell_type": "code",
   "execution_count": 35,
   "metadata": {},
   "outputs": [],
   "source": [
    "cat_default = CatBoostRegressor()"
   ]
  },
  {
   "cell_type": "code",
   "execution_count": 36,
   "metadata": {},
   "outputs": [
    {
     "name": "stdout",
     "output_type": "stream",
     "text": [
      "Learning rate set to 0.097108\n",
      "0:\tlearn: 4324.6365107\ttotal: 157ms\tremaining: 2m 36s\n",
      "100:\tlearn: 1777.7969933\ttotal: 1.6s\tremaining: 14.2s\n",
      "200:\tlearn: 1677.7913581\ttotal: 3s\tremaining: 11.9s\n",
      "300:\tlearn: 1628.6957680\ttotal: 4.38s\tremaining: 10.2s\n",
      "400:\tlearn: 1593.6725136\ttotal: 5.76s\tremaining: 8.61s\n",
      "500:\tlearn: 1568.9456971\ttotal: 7.15s\tremaining: 7.12s\n",
      "600:\tlearn: 1547.2997339\ttotal: 8.52s\tremaining: 5.66s\n",
      "700:\tlearn: 1529.2309581\ttotal: 9.92s\tremaining: 4.23s\n",
      "800:\tlearn: 1513.3887016\ttotal: 11.3s\tremaining: 2.81s\n",
      "900:\tlearn: 1500.5063880\ttotal: 12.7s\tremaining: 1.39s\n",
      "999:\tlearn: 1488.8924240\ttotal: 14s\tremaining: 0us\n",
      "Wall time: 14.7 s\n"
     ]
    },
    {
     "data": {
      "text/plain": [
       "<catboost.core.CatBoostRegressor at 0x1e2365d0760>"
      ]
     },
     "execution_count": 36,
     "metadata": {},
     "output_type": "execute_result"
    }
   ],
   "source": [
    "%%time\n",
    "cat_default.fit(features_train, target_train, verbose=100)"
   ]
  },
  {
   "cell_type": "code",
   "execution_count": 37,
   "metadata": {
    "scrolled": true
   },
   "outputs": [],
   "source": [
    "predictions = cat_default.predict(features_valid)"
   ]
  },
  {
   "cell_type": "code",
   "execution_count": 38,
   "metadata": {},
   "outputs": [],
   "source": [
    "rmse = mean_squared_error(target_valid, predictions)**0.5"
   ]
  },
  {
   "cell_type": "code",
   "execution_count": 39,
   "metadata": {},
   "outputs": [
    {
     "name": "stdout",
     "output_type": "stream",
     "text": [
      "RMSE модели 1549.9199949174842\n"
     ]
    }
   ],
   "source": [
    " print('RMSE модели', rmse)"
   ]
  },
  {
   "cell_type": "markdown",
   "metadata": {},
   "source": [
    "Время обучения модели 2 минуты. RMSE модели: 1759.95"
   ]
  },
  {
   "cell_type": "markdown",
   "metadata": {},
   "source": [
    "**Переберем несколько параметров для `CatBoost`**"
   ]
  },
  {
   "cell_type": "code",
   "execution_count": 40,
   "metadata": {},
   "outputs": [
    {
     "data": {
      "text/plain": [
       "\"\\n%%time\\ncat = CatBoostRegressor()\\ngrid = {'learning_rate': [0.03, 0.1],\\n        'depth': [4, 6]\\n        }\\n\\ngrid_search_result = cat.grid_search(grid, X=features_train, y=target_train)\\n\""
      ]
     },
     "execution_count": 40,
     "metadata": {},
     "output_type": "execute_result"
    }
   ],
   "source": [
    "'''\n",
    "%%time\n",
    "cat = CatBoostRegressor()\n",
    "grid = {'learning_rate': [0.03, 0.1],\n",
    "        'depth': [4, 6]\n",
    "        }\n",
    "\n",
    "grid_search_result = cat.grid_search(grid, X=features_train, y=target_train)\n",
    "'''"
   ]
  },
  {
   "cell_type": "markdown",
   "metadata": {},
   "source": [
    "Подбор параметров с обучением длился более 13 минут. \n",
    "\n",
    "Наилучшие подобранные параметры: `params': {'depth': 6, 'learning_rate': 0.1}`"
   ]
  },
  {
   "cell_type": "markdown",
   "metadata": {},
   "source": [
    "Обучим модель с подобранными гиперпараметрами и посчитаем RMSE"
   ]
  },
  {
   "cell_type": "code",
   "execution_count": 41,
   "metadata": {},
   "outputs": [],
   "source": [
    "cat_01_6 = CatBoostRegressor(learning_rate=0.1 , depth=6 )"
   ]
  },
  {
   "cell_type": "code",
   "execution_count": 42,
   "metadata": {},
   "outputs": [
    {
     "name": "stdout",
     "output_type": "stream",
     "text": [
      "0:\tlearn: 4315.5882965\ttotal: 16.2ms\tremaining: 16.2s\n",
      "100:\tlearn: 1775.3725093\ttotal: 1.45s\tremaining: 12.9s\n",
      "200:\tlearn: 1675.6836506\ttotal: 2.84s\tremaining: 11.3s\n",
      "300:\tlearn: 1624.5980018\ttotal: 4.22s\tremaining: 9.8s\n",
      "400:\tlearn: 1590.7623421\ttotal: 5.58s\tremaining: 8.34s\n",
      "500:\tlearn: 1563.8366346\ttotal: 6.96s\tremaining: 6.93s\n",
      "600:\tlearn: 1542.7349389\ttotal: 8.35s\tremaining: 5.54s\n",
      "700:\tlearn: 1525.6108606\ttotal: 9.71s\tremaining: 4.14s\n",
      "800:\tlearn: 1510.9165023\ttotal: 11.1s\tremaining: 2.75s\n",
      "900:\tlearn: 1497.8231532\ttotal: 12.5s\tremaining: 1.37s\n",
      "999:\tlearn: 1485.7938096\ttotal: 13.8s\tremaining: 0us\n",
      "Wall time: 14.7 s\n"
     ]
    },
    {
     "data": {
      "text/plain": [
       "<catboost.core.CatBoostRegressor at 0x1e20674f220>"
      ]
     },
     "execution_count": 42,
     "metadata": {},
     "output_type": "execute_result"
    }
   ],
   "source": [
    "%%time\n",
    "cat_01_6.fit(features_train, target_train, verbose=100)"
   ]
  },
  {
   "cell_type": "code",
   "execution_count": 43,
   "metadata": {},
   "outputs": [],
   "source": [
    "predictions = cat_01_6.predict(features_valid)"
   ]
  },
  {
   "cell_type": "code",
   "execution_count": 44,
   "metadata": {},
   "outputs": [],
   "source": [
    "rmse = mean_squared_error(target_valid, predictions)**0.5"
   ]
  },
  {
   "cell_type": "code",
   "execution_count": 45,
   "metadata": {},
   "outputs": [
    {
     "name": "stdout",
     "output_type": "stream",
     "text": [
      "RMSE модели 1549.398561305265\n"
     ]
    }
   ],
   "source": [
    "print('RMSE модели', rmse)"
   ]
  },
  {
   "cell_type": "markdown",
   "metadata": {},
   "source": [
    "Модель обучалась 1 минуту 56 секунд. \n",
    "\n",
    "RMSE модели: 1670.05"
   ]
  },
  {
   "cell_type": "markdown",
   "metadata": {},
   "source": [
    "**Вывод:** Были обучены несколько моделей разного типа с подбором гиперпараметров. Удалось получить результаты по скорости обучения и значению метрики RMSE. На следующем этапе проведем окончательные испытания на тестовой выборке и проведем анализ работы моделей с учетом целевой метрики."
   ]
  },
  {
   "cell_type": "markdown",
   "metadata": {},
   "source": [
    "#### Используем функционал работы с категориальными признаками  у моделей Catboost и lightGBM"
   ]
  },
  {
   "cell_type": "markdown",
   "metadata": {},
   "source": [
    "Возьмем исходные данные после предобработки, но до кодирования."
   ]
  },
  {
   "cell_type": "code",
   "execution_count": 46,
   "metadata": {
    "scrolled": false
   },
   "outputs": [],
   "source": [
    "fetures_not_encoded = df[fetures_col]"
   ]
  },
  {
   "cell_type": "markdown",
   "metadata": {},
   "source": [
    "Выделяем категориальный признаки."
   ]
  },
  {
   "cell_type": "code",
   "execution_count": 47,
   "metadata": {},
   "outputs": [],
   "source": [
    "category = ['VehicleType', 'Gearbox', 'Model', 'FuelType', 'Brand', 'NotRepaired']"
   ]
  },
  {
   "cell_type": "markdown",
   "metadata": {},
   "source": [
    "Меняем тип данных на ``category``."
   ]
  },
  {
   "cell_type": "code",
   "execution_count": 48,
   "metadata": {},
   "outputs": [
    {
     "name": "stderr",
     "output_type": "stream",
     "text": [
      "C:\\Users\\v_kly\\anaconda3\\lib\\site-packages\\pandas\\core\\frame.py:3065: SettingWithCopyWarning: \n",
      "A value is trying to be set on a copy of a slice from a DataFrame.\n",
      "Try using .loc[row_indexer,col_indexer] = value instead\n",
      "\n",
      "See the caveats in the documentation: https://pandas.pydata.org/pandas-docs/stable/user_guide/indexing.html#returning-a-view-versus-a-copy\n",
      "  self[k1] = value[k2]\n"
     ]
    }
   ],
   "source": [
    "fetures_not_encoded[category] = fetures_not_encoded[category].astype('category').copy()"
   ]
  },
  {
   "cell_type": "code",
   "execution_count": 49,
   "metadata": {
    "scrolled": true
   },
   "outputs": [
    {
     "name": "stdout",
     "output_type": "stream",
     "text": [
      "<class 'pandas.core.frame.DataFrame'>\n",
      "Int64Index: 279085 entries, 2 to 354368\n",
      "Data columns (total 10 columns):\n",
      " #   Column             Non-Null Count   Dtype   \n",
      "---  ------             --------------   -----   \n",
      " 0   VehicleType        279085 non-null  category\n",
      " 1   RegistrationYear   279085 non-null  int64   \n",
      " 2   Gearbox            279085 non-null  category\n",
      " 3   Power              279085 non-null  int64   \n",
      " 4   Model              279085 non-null  category\n",
      " 5   Kilometer          279085 non-null  int64   \n",
      " 6   RegistrationMonth  279085 non-null  int64   \n",
      " 7   FuelType           279085 non-null  category\n",
      " 8   Brand              279085 non-null  category\n",
      " 9   NotRepaired        279085 non-null  category\n",
      "dtypes: category(6), int64(4)\n",
      "memory usage: 12.5 MB\n"
     ]
    }
   ],
   "source": [
    "fetures_not_encoded.info()"
   ]
  },
  {
   "cell_type": "markdown",
   "metadata": {},
   "source": [
    "Разбиваем на тренировочную, валидационную и тестовую выборку."
   ]
  },
  {
   "cell_type": "code",
   "execution_count": 50,
   "metadata": {},
   "outputs": [],
   "source": [
    "features_train_not_encoded, features_valid_test_not_encoded, target_train_not_encoded, target_valid_test_not_encoded = train_test_split(\n",
    "    fetures_not_encoded, target, test_size=0.4, random_state=12345)\n",
    "\n",
    "features_valid_not_encoded, features_test_not_encoded, target_valid_not_encoded, target_test_not_encoded = train_test_split(\n",
    "    features_valid_test_not_encoded, target_valid_test_not_encoded, test_size=0.5, random_state=12345)"
   ]
  },
  {
   "cell_type": "code",
   "execution_count": 51,
   "metadata": {},
   "outputs": [
    {
     "name": "stdout",
     "output_type": "stream",
     "text": [
      "(167451, 10) (167451,)\n",
      "(55817, 10) (55817,)\n",
      "(55817, 10) (55817,)\n"
     ]
    }
   ],
   "source": [
    "print(features_train_not_encoded.shape, target_train_not_encoded.shape)\n",
    "print(features_valid_not_encoded.shape, target_valid_not_encoded.shape)\n",
    "print(features_test_not_encoded.shape, target_test_not_encoded.shape)"
   ]
  },
  {
   "cell_type": "markdown",
   "metadata": {},
   "source": [
    "##### Модель LightGBM с категориальными признаками"
   ]
  },
  {
   "cell_type": "markdown",
   "metadata": {},
   "source": [
    "Создаем и обучаем модель."
   ]
  },
  {
   "cell_type": "code",
   "execution_count": 52,
   "metadata": {},
   "outputs": [],
   "source": [
    "model_lgbm_category = LGBMRegressor(n_estimators=500)"
   ]
  },
  {
   "cell_type": "code",
   "execution_count": 53,
   "metadata": {},
   "outputs": [
    {
     "name": "stdout",
     "output_type": "stream",
     "text": [
      "Wall time: 1.27 s\n"
     ]
    },
    {
     "data": {
      "text/plain": [
       "LGBMRegressor(n_estimators=500)"
      ]
     },
     "execution_count": 53,
     "metadata": {},
     "output_type": "execute_result"
    }
   ],
   "source": [
    "%%time\n",
    "model_lgbm_category.fit(features_train_not_encoded, target_train_not_encoded)"
   ]
  },
  {
   "cell_type": "code",
   "execution_count": 54,
   "metadata": {},
   "outputs": [
    {
     "name": "stdout",
     "output_type": "stream",
     "text": [
      "Wall time: 236 ms\n"
     ]
    }
   ],
   "source": [
    "%%time\n",
    "pred_lgbm = model_lgbm_category.predict(features_valid_not_encoded)"
   ]
  },
  {
   "cell_type": "code",
   "execution_count": 55,
   "metadata": {},
   "outputs": [],
   "source": [
    "rmse_lgbm = mean_squared_error(target_valid_not_encoded, pred_lgbm)**0.5"
   ]
  },
  {
   "cell_type": "code",
   "execution_count": 56,
   "metadata": {},
   "outputs": [
    {
     "name": "stdout",
     "output_type": "stream",
     "text": [
      "RMSE модели 1505.2787289283956\n"
     ]
    }
   ],
   "source": [
    "print('RMSE модели', rmse_lgbm)"
   ]
  },
  {
   "cell_type": "markdown",
   "metadata": {},
   "source": [
    "Время обучения модели LGBM с использованием категориальных признаков составило ``5 минут 59 секунд``. Значение метрики RMSE равно ``1533.54``"
   ]
  },
  {
   "cell_type": "markdown",
   "metadata": {},
   "source": [
    "##### Модель CatBoost с категориальными признаками"
   ]
  },
  {
   "cell_type": "code",
   "execution_count": 57,
   "metadata": {},
   "outputs": [],
   "source": [
    "cat_not_encoded = CatBoostRegressor(learning_rate=0.1 , depth=6, cat_features = fetures_not_encoded[category])"
   ]
  },
  {
   "cell_type": "code",
   "execution_count": 58,
   "metadata": {},
   "outputs": [
    {
     "name": "stdout",
     "output_type": "stream",
     "text": [
      "0:\tlearn: 4319.5803990\ttotal: 171ms\tremaining: 2m 51s\n",
      "100:\tlearn: 1733.4757174\ttotal: 8.77s\tremaining: 1m 18s\n",
      "200:\tlearn: 1647.4809643\ttotal: 17.4s\tremaining: 1m 9s\n",
      "300:\tlearn: 1603.2308254\ttotal: 26s\tremaining: 1m\n",
      "400:\tlearn: 1576.3892215\ttotal: 34.7s\tremaining: 51.8s\n",
      "500:\tlearn: 1555.5896015\ttotal: 43.3s\tremaining: 43.2s\n",
      "600:\tlearn: 1537.6034831\ttotal: 52.3s\tremaining: 34.8s\n",
      "700:\tlearn: 1522.2861654\ttotal: 1m 1s\tremaining: 26.4s\n",
      "800:\tlearn: 1509.9631082\ttotal: 1m 10s\tremaining: 17.6s\n",
      "900:\tlearn: 1500.1671020\ttotal: 1m 19s\tremaining: 8.75s\n",
      "999:\tlearn: 1488.8734911\ttotal: 1m 28s\tremaining: 0us\n",
      "Wall time: 1min 29s\n"
     ]
    },
    {
     "data": {
      "text/plain": [
       "<catboost.core.CatBoostRegressor at 0x1e20695f910>"
      ]
     },
     "execution_count": 58,
     "metadata": {},
     "output_type": "execute_result"
    }
   ],
   "source": [
    "%%time\n",
    "cat_not_encoded.fit(features_train_not_encoded, target_train_not_encoded, verbose=100)"
   ]
  },
  {
   "cell_type": "code",
   "execution_count": 59,
   "metadata": {},
   "outputs": [
    {
     "name": "stdout",
     "output_type": "stream",
     "text": [
      "Wall time: 103 ms\n"
     ]
    }
   ],
   "source": [
    "%%time\n",
    "pred_cat = cat_not_encoded.predict(features_valid_not_encoded)"
   ]
  },
  {
   "cell_type": "code",
   "execution_count": 60,
   "metadata": {},
   "outputs": [],
   "source": [
    "rmse_cat = mean_squared_error(target_valid_not_encoded, pred_cat)**0.5"
   ]
  },
  {
   "cell_type": "code",
   "execution_count": 61,
   "metadata": {
    "scrolled": true
   },
   "outputs": [
    {
     "name": "stdout",
     "output_type": "stream",
     "text": [
      "RMSE модели 1554.9278241009592\n"
     ]
    }
   ],
   "source": [
    "print('RMSE модели', rmse_cat)"
   ]
  },
  {
   "cell_type": "markdown",
   "metadata": {},
   "source": [
    "Время обучения модели CatBoost на с использованием категориальных признаков составило ``3 минут 42 секунд``. Значение метрики RMSE равно ``1578.67``"
   ]
  },
  {
   "cell_type": "markdown",
   "metadata": {},
   "source": [
    "**Вывод:**"
   ]
  },
  {
   "cell_type": "code",
   "execution_count": 62,
   "metadata": {},
   "outputs": [
    {
     "name": "stdout",
     "output_type": "stream",
     "text": [
      "Модель LGBM\n"
     ]
    },
    {
     "data": {
      "text/html": [
       "<div>\n",
       "<style scoped>\n",
       "    .dataframe tbody tr th:only-of-type {\n",
       "        vertical-align: middle;\n",
       "    }\n",
       "\n",
       "    .dataframe tbody tr th {\n",
       "        vertical-align: top;\n",
       "    }\n",
       "\n",
       "    .dataframe thead th {\n",
       "        text-align: right;\n",
       "    }\n",
       "</style>\n",
       "<table border=\"1\" class=\"dataframe\">\n",
       "  <thead>\n",
       "    <tr style=\"text-align: right;\">\n",
       "      <th></th>\n",
       "      <th>Время обучения</th>\n",
       "      <th>RMSE</th>\n",
       "    </tr>\n",
       "  </thead>\n",
       "  <tbody>\n",
       "    <tr>\n",
       "      <th>Использование кодирования данных</th>\n",
       "      <td>359</td>\n",
       "      <td>1533.54</td>\n",
       "    </tr>\n",
       "    <tr>\n",
       "      <th>Использование категориальных признаков</th>\n",
       "      <td>26</td>\n",
       "      <td>1659.79</td>\n",
       "    </tr>\n",
       "  </tbody>\n",
       "</table>\n",
       "</div>"
      ],
      "text/plain": [
       "                                        Время обучения     RMSE\n",
       "Использование кодирования данных                   359  1533.54\n",
       "Использование категориальных признаков              26  1659.79"
      ]
     },
     "metadata": {},
     "output_type": "display_data"
    }
   ],
   "source": [
    "index_lgbm = {\n",
    "    'Использование категориальных признаков',\n",
    "    'Использование кодирования данных'    \n",
    "}\n",
    "col_lgbm = {'Время обучения': [359, 26], \n",
    "       'RMSE': [1533.54, 1659.79]}\n",
    "research_models_lgbm = pd.DataFrame(col_lgbm, index=index_lgbm)\n",
    "print('Модель LGBM')\n",
    "display(research_models_lgbm)"
   ]
  },
  {
   "cell_type": "code",
   "execution_count": 63,
   "metadata": {},
   "outputs": [
    {
     "name": "stdout",
     "output_type": "stream",
     "text": [
      "Модель CatBoost\n"
     ]
    },
    {
     "data": {
      "text/html": [
       "<div>\n",
       "<style scoped>\n",
       "    .dataframe tbody tr th:only-of-type {\n",
       "        vertical-align: middle;\n",
       "    }\n",
       "\n",
       "    .dataframe tbody tr th {\n",
       "        vertical-align: top;\n",
       "    }\n",
       "\n",
       "    .dataframe thead th {\n",
       "        text-align: right;\n",
       "    }\n",
       "</style>\n",
       "<table border=\"1\" class=\"dataframe\">\n",
       "  <thead>\n",
       "    <tr style=\"text-align: right;\">\n",
       "      <th></th>\n",
       "      <th>Время обучения</th>\n",
       "      <th>RMSE</th>\n",
       "    </tr>\n",
       "  </thead>\n",
       "  <tbody>\n",
       "    <tr>\n",
       "      <th>Использование кодирования данных</th>\n",
       "      <td>222</td>\n",
       "      <td>1578.67</td>\n",
       "    </tr>\n",
       "    <tr>\n",
       "      <th>Использование категориальных признаков</th>\n",
       "      <td>116</td>\n",
       "      <td>1670.05</td>\n",
       "    </tr>\n",
       "  </tbody>\n",
       "</table>\n",
       "</div>"
      ],
      "text/plain": [
       "                                        Время обучения     RMSE\n",
       "Использование кодирования данных                   222  1578.67\n",
       "Использование категориальных признаков             116  1670.05"
      ]
     },
     "metadata": {},
     "output_type": "display_data"
    }
   ],
   "source": [
    "index_cat = {\n",
    "    'Использование категориальных признаков',\n",
    "    'Использование кодирования данных'    \n",
    "}\n",
    "col_cat = {'Время обучения': [222, 116], \n",
    "       'RMSE': [1578.67, 1670.05]}\n",
    "research_models_cat = pd.DataFrame(col_cat, index=index_cat)\n",
    "print('Модель CatBoost')\n",
    "display(research_models_cat)"
   ]
  },
  {
   "cell_type": "markdown",
   "metadata": {},
   "source": [
    "Как видно из двух таблиц выше, модели при использовании категориальных признаков обучаются дольше, но метрика RMSE показывает лучший результат. В финальных тестированиях будет использовать эти модели."
   ]
  },
  {
   "cell_type": "markdown",
   "metadata": {},
   "source": [
    "## Анализ моделей"
   ]
  },
  {
   "cell_type": "markdown",
   "metadata": {},
   "source": [
    "Возьмем лучшие итерации по каждому типу моделей с определенными параметрами и запустим их на тестовой выборке. \n",
    "\n",
    "А затем сравним результаты работы и время обучения"
   ]
  },
  {
   "cell_type": "markdown",
   "metadata": {},
   "source": [
    "### Модель случайного леса"
   ]
  },
  {
   "cell_type": "code",
   "execution_count": 64,
   "metadata": {},
   "outputs": [
    {
     "name": "stdout",
     "output_type": "stream",
     "text": [
      "Wall time: 3min 40s\n"
     ]
    },
    {
     "data": {
      "text/plain": [
       "RandomForestRegressor(max_depth=17, n_estimators=80)"
      ]
     },
     "execution_count": 64,
     "metadata": {},
     "output_type": "execute_result"
    }
   ],
   "source": [
    "%%time\n",
    "best_model_rfr.fit(features_train, target_train)"
   ]
  },
  {
   "cell_type": "code",
   "execution_count": 65,
   "metadata": {},
   "outputs": [
    {
     "name": "stdout",
     "output_type": "stream",
     "text": [
      "Wall time: 895 ms\n"
     ]
    }
   ],
   "source": [
    "%%time\n",
    "predictions_rfr = best_model_rfr.predict(features_test)"
   ]
  },
  {
   "cell_type": "code",
   "execution_count": 66,
   "metadata": {},
   "outputs": [
    {
     "name": "stdout",
     "output_type": "stream",
     "text": [
      "RMSE модели случайного леса: 1626.7809167905903\n"
     ]
    }
   ],
   "source": [
    "rmse_rfr = mean_squared_error(target_test, predictions_rfr)**0.5\n",
    "print('RMSE модели случайного леса:', rmse_rfr)"
   ]
  },
  {
   "cell_type": "markdown",
   "metadata": {},
   "source": [
    "### Модель LightGBM"
   ]
  },
  {
   "cell_type": "code",
   "execution_count": 67,
   "metadata": {},
   "outputs": [
    {
     "name": "stdout",
     "output_type": "stream",
     "text": [
      "Wall time: 222 ms\n"
     ]
    }
   ],
   "source": [
    "%%time\n",
    "pred_lgbm_test = model_lgbm_category.predict(features_test_not_encoded)"
   ]
  },
  {
   "cell_type": "code",
   "execution_count": 68,
   "metadata": {},
   "outputs": [
    {
     "name": "stdout",
     "output_type": "stream",
     "text": [
      "RMSE модели LightGBM: 1526.2720167012562\n"
     ]
    }
   ],
   "source": [
    "rmse_lgbm_test = mean_squared_error(target_test, pred_lgbm_test)**0.5\n",
    "print('RMSE модели LightGBM:', rmse_lgbm_test)"
   ]
  },
  {
   "cell_type": "markdown",
   "metadata": {},
   "source": [
    "### Модель CatBoost"
   ]
  },
  {
   "cell_type": "code",
   "execution_count": 69,
   "metadata": {},
   "outputs": [
    {
     "name": "stdout",
     "output_type": "stream",
     "text": [
      "Wall time: 112 ms\n"
     ]
    }
   ],
   "source": [
    "%%time\n",
    "pred_cat = cat_not_encoded.predict(features_test_not_encoded)"
   ]
  },
  {
   "cell_type": "code",
   "execution_count": 70,
   "metadata": {},
   "outputs": [
    {
     "name": "stdout",
     "output_type": "stream",
     "text": [
      "RMSE модели CatBoost: 1576.289886476883\n"
     ]
    }
   ],
   "source": [
    "rmse_cat_test = mean_squared_error(target_test, pred_cat)**0.5\n",
    "print('RMSE модели CatBoost:', rmse_cat_test)"
   ]
  },
  {
   "cell_type": "markdown",
   "metadata": {},
   "source": [
    "## Вывод"
   ]
  },
  {
   "cell_type": "code",
   "execution_count": 71,
   "metadata": {},
   "outputs": [
    {
     "name": "stdout",
     "output_type": "stream",
     "text": [
      "Модель CatBoost\n"
     ]
    },
    {
     "data": {
      "text/html": [
       "<div>\n",
       "<style scoped>\n",
       "    .dataframe tbody tr th:only-of-type {\n",
       "        vertical-align: middle;\n",
       "    }\n",
       "\n",
       "    .dataframe tbody tr th {\n",
       "        vertical-align: top;\n",
       "    }\n",
       "\n",
       "    .dataframe thead th {\n",
       "        text-align: right;\n",
       "    }\n",
       "</style>\n",
       "<table border=\"1\" class=\"dataframe\">\n",
       "  <thead>\n",
       "    <tr style=\"text-align: right;\">\n",
       "      <th></th>\n",
       "      <th>Модель</th>\n",
       "      <th>Время обучения (сек)</th>\n",
       "      <th>Время предсказания (сек)</th>\n",
       "      <th>RMSE</th>\n",
       "    </tr>\n",
       "  </thead>\n",
       "  <tbody>\n",
       "    <tr>\n",
       "      <th>0</th>\n",
       "      <td>RandomForestRegression</td>\n",
       "      <td>125</td>\n",
       "      <td>1.570</td>\n",
       "      <td>1656.32</td>\n",
       "    </tr>\n",
       "    <tr>\n",
       "      <th>1</th>\n",
       "      <td>LightGBM</td>\n",
       "      <td>359</td>\n",
       "      <td>3.000</td>\n",
       "      <td>1542.57</td>\n",
       "    </tr>\n",
       "    <tr>\n",
       "      <th>2</th>\n",
       "      <td>CatBoost</td>\n",
       "      <td>222</td>\n",
       "      <td>0.743</td>\n",
       "      <td>1585.78</td>\n",
       "    </tr>\n",
       "  </tbody>\n",
       "</table>\n",
       "</div>"
      ],
      "text/plain": [
       "                   Модель  Время обучения (сек)  Время предсказания (сек)  \\\n",
       "0  RandomForestRegression                   125                     1.570   \n",
       "1                LightGBM                   359                     3.000   \n",
       "2                CatBoost                   222                     0.743   \n",
       "\n",
       "      RMSE  \n",
       "0  1656.32  \n",
       "1  1542.57  \n",
       "2  1585.78  "
      ]
     },
     "metadata": {},
     "output_type": "display_data"
    }
   ],
   "source": [
    "index = [\n",
    "    ['RandomForestRegression', 125, 1.57, 1656.32],\n",
    "    ['LightGBM', 359, 3, 1542.57],\n",
    "    ['CatBoost', 222, 0.743, 1585.78]\n",
    "]\n",
    "col_cat = ['Модель', 'Время обучения (сек)', 'Время предсказания (сек)', 'RMSE']\n",
    "research_models_cat = pd.DataFrame(index, columns=col_cat)\n",
    "print('Модель CatBoost')\n",
    "display(research_models_cat)\n",
    "\n",
    "results = pd.DataFrame()"
   ]
  },
  {
   "cell_type": "markdown",
   "metadata": {},
   "source": [
    "Лучшая скорость обучения у модели RandomForestRegression, при этом метрика качества занимает третье место. Данная модель подойдет для систем с постоянным переобучением и не очень высокими требованиями к величине ошибки.\n",
    "\n",
    "Лучшая метрика качества у модели LightGBM, при этом у неё самое большое время на обучение и предсказание, данная модель подходит для систем требовательных к качеству прогнозирования, но где не требуется постоянного переобучения и прогнозирования.\n",
    "\n",
    "Модель CatBoost имеет средний показатель по метрике качества, но при этом показатель скорости прогнозирования лучший в два и четыре раза по отношению к моделям RandomForestRegression и LightGBM соответственно, что позволяет использовать эту модель в системах с высокой нагрузкой постоянного прогнозирования, без переобучения в реальном времени.\n"
   ]
  },
  {
   "cell_type": "code",
   "execution_count": null,
   "metadata": {},
   "outputs": [],
   "source": []
  }
 ],
 "metadata": {
  "ExecuteTimeLog": [
   {
    "duration": 1063,
    "start_time": "2021-07-12T13:30:46.565Z"
   },
   {
    "duration": 1155,
    "start_time": "2021-07-12T13:30:57.889Z"
   },
   {
    "duration": 49,
    "start_time": "2021-07-12T13:31:09.223Z"
   },
   {
    "duration": 24,
    "start_time": "2021-07-12T13:31:30.572Z"
   },
   {
    "duration": 159,
    "start_time": "2021-07-12T13:33:04.587Z"
   },
   {
    "duration": 759,
    "start_time": "2021-07-12T15:20:11.030Z"
   },
   {
    "duration": 1157,
    "start_time": "2021-07-12T15:20:13.428Z"
   },
   {
    "duration": 34,
    "start_time": "2021-07-12T15:20:14.588Z"
   },
   {
    "duration": 547,
    "start_time": "2021-07-12T15:20:16.441Z"
   },
   {
    "duration": 379,
    "start_time": "2021-07-12T15:20:37.603Z"
   },
   {
    "duration": 9,
    "start_time": "2021-07-12T15:21:00.809Z"
   },
   {
    "duration": 9,
    "start_time": "2021-07-12T15:21:03.743Z"
   },
   {
    "duration": 163,
    "start_time": "2021-07-12T15:21:16.873Z"
   },
   {
    "duration": 450,
    "start_time": "2021-07-12T15:21:27.251Z"
   },
   {
    "duration": 6,
    "start_time": "2021-07-12T15:21:32.169Z"
   },
   {
    "duration": 590,
    "start_time": "2021-07-12T15:21:58.008Z"
   },
   {
    "duration": 206,
    "start_time": "2021-07-12T15:23:14.367Z"
   },
   {
    "duration": 342,
    "start_time": "2021-07-12T15:23:54.790Z"
   },
   {
    "duration": 215,
    "start_time": "2021-07-12T15:24:18.025Z"
   },
   {
    "duration": 204,
    "start_time": "2021-07-12T15:24:22.233Z"
   },
   {
    "duration": 9,
    "start_time": "2021-07-12T15:25:07.940Z"
   },
   {
    "duration": 23,
    "start_time": "2021-07-12T15:25:15.033Z"
   },
   {
    "duration": 305,
    "start_time": "2021-07-12T15:25:23.013Z"
   },
   {
    "duration": 59,
    "start_time": "2021-07-12T15:25:28.577Z"
   },
   {
    "duration": 137,
    "start_time": "2021-07-12T15:25:56.094Z"
   },
   {
    "duration": 325,
    "start_time": "2021-07-12T15:26:11.683Z"
   },
   {
    "duration": 11,
    "start_time": "2021-07-12T15:26:37.894Z"
   },
   {
    "duration": 8,
    "start_time": "2021-07-12T15:26:45.541Z"
   },
   {
    "duration": 214,
    "start_time": "2021-07-12T15:27:03.479Z"
   },
   {
    "duration": 8,
    "start_time": "2021-07-12T15:27:25.287Z"
   },
   {
    "duration": 400,
    "start_time": "2021-07-12T15:29:51.770Z"
   },
   {
    "duration": 74,
    "start_time": "2021-07-12T15:32:11.072Z"
   },
   {
    "duration": 36,
    "start_time": "2021-07-12T15:32:14.920Z"
   },
   {
    "duration": 591,
    "start_time": "2021-07-12T15:34:45.798Z"
   },
   {
    "duration": 313,
    "start_time": "2021-07-12T15:37:52.506Z"
   },
   {
    "duration": 480,
    "start_time": "2021-07-12T15:38:36.453Z"
   },
   {
    "duration": 364,
    "start_time": "2021-07-12T15:39:14.018Z"
   },
   {
    "duration": 123,
    "start_time": "2021-07-12T15:39:25.328Z"
   },
   {
    "duration": 4,
    "start_time": "2021-07-12T15:39:36.256Z"
   },
   {
    "duration": 7,
    "start_time": "2021-07-12T15:40:03.466Z"
   },
   {
    "duration": 4,
    "start_time": "2021-07-12T15:42:56.815Z"
   },
   {
    "duration": 49,
    "start_time": "2021-07-12T15:43:57.058Z"
   },
   {
    "duration": 3,
    "start_time": "2021-07-12T15:44:29.126Z"
   },
   {
    "duration": 442,
    "start_time": "2021-07-12T15:46:03.580Z"
   },
   {
    "duration": 6,
    "start_time": "2021-07-12T15:48:03.159Z"
   },
   {
    "duration": 3,
    "start_time": "2021-07-12T15:48:13.692Z"
   },
   {
    "duration": 6,
    "start_time": "2021-07-12T15:48:27.488Z"
   },
   {
    "duration": 4,
    "start_time": "2021-07-12T15:49:47.966Z"
   },
   {
    "duration": 4,
    "start_time": "2021-07-12T15:50:00.094Z"
   },
   {
    "duration": 338,
    "start_time": "2021-07-12T15:50:02.727Z"
   },
   {
    "duration": 4,
    "start_time": "2021-07-12T15:50:04.193Z"
   },
   {
    "duration": 4,
    "start_time": "2021-07-12T15:50:07.534Z"
   },
   {
    "duration": 774,
    "start_time": "2021-07-12T15:50:08.681Z"
   },
   {
    "duration": 1687,
    "start_time": "2021-07-12T17:22:35.819Z"
   },
   {
    "duration": 1371,
    "start_time": "2021-07-12T17:27:41.895Z"
   },
   {
    "duration": 56,
    "start_time": "2021-07-12T17:27:54.812Z"
   },
   {
    "duration": 1391,
    "start_time": "2021-07-12T17:35:54.069Z"
   },
   {
    "duration": 1074,
    "start_time": "2021-07-12T17:35:55.463Z"
   },
   {
    "duration": 29,
    "start_time": "2021-07-12T17:35:56.540Z"
   },
   {
    "duration": 161,
    "start_time": "2021-07-12T17:35:59.433Z"
   },
   {
    "duration": 8,
    "start_time": "2021-07-12T17:36:00.000Z"
   },
   {
    "duration": 70,
    "start_time": "2021-07-12T17:36:01.459Z"
   },
   {
    "duration": 4,
    "start_time": "2021-07-12T17:36:02.812Z"
   },
   {
    "duration": 38,
    "start_time": "2021-07-12T17:36:06.189Z"
   },
   {
    "duration": 1301,
    "start_time": "2021-07-12T17:36:07.454Z"
   },
   {
    "duration": 1797,
    "start_time": "2021-07-12T17:36:11.221Z"
   },
   {
    "duration": 6,
    "start_time": "2021-07-12T17:36:14.480Z"
   },
   {
    "duration": 3,
    "start_time": "2021-07-12T17:36:23.023Z"
   },
   {
    "duration": 32032,
    "start_time": "2021-07-12T17:36:24.250Z"
   },
   {
    "duration": 1366,
    "start_time": "2021-07-12T17:37:05.539Z"
   },
   {
    "duration": 1085,
    "start_time": "2021-07-12T17:37:06.908Z"
   },
   {
    "duration": 31,
    "start_time": "2021-07-12T17:37:07.997Z"
   },
   {
    "duration": 173,
    "start_time": "2021-07-12T17:37:08.031Z"
   },
   {
    "duration": 8,
    "start_time": "2021-07-12T17:37:08.207Z"
   },
   {
    "duration": 98,
    "start_time": "2021-07-12T17:37:08.218Z"
   },
   {
    "duration": 4,
    "start_time": "2021-07-12T17:37:08.319Z"
   },
   {
    "duration": 51,
    "start_time": "2021-07-12T17:37:08.326Z"
   },
   {
    "duration": 1312,
    "start_time": "2021-07-12T17:37:08.381Z"
   },
   {
    "duration": 1838,
    "start_time": "2021-07-12T17:37:09.696Z"
   },
   {
    "duration": 6,
    "start_time": "2021-07-12T17:37:11.537Z"
   },
   {
    "duration": 15,
    "start_time": "2021-07-12T17:37:11.546Z"
   },
   {
    "duration": 39683,
    "start_time": "2021-07-12T17:37:11.563Z"
   },
   {
    "duration": 839,
    "start_time": "2021-07-12T17:40:48.146Z"
   },
   {
    "duration": 6,
    "start_time": "2021-07-12T17:41:24.062Z"
   },
   {
    "duration": 7,
    "start_time": "2021-07-12T17:41:31.801Z"
   },
   {
    "duration": 454,
    "start_time": "2021-07-12T17:42:12.755Z"
   },
   {
    "duration": 8,
    "start_time": "2021-07-12T17:42:29.718Z"
   },
   {
    "duration": 97,
    "start_time": "2021-07-12T17:43:00.637Z"
   },
   {
    "duration": 6,
    "start_time": "2021-07-12T17:43:14.199Z"
   },
   {
    "duration": 22027,
    "start_time": "2021-07-12T17:46:46.582Z"
   },
   {
    "duration": 299,
    "start_time": "2021-07-12T17:47:19.172Z"
   },
   {
    "duration": 6,
    "start_time": "2021-07-12T17:47:24.817Z"
   },
   {
    "duration": 49423,
    "start_time": "2021-07-12T17:48:50.792Z"
   },
   {
    "duration": 513,
    "start_time": "2021-07-12T17:49:44.638Z"
   },
   {
    "duration": 6,
    "start_time": "2021-07-12T17:49:45.618Z"
   },
   {
    "duration": 191452,
    "start_time": "2021-07-12T17:51:23.690Z"
   },
   {
    "duration": 3349,
    "start_time": "2021-07-12T17:54:46.458Z"
   },
   {
    "duration": 5,
    "start_time": "2021-07-12T17:54:53.943Z"
   },
   {
    "duration": 6,
    "start_time": "2021-07-12T17:58:34.296Z"
   },
   {
    "duration": 5,
    "start_time": "2021-07-12T18:00:37.431Z"
   },
   {
    "duration": 5,
    "start_time": "2021-07-12T18:00:37.818Z"
   },
   {
    "duration": 1422,
    "start_time": "2021-07-12T18:06:27.904Z"
   },
   {
    "duration": 1108,
    "start_time": "2021-07-12T18:06:29.329Z"
   },
   {
    "duration": 44,
    "start_time": "2021-07-12T18:06:30.441Z"
   },
   {
    "duration": 161,
    "start_time": "2021-07-12T18:06:30.488Z"
   },
   {
    "duration": 8,
    "start_time": "2021-07-12T18:06:30.652Z"
   },
   {
    "duration": 94,
    "start_time": "2021-07-12T18:06:30.662Z"
   },
   {
    "duration": 3,
    "start_time": "2021-07-12T18:06:30.759Z"
   },
   {
    "duration": 52,
    "start_time": "2021-07-12T18:06:30.765Z"
   },
   {
    "duration": 1487,
    "start_time": "2021-07-12T18:06:30.821Z"
   },
   {
    "duration": 2043,
    "start_time": "2021-07-12T18:06:32.311Z"
   },
   {
    "duration": 6,
    "start_time": "2021-07-12T18:06:34.356Z"
   },
   {
    "duration": 21,
    "start_time": "2021-07-12T18:06:34.364Z"
   },
   {
    "duration": 18,
    "start_time": "2021-07-12T18:06:34.388Z"
   },
   {
    "duration": 38628,
    "start_time": "2021-07-12T18:06:34.409Z"
   },
   {
    "duration": 846,
    "start_time": "2021-07-12T18:07:13.039Z"
   },
   {
    "duration": 5,
    "start_time": "2021-07-12T18:07:13.888Z"
   },
   {
    "duration": 9,
    "start_time": "2021-07-12T18:07:13.895Z"
   },
   {
    "duration": 22141,
    "start_time": "2021-07-12T18:07:13.907Z"
   },
   {
    "duration": 319,
    "start_time": "2021-07-12T18:07:36.051Z"
   },
   {
    "duration": 12,
    "start_time": "2021-07-12T18:07:36.373Z"
   },
   {
    "duration": 49471,
    "start_time": "2021-07-12T18:07:36.388Z"
   },
   {
    "duration": 552,
    "start_time": "2021-07-12T18:08:25.861Z"
   },
   {
    "duration": 5,
    "start_time": "2021-07-12T18:08:26.416Z"
   },
   {
    "duration": 262980,
    "start_time": "2021-07-12T18:08:26.423Z"
   },
   {
    "duration": 3412,
    "start_time": "2021-07-12T18:12:49.405Z"
   },
   {
    "duration": 6,
    "start_time": "2021-07-12T18:12:52.819Z"
   },
   {
    "duration": 1035,
    "start_time": "2021-07-12T20:48:55.675Z"
   },
   {
    "duration": 727,
    "start_time": "2021-07-12T20:48:57.126Z"
   },
   {
    "duration": 29,
    "start_time": "2021-07-12T20:48:57.855Z"
   },
   {
    "duration": 116,
    "start_time": "2021-07-12T20:48:57.900Z"
   },
   {
    "duration": 6,
    "start_time": "2021-07-12T20:48:58.650Z"
   },
   {
    "duration": 47,
    "start_time": "2021-07-12T20:48:59.598Z"
   },
   {
    "duration": 3,
    "start_time": "2021-07-12T20:49:00.773Z"
   },
   {
    "duration": 27,
    "start_time": "2021-07-12T20:49:01.671Z"
   },
   {
    "duration": 764,
    "start_time": "2021-07-12T20:49:01.996Z"
   },
   {
    "duration": 1227,
    "start_time": "2021-07-12T20:49:02.762Z"
   },
   {
    "duration": 4,
    "start_time": "2021-07-12T20:49:03.991Z"
   },
   {
    "duration": 3,
    "start_time": "2021-07-12T20:49:05.386Z"
   },
   {
    "duration": 4,
    "start_time": "2021-07-12T20:49:11.119Z"
   },
   {
    "duration": 15,
    "start_time": "2021-07-12T20:51:06.117Z"
   },
   {
    "duration": 1499,
    "start_time": "2021-07-12T21:01:54.105Z"
   },
   {
    "duration": 3,
    "start_time": "2021-07-12T21:02:01.340Z"
   },
   {
    "duration": 771,
    "start_time": "2021-07-12T21:02:04.182Z"
   },
   {
    "duration": 3,
    "start_time": "2021-07-12T21:03:28.338Z"
   },
   {
    "duration": 168,
    "start_time": "2021-07-12T21:03:28.966Z"
   },
   {
    "duration": 376,
    "start_time": "2021-07-12T21:03:53.394Z"
   },
   {
    "duration": 56,
    "start_time": "2021-07-12T21:06:27.173Z"
   },
   {
    "duration": 6,
    "start_time": "2021-07-12T21:06:33.537Z"
   },
   {
    "duration": 10,
    "start_time": "2021-07-12T21:09:43.084Z"
   },
   {
    "duration": 3,
    "start_time": "2021-07-12T21:09:51.154Z"
   },
   {
    "duration": 1027,
    "start_time": "2021-07-13T08:18:18.702Z"
   },
   {
    "duration": 743,
    "start_time": "2021-07-13T08:18:19.731Z"
   },
   {
    "duration": 18,
    "start_time": "2021-07-13T08:18:20.785Z"
   },
   {
    "duration": 115,
    "start_time": "2021-07-13T08:18:21.277Z"
   },
   {
    "duration": 6,
    "start_time": "2021-07-13T08:18:24.251Z"
   },
   {
    "duration": 46,
    "start_time": "2021-07-13T08:18:25.051Z"
   },
   {
    "duration": 3,
    "start_time": "2021-07-13T08:18:26.507Z"
   },
   {
    "duration": 23,
    "start_time": "2021-07-13T08:18:28.254Z"
   },
   {
    "duration": 731,
    "start_time": "2021-07-13T08:18:28.722Z"
   },
   {
    "duration": 1230,
    "start_time": "2021-07-13T08:18:29.455Z"
   },
   {
    "duration": 4,
    "start_time": "2021-07-13T08:18:30.686Z"
   },
   {
    "duration": 2,
    "start_time": "2021-07-13T08:18:34.685Z"
   },
   {
    "duration": 4,
    "start_time": "2021-07-13T08:18:35.734Z"
   },
   {
    "duration": 3,
    "start_time": "2021-07-13T08:19:55.098Z"
   },
   {
    "duration": 6813,
    "start_time": "2021-07-13T08:19:55.679Z"
   },
   {
    "duration": 1235,
    "start_time": "2021-07-13T08:20:32.653Z"
   },
   {
    "duration": 5,
    "start_time": "2021-07-13T08:21:01.477Z"
   },
   {
    "duration": 60,
    "start_time": "2021-07-13T08:27:19.088Z"
   },
   {
    "duration": 60,
    "start_time": "2021-07-13T08:27:42.984Z"
   },
   {
    "duration": 71,
    "start_time": "2021-07-13T08:27:50.010Z"
   },
   {
    "duration": 60,
    "start_time": "2021-07-13T08:27:52.170Z"
   },
   {
    "duration": 4,
    "start_time": "2021-07-13T08:28:04.151Z"
   },
   {
    "duration": 3,
    "start_time": "2021-07-13T08:28:06.914Z"
   },
   {
    "duration": 3,
    "start_time": "2021-07-13T08:28:13.865Z"
   },
   {
    "duration": 303,
    "start_time": "2021-07-13T08:28:18.492Z"
   },
   {
    "duration": 365,
    "start_time": "2021-07-13T08:28:34.321Z"
   },
   {
    "duration": 7073,
    "start_time": "2021-07-13T08:31:06.917Z"
   },
   {
    "duration": 1219,
    "start_time": "2021-07-13T08:31:19.077Z"
   },
   {
    "duration": 5,
    "start_time": "2021-07-13T08:31:27.766Z"
   },
   {
    "duration": 3,
    "start_time": "2021-07-13T09:05:25.412Z"
   },
   {
    "duration": 2,
    "start_time": "2021-07-13T09:05:26.466Z"
   },
   {
    "duration": 6,
    "start_time": "2021-07-13T09:05:30.314Z"
   },
   {
    "duration": 185,
    "start_time": "2021-07-13T09:07:20.631Z"
   },
   {
    "duration": 4,
    "start_time": "2021-07-13T09:10:36.354Z"
   },
   {
    "duration": 3,
    "start_time": "2021-07-13T09:10:59.219Z"
   },
   {
    "duration": 190,
    "start_time": "2021-07-13T09:11:01.298Z"
   },
   {
    "duration": 3,
    "start_time": "2021-07-13T09:11:12.134Z"
   },
   {
    "duration": 194,
    "start_time": "2021-07-13T09:11:12.738Z"
   },
   {
    "duration": 3,
    "start_time": "2021-07-13T09:11:34.732Z"
   },
   {
    "duration": 353,
    "start_time": "2021-07-13T09:11:35.185Z"
   },
   {
    "duration": 367,
    "start_time": "2021-07-13T09:12:05.944Z"
   },
   {
    "duration": 3,
    "start_time": "2021-07-13T09:12:37.516Z"
   },
   {
    "duration": 378,
    "start_time": "2021-07-13T09:12:38.823Z"
   },
   {
    "duration": 6,
    "start_time": "2021-07-13T09:13:50.025Z"
   },
   {
    "duration": 4,
    "start_time": "2021-07-13T09:14:59.695Z"
   },
   {
    "duration": 336,
    "start_time": "2021-07-13T09:15:03.329Z"
   },
   {
    "duration": 4,
    "start_time": "2021-07-13T09:15:48.777Z"
   },
   {
    "duration": 369,
    "start_time": "2021-07-13T09:15:51.442Z"
   },
   {
    "duration": 4,
    "start_time": "2021-07-13T09:15:58.092Z"
   },
   {
    "duration": 354,
    "start_time": "2021-07-13T09:15:58.421Z"
   },
   {
    "duration": 3,
    "start_time": "2021-07-13T09:16:13.054Z"
   },
   {
    "duration": 5,
    "start_time": "2021-07-13T09:16:13.338Z"
   },
   {
    "duration": 201,
    "start_time": "2021-07-13T09:17:02.125Z"
   },
   {
    "duration": 204,
    "start_time": "2021-07-13T09:17:07.992Z"
   },
   {
    "duration": 187,
    "start_time": "2021-07-13T09:19:16.576Z"
   },
   {
    "duration": 189,
    "start_time": "2021-07-13T09:19:25.113Z"
   },
   {
    "duration": 176,
    "start_time": "2021-07-13T09:19:30.694Z"
   },
   {
    "duration": 180,
    "start_time": "2021-07-13T09:19:39.010Z"
   },
   {
    "duration": 3,
    "start_time": "2021-07-13T09:19:50.059Z"
   },
   {
    "duration": 373,
    "start_time": "2021-07-13T09:19:51.057Z"
   },
   {
    "duration": 391,
    "start_time": "2021-07-13T09:19:53.681Z"
   },
   {
    "duration": 1304,
    "start_time": "2021-07-13T09:20:00.689Z"
   },
   {
    "duration": 3,
    "start_time": "2021-07-13T09:20:27.957Z"
   },
   {
    "duration": 6,
    "start_time": "2021-07-13T09:20:28.364Z"
   },
   {
    "duration": 183,
    "start_time": "2021-07-13T09:20:46.760Z"
   },
   {
    "duration": 334795,
    "start_time": "2021-07-13T09:22:17.407Z"
   },
   {
    "duration": 189,
    "start_time": "2021-07-13T09:27:52.204Z"
   },
   {
    "duration": 963,
    "start_time": "2021-07-13T09:28:29.885Z"
   },
   {
    "duration": 32,
    "start_time": "2021-07-13T09:28:39.505Z"
   },
   {
    "duration": 33,
    "start_time": "2021-07-13T09:28:49.834Z"
   },
   {
    "duration": 96377,
    "start_time": "2021-07-13T09:29:02.314Z"
   },
   {
    "duration": 3,
    "start_time": "2021-07-13T09:30:47.283Z"
   },
   {
    "duration": 46139,
    "start_time": "2021-07-13T09:30:47.946Z"
   },
   {
    "duration": 63,
    "start_time": "2021-07-13T09:31:43.132Z"
   },
   {
    "duration": 41677,
    "start_time": "2021-07-13T09:32:21.909Z"
   },
   {
    "duration": 3,
    "start_time": "2021-07-13T09:33:50.722Z"
   },
   {
    "duration": 41968,
    "start_time": "2021-07-13T09:34:52.339Z"
   },
   {
    "duration": 2793,
    "start_time": "2021-07-13T09:36:32.981Z"
   },
   {
    "duration": 43111,
    "start_time": "2021-07-13T09:38:08.603Z"
   },
   {
    "duration": 1380,
    "start_time": "2021-07-14T08:10:41.277Z"
   },
   {
    "duration": 1040,
    "start_time": "2021-07-14T08:10:43.054Z"
   },
   {
    "duration": 30,
    "start_time": "2021-07-14T08:10:44.098Z"
   },
   {
    "duration": 163,
    "start_time": "2021-07-14T08:10:44.131Z"
   },
   {
    "duration": 7,
    "start_time": "2021-07-14T08:10:44.297Z"
   },
   {
    "duration": 74,
    "start_time": "2021-07-14T08:10:46.072Z"
   },
   {
    "duration": 4,
    "start_time": "2021-07-14T08:10:46.149Z"
   },
   {
    "duration": 31,
    "start_time": "2021-07-14T08:10:46.358Z"
   },
   {
    "duration": 1262,
    "start_time": "2021-07-14T08:10:46.649Z"
   },
   {
    "duration": 1719,
    "start_time": "2021-07-14T08:10:47.914Z"
   },
   {
    "duration": 5,
    "start_time": "2021-07-14T08:10:49.636Z"
   },
   {
    "duration": 3,
    "start_time": "2021-07-14T08:10:52.213Z"
   },
   {
    "duration": 6,
    "start_time": "2021-07-14T08:10:52.730Z"
   },
   {
    "duration": 37764,
    "start_time": "2021-07-14T08:10:59.576Z"
   },
   {
    "duration": 815,
    "start_time": "2021-07-14T08:11:57.874Z"
   },
   {
    "duration": 4,
    "start_time": "2021-07-14T08:11:58.692Z"
   },
   {
    "duration": 5,
    "start_time": "2021-07-14T08:11:59.513Z"
   },
   {
    "duration": 22210,
    "start_time": "2021-07-14T08:12:11.868Z"
   },
   {
    "duration": 298,
    "start_time": "2021-07-14T08:13:04.703Z"
   },
   {
    "duration": 6,
    "start_time": "2021-07-14T08:13:05.878Z"
   },
   {
    "duration": 48770,
    "start_time": "2021-07-14T08:13:14.917Z"
   },
   {
    "duration": 483,
    "start_time": "2021-07-14T08:14:08.939Z"
   },
   {
    "duration": 5,
    "start_time": "2021-07-14T08:14:09.424Z"
   },
   {
    "duration": 304,
    "start_time": "2021-07-14T08:14:46.230Z"
   },
   {
    "duration": 3,
    "start_time": "2021-07-14T08:14:54.350Z"
   },
   {
    "duration": 9461,
    "start_time": "2021-07-14T08:14:54.897Z"
   },
   {
    "duration": 1740,
    "start_time": "2021-07-14T08:15:06.956Z"
   },
   {
    "duration": 58,
    "start_time": "2021-07-14T08:15:08.699Z"
   },
   {
    "duration": 4,
    "start_time": "2021-07-14T08:15:11.549Z"
   },
   {
    "duration": 3479,
    "start_time": "2021-07-14T08:15:12.548Z"
   },
   {
    "duration": 3394,
    "start_time": "2021-07-14T08:15:32.846Z"
   },
   {
    "duration": 3345,
    "start_time": "2021-07-14T08:15:59.092Z"
   },
   {
    "duration": 55831,
    "start_time": "2021-07-14T08:16:04.365Z"
   },
   {
    "duration": 85091,
    "start_time": "2021-07-14T08:21:19.173Z"
   },
   {
    "duration": 27393,
    "start_time": "2021-07-14T08:22:53.248Z"
   },
   {
    "duration": 4,
    "start_time": "2021-07-14T08:23:20.644Z"
   },
   {
    "duration": 4,
    "start_time": "2021-07-14T08:23:23.766Z"
   },
   {
    "duration": 41170,
    "start_time": "2021-07-14T08:23:45.276Z"
   },
   {
    "duration": 10065,
    "start_time": "2021-07-14T08:24:29.954Z"
   },
   {
    "duration": 1492,
    "start_time": "2021-07-14T08:24:55.280Z"
   },
   {
    "duration": 1248,
    "start_time": "2021-07-14T08:24:56.776Z"
   },
   {
    "duration": 39,
    "start_time": "2021-07-14T08:24:58.027Z"
   },
   {
    "duration": 192,
    "start_time": "2021-07-14T08:24:58.069Z"
   },
   {
    "duration": 11,
    "start_time": "2021-07-14T08:24:59.230Z"
   },
   {
    "duration": 76,
    "start_time": "2021-07-14T08:24:59.969Z"
   },
   {
    "duration": 6,
    "start_time": "2021-07-14T08:25:00.356Z"
   },
   {
    "duration": 42,
    "start_time": "2021-07-14T08:25:00.747Z"
   },
   {
    "duration": 1497,
    "start_time": "2021-07-14T08:25:01.022Z"
   },
   {
    "duration": 1913,
    "start_time": "2021-07-14T08:25:02.522Z"
   },
   {
    "duration": 7,
    "start_time": "2021-07-14T08:25:04.437Z"
   },
   {
    "duration": 3,
    "start_time": "2021-07-14T08:25:04.446Z"
   },
   {
    "duration": 10,
    "start_time": "2021-07-14T08:25:04.452Z"
   },
   {
    "duration": 4,
    "start_time": "2021-07-14T08:25:13.717Z"
   },
   {
    "duration": 95174,
    "start_time": "2021-07-14T08:25:17.392Z"
   },
   {
    "duration": 1877,
    "start_time": "2021-07-14T08:27:02.081Z"
   },
   {
    "duration": 6,
    "start_time": "2021-07-14T08:27:04.449Z"
   },
   {
    "duration": 5,
    "start_time": "2021-07-14T08:27:06.452Z"
   },
   {
    "duration": 667524,
    "start_time": "2021-07-14T08:27:08.241Z"
   },
   {
    "duration": 215372,
    "start_time": "2021-07-14T08:38:15.767Z"
   },
   {
    "duration": 7,
    "start_time": "2021-07-14T08:42:15.896Z"
   },
   {
    "duration": 7,
    "start_time": "2021-07-14T08:42:36.683Z"
   },
   {
    "duration": 26,
    "start_time": "2021-07-14T08:48:26.160Z"
   },
   {
    "duration": 3,
    "start_time": "2021-07-14T08:50:13.832Z"
   },
   {
    "duration": 55759,
    "start_time": "2021-07-14T08:50:14.498Z"
   },
   {
    "duration": 118078,
    "start_time": "2021-07-14T08:51:19.517Z"
   },
   {
    "duration": 117496,
    "start_time": "2021-07-14T08:53:44.415Z"
   },
   {
    "duration": 285,
    "start_time": "2021-07-14T08:56:52.489Z"
   },
   {
    "duration": 5,
    "start_time": "2021-07-14T08:57:27.911Z"
   },
   {
    "duration": 4,
    "start_time": "2021-07-14T08:57:28.816Z"
   },
   {
    "duration": 389336,
    "start_time": "2021-07-14T08:58:43.169Z"
   },
   {
    "duration": 28856,
    "start_time": "2021-07-14T09:05:27.558Z"
   },
   {
    "duration": 662758,
    "start_time": "2021-07-14T09:05:58.374Z"
   },
   {
    "duration": 787809,
    "start_time": "2021-07-14T09:27:45.057Z"
   },
   {
    "duration": 65,
    "start_time": "2021-07-14T09:41:17.972Z"
   },
   {
    "duration": 373,
    "start_time": "2021-07-14T09:45:21.793Z"
   },
   {
    "duration": 6,
    "start_time": "2021-07-14T09:45:32.992Z"
   },
   {
    "duration": 4,
    "start_time": "2021-07-14T09:45:41.589Z"
   },
   {
    "duration": 68,
    "start_time": "2021-07-14T09:46:50.926Z"
   },
   {
    "duration": 4,
    "start_time": "2021-07-14T09:47:55.434Z"
   },
   {
    "duration": 116198,
    "start_time": "2021-07-14T09:47:57.576Z"
   },
   {
    "duration": 371,
    "start_time": "2021-07-14T09:50:53.691Z"
   },
   {
    "duration": 4,
    "start_time": "2021-07-14T09:50:54.133Z"
   },
   {
    "duration": 5,
    "start_time": "2021-07-14T09:50:54.840Z"
   },
   {
    "duration": 7,
    "start_time": "2021-07-14T10:18:12.657Z"
   },
   {
    "duration": 1084,
    "start_time": "2021-07-14T10:18:12.667Z"
   },
   {
    "duration": 19,
    "start_time": "2021-07-14T10:18:13.756Z"
   },
   {
    "duration": 167,
    "start_time": "2021-07-14T10:18:13.778Z"
   },
   {
    "duration": 13,
    "start_time": "2021-07-14T10:18:13.947Z"
   },
   {
    "duration": 56,
    "start_time": "2021-07-14T10:18:13.963Z"
   },
   {
    "duration": 4,
    "start_time": "2021-07-14T10:18:14.021Z"
   },
   {
    "duration": 55,
    "start_time": "2021-07-14T10:18:14.027Z"
   },
   {
    "duration": 1230,
    "start_time": "2021-07-14T10:18:14.088Z"
   },
   {
    "duration": 1765,
    "start_time": "2021-07-14T10:18:15.322Z"
   },
   {
    "duration": 7,
    "start_time": "2021-07-14T10:18:17.090Z"
   },
   {
    "duration": 7,
    "start_time": "2021-07-14T10:18:17.100Z"
   },
   {
    "duration": 9,
    "start_time": "2021-07-14T10:18:17.109Z"
   },
   {
    "duration": 38248,
    "start_time": "2021-07-14T10:18:17.121Z"
   },
   {
    "duration": 851,
    "start_time": "2021-07-14T10:18:55.372Z"
   },
   {
    "duration": 4,
    "start_time": "2021-07-14T10:18:56.226Z"
   },
   {
    "duration": 24,
    "start_time": "2021-07-14T10:18:56.232Z"
   },
   {
    "duration": 21680,
    "start_time": "2021-07-14T10:18:56.259Z"
   },
   {
    "duration": 382,
    "start_time": "2021-07-14T10:19:17.942Z"
   },
   {
    "duration": 7,
    "start_time": "2021-07-14T10:19:18.327Z"
   },
   {
    "duration": 67865,
    "start_time": "2021-07-14T10:19:18.337Z"
   },
   {
    "duration": 496,
    "start_time": "2021-07-14T10:20:26.205Z"
   },
   {
    "duration": 5,
    "start_time": "2021-07-14T10:20:26.704Z"
   },
   {
    "duration": 187734,
    "start_time": "2021-07-14T10:20:26.712Z"
   },
   {
    "duration": 3294,
    "start_time": "2021-07-14T10:23:34.448Z"
   },
   {
    "duration": 14,
    "start_time": "2021-07-14T10:23:37.744Z"
   },
   {
    "duration": 8,
    "start_time": "2021-07-14T10:23:37.764Z"
   },
   {
    "duration": 78888,
    "start_time": "2021-07-14T10:23:37.775Z"
   },
   {
    "duration": 1805,
    "start_time": "2021-07-14T10:24:56.665Z"
   },
   {
    "duration": 5,
    "start_time": "2021-07-14T10:24:58.473Z"
   },
   {
    "duration": 12,
    "start_time": "2021-07-14T10:24:58.481Z"
   },
   {
    "duration": 60676,
    "start_time": "2021-07-14T10:24:58.496Z"
   },
   {
    "duration": 3,
    "start_time": "2021-07-14T10:25:59.175Z"
   },
   {
    "duration": 121394,
    "start_time": "2021-07-14T10:25:59.181Z"
   },
   {
    "duration": 301,
    "start_time": "2021-07-14T10:28:00.578Z"
   },
   {
    "duration": 5,
    "start_time": "2021-07-14T10:28:00.882Z"
   },
   {
    "duration": 13,
    "start_time": "2021-07-14T10:28:00.889Z"
   },
   {
    "duration": 799155,
    "start_time": "2021-07-14T10:28:00.955Z"
   },
   {
    "duration": 4,
    "start_time": "2021-07-14T10:41:20.112Z"
   },
   {
    "duration": 117251,
    "start_time": "2021-07-14T10:41:20.118Z"
   },
   {
    "duration": 391,
    "start_time": "2021-07-14T10:43:17.371Z"
   },
   {
    "duration": 5,
    "start_time": "2021-07-14T10:43:17.765Z"
   },
   {
    "duration": 12,
    "start_time": "2021-07-14T10:43:17.772Z"
   },
   {
    "duration": 1014,
    "start_time": "2021-07-15T12:10:33.151Z"
   },
   {
    "duration": 726,
    "start_time": "2021-07-15T12:10:36.277Z"
   },
   {
    "duration": 18,
    "start_time": "2021-07-15T12:10:37.005Z"
   },
   {
    "duration": 112,
    "start_time": "2021-07-15T12:10:37.476Z"
   },
   {
    "duration": 7,
    "start_time": "2021-07-15T12:10:41.255Z"
   },
   {
    "duration": 49,
    "start_time": "2021-07-15T12:10:42.848Z"
   },
   {
    "duration": 2,
    "start_time": "2021-07-15T12:10:44.206Z"
   },
   {
    "duration": 24,
    "start_time": "2021-07-15T12:10:44.663Z"
   },
   {
    "duration": 731,
    "start_time": "2021-07-15T12:10:46.119Z"
   },
   {
    "duration": 1227,
    "start_time": "2021-07-15T12:10:46.852Z"
   },
   {
    "duration": 3,
    "start_time": "2021-07-15T12:10:48.081Z"
   },
   {
    "duration": 5,
    "start_time": "2021-07-15T12:10:48.086Z"
   },
   {
    "duration": 4,
    "start_time": "2021-07-15T12:10:48.234Z"
   },
   {
    "duration": 4,
    "start_time": "2021-07-15T12:16:26.324Z"
   },
   {
    "duration": 673,
    "start_time": "2021-07-15T12:16:26.330Z"
   },
   {
    "duration": 12,
    "start_time": "2021-07-15T12:16:27.005Z"
   },
   {
    "duration": 115,
    "start_time": "2021-07-15T12:16:27.019Z"
   },
   {
    "duration": 5,
    "start_time": "2021-07-15T12:16:27.136Z"
   },
   {
    "duration": 51,
    "start_time": "2021-07-15T12:16:27.143Z"
   },
   {
    "duration": 3,
    "start_time": "2021-07-15T12:16:27.195Z"
   },
   {
    "duration": 23,
    "start_time": "2021-07-15T12:16:27.200Z"
   },
   {
    "duration": 810,
    "start_time": "2021-07-15T12:16:27.225Z"
   },
   {
    "duration": 1206,
    "start_time": "2021-07-15T12:16:28.037Z"
   },
   {
    "duration": 4,
    "start_time": "2021-07-15T12:16:29.244Z"
   },
   {
    "duration": 5,
    "start_time": "2021-07-15T12:16:29.249Z"
   },
   {
    "duration": 6,
    "start_time": "2021-07-15T12:16:29.255Z"
   },
   {
    "duration": 49127,
    "start_time": "2021-07-15T12:16:29.263Z"
   },
   {
    "duration": 911,
    "start_time": "2021-07-15T12:17:18.392Z"
   },
   {
    "duration": 5,
    "start_time": "2021-07-15T12:17:19.305Z"
   },
   {
    "duration": 5,
    "start_time": "2021-07-15T12:17:19.311Z"
   },
   {
    "duration": 22159,
    "start_time": "2021-07-15T12:17:19.318Z"
   },
   {
    "duration": 233,
    "start_time": "2021-07-15T12:17:41.478Z"
   },
   {
    "duration": 4,
    "start_time": "2021-07-15T12:17:41.713Z"
   },
   {
    "duration": 46523,
    "start_time": "2021-07-15T12:17:41.718Z"
   },
   {
    "duration": 467,
    "start_time": "2021-07-15T12:18:28.242Z"
   },
   {
    "duration": 4,
    "start_time": "2021-07-15T12:18:28.711Z"
   },
   {
    "duration": 156915,
    "start_time": "2021-07-15T12:18:28.717Z"
   },
   {
    "duration": 3032,
    "start_time": "2021-07-15T12:21:05.634Z"
   },
   {
    "duration": 4,
    "start_time": "2021-07-15T12:21:08.668Z"
   },
   {
    "duration": 5,
    "start_time": "2021-07-15T12:21:08.673Z"
   },
   {
    "duration": 107518,
    "start_time": "2021-07-15T12:21:08.680Z"
   },
   {
    "duration": 1194,
    "start_time": "2021-07-15T12:22:56.200Z"
   },
   {
    "duration": 4,
    "start_time": "2021-07-15T12:22:57.396Z"
   },
   {
    "duration": 5,
    "start_time": "2021-07-15T12:22:57.402Z"
   },
   {
    "duration": 501688,
    "start_time": "2021-07-15T12:22:57.408Z"
   },
   {
    "duration": 2,
    "start_time": "2021-07-15T12:31:19.099Z"
   },
   {
    "duration": 77228,
    "start_time": "2021-07-15T12:31:19.104Z"
   },
   {
    "duration": 172,
    "start_time": "2021-07-15T12:32:36.333Z"
   },
   {
    "duration": 4,
    "start_time": "2021-07-15T12:32:36.506Z"
   },
   {
    "duration": 8,
    "start_time": "2021-07-15T12:32:36.511Z"
   },
   {
    "duration": 90725,
    "start_time": "2021-07-15T12:32:36.520Z"
   },
   {
    "duration": 3,
    "start_time": "2021-07-15T12:34:07.246Z"
   },
   {
    "duration": 9,
    "start_time": "2021-07-15T12:34:31.743Z"
   },
   {
    "duration": 260,
    "start_time": "2021-07-15T12:34:34.686Z"
   },
   {
    "duration": 1063,
    "start_time": "2021-07-15T12:34:59.813Z"
   },
   {
    "duration": 690,
    "start_time": "2021-07-15T12:35:00.877Z"
   },
   {
    "duration": 13,
    "start_time": "2021-07-15T12:35:01.569Z"
   },
   {
    "duration": 111,
    "start_time": "2021-07-15T12:35:01.591Z"
   },
   {
    "duration": 6,
    "start_time": "2021-07-15T12:35:01.703Z"
   },
   {
    "duration": 47,
    "start_time": "2021-07-15T12:35:01.710Z"
   },
   {
    "duration": 3,
    "start_time": "2021-07-15T12:35:01.759Z"
   },
   {
    "duration": 42,
    "start_time": "2021-07-15T12:35:01.763Z"
   },
   {
    "duration": 747,
    "start_time": "2021-07-15T12:35:01.808Z"
   },
   {
    "duration": 1184,
    "start_time": "2021-07-15T12:35:02.557Z"
   },
   {
    "duration": 4,
    "start_time": "2021-07-15T12:35:03.743Z"
   },
   {
    "duration": 9,
    "start_time": "2021-07-15T12:35:03.748Z"
   },
   {
    "duration": 10,
    "start_time": "2021-07-15T12:35:03.759Z"
   },
   {
    "duration": 30305,
    "start_time": "2021-07-15T12:35:03.770Z"
   },
   {
    "duration": 697,
    "start_time": "2021-07-15T12:35:34.077Z"
   },
   {
    "duration": 3,
    "start_time": "2021-07-15T12:35:34.776Z"
   },
   {
    "duration": 12,
    "start_time": "2021-07-15T12:35:34.781Z"
   },
   {
    "duration": 19632,
    "start_time": "2021-07-15T12:35:34.795Z"
   },
   {
    "duration": 235,
    "start_time": "2021-07-15T12:35:54.429Z"
   },
   {
    "duration": 4,
    "start_time": "2021-07-15T12:35:54.666Z"
   },
   {
    "duration": 45902,
    "start_time": "2021-07-15T12:35:54.672Z"
   },
   {
    "duration": 366,
    "start_time": "2021-07-15T12:36:40.575Z"
   },
   {
    "duration": 4,
    "start_time": "2021-07-15T12:36:40.943Z"
   },
   {
    "duration": 152011,
    "start_time": "2021-07-15T12:36:40.949Z"
   },
   {
    "duration": 2843,
    "start_time": "2021-07-15T12:39:12.962Z"
   },
   {
    "duration": 5,
    "start_time": "2021-07-15T12:39:15.807Z"
   },
   {
    "duration": 9,
    "start_time": "2021-07-15T12:39:15.816Z"
   },
   {
    "duration": 31270,
    "start_time": "2021-07-15T12:39:15.827Z"
   },
   {
    "duration": 1197,
    "start_time": "2021-07-15T12:39:47.098Z"
   },
   {
    "duration": 6,
    "start_time": "2021-07-15T12:39:48.297Z"
   },
   {
    "duration": 6,
    "start_time": "2021-07-15T12:39:48.304Z"
   },
   {
    "duration": 46586,
    "start_time": "2021-07-15T12:39:48.311Z"
   },
   {
    "duration": 3,
    "start_time": "2021-07-15T12:40:34.899Z"
   },
   {
    "duration": 78466,
    "start_time": "2021-07-15T12:40:34.904Z"
   },
   {
    "duration": 141,
    "start_time": "2021-07-15T12:41:53.372Z"
   },
   {
    "duration": 3,
    "start_time": "2021-07-15T12:41:53.515Z"
   },
   {
    "duration": 75,
    "start_time": "2021-07-15T12:41:53.520Z"
   },
   {
    "duration": 7,
    "start_time": "2021-07-15T12:41:53.597Z"
   },
   {
    "duration": 4,
    "start_time": "2021-07-15T12:41:53.606Z"
   },
   {
    "duration": 77104,
    "start_time": "2021-07-15T12:41:53.612Z"
   },
   {
    "duration": 191,
    "start_time": "2021-07-15T12:43:10.718Z"
   },
   {
    "duration": 3,
    "start_time": "2021-07-15T12:43:10.911Z"
   },
   {
    "duration": 2,
    "start_time": "2021-07-15T12:43:10.992Z"
   },
   {
    "duration": 154084,
    "start_time": "2021-07-15T13:37:06.851Z"
   },
   {
    "duration": 2832,
    "start_time": "2021-07-15T13:45:04.654Z"
   },
   {
    "duration": 2806,
    "start_time": "2021-07-15T13:45:12.613Z"
   },
   {
    "duration": 4,
    "start_time": "2021-07-15T13:45:51.762Z"
   },
   {
    "duration": 18653,
    "start_time": "2021-07-15T13:46:06.855Z"
   },
   {
    "duration": 194,
    "start_time": "2021-07-15T13:46:41.660Z"
   },
   {
    "duration": 31285,
    "start_time": "2021-07-15T13:47:11.924Z"
   },
   {
    "duration": 3073,
    "start_time": "2021-07-15T13:47:46.129Z"
   },
   {
    "duration": 5,
    "start_time": "2021-07-15T13:47:50.219Z"
   },
   {
    "duration": 81093,
    "start_time": "2021-07-15T13:48:22.593Z"
   },
   {
    "duration": 79555,
    "start_time": "2021-07-15T13:50:05.039Z"
   },
   {
    "duration": 146,
    "start_time": "2021-07-15T13:52:03.264Z"
   },
   {
    "duration": 5,
    "start_time": "2021-07-15T13:52:04.875Z"
   },
   {
    "duration": 1427,
    "start_time": "2021-07-15T16:28:36.558Z"
   },
   {
    "duration": 1210,
    "start_time": "2021-07-15T16:28:39.113Z"
   },
   {
    "duration": 35,
    "start_time": "2021-07-15T16:28:40.326Z"
   },
   {
    "duration": 154,
    "start_time": "2021-07-15T16:28:44.171Z"
   },
   {
    "duration": 17,
    "start_time": "2021-07-15T16:29:04.247Z"
   },
   {
    "duration": 11,
    "start_time": "2021-07-15T16:47:59.728Z"
   },
   {
    "duration": 76,
    "start_time": "2021-07-15T16:48:01.389Z"
   },
   {
    "duration": 4,
    "start_time": "2021-07-15T16:48:11.210Z"
   },
   {
    "duration": 61,
    "start_time": "2021-07-15T16:48:22.377Z"
   },
   {
    "duration": 100,
    "start_time": "2021-07-15T16:48:38.520Z"
   },
   {
    "duration": 139,
    "start_time": "2021-07-15T16:48:41.900Z"
   },
   {
    "duration": 6,
    "start_time": "2021-07-15T16:49:10.835Z"
   },
   {
    "duration": 62,
    "start_time": "2021-07-15T16:50:19.428Z"
   },
   {
    "duration": 8,
    "start_time": "2021-07-15T16:50:34.461Z"
   },
   {
    "duration": 401,
    "start_time": "2021-07-15T16:57:05.240Z"
   },
   {
    "duration": 278,
    "start_time": "2021-07-15T17:08:01.246Z"
   },
   {
    "duration": 27,
    "start_time": "2021-07-15T17:09:00.172Z"
   },
   {
    "duration": 24,
    "start_time": "2021-07-15T17:09:59.080Z"
   },
   {
    "duration": 134,
    "start_time": "2021-07-15T17:10:08.031Z"
   },
   {
    "duration": 308,
    "start_time": "2021-07-15T17:14:18.470Z"
   },
   {
    "duration": 200,
    "start_time": "2021-07-15T17:14:27.463Z"
   },
   {
    "duration": 127,
    "start_time": "2021-07-15T17:14:45.400Z"
   },
   {
    "duration": 6,
    "start_time": "2021-07-15T17:15:07.044Z"
   },
   {
    "duration": 162,
    "start_time": "2021-07-15T17:17:32.996Z"
   },
   {
    "duration": 445,
    "start_time": "2021-07-15T17:17:40.486Z"
   },
   {
    "duration": 160,
    "start_time": "2021-07-15T17:17:47.740Z"
   },
   {
    "duration": 326,
    "start_time": "2021-07-15T17:18:01.158Z"
   },
   {
    "duration": 6,
    "start_time": "2021-07-15T17:18:14.902Z"
   },
   {
    "duration": 41,
    "start_time": "2021-07-15T17:18:23.402Z"
   },
   {
    "duration": 332,
    "start_time": "2021-07-15T17:18:40.435Z"
   },
   {
    "duration": 35,
    "start_time": "2021-07-15T17:18:41.232Z"
   },
   {
    "duration": 127,
    "start_time": "2021-07-15T17:18:45.318Z"
   },
   {
    "duration": 50,
    "start_time": "2021-07-15T17:19:03.147Z"
   },
   {
    "duration": 443,
    "start_time": "2021-07-15T17:19:59.371Z"
   },
   {
    "duration": 35,
    "start_time": "2021-07-15T17:20:00.352Z"
   },
   {
    "duration": 35,
    "start_time": "2021-07-15T17:20:08.437Z"
   },
   {
    "duration": 128,
    "start_time": "2021-07-15T17:20:11.822Z"
   },
   {
    "duration": 50,
    "start_time": "2021-07-15T17:20:13.028Z"
   },
   {
    "duration": 312,
    "start_time": "2021-07-15T17:20:41.479Z"
   },
   {
    "duration": 41,
    "start_time": "2021-07-15T17:20:42.307Z"
   },
   {
    "duration": 5,
    "start_time": "2021-07-15T17:20:44.709Z"
   },
   {
    "duration": 137,
    "start_time": "2021-07-15T17:20:45.118Z"
   },
   {
    "duration": 49,
    "start_time": "2021-07-15T17:20:46.015Z"
   },
   {
    "duration": 333,
    "start_time": "2021-07-15T17:20:51.960Z"
   },
   {
    "duration": 41,
    "start_time": "2021-07-15T17:20:52.702Z"
   },
   {
    "duration": 5,
    "start_time": "2021-07-15T17:20:53.123Z"
   },
   {
    "duration": 133,
    "start_time": "2021-07-15T17:20:53.485Z"
   },
   {
    "duration": 52,
    "start_time": "2021-07-15T17:20:54.676Z"
   },
   {
    "duration": 332,
    "start_time": "2021-07-15T17:21:35.398Z"
   },
   {
    "duration": 451,
    "start_time": "2021-07-15T17:21:41.481Z"
   },
   {
    "duration": 41,
    "start_time": "2021-07-15T17:21:42.768Z"
   },
   {
    "duration": 206,
    "start_time": "2021-07-15T17:22:02.363Z"
   },
   {
    "duration": 32,
    "start_time": "2021-07-15T17:22:03.080Z"
   },
   {
    "duration": 5,
    "start_time": "2021-07-15T17:22:47.048Z"
   },
   {
    "duration": 5,
    "start_time": "2021-07-15T17:22:58.381Z"
   },
   {
    "duration": 107,
    "start_time": "2021-07-15T17:23:57.556Z"
   },
   {
    "duration": 117,
    "start_time": "2021-07-15T17:24:46.653Z"
   },
   {
    "duration": 1540,
    "start_time": "2021-07-16T10:35:43.985Z"
   },
   {
    "duration": 1193,
    "start_time": "2021-07-16T10:35:46.505Z"
   },
   {
    "duration": 35,
    "start_time": "2021-07-16T10:35:47.701Z"
   },
   {
    "duration": 158,
    "start_time": "2021-07-16T10:35:48.554Z"
   },
   {
    "duration": 8,
    "start_time": "2021-07-16T10:35:50.647Z"
   },
   {
    "duration": 72,
    "start_time": "2021-07-16T10:35:51.708Z"
   },
   {
    "duration": 3,
    "start_time": "2021-07-16T10:35:52.833Z"
   },
   {
    "duration": 5,
    "start_time": "2021-07-16T10:35:55.619Z"
   },
   {
    "duration": 140,
    "start_time": "2021-07-16T10:35:56.680Z"
   },
   {
    "duration": 23,
    "start_time": "2021-07-16T10:35:58.865Z"
   },
   {
    "duration": 227,
    "start_time": "2021-07-16T10:35:59.962Z"
   },
   {
    "duration": 38,
    "start_time": "2021-07-16T10:36:00.420Z"
   },
   {
    "duration": 5,
    "start_time": "2021-07-16T10:36:01.142Z"
   },
   {
    "duration": 102,
    "start_time": "2021-07-16T10:36:02.940Z"
   },
   {
    "duration": 23,
    "start_time": "2021-07-16T10:36:04.969Z"
   },
   {
    "duration": 1063,
    "start_time": "2021-07-16T10:36:06.070Z"
   },
   {
    "duration": 1660,
    "start_time": "2021-07-16T10:36:07.136Z"
   },
   {
    "duration": 6,
    "start_time": "2021-07-16T10:36:17.851Z"
   },
   {
    "duration": 4,
    "start_time": "2021-07-16T10:36:20.927Z"
   },
   {
    "duration": 7,
    "start_time": "2021-07-16T10:36:22.079Z"
   },
   {
    "duration": 6,
    "start_time": "2021-07-16T10:47:47.548Z"
   },
   {
    "duration": 483,
    "start_time": "2021-07-16T10:47:50.010Z"
   },
   {
    "duration": 324160,
    "start_time": "2021-07-16T10:48:09.415Z"
   },
   {
    "duration": 338927,
    "start_time": "2021-07-16T10:55:55.155Z"
   },
   {
    "duration": 4,
    "start_time": "2021-07-16T11:12:02.740Z"
   },
   {
    "duration": 4073242,
    "start_time": "2021-07-16T11:12:04.125Z"
   },
   {
    "duration": 6,
    "start_time": "2021-07-16T12:26:39.202Z"
   },
   {
    "duration": 5,
    "start_time": "2021-07-16T12:27:19.267Z"
   },
   {
    "duration": 2067,
    "start_time": "2021-07-16T12:27:41.788Z"
   },
   {
    "duration": 2074,
    "start_time": "2021-07-16T12:27:58.727Z"
   },
   {
    "duration": 2075,
    "start_time": "2021-07-16T12:28:03.064Z"
   },
   {
    "duration": 2065,
    "start_time": "2021-07-16T12:28:07.381Z"
   },
   {
    "duration": 1096,
    "start_time": "2021-07-17T11:53:34.031Z"
   },
   {
    "duration": 805,
    "start_time": "2021-07-17T11:53:36.415Z"
   },
   {
    "duration": 26,
    "start_time": "2021-07-17T11:53:37.221Z"
   },
   {
    "duration": 116,
    "start_time": "2021-07-17T11:53:37.466Z"
   },
   {
    "duration": 6,
    "start_time": "2021-07-17T11:53:39.229Z"
   },
   {
    "duration": 48,
    "start_time": "2021-07-17T11:53:40.063Z"
   },
   {
    "duration": 3,
    "start_time": "2021-07-17T11:53:41.289Z"
   },
   {
    "duration": 4,
    "start_time": "2021-07-17T11:53:46.066Z"
   },
   {
    "duration": 103,
    "start_time": "2021-07-17T11:53:46.408Z"
   },
   {
    "duration": 21,
    "start_time": "2021-07-17T11:53:47.842Z"
   },
   {
    "duration": 164,
    "start_time": "2021-07-17T11:53:48.344Z"
   },
   {
    "duration": 23,
    "start_time": "2021-07-17T11:53:48.651Z"
   },
   {
    "duration": 5,
    "start_time": "2021-07-17T11:53:49.033Z"
   },
   {
    "duration": 75,
    "start_time": "2021-07-17T11:53:50.888Z"
   },
   {
    "duration": 14,
    "start_time": "2021-07-17T11:53:54.055Z"
   },
   {
    "duration": 506,
    "start_time": "2021-07-17T11:53:54.660Z"
   },
   {
    "duration": 1004,
    "start_time": "2021-07-17T11:53:55.168Z"
   },
   {
    "duration": 4,
    "start_time": "2021-07-17T11:53:58.471Z"
   },
   {
    "duration": 3,
    "start_time": "2021-07-17T11:54:05.147Z"
   },
   {
    "duration": 5,
    "start_time": "2021-07-17T11:54:05.966Z"
   },
   {
    "duration": 4,
    "start_time": "2021-07-17T11:54:23.260Z"
   },
   {
    "duration": 25,
    "start_time": "2021-07-17T11:59:23.144Z"
   },
   {
    "duration": 5,
    "start_time": "2021-07-17T11:59:59.908Z"
   },
   {
    "duration": 18,
    "start_time": "2021-07-17T12:06:22.033Z"
   },
   {
    "duration": 37,
    "start_time": "2021-07-17T12:06:29.829Z"
   },
   {
    "duration": 73,
    "start_time": "2021-07-17T12:06:33.617Z"
   },
   {
    "duration": 100,
    "start_time": "2021-07-17T12:08:35.136Z"
   },
   {
    "duration": 17,
    "start_time": "2021-07-17T12:08:43.563Z"
   },
   {
    "duration": 57,
    "start_time": "2021-07-17T12:08:48.063Z"
   },
   {
    "duration": 363,
    "start_time": "2021-07-17T12:10:08.533Z"
   },
   {
    "duration": 263,
    "start_time": "2021-07-17T12:10:17.249Z"
   },
   {
    "duration": 157,
    "start_time": "2021-07-17T12:10:58.993Z"
   },
   {
    "duration": 12,
    "start_time": "2021-07-17T12:11:08.734Z"
   },
   {
    "duration": 9,
    "start_time": "2021-07-17T12:11:22.629Z"
   },
   {
    "duration": 8,
    "start_time": "2021-07-17T12:11:35.868Z"
   },
   {
    "duration": 2,
    "start_time": "2021-07-17T12:12:17.772Z"
   },
   {
    "duration": 8,
    "start_time": "2021-07-17T12:12:33.037Z"
   },
   {
    "duration": 11,
    "start_time": "2021-07-17T12:12:36.860Z"
   },
   {
    "duration": 3,
    "start_time": "2021-07-17T12:13:35.087Z"
   },
   {
    "duration": 58,
    "start_time": "2021-07-17T12:16:29.492Z"
   },
   {
    "duration": 2,
    "start_time": "2021-07-17T12:16:33.681Z"
   },
   {
    "duration": 4,
    "start_time": "2021-07-17T12:17:25.438Z"
   },
   {
    "duration": 17,
    "start_time": "2021-07-17T12:17:53.283Z"
   },
   {
    "duration": 3,
    "start_time": "2021-07-17T12:19:26.212Z"
   },
   {
    "duration": 490798,
    "start_time": "2021-07-17T12:19:39.651Z"
   },
   {
    "duration": 359396,
    "start_time": "2021-07-17T12:29:37.253Z"
   },
   {
    "duration": 190,
    "start_time": "2021-07-17T12:37:42.562Z"
   },
   {
    "duration": 3034,
    "start_time": "2021-07-17T12:37:59.307Z"
   },
   {
    "duration": 4,
    "start_time": "2021-07-17T12:38:42.479Z"
   },
   {
    "duration": 277,
    "start_time": "2021-07-17T12:38:43.334Z"
   },
   {
    "duration": 3,
    "start_time": "2021-07-17T12:38:48.623Z"
   },
   {
    "duration": 16,
    "start_time": "2021-07-17T12:43:05.553Z"
   },
   {
    "duration": 222246,
    "start_time": "2021-07-17T12:45:44.847Z"
   },
   {
    "duration": 725,
    "start_time": "2021-07-17T12:49:49.952Z"
   },
   {
    "duration": 4,
    "start_time": "2021-07-17T12:49:55.462Z"
   },
   {
    "duration": 3,
    "start_time": "2021-07-17T12:49:58.291Z"
   },
   {
    "duration": 125796,
    "start_time": "2021-07-17T12:53:08.935Z"
   },
   {
    "duration": 1576,
    "start_time": "2021-07-17T12:55:31.443Z"
   },
   {
    "duration": 5,
    "start_time": "2021-07-17T12:55:35.283Z"
   },
   {
    "duration": 92,
    "start_time": "2021-07-17T13:05:01.380Z"
   },
   {
    "duration": 104,
    "start_time": "2021-07-17T13:05:28.560Z"
   },
   {
    "duration": 90,
    "start_time": "2021-07-17T13:05:42.750Z"
   },
   {
    "duration": 6,
    "start_time": "2021-07-17T13:05:59.427Z"
   },
   {
    "duration": 14,
    "start_time": "2021-07-17T13:06:04.892Z"
   },
   {
    "duration": 92,
    "start_time": "2021-07-17T13:06:16.746Z"
   },
   {
    "duration": 97,
    "start_time": "2021-07-17T13:06:35.618Z"
   },
   {
    "duration": 9,
    "start_time": "2021-07-17T13:06:42.183Z"
   },
   {
    "duration": 9,
    "start_time": "2021-07-17T13:07:00.758Z"
   },
   {
    "duration": 152,
    "start_time": "2021-07-17T13:07:57.384Z"
   },
   {
    "duration": 9,
    "start_time": "2021-07-17T13:08:12.223Z"
   },
   {
    "duration": 9,
    "start_time": "2021-07-17T13:09:28.625Z"
   },
   {
    "duration": 268,
    "start_time": "2021-07-17T13:11:49.771Z"
   },
   {
    "duration": 10,
    "start_time": "2021-07-17T13:11:57.615Z"
   },
   {
    "duration": 83,
    "start_time": "2021-07-17T13:12:16.512Z"
   },
   {
    "duration": 32,
    "start_time": "2021-07-17T13:12:49.529Z"
   },
   {
    "duration": 279,
    "start_time": "2021-07-17T13:12:56.039Z"
   },
   {
    "duration": 29,
    "start_time": "2021-07-17T13:13:06.170Z"
   },
   {
    "duration": 682,
    "start_time": "2021-07-17T13:13:54.202Z"
   },
   {
    "duration": 12,
    "start_time": "2021-07-17T13:14:06.269Z"
   },
   {
    "duration": 8,
    "start_time": "2021-07-17T13:14:29.476Z"
   },
   {
    "duration": 97,
    "start_time": "2021-07-17T13:14:33.812Z"
   },
   {
    "duration": 8,
    "start_time": "2021-07-17T13:14:39.599Z"
   },
   {
    "duration": 8,
    "start_time": "2021-07-17T13:14:47.482Z"
   },
   {
    "duration": 91,
    "start_time": "2021-07-17T13:15:01.028Z"
   },
   {
    "duration": 8,
    "start_time": "2021-07-17T13:15:11.127Z"
   },
   {
    "duration": 8,
    "start_time": "2021-07-17T13:15:37.545Z"
   },
   {
    "duration": 8,
    "start_time": "2021-07-17T13:16:33.180Z"
   },
   {
    "duration": 9,
    "start_time": "2021-07-17T13:16:47.826Z"
   },
   {
    "duration": 8,
    "start_time": "2021-07-17T13:17:41.580Z"
   },
   {
    "duration": 115,
    "start_time": "2021-07-17T13:18:45.239Z"
   },
   {
    "duration": 268,
    "start_time": "2021-07-17T13:18:55.104Z"
   },
   {
    "duration": 277,
    "start_time": "2021-07-17T13:19:10.548Z"
   },
   {
    "duration": 13,
    "start_time": "2021-07-17T13:19:49.194Z"
   },
   {
    "duration": 8,
    "start_time": "2021-07-17T13:20:03.217Z"
   },
   {
    "duration": 8,
    "start_time": "2021-07-17T13:20:14.324Z"
   },
   {
    "duration": 9,
    "start_time": "2021-07-17T13:22:59.215Z"
   },
   {
    "duration": 8,
    "start_time": "2021-07-17T13:26:02.684Z"
   },
   {
    "duration": 8,
    "start_time": "2021-07-17T13:26:12.035Z"
   },
   {
    "duration": 3013,
    "start_time": "2021-07-17T13:32:02.729Z"
   },
   {
    "duration": 4,
    "start_time": "2021-07-17T13:32:07.169Z"
   },
   {
    "duration": 3,
    "start_time": "2021-07-17T13:32:08.138Z"
   },
   {
    "duration": 5,
    "start_time": "2021-07-17T13:34:34.546Z"
   },
   {
    "duration": 2,
    "start_time": "2021-07-17T13:34:38.146Z"
   },
   {
    "duration": 748,
    "start_time": "2021-07-17T13:34:43.313Z"
   },
   {
    "duration": 8,
    "start_time": "2021-07-17T13:34:46.212Z"
   },
   {
    "duration": 9,
    "start_time": "2021-07-17T13:37:58.171Z"
   },
   {
    "duration": 8,
    "start_time": "2021-07-17T13:38:21.559Z"
   },
   {
    "duration": 10,
    "start_time": "2021-07-17T13:38:32.342Z"
   },
   {
    "duration": 96,
    "start_time": "2021-07-17T13:39:32.429Z"
   },
   {
    "duration": 28,
    "start_time": "2021-07-17T13:39:45.569Z"
   },
   {
    "duration": 86,
    "start_time": "2021-07-17T13:39:50.121Z"
   },
   {
    "duration": 284,
    "start_time": "2021-07-17T13:39:56.111Z"
   },
   {
    "duration": 91,
    "start_time": "2021-07-17T13:40:11.905Z"
   },
   {
    "duration": 93,
    "start_time": "2021-07-17T13:40:23.145Z"
   },
   {
    "duration": 284,
    "start_time": "2021-07-17T13:40:26.223Z"
   },
   {
    "duration": 295,
    "start_time": "2021-07-17T13:40:49.146Z"
   },
   {
    "duration": 91,
    "start_time": "2021-07-17T13:40:53.973Z"
   },
   {
    "duration": 87,
    "start_time": "2021-07-17T13:41:00.673Z"
   },
   {
    "duration": 11,
    "start_time": "2021-07-17T13:42:33.155Z"
   },
   {
    "duration": 278,
    "start_time": "2021-07-17T13:42:54.886Z"
   },
   {
    "duration": 12,
    "start_time": "2021-07-17T13:43:03.545Z"
   },
   {
    "duration": 698,
    "start_time": "2021-07-17T13:43:15.421Z"
   },
   {
    "duration": 279,
    "start_time": "2021-07-17T13:43:27.390Z"
   },
   {
    "duration": 9,
    "start_time": "2021-07-17T13:43:59.289Z"
   },
   {
    "duration": 10,
    "start_time": "2021-07-17T13:44:49.494Z"
   },
   {
    "duration": 10,
    "start_time": "2021-07-17T13:45:26.669Z"
   },
   {
    "duration": 10,
    "start_time": "2021-07-17T13:46:16.489Z"
   },
   {
    "duration": 11,
    "start_time": "2021-07-17T13:46:33.325Z"
   },
   {
    "duration": 10,
    "start_time": "2021-07-17T13:47:18.038Z"
   },
   {
    "duration": 10,
    "start_time": "2021-07-17T13:48:11.865Z"
   },
   {
    "duration": 1404,
    "start_time": "2021-07-18T07:40:47.979Z"
   },
   {
    "duration": 1065,
    "start_time": "2021-07-18T07:40:49.385Z"
   },
   {
    "duration": 31,
    "start_time": "2021-07-18T07:40:51.162Z"
   },
   {
    "duration": 157,
    "start_time": "2021-07-18T07:40:51.654Z"
   },
   {
    "duration": 8,
    "start_time": "2021-07-18T07:40:52.970Z"
   },
   {
    "duration": 68,
    "start_time": "2021-07-18T07:40:53.463Z"
   },
   {
    "duration": 4,
    "start_time": "2021-07-18T07:40:54.217Z"
   },
   {
    "duration": 5,
    "start_time": "2021-07-18T07:40:56.027Z"
   },
   {
    "duration": 166,
    "start_time": "2021-07-18T07:40:56.339Z"
   },
   {
    "duration": 23,
    "start_time": "2021-07-18T07:40:57.191Z"
   },
   {
    "duration": 222,
    "start_time": "2021-07-18T07:40:57.775Z"
   },
   {
    "duration": 36,
    "start_time": "2021-07-18T07:40:58.047Z"
   },
   {
    "duration": 5,
    "start_time": "2021-07-18T07:40:58.544Z"
   },
   {
    "duration": 102,
    "start_time": "2021-07-18T07:40:59.880Z"
   },
   {
    "duration": 23,
    "start_time": "2021-07-18T07:41:01.949Z"
   },
   {
    "duration": 659,
    "start_time": "2021-07-18T07:41:02.663Z"
   },
   {
    "duration": 1171,
    "start_time": "2021-07-18T07:41:03.324Z"
   },
   {
    "duration": 6,
    "start_time": "2021-07-18T07:41:09.412Z"
   },
   {
    "duration": 4,
    "start_time": "2021-07-18T07:41:15.475Z"
   },
   {
    "duration": 6,
    "start_time": "2021-07-18T07:41:15.942Z"
   }
  ],
  "kernelspec": {
   "display_name": "Python 3",
   "language": "python",
   "name": "python3"
  },
  "language_info": {
   "codemirror_mode": {
    "name": "ipython",
    "version": 3
   },
   "file_extension": ".py",
   "mimetype": "text/x-python",
   "name": "python",
   "nbconvert_exporter": "python",
   "pygments_lexer": "ipython3",
   "version": "3.8.5"
  },
  "toc": {
   "base_numbering": 1,
   "nav_menu": {},
   "number_sections": true,
   "sideBar": true,
   "skip_h1_title": true,
   "title_cell": "Оглавление",
   "title_sidebar": "Contents",
   "toc_cell": true,
   "toc_position": {
    "height": "calc(100% - 180px)",
    "left": "10px",
    "top": "150px",
    "width": "384px"
   },
   "toc_section_display": true,
   "toc_window_display": false
  }
 },
 "nbformat": 4,
 "nbformat_minor": 2
}
