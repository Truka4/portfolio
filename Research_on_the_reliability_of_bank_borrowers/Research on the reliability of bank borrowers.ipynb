{
 "cells": [
  {
   "cell_type": "markdown",
   "metadata": {},
   "source": [
    "<a name=\"15\"></a>"
   ]
  },
  {
   "cell_type": "markdown",
   "metadata": {},
   "source": [
    "# Исследование надёжности заёмщиков банка\n",
    "\n",
    "На основе предоставленных данных о платёжеспособности клиентов исследовать влияет ли семейное положение и количество детей клиента на факт возврата кредита в срок.\n",
    "\n",
    "Проверить следующие гипотезы:\n",
    "- Есть ли зависимость между наличием детей и возвратом кредита в срок;\n",
    "- Есть ли зависимость между семейным положением и возвратом кредита в срок;\n",
    "- Есть ли зависимость между уровнем дохода и возвратом кредита в срок;\n",
    "- Как разные цели кредита влияют на его возврат в срок.\n",
    "\n",
    "Описание данных:\n",
    "- children — количество детей в семье;\n",
    "- days_employed — общий трудовой стаж в днях;\n",
    "- dob_years — возраст клиента в годах;\n",
    "- education — уровень образования клиента;\n",
    "- education_id — идентификатор уровня образования;\n",
    "- family_status — семейное положение;\n",
    "- family_status_id — идентификатор семейного положения;\n",
    "- gender — пол клиента;\n",
    "- income_type — тип занятости;\n",
    "- debt — имел ли задолженность по возврату кредитов;\n",
    "- total_income — ежемесячный доход;\n",
    "- purpose — цель получения кредита."
   ]
  },
  {
   "cell_type": "markdown",
   "metadata": {},
   "source": [
    "# СОДЕРЖАНИЕ \n",
    "1. [Изучение предоставленной информации](#1)\n",
    "2. [Предобработка данных](#2)<br>\n",
    "2-1 [Обработка пропусков](#3)<br>\n",
    "2-2 [Замена типа данных](#4)<br>\n",
    "2-3 [Обработка дубликатов](#5)<br>\n",
    "2-4 [Лемматизация](#6)<br>\n",
    "2-5 [Категоризация данных](#7)<br>\n",
    "3. [Проверка гипотез](#8)<br>\n",
    "3-1 [Есть ли зависимость между наличием детей и возвратом кредита в срок?](#9)<br>\n",
    "3-2 [Есть ли зависимость между семейным положением и возвратом кредита в срок?](#10)<br>\n",
    "3-3 [Есть ли зависимость между уровнем дохода и возвратом кредита в срок?](#11)<br>\n",
    "3-4 [Как разные цели кредита влияют на его возврат в срок?](#12)<br>\n",
    "4. [Общий вывод](#13)<br>\n",
    "5. [Чек-лист готовности проекта](#14)<br>"
   ]
  },
  {
   "cell_type": "markdown",
   "metadata": {},
   "source": [
    "<a name=\"1\"></a>"
   ]
  },
  {
   "cell_type": "markdown",
   "metadata": {},
   "source": [
    "##  Изучение предоставленной информации [ [вверх](#15)]"
   ]
  },
  {
   "cell_type": "code",
   "execution_count": 1,
   "metadata": {},
   "outputs": [],
   "source": [
    "import pandas as pd\n",
    "\n",
    "from pymystem3 import Mystem     \n",
    "from collections import Counter\n",
    "\n",
    "import warnings\n",
    "warnings.filterwarnings(\"ignore\", category=RuntimeWarning)"
   ]
  },
  {
   "cell_type": "code",
   "execution_count": 2,
   "metadata": {},
   "outputs": [],
   "source": [
    "path = 'C:/users/v_kly'"
   ]
  },
  {
   "cell_type": "code",
   "execution_count": 3,
   "metadata": {},
   "outputs": [],
   "source": [
    "data = pd.read_csv(path + '/datasets/data.csv')  "
   ]
  },
  {
   "cell_type": "code",
   "execution_count": 4,
   "metadata": {},
   "outputs": [
    {
     "data": {
      "text/html": [
       "<div>\n",
       "<style scoped>\n",
       "    .dataframe tbody tr th:only-of-type {\n",
       "        vertical-align: middle;\n",
       "    }\n",
       "\n",
       "    .dataframe tbody tr th {\n",
       "        vertical-align: top;\n",
       "    }\n",
       "\n",
       "    .dataframe thead th {\n",
       "        text-align: right;\n",
       "    }\n",
       "</style>\n",
       "<table border=\"1\" class=\"dataframe\">\n",
       "  <thead>\n",
       "    <tr style=\"text-align: right;\">\n",
       "      <th></th>\n",
       "      <th>children</th>\n",
       "      <th>days_employed</th>\n",
       "      <th>dob_years</th>\n",
       "      <th>education</th>\n",
       "      <th>education_id</th>\n",
       "      <th>family_status</th>\n",
       "      <th>family_status_id</th>\n",
       "      <th>gender</th>\n",
       "      <th>income_type</th>\n",
       "      <th>debt</th>\n",
       "      <th>total_income</th>\n",
       "      <th>purpose</th>\n",
       "    </tr>\n",
       "  </thead>\n",
       "  <tbody>\n",
       "    <tr>\n",
       "      <th>0</th>\n",
       "      <td>1</td>\n",
       "      <td>-8437.673028</td>\n",
       "      <td>42</td>\n",
       "      <td>высшее</td>\n",
       "      <td>0</td>\n",
       "      <td>женат / замужем</td>\n",
       "      <td>0</td>\n",
       "      <td>F</td>\n",
       "      <td>сотрудник</td>\n",
       "      <td>0</td>\n",
       "      <td>253875.639453</td>\n",
       "      <td>покупка жилья</td>\n",
       "    </tr>\n",
       "    <tr>\n",
       "      <th>1</th>\n",
       "      <td>1</td>\n",
       "      <td>-4024.803754</td>\n",
       "      <td>36</td>\n",
       "      <td>среднее</td>\n",
       "      <td>1</td>\n",
       "      <td>женат / замужем</td>\n",
       "      <td>0</td>\n",
       "      <td>F</td>\n",
       "      <td>сотрудник</td>\n",
       "      <td>0</td>\n",
       "      <td>112080.014102</td>\n",
       "      <td>приобретение автомобиля</td>\n",
       "    </tr>\n",
       "    <tr>\n",
       "      <th>2</th>\n",
       "      <td>0</td>\n",
       "      <td>-5623.422610</td>\n",
       "      <td>33</td>\n",
       "      <td>Среднее</td>\n",
       "      <td>1</td>\n",
       "      <td>женат / замужем</td>\n",
       "      <td>0</td>\n",
       "      <td>M</td>\n",
       "      <td>сотрудник</td>\n",
       "      <td>0</td>\n",
       "      <td>145885.952297</td>\n",
       "      <td>покупка жилья</td>\n",
       "    </tr>\n",
       "    <tr>\n",
       "      <th>3</th>\n",
       "      <td>3</td>\n",
       "      <td>-4124.747207</td>\n",
       "      <td>32</td>\n",
       "      <td>среднее</td>\n",
       "      <td>1</td>\n",
       "      <td>женат / замужем</td>\n",
       "      <td>0</td>\n",
       "      <td>M</td>\n",
       "      <td>сотрудник</td>\n",
       "      <td>0</td>\n",
       "      <td>267628.550329</td>\n",
       "      <td>дополнительное образование</td>\n",
       "    </tr>\n",
       "    <tr>\n",
       "      <th>4</th>\n",
       "      <td>0</td>\n",
       "      <td>340266.072047</td>\n",
       "      <td>53</td>\n",
       "      <td>среднее</td>\n",
       "      <td>1</td>\n",
       "      <td>гражданский брак</td>\n",
       "      <td>1</td>\n",
       "      <td>F</td>\n",
       "      <td>пенсионер</td>\n",
       "      <td>0</td>\n",
       "      <td>158616.077870</td>\n",
       "      <td>сыграть свадьбу</td>\n",
       "    </tr>\n",
       "  </tbody>\n",
       "</table>\n",
       "</div>"
      ],
      "text/plain": [
       "   children  days_employed  dob_years education  education_id  \\\n",
       "0         1   -8437.673028         42    высшее             0   \n",
       "1         1   -4024.803754         36   среднее             1   \n",
       "2         0   -5623.422610         33   Среднее             1   \n",
       "3         3   -4124.747207         32   среднее             1   \n",
       "4         0  340266.072047         53   среднее             1   \n",
       "\n",
       "      family_status  family_status_id gender income_type  debt   total_income  \\\n",
       "0   женат / замужем                 0      F   сотрудник     0  253875.639453   \n",
       "1   женат / замужем                 0      F   сотрудник     0  112080.014102   \n",
       "2   женат / замужем                 0      M   сотрудник     0  145885.952297   \n",
       "3   женат / замужем                 0      M   сотрудник     0  267628.550329   \n",
       "4  гражданский брак                 1      F   пенсионер     0  158616.077870   \n",
       "\n",
       "                      purpose  \n",
       "0               покупка жилья  \n",
       "1     приобретение автомобиля  \n",
       "2               покупка жилья  \n",
       "3  дополнительное образование  \n",
       "4             сыграть свадьбу  "
      ]
     },
     "execution_count": 4,
     "metadata": {},
     "output_type": "execute_result"
    }
   ],
   "source": [
    "data.head()"
   ]
  },
  {
   "cell_type": "code",
   "execution_count": 5,
   "metadata": {
    "scrolled": false
   },
   "outputs": [
    {
     "name": "stdout",
     "output_type": "stream",
     "text": [
      "<class 'pandas.core.frame.DataFrame'>\n",
      "RangeIndex: 21525 entries, 0 to 21524\n",
      "Data columns (total 12 columns):\n",
      " #   Column            Non-Null Count  Dtype  \n",
      "---  ------            --------------  -----  \n",
      " 0   children          21525 non-null  int64  \n",
      " 1   days_employed     19351 non-null  float64\n",
      " 2   dob_years         21525 non-null  int64  \n",
      " 3   education         21525 non-null  object \n",
      " 4   education_id      21525 non-null  int64  \n",
      " 5   family_status     21525 non-null  object \n",
      " 6   family_status_id  21525 non-null  int64  \n",
      " 7   gender            21525 non-null  object \n",
      " 8   income_type       21525 non-null  object \n",
      " 9   debt              21525 non-null  int64  \n",
      " 10  total_income      19351 non-null  float64\n",
      " 11  purpose           21525 non-null  object \n",
      "dtypes: float64(2), int64(5), object(5)\n",
      "memory usage: 2.0+ MB\n"
     ]
    }
   ],
   "source": [
    "data.info() "
   ]
  },
  {
   "cell_type": "markdown",
   "metadata": {},
   "source": [
    "Описание данных\n",
    "* children — количество детей в семье\n",
    "* days_employed — общий трудовой стаж в днях\n",
    "* dob_years — возраст клиента в годах\n",
    "* education — уровень образования клиента\n",
    "* education_id — идентификатор уровня образования\n",
    "* family_status — семейное положение\n",
    "* family_status_id — идентификатор семейного положения\n",
    "* gender — пол клиента\n",
    "* income_type — тип занятости\n",
    "* debt — имел ли задолженность по возврату кредитов\n",
    "* total_income — ежемесячный доход\n",
    "* purpose — цель получения кредита"
   ]
  },
  {
   "cell_type": "markdown",
   "metadata": {},
   "source": [
    "**Вывод**"
   ]
  },
  {
   "cell_type": "markdown",
   "metadata": {},
   "source": [
    "1. **Данные по количесву детей (children)** - по сводной информации выявлено отсутствие пропусков, и использование корректного типа данных. Необходимо проверить наличие возможных ошибок в виде отрицательных значений и выбросов.\n",
    "2. **Данные по общему трудовому стажу в днях (days_employed)** - присутствуют пропуски в данных. Бросаются в глаза две особенности: отрицательные значения и чрезмерно огромные положительные значения, для заданного порядка(дни). Дробные значения возможно связаны с конвертацией рабочих часов/минут в дни. Тип данных при таком выводе верный, но после предобработки возможно понадобится изменить на int64.\n",
    "3. **Возраст клиента в годах (dob_years)** - пропусков нет, тип данных верный, требутся проверка на отрицательные значения и выбросы.\n",
    "4. **Уровень образования клиента (education)** - пропусков нет, тип данных верный. Замечено изменения регистра. \n",
    "5. **Идентификатор уровня образования (education_id)** - пропусков нет, тип данных верный. Необходимо выявить и проверить взаимосвязь индетификатора с данными об уровне образования, исключить ошибки.\n",
    "6. **Семейное положение (family_status)** - пропусков нет, тип данных верный. Исключить выбросы, ошибки, проверить регистр, посмотреть уникальные значения.\n",
    "7. **Идентификатор семейного положения (family_status_id)** - пропусков нет, тип данных верный. Необходимо выявить и проверить взаимосвязь индетификатора с данными о семейном положении, исключить ошибки.\n",
    "8. **Пол клиента (gender)** - пропусков нет, тип данных верный. Проверить наличие ошибок в заполнении, посмотреть уникальные значения.\n",
    "9. **Тип занятости (income_type)** - пропусков нет, тип данных верный. Проверить регистр, ошибки заполнения, уникальные значения.\n",
    "10. **Имел ли задолженность по возврату кредитов (debt)** - пропусков нет, тип данных верный. Проверить ошибки заполнения.\n",
    "11. **Ежемесячный доход (total_income)** - есть пропуски, тип данных верный. \n",
    "12. **Цель получения кредита (purpose)** - пропусков нет, тип данных верный. Необходима проверка уникальных значений, для поиска ошибок и сведения к единому виду данных."
   ]
  },
  {
   "cell_type": "markdown",
   "metadata": {},
   "source": [
    "<a name=\"2\"> </a>"
   ]
  },
  {
   "cell_type": "markdown",
   "metadata": {},
   "source": [
    "## Предобработка данных  [ [вверх](#15)]"
   ]
  },
  {
   "cell_type": "markdown",
   "metadata": {},
   "source": [
    "<a name=\"3\"> </a>"
   ]
  },
  {
   "cell_type": "markdown",
   "metadata": {},
   "source": [
    "### Обработка пропусков [ [вверх](#15)]"
   ]
  },
  {
   "cell_type": "markdown",
   "metadata": {},
   "source": [
    "Так как для текущего анализа, исходя из поставленных задач, важными критериями являются наличие детей, семейное положение, доход, цели кредита и информация о задолженности, обработаем столбцы: **\"children\", \"family_status\", \"family_status_id\", \"total_income\",\"purpose\", \"debt\"**. <br>\n",
    "Остальные столбцы исключим из датафрейма."
   ]
  },
  {
   "cell_type": "code",
   "execution_count": 6,
   "metadata": {},
   "outputs": [],
   "source": [
    "data_source = data #сохраним исходный вид датафрейма на всякий случай в переменной data_source"
   ]
  },
  {
   "cell_type": "code",
   "execution_count": 7,
   "metadata": {
    "scrolled": false
   },
   "outputs": [
    {
     "data": {
      "text/html": [
       "<div>\n",
       "<style scoped>\n",
       "    .dataframe tbody tr th:only-of-type {\n",
       "        vertical-align: middle;\n",
       "    }\n",
       "\n",
       "    .dataframe tbody tr th {\n",
       "        vertical-align: top;\n",
       "    }\n",
       "\n",
       "    .dataframe thead th {\n",
       "        text-align: right;\n",
       "    }\n",
       "</style>\n",
       "<table border=\"1\" class=\"dataframe\">\n",
       "  <thead>\n",
       "    <tr style=\"text-align: right;\">\n",
       "      <th></th>\n",
       "      <th>children</th>\n",
       "      <th>family_status</th>\n",
       "      <th>family_status_id</th>\n",
       "      <th>total_income</th>\n",
       "      <th>purpose</th>\n",
       "      <th>debt</th>\n",
       "    </tr>\n",
       "  </thead>\n",
       "  <tbody>\n",
       "    <tr>\n",
       "      <th>0</th>\n",
       "      <td>1</td>\n",
       "      <td>женат / замужем</td>\n",
       "      <td>0</td>\n",
       "      <td>253875.639453</td>\n",
       "      <td>покупка жилья</td>\n",
       "      <td>0</td>\n",
       "    </tr>\n",
       "    <tr>\n",
       "      <th>1</th>\n",
       "      <td>1</td>\n",
       "      <td>женат / замужем</td>\n",
       "      <td>0</td>\n",
       "      <td>112080.014102</td>\n",
       "      <td>приобретение автомобиля</td>\n",
       "      <td>0</td>\n",
       "    </tr>\n",
       "    <tr>\n",
       "      <th>2</th>\n",
       "      <td>0</td>\n",
       "      <td>женат / замужем</td>\n",
       "      <td>0</td>\n",
       "      <td>145885.952297</td>\n",
       "      <td>покупка жилья</td>\n",
       "      <td>0</td>\n",
       "    </tr>\n",
       "    <tr>\n",
       "      <th>3</th>\n",
       "      <td>3</td>\n",
       "      <td>женат / замужем</td>\n",
       "      <td>0</td>\n",
       "      <td>267628.550329</td>\n",
       "      <td>дополнительное образование</td>\n",
       "      <td>0</td>\n",
       "    </tr>\n",
       "    <tr>\n",
       "      <th>4</th>\n",
       "      <td>0</td>\n",
       "      <td>гражданский брак</td>\n",
       "      <td>1</td>\n",
       "      <td>158616.077870</td>\n",
       "      <td>сыграть свадьбу</td>\n",
       "      <td>0</td>\n",
       "    </tr>\n",
       "  </tbody>\n",
       "</table>\n",
       "</div>"
      ],
      "text/plain": [
       "   children     family_status  family_status_id   total_income  \\\n",
       "0         1   женат / замужем                 0  253875.639453   \n",
       "1         1   женат / замужем                 0  112080.014102   \n",
       "2         0   женат / замужем                 0  145885.952297   \n",
       "3         3   женат / замужем                 0  267628.550329   \n",
       "4         0  гражданский брак                 1  158616.077870   \n",
       "\n",
       "                      purpose  debt  \n",
       "0               покупка жилья     0  \n",
       "1     приобретение автомобиля     0  \n",
       "2               покупка жилья     0  \n",
       "3  дополнительное образование     0  \n",
       "4             сыграть свадьбу     0  "
      ]
     },
     "execution_count": 7,
     "metadata": {},
     "output_type": "execute_result"
    }
   ],
   "source": [
    "data = data.loc[: , ['children', 'family_status', 'family_status_id', 'total_income', 'purpose', 'debt']]\n",
    "data.head()         # сформировали датафрейм с ключевыми столбцами"
   ]
  },
  {
   "cell_type": "markdown",
   "metadata": {},
   "source": [
    "#### Обрабатываем столбец **`children`**"
   ]
  },
  {
   "cell_type": "code",
   "execution_count": 8,
   "metadata": {
    "scrolled": false
   },
   "outputs": [
    {
     "data": {
      "text/plain": [
       " 0     14149\n",
       " 1      4818\n",
       " 2      2055\n",
       " 3       330\n",
       " 20       76\n",
       "-1        47\n",
       " 4        41\n",
       " 5         9\n",
       "Name: children, dtype: int64"
      ]
     },
     "execution_count": 8,
     "metadata": {},
     "output_type": "execute_result"
    }
   ],
   "source": [
    "data['children'].value_counts() # смотрим на уникальные значения данных о количестве детей"
   ]
  },
  {
   "cell_type": "markdown",
   "metadata": {},
   "source": [
    "1. Попадается отрицательное значение \"-1\" в 47 случаях из 21525 (0.18%), возможно ошибка ввода и имелось ввиду значение \"1\", но возможно и автозаполнение пустых полей. В силу маленького веса в общем объеме данных, предлагаю исключить данных строки, так как количество детей одна из ключевых метрик в тех. задании по данному проекту, и нельзя допустить искажения данных, лучше незначительно уменьшить выборку.\n",
    "2. Также присутствует статистический выброс со значение \"20\" в количестве 76 значений (0,35% из общей выборки). Допускаю, что значения могут носить достоверный характер, но при этом велика вероятность ошибочной кодировки или автозаполнения пропусков. При незначительном объеме значений к общей выборке, предлагаю также исключить данные строки.\n",
    "3. Суммарное уменьшение выборки составит всего пол процента (0,52%)."
   ]
  },
  {
   "cell_type": "code",
   "execution_count": 9,
   "metadata": {
    "scrolled": false
   },
   "outputs": [],
   "source": [
    "data = data[(data['children'] != 20)&(data['children'] != -1)] # сформировали датафрем исключая вышеуказанные строки\n",
    "     # контрольные значения по количеству строк были проверены, выкинуто было ровно столько строк, сколько и планировалось"
   ]
  },
  {
   "cell_type": "markdown",
   "metadata": {},
   "source": [
    "#### Обрабатываем столбец **`family_status`** "
   ]
  },
  {
   "cell_type": "code",
   "execution_count": 10,
   "metadata": {
    "scrolled": true
   },
   "outputs": [
    {
     "data": {
      "text/plain": [
       "женат / замужем          12302\n",
       "гражданский брак          4160\n",
       "Не женат / не замужем     2799\n",
       "в разводе                 1189\n",
       "вдовец / вдова             952\n",
       "Name: family_status, dtype: int64"
      ]
     },
     "execution_count": 10,
     "metadata": {},
     "output_type": "execute_result"
    }
   ],
   "source": [
    "data['family_status'].value_counts() # Проверяем значения на корректность категорий"
   ]
  },
  {
   "cell_type": "code",
   "execution_count": 11,
   "metadata": {
    "scrolled": true
   },
   "outputs": [
    {
     "data": {
      "text/plain": [
       "False    21402\n",
       "Name: family_status, dtype: int64"
      ]
     },
     "execution_count": 11,
     "metadata": {},
     "output_type": "execute_result"
    }
   ],
   "source": [
    "data['family_status'].isnull().value_counts() # Проверяем на наличие пропусков"
   ]
  },
  {
   "cell_type": "markdown",
   "metadata": {},
   "source": [
    "Данные в столбце `family_status` корректны для дальнейшего использования."
   ]
  },
  {
   "cell_type": "markdown",
   "metadata": {},
   "source": [
    "#### Обрабатываем столбец **`family_status_id`** "
   ]
  },
  {
   "cell_type": "code",
   "execution_count": 12,
   "metadata": {
    "scrolled": true
   },
   "outputs": [
    {
     "data": {
      "text/plain": [
       "family_status          family_status_id\n",
       "Не женат / не замужем  4                    2799\n",
       "в разводе              3                    1189\n",
       "вдовец / вдова         2                     952\n",
       "гражданский брак       1                    4160\n",
       "женат / замужем        0                   12302\n",
       "Name: family_status_id, dtype: int64"
      ]
     },
     "execution_count": 12,
     "metadata": {},
     "output_type": "execute_result"
    }
   ],
   "source": [
    "data.groupby('family_status')['family_status_id'].value_counts() \n",
    "                                                # группируем, чтобы сверить корректность применения id  и отсутствие ошибок"
   ]
  },
  {
   "cell_type": "markdown",
   "metadata": {},
   "source": [
    "Данные в столбце `family_status_id` корректны для дальнейшего использования."
   ]
  },
  {
   "cell_type": "markdown",
   "metadata": {},
   "source": [
    "#### Обрабатываем столбец **`total_income`**"
   ]
  },
  {
   "cell_type": "code",
   "execution_count": 13,
   "metadata": {
    "scrolled": false
   },
   "outputs": [
    {
     "data": {
      "text/plain": [
       "False    19240\n",
       "True      2162\n",
       "Name: total_income, dtype: int64"
      ]
     },
     "execution_count": 13,
     "metadata": {},
     "output_type": "execute_result"
    }
   ],
   "source": [
    "data['total_income'].isnull().value_counts() # выясняем количество пропусков "
   ]
  },
  {
   "cell_type": "markdown",
   "metadata": {},
   "source": [
    "Количество пропусков занимает 10% от общей выборки, доля значительная, но не критичная, так как важнее соблюсти в данном столбце истинные значения, а не усреднять, рискуя смазать аналитически важные показатели. Сократим выборку, удалив строки с пропусками. "
   ]
  },
  {
   "cell_type": "code",
   "execution_count": 14,
   "metadata": {
    "scrolled": true
   },
   "outputs": [],
   "source": [
    "data.dropna(subset=['total_income'], inplace=True) #удаляем пропуски с перезаписью"
   ]
  },
  {
   "cell_type": "code",
   "execution_count": 15,
   "metadata": {
    "scrolled": true
   },
   "outputs": [
    {
     "name": "stdout",
     "output_type": "stream",
     "text": [
      "<class 'pandas.core.frame.DataFrame'>\n",
      "RangeIndex: 19240 entries, 0 to 19239\n",
      "Data columns (total 6 columns):\n",
      " #   Column            Non-Null Count  Dtype  \n",
      "---  ------            --------------  -----  \n",
      " 0   children          19240 non-null  int64  \n",
      " 1   family_status     19240 non-null  object \n",
      " 2   family_status_id  19240 non-null  int64  \n",
      " 3   total_income      19240 non-null  float64\n",
      " 4   purpose           19240 non-null  object \n",
      " 5   debt              19240 non-null  int64  \n",
      "dtypes: float64(1), int64(3), object(2)\n",
      "memory usage: 902.0+ KB\n"
     ]
    }
   ],
   "source": [
    "data.reset_index(drop=True, inplace=True) # поправляем индексы, после удаления строк\n",
    "data.info()     # смотрим на общую картину по столбцам на наличие пропусков"
   ]
  },
  {
   "cell_type": "markdown",
   "metadata": {},
   "source": [
    "**Вывод**"
   ]
  },
  {
   "cell_type": "markdown",
   "metadata": {},
   "source": [
    "**Все необходимые для анализа столбцы с данными обработаны на наличие пропусков, общая выборка сократилась на 10%.** <br>\n",
    "10% пропуском в данных связаны скорее всего с непредоставлением таковых данных от заемщиков, в силу либо отсутствия дохода, либо возможности его официального подтверждения. В таком случае, разброс по этим данных может быть очень значительным, и заполнять их какими либо значениями(например, медианой) считаю нецелесообразным, так как это одна из ключевых метрик в данном анализе."
   ]
  },
  {
   "cell_type": "markdown",
   "metadata": {},
   "source": [
    "<a name=\"4\"></a>"
   ]
  },
  {
   "cell_type": "markdown",
   "metadata": {},
   "source": [
    "###  Замена типа данных [ [вверх](#15)]"
   ]
  },
  {
   "cell_type": "markdown",
   "metadata": {},
   "source": [
    "Прибегнем к изменению типа данных по столбцу total_income, чтобы облегчить восприятие, и избавиться от длинных дробных \"хвостов\". Используем для этого метод astype() с аргументом 'int'"
   ]
  },
  {
   "cell_type": "code",
   "execution_count": 16,
   "metadata": {
    "scrolled": true
   },
   "outputs": [],
   "source": [
    "data['total_income'] = data['total_income'].astype('int') # меняем тип данных с float64 на int64 с помощью метода astype()"
   ]
  },
  {
   "cell_type": "code",
   "execution_count": 17,
   "metadata": {},
   "outputs": [
    {
     "data": {
      "text/html": [
       "<div>\n",
       "<style scoped>\n",
       "    .dataframe tbody tr th:only-of-type {\n",
       "        vertical-align: middle;\n",
       "    }\n",
       "\n",
       "    .dataframe tbody tr th {\n",
       "        vertical-align: top;\n",
       "    }\n",
       "\n",
       "    .dataframe thead th {\n",
       "        text-align: right;\n",
       "    }\n",
       "</style>\n",
       "<table border=\"1\" class=\"dataframe\">\n",
       "  <thead>\n",
       "    <tr style=\"text-align: right;\">\n",
       "      <th></th>\n",
       "      <th>children</th>\n",
       "      <th>family_status</th>\n",
       "      <th>family_status_id</th>\n",
       "      <th>total_income</th>\n",
       "      <th>purpose</th>\n",
       "      <th>debt</th>\n",
       "    </tr>\n",
       "  </thead>\n",
       "  <tbody>\n",
       "    <tr>\n",
       "      <th>0</th>\n",
       "      <td>1</td>\n",
       "      <td>женат / замужем</td>\n",
       "      <td>0</td>\n",
       "      <td>253875</td>\n",
       "      <td>покупка жилья</td>\n",
       "      <td>0</td>\n",
       "    </tr>\n",
       "    <tr>\n",
       "      <th>1</th>\n",
       "      <td>1</td>\n",
       "      <td>женат / замужем</td>\n",
       "      <td>0</td>\n",
       "      <td>112080</td>\n",
       "      <td>приобретение автомобиля</td>\n",
       "      <td>0</td>\n",
       "    </tr>\n",
       "    <tr>\n",
       "      <th>2</th>\n",
       "      <td>0</td>\n",
       "      <td>женат / замужем</td>\n",
       "      <td>0</td>\n",
       "      <td>145885</td>\n",
       "      <td>покупка жилья</td>\n",
       "      <td>0</td>\n",
       "    </tr>\n",
       "    <tr>\n",
       "      <th>3</th>\n",
       "      <td>3</td>\n",
       "      <td>женат / замужем</td>\n",
       "      <td>0</td>\n",
       "      <td>267628</td>\n",
       "      <td>дополнительное образование</td>\n",
       "      <td>0</td>\n",
       "    </tr>\n",
       "    <tr>\n",
       "      <th>4</th>\n",
       "      <td>0</td>\n",
       "      <td>гражданский брак</td>\n",
       "      <td>1</td>\n",
       "      <td>158616</td>\n",
       "      <td>сыграть свадьбу</td>\n",
       "      <td>0</td>\n",
       "    </tr>\n",
       "  </tbody>\n",
       "</table>\n",
       "</div>"
      ],
      "text/plain": [
       "   children     family_status  family_status_id  total_income  \\\n",
       "0         1   женат / замужем                 0        253875   \n",
       "1         1   женат / замужем                 0        112080   \n",
       "2         0   женат / замужем                 0        145885   \n",
       "3         3   женат / замужем                 0        267628   \n",
       "4         0  гражданский брак                 1        158616   \n",
       "\n",
       "                      purpose  debt  \n",
       "0               покупка жилья     0  \n",
       "1     приобретение автомобиля     0  \n",
       "2               покупка жилья     0  \n",
       "3  дополнительное образование     0  \n",
       "4             сыграть свадьбу     0  "
      ]
     },
     "execution_count": 17,
     "metadata": {},
     "output_type": "execute_result"
    }
   ],
   "source": [
    "data.head()"
   ]
  },
  {
   "cell_type": "markdown",
   "metadata": {},
   "source": [
    "**Вывод**"
   ]
  },
  {
   "cell_type": "markdown",
   "metadata": {},
   "source": [
    "Замена и перезапись столбца прошли успешно. По остальным использованным данным смена типа данных не требуется."
   ]
  },
  {
   "cell_type": "markdown",
   "metadata": {},
   "source": [
    "<a name=\"5\"></a>"
   ]
  },
  {
   "cell_type": "markdown",
   "metadata": {},
   "source": [
    "### Обработка дубликатов [ [вверх](#15)]"
   ]
  },
  {
   "cell_type": "markdown",
   "metadata": {},
   "source": [
    "Поищем дубликаты в датафрейме с помощью метода duplicated()"
   ]
  },
  {
   "cell_type": "code",
   "execution_count": 18,
   "metadata": {},
   "outputs": [
    {
     "data": {
      "text/plain": [
       "False    19231\n",
       "True         9\n",
       "dtype: int64"
      ]
     },
     "execution_count": 18,
     "metadata": {},
     "output_type": "execute_result"
    }
   ],
   "source": [
    "data.duplicated().value_counts()  # проверяем на наличие дубликатов"
   ]
  },
  {
   "cell_type": "markdown",
   "metadata": {},
   "source": [
    "Найдено 9 дубликатов в датафрейме. Применяя метод `drop_duplicates()` удалим их. И сбросим индексы методом `reset_index()`."
   ]
  },
  {
   "cell_type": "code",
   "execution_count": 19,
   "metadata": {},
   "outputs": [],
   "source": [
    "data = data.drop_duplicates().reset_index(drop=True)\n",
    "                                    # избавляемся от дубликатов, и сбрасываем индексы, с перезаписью"
   ]
  },
  {
   "cell_type": "code",
   "execution_count": 20,
   "metadata": {
    "scrolled": false
   },
   "outputs": [
    {
     "data": {
      "text/html": [
       "<div>\n",
       "<style scoped>\n",
       "    .dataframe tbody tr th:only-of-type {\n",
       "        vertical-align: middle;\n",
       "    }\n",
       "\n",
       "    .dataframe tbody tr th {\n",
       "        vertical-align: top;\n",
       "    }\n",
       "\n",
       "    .dataframe thead th {\n",
       "        text-align: right;\n",
       "    }\n",
       "</style>\n",
       "<table border=\"1\" class=\"dataframe\">\n",
       "  <thead>\n",
       "    <tr style=\"text-align: right;\">\n",
       "      <th></th>\n",
       "      <th>children</th>\n",
       "      <th>family_status</th>\n",
       "      <th>family_status_id</th>\n",
       "      <th>total_income</th>\n",
       "      <th>purpose</th>\n",
       "      <th>debt</th>\n",
       "    </tr>\n",
       "  </thead>\n",
       "  <tbody>\n",
       "    <tr>\n",
       "      <th>0</th>\n",
       "      <td>1</td>\n",
       "      <td>женат / замужем</td>\n",
       "      <td>0</td>\n",
       "      <td>253875</td>\n",
       "      <td>покупка жилья</td>\n",
       "      <td>0</td>\n",
       "    </tr>\n",
       "    <tr>\n",
       "      <th>1</th>\n",
       "      <td>1</td>\n",
       "      <td>женат / замужем</td>\n",
       "      <td>0</td>\n",
       "      <td>112080</td>\n",
       "      <td>приобретение автомобиля</td>\n",
       "      <td>0</td>\n",
       "    </tr>\n",
       "    <tr>\n",
       "      <th>2</th>\n",
       "      <td>0</td>\n",
       "      <td>женат / замужем</td>\n",
       "      <td>0</td>\n",
       "      <td>145885</td>\n",
       "      <td>покупка жилья</td>\n",
       "      <td>0</td>\n",
       "    </tr>\n",
       "    <tr>\n",
       "      <th>3</th>\n",
       "      <td>3</td>\n",
       "      <td>женат / замужем</td>\n",
       "      <td>0</td>\n",
       "      <td>267628</td>\n",
       "      <td>дополнительное образование</td>\n",
       "      <td>0</td>\n",
       "    </tr>\n",
       "    <tr>\n",
       "      <th>4</th>\n",
       "      <td>0</td>\n",
       "      <td>гражданский брак</td>\n",
       "      <td>1</td>\n",
       "      <td>158616</td>\n",
       "      <td>сыграть свадьбу</td>\n",
       "      <td>0</td>\n",
       "    </tr>\n",
       "  </tbody>\n",
       "</table>\n",
       "</div>"
      ],
      "text/plain": [
       "   children     family_status  family_status_id  total_income  \\\n",
       "0         1   женат / замужем                 0        253875   \n",
       "1         1   женат / замужем                 0        112080   \n",
       "2         0   женат / замужем                 0        145885   \n",
       "3         3   женат / замужем                 0        267628   \n",
       "4         0  гражданский брак                 1        158616   \n",
       "\n",
       "                      purpose  debt  \n",
       "0               покупка жилья     0  \n",
       "1     приобретение автомобиля     0  \n",
       "2               покупка жилья     0  \n",
       "3  дополнительное образование     0  \n",
       "4             сыграть свадьбу     0  "
      ]
     },
     "execution_count": 20,
     "metadata": {},
     "output_type": "execute_result"
    }
   ],
   "source": [
    "data.head()"
   ]
  },
  {
   "cell_type": "markdown",
   "metadata": {},
   "source": [
    "**Вывод**"
   ]
  },
  {
   "cell_type": "markdown",
   "metadata": {},
   "source": [
    "Количество дубликатов оказалось очень незначительным, удалили данные строки. <br>\n",
    "Возникновение дубликатов возможно вызвано неоднократной подачей заявок на кредит от заемщиков, таким образом данные по одним и тем же людям накапливаются, образуя дубликаты."
   ]
  },
  {
   "cell_type": "markdown",
   "metadata": {},
   "source": [
    "<a name=\"6\"></a>"
   ]
  },
  {
   "cell_type": "markdown",
   "metadata": {},
   "source": [
    "### Лемматизация     [ [вверх](#15)]"
   ]
  },
  {
   "cell_type": "markdown",
   "metadata": {},
   "source": [
    "Поработаем со столбцом `purpose`"
   ]
  },
  {
   "cell_type": "code",
   "execution_count": 21,
   "metadata": {
    "scrolled": false
   },
   "outputs": [
    {
     "data": {
      "text/plain": [
       "свадьба                                   718\n",
       "сыграть свадьбу                           688\n",
       "на проведение свадьбы                     680\n",
       "операции с недвижимостью                  612\n",
       "покупка коммерческой недвижимости         595\n",
       "покупка жилья                             590\n",
       "покупка жилья для сдачи                   585\n",
       "жилье                                     582\n",
       "операции с коммерческой недвижимостью     576\n",
       "строительство жилой недвижимости          576\n",
       "операции с жильем                         575\n",
       "покупка своего жилья                      573\n",
       "недвижимость                              570\n",
       "покупка жилья для семьи                   569\n",
       "строительство недвижимости                561\n",
       "операции со своей недвижимостью           555\n",
       "строительство собственной недвижимости    553\n",
       "покупка недвижимости                      547\n",
       "покупка жилой недвижимости                543\n",
       "ремонт жилью                              538\n",
       "автомобиль                                452\n",
       "на покупку своего автомобиля              452\n",
       "на покупку автомобиля                     440\n",
       "заняться высшим образованием              440\n",
       "на покупку подержанного автомобиля        430\n",
       "сделка с подержанным автомобилем          430\n",
       "свой автомобиль                           423\n",
       "автомобили                                419\n",
       "приобретение автомобиля                   416\n",
       "дополнительное образование                409\n",
       "сделка с автомобилем                      409\n",
       "высшее образование                        408\n",
       "образование                               401\n",
       "получение дополнительного образования     394\n",
       "получение образования                     391\n",
       "получение высшего образования             388\n",
       "профильное образование                    386\n",
       "заняться образованием                     357\n",
       "Name: purpose, dtype: int64"
      ]
     },
     "execution_count": 21,
     "metadata": {},
     "output_type": "execute_result"
    }
   ],
   "source": [
    "data['purpose'].value_counts()  # посмотрим на значения"
   ]
  },
  {
   "cell_type": "markdown",
   "metadata": {},
   "source": [
    "**Регистр везде однороден**, но количество значений таково, что глаз уже замыливается, и в случае с еще большим количеством значений, шансы на ошибку возрастают, поэтому проведем принудительное приведение к нижнему регистру в профилактических целях. Используем метод str.lower()"
   ]
  },
  {
   "cell_type": "code",
   "execution_count": 22,
   "metadata": {
    "scrolled": true
   },
   "outputs": [
    {
     "data": {
      "text/plain": [
       "0                       покупка жилья\n",
       "1             приобретение автомобиля\n",
       "2                       покупка жилья\n",
       "3          дополнительное образование\n",
       "4                     сыграть свадьбу\n",
       "                     ...             \n",
       "19226               операции с жильем\n",
       "19227            сделка с автомобилем\n",
       "19228                    недвижимость\n",
       "19229    на покупку своего автомобиля\n",
       "19230           на покупку автомобиля\n",
       "Name: purpose, Length: 19231, dtype: object"
      ]
     },
     "execution_count": 22,
     "metadata": {},
     "output_type": "execute_result"
    }
   ],
   "source": [
    "data['purpose'].str.lower() # приводим данные к нижнему регистру"
   ]
  },
  {
   "cell_type": "markdown",
   "metadata": {},
   "source": [
    "**Необходимо провести лемматизацию, для выявления категориальных меток.** <br>\n",
    "Выявив категориальные метки, сможем из них сформировать категории для группировки данных и дальнейшего анализа."
   ]
  },
  {
   "cell_type": "code",
   "execution_count": 23,
   "metadata": {},
   "outputs": [],
   "source": [
    "m = Mystem() # создание экземпляра класса"
   ]
  },
  {
   "cell_type": "code",
   "execution_count": 24,
   "metadata": {
    "scrolled": false
   },
   "outputs": [
    {
     "data": {
      "text/plain": [
       "array(['покупка жилья', 'приобретение автомобиля',\n",
       "       'дополнительное образование', 'сыграть свадьбу',\n",
       "       'операции с жильем', 'образование', 'на проведение свадьбы',\n",
       "       'покупка жилья для семьи', 'покупка недвижимости',\n",
       "       'покупка коммерческой недвижимости', 'покупка жилой недвижимости',\n",
       "       'строительство собственной недвижимости', 'недвижимость',\n",
       "       'строительство недвижимости', 'на покупку подержанного автомобиля',\n",
       "       'на покупку своего автомобиля',\n",
       "       'операции с коммерческой недвижимостью', 'жилье',\n",
       "       'операции со своей недвижимостью', 'автомобили',\n",
       "       'заняться образованием', 'получение образования',\n",
       "       'сделка с подержанным автомобилем', 'автомобиль', 'свадьба',\n",
       "       'получение дополнительного образования', 'покупка своего жилья',\n",
       "       'операции с недвижимостью', 'получение высшего образования',\n",
       "       'свой автомобиль', 'сделка с автомобилем',\n",
       "       'профильное образование', 'высшее образование',\n",
       "       'покупка жилья для сдачи', 'на покупку автомобиля',\n",
       "       'строительство жилой недвижимости', 'ремонт жилью',\n",
       "       'заняться высшим образованием'], dtype=object)"
      ]
     },
     "execution_count": 24,
     "metadata": {},
     "output_type": "execute_result"
    }
   ],
   "source": [
    "purpose = data['purpose'].unique() # смотрим уникальные значения по столбцу purpose\n",
    "purpose"
   ]
  },
  {
   "cell_type": "code",
   "execution_count": 25,
   "metadata": {},
   "outputs": [],
   "source": [
    "lemmas_list=[]    #Создаем пустой список, для записи в него всех лемм из уникальных значений столбца purpose\n",
    "for row in purpose:\n",
    "    lemma = m.lemmatize(row)\n",
    "    lemmas_list.extend(lemma)"
   ]
  },
  {
   "cell_type": "code",
   "execution_count": 26,
   "metadata": {},
   "outputs": [
    {
     "data": {
      "text/plain": [
       "Counter({'покупка': 10,\n",
       "         ' ': 59,\n",
       "         'жилье': 7,\n",
       "         '\\n': 38,\n",
       "         'приобретение': 1,\n",
       "         'автомобиль': 9,\n",
       "         'дополнительный': 2,\n",
       "         'образование': 9,\n",
       "         'сыграть': 1,\n",
       "         'свадьба': 3,\n",
       "         'операция': 4,\n",
       "         'с': 5,\n",
       "         'на': 4,\n",
       "         'проведение': 1,\n",
       "         'для': 2,\n",
       "         'семья': 1,\n",
       "         'недвижимость': 10,\n",
       "         'коммерческий': 2,\n",
       "         'жилой': 2,\n",
       "         'строительство': 3,\n",
       "         'собственный': 1,\n",
       "         'подержать': 1,\n",
       "         'свой': 4,\n",
       "         'со': 1,\n",
       "         'заниматься': 2,\n",
       "         'получение': 3,\n",
       "         'сделка': 2,\n",
       "         'подержанный': 1,\n",
       "         'высокий': 3,\n",
       "         'профильный': 1,\n",
       "         'сдача': 1,\n",
       "         'ремонт': 1})"
      ]
     },
     "execution_count": 26,
     "metadata": {},
     "output_type": "execute_result"
    }
   ],
   "source": [
    "Counter(lemmas_list) # посчитаем частотность и сформируем категории."
   ]
  },
  {
   "cell_type": "markdown",
   "metadata": {},
   "source": [
    "Из списка выше **сформируем категориальные леммы: `недвижимость`, `автомобиль`, `образование`, `свадьба`, `жилье`.** \n"
   ]
  },
  {
   "cell_type": "code",
   "execution_count": 27,
   "metadata": {},
   "outputs": [
    {
     "data": {
      "text/plain": [
       "\"\\ndef lemm_fun(purpose):      #создаем функцию для лемматизации столбца с целями кредита\\n    lemma = m.lemmatize(purpose)\\n    return lemma\\n\\ndata['lemmas'] = data['purpose'].apply(lemm_fun)  # методом apply применяем поочередно к каждой строке функцию лемматизации\\n\""
      ]
     },
     "execution_count": 27,
     "metadata": {},
     "output_type": "execute_result"
    }
   ],
   "source": [
    "# данная ячейка закомментирована, так как её выполнение занимает продолжительное время.\n",
    "'''\n",
    "def lemm_fun(purpose):      #создаем функцию для лемматизации столбца с целями кредита\n",
    "    lemma = m.lemmatize(purpose)\n",
    "    return lemma\n",
    "\n",
    "data['lemmas'] = data['purpose'].apply(lemm_fun)  # методом apply применяем поочередно к каждой строке функцию лемматизации\n",
    "'''"
   ]
  },
  {
   "cell_type": "markdown",
   "metadata": {},
   "source": [
    "Для удобства и скорости работы, процесс лемматизации был единожды проведен и данные записаны в соответствующий файл, с которым и будем работать в дальнейшем."
   ]
  },
  {
   "cell_type": "code",
   "execution_count": 28,
   "metadata": {},
   "outputs": [],
   "source": [
    "data = pd.read_csv(path + '/datasets/lemmatized_data.csv')"
   ]
  },
  {
   "cell_type": "code",
   "execution_count": 29,
   "metadata": {
    "scrolled": true
   },
   "outputs": [
    {
     "data": {
      "text/plain": [
       "0                 ['покупка', ' ', 'жилье', '\\n']\n",
       "1       ['приобретение', ' ', 'автомобиль', '\\n']\n",
       "2                 ['покупка', ' ', 'жилье', '\\n']\n",
       "3    ['дополнительный', ' ', 'образование', '\\n']\n",
       "4               ['сыграть', ' ', 'свадьба', '\\n']\n",
       "Name: lemmas, dtype: object"
      ]
     },
     "execution_count": 29,
     "metadata": {},
     "output_type": "execute_result"
    }
   ],
   "source": [
    "data['lemmas'].head()"
   ]
  },
  {
   "cell_type": "markdown",
   "metadata": {},
   "source": [
    "Необходимо создать функцию для сопоставления лемм и присваивания категориальных меток. <br>\n",
    "Леммы `жилье` и `недвижимость` объединяем в одну категорию `недвижимость`, так как нет достоверных данных о видах недвижимости и соответственно мы не сможем детализировать данную категорию"
   ]
  },
  {
   "cell_type": "code",
   "execution_count": 30,
   "metadata": {},
   "outputs": [
    {
     "data": {
      "text/plain": [
       "0    недвижимость\n",
       "1      автомобиль\n",
       "2    недвижимость\n",
       "3     образование\n",
       "4         свадьба\n",
       "Name: category, dtype: object"
      ]
     },
     "execution_count": 30,
     "metadata": {},
     "output_type": "execute_result"
    }
   ],
   "source": [
    "def category_gen(lemm):           # функция сравнения лемм с присваиванием категории\n",
    "    try:\n",
    "        if 'недвижимость' in lemm:\n",
    "            return 'недвижимость'\n",
    "        elif 'жилье' in lemm:\n",
    "            return 'недвижимость'\n",
    "        elif 'автомобиль' in lemm:\n",
    "            return 'автомобиль'\n",
    "        elif 'образование' in lemm:\n",
    "            return 'образование'\n",
    "        elif 'свадьба' in lemm:\n",
    "            return 'свадьба'\n",
    "    except: \n",
    "        return 'неизвестно'\n",
    "    \n",
    "data['category'] = data['lemmas'].apply(category_gen) # записываем категории в новый столбец\n",
    "data['category'].head()"
   ]
  },
  {
   "cell_type": "code",
   "execution_count": 31,
   "metadata": {},
   "outputs": [
    {
     "data": {
      "text/plain": [
       "недвижимость    9700\n",
       "автомобиль      3871\n",
       "образование     3574\n",
       "свадьба         2086\n",
       "Name: category, dtype: int64"
      ]
     },
     "execution_count": 31,
     "metadata": {},
     "output_type": "execute_result"
    }
   ],
   "source": [
    "data['category'].value_counts() # посмотрим на распределение и результат разбивки по категориям"
   ]
  },
  {
   "cell_type": "markdown",
   "metadata": {},
   "source": [
    "**Вывод**"
   ]
  },
  {
   "cell_type": "markdown",
   "metadata": {},
   "source": [
    "Методом лемматизации удалось выявить 4 основных категории целей получения кредита и присвоить каждой строке данных определенную категорию, что позволит в дальнейшем группировать и анализировать группы по целям займа. <br><br>\n",
    "Лемматизация и выделение категорий показали, что самой распространенной целью кредита является недвижимость. <br> <br>\n",
    "Автомобиль и образование примерно равны, а на свадьбу кредит берут почти в 5 раз реже, чем на недвижимость. "
   ]
  },
  {
   "cell_type": "markdown",
   "metadata": {},
   "source": [
    "<a name=\"7\"></a>"
   ]
  },
  {
   "cell_type": "markdown",
   "metadata": {},
   "source": [
    "### Категоризация данных   [ [вверх](#15)]"
   ]
  },
  {
   "cell_type": "markdown",
   "metadata": {},
   "source": [
    "####  Цели кредита"
   ]
  },
  {
   "cell_type": "code",
   "execution_count": 32,
   "metadata": {
    "scrolled": true
   },
   "outputs": [
    {
     "data": {
      "text/html": [
       "<div>\n",
       "<style scoped>\n",
       "    .dataframe tbody tr th:only-of-type {\n",
       "        vertical-align: middle;\n",
       "    }\n",
       "\n",
       "    .dataframe tbody tr th {\n",
       "        vertical-align: top;\n",
       "    }\n",
       "\n",
       "    .dataframe thead th {\n",
       "        text-align: right;\n",
       "    }\n",
       "</style>\n",
       "<table border=\"1\" class=\"dataframe\">\n",
       "  <thead>\n",
       "    <tr style=\"text-align: right;\">\n",
       "      <th></th>\n",
       "      <th>Unnamed: 0</th>\n",
       "      <th>children</th>\n",
       "      <th>family_status_id</th>\n",
       "      <th>total_income</th>\n",
       "      <th>debt</th>\n",
       "      <th>ch_status</th>\n",
       "      <th>count</th>\n",
       "    </tr>\n",
       "    <tr>\n",
       "      <th>category</th>\n",
       "      <th></th>\n",
       "      <th></th>\n",
       "      <th></th>\n",
       "      <th></th>\n",
       "      <th></th>\n",
       "      <th></th>\n",
       "      <th></th>\n",
       "    </tr>\n",
       "  </thead>\n",
       "  <tbody>\n",
       "    <tr>\n",
       "      <th>автомобиль</th>\n",
       "      <td>37562027</td>\n",
       "      <td>1813</td>\n",
       "      <td>3792</td>\n",
       "      <td>647481118</td>\n",
       "      <td>364</td>\n",
       "      <td>1311</td>\n",
       "      <td>3871</td>\n",
       "    </tr>\n",
       "    <tr>\n",
       "      <th>недвижимость</th>\n",
       "      <td>93463841</td>\n",
       "      <td>4639</td>\n",
       "      <td>9394</td>\n",
       "      <td>1639280521</td>\n",
       "      <td>713</td>\n",
       "      <td>3325</td>\n",
       "      <td>9700</td>\n",
       "    </tr>\n",
       "    <tr>\n",
       "      <th>образование</th>\n",
       "      <td>34011516</td>\n",
       "      <td>1690</td>\n",
       "      <td>3450</td>\n",
       "      <td>587739173</td>\n",
       "      <td>330</td>\n",
       "      <td>1191</td>\n",
       "      <td>3574</td>\n",
       "    </tr>\n",
       "    <tr>\n",
       "      <th>свадьба</th>\n",
       "      <td>19868681</td>\n",
       "      <td>959</td>\n",
       "      <td>2086</td>\n",
       "      <td>346212066</td>\n",
       "      <td>155</td>\n",
       "      <td>702</td>\n",
       "      <td>2086</td>\n",
       "    </tr>\n",
       "  </tbody>\n",
       "</table>\n",
       "</div>"
      ],
      "text/plain": [
       "              Unnamed: 0  children  family_status_id  total_income  debt  \\\n",
       "category                                                                   \n",
       "автомобиль      37562027      1813              3792     647481118   364   \n",
       "недвижимость    93463841      4639              9394    1639280521   713   \n",
       "образование     34011516      1690              3450     587739173   330   \n",
       "свадьба         19868681       959              2086     346212066   155   \n",
       "\n",
       "              ch_status  count  \n",
       "category                        \n",
       "автомобиль         1311   3871  \n",
       "недвижимость       3325   9700  \n",
       "образование        1191   3574  \n",
       "свадьба             702   2086  "
      ]
     },
     "execution_count": 32,
     "metadata": {},
     "output_type": "execute_result"
    }
   ],
   "source": [
    "category = data.groupby('category').sum()            #группируем по категориям целей кредита \n",
    "category['count'] = data['category'].value_counts()  # вычисляем количество заявок на кредит по каждой категории\n",
    "category"
   ]
  },
  {
   "cell_type": "markdown",
   "metadata": {},
   "source": [
    "####  Наличие детей"
   ]
  },
  {
   "cell_type": "code",
   "execution_count": 33,
   "metadata": {
    "scrolled": true
   },
   "outputs": [
    {
     "data": {
      "text/html": [
       "<div>\n",
       "<style scoped>\n",
       "    .dataframe tbody tr th:only-of-type {\n",
       "        vertical-align: middle;\n",
       "    }\n",
       "\n",
       "    .dataframe tbody tr th {\n",
       "        vertical-align: top;\n",
       "    }\n",
       "\n",
       "    .dataframe thead th {\n",
       "        text-align: right;\n",
       "    }\n",
       "</style>\n",
       "<table border=\"1\" class=\"dataframe\">\n",
       "  <thead>\n",
       "    <tr style=\"text-align: right;\">\n",
       "      <th></th>\n",
       "      <th>Unnamed: 0</th>\n",
       "      <th>family_status_id</th>\n",
       "      <th>total_income</th>\n",
       "      <th>debt</th>\n",
       "      <th>ch_status</th>\n",
       "    </tr>\n",
       "    <tr>\n",
       "      <th>children</th>\n",
       "      <th></th>\n",
       "      <th></th>\n",
       "      <th></th>\n",
       "      <th></th>\n",
       "      <th></th>\n",
       "    </tr>\n",
       "  </thead>\n",
       "  <tbody>\n",
       "    <tr>\n",
       "      <th>0</th>\n",
       "      <td>122521960</td>\n",
       "      <td>14249</td>\n",
       "      <td>2098031841</td>\n",
       "      <td>952</td>\n",
       "      <td>0</td>\n",
       "    </tr>\n",
       "    <tr>\n",
       "      <th>1</th>\n",
       "      <td>41318471</td>\n",
       "      <td>3517</td>\n",
       "      <td>743641422</td>\n",
       "      <td>408</td>\n",
       "      <td>4343</td>\n",
       "    </tr>\n",
       "    <tr>\n",
       "      <th>2</th>\n",
       "      <td>17749922</td>\n",
       "      <td>824</td>\n",
       "      <td>317996930</td>\n",
       "      <td>177</td>\n",
       "      <td>1850</td>\n",
       "    </tr>\n",
       "    <tr>\n",
       "      <th>3</th>\n",
       "      <td>2899462</td>\n",
       "      <td>115</td>\n",
       "      <td>53880175</td>\n",
       "      <td>22</td>\n",
       "      <td>294</td>\n",
       "    </tr>\n",
       "    <tr>\n",
       "      <th>4</th>\n",
       "      <td>306513</td>\n",
       "      <td>16</td>\n",
       "      <td>5799072</td>\n",
       "      <td>3</td>\n",
       "      <td>34</td>\n",
       "    </tr>\n",
       "    <tr>\n",
       "      <th>5</th>\n",
       "      <td>109737</td>\n",
       "      <td>1</td>\n",
       "      <td>1363438</td>\n",
       "      <td>0</td>\n",
       "      <td>8</td>\n",
       "    </tr>\n",
       "  </tbody>\n",
       "</table>\n",
       "</div>"
      ],
      "text/plain": [
       "          Unnamed: 0  family_status_id  total_income  debt  ch_status\n",
       "children                                                             \n",
       "0          122521960             14249    2098031841   952          0\n",
       "1           41318471              3517     743641422   408       4343\n",
       "2           17749922               824     317996930   177       1850\n",
       "3            2899462               115      53880175    22        294\n",
       "4             306513                16       5799072     3         34\n",
       "5             109737                 1       1363438     0          8"
      ]
     },
     "execution_count": 33,
     "metadata": {},
     "output_type": "execute_result"
    }
   ],
   "source": [
    "children = data.groupby('children').sum()  #группируем по количеству детей \n",
    "children"
   ]
  },
  {
   "cell_type": "markdown",
   "metadata": {},
   "source": [
    "Статистические выборки по каждой отдельной категории (количество детей) неравномерны, и не всегда достаточны для проведения дискретного анализа зависимости от точного количества детей в семье. <br>\n",
    "Необходимо категорирование по фактору наличия или отсутствия детей, не взирая на количество."
   ]
  },
  {
   "cell_type": "code",
   "execution_count": 34,
   "metadata": {
    "scrolled": true
   },
   "outputs": [
    {
     "data": {
      "text/plain": [
       "0    12702\n",
       "1     6529\n",
       "Name: ch_status, dtype: int64"
      ]
     },
     "execution_count": 34,
     "metadata": {},
     "output_type": "execute_result"
    }
   ],
   "source": [
    "def children_fun(children):  #функция для присваивания статуса по детям: есть/нет\n",
    "    if children == 0:\n",
    "        return 0\n",
    "    else: return 1\n",
    "\n",
    "                        #пробегаемся по колонке и применяем функцию, с последующим формированием новой категориальной колонки\n",
    "data['ch_status'] = data['children'].apply(children_fun)\n",
    "data['ch_status'].value_counts()         # считаем количество заявителей по каждой категории"
   ]
  },
  {
   "cell_type": "code",
   "execution_count": 35,
   "metadata": {},
   "outputs": [
    {
     "data": {
      "text/plain": [
       "ch_status\n",
       "0    952\n",
       "1    610\n",
       "Name: debt, dtype: int64"
      ]
     },
     "execution_count": 35,
     "metadata": {},
     "output_type": "execute_result"
    }
   ],
   "source": [
    "ch_status = data.groupby('ch_status').sum()   # считаем значение по задолженности для каждой категории\n",
    "ch_status['debt']"
   ]
  },
  {
   "cell_type": "markdown",
   "metadata": {},
   "source": [
    "Позже, сведем данные в одну таблицу, для проведения анализа."
   ]
  },
  {
   "cell_type": "markdown",
   "metadata": {},
   "source": [
    "#### Семейное положение"
   ]
  },
  {
   "cell_type": "code",
   "execution_count": 36,
   "metadata": {
    "scrolled": false
   },
   "outputs": [
    {
     "data": {
      "text/html": [
       "<div>\n",
       "<style scoped>\n",
       "    .dataframe tbody tr th:only-of-type {\n",
       "        vertical-align: middle;\n",
       "    }\n",
       "\n",
       "    .dataframe tbody tr th {\n",
       "        vertical-align: top;\n",
       "    }\n",
       "\n",
       "    .dataframe thead th {\n",
       "        text-align: right;\n",
       "    }\n",
       "</style>\n",
       "<table border=\"1\" class=\"dataframe\">\n",
       "  <thead>\n",
       "    <tr style=\"text-align: right;\">\n",
       "      <th></th>\n",
       "      <th>Unnamed: 0</th>\n",
       "      <th>children</th>\n",
       "      <th>total_income</th>\n",
       "      <th>debt</th>\n",
       "      <th>ch_status</th>\n",
       "    </tr>\n",
       "    <tr>\n",
       "      <th>family_status_id</th>\n",
       "      <th></th>\n",
       "      <th></th>\n",
       "      <th></th>\n",
       "      <th></th>\n",
       "      <th></th>\n",
       "    </tr>\n",
       "  </thead>\n",
       "  <tbody>\n",
       "    <tr>\n",
       "      <th>0</th>\n",
       "      <td>106423924</td>\n",
       "      <td>6270</td>\n",
       "      <td>1869915521</td>\n",
       "      <td>842</td>\n",
       "      <td>4329</td>\n",
       "    </tr>\n",
       "    <tr>\n",
       "      <th>1</th>\n",
       "      <td>35839134</td>\n",
       "      <td>1673</td>\n",
       "      <td>620287780</td>\n",
       "      <td>336</td>\n",
       "      <td>1254</td>\n",
       "    </tr>\n",
       "    <tr>\n",
       "      <th>2</th>\n",
       "      <td>7865574</td>\n",
       "      <td>132</td>\n",
       "      <td>123206473</td>\n",
       "      <td>56</td>\n",
       "      <td>100</td>\n",
       "    </tr>\n",
       "    <tr>\n",
       "      <th>3</th>\n",
       "      <td>10536942</td>\n",
       "      <td>462</td>\n",
       "      <td>183474119</td>\n",
       "      <td>75</td>\n",
       "      <td>365</td>\n",
       "    </tr>\n",
       "    <tr>\n",
       "      <th>4</th>\n",
       "      <td>24240491</td>\n",
       "      <td>564</td>\n",
       "      <td>423828985</td>\n",
       "      <td>253</td>\n",
       "      <td>481</td>\n",
       "    </tr>\n",
       "  </tbody>\n",
       "</table>\n",
       "</div>"
      ],
      "text/plain": [
       "                  Unnamed: 0  children  total_income  debt  ch_status\n",
       "family_status_id                                                     \n",
       "0                  106423924      6270    1869915521   842       4329\n",
       "1                   35839134      1673     620287780   336       1254\n",
       "2                    7865574       132     123206473    56        100\n",
       "3                   10536942       462     183474119    75        365\n",
       "4                   24240491       564     423828985   253        481"
      ]
     },
     "execution_count": 36,
     "metadata": {},
     "output_type": "execute_result"
    }
   ],
   "source": [
    "family = data.groupby('family_status_id').sum()  # группируем по семейному id статусу\n",
    "family"
   ]
  },
  {
   "cell_type": "markdown",
   "metadata": {},
   "source": [
    "Хотелось бы явного отображения семейного статуса в данной таблице, добавим столбец с расшифровкой id."
   ]
  },
  {
   "cell_type": "code",
   "execution_count": 37,
   "metadata": {
    "scrolled": false
   },
   "outputs": [
    {
     "data": {
      "text/html": [
       "<div>\n",
       "<style scoped>\n",
       "    .dataframe tbody tr th:only-of-type {\n",
       "        vertical-align: middle;\n",
       "    }\n",
       "\n",
       "    .dataframe tbody tr th {\n",
       "        vertical-align: top;\n",
       "    }\n",
       "\n",
       "    .dataframe thead th {\n",
       "        text-align: right;\n",
       "    }\n",
       "</style>\n",
       "<table border=\"1\" class=\"dataframe\">\n",
       "  <thead>\n",
       "    <tr style=\"text-align: right;\">\n",
       "      <th></th>\n",
       "      <th>Unnamed: 0</th>\n",
       "      <th>children</th>\n",
       "      <th>total_income</th>\n",
       "      <th>debt</th>\n",
       "      <th>ch_status</th>\n",
       "      <th>status</th>\n",
       "    </tr>\n",
       "    <tr>\n",
       "      <th>family_status_id</th>\n",
       "      <th></th>\n",
       "      <th></th>\n",
       "      <th></th>\n",
       "      <th></th>\n",
       "      <th></th>\n",
       "      <th></th>\n",
       "    </tr>\n",
       "  </thead>\n",
       "  <tbody>\n",
       "    <tr>\n",
       "      <th>0</th>\n",
       "      <td>106423924</td>\n",
       "      <td>6270</td>\n",
       "      <td>1869915521</td>\n",
       "      <td>842</td>\n",
       "      <td>4329</td>\n",
       "      <td>[женат / замужем]</td>\n",
       "    </tr>\n",
       "    <tr>\n",
       "      <th>1</th>\n",
       "      <td>35839134</td>\n",
       "      <td>1673</td>\n",
       "      <td>620287780</td>\n",
       "      <td>336</td>\n",
       "      <td>1254</td>\n",
       "      <td>[гражданский брак]</td>\n",
       "    </tr>\n",
       "    <tr>\n",
       "      <th>2</th>\n",
       "      <td>7865574</td>\n",
       "      <td>132</td>\n",
       "      <td>123206473</td>\n",
       "      <td>56</td>\n",
       "      <td>100</td>\n",
       "      <td>[вдовец / вдова]</td>\n",
       "    </tr>\n",
       "    <tr>\n",
       "      <th>3</th>\n",
       "      <td>10536942</td>\n",
       "      <td>462</td>\n",
       "      <td>183474119</td>\n",
       "      <td>75</td>\n",
       "      <td>365</td>\n",
       "      <td>[в разводе]</td>\n",
       "    </tr>\n",
       "    <tr>\n",
       "      <th>4</th>\n",
       "      <td>24240491</td>\n",
       "      <td>564</td>\n",
       "      <td>423828985</td>\n",
       "      <td>253</td>\n",
       "      <td>481</td>\n",
       "      <td>[Не женат / не замужем]</td>\n",
       "    </tr>\n",
       "  </tbody>\n",
       "</table>\n",
       "</div>"
      ],
      "text/plain": [
       "                  Unnamed: 0  children  total_income  debt  ch_status  \\\n",
       "family_status_id                                                        \n",
       "0                  106423924      6270    1869915521   842       4329   \n",
       "1                   35839134      1673     620287780   336       1254   \n",
       "2                    7865574       132     123206473    56        100   \n",
       "3                   10536942       462     183474119    75        365   \n",
       "4                   24240491       564     423828985   253        481   \n",
       "\n",
       "                                   status  \n",
       "family_status_id                           \n",
       "0                       [женат / замужем]  \n",
       "1                      [гражданский брак]  \n",
       "2                        [вдовец / вдова]  \n",
       "3                             [в разводе]  \n",
       "4                 [Не женат / не замужем]  "
      ]
     },
     "execution_count": 37,
     "metadata": {},
     "output_type": "execute_result"
    }
   ],
   "source": [
    "family['status'] = data.groupby('family_status_id')['family_status'].unique() # значение id записываем в новый столбец 'status'\n",
    "family"
   ]
  },
  {
   "cell_type": "markdown",
   "metadata": {},
   "source": [
    "Для дальнейшего анализа необходим будет столбец с количеством заявок в каждой категории."
   ]
  },
  {
   "cell_type": "code",
   "execution_count": 38,
   "metadata": {
    "scrolled": false
   },
   "outputs": [
    {
     "data": {
      "text/html": [
       "<div>\n",
       "<style scoped>\n",
       "    .dataframe tbody tr th:only-of-type {\n",
       "        vertical-align: middle;\n",
       "    }\n",
       "\n",
       "    .dataframe tbody tr th {\n",
       "        vertical-align: top;\n",
       "    }\n",
       "\n",
       "    .dataframe thead th {\n",
       "        text-align: right;\n",
       "    }\n",
       "</style>\n",
       "<table border=\"1\" class=\"dataframe\">\n",
       "  <thead>\n",
       "    <tr style=\"text-align: right;\">\n",
       "      <th></th>\n",
       "      <th>Unnamed: 0</th>\n",
       "      <th>children</th>\n",
       "      <th>total_income</th>\n",
       "      <th>debt</th>\n",
       "      <th>ch_status</th>\n",
       "      <th>status</th>\n",
       "      <th>count</th>\n",
       "    </tr>\n",
       "    <tr>\n",
       "      <th>family_status_id</th>\n",
       "      <th></th>\n",
       "      <th></th>\n",
       "      <th></th>\n",
       "      <th></th>\n",
       "      <th></th>\n",
       "      <th></th>\n",
       "      <th></th>\n",
       "    </tr>\n",
       "  </thead>\n",
       "  <tbody>\n",
       "    <tr>\n",
       "      <th>0</th>\n",
       "      <td>106423924</td>\n",
       "      <td>6270</td>\n",
       "      <td>1869915521</td>\n",
       "      <td>842</td>\n",
       "      <td>4329</td>\n",
       "      <td>[женат / замужем]</td>\n",
       "      <td>11065</td>\n",
       "    </tr>\n",
       "    <tr>\n",
       "      <th>1</th>\n",
       "      <td>35839134</td>\n",
       "      <td>1673</td>\n",
       "      <td>620287780</td>\n",
       "      <td>336</td>\n",
       "      <td>1254</td>\n",
       "      <td>[гражданский брак]</td>\n",
       "      <td>3716</td>\n",
       "    </tr>\n",
       "    <tr>\n",
       "      <th>2</th>\n",
       "      <td>7865574</td>\n",
       "      <td>132</td>\n",
       "      <td>123206473</td>\n",
       "      <td>56</td>\n",
       "      <td>100</td>\n",
       "      <td>[вдовец / вдова]</td>\n",
       "      <td>858</td>\n",
       "    </tr>\n",
       "    <tr>\n",
       "      <th>3</th>\n",
       "      <td>10536942</td>\n",
       "      <td>462</td>\n",
       "      <td>183474119</td>\n",
       "      <td>75</td>\n",
       "      <td>365</td>\n",
       "      <td>[в разводе]</td>\n",
       "      <td>1078</td>\n",
       "    </tr>\n",
       "    <tr>\n",
       "      <th>4</th>\n",
       "      <td>24240491</td>\n",
       "      <td>564</td>\n",
       "      <td>423828985</td>\n",
       "      <td>253</td>\n",
       "      <td>481</td>\n",
       "      <td>[Не женат / не замужем]</td>\n",
       "      <td>2514</td>\n",
       "    </tr>\n",
       "  </tbody>\n",
       "</table>\n",
       "</div>"
      ],
      "text/plain": [
       "                  Unnamed: 0  children  total_income  debt  ch_status  \\\n",
       "family_status_id                                                        \n",
       "0                  106423924      6270    1869915521   842       4329   \n",
       "1                   35839134      1673     620287780   336       1254   \n",
       "2                    7865574       132     123206473    56        100   \n",
       "3                   10536942       462     183474119    75        365   \n",
       "4                   24240491       564     423828985   253        481   \n",
       "\n",
       "                                   status  count  \n",
       "family_status_id                                  \n",
       "0                       [женат / замужем]  11065  \n",
       "1                      [гражданский брак]   3716  \n",
       "2                        [вдовец / вдова]    858  \n",
       "3                             [в разводе]   1078  \n",
       "4                 [Не женат / не замужем]   2514  "
      ]
     },
     "execution_count": 38,
     "metadata": {},
     "output_type": "execute_result"
    }
   ],
   "source": [
    "family['count'] = data.groupby('family_status_id')['family_status'].count() # количество заявок на каждый семейный статус\n",
    "family"
   ]
  },
  {
   "cell_type": "markdown",
   "metadata": {},
   "source": [
    "Также, проведем еще одну категоризацию по принципу наличия либо отсутствия общего семейного бюджета у заявителя.<br> \n",
    "Уже имеющиеся категории выше **объединим в две категории** по логике человек один или в паре с кем-то. <br>\n",
    "**Назовех их соответственно:** `couple` и `single`"
   ]
  },
  {
   "cell_type": "code",
   "execution_count": 39,
   "metadata": {},
   "outputs": [],
   "source": [
    "def couple_st(status_id):   # функция фильтрации на две категории\n",
    "    if status_id < 2:\n",
    "        return 'couple'\n",
    "    else: return 'single'\n",
    "    \n",
    "data['couple_st'] = data['family_status_id'].apply(couple_st)   # применение функции и запись в новый столбец"
   ]
  },
  {
   "cell_type": "code",
   "execution_count": 40,
   "metadata": {},
   "outputs": [],
   "source": [
    "couple = data.groupby('couple_st').sum() # группируем по категориям couple и single"
   ]
  },
  {
   "cell_type": "code",
   "execution_count": 41,
   "metadata": {},
   "outputs": [],
   "source": [
    "couple['count'] = data['couple_st'].value_counts() #считаем и добавляем в новый столбец количество заявок по каждой категории\n"
   ]
  },
  {
   "cell_type": "code",
   "execution_count": 42,
   "metadata": {
    "scrolled": true
   },
   "outputs": [
    {
     "data": {
      "text/html": [
       "<div>\n",
       "<style scoped>\n",
       "    .dataframe tbody tr th:only-of-type {\n",
       "        vertical-align: middle;\n",
       "    }\n",
       "\n",
       "    .dataframe tbody tr th {\n",
       "        vertical-align: top;\n",
       "    }\n",
       "\n",
       "    .dataframe thead th {\n",
       "        text-align: right;\n",
       "    }\n",
       "</style>\n",
       "<table border=\"1\" class=\"dataframe\">\n",
       "  <thead>\n",
       "    <tr style=\"text-align: right;\">\n",
       "      <th></th>\n",
       "      <th>debt</th>\n",
       "      <th>count</th>\n",
       "    </tr>\n",
       "    <tr>\n",
       "      <th>couple_st</th>\n",
       "      <th></th>\n",
       "      <th></th>\n",
       "    </tr>\n",
       "  </thead>\n",
       "  <tbody>\n",
       "    <tr>\n",
       "      <th>couple</th>\n",
       "      <td>1178</td>\n",
       "      <td>14781</td>\n",
       "    </tr>\n",
       "    <tr>\n",
       "      <th>single</th>\n",
       "      <td>384</td>\n",
       "      <td>4450</td>\n",
       "    </tr>\n",
       "  </tbody>\n",
       "</table>\n",
       "</div>"
      ],
      "text/plain": [
       "           debt  count\n",
       "couple_st             \n",
       "couple     1178  14781\n",
       "single      384   4450"
      ]
     },
     "execution_count": 42,
     "metadata": {},
     "output_type": "execute_result"
    }
   ],
   "source": [
    "couple[['debt', 'count']]  # выводим критичные для будущего анализа столбцы"
   ]
  },
  {
   "cell_type": "markdown",
   "metadata": {},
   "source": [
    "#### Уровень дохода"
   ]
  },
  {
   "cell_type": "markdown",
   "metadata": {},
   "source": [
    "Для того, чтобы использовать данные о доходе для выявления зависимости с возникновением кредиторской задолженности, введем категориальное разделение всей выборки на процентные части от меньшего заработка к большему, чтобы иметь возможность проанализировать в дальнейшем возможное изменение ключевой метрики с ростом уровня дохода."
   ]
  },
  {
   "cell_type": "code",
   "execution_count": 43,
   "metadata": {},
   "outputs": [
    {
     "data": {
      "text/plain": [
       "0.125     81278.50\n",
       "0.250    103023.00\n",
       "0.375    123919.75\n",
       "0.500    145077.00\n",
       "0.625    169667.50\n",
       "0.750    203468.50\n",
       "0.875    260938.25\n",
       "Name: total_income, dtype: float64"
      ]
     },
     "execution_count": 43,
     "metadata": {},
     "output_type": "execute_result"
    }
   ],
   "source": [
    "data['total_income'].quantile([.125, .25, .375, .5, .625, .75, .875]) # делим выборку дохода перцентилями с шагом в 12.5%"
   ]
  },
  {
   "cell_type": "code",
   "execution_count": 44,
   "metadata": {},
   "outputs": [],
   "source": [
    "def income_f(income):             # функция присвоения категории\n",
    "    if income < 81278.50:\n",
    "        return '0%-12.5%'\n",
    "    elif income < 103023.00: \n",
    "        return '12.5%-25%'\n",
    "    elif income < 123919.75:\n",
    "        return '25%-37,5%'\n",
    "    elif income < 145077.00:\n",
    "        return '37,5%-50%'\n",
    "    elif income < 169667.50:\n",
    "        return '50%-62,5%'\n",
    "    elif income < 203468.50:\n",
    "        return '62,5%-75%'\n",
    "    elif income < 260938.25:\n",
    "        return '75%-87,5'\n",
    "    else: return '87,5%-100%'\n",
    "\n",
    "data['volume_income'] = data['total_income'].apply(income_f) # применение функции и запись в новый столбец"
   ]
  },
  {
   "cell_type": "code",
   "execution_count": 45,
   "metadata": {
    "scrolled": false
   },
   "outputs": [
    {
     "data": {
      "text/html": [
       "<div>\n",
       "<style scoped>\n",
       "    .dataframe tbody tr th:only-of-type {\n",
       "        vertical-align: middle;\n",
       "    }\n",
       "\n",
       "    .dataframe tbody tr th {\n",
       "        vertical-align: top;\n",
       "    }\n",
       "\n",
       "    .dataframe thead th {\n",
       "        text-align: right;\n",
       "    }\n",
       "</style>\n",
       "<table border=\"1\" class=\"dataframe\">\n",
       "  <thead>\n",
       "    <tr style=\"text-align: right;\">\n",
       "      <th></th>\n",
       "      <th>Unnamed: 0</th>\n",
       "      <th>children</th>\n",
       "      <th>family_status_id</th>\n",
       "      <th>total_income</th>\n",
       "      <th>debt</th>\n",
       "      <th>ch_status</th>\n",
       "    </tr>\n",
       "    <tr>\n",
       "      <th>volume_income</th>\n",
       "      <th></th>\n",
       "      <th></th>\n",
       "      <th></th>\n",
       "      <th></th>\n",
       "      <th></th>\n",
       "      <th></th>\n",
       "    </tr>\n",
       "  </thead>\n",
       "  <tbody>\n",
       "    <tr>\n",
       "      <th>0%-12.5%</th>\n",
       "      <td>23165721</td>\n",
       "      <td>972</td>\n",
       "      <td>2193</td>\n",
       "      <td>154069466</td>\n",
       "      <td>182</td>\n",
       "      <td>698</td>\n",
       "    </tr>\n",
       "    <tr>\n",
       "      <th>12.5%-25%</th>\n",
       "      <td>23213828</td>\n",
       "      <td>1150</td>\n",
       "      <td>2428</td>\n",
       "      <td>222297850</td>\n",
       "      <td>201</td>\n",
       "      <td>803</td>\n",
       "    </tr>\n",
       "    <tr>\n",
       "      <th>25%-37,5%</th>\n",
       "      <td>23254111</td>\n",
       "      <td>1105</td>\n",
       "      <td>2435</td>\n",
       "      <td>271985529</td>\n",
       "      <td>211</td>\n",
       "      <td>806</td>\n",
       "    </tr>\n",
       "    <tr>\n",
       "      <th>37,5%-50%</th>\n",
       "      <td>23104256</td>\n",
       "      <td>1205</td>\n",
       "      <td>2456</td>\n",
       "      <td>323246569</td>\n",
       "      <td>206</td>\n",
       "      <td>872</td>\n",
       "    </tr>\n",
       "    <tr>\n",
       "      <th>50%-62,5%</th>\n",
       "      <td>22856432</td>\n",
       "      <td>1120</td>\n",
       "      <td>2366</td>\n",
       "      <td>378468409</td>\n",
       "      <td>214</td>\n",
       "      <td>818</td>\n",
       "    </tr>\n",
       "    <tr>\n",
       "      <th>62,5%-75%</th>\n",
       "      <td>22812026</td>\n",
       "      <td>1141</td>\n",
       "      <td>2286</td>\n",
       "      <td>446849808</td>\n",
       "      <td>209</td>\n",
       "      <td>826</td>\n",
       "    </tr>\n",
       "    <tr>\n",
       "      <th>75%-87,5</th>\n",
       "      <td>23207724</td>\n",
       "      <td>1160</td>\n",
       "      <td>2317</td>\n",
       "      <td>552002011</td>\n",
       "      <td>173</td>\n",
       "      <td>834</td>\n",
       "    </tr>\n",
       "    <tr>\n",
       "      <th>87,5%-100%</th>\n",
       "      <td>23291967</td>\n",
       "      <td>1248</td>\n",
       "      <td>2241</td>\n",
       "      <td>871793236</td>\n",
       "      <td>166</td>\n",
       "      <td>872</td>\n",
       "    </tr>\n",
       "  </tbody>\n",
       "</table>\n",
       "</div>"
      ],
      "text/plain": [
       "               Unnamed: 0  children  family_status_id  total_income  debt  \\\n",
       "volume_income                                                               \n",
       "0%-12.5%         23165721       972              2193     154069466   182   \n",
       "12.5%-25%        23213828      1150              2428     222297850   201   \n",
       "25%-37,5%        23254111      1105              2435     271985529   211   \n",
       "37,5%-50%        23104256      1205              2456     323246569   206   \n",
       "50%-62,5%        22856432      1120              2366     378468409   214   \n",
       "62,5%-75%        22812026      1141              2286     446849808   209   \n",
       "75%-87,5         23207724      1160              2317     552002011   173   \n",
       "87,5%-100%       23291967      1248              2241     871793236   166   \n",
       "\n",
       "               ch_status  \n",
       "volume_income             \n",
       "0%-12.5%             698  \n",
       "12.5%-25%            803  \n",
       "25%-37,5%            806  \n",
       "37,5%-50%            872  \n",
       "50%-62,5%            818  \n",
       "62,5%-75%            826  \n",
       "75%-87,5             834  \n",
       "87,5%-100%           872  "
      ]
     },
     "execution_count": 45,
     "metadata": {},
     "output_type": "execute_result"
    }
   ],
   "source": [
    "volume_income = data.groupby('volume_income').sum().sort_values(by='volume_income')\n",
    "volume_income"
   ]
  },
  {
   "cell_type": "markdown",
   "metadata": {},
   "source": [
    "**Вывод**"
   ]
  },
  {
   "cell_type": "markdown",
   "metadata": {},
   "source": [
    "Общие данные удалось категорировать в зависимости от поставленных задач и вопросов, были сформированы новые вспомогательные таблицы, которые будут использованы для анализа при ответе на ключевые вопросы проекта. "
   ]
  },
  {
   "cell_type": "markdown",
   "metadata": {},
   "source": [
    "<a name=\"8\"></a>"
   ]
  },
  {
   "cell_type": "markdown",
   "metadata": {},
   "source": [
    "## Проверка гипотез [ [вверх](#15)]"
   ]
  },
  {
   "cell_type": "markdown",
   "metadata": {},
   "source": [
    "<a name=\"9\"></a>"
   ]
  },
  {
   "cell_type": "markdown",
   "metadata": {},
   "source": [
    "###  Есть ли зависимость между наличием детей и возвратом кредита в срок?  [ [вверх](#15)]"
   ]
  },
  {
   "cell_type": "markdown",
   "metadata": {},
   "source": [
    "Для ответа на этот вопрос понадобиться категорированный ранее датафрейм `ch_status`, в который мы добавим столбец с количеством заявителей по каждой категории. "
   ]
  },
  {
   "cell_type": "code",
   "execution_count": 46,
   "metadata": {},
   "outputs": [
    {
     "data": {
      "text/html": [
       "<div>\n",
       "<style scoped>\n",
       "    .dataframe tbody tr th:only-of-type {\n",
       "        vertical-align: middle;\n",
       "    }\n",
       "\n",
       "    .dataframe tbody tr th {\n",
       "        vertical-align: top;\n",
       "    }\n",
       "\n",
       "    .dataframe thead th {\n",
       "        text-align: right;\n",
       "    }\n",
       "</style>\n",
       "<table border=\"1\" class=\"dataframe\">\n",
       "  <thead>\n",
       "    <tr style=\"text-align: right;\">\n",
       "      <th></th>\n",
       "      <th>Unnamed: 0</th>\n",
       "      <th>children</th>\n",
       "      <th>family_status_id</th>\n",
       "      <th>total_income</th>\n",
       "      <th>debt</th>\n",
       "      <th>count</th>\n",
       "    </tr>\n",
       "    <tr>\n",
       "      <th>ch_status</th>\n",
       "      <th></th>\n",
       "      <th></th>\n",
       "      <th></th>\n",
       "      <th></th>\n",
       "      <th></th>\n",
       "      <th></th>\n",
       "    </tr>\n",
       "  </thead>\n",
       "  <tbody>\n",
       "    <tr>\n",
       "      <th>0</th>\n",
       "      <td>122521960</td>\n",
       "      <td>0</td>\n",
       "      <td>14249</td>\n",
       "      <td>2098031841</td>\n",
       "      <td>952</td>\n",
       "      <td>12702</td>\n",
       "    </tr>\n",
       "    <tr>\n",
       "      <th>1</th>\n",
       "      <td>62384105</td>\n",
       "      <td>9101</td>\n",
       "      <td>4473</td>\n",
       "      <td>1122681037</td>\n",
       "      <td>610</td>\n",
       "      <td>6529</td>\n",
       "    </tr>\n",
       "  </tbody>\n",
       "</table>\n",
       "</div>"
      ],
      "text/plain": [
       "           Unnamed: 0  children  family_status_id  total_income  debt  count\n",
       "ch_status                                                                   \n",
       "0           122521960         0             14249    2098031841   952  12702\n",
       "1            62384105      9101              4473    1122681037   610   6529"
      ]
     },
     "execution_count": 46,
     "metadata": {},
     "output_type": "execute_result"
    }
   ],
   "source": [
    "ch_status['count'] = data['ch_status'].value_counts()#добавляем столбец с данными о количестве заявителей по каждой категории\n",
    "ch_status"
   ]
  },
  {
   "cell_type": "markdown",
   "metadata": {},
   "source": [
    "Посчитаем процентное соотношение должников к количеству заявителей по каждой категории и выведем для наглядности только важные столбы."
   ]
  },
  {
   "cell_type": "code",
   "execution_count": 47,
   "metadata": {},
   "outputs": [
    {
     "data": {
      "text/html": [
       "<div>\n",
       "<style scoped>\n",
       "    .dataframe tbody tr th:only-of-type {\n",
       "        vertical-align: middle;\n",
       "    }\n",
       "\n",
       "    .dataframe tbody tr th {\n",
       "        vertical-align: top;\n",
       "    }\n",
       "\n",
       "    .dataframe thead th {\n",
       "        text-align: right;\n",
       "    }\n",
       "</style>\n",
       "<table border=\"1\" class=\"dataframe\">\n",
       "  <thead>\n",
       "    <tr style=\"text-align: right;\">\n",
       "      <th></th>\n",
       "      <th>debt</th>\n",
       "      <th>count</th>\n",
       "      <th>percent</th>\n",
       "    </tr>\n",
       "    <tr>\n",
       "      <th>ch_status</th>\n",
       "      <th></th>\n",
       "      <th></th>\n",
       "      <th></th>\n",
       "    </tr>\n",
       "  </thead>\n",
       "  <tbody>\n",
       "    <tr>\n",
       "      <th>0</th>\n",
       "      <td>952</td>\n",
       "      <td>12702</td>\n",
       "      <td>7.5</td>\n",
       "    </tr>\n",
       "    <tr>\n",
       "      <th>1</th>\n",
       "      <td>610</td>\n",
       "      <td>6529</td>\n",
       "      <td>9.3</td>\n",
       "    </tr>\n",
       "  </tbody>\n",
       "</table>\n",
       "</div>"
      ],
      "text/plain": [
       "           debt  count  percent\n",
       "ch_status                      \n",
       "0           952  12702      7.5\n",
       "1           610   6529      9.3"
      ]
     },
     "execution_count": 47,
     "metadata": {},
     "output_type": "execute_result"
    }
   ],
   "source": [
    "ch_status['percent'] = ch_status['debt']/ch_status['count']*100\n",
    "ch_status[['debt','count','percent']].round(1)"
   ]
  },
  {
   "cell_type": "markdown",
   "metadata": {},
   "source": [
    "Как мы видим из таблицы, процент наличия кредиторской задолженности в категории **\"без детей\" равен 7.5%**, а в категории **\"с детьми\" - 9,3%**. <br>\n",
    "**Показатель возврата кредита в срок лучше в категории `без детей` на 1,8 процентных пункта.**\n"
   ]
  },
  {
   "cell_type": "markdown",
   "metadata": {},
   "source": [
    "**Вывод**"
   ]
  },
  {
   "cell_type": "markdown",
   "metadata": {},
   "source": [
    "**`Показатели каждой категории близки, чтобы отсекать при скоринге категорию \"с детьми\", но при наличии цели увеличения конверсионных показателей по денежному обороту и ограничении в количестве выдаваемых кредитов приоритезация в сторону категории \"без детей\" может дать прирост почти в 20% ((9.3-7.5)/9.3*100).`**"
   ]
  },
  {
   "cell_type": "markdown",
   "metadata": {},
   "source": [
    "<a name=\"10\"></a>"
   ]
  },
  {
   "cell_type": "markdown",
   "metadata": {},
   "source": [
    "### Есть ли зависимость между семейным положением и возвратом кредита в срок?  [ [вверх](#15)]"
   ]
  },
  {
   "cell_type": "markdown",
   "metadata": {},
   "source": [
    "Обратимся к первой категориальной таблице. Посчитаем и добавим новым столбцом отношение показателя задолженности к количеству заявителей по каждой категории. Выведем необходимые для анализа столбцы."
   ]
  },
  {
   "cell_type": "code",
   "execution_count": 48,
   "metadata": {
    "scrolled": true
   },
   "outputs": [
    {
     "data": {
      "text/html": [
       "<div>\n",
       "<style scoped>\n",
       "    .dataframe tbody tr th:only-of-type {\n",
       "        vertical-align: middle;\n",
       "    }\n",
       "\n",
       "    .dataframe tbody tr th {\n",
       "        vertical-align: top;\n",
       "    }\n",
       "\n",
       "    .dataframe thead th {\n",
       "        text-align: right;\n",
       "    }\n",
       "</style>\n",
       "<table border=\"1\" class=\"dataframe\">\n",
       "  <thead>\n",
       "    <tr style=\"text-align: right;\">\n",
       "      <th></th>\n",
       "      <th>status</th>\n",
       "      <th>debt</th>\n",
       "      <th>count</th>\n",
       "      <th>percent</th>\n",
       "    </tr>\n",
       "    <tr>\n",
       "      <th>family_status_id</th>\n",
       "      <th></th>\n",
       "      <th></th>\n",
       "      <th></th>\n",
       "      <th></th>\n",
       "    </tr>\n",
       "  </thead>\n",
       "  <tbody>\n",
       "    <tr>\n",
       "      <th>0</th>\n",
       "      <td>[женат / замужем]</td>\n",
       "      <td>842</td>\n",
       "      <td>11065</td>\n",
       "      <td>7.6</td>\n",
       "    </tr>\n",
       "    <tr>\n",
       "      <th>1</th>\n",
       "      <td>[гражданский брак]</td>\n",
       "      <td>336</td>\n",
       "      <td>3716</td>\n",
       "      <td>9.0</td>\n",
       "    </tr>\n",
       "    <tr>\n",
       "      <th>2</th>\n",
       "      <td>[вдовец / вдова]</td>\n",
       "      <td>56</td>\n",
       "      <td>858</td>\n",
       "      <td>6.5</td>\n",
       "    </tr>\n",
       "    <tr>\n",
       "      <th>3</th>\n",
       "      <td>[в разводе]</td>\n",
       "      <td>75</td>\n",
       "      <td>1078</td>\n",
       "      <td>7.0</td>\n",
       "    </tr>\n",
       "    <tr>\n",
       "      <th>4</th>\n",
       "      <td>[Не женат / не замужем]</td>\n",
       "      <td>253</td>\n",
       "      <td>2514</td>\n",
       "      <td>10.1</td>\n",
       "    </tr>\n",
       "  </tbody>\n",
       "</table>\n",
       "</div>"
      ],
      "text/plain": [
       "                                   status  debt  count  percent\n",
       "family_status_id                                               \n",
       "0                       [женат / замужем]   842  11065      7.6\n",
       "1                      [гражданский брак]   336   3716      9.0\n",
       "2                        [вдовец / вдова]    56    858      6.5\n",
       "3                             [в разводе]    75   1078      7.0\n",
       "4                 [Не женат / не замужем]   253   2514     10.1"
      ]
     },
     "execution_count": 48,
     "metadata": {},
     "output_type": "execute_result"
    }
   ],
   "source": [
    "family['percent'] = family['debt']/family['count']*100\n",
    "\n",
    "family[['status','debt','count','percent']].round(1)"
   ]
  },
  {
   "cell_type": "markdown",
   "metadata": {},
   "source": [
    "Как видно из таблицы, самая ответственная категория по уплате кредита `[вдовец / вдова]` с показателем в 6.5%, а самая не надежная категория `[Не женат / не замужем]`, где каждый десятый имел наличие задолженности (10,1%). <br>"
   ]
  },
  {
   "cell_type": "markdown",
   "metadata": {},
   "source": [
    "Теперь посмотрим вторую категориальную таблицу, где распределение ведется по наличию или отсутствию партнера, и как следствие предполагает наличие семейного бюджета."
   ]
  },
  {
   "cell_type": "code",
   "execution_count": 49,
   "metadata": {
    "scrolled": true
   },
   "outputs": [
    {
     "data": {
      "text/html": [
       "<div>\n",
       "<style scoped>\n",
       "    .dataframe tbody tr th:only-of-type {\n",
       "        vertical-align: middle;\n",
       "    }\n",
       "\n",
       "    .dataframe tbody tr th {\n",
       "        vertical-align: top;\n",
       "    }\n",
       "\n",
       "    .dataframe thead th {\n",
       "        text-align: right;\n",
       "    }\n",
       "</style>\n",
       "<table border=\"1\" class=\"dataframe\">\n",
       "  <thead>\n",
       "    <tr style=\"text-align: right;\">\n",
       "      <th></th>\n",
       "      <th>debt</th>\n",
       "      <th>count</th>\n",
       "      <th>percent</th>\n",
       "    </tr>\n",
       "    <tr>\n",
       "      <th>couple_st</th>\n",
       "      <th></th>\n",
       "      <th></th>\n",
       "      <th></th>\n",
       "    </tr>\n",
       "  </thead>\n",
       "  <tbody>\n",
       "    <tr>\n",
       "      <th>couple</th>\n",
       "      <td>1178</td>\n",
       "      <td>14781</td>\n",
       "      <td>8.0</td>\n",
       "    </tr>\n",
       "    <tr>\n",
       "      <th>single</th>\n",
       "      <td>384</td>\n",
       "      <td>4450</td>\n",
       "      <td>8.6</td>\n",
       "    </tr>\n",
       "  </tbody>\n",
       "</table>\n",
       "</div>"
      ],
      "text/plain": [
       "           debt  count  percent\n",
       "couple_st                      \n",
       "couple     1178  14781      8.0\n",
       "single      384   4450      8.6"
      ]
     },
     "execution_count": 49,
     "metadata": {},
     "output_type": "execute_result"
    }
   ],
   "source": [
    "couple['percent'] = couple['debt']/couple['count']*100\n",
    "couple[['debt', 'count', 'percent']].round(1)"
   ]
  },
  {
   "cell_type": "markdown",
   "metadata": {},
   "source": [
    "По данным категориям очень назначительное расхождение - 0.6%. Семейные пары оказались, чуть-чуть более надежными заемщиками,чем одиночки. Таким показателем можно пренебречь, и не рассматривать данный вариант фильтра при скоринге."
   ]
  },
  {
   "cell_type": "markdown",
   "metadata": {},
   "source": [
    "**Вывод**"
   ]
  },
  {
   "cell_type": "markdown",
   "metadata": {},
   "source": [
    "Существует достаточно серьезный разброс между наиболее \"надежной\" и \"недобросоветсной\" категориями - 3,6%. Так как превышение исчисляется не порядками, несколькими процентами, то отфильтровывать по одному фактору без понижающих дополнительных критериев большого смысла нет. При комплексном скоринге такая величина может уже сыграть роль, в случае набора дополнительных отрицательных метрик."
   ]
  },
  {
   "cell_type": "markdown",
   "metadata": {},
   "source": [
    "<a name=\"11\"></a>"
   ]
  },
  {
   "cell_type": "markdown",
   "metadata": {},
   "source": [
    "### Есть ли зависимость между уровнем дохода и возвратом кредита в срок?   [ [вверх](#15)]"
   ]
  },
  {
   "cell_type": "markdown",
   "metadata": {},
   "source": [
    "Воспользуемся предварительной таблицей и добавим к ней два столбца: количество заемщиков на каждую категорию и процент людей имеющих факт кредитной задолженности. <br>\n",
    "Выведем важные для анализа столбцы."
   ]
  },
  {
   "cell_type": "code",
   "execution_count": 50,
   "metadata": {
    "scrolled": true
   },
   "outputs": [
    {
     "data": {
      "text/html": [
       "<div>\n",
       "<style scoped>\n",
       "    .dataframe tbody tr th:only-of-type {\n",
       "        vertical-align: middle;\n",
       "    }\n",
       "\n",
       "    .dataframe tbody tr th {\n",
       "        vertical-align: top;\n",
       "    }\n",
       "\n",
       "    .dataframe thead th {\n",
       "        text-align: right;\n",
       "    }\n",
       "</style>\n",
       "<table border=\"1\" class=\"dataframe\">\n",
       "  <thead>\n",
       "    <tr style=\"text-align: right;\">\n",
       "      <th></th>\n",
       "      <th>debt</th>\n",
       "      <th>count</th>\n",
       "      <th>percent</th>\n",
       "    </tr>\n",
       "    <tr>\n",
       "      <th>volume_income</th>\n",
       "      <th></th>\n",
       "      <th></th>\n",
       "      <th></th>\n",
       "    </tr>\n",
       "  </thead>\n",
       "  <tbody>\n",
       "    <tr>\n",
       "      <th>0%-12.5%</th>\n",
       "      <td>182</td>\n",
       "      <td>2404</td>\n",
       "      <td>7.6</td>\n",
       "    </tr>\n",
       "    <tr>\n",
       "      <th>12.5%-25%</th>\n",
       "      <td>201</td>\n",
       "      <td>2404</td>\n",
       "      <td>8.4</td>\n",
       "    </tr>\n",
       "    <tr>\n",
       "      <th>25%-37,5%</th>\n",
       "      <td>211</td>\n",
       "      <td>2404</td>\n",
       "      <td>8.8</td>\n",
       "    </tr>\n",
       "    <tr>\n",
       "      <th>37,5%-50%</th>\n",
       "      <td>206</td>\n",
       "      <td>2403</td>\n",
       "      <td>8.6</td>\n",
       "    </tr>\n",
       "    <tr>\n",
       "      <th>50%-62,5%</th>\n",
       "      <td>214</td>\n",
       "      <td>2404</td>\n",
       "      <td>8.9</td>\n",
       "    </tr>\n",
       "    <tr>\n",
       "      <th>62,5%-75%</th>\n",
       "      <td>209</td>\n",
       "      <td>2404</td>\n",
       "      <td>8.7</td>\n",
       "    </tr>\n",
       "    <tr>\n",
       "      <th>75%-87,5</th>\n",
       "      <td>173</td>\n",
       "      <td>2404</td>\n",
       "      <td>7.2</td>\n",
       "    </tr>\n",
       "    <tr>\n",
       "      <th>87,5%-100%</th>\n",
       "      <td>166</td>\n",
       "      <td>2404</td>\n",
       "      <td>6.9</td>\n",
       "    </tr>\n",
       "  </tbody>\n",
       "</table>\n",
       "</div>"
      ],
      "text/plain": [
       "               debt  count  percent\n",
       "volume_income                      \n",
       "0%-12.5%        182   2404      7.6\n",
       "12.5%-25%       201   2404      8.4\n",
       "25%-37,5%       211   2404      8.8\n",
       "37,5%-50%       206   2403      8.6\n",
       "50%-62,5%       214   2404      8.9\n",
       "62,5%-75%       209   2404      8.7\n",
       "75%-87,5        173   2404      7.2\n",
       "87,5%-100%      166   2404      6.9"
      ]
     },
     "execution_count": 50,
     "metadata": {},
     "output_type": "execute_result"
    }
   ],
   "source": [
    "volume_income['count'] = data.groupby('volume_income')['total_income'].count()\n",
    "volume_income['percent'] = volume_income['debt']/volume_income['count']*100\n",
    "volume_income[['debt', 'count', 'percent']].round(1)"
   ]
  },
  {
   "cell_type": "markdown",
   "metadata": {},
   "source": [
    "Деление выборки было равномерным с шагом в 12.5% на увеличение дохода, результаты в виде процента \"ненадежных\" заемщиков имеют крайне малый разброс и носят скорее случайный характер, нежели определенную закономерность. <br>"
   ]
  },
  {
   "cell_type": "markdown",
   "metadata": {},
   "source": [
    "**Вывод**"
   ]
  },
  {
   "cell_type": "markdown",
   "metadata": {},
   "source": [
    "Как мы видим, наличие бОльшего дохода не определяет надежность заемщика, так как главный критерий - это умение грамотно распоряжаться финансами, ведь с ростом доходов, растут и расходы. <br>\n",
    "Можно лишь сделать предположения, глядя на самый лучший показатель в этой таблице (6,9%), что люди на вершине данной выборки по доходу не просто так туда попали, а обладают чуть более лучшими навыками управления личными финансами."
   ]
  },
  {
   "cell_type": "markdown",
   "metadata": {},
   "source": [
    "<a name=\"12\"></a>"
   ]
  },
  {
   "cell_type": "markdown",
   "metadata": {},
   "source": [
    "### Как разные цели кредита влияют на его возврат в срок?   [ [вверх](#15)]"
   ]
  },
  {
   "cell_type": "markdown",
   "metadata": {},
   "source": [
    "Применим к сгруппированной таблице с целями кредита формулу расчета доли ненадежных заемщиков. Выведем важные столбцы."
   ]
  },
  {
   "cell_type": "code",
   "execution_count": 51,
   "metadata": {
    "scrolled": true
   },
   "outputs": [
    {
     "data": {
      "text/html": [
       "<div>\n",
       "<style scoped>\n",
       "    .dataframe tbody tr th:only-of-type {\n",
       "        vertical-align: middle;\n",
       "    }\n",
       "\n",
       "    .dataframe tbody tr th {\n",
       "        vertical-align: top;\n",
       "    }\n",
       "\n",
       "    .dataframe thead th {\n",
       "        text-align: right;\n",
       "    }\n",
       "</style>\n",
       "<table border=\"1\" class=\"dataframe\">\n",
       "  <thead>\n",
       "    <tr style=\"text-align: right;\">\n",
       "      <th></th>\n",
       "      <th>debt</th>\n",
       "      <th>count</th>\n",
       "      <th>percent</th>\n",
       "    </tr>\n",
       "    <tr>\n",
       "      <th>category</th>\n",
       "      <th></th>\n",
       "      <th></th>\n",
       "      <th></th>\n",
       "    </tr>\n",
       "  </thead>\n",
       "  <tbody>\n",
       "    <tr>\n",
       "      <th>автомобиль</th>\n",
       "      <td>364</td>\n",
       "      <td>3871</td>\n",
       "      <td>9.4</td>\n",
       "    </tr>\n",
       "    <tr>\n",
       "      <th>недвижимость</th>\n",
       "      <td>713</td>\n",
       "      <td>9700</td>\n",
       "      <td>7.4</td>\n",
       "    </tr>\n",
       "    <tr>\n",
       "      <th>образование</th>\n",
       "      <td>330</td>\n",
       "      <td>3574</td>\n",
       "      <td>9.2</td>\n",
       "    </tr>\n",
       "    <tr>\n",
       "      <th>свадьба</th>\n",
       "      <td>155</td>\n",
       "      <td>2086</td>\n",
       "      <td>7.4</td>\n",
       "    </tr>\n",
       "  </tbody>\n",
       "</table>\n",
       "</div>"
      ],
      "text/plain": [
       "              debt  count  percent\n",
       "category                          \n",
       "автомобиль     364   3871      9.4\n",
       "недвижимость   713   9700      7.4\n",
       "образование    330   3574      9.2\n",
       "свадьба        155   2086      7.4"
      ]
     },
     "execution_count": 51,
     "metadata": {},
     "output_type": "execute_result"
    }
   ],
   "source": [
    "category['percent'] = category['debt']/category['count']*100\n",
    "category[['debt','count','percent']].round(1)"
   ]
  },
  {
   "cell_type": "markdown",
   "metadata": {},
   "source": [
    "Как видно из таблицы наши категории поделились на два лагеря: более надежные с целями `свадьба` и `недвижимость`, и менее надежные с `автомобилем` и `образованием`. <br>\n",
    "**Показатели практически идентичные: 7.4% - недвижимость и свадьба, 9.3% в среднем - автомобиль и образование.**"
   ]
  },
  {
   "cell_type": "markdown",
   "metadata": {},
   "source": [
    "**Вывод**"
   ]
  },
  {
   "cell_type": "markdown",
   "metadata": {},
   "source": [
    "Можно предположить следующее: <br>\n",
    "1) бОльшая надежность в категории недвижимость скорее всего связана с грядущим долгосрочным обременением и как следствие более взвешенным и просчитанным решением. Тем более, в случае просрочек, есть риск потерять крышу над головой. <br>\n",
    "2) Автомобиль и образование цели менее стоимостные в общем случае, и возможно более спонтанные в определенной доле от общего числа, что может приводить к более халатному отношению.<br>\n",
    "3) Свадебная категория, хоть и близка по критериям к автомобилю и образованию, носит краткосрочный и средснесрочный характер, но компенсируется доброй традицией дарить деньги на данное событие, что возможно улучшает платежеспособность заемщика.<br>\n",
    "<br>\n",
    "Также, заметна разница в количестве обращений по разным целям: лидирует \"недвижимость\", обгоняя \"автомобиль\" и \"образование\" в 2-2.5 раза, и почти в 5 раз \"свадьбу\"."
   ]
  },
  {
   "cell_type": "markdown",
   "metadata": {},
   "source": [
    "<a name=\"13\"></a>"
   ]
  },
  {
   "cell_type": "markdown",
   "metadata": {},
   "source": [
    "## Общий вывод   [ [вверх](#15)]"
   ]
  },
  {
   "cell_type": "markdown",
   "metadata": {},
   "source": [
    "Проанализированные категории и зависимости в частном отдельном случае не дают повода отказывать в выдаче кредита, так как надежность заемщиков во всех рассмотренных категориях отличается на единицы процентов, а не на порядки. Но в случае действующего ограничения на момент времени по количеству выдаваемых кредитов, можно использовать проанализированные данные для выстраивания приоритизации и снижению рисков по совокупности категориальных факторов."
   ]
  },
  {
   "cell_type": "markdown",
   "metadata": {},
   "source": [
    "<a name=\"14\"></a>"
   ]
  }
 ],
 "metadata": {
  "celltoolbar": "Необработанный формат ячейки",
  "kernelspec": {
   "display_name": "Python 3",
   "language": "python",
   "name": "python3"
  },
  "language_info": {
   "codemirror_mode": {
    "name": "ipython",
    "version": 3
   },
   "file_extension": ".py",
   "mimetype": "text/x-python",
   "name": "python",
   "nbconvert_exporter": "python",
   "pygments_lexer": "ipython3",
   "version": "3.8.5"
  },
  "toc": {
   "base_numbering": 1,
   "nav_menu": {},
   "number_sections": true,
   "sideBar": true,
   "skip_h1_title": true,
   "title_cell": "Table of Contents",
   "title_sidebar": "Contents",
   "toc_cell": false,
   "toc_position": {},
   "toc_section_display": true,
   "toc_window_display": false
  }
 },
 "nbformat": 4,
 "nbformat_minor": 2
}
