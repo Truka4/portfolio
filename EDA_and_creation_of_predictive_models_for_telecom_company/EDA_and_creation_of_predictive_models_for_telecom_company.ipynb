{
 "cells": [
  {
   "cell_type": "markdown",
   "metadata": {},
   "source": [
    "# ЧАСТЬ 1. ИССЛЕДОВАТЕЛЬСКИЙ АНАЛИЗ ДАННЫХ ДЛЯ ТЕЛЕКОМ КОМПАНИИ"
   ]
  },
  {
   "cell_type": "markdown",
   "metadata": {},
   "source": [
    "# Постановка бизнес-задачи"
   ]
  },
  {
   "cell_type": "markdown",
   "metadata": {},
   "source": [
    "Необходимо научиться прогнозировать отток клиентов для своевременного принятия мер по предотвращению данного процесса."
   ]
  },
  {
   "cell_type": "markdown",
   "metadata": {
    "toc": true
   },
   "source": [
    "<h1>ОГЛАВЛЕНИЕ<span class=\"tocSkip\"></span></h1>\n",
    "<div class=\"toc\"><ul class=\"toc-item\"><li><span><a href=\"#Первичное-изучение--и-предобработка-данных\" data-toc-modified-id=\"Первичное-изучение--и-предобработка-данных-1\"><span class=\"toc-item-num\">1&nbsp;&nbsp;</span>Первичное изучение  и предобработка данных</a></span><ul class=\"toc-item\"><li><span><a href=\"#Таблица-с-информацией-о-договорах-(contract)\" data-toc-modified-id=\"Таблица-с-информацией-о-договорах-(contract)-1.1\"><span class=\"toc-item-num\">1.1&nbsp;&nbsp;</span>Таблица с информацией о договорах (contract)</a></span><ul class=\"toc-item\"><li><span><a href=\"#Даты-начала-контрактов-(BeginDate)\" data-toc-modified-id=\"Даты-начала-контрактов-(BeginDate)-1.1.1\"><span class=\"toc-item-num\">1.1.1&nbsp;&nbsp;</span>Даты начала контрактов (BeginDate)</a></span></li><li><span><a href=\"#Идентификаторы-клиентов-(customerID).\" data-toc-modified-id=\"Идентификаторы-клиентов-(customerID).-1.1.2\"><span class=\"toc-item-num\">1.1.2&nbsp;&nbsp;</span>Идентификаторы клиентов (customerID).</a></span></li><li><span><a href=\"#Дата-окончания-контракта-(EndDate).\" data-toc-modified-id=\"Дата-окончания-контракта-(EndDate).-1.1.3\"><span class=\"toc-item-num\">1.1.3&nbsp;&nbsp;</span>Дата окончания контракта (EndDate).</a></span></li><li><span><a href=\"#Тип-контракта-(Type).\" data-toc-modified-id=\"Тип-контракта-(Type).-1.1.4\"><span class=\"toc-item-num\">1.1.4&nbsp;&nbsp;</span>Тип контракта (Type).</a></span></li><li><span><a href=\"#Электронный-документооборот-(PaperlessBilling).\" data-toc-modified-id=\"Электронный-документооборот-(PaperlessBilling).-1.1.5\"><span class=\"toc-item-num\">1.1.5&nbsp;&nbsp;</span>Электронный документооборот (PaperlessBilling).</a></span></li><li><span><a href=\"#Способы-оплаты-(PaymentMethod).\" data-toc-modified-id=\"Способы-оплаты-(PaymentMethod).-1.1.6\"><span class=\"toc-item-num\">1.1.6&nbsp;&nbsp;</span>Способы оплаты (PaymentMethod).</a></span></li><li><span><a href=\"#MonthlyCharges-и-TotalCharges\" data-toc-modified-id=\"MonthlyCharges-и-TotalCharges-1.1.7\"><span class=\"toc-item-num\">1.1.7&nbsp;&nbsp;</span>MonthlyCharges и TotalCharges</a></span></li></ul></li><li><span><a href=\"#Таблица-с-данными-о-клиентах-(personal).\" data-toc-modified-id=\"Таблица-с-данными-о-клиентах-(personal).-1.2\"><span class=\"toc-item-num\">1.2&nbsp;&nbsp;</span>Таблица с данными о клиентах (personal).</a></span></li><li><span><a href=\"#Информация-об-интернет-услугах-(internet).\" data-toc-modified-id=\"Информация-об-интернет-услугах-(internet).-1.3\"><span class=\"toc-item-num\">1.3&nbsp;&nbsp;</span>Информация об интернет-услугах (internet).</a></span></li><li><span><a href=\"#Информация-об-услугах-телефонии-(phone)\" data-toc-modified-id=\"Информация-об-услугах-телефонии-(phone)-1.4\"><span class=\"toc-item-num\">1.4&nbsp;&nbsp;</span>Информация об услугах телефонии (phone)</a></span></li></ul></li><li><span><a href=\"#Создание-целевого-и-дополнительного-признаков.-Поиск-аномалий.\" data-toc-modified-id=\"Создание-целевого-и-дополнительного-признаков.-Поиск-аномалий.-2\"><span class=\"toc-item-num\">2&nbsp;&nbsp;</span>Создание целевого и дополнительного признаков. Поиск аномалий.</a></span><ul class=\"toc-item\"><li><span><a href=\"#Объединение-таблиц\" data-toc-modified-id=\"Объединение-таблиц-2.1\"><span class=\"toc-item-num\">2.1&nbsp;&nbsp;</span>Объединение таблиц</a></span></li><li><span><a href=\"#Целевой-и-дополнительный-признаки.\" data-toc-modified-id=\"Целевой-и-дополнительный-признаки.-2.2\"><span class=\"toc-item-num\">2.2&nbsp;&nbsp;</span>Целевой и дополнительный признаки.</a></span><ul class=\"toc-item\"><li><span><a href=\"#Дополнительный-признак\" data-toc-modified-id=\"Дополнительный-признак-2.2.1\"><span class=\"toc-item-num\">2.2.1&nbsp;&nbsp;</span>Дополнительный признак</a></span></li><li><span><a href=\"#Второй-дополнительный-признак\" data-toc-modified-id=\"Второй-дополнительный-признак-2.2.2\"><span class=\"toc-item-num\">2.2.2&nbsp;&nbsp;</span>Второй дополнительный признак</a></span></li><li><span><a href=\"#Целевой-признак\" data-toc-modified-id=\"Целевой-признак-2.2.3\"><span class=\"toc-item-num\">2.2.3&nbsp;&nbsp;</span>Целевой признак</a></span></li></ul></li><li><span><a href=\"#Поиск-аномалий\" data-toc-modified-id=\"Поиск-аномалий-2.3\"><span class=\"toc-item-num\">2.3&nbsp;&nbsp;</span>Поиск аномалий</a></span><ul class=\"toc-item\"><li><span><a href=\"#Суммарный-платеж-от-клиента\" data-toc-modified-id=\"Суммарный-платеж-от-клиента-2.3.1\"><span class=\"toc-item-num\">2.3.1&nbsp;&nbsp;</span>Суммарный платеж от клиента</a></span></li><li><span><a href=\"#Месячный-платеж-от-клиента\" data-toc-modified-id=\"Месячный-платеж-от-клиента-2.3.2\"><span class=\"toc-item-num\">2.3.2&nbsp;&nbsp;</span>Месячный платеж от клиента</a></span></li><li><span><a href=\"#Время-жизни-клиента\" data-toc-modified-id=\"Время-жизни-клиента-2.3.3\"><span class=\"toc-item-num\">2.3.3&nbsp;&nbsp;</span>Время жизни клиента</a></span></li></ul></li></ul></li><li><span><a href=\"#План-разработки-моделей\" data-toc-modified-id=\"План-разработки-моделей-3\"><span class=\"toc-item-num\">3&nbsp;&nbsp;</span>План разработки моделей</a></span></li><li><span><a href=\"#Подготовка-признаков:-кодирование,-масштабирование-и-балансировка-данных.\" data-toc-modified-id=\"Подготовка-признаков:-кодирование,-масштабирование-и-балансировка-данных.-4\"><span class=\"toc-item-num\">4&nbsp;&nbsp;</span>Подготовка признаков: кодирование, масштабирование и балансировка данных.</a></span><ul class=\"toc-item\"><li><span><a href=\"#Кодирование-признаков\" data-toc-modified-id=\"Кодирование-признаков-4.1\"><span class=\"toc-item-num\">4.1&nbsp;&nbsp;</span>Кодирование признаков</a></span></li><li><span><a href=\"#Масштабирование-количественных-признаков\" data-toc-modified-id=\"Масштабирование-количественных-признаков-4.2\"><span class=\"toc-item-num\">4.2&nbsp;&nbsp;</span>Масштабирование количественных признаков</a></span></li><li><span><a href=\"#Проверка-на-мультиколлиниарность\" data-toc-modified-id=\"Проверка-на-мультиколлиниарность-4.3\"><span class=\"toc-item-num\">4.3&nbsp;&nbsp;</span>Проверка на мультиколлиниарность</a></span></li><li><span><a href=\"#Балансировка-данных\" data-toc-modified-id=\"Балансировка-данных-4.4\"><span class=\"toc-item-num\">4.4&nbsp;&nbsp;</span>Балансировка данных</a></span></li></ul></li><li><span><a href=\"#Обучение-моделей\" data-toc-modified-id=\"Обучение-моделей-5\"><span class=\"toc-item-num\">5&nbsp;&nbsp;</span>Обучение моделей</a></span><ul class=\"toc-item\"><li><span><a href=\"#Модель-случайного-леса\" data-toc-modified-id=\"Модель-случайного-леса-5.1\"><span class=\"toc-item-num\">5.1&nbsp;&nbsp;</span>Модель случайного леса</a></span><ul class=\"toc-item\"><li><span><a href=\"#График-важности-признаков-для-модели\" data-toc-modified-id=\"График-важности-признаков-для-модели-5.1.1\"><span class=\"toc-item-num\">5.1.1&nbsp;&nbsp;</span>График важности признаков для модели</a></span></li></ul></li><li><span><a href=\"#Модель-CatBoost\" data-toc-modified-id=\"Модель-CatBoost-5.2\"><span class=\"toc-item-num\">5.2&nbsp;&nbsp;</span>Модель CatBoost</a></span><ul class=\"toc-item\"><li><span><a href=\"#График-важности-признаков-для-модели\" data-toc-modified-id=\"График-важности-признаков-для-модели-5.2.1\"><span class=\"toc-item-num\">5.2.1&nbsp;&nbsp;</span>График важности признаков для модели</a></span></li></ul></li><li><span><a href=\"#Модель-LightGBM\" data-toc-modified-id=\"Модель-LightGBM-5.3\"><span class=\"toc-item-num\">5.3&nbsp;&nbsp;</span>Модель LightGBM</a></span><ul class=\"toc-item\"><li><span><a href=\"#График-важности-признаков-для-модели\" data-toc-modified-id=\"График-важности-признаков-для-модели-5.3.1\"><span class=\"toc-item-num\">5.3.1&nbsp;&nbsp;</span>График важности признаков для модели</a></span></li></ul></li><li><span><a href=\"#Модель-LogisticRegression\" data-toc-modified-id=\"Модель-LogisticRegression-5.4\"><span class=\"toc-item-num\">5.4&nbsp;&nbsp;</span>Модель LogisticRegression</a></span><ul class=\"toc-item\"><li><span><a href=\"#График-важности-признаков-для-модели\" data-toc-modified-id=\"График-важности-признаков-для-модели-5.4.1\"><span class=\"toc-item-num\">5.4.1&nbsp;&nbsp;</span>График важности признаков для модели</a></span></li></ul></li></ul></li><li><span><a href=\"#Выводы\" data-toc-modified-id=\"Выводы-6\"><span class=\"toc-item-num\">6&nbsp;&nbsp;</span>Выводы</a></span></li><li><span><a href=\"#EDA-поведения-разных-групп-клиентов.\" data-toc-modified-id=\"EDA-поведения-разных-групп-клиентов.-7\"><span class=\"toc-item-num\">7&nbsp;&nbsp;</span>EDA поведения разных групп клиентов.</a></span><ul class=\"toc-item\"><li><span><a href=\"#Сравнение-величин-месячных-платежей-всех-клиентов-и-ушедших.\" data-toc-modified-id=\"Сравнение-величин-месячных-платежей-всех-клиентов-и-ушедших.-7.1\"><span class=\"toc-item-num\">7.1&nbsp;&nbsp;</span>Сравнение величин месячных платежей всех клиентов и ушедших.</a></span></li><li><span><a href=\"#Сравнение-поведения-групп\" data-toc-modified-id=\"Сравнение-поведения-групп-7.2\"><span class=\"toc-item-num\">7.2&nbsp;&nbsp;</span>Сравнение поведения групп</a></span><ul class=\"toc-item\"><li><span><a href=\"#Телефонная-связь\" data-toc-modified-id=\"Телефонная-связь-7.2.1\"><span class=\"toc-item-num\">7.2.1&nbsp;&nbsp;</span>Телефонная связь</a></span></li><li><span><a href=\"#График-соотношения-с-услугой-телефонии-и-без-для-группы-отключенных-клиентов.\" data-toc-modified-id=\"График-соотношения-с-услугой-телефонии-и-без-для-группы-отключенных-клиентов.-7.2.2\"><span class=\"toc-item-num\">7.2.2&nbsp;&nbsp;</span>График соотношения с услугой телефонии и без для группы отключенных клиентов.</a></span></li><li><span><a href=\"#График-соотношения-с-услугой-телефонии-и-без-для-группы-действующих-клиентов.\" data-toc-modified-id=\"График-соотношения-с-услугой-телефонии-и-без-для-группы-действующих-клиентов.-7.2.3\"><span class=\"toc-item-num\">7.2.3&nbsp;&nbsp;</span>График соотношения с услугой телефонии и без для группы действующих клиентов.</a></span></li></ul></li><li><span><a href=\"#Интернет\" data-toc-modified-id=\"Интернет-7.3\"><span class=\"toc-item-num\">7.3&nbsp;&nbsp;</span>Интернет</a></span><ul class=\"toc-item\"><li><span><a href=\"#График-соотношения-с-услугой-интернет-и-без-для-группы-отключенных-клиентов.\" data-toc-modified-id=\"График-соотношения-с-услугой-интернет-и-без-для-группы-отключенных-клиентов.-7.3.1\"><span class=\"toc-item-num\">7.3.1&nbsp;&nbsp;</span>График соотношения с услугой интернет и без для группы отключенных клиентов.</a></span></li><li><span><a href=\"#График-соотношения-с-услугой-интернет-и-без-для-группы-действующих-клиентов.\" data-toc-modified-id=\"График-соотношения-с-услугой-интернет-и-без-для-группы-действующих-клиентов.-7.3.2\"><span class=\"toc-item-num\">7.3.2&nbsp;&nbsp;</span>График соотношения с услугой интернет и без для группы действующих клиентов.</a></span></li></ul></li><li><span><a href=\"#Вывод\" data-toc-modified-id=\"Вывод-7.4\"><span class=\"toc-item-num\">7.4&nbsp;&nbsp;</span>Вывод</a></span></li></ul></li><li><span><a href=\"#Отчёт--о-проделанной-работе-для-TeamLead\" data-toc-modified-id=\"Отчёт--о-проделанной-работе-для-TeamLead-8\"><span class=\"toc-item-num\">8&nbsp;&nbsp;</span>Отчёт  о проделанной работе для TeamLead</a></span><ul class=\"toc-item\"><li><span><a href=\"#\" data-toc-modified-id=\"-8.1\"><span class=\"toc-item-num\">8.1&nbsp;&nbsp;</span></a></span></li><li><span><a href=\"#\" data-toc-modified-id=\"-8.2\"><span class=\"toc-item-num\">8.2&nbsp;&nbsp;</span></a></span></li><li><span><a href=\"#\" data-toc-modified-id=\"-8.3\"><span class=\"toc-item-num\">8.3&nbsp;&nbsp;</span></a></span></li><li><span><a href=\"#\" data-toc-modified-id=\"-8.4\"><span class=\"toc-item-num\">8.4&nbsp;&nbsp;</span></a></span></li></ul></li></ul></div>"
   ]
  },
  {
   "cell_type": "code",
   "execution_count": 1,
   "metadata": {},
   "outputs": [],
   "source": [
    "import pandas as pd\n",
    "import numpy as np\n",
    "import datetime as dt\n",
    "import matplotlib.pyplot as plt\n",
    "\n",
    "from sklearn.preprocessing import StandardScaler\n",
    "from sklearn.model_selection import train_test_split\n",
    "from sklearn.utils import shuffle\n",
    "\n",
    "from sklearn.ensemble import RandomForestClassifier\n",
    "from sklearn.model_selection import RandomizedSearchCV\n",
    "from catboost import CatBoostClassifier\n",
    "from lightgbm import LGBMClassifier\n",
    "\n",
    "from sklearn.metrics import roc_auc_score\n",
    "from sklearn.metrics import accuracy_score\n",
    "from sklearn.linear_model import LogisticRegressionCV, LogisticRegression\n",
    "\n",
    "\n",
    "\n",
    "import time\n",
    "pd.set_option('display.max_columns', None)\n",
    "pd.options.mode.chained_assignment = None"
   ]
  },
  {
   "cell_type": "markdown",
   "metadata": {},
   "source": [
    "- `contract.csv` — информация о договоре;\n",
    "- `personal.csv` — персональные данные клиента;\n",
    "- `internet.csv` — информация об интернет-услугах;\n",
    "- `phone.csv` — информация об услугах телефонии."
   ]
  },
  {
   "cell_type": "code",
   "execution_count": 2,
   "metadata": {},
   "outputs": [],
   "source": [
    "path = 'C:/users/v_kly/datasets/final_provider/'\n",
    "#path = '/datasets/final_provider/'"
   ]
  },
  {
   "cell_type": "code",
   "execution_count": 3,
   "metadata": {},
   "outputs": [],
   "source": [
    "contract = pd.read_csv(path + 'contract.csv')\n",
    "personal = pd.read_csv(path + 'personal.csv')\n",
    "internet = pd.read_csv(path + 'internet.csv')\n",
    "phone = pd.read_csv(path + 'phone.csv')"
   ]
  },
  {
   "cell_type": "markdown",
   "metadata": {},
   "source": [
    "## Первичное изучение  и предобработка данных"
   ]
  },
  {
   "cell_type": "markdown",
   "metadata": {},
   "source": [
    "### Таблица с информацией о договорах (contract)"
   ]
  },
  {
   "cell_type": "code",
   "execution_count": 4,
   "metadata": {},
   "outputs": [
    {
     "data": {
      "text/html": [
       "<div>\n",
       "<style scoped>\n",
       "    .dataframe tbody tr th:only-of-type {\n",
       "        vertical-align: middle;\n",
       "    }\n",
       "\n",
       "    .dataframe tbody tr th {\n",
       "        vertical-align: top;\n",
       "    }\n",
       "\n",
       "    .dataframe thead th {\n",
       "        text-align: right;\n",
       "    }\n",
       "</style>\n",
       "<table border=\"1\" class=\"dataframe\">\n",
       "  <thead>\n",
       "    <tr style=\"text-align: right;\">\n",
       "      <th></th>\n",
       "      <th>customerID</th>\n",
       "      <th>BeginDate</th>\n",
       "      <th>EndDate</th>\n",
       "      <th>Type</th>\n",
       "      <th>PaperlessBilling</th>\n",
       "      <th>PaymentMethod</th>\n",
       "      <th>MonthlyCharges</th>\n",
       "      <th>TotalCharges</th>\n",
       "    </tr>\n",
       "  </thead>\n",
       "  <tbody>\n",
       "    <tr>\n",
       "      <th>0</th>\n",
       "      <td>7590-VHVEG</td>\n",
       "      <td>2020-01-01</td>\n",
       "      <td>No</td>\n",
       "      <td>Month-to-month</td>\n",
       "      <td>Yes</td>\n",
       "      <td>Electronic check</td>\n",
       "      <td>29.85</td>\n",
       "      <td>29.85</td>\n",
       "    </tr>\n",
       "    <tr>\n",
       "      <th>1</th>\n",
       "      <td>5575-GNVDE</td>\n",
       "      <td>2017-04-01</td>\n",
       "      <td>No</td>\n",
       "      <td>One year</td>\n",
       "      <td>No</td>\n",
       "      <td>Mailed check</td>\n",
       "      <td>56.95</td>\n",
       "      <td>1889.5</td>\n",
       "    </tr>\n",
       "    <tr>\n",
       "      <th>2</th>\n",
       "      <td>3668-QPYBK</td>\n",
       "      <td>2019-10-01</td>\n",
       "      <td>2019-12-01 00:00:00</td>\n",
       "      <td>Month-to-month</td>\n",
       "      <td>Yes</td>\n",
       "      <td>Mailed check</td>\n",
       "      <td>53.85</td>\n",
       "      <td>108.15</td>\n",
       "    </tr>\n",
       "    <tr>\n",
       "      <th>3</th>\n",
       "      <td>7795-CFOCW</td>\n",
       "      <td>2016-05-01</td>\n",
       "      <td>No</td>\n",
       "      <td>One year</td>\n",
       "      <td>No</td>\n",
       "      <td>Bank transfer (automatic)</td>\n",
       "      <td>42.30</td>\n",
       "      <td>1840.75</td>\n",
       "    </tr>\n",
       "    <tr>\n",
       "      <th>4</th>\n",
       "      <td>9237-HQITU</td>\n",
       "      <td>2019-09-01</td>\n",
       "      <td>2019-11-01 00:00:00</td>\n",
       "      <td>Month-to-month</td>\n",
       "      <td>Yes</td>\n",
       "      <td>Electronic check</td>\n",
       "      <td>70.70</td>\n",
       "      <td>151.65</td>\n",
       "    </tr>\n",
       "  </tbody>\n",
       "</table>\n",
       "</div>"
      ],
      "text/plain": [
       "   customerID   BeginDate              EndDate            Type  \\\n",
       "0  7590-VHVEG  2020-01-01                   No  Month-to-month   \n",
       "1  5575-GNVDE  2017-04-01                   No        One year   \n",
       "2  3668-QPYBK  2019-10-01  2019-12-01 00:00:00  Month-to-month   \n",
       "3  7795-CFOCW  2016-05-01                   No        One year   \n",
       "4  9237-HQITU  2019-09-01  2019-11-01 00:00:00  Month-to-month   \n",
       "\n",
       "  PaperlessBilling              PaymentMethod  MonthlyCharges TotalCharges  \n",
       "0              Yes           Electronic check           29.85        29.85  \n",
       "1               No               Mailed check           56.95       1889.5  \n",
       "2              Yes               Mailed check           53.85       108.15  \n",
       "3               No  Bank transfer (automatic)           42.30      1840.75  \n",
       "4              Yes           Electronic check           70.70       151.65  "
      ]
     },
     "execution_count": 4,
     "metadata": {},
     "output_type": "execute_result"
    }
   ],
   "source": [
    "contract.head()"
   ]
  },
  {
   "cell_type": "code",
   "execution_count": 5,
   "metadata": {},
   "outputs": [
    {
     "name": "stdout",
     "output_type": "stream",
     "text": [
      "<class 'pandas.core.frame.DataFrame'>\n",
      "RangeIndex: 7043 entries, 0 to 7042\n",
      "Data columns (total 8 columns):\n",
      " #   Column            Non-Null Count  Dtype  \n",
      "---  ------            --------------  -----  \n",
      " 0   customerID        7043 non-null   object \n",
      " 1   BeginDate         7043 non-null   object \n",
      " 2   EndDate           7043 non-null   object \n",
      " 3   Type              7043 non-null   object \n",
      " 4   PaperlessBilling  7043 non-null   object \n",
      " 5   PaymentMethod     7043 non-null   object \n",
      " 6   MonthlyCharges    7043 non-null   float64\n",
      " 7   TotalCharges      7043 non-null   object \n",
      "dtypes: float64(1), object(7)\n",
      "memory usage: 440.3+ KB\n"
     ]
    }
   ],
   "source": [
    "contract.info()"
   ]
  },
  {
   "cell_type": "markdown",
   "metadata": {},
   "source": [
    "`Неверные типы данных у столбцов: BeginDate, EndDate, PaperlessBilling(можно поменять на Bool), TotalCharges.`"
   ]
  },
  {
   "cell_type": "markdown",
   "metadata": {},
   "source": [
    "#### Даты начала контрактов (BeginDate)"
   ]
  },
  {
   "cell_type": "markdown",
   "metadata": {},
   "source": [
    "Поменяем тип данных на datetime."
   ]
  },
  {
   "cell_type": "code",
   "execution_count": 6,
   "metadata": {},
   "outputs": [],
   "source": [
    "contract.BeginDate = pd.to_datetime(contract.BeginDate, format=\"%Y/%m/%d\")"
   ]
  },
  {
   "cell_type": "code",
   "execution_count": 7,
   "metadata": {},
   "outputs": [
    {
     "name": "stdout",
     "output_type": "stream",
     "text": [
      "datetime64[ns]\n"
     ]
    }
   ],
   "source": [
    "print(contract.BeginDate.dtype)"
   ]
  },
  {
   "cell_type": "code",
   "execution_count": 8,
   "metadata": {},
   "outputs": [
    {
     "data": {
      "text/plain": [
       "0.0"
      ]
     },
     "execution_count": 8,
     "metadata": {},
     "output_type": "execute_result"
    }
   ],
   "source": [
    "contract.BeginDate.isna().mean()"
   ]
  },
  {
   "cell_type": "markdown",
   "metadata": {},
   "source": [
    "Пропусков не обнаружено."
   ]
  },
  {
   "cell_type": "code",
   "execution_count": 9,
   "metadata": {},
   "outputs": [
    {
     "name": "stdout",
     "output_type": "stream",
     "text": [
      "Период за который собраны данные: с 2013-10-01 00:00:00 по 2020-02-01 00:00:00\n"
     ]
    }
   ],
   "source": [
    "print('Период за который собраны данные: с', contract.BeginDate.min(), 'по', contract.BeginDate.max())"
   ]
  },
  {
   "cell_type": "markdown",
   "metadata": {},
   "source": [
    "Данные собраны с 1 октября 2013 года по 1 февраля 2020."
   ]
  },
  {
   "cell_type": "markdown",
   "metadata": {},
   "source": [
    "***Лучшие месяцы по количеству новых клиентов***"
   ]
  },
  {
   "cell_type": "code",
   "execution_count": 10,
   "metadata": {},
   "outputs": [
    {
     "data": {
      "text/plain": [
       "2014-02-01    366\n",
       "2019-11-01    237\n",
       "2019-09-01    237\n",
       "2019-10-01    237\n",
       "2020-01-01    233\n",
       "2019-12-01    220\n",
       "2014-03-01    178\n",
       "2019-07-01    156\n",
       "2019-08-01    146\n",
       "2019-06-01    141\n",
       "Name: BeginDate, dtype: int64"
      ]
     },
     "execution_count": 10,
     "metadata": {},
     "output_type": "execute_result"
    }
   ],
   "source": [
    "contract.BeginDate.value_counts().head(10)"
   ]
  },
  {
   "cell_type": "markdown",
   "metadata": {},
   "source": [
    "***Худшие месяцы по количеству новых клиентов***"
   ]
  },
  {
   "cell_type": "code",
   "execution_count": 11,
   "metadata": {},
   "outputs": [
    {
     "data": {
      "text/plain": [
       "2013-11-01     2\n",
       "2013-12-01     3\n",
       "2013-10-01     3\n",
       "2014-01-01     7\n",
       "2020-02-01    11\n",
       "2016-11-01    50\n",
       "2017-02-01    55\n",
       "2016-01-01    57\n",
       "2017-10-01    57\n",
       "2016-12-01    58\n",
       "Name: BeginDate, dtype: int64"
      ]
     },
     "execution_count": 11,
     "metadata": {},
     "output_type": "execute_result"
    }
   ],
   "source": [
    "contract.BeginDate.value_counts(ascending=True).head(10)"
   ]
  },
  {
   "cell_type": "markdown",
   "metadata": {},
   "source": [
    "**График объема подключения новых клиентов по месяцам**"
   ]
  },
  {
   "cell_type": "markdown",
   "metadata": {},
   "source": [
    "Посмотрим на хронологическое распределение по объему подключения новых клиентов, помесячно."
   ]
  },
  {
   "cell_type": "code",
   "execution_count": 12,
   "metadata": {},
   "outputs": [
    {
     "data": {
      "text/plain": [
       "<AxesSubplot:>"
      ]
     },
     "execution_count": 12,
     "metadata": {},
     "output_type": "execute_result"
    },
    {
     "data": {
      "image/png": "[encoded data removed]",
      "text/plain": [
       "<Figure size 1152x648 with 1 Axes>"
      ]
     },
     "metadata": {
      "needs_background": "light"
     },
     "output_type": "display_data"
    }
   ],
   "source": [
    "contract.BeginDate.value_counts(sort=False).sort_index().plot(figsize=(16,9), grid=True, kind='bar')"
   ]
  },
  {
   "cell_type": "markdown",
   "metadata": {},
   "source": [
    "Из графика видно, что была проведена мощная маркетинговая компания в феврале 2014 года, вскоре после запуска данного оператора (спустя 4 месяца), и данный месяц стал лучшим по объему подключения новых клиентов."
   ]
  },
  {
   "cell_type": "markdown",
   "metadata": {},
   "source": [
    "#### Идентификаторы клиентов (customerID)."
   ]
  },
  {
   "cell_type": "code",
   "execution_count": 13,
   "metadata": {},
   "outputs": [
    {
     "data": {
      "text/plain": [
       "count    7043.0\n",
       "mean        1.0\n",
       "std         0.0\n",
       "min         1.0\n",
       "25%         1.0\n",
       "50%         1.0\n",
       "75%         1.0\n",
       "max         1.0\n",
       "Name: customerID, dtype: float64"
      ]
     },
     "execution_count": 13,
     "metadata": {},
     "output_type": "execute_result"
    }
   ],
   "source": [
    "contract.customerID.value_counts(dropna=False).describe()"
   ]
  },
  {
   "cell_type": "code",
   "execution_count": 14,
   "metadata": {},
   "outputs": [
    {
     "data": {
      "text/plain": [
       "0.0"
      ]
     },
     "execution_count": 14,
     "metadata": {},
     "output_type": "execute_result"
    }
   ],
   "source": [
    "contract.customerID.isna().mean()"
   ]
  },
  {
   "cell_type": "markdown",
   "metadata": {},
   "source": [
    "Все ID уникальные, дублей нет, пропусков нет."
   ]
  },
  {
   "cell_type": "markdown",
   "metadata": {},
   "source": [
    "#### Дата окончания контракта (EndDate)."
   ]
  },
  {
   "cell_type": "markdown",
   "metadata": {},
   "source": [
    "Поменяем тип данных на datetime."
   ]
  },
  {
   "cell_type": "code",
   "execution_count": 15,
   "metadata": {},
   "outputs": [],
   "source": [
    "contract.EndDate = pd.to_datetime(contract.EndDate, errors='coerce')"
   ]
  },
  {
   "cell_type": "code",
   "execution_count": 16,
   "metadata": {},
   "outputs": [
    {
     "name": "stdout",
     "output_type": "stream",
     "text": [
      "datetime64[ns]\n"
     ]
    }
   ],
   "source": [
    "print(contract.EndDate.dtype)"
   ]
  },
  {
   "cell_type": "code",
   "execution_count": 17,
   "metadata": {
    "scrolled": true
   },
   "outputs": [
    {
     "data": {
      "text/plain": [
       "NaT           5174\n",
       "2019-11-01     485\n",
       "2019-12-01     466\n",
       "2020-01-01     460\n",
       "2019-10-01     458\n",
       "Name: EndDate, dtype: int64"
      ]
     },
     "execution_count": 17,
     "metadata": {},
     "output_type": "execute_result"
    }
   ],
   "source": [
    "contract.EndDate.value_counts(dropna=False)"
   ]
  },
  {
   "cell_type": "markdown",
   "metadata": {},
   "source": [
    "В данном случае строковое значение \"No\", свидетельствующее о том, что контракт еще действует перевели в тип NaT, для того чтобы было удобнее работать с единым форматом даты. По существу нам в дальнейшем это никак не помешает."
   ]
  },
  {
   "cell_type": "markdown",
   "metadata": {},
   "source": [
    "Окончание контрактов происходило исключительно в четырех месяцах, расположенных подряд: с октября 2019 по январь 2020. Январь при этом предпоследний месяц датасета, а феврале очень мало подключений (11) и ни одного отвала, возможно данный за этот месяц не полные."
   ]
  },
  {
   "cell_type": "markdown",
   "metadata": {},
   "source": [
    "Сопоставив факт о периоде отвала и график объема подключений новых клиентов, можно говорить о том, что в период с октября 2019 по январь 2020 был мощный внешний фактор (появление конкурента), который спровоцировал массовый отвал и одновременные активные действия со стороны компании по удержанию позиции на рынке, о чем свидетельствует повышение объемов подлючения новых клиентов."
   ]
  },
  {
   "cell_type": "code",
   "execution_count": 18,
   "metadata": {},
   "outputs": [
    {
     "data": {
      "text/plain": [
       "0.2653698707936959"
      ]
     },
     "execution_count": 18,
     "metadata": {},
     "output_type": "execute_result"
    }
   ],
   "source": [
    "(485+466+460+458) / 7043"
   ]
  },
  {
   "cell_type": "markdown",
   "metadata": {},
   "source": [
    "Доля отвалившихся за этот период составила 26%. Таким образом компания за 4 месяца потеряла более четверти своих клиентов."
   ]
  },
  {
   "cell_type": "markdown",
   "metadata": {},
   "source": [
    "#### Тип контракта (Type)."
   ]
  },
  {
   "cell_type": "code",
   "execution_count": 19,
   "metadata": {},
   "outputs": [
    {
     "data": {
      "text/plain": [
       "Month-to-month    3875\n",
       "Two year          1695\n",
       "One year          1473\n",
       "Name: Type, dtype: int64"
      ]
     },
     "execution_count": 19,
     "metadata": {},
     "output_type": "execute_result"
    }
   ],
   "source": [
    "contract.Type.value_counts(dropna=False)"
   ]
  },
  {
   "cell_type": "markdown",
   "metadata": {},
   "source": [
    "Пропусков нет.\n",
    "\n",
    "Всего используется три типа контрактов. Ежемесячный, годовой и двухлетний."
   ]
  },
  {
   "cell_type": "code",
   "execution_count": 20,
   "metadata": {},
   "outputs": [
    {
     "name": "stdout",
     "output_type": "stream",
     "text": [
      "Процент контрактов с помесячной оплатой: 0.5501916796819537\n"
     ]
    }
   ],
   "source": [
    "print('Процент контрактов с помесячной оплатой:', 3875 / 7043)"
   ]
  },
  {
   "cell_type": "code",
   "execution_count": 21,
   "metadata": {},
   "outputs": [
    {
     "name": "stdout",
     "output_type": "stream",
     "text": [
      "Процент контрактов с оплатой за год: 0.20914383075394008\n"
     ]
    }
   ],
   "source": [
    "print('Процент контрактов с оплатой за год:', 1473 / 7043)"
   ]
  },
  {
   "cell_type": "code",
   "execution_count": 22,
   "metadata": {},
   "outputs": [
    {
     "name": "stdout",
     "output_type": "stream",
     "text": [
      "Процент контрактов с оплатой за два года: 0.24066448956410622\n"
     ]
    }
   ],
   "source": [
    "print('Процент контрактов с оплатой за два года:', 1695 / 7043)"
   ]
  },
  {
   "cell_type": "markdown",
   "metadata": {},
   "source": [
    "#### Электронный документооборот (PaperlessBilling). "
   ]
  },
  {
   "cell_type": "markdown",
   "metadata": {},
   "source": [
    "Поменяем тип данных в данном столбце, приведем к бинарному виду. В дальнейшем это благоприятнее скажется на работе модели."
   ]
  },
  {
   "cell_type": "code",
   "execution_count": 23,
   "metadata": {},
   "outputs": [],
   "source": [
    "def bool_type(df, col):\n",
    "    def binary(row):\n",
    "        if row[col] == 'Yes': \n",
    "            row[col]=1\n",
    "        elif row[col] == 'No':\n",
    "            row[col]=0\n",
    "         \n",
    "        row[col] = row[col]\n",
    "        return row[col]\n",
    "    df[col] = df.apply(binary, axis=1)\n",
    "    return df"
   ]
  },
  {
   "cell_type": "code",
   "execution_count": 24,
   "metadata": {},
   "outputs": [
    {
     "data": {
      "text/html": [
       "<div>\n",
       "<style scoped>\n",
       "    .dataframe tbody tr th:only-of-type {\n",
       "        vertical-align: middle;\n",
       "    }\n",
       "\n",
       "    .dataframe tbody tr th {\n",
       "        vertical-align: top;\n",
       "    }\n",
       "\n",
       "    .dataframe thead th {\n",
       "        text-align: right;\n",
       "    }\n",
       "</style>\n",
       "<table border=\"1\" class=\"dataframe\">\n",
       "  <thead>\n",
       "    <tr style=\"text-align: right;\">\n",
       "      <th></th>\n",
       "      <th>customerID</th>\n",
       "      <th>BeginDate</th>\n",
       "      <th>EndDate</th>\n",
       "      <th>Type</th>\n",
       "      <th>PaperlessBilling</th>\n",
       "      <th>PaymentMethod</th>\n",
       "      <th>MonthlyCharges</th>\n",
       "      <th>TotalCharges</th>\n",
       "    </tr>\n",
       "  </thead>\n",
       "  <tbody>\n",
       "    <tr>\n",
       "      <th>1598</th>\n",
       "      <td>7552-KEYGT</td>\n",
       "      <td>2017-11-01</td>\n",
       "      <td>NaT</td>\n",
       "      <td>Two year</td>\n",
       "      <td>0</td>\n",
       "      <td>Bank transfer (automatic)</td>\n",
       "      <td>19.55</td>\n",
       "      <td>520.55</td>\n",
       "    </tr>\n",
       "    <tr>\n",
       "      <th>5947</th>\n",
       "      <td>7951-QKZPL</td>\n",
       "      <td>2017-02-01</td>\n",
       "      <td>2019-11-01</td>\n",
       "      <td>Two year</td>\n",
       "      <td>1</td>\n",
       "      <td>Mailed check</td>\n",
       "      <td>24.50</td>\n",
       "      <td>740.3</td>\n",
       "    </tr>\n",
       "    <tr>\n",
       "      <th>3075</th>\n",
       "      <td>5569-IDSEY</td>\n",
       "      <td>2014-03-01</td>\n",
       "      <td>NaT</td>\n",
       "      <td>One year</td>\n",
       "      <td>1</td>\n",
       "      <td>Bank transfer (automatic)</td>\n",
       "      <td>105.70</td>\n",
       "      <td>7472.15</td>\n",
       "    </tr>\n",
       "    <tr>\n",
       "      <th>6184</th>\n",
       "      <td>3413-CSSTH</td>\n",
       "      <td>2016-09-01</td>\n",
       "      <td>NaT</td>\n",
       "      <td>Month-to-month</td>\n",
       "      <td>1</td>\n",
       "      <td>Bank transfer (automatic)</td>\n",
       "      <td>55.70</td>\n",
       "      <td>2237.55</td>\n",
       "    </tr>\n",
       "    <tr>\n",
       "      <th>4911</th>\n",
       "      <td>8565-WUXZU</td>\n",
       "      <td>2014-02-01</td>\n",
       "      <td>NaT</td>\n",
       "      <td>Two year</td>\n",
       "      <td>1</td>\n",
       "      <td>Credit card (automatic)</td>\n",
       "      <td>84.80</td>\n",
       "      <td>6141.65</td>\n",
       "    </tr>\n",
       "    <tr>\n",
       "      <th>535</th>\n",
       "      <td>5348-CAGXB</td>\n",
       "      <td>2019-02-01</td>\n",
       "      <td>NaT</td>\n",
       "      <td>Month-to-month</td>\n",
       "      <td>1</td>\n",
       "      <td>Electronic check</td>\n",
       "      <td>89.55</td>\n",
       "      <td>1021.75</td>\n",
       "    </tr>\n",
       "    <tr>\n",
       "      <th>3636</th>\n",
       "      <td>6319-QSUSR</td>\n",
       "      <td>2019-03-01</td>\n",
       "      <td>NaT</td>\n",
       "      <td>Month-to-month</td>\n",
       "      <td>0</td>\n",
       "      <td>Credit card (automatic)</td>\n",
       "      <td>19.70</td>\n",
       "      <td>216.2</td>\n",
       "    </tr>\n",
       "    <tr>\n",
       "      <th>5431</th>\n",
       "      <td>5995-WWKKG</td>\n",
       "      <td>2017-01-01</td>\n",
       "      <td>NaT</td>\n",
       "      <td>One year</td>\n",
       "      <td>1</td>\n",
       "      <td>Electronic check</td>\n",
       "      <td>19.80</td>\n",
       "      <td>695.05</td>\n",
       "    </tr>\n",
       "    <tr>\n",
       "      <th>6438</th>\n",
       "      <td>3551-HUAZH</td>\n",
       "      <td>2019-09-01</td>\n",
       "      <td>2019-10-01</td>\n",
       "      <td>Month-to-month</td>\n",
       "      <td>1</td>\n",
       "      <td>Electronic check</td>\n",
       "      <td>74.40</td>\n",
       "      <td>74.4</td>\n",
       "    </tr>\n",
       "    <tr>\n",
       "      <th>3458</th>\n",
       "      <td>0311-UNPFF</td>\n",
       "      <td>2017-11-01</td>\n",
       "      <td>2020-01-01</td>\n",
       "      <td>Month-to-month</td>\n",
       "      <td>1</td>\n",
       "      <td>Bank transfer (automatic)</td>\n",
       "      <td>88.80</td>\n",
       "      <td>2274.35</td>\n",
       "    </tr>\n",
       "  </tbody>\n",
       "</table>\n",
       "</div>"
      ],
      "text/plain": [
       "      customerID  BeginDate    EndDate            Type  PaperlessBilling  \\\n",
       "1598  7552-KEYGT 2017-11-01        NaT        Two year                 0   \n",
       "5947  7951-QKZPL 2017-02-01 2019-11-01        Two year                 1   \n",
       "3075  5569-IDSEY 2014-03-01        NaT        One year                 1   \n",
       "6184  3413-CSSTH 2016-09-01        NaT  Month-to-month                 1   \n",
       "4911  8565-WUXZU 2014-02-01        NaT        Two year                 1   \n",
       "535   5348-CAGXB 2019-02-01        NaT  Month-to-month                 1   \n",
       "3636  6319-QSUSR 2019-03-01        NaT  Month-to-month                 0   \n",
       "5431  5995-WWKKG 2017-01-01        NaT        One year                 1   \n",
       "6438  3551-HUAZH 2019-09-01 2019-10-01  Month-to-month                 1   \n",
       "3458  0311-UNPFF 2017-11-01 2020-01-01  Month-to-month                 1   \n",
       "\n",
       "                  PaymentMethod  MonthlyCharges TotalCharges  \n",
       "1598  Bank transfer (automatic)           19.55       520.55  \n",
       "5947               Mailed check           24.50        740.3  \n",
       "3075  Bank transfer (automatic)          105.70      7472.15  \n",
       "6184  Bank transfer (automatic)           55.70      2237.55  \n",
       "4911    Credit card (automatic)           84.80      6141.65  \n",
       "535            Electronic check           89.55      1021.75  \n",
       "3636    Credit card (automatic)           19.70        216.2  \n",
       "5431           Electronic check           19.80       695.05  \n",
       "6438           Electronic check           74.40         74.4  \n",
       "3458  Bank transfer (automatic)           88.80      2274.35  "
      ]
     },
     "execution_count": 24,
     "metadata": {},
     "output_type": "execute_result"
    }
   ],
   "source": [
    "bool_type(contract, 'PaperlessBilling')\n",
    "contract.sample(10)"
   ]
  },
  {
   "cell_type": "code",
   "execution_count": 25,
   "metadata": {
    "scrolled": true
   },
   "outputs": [
    {
     "data": {
      "text/plain": [
       "1    4171\n",
       "0    2872\n",
       "Name: PaperlessBilling, dtype: int64"
      ]
     },
     "execution_count": 25,
     "metadata": {},
     "output_type": "execute_result"
    }
   ],
   "source": [
    "contract.PaperlessBilling.value_counts(dropna=False)"
   ]
  },
  {
   "cell_type": "markdown",
   "metadata": {},
   "source": [
    "Пропусков нет"
   ]
  },
  {
   "cell_type": "code",
   "execution_count": 26,
   "metadata": {},
   "outputs": [
    {
     "name": "stdout",
     "output_type": "stream",
     "text": [
      "Процент клиентов использующих электронный документооборот: 0.4077807752378248\n"
     ]
    }
   ],
   "source": [
    "print('Процент клиентов использующих электронный документооборот:', 2872/7043)"
   ]
  },
  {
   "cell_type": "code",
   "execution_count": 27,
   "metadata": {},
   "outputs": [
    {
     "name": "stdout",
     "output_type": "stream",
     "text": [
      "Процент клиентов НЕ использующих электронный документооборот: 0.5922192247621753\n"
     ]
    }
   ],
   "source": [
    "print('Процент клиентов НЕ использующих электронный документооборот:',4171/7043)"
   ]
  },
  {
   "cell_type": "markdown",
   "metadata": {},
   "source": [
    "#### Способы оплаты (PaymentMethod)."
   ]
  },
  {
   "cell_type": "code",
   "execution_count": 28,
   "metadata": {
    "scrolled": true
   },
   "outputs": [
    {
     "data": {
      "text/plain": [
       "Electronic check             2365\n",
       "Mailed check                 1612\n",
       "Bank transfer (automatic)    1544\n",
       "Credit card (automatic)      1522\n",
       "Name: PaymentMethod, dtype: int64"
      ]
     },
     "execution_count": 28,
     "metadata": {},
     "output_type": "execute_result"
    }
   ],
   "source": [
    "contract.PaymentMethod.value_counts(dropna=False)"
   ]
  },
  {
   "cell_type": "markdown",
   "metadata": {},
   "source": [
    "Пропусков нет.\n",
    "\n",
    "4 вида проведения оплат:\n",
    "- Electronic check;\n",
    "- Mailed check;\n",
    "- Bank transfer (automatic);\n",
    "- Credit card (automatic)."
   ]
  },
  {
   "cell_type": "markdown",
   "metadata": {},
   "source": [
    "#### MonthlyCharges и TotalCharges"
   ]
  },
  {
   "cell_type": "markdown",
   "metadata": {},
   "source": [
    "Изменить тип данных столбца `TotalCharges`"
   ]
  },
  {
   "cell_type": "code",
   "execution_count": 29,
   "metadata": {},
   "outputs": [],
   "source": [
    "contract['TotalCharges'] = pd.to_numeric(arg = contract['TotalCharges'], errors='coerce')"
   ]
  },
  {
   "cell_type": "code",
   "execution_count": 30,
   "metadata": {},
   "outputs": [
    {
     "data": {
      "text/plain": [
       "0.0"
      ]
     },
     "execution_count": 30,
     "metadata": {},
     "output_type": "execute_result"
    }
   ],
   "source": [
    "contract.MonthlyCharges.isna().mean()"
   ]
  },
  {
   "cell_type": "markdown",
   "metadata": {},
   "source": [
    "В столбце `MonthlyCharges` пропусков нет."
   ]
  },
  {
   "cell_type": "code",
   "execution_count": 31,
   "metadata": {},
   "outputs": [
    {
     "data": {
      "text/plain": [
       "0.001561834445548772"
      ]
     },
     "execution_count": 31,
     "metadata": {},
     "output_type": "execute_result"
    }
   ],
   "source": [
    "contract.TotalCharges.isna().mean()"
   ]
  },
  {
   "cell_type": "markdown",
   "metadata": {},
   "source": [
    "В столбце `TotalCharges` есть незначительная доля пропусков: менее 0.2 процента."
   ]
  },
  {
   "cell_type": "code",
   "execution_count": 32,
   "metadata": {},
   "outputs": [
    {
     "data": {
      "text/plain": [
       "count    7043.000000\n",
       "mean       64.761692\n",
       "std        30.090047\n",
       "min        18.250000\n",
       "25%        35.500000\n",
       "50%        70.350000\n",
       "75%        89.850000\n",
       "max       118.750000\n",
       "Name: MonthlyCharges, dtype: float64"
      ]
     },
     "execution_count": 32,
     "metadata": {},
     "output_type": "execute_result"
    }
   ],
   "source": [
    "contract.MonthlyCharges.describe()"
   ]
  },
  {
   "cell_type": "code",
   "execution_count": 33,
   "metadata": {},
   "outputs": [
    {
     "data": {
      "text/plain": [
       "count    7032.000000\n",
       "mean     2283.300441\n",
       "std      2266.771362\n",
       "min        18.800000\n",
       "25%       401.450000\n",
       "50%      1397.475000\n",
       "75%      3794.737500\n",
       "max      8684.800000\n",
       "Name: TotalCharges, dtype: float64"
      ]
     },
     "execution_count": 33,
     "metadata": {},
     "output_type": "execute_result"
    }
   ],
   "source": [
    "contract.TotalCharges.describe()"
   ]
  },
  {
   "cell_type": "markdown",
   "metadata": {},
   "source": [
    "Посмотрим на строчки, где пропущены значения суммы оплат от клиента."
   ]
  },
  {
   "cell_type": "code",
   "execution_count": 34,
   "metadata": {},
   "outputs": [
    {
     "data": {
      "text/html": [
       "<div>\n",
       "<style scoped>\n",
       "    .dataframe tbody tr th:only-of-type {\n",
       "        vertical-align: middle;\n",
       "    }\n",
       "\n",
       "    .dataframe tbody tr th {\n",
       "        vertical-align: top;\n",
       "    }\n",
       "\n",
       "    .dataframe thead th {\n",
       "        text-align: right;\n",
       "    }\n",
       "</style>\n",
       "<table border=\"1\" class=\"dataframe\">\n",
       "  <thead>\n",
       "    <tr style=\"text-align: right;\">\n",
       "      <th></th>\n",
       "      <th>customerID</th>\n",
       "      <th>BeginDate</th>\n",
       "      <th>EndDate</th>\n",
       "      <th>Type</th>\n",
       "      <th>PaperlessBilling</th>\n",
       "      <th>PaymentMethod</th>\n",
       "      <th>MonthlyCharges</th>\n",
       "      <th>TotalCharges</th>\n",
       "    </tr>\n",
       "  </thead>\n",
       "  <tbody>\n",
       "    <tr>\n",
       "      <th>488</th>\n",
       "      <td>4472-LVYGI</td>\n",
       "      <td>2020-02-01</td>\n",
       "      <td>NaT</td>\n",
       "      <td>Two year</td>\n",
       "      <td>1</td>\n",
       "      <td>Bank transfer (automatic)</td>\n",
       "      <td>52.55</td>\n",
       "      <td>NaN</td>\n",
       "    </tr>\n",
       "    <tr>\n",
       "      <th>753</th>\n",
       "      <td>3115-CZMZD</td>\n",
       "      <td>2020-02-01</td>\n",
       "      <td>NaT</td>\n",
       "      <td>Two year</td>\n",
       "      <td>0</td>\n",
       "      <td>Mailed check</td>\n",
       "      <td>20.25</td>\n",
       "      <td>NaN</td>\n",
       "    </tr>\n",
       "    <tr>\n",
       "      <th>936</th>\n",
       "      <td>5709-LVOEQ</td>\n",
       "      <td>2020-02-01</td>\n",
       "      <td>NaT</td>\n",
       "      <td>Two year</td>\n",
       "      <td>0</td>\n",
       "      <td>Mailed check</td>\n",
       "      <td>80.85</td>\n",
       "      <td>NaN</td>\n",
       "    </tr>\n",
       "    <tr>\n",
       "      <th>1082</th>\n",
       "      <td>4367-NUYAO</td>\n",
       "      <td>2020-02-01</td>\n",
       "      <td>NaT</td>\n",
       "      <td>Two year</td>\n",
       "      <td>0</td>\n",
       "      <td>Mailed check</td>\n",
       "      <td>25.75</td>\n",
       "      <td>NaN</td>\n",
       "    </tr>\n",
       "    <tr>\n",
       "      <th>1340</th>\n",
       "      <td>1371-DWPAZ</td>\n",
       "      <td>2020-02-01</td>\n",
       "      <td>NaT</td>\n",
       "      <td>Two year</td>\n",
       "      <td>0</td>\n",
       "      <td>Credit card (automatic)</td>\n",
       "      <td>56.05</td>\n",
       "      <td>NaN</td>\n",
       "    </tr>\n",
       "    <tr>\n",
       "      <th>3331</th>\n",
       "      <td>7644-OMVMY</td>\n",
       "      <td>2020-02-01</td>\n",
       "      <td>NaT</td>\n",
       "      <td>Two year</td>\n",
       "      <td>0</td>\n",
       "      <td>Mailed check</td>\n",
       "      <td>19.85</td>\n",
       "      <td>NaN</td>\n",
       "    </tr>\n",
       "    <tr>\n",
       "      <th>3826</th>\n",
       "      <td>3213-VVOLG</td>\n",
       "      <td>2020-02-01</td>\n",
       "      <td>NaT</td>\n",
       "      <td>Two year</td>\n",
       "      <td>0</td>\n",
       "      <td>Mailed check</td>\n",
       "      <td>25.35</td>\n",
       "      <td>NaN</td>\n",
       "    </tr>\n",
       "    <tr>\n",
       "      <th>4380</th>\n",
       "      <td>2520-SGTTA</td>\n",
       "      <td>2020-02-01</td>\n",
       "      <td>NaT</td>\n",
       "      <td>Two year</td>\n",
       "      <td>0</td>\n",
       "      <td>Mailed check</td>\n",
       "      <td>20.00</td>\n",
       "      <td>NaN</td>\n",
       "    </tr>\n",
       "    <tr>\n",
       "      <th>5218</th>\n",
       "      <td>2923-ARZLG</td>\n",
       "      <td>2020-02-01</td>\n",
       "      <td>NaT</td>\n",
       "      <td>One year</td>\n",
       "      <td>1</td>\n",
       "      <td>Mailed check</td>\n",
       "      <td>19.70</td>\n",
       "      <td>NaN</td>\n",
       "    </tr>\n",
       "    <tr>\n",
       "      <th>6670</th>\n",
       "      <td>4075-WKNIU</td>\n",
       "      <td>2020-02-01</td>\n",
       "      <td>NaT</td>\n",
       "      <td>Two year</td>\n",
       "      <td>0</td>\n",
       "      <td>Mailed check</td>\n",
       "      <td>73.35</td>\n",
       "      <td>NaN</td>\n",
       "    </tr>\n",
       "    <tr>\n",
       "      <th>6754</th>\n",
       "      <td>2775-SEFEE</td>\n",
       "      <td>2020-02-01</td>\n",
       "      <td>NaT</td>\n",
       "      <td>Two year</td>\n",
       "      <td>1</td>\n",
       "      <td>Bank transfer (automatic)</td>\n",
       "      <td>61.90</td>\n",
       "      <td>NaN</td>\n",
       "    </tr>\n",
       "  </tbody>\n",
       "</table>\n",
       "</div>"
      ],
      "text/plain": [
       "      customerID  BeginDate EndDate      Type  PaperlessBilling  \\\n",
       "488   4472-LVYGI 2020-02-01     NaT  Two year                 1   \n",
       "753   3115-CZMZD 2020-02-01     NaT  Two year                 0   \n",
       "936   5709-LVOEQ 2020-02-01     NaT  Two year                 0   \n",
       "1082  4367-NUYAO 2020-02-01     NaT  Two year                 0   \n",
       "1340  1371-DWPAZ 2020-02-01     NaT  Two year                 0   \n",
       "3331  7644-OMVMY 2020-02-01     NaT  Two year                 0   \n",
       "3826  3213-VVOLG 2020-02-01     NaT  Two year                 0   \n",
       "4380  2520-SGTTA 2020-02-01     NaT  Two year                 0   \n",
       "5218  2923-ARZLG 2020-02-01     NaT  One year                 1   \n",
       "6670  4075-WKNIU 2020-02-01     NaT  Two year                 0   \n",
       "6754  2775-SEFEE 2020-02-01     NaT  Two year                 1   \n",
       "\n",
       "                  PaymentMethod  MonthlyCharges  TotalCharges  \n",
       "488   Bank transfer (automatic)           52.55           NaN  \n",
       "753                Mailed check           20.25           NaN  \n",
       "936                Mailed check           80.85           NaN  \n",
       "1082               Mailed check           25.75           NaN  \n",
       "1340    Credit card (automatic)           56.05           NaN  \n",
       "3331               Mailed check           19.85           NaN  \n",
       "3826               Mailed check           25.35           NaN  \n",
       "4380               Mailed check           20.00           NaN  \n",
       "5218               Mailed check           19.70           NaN  \n",
       "6670               Mailed check           73.35           NaN  \n",
       "6754  Bank transfer (automatic)           61.90           NaN  "
      ]
     },
     "execution_count": 34,
     "metadata": {},
     "output_type": "execute_result"
    }
   ],
   "source": [
    "contract.query('TotalCharges == \"NaN\"')"
   ]
  },
  {
   "cell_type": "markdown",
   "metadata": {},
   "source": [
    "Это те самые 11 клиентов, подключившихся в последний месяц из выборки данных, на фоне остального массива данных можно сделать предположение, что данные за февраль 2020 года были собраны и отражены не полностью. И так как это всего 11 строк из 7043 (0,15%) можем смело отбросить эти строки."
   ]
  },
  {
   "cell_type": "code",
   "execution_count": 35,
   "metadata": {},
   "outputs": [],
   "source": [
    "contract = contract.query('TotalCharges != \"NaN\"')"
   ]
  },
  {
   "cell_type": "markdown",
   "metadata": {},
   "source": [
    "### Таблица с данными о клиентах (personal).\n"
   ]
  },
  {
   "cell_type": "code",
   "execution_count": 36,
   "metadata": {
    "scrolled": false
   },
   "outputs": [
    {
     "data": {
      "text/html": [
       "<div>\n",
       "<style scoped>\n",
       "    .dataframe tbody tr th:only-of-type {\n",
       "        vertical-align: middle;\n",
       "    }\n",
       "\n",
       "    .dataframe tbody tr th {\n",
       "        vertical-align: top;\n",
       "    }\n",
       "\n",
       "    .dataframe thead th {\n",
       "        text-align: right;\n",
       "    }\n",
       "</style>\n",
       "<table border=\"1\" class=\"dataframe\">\n",
       "  <thead>\n",
       "    <tr style=\"text-align: right;\">\n",
       "      <th></th>\n",
       "      <th>customerID</th>\n",
       "      <th>gender</th>\n",
       "      <th>SeniorCitizen</th>\n",
       "      <th>Partner</th>\n",
       "      <th>Dependents</th>\n",
       "    </tr>\n",
       "  </thead>\n",
       "  <tbody>\n",
       "    <tr>\n",
       "      <th>4721</th>\n",
       "      <td>4211-MMAZN</td>\n",
       "      <td>Male</td>\n",
       "      <td>0</td>\n",
       "      <td>No</td>\n",
       "      <td>No</td>\n",
       "    </tr>\n",
       "    <tr>\n",
       "      <th>2636</th>\n",
       "      <td>0907-HQNTS</td>\n",
       "      <td>Female</td>\n",
       "      <td>1</td>\n",
       "      <td>Yes</td>\n",
       "      <td>No</td>\n",
       "    </tr>\n",
       "    <tr>\n",
       "      <th>6040</th>\n",
       "      <td>0519-XUZJU</td>\n",
       "      <td>Female</td>\n",
       "      <td>0</td>\n",
       "      <td>No</td>\n",
       "      <td>No</td>\n",
       "    </tr>\n",
       "    <tr>\n",
       "      <th>1861</th>\n",
       "      <td>7054-LGEQW</td>\n",
       "      <td>Female</td>\n",
       "      <td>0</td>\n",
       "      <td>No</td>\n",
       "      <td>No</td>\n",
       "    </tr>\n",
       "    <tr>\n",
       "      <th>1550</th>\n",
       "      <td>9957-YODKZ</td>\n",
       "      <td>Male</td>\n",
       "      <td>1</td>\n",
       "      <td>Yes</td>\n",
       "      <td>No</td>\n",
       "    </tr>\n",
       "    <tr>\n",
       "      <th>7035</th>\n",
       "      <td>8456-QDAVC</td>\n",
       "      <td>Male</td>\n",
       "      <td>0</td>\n",
       "      <td>No</td>\n",
       "      <td>No</td>\n",
       "    </tr>\n",
       "    <tr>\n",
       "      <th>3758</th>\n",
       "      <td>8885-QSQBX</td>\n",
       "      <td>Female</td>\n",
       "      <td>0</td>\n",
       "      <td>No</td>\n",
       "      <td>No</td>\n",
       "    </tr>\n",
       "    <tr>\n",
       "      <th>3394</th>\n",
       "      <td>9052-DHNKM</td>\n",
       "      <td>Male</td>\n",
       "      <td>0</td>\n",
       "      <td>No</td>\n",
       "      <td>No</td>\n",
       "    </tr>\n",
       "    <tr>\n",
       "      <th>2295</th>\n",
       "      <td>2672-DZUOY</td>\n",
       "      <td>Male</td>\n",
       "      <td>0</td>\n",
       "      <td>No</td>\n",
       "      <td>No</td>\n",
       "    </tr>\n",
       "    <tr>\n",
       "      <th>5277</th>\n",
       "      <td>0345-HKJVM</td>\n",
       "      <td>Female</td>\n",
       "      <td>0</td>\n",
       "      <td>No</td>\n",
       "      <td>No</td>\n",
       "    </tr>\n",
       "  </tbody>\n",
       "</table>\n",
       "</div>"
      ],
      "text/plain": [
       "      customerID  gender  SeniorCitizen Partner Dependents\n",
       "4721  4211-MMAZN    Male              0      No         No\n",
       "2636  0907-HQNTS  Female              1     Yes         No\n",
       "6040  0519-XUZJU  Female              0      No         No\n",
       "1861  7054-LGEQW  Female              0      No         No\n",
       "1550  9957-YODKZ    Male              1     Yes         No\n",
       "7035  8456-QDAVC    Male              0      No         No\n",
       "3758  8885-QSQBX  Female              0      No         No\n",
       "3394  9052-DHNKM    Male              0      No         No\n",
       "2295  2672-DZUOY    Male              0      No         No\n",
       "5277  0345-HKJVM  Female              0      No         No"
      ]
     },
     "execution_count": 36,
     "metadata": {},
     "output_type": "execute_result"
    }
   ],
   "source": [
    "personal.sample(10)"
   ]
  },
  {
   "cell_type": "code",
   "execution_count": 37,
   "metadata": {},
   "outputs": [
    {
     "name": "stdout",
     "output_type": "stream",
     "text": [
      "<class 'pandas.core.frame.DataFrame'>\n",
      "RangeIndex: 7043 entries, 0 to 7042\n",
      "Data columns (total 5 columns):\n",
      " #   Column         Non-Null Count  Dtype \n",
      "---  ------         --------------  ----- \n",
      " 0   customerID     7043 non-null   object\n",
      " 1   gender         7043 non-null   object\n",
      " 2   SeniorCitizen  7043 non-null   int64 \n",
      " 3   Partner        7043 non-null   object\n",
      " 4   Dependents     7043 non-null   object\n",
      "dtypes: int64(1), object(4)\n",
      "memory usage: 275.2+ KB\n"
     ]
    }
   ],
   "source": [
    "personal.info()"
   ]
  },
  {
   "cell_type": "code",
   "execution_count": 38,
   "metadata": {},
   "outputs": [
    {
     "data": {
      "text/plain": [
       "Male      3555\n",
       "Female    3488\n",
       "Name: gender, dtype: int64"
      ]
     },
     "execution_count": 38,
     "metadata": {},
     "output_type": "execute_result"
    }
   ],
   "source": [
    "personal.gender.value_counts(dropna=False)"
   ]
  },
  {
   "cell_type": "code",
   "execution_count": 39,
   "metadata": {},
   "outputs": [
    {
     "data": {
      "text/plain": [
       "0    5901\n",
       "1    1142\n",
       "Name: SeniorCitizen, dtype: int64"
      ]
     },
     "execution_count": 39,
     "metadata": {},
     "output_type": "execute_result"
    }
   ],
   "source": [
    "personal.SeniorCitizen.value_counts(dropna=False)"
   ]
  },
  {
   "cell_type": "markdown",
   "metadata": {},
   "source": [
    "Поменяем значения столбцов `Partner` и `Dependents` на бинарные значения используя ранее написанную функцию."
   ]
  },
  {
   "cell_type": "code",
   "execution_count": 40,
   "metadata": {},
   "outputs": [
    {
     "data": {
      "text/html": [
       "<div>\n",
       "<style scoped>\n",
       "    .dataframe tbody tr th:only-of-type {\n",
       "        vertical-align: middle;\n",
       "    }\n",
       "\n",
       "    .dataframe tbody tr th {\n",
       "        vertical-align: top;\n",
       "    }\n",
       "\n",
       "    .dataframe thead th {\n",
       "        text-align: right;\n",
       "    }\n",
       "</style>\n",
       "<table border=\"1\" class=\"dataframe\">\n",
       "  <thead>\n",
       "    <tr style=\"text-align: right;\">\n",
       "      <th></th>\n",
       "      <th>customerID</th>\n",
       "      <th>gender</th>\n",
       "      <th>SeniorCitizen</th>\n",
       "      <th>Partner</th>\n",
       "      <th>Dependents</th>\n",
       "    </tr>\n",
       "  </thead>\n",
       "  <tbody>\n",
       "    <tr>\n",
       "      <th>2743</th>\n",
       "      <td>2323-ARSVR</td>\n",
       "      <td>Male</td>\n",
       "      <td>0</td>\n",
       "      <td>1</td>\n",
       "      <td>0</td>\n",
       "    </tr>\n",
       "    <tr>\n",
       "      <th>2078</th>\n",
       "      <td>7746-QYVCO</td>\n",
       "      <td>Male</td>\n",
       "      <td>0</td>\n",
       "      <td>1</td>\n",
       "      <td>1</td>\n",
       "    </tr>\n",
       "    <tr>\n",
       "      <th>6487</th>\n",
       "      <td>5998-DZLYR</td>\n",
       "      <td>Female</td>\n",
       "      <td>0</td>\n",
       "      <td>1</td>\n",
       "      <td>0</td>\n",
       "    </tr>\n",
       "    <tr>\n",
       "      <th>1051</th>\n",
       "      <td>3845-JHAMY</td>\n",
       "      <td>Female</td>\n",
       "      <td>0</td>\n",
       "      <td>1</td>\n",
       "      <td>1</td>\n",
       "    </tr>\n",
       "    <tr>\n",
       "      <th>3680</th>\n",
       "      <td>0836-SEYLU</td>\n",
       "      <td>Male</td>\n",
       "      <td>0</td>\n",
       "      <td>1</td>\n",
       "      <td>0</td>\n",
       "    </tr>\n",
       "    <tr>\n",
       "      <th>6906</th>\n",
       "      <td>9945-PSVIP</td>\n",
       "      <td>Female</td>\n",
       "      <td>0</td>\n",
       "      <td>1</td>\n",
       "      <td>1</td>\n",
       "    </tr>\n",
       "    <tr>\n",
       "      <th>323</th>\n",
       "      <td>7102-JJVTX</td>\n",
       "      <td>Female</td>\n",
       "      <td>0</td>\n",
       "      <td>1</td>\n",
       "      <td>1</td>\n",
       "    </tr>\n",
       "    <tr>\n",
       "      <th>1640</th>\n",
       "      <td>2351-RRBUE</td>\n",
       "      <td>Female</td>\n",
       "      <td>0</td>\n",
       "      <td>1</td>\n",
       "      <td>1</td>\n",
       "    </tr>\n",
       "    <tr>\n",
       "      <th>887</th>\n",
       "      <td>1258-YMZNM</td>\n",
       "      <td>Female</td>\n",
       "      <td>1</td>\n",
       "      <td>0</td>\n",
       "      <td>0</td>\n",
       "    </tr>\n",
       "    <tr>\n",
       "      <th>6342</th>\n",
       "      <td>3384-CTMSF</td>\n",
       "      <td>Male</td>\n",
       "      <td>0</td>\n",
       "      <td>1</td>\n",
       "      <td>0</td>\n",
       "    </tr>\n",
       "  </tbody>\n",
       "</table>\n",
       "</div>"
      ],
      "text/plain": [
       "      customerID  gender  SeniorCitizen  Partner  Dependents\n",
       "2743  2323-ARSVR    Male              0        1           0\n",
       "2078  7746-QYVCO    Male              0        1           1\n",
       "6487  5998-DZLYR  Female              0        1           0\n",
       "1051  3845-JHAMY  Female              0        1           1\n",
       "3680  0836-SEYLU    Male              0        1           0\n",
       "6906  9945-PSVIP  Female              0        1           1\n",
       "323   7102-JJVTX  Female              0        1           1\n",
       "1640  2351-RRBUE  Female              0        1           1\n",
       "887   1258-YMZNM  Female              1        0           0\n",
       "6342  3384-CTMSF    Male              0        1           0"
      ]
     },
     "execution_count": 40,
     "metadata": {},
     "output_type": "execute_result"
    }
   ],
   "source": [
    "bool_type(personal, 'Partner')\n",
    "bool_type(personal, 'Dependents')\n",
    "personal.sample(10)"
   ]
  },
  {
   "cell_type": "code",
   "execution_count": 41,
   "metadata": {
    "scrolled": false
   },
   "outputs": [
    {
     "data": {
      "text/plain": [
       "0    3641\n",
       "1    3402\n",
       "Name: Partner, dtype: int64"
      ]
     },
     "execution_count": 41,
     "metadata": {},
     "output_type": "execute_result"
    }
   ],
   "source": [
    "personal.Partner.value_counts(dropna=False)"
   ]
  },
  {
   "cell_type": "code",
   "execution_count": 42,
   "metadata": {},
   "outputs": [
    {
     "data": {
      "text/plain": [
       "0    4933\n",
       "1    2110\n",
       "Name: Dependents, dtype: int64"
      ]
     },
     "execution_count": 42,
     "metadata": {},
     "output_type": "execute_result"
    }
   ],
   "source": [
    "personal.Dependents.value_counts(dropna=False)"
   ]
  },
  {
   "cell_type": "markdown",
   "metadata": {},
   "source": [
    "###  Информация об интернет-услугах (internet)."
   ]
  },
  {
   "cell_type": "code",
   "execution_count": 43,
   "metadata": {},
   "outputs": [
    {
     "data": {
      "text/html": [
       "<div>\n",
       "<style scoped>\n",
       "    .dataframe tbody tr th:only-of-type {\n",
       "        vertical-align: middle;\n",
       "    }\n",
       "\n",
       "    .dataframe tbody tr th {\n",
       "        vertical-align: top;\n",
       "    }\n",
       "\n",
       "    .dataframe thead th {\n",
       "        text-align: right;\n",
       "    }\n",
       "</style>\n",
       "<table border=\"1\" class=\"dataframe\">\n",
       "  <thead>\n",
       "    <tr style=\"text-align: right;\">\n",
       "      <th></th>\n",
       "      <th>customerID</th>\n",
       "      <th>InternetService</th>\n",
       "      <th>OnlineSecurity</th>\n",
       "      <th>OnlineBackup</th>\n",
       "      <th>DeviceProtection</th>\n",
       "      <th>TechSupport</th>\n",
       "      <th>StreamingTV</th>\n",
       "      <th>StreamingMovies</th>\n",
       "    </tr>\n",
       "  </thead>\n",
       "  <tbody>\n",
       "    <tr>\n",
       "      <th>5137</th>\n",
       "      <td>6258-PVZWJ</td>\n",
       "      <td>DSL</td>\n",
       "      <td>Yes</td>\n",
       "      <td>Yes</td>\n",
       "      <td>Yes</td>\n",
       "      <td>Yes</td>\n",
       "      <td>Yes</td>\n",
       "      <td>Yes</td>\n",
       "    </tr>\n",
       "    <tr>\n",
       "      <th>3423</th>\n",
       "      <td>8642-GVWRF</td>\n",
       "      <td>Fiber optic</td>\n",
       "      <td>No</td>\n",
       "      <td>Yes</td>\n",
       "      <td>Yes</td>\n",
       "      <td>No</td>\n",
       "      <td>No</td>\n",
       "      <td>No</td>\n",
       "    </tr>\n",
       "    <tr>\n",
       "      <th>2883</th>\n",
       "      <td>7244-QWYHG</td>\n",
       "      <td>DSL</td>\n",
       "      <td>Yes</td>\n",
       "      <td>No</td>\n",
       "      <td>No</td>\n",
       "      <td>Yes</td>\n",
       "      <td>Yes</td>\n",
       "      <td>No</td>\n",
       "    </tr>\n",
       "    <tr>\n",
       "      <th>2209</th>\n",
       "      <td>0536-ACXIP</td>\n",
       "      <td>Fiber optic</td>\n",
       "      <td>Yes</td>\n",
       "      <td>Yes</td>\n",
       "      <td>Yes</td>\n",
       "      <td>No</td>\n",
       "      <td>Yes</td>\n",
       "      <td>Yes</td>\n",
       "    </tr>\n",
       "    <tr>\n",
       "      <th>5318</th>\n",
       "      <td>7758-XKCBS</td>\n",
       "      <td>DSL</td>\n",
       "      <td>No</td>\n",
       "      <td>No</td>\n",
       "      <td>No</td>\n",
       "      <td>Yes</td>\n",
       "      <td>No</td>\n",
       "      <td>No</td>\n",
       "    </tr>\n",
       "    <tr>\n",
       "      <th>2340</th>\n",
       "      <td>6295-OSINB</td>\n",
       "      <td>Fiber optic</td>\n",
       "      <td>Yes</td>\n",
       "      <td>Yes</td>\n",
       "      <td>Yes</td>\n",
       "      <td>No</td>\n",
       "      <td>Yes</td>\n",
       "      <td>Yes</td>\n",
       "    </tr>\n",
       "    <tr>\n",
       "      <th>3209</th>\n",
       "      <td>0641-EVBOJ</td>\n",
       "      <td>Fiber optic</td>\n",
       "      <td>Yes</td>\n",
       "      <td>No</td>\n",
       "      <td>No</td>\n",
       "      <td>Yes</td>\n",
       "      <td>No</td>\n",
       "      <td>No</td>\n",
       "    </tr>\n",
       "    <tr>\n",
       "      <th>2816</th>\n",
       "      <td>6185-TASNN</td>\n",
       "      <td>DSL</td>\n",
       "      <td>No</td>\n",
       "      <td>No</td>\n",
       "      <td>No</td>\n",
       "      <td>No</td>\n",
       "      <td>No</td>\n",
       "      <td>No</td>\n",
       "    </tr>\n",
       "    <tr>\n",
       "      <th>2952</th>\n",
       "      <td>0684-AOSIH</td>\n",
       "      <td>Fiber optic</td>\n",
       "      <td>Yes</td>\n",
       "      <td>No</td>\n",
       "      <td>No</td>\n",
       "      <td>No</td>\n",
       "      <td>Yes</td>\n",
       "      <td>Yes</td>\n",
       "    </tr>\n",
       "    <tr>\n",
       "      <th>2295</th>\n",
       "      <td>5542-TBBWB</td>\n",
       "      <td>Fiber optic</td>\n",
       "      <td>No</td>\n",
       "      <td>No</td>\n",
       "      <td>No</td>\n",
       "      <td>No</td>\n",
       "      <td>No</td>\n",
       "      <td>No</td>\n",
       "    </tr>\n",
       "  </tbody>\n",
       "</table>\n",
       "</div>"
      ],
      "text/plain": [
       "      customerID InternetService OnlineSecurity OnlineBackup DeviceProtection  \\\n",
       "5137  6258-PVZWJ             DSL            Yes          Yes              Yes   \n",
       "3423  8642-GVWRF     Fiber optic             No          Yes              Yes   \n",
       "2883  7244-QWYHG             DSL            Yes           No               No   \n",
       "2209  0536-ACXIP     Fiber optic            Yes          Yes              Yes   \n",
       "5318  7758-XKCBS             DSL             No           No               No   \n",
       "2340  6295-OSINB     Fiber optic            Yes          Yes              Yes   \n",
       "3209  0641-EVBOJ     Fiber optic            Yes           No               No   \n",
       "2816  6185-TASNN             DSL             No           No               No   \n",
       "2952  0684-AOSIH     Fiber optic            Yes           No               No   \n",
       "2295  5542-TBBWB     Fiber optic             No           No               No   \n",
       "\n",
       "     TechSupport StreamingTV StreamingMovies  \n",
       "5137         Yes         Yes             Yes  \n",
       "3423          No          No              No  \n",
       "2883         Yes         Yes              No  \n",
       "2209          No         Yes             Yes  \n",
       "5318         Yes          No              No  \n",
       "2340          No         Yes             Yes  \n",
       "3209         Yes          No              No  \n",
       "2816          No          No              No  \n",
       "2952          No         Yes             Yes  \n",
       "2295          No          No              No  "
      ]
     },
     "execution_count": 43,
     "metadata": {},
     "output_type": "execute_result"
    }
   ],
   "source": [
    "internet.sample(10)"
   ]
  },
  {
   "cell_type": "code",
   "execution_count": 44,
   "metadata": {},
   "outputs": [
    {
     "name": "stdout",
     "output_type": "stream",
     "text": [
      "<class 'pandas.core.frame.DataFrame'>\n",
      "RangeIndex: 5517 entries, 0 to 5516\n",
      "Data columns (total 8 columns):\n",
      " #   Column            Non-Null Count  Dtype \n",
      "---  ------            --------------  ----- \n",
      " 0   customerID        5517 non-null   object\n",
      " 1   InternetService   5517 non-null   object\n",
      " 2   OnlineSecurity    5517 non-null   object\n",
      " 3   OnlineBackup      5517 non-null   object\n",
      " 4   DeviceProtection  5517 non-null   object\n",
      " 5   TechSupport       5517 non-null   object\n",
      " 6   StreamingTV       5517 non-null   object\n",
      " 7   StreamingMovies   5517 non-null   object\n",
      "dtypes: object(8)\n",
      "memory usage: 344.9+ KB\n"
     ]
    }
   ],
   "source": [
    "internet.info()"
   ]
  },
  {
   "cell_type": "code",
   "execution_count": 45,
   "metadata": {},
   "outputs": [
    {
     "data": {
      "text/plain": [
       "Fiber optic    3096\n",
       "DSL            2421\n",
       "Name: InternetService, dtype: int64"
      ]
     },
     "execution_count": 45,
     "metadata": {},
     "output_type": "execute_result"
    }
   ],
   "source": [
    "internet.InternetService.value_counts(dropna=False)"
   ]
  },
  {
   "cell_type": "markdown",
   "metadata": {},
   "source": [
    "Поменяем значения всех столбцов, кроме `customerID` и `InternetService`, на бинарные, использую функцию написанную ранее. Так же она позволит увидеть пропуски и некорректные значения, если они так есть."
   ]
  },
  {
   "cell_type": "code",
   "execution_count": 46,
   "metadata": {},
   "outputs": [
    {
     "data": {
      "text/html": [
       "<div>\n",
       "<style scoped>\n",
       "    .dataframe tbody tr th:only-of-type {\n",
       "        vertical-align: middle;\n",
       "    }\n",
       "\n",
       "    .dataframe tbody tr th {\n",
       "        vertical-align: top;\n",
       "    }\n",
       "\n",
       "    .dataframe thead th {\n",
       "        text-align: right;\n",
       "    }\n",
       "</style>\n",
       "<table border=\"1\" class=\"dataframe\">\n",
       "  <thead>\n",
       "    <tr style=\"text-align: right;\">\n",
       "      <th></th>\n",
       "      <th>customerID</th>\n",
       "      <th>InternetService</th>\n",
       "      <th>OnlineSecurity</th>\n",
       "      <th>OnlineBackup</th>\n",
       "      <th>DeviceProtection</th>\n",
       "      <th>TechSupport</th>\n",
       "      <th>StreamingTV</th>\n",
       "      <th>StreamingMovies</th>\n",
       "    </tr>\n",
       "  </thead>\n",
       "  <tbody>\n",
       "    <tr>\n",
       "      <th>4215</th>\n",
       "      <td>0843-WTBXE</td>\n",
       "      <td>Fiber optic</td>\n",
       "      <td>0</td>\n",
       "      <td>0</td>\n",
       "      <td>0</td>\n",
       "      <td>0</td>\n",
       "      <td>1</td>\n",
       "      <td>0</td>\n",
       "    </tr>\n",
       "    <tr>\n",
       "      <th>1802</th>\n",
       "      <td>4056-QHXHZ</td>\n",
       "      <td>Fiber optic</td>\n",
       "      <td>1</td>\n",
       "      <td>0</td>\n",
       "      <td>1</td>\n",
       "      <td>1</td>\n",
       "      <td>1</td>\n",
       "      <td>1</td>\n",
       "    </tr>\n",
       "    <tr>\n",
       "      <th>1534</th>\n",
       "      <td>0701-RFGFI</td>\n",
       "      <td>Fiber optic</td>\n",
       "      <td>0</td>\n",
       "      <td>0</td>\n",
       "      <td>0</td>\n",
       "      <td>0</td>\n",
       "      <td>1</td>\n",
       "      <td>1</td>\n",
       "    </tr>\n",
       "    <tr>\n",
       "      <th>62</th>\n",
       "      <td>2273-QCKXA</td>\n",
       "      <td>DSL</td>\n",
       "      <td>0</td>\n",
       "      <td>0</td>\n",
       "      <td>0</td>\n",
       "      <td>1</td>\n",
       "      <td>0</td>\n",
       "      <td>0</td>\n",
       "    </tr>\n",
       "    <tr>\n",
       "      <th>3509</th>\n",
       "      <td>0442-ZXKVS</td>\n",
       "      <td>Fiber optic</td>\n",
       "      <td>1</td>\n",
       "      <td>1</td>\n",
       "      <td>1</td>\n",
       "      <td>1</td>\n",
       "      <td>1</td>\n",
       "      <td>1</td>\n",
       "    </tr>\n",
       "    <tr>\n",
       "      <th>5177</th>\n",
       "      <td>3398-FSHON</td>\n",
       "      <td>Fiber optic</td>\n",
       "      <td>0</td>\n",
       "      <td>1</td>\n",
       "      <td>0</td>\n",
       "      <td>0</td>\n",
       "      <td>1</td>\n",
       "      <td>0</td>\n",
       "    </tr>\n",
       "    <tr>\n",
       "      <th>2722</th>\n",
       "      <td>2828-SLQPF</td>\n",
       "      <td>DSL</td>\n",
       "      <td>0</td>\n",
       "      <td>0</td>\n",
       "      <td>0</td>\n",
       "      <td>0</td>\n",
       "      <td>0</td>\n",
       "      <td>0</td>\n",
       "    </tr>\n",
       "    <tr>\n",
       "      <th>1138</th>\n",
       "      <td>6718-BDGHG</td>\n",
       "      <td>DSL</td>\n",
       "      <td>0</td>\n",
       "      <td>0</td>\n",
       "      <td>0</td>\n",
       "      <td>1</td>\n",
       "      <td>1</td>\n",
       "      <td>0</td>\n",
       "    </tr>\n",
       "    <tr>\n",
       "      <th>5359</th>\n",
       "      <td>6692-UDPJC</td>\n",
       "      <td>Fiber optic</td>\n",
       "      <td>0</td>\n",
       "      <td>0</td>\n",
       "      <td>0</td>\n",
       "      <td>1</td>\n",
       "      <td>1</td>\n",
       "      <td>0</td>\n",
       "    </tr>\n",
       "    <tr>\n",
       "      <th>1765</th>\n",
       "      <td>6050-FFXES</td>\n",
       "      <td>Fiber optic</td>\n",
       "      <td>0</td>\n",
       "      <td>0</td>\n",
       "      <td>1</td>\n",
       "      <td>1</td>\n",
       "      <td>1</td>\n",
       "      <td>1</td>\n",
       "    </tr>\n",
       "  </tbody>\n",
       "</table>\n",
       "</div>"
      ],
      "text/plain": [
       "      customerID InternetService  OnlineSecurity  OnlineBackup  \\\n",
       "4215  0843-WTBXE     Fiber optic               0             0   \n",
       "1802  4056-QHXHZ     Fiber optic               1             0   \n",
       "1534  0701-RFGFI     Fiber optic               0             0   \n",
       "62    2273-QCKXA             DSL               0             0   \n",
       "3509  0442-ZXKVS     Fiber optic               1             1   \n",
       "5177  3398-FSHON     Fiber optic               0             1   \n",
       "2722  2828-SLQPF             DSL               0             0   \n",
       "1138  6718-BDGHG             DSL               0             0   \n",
       "5359  6692-UDPJC     Fiber optic               0             0   \n",
       "1765  6050-FFXES     Fiber optic               0             0   \n",
       "\n",
       "      DeviceProtection  TechSupport  StreamingTV  StreamingMovies  \n",
       "4215                 0            0            1                0  \n",
       "1802                 1            1            1                1  \n",
       "1534                 0            0            1                1  \n",
       "62                   0            1            0                0  \n",
       "3509                 1            1            1                1  \n",
       "5177                 0            0            1                0  \n",
       "2722                 0            0            0                0  \n",
       "1138                 0            1            1                0  \n",
       "5359                 0            1            1                0  \n",
       "1765                 1            1            1                1  "
      ]
     },
     "execution_count": 46,
     "metadata": {},
     "output_type": "execute_result"
    }
   ],
   "source": [
    "bool_type(internet, 'OnlineSecurity')\n",
    "bool_type(internet, 'OnlineBackup')\n",
    "bool_type(internet, 'DeviceProtection')\n",
    "bool_type(internet, 'TechSupport')\n",
    "bool_type(internet, 'StreamingTV')\n",
    "bool_type(internet, 'StreamingMovies')\n",
    "internet.sample(10)"
   ]
  },
  {
   "cell_type": "code",
   "execution_count": 47,
   "metadata": {
    "scrolled": false
   },
   "outputs": [
    {
     "name": "stdout",
     "output_type": "stream",
     "text": [
      "0    3498\n",
      "1    2019\n",
      "Name: OnlineSecurity, dtype: int64 \n",
      "\n",
      "0    3088\n",
      "1    2429\n",
      "Name: OnlineBackup, dtype: int64 \n",
      "\n",
      "0    3095\n",
      "1    2422\n",
      "Name: DeviceProtection, dtype: int64 \n",
      "\n",
      "0    3473\n",
      "1    2044\n",
      "Name: TechSupport, dtype: int64 \n",
      "\n",
      "0    2810\n",
      "1    2707\n",
      "Name: StreamingTV, dtype: int64 \n",
      "\n",
      "0    2785\n",
      "1    2732\n",
      "Name: StreamingMovies, dtype: int64 \n",
      "\n"
     ]
    }
   ],
   "source": [
    "print(internet.OnlineSecurity.value_counts(dropna=False),'\\n') \n",
    "print(internet.OnlineBackup.value_counts(dropna=False),'\\n')\n",
    "print(internet.DeviceProtection.value_counts(dropna=False),'\\n')\n",
    "print(internet.TechSupport.value_counts(dropna=False),'\\n')\n",
    "print(internet.StreamingTV.value_counts(dropna=False),'\\n')\n",
    "print(internet.StreamingMovies.value_counts(dropna=False),'\\n')"
   ]
  },
  {
   "cell_type": "markdown",
   "metadata": {},
   "source": [
    "Пропусков нет, данные корректны."
   ]
  },
  {
   "cell_type": "markdown",
   "metadata": {},
   "source": [
    "**В данной таблице меньше ID клиентов, чем в предыдущих двух, вероятно это связано с тем, что не во всех договорах применяются интернет-услуги. В дальнейшем необходимо будет корректно соединить таблицы, чтобы не потерять данные.**"
   ]
  },
  {
   "cell_type": "markdown",
   "metadata": {},
   "source": [
    "### Информация об услугах телефонии (phone)"
   ]
  },
  {
   "cell_type": "code",
   "execution_count": 48,
   "metadata": {},
   "outputs": [
    {
     "data": {
      "text/html": [
       "<div>\n",
       "<style scoped>\n",
       "    .dataframe tbody tr th:only-of-type {\n",
       "        vertical-align: middle;\n",
       "    }\n",
       "\n",
       "    .dataframe tbody tr th {\n",
       "        vertical-align: top;\n",
       "    }\n",
       "\n",
       "    .dataframe thead th {\n",
       "        text-align: right;\n",
       "    }\n",
       "</style>\n",
       "<table border=\"1\" class=\"dataframe\">\n",
       "  <thead>\n",
       "    <tr style=\"text-align: right;\">\n",
       "      <th></th>\n",
       "      <th>customerID</th>\n",
       "      <th>MultipleLines</th>\n",
       "    </tr>\n",
       "  </thead>\n",
       "  <tbody>\n",
       "    <tr>\n",
       "      <th>231</th>\n",
       "      <td>7529-ZDFXI</td>\n",
       "      <td>Yes</td>\n",
       "    </tr>\n",
       "    <tr>\n",
       "      <th>1178</th>\n",
       "      <td>6248-TKCQV</td>\n",
       "      <td>Yes</td>\n",
       "    </tr>\n",
       "    <tr>\n",
       "      <th>3150</th>\n",
       "      <td>2831-EBWRN</td>\n",
       "      <td>No</td>\n",
       "    </tr>\n",
       "    <tr>\n",
       "      <th>2052</th>\n",
       "      <td>6050-FFXES</td>\n",
       "      <td>Yes</td>\n",
       "    </tr>\n",
       "    <tr>\n",
       "      <th>2973</th>\n",
       "      <td>1245-HARPS</td>\n",
       "      <td>No</td>\n",
       "    </tr>\n",
       "    <tr>\n",
       "      <th>5444</th>\n",
       "      <td>9503-XJUME</td>\n",
       "      <td>No</td>\n",
       "    </tr>\n",
       "    <tr>\n",
       "      <th>4017</th>\n",
       "      <td>5278-PNYOX</td>\n",
       "      <td>No</td>\n",
       "    </tr>\n",
       "    <tr>\n",
       "      <th>4508</th>\n",
       "      <td>7480-QNVZJ</td>\n",
       "      <td>Yes</td>\n",
       "    </tr>\n",
       "    <tr>\n",
       "      <th>1261</th>\n",
       "      <td>8621-MNIHH</td>\n",
       "      <td>Yes</td>\n",
       "    </tr>\n",
       "    <tr>\n",
       "      <th>662</th>\n",
       "      <td>1216-JWVUX</td>\n",
       "      <td>No</td>\n",
       "    </tr>\n",
       "  </tbody>\n",
       "</table>\n",
       "</div>"
      ],
      "text/plain": [
       "      customerID MultipleLines\n",
       "231   7529-ZDFXI           Yes\n",
       "1178  6248-TKCQV           Yes\n",
       "3150  2831-EBWRN            No\n",
       "2052  6050-FFXES           Yes\n",
       "2973  1245-HARPS            No\n",
       "5444  9503-XJUME            No\n",
       "4017  5278-PNYOX            No\n",
       "4508  7480-QNVZJ           Yes\n",
       "1261  8621-MNIHH           Yes\n",
       "662   1216-JWVUX            No"
      ]
     },
     "execution_count": 48,
     "metadata": {},
     "output_type": "execute_result"
    }
   ],
   "source": [
    "phone.sample(10)"
   ]
  },
  {
   "cell_type": "code",
   "execution_count": 49,
   "metadata": {},
   "outputs": [
    {
     "name": "stdout",
     "output_type": "stream",
     "text": [
      "<class 'pandas.core.frame.DataFrame'>\n",
      "RangeIndex: 6361 entries, 0 to 6360\n",
      "Data columns (total 2 columns):\n",
      " #   Column         Non-Null Count  Dtype \n",
      "---  ------         --------------  ----- \n",
      " 0   customerID     6361 non-null   object\n",
      " 1   MultipleLines  6361 non-null   object\n",
      "dtypes: object(2)\n",
      "memory usage: 99.5+ KB\n"
     ]
    }
   ],
   "source": [
    "phone.info()"
   ]
  },
  {
   "cell_type": "markdown",
   "metadata": {},
   "source": [
    "Поменяем тип данных в столбце `MultipleLines`"
   ]
  },
  {
   "cell_type": "code",
   "execution_count": 50,
   "metadata": {},
   "outputs": [
    {
     "data": {
      "text/html": [
       "<div>\n",
       "<style scoped>\n",
       "    .dataframe tbody tr th:only-of-type {\n",
       "        vertical-align: middle;\n",
       "    }\n",
       "\n",
       "    .dataframe tbody tr th {\n",
       "        vertical-align: top;\n",
       "    }\n",
       "\n",
       "    .dataframe thead th {\n",
       "        text-align: right;\n",
       "    }\n",
       "</style>\n",
       "<table border=\"1\" class=\"dataframe\">\n",
       "  <thead>\n",
       "    <tr style=\"text-align: right;\">\n",
       "      <th></th>\n",
       "      <th>customerID</th>\n",
       "      <th>MultipleLines</th>\n",
       "    </tr>\n",
       "  </thead>\n",
       "  <tbody>\n",
       "    <tr>\n",
       "      <th>3493</th>\n",
       "      <td>3932-CMDTD</td>\n",
       "      <td>0</td>\n",
       "    </tr>\n",
       "    <tr>\n",
       "      <th>819</th>\n",
       "      <td>5543-QDCRY</td>\n",
       "      <td>0</td>\n",
       "    </tr>\n",
       "    <tr>\n",
       "      <th>2380</th>\n",
       "      <td>0164-APGRB</td>\n",
       "      <td>1</td>\n",
       "    </tr>\n",
       "    <tr>\n",
       "      <th>1622</th>\n",
       "      <td>5605-XNWEN</td>\n",
       "      <td>1</td>\n",
       "    </tr>\n",
       "    <tr>\n",
       "      <th>1297</th>\n",
       "      <td>7767-UXAGJ</td>\n",
       "      <td>1</td>\n",
       "    </tr>\n",
       "    <tr>\n",
       "      <th>4563</th>\n",
       "      <td>1848-LBZHY</td>\n",
       "      <td>0</td>\n",
       "    </tr>\n",
       "    <tr>\n",
       "      <th>3818</th>\n",
       "      <td>5797-APWZC</td>\n",
       "      <td>0</td>\n",
       "    </tr>\n",
       "    <tr>\n",
       "      <th>3539</th>\n",
       "      <td>4503-BDXBD</td>\n",
       "      <td>0</td>\n",
       "    </tr>\n",
       "    <tr>\n",
       "      <th>3926</th>\n",
       "      <td>1101-SSWAG</td>\n",
       "      <td>1</td>\n",
       "    </tr>\n",
       "    <tr>\n",
       "      <th>2844</th>\n",
       "      <td>2739-CCZMB</td>\n",
       "      <td>0</td>\n",
       "    </tr>\n",
       "  </tbody>\n",
       "</table>\n",
       "</div>"
      ],
      "text/plain": [
       "      customerID  MultipleLines\n",
       "3493  3932-CMDTD              0\n",
       "819   5543-QDCRY              0\n",
       "2380  0164-APGRB              1\n",
       "1622  5605-XNWEN              1\n",
       "1297  7767-UXAGJ              1\n",
       "4563  1848-LBZHY              0\n",
       "3818  5797-APWZC              0\n",
       "3539  4503-BDXBD              0\n",
       "3926  1101-SSWAG              1\n",
       "2844  2739-CCZMB              0"
      ]
     },
     "execution_count": 50,
     "metadata": {},
     "output_type": "execute_result"
    }
   ],
   "source": [
    "bool_type(phone, 'MultipleLines')\n",
    "phone.sample(10)"
   ]
  },
  {
   "cell_type": "code",
   "execution_count": 51,
   "metadata": {},
   "outputs": [
    {
     "data": {
      "text/plain": [
       "0    3390\n",
       "1    2971\n",
       "Name: MultipleLines, dtype: int64"
      ]
     },
     "execution_count": 51,
     "metadata": {},
     "output_type": "execute_result"
    }
   ],
   "source": [
    "phone.MultipleLines.value_counts(dropna=False)"
   ]
  },
  {
   "cell_type": "markdown",
   "metadata": {},
   "source": [
    "Пропусков нет. Аналогичная ситуация, как и в предыдущей таблице: количество ID пользователей отличается, необходимо учитывать это в дальнейшем."
   ]
  },
  {
   "cell_type": "markdown",
   "metadata": {},
   "source": [
    "## Создание целевого и дополнительного признаков. Поиск аномалий."
   ]
  },
  {
   "cell_type": "markdown",
   "metadata": {},
   "source": [
    "### Объединение таблиц"
   ]
  },
  {
   "cell_type": "markdown",
   "metadata": {},
   "source": [
    "Начнем с объединения таблиц в одну."
   ]
  },
  {
   "cell_type": "markdown",
   "metadata": {},
   "source": [
    "contract\n",
    "personal\n",
    "internet\n",
    "phone"
   ]
  },
  {
   "cell_type": "code",
   "execution_count": 52,
   "metadata": {},
   "outputs": [
    {
     "name": "stdout",
     "output_type": "stream",
     "text": [
      "contract (7032, 8)\n",
      "personal (7043, 5)\n",
      "internet (5517, 8)\n",
      "phone (6361, 2)\n"
     ]
    }
   ],
   "source": [
    "print('contract', contract.shape)\n",
    "print('personal', personal.shape)\n",
    "print('internet', internet.shape)\n",
    "print('phone', phone.shape)"
   ]
  },
  {
   "cell_type": "code",
   "execution_count": 53,
   "metadata": {},
   "outputs": [],
   "source": [
    "df = contract.set_index('customerID').join(\n",
    "    other=[personal.set_index('customerID'), \n",
    "           internet.set_index('customerID'), \n",
    "           phone.set_index('customerID')], how='left')"
   ]
  },
  {
   "cell_type": "code",
   "execution_count": 54,
   "metadata": {
    "scrolled": true
   },
   "outputs": [
    {
     "data": {
      "text/html": [
       "<div>\n",
       "<style scoped>\n",
       "    .dataframe tbody tr th:only-of-type {\n",
       "        vertical-align: middle;\n",
       "    }\n",
       "\n",
       "    .dataframe tbody tr th {\n",
       "        vertical-align: top;\n",
       "    }\n",
       "\n",
       "    .dataframe thead th {\n",
       "        text-align: right;\n",
       "    }\n",
       "</style>\n",
       "<table border=\"1\" class=\"dataframe\">\n",
       "  <thead>\n",
       "    <tr style=\"text-align: right;\">\n",
       "      <th></th>\n",
       "      <th>BeginDate</th>\n",
       "      <th>EndDate</th>\n",
       "      <th>Type</th>\n",
       "      <th>PaperlessBilling</th>\n",
       "      <th>PaymentMethod</th>\n",
       "      <th>MonthlyCharges</th>\n",
       "      <th>TotalCharges</th>\n",
       "      <th>gender</th>\n",
       "      <th>SeniorCitizen</th>\n",
       "      <th>Partner</th>\n",
       "      <th>Dependents</th>\n",
       "      <th>InternetService</th>\n",
       "      <th>OnlineSecurity</th>\n",
       "      <th>OnlineBackup</th>\n",
       "      <th>DeviceProtection</th>\n",
       "      <th>TechSupport</th>\n",
       "      <th>StreamingTV</th>\n",
       "      <th>StreamingMovies</th>\n",
       "      <th>MultipleLines</th>\n",
       "    </tr>\n",
       "    <tr>\n",
       "      <th>customerID</th>\n",
       "      <th></th>\n",
       "      <th></th>\n",
       "      <th></th>\n",
       "      <th></th>\n",
       "      <th></th>\n",
       "      <th></th>\n",
       "      <th></th>\n",
       "      <th></th>\n",
       "      <th></th>\n",
       "      <th></th>\n",
       "      <th></th>\n",
       "      <th></th>\n",
       "      <th></th>\n",
       "      <th></th>\n",
       "      <th></th>\n",
       "      <th></th>\n",
       "      <th></th>\n",
       "      <th></th>\n",
       "      <th></th>\n",
       "    </tr>\n",
       "  </thead>\n",
       "  <tbody>\n",
       "    <tr>\n",
       "      <th>7590-VHVEG</th>\n",
       "      <td>2020-01-01</td>\n",
       "      <td>NaT</td>\n",
       "      <td>Month-to-month</td>\n",
       "      <td>1.0</td>\n",
       "      <td>Electronic check</td>\n",
       "      <td>29.85</td>\n",
       "      <td>29.85</td>\n",
       "      <td>Female</td>\n",
       "      <td>0</td>\n",
       "      <td>1</td>\n",
       "      <td>0</td>\n",
       "      <td>DSL</td>\n",
       "      <td>0.0</td>\n",
       "      <td>1.0</td>\n",
       "      <td>0.0</td>\n",
       "      <td>0.0</td>\n",
       "      <td>0.0</td>\n",
       "      <td>0.0</td>\n",
       "      <td>NaN</td>\n",
       "    </tr>\n",
       "    <tr>\n",
       "      <th>5575-GNVDE</th>\n",
       "      <td>2017-04-01</td>\n",
       "      <td>NaT</td>\n",
       "      <td>One year</td>\n",
       "      <td>0.0</td>\n",
       "      <td>Mailed check</td>\n",
       "      <td>56.95</td>\n",
       "      <td>1889.50</td>\n",
       "      <td>Male</td>\n",
       "      <td>0</td>\n",
       "      <td>0</td>\n",
       "      <td>0</td>\n",
       "      <td>DSL</td>\n",
       "      <td>1.0</td>\n",
       "      <td>0.0</td>\n",
       "      <td>1.0</td>\n",
       "      <td>0.0</td>\n",
       "      <td>0.0</td>\n",
       "      <td>0.0</td>\n",
       "      <td>0.0</td>\n",
       "    </tr>\n",
       "    <tr>\n",
       "      <th>3668-QPYBK</th>\n",
       "      <td>2019-10-01</td>\n",
       "      <td>2019-12-01</td>\n",
       "      <td>Month-to-month</td>\n",
       "      <td>1.0</td>\n",
       "      <td>Mailed check</td>\n",
       "      <td>53.85</td>\n",
       "      <td>108.15</td>\n",
       "      <td>Male</td>\n",
       "      <td>0</td>\n",
       "      <td>0</td>\n",
       "      <td>0</td>\n",
       "      <td>DSL</td>\n",
       "      <td>1.0</td>\n",
       "      <td>1.0</td>\n",
       "      <td>0.0</td>\n",
       "      <td>0.0</td>\n",
       "      <td>0.0</td>\n",
       "      <td>0.0</td>\n",
       "      <td>0.0</td>\n",
       "    </tr>\n",
       "    <tr>\n",
       "      <th>7795-CFOCW</th>\n",
       "      <td>2016-05-01</td>\n",
       "      <td>NaT</td>\n",
       "      <td>One year</td>\n",
       "      <td>0.0</td>\n",
       "      <td>Bank transfer (automatic)</td>\n",
       "      <td>42.30</td>\n",
       "      <td>1840.75</td>\n",
       "      <td>Male</td>\n",
       "      <td>0</td>\n",
       "      <td>0</td>\n",
       "      <td>0</td>\n",
       "      <td>DSL</td>\n",
       "      <td>1.0</td>\n",
       "      <td>0.0</td>\n",
       "      <td>1.0</td>\n",
       "      <td>1.0</td>\n",
       "      <td>0.0</td>\n",
       "      <td>0.0</td>\n",
       "      <td>NaN</td>\n",
       "    </tr>\n",
       "    <tr>\n",
       "      <th>9237-HQITU</th>\n",
       "      <td>2019-09-01</td>\n",
       "      <td>2019-11-01</td>\n",
       "      <td>Month-to-month</td>\n",
       "      <td>1.0</td>\n",
       "      <td>Electronic check</td>\n",
       "      <td>70.70</td>\n",
       "      <td>151.65</td>\n",
       "      <td>Female</td>\n",
       "      <td>0</td>\n",
       "      <td>0</td>\n",
       "      <td>0</td>\n",
       "      <td>Fiber optic</td>\n",
       "      <td>0.0</td>\n",
       "      <td>0.0</td>\n",
       "      <td>0.0</td>\n",
       "      <td>0.0</td>\n",
       "      <td>0.0</td>\n",
       "      <td>0.0</td>\n",
       "      <td>0.0</td>\n",
       "    </tr>\n",
       "  </tbody>\n",
       "</table>\n",
       "</div>"
      ],
      "text/plain": [
       "            BeginDate    EndDate            Type  PaperlessBilling  \\\n",
       "customerID                                                           \n",
       "7590-VHVEG 2020-01-01        NaT  Month-to-month               1.0   \n",
       "5575-GNVDE 2017-04-01        NaT        One year               0.0   \n",
       "3668-QPYBK 2019-10-01 2019-12-01  Month-to-month               1.0   \n",
       "7795-CFOCW 2016-05-01        NaT        One year               0.0   \n",
       "9237-HQITU 2019-09-01 2019-11-01  Month-to-month               1.0   \n",
       "\n",
       "                        PaymentMethod  MonthlyCharges  TotalCharges  gender  \\\n",
       "customerID                                                                    \n",
       "7590-VHVEG           Electronic check           29.85         29.85  Female   \n",
       "5575-GNVDE               Mailed check           56.95       1889.50    Male   \n",
       "3668-QPYBK               Mailed check           53.85        108.15    Male   \n",
       "7795-CFOCW  Bank transfer (automatic)           42.30       1840.75    Male   \n",
       "9237-HQITU           Electronic check           70.70        151.65  Female   \n",
       "\n",
       "            SeniorCitizen  Partner  Dependents InternetService  \\\n",
       "customerID                                                       \n",
       "7590-VHVEG              0        1           0             DSL   \n",
       "5575-GNVDE              0        0           0             DSL   \n",
       "3668-QPYBK              0        0           0             DSL   \n",
       "7795-CFOCW              0        0           0             DSL   \n",
       "9237-HQITU              0        0           0     Fiber optic   \n",
       "\n",
       "            OnlineSecurity  OnlineBackup  DeviceProtection  TechSupport  \\\n",
       "customerID                                                                \n",
       "7590-VHVEG             0.0           1.0               0.0          0.0   \n",
       "5575-GNVDE             1.0           0.0               1.0          0.0   \n",
       "3668-QPYBK             1.0           1.0               0.0          0.0   \n",
       "7795-CFOCW             1.0           0.0               1.0          1.0   \n",
       "9237-HQITU             0.0           0.0               0.0          0.0   \n",
       "\n",
       "            StreamingTV  StreamingMovies  MultipleLines  \n",
       "customerID                                               \n",
       "7590-VHVEG          0.0              0.0            NaN  \n",
       "5575-GNVDE          0.0              0.0            0.0  \n",
       "3668-QPYBK          0.0              0.0            0.0  \n",
       "7795-CFOCW          0.0              0.0            NaN  \n",
       "9237-HQITU          0.0              0.0            0.0  "
      ]
     },
     "execution_count": 54,
     "metadata": {},
     "output_type": "execute_result"
    }
   ],
   "source": [
    "df.head()"
   ]
  },
  {
   "cell_type": "code",
   "execution_count": 55,
   "metadata": {},
   "outputs": [],
   "source": [
    "data = df.copy() # копия пригодится в 3ей части."
   ]
  },
  {
   "cell_type": "markdown",
   "metadata": {},
   "source": [
    "После объединения появились пропуски по данным в контрактах, где конкретные услуги не фигурировали, в нашем случае это равносильно уже введенной бинарной классификации.\n",
    "\n",
    "Заменим пропуски на нулевые значения и изменим тип данных  на int."
   ]
  },
  {
   "cell_type": "markdown",
   "metadata": {},
   "source": [
    "Немного изменим написанную ранее функцию, чтобы за один проход сразу заполнять пропуски и менять тип данных."
   ]
  },
  {
   "cell_type": "code",
   "execution_count": 56,
   "metadata": {},
   "outputs": [],
   "source": [
    "def fill_and_type(df, list_col):\n",
    "    for i in list_col:\n",
    "        def fill(row):\n",
    "            if row[i] == 1.0: \n",
    "                row[i] = 1\n",
    "            elif row[i] == 0.0:\n",
    "                row[i] = 0\n",
    "            else: row[i] = 0\n",
    "            row[i] = row[i]\n",
    "            return row[i]\n",
    "        df[i] = df.apply(fill, axis=1)\n",
    "    return df\n",
    "\n"
   ]
  },
  {
   "cell_type": "code",
   "execution_count": 57,
   "metadata": {},
   "outputs": [
    {
     "data": {
      "text/plain": [
       "Index(['BeginDate', 'EndDate', 'Type', 'PaperlessBilling', 'PaymentMethod',\n",
       "       'MonthlyCharges', 'TotalCharges', 'gender', 'SeniorCitizen', 'Partner',\n",
       "       'Dependents', 'InternetService', 'OnlineSecurity', 'OnlineBackup',\n",
       "       'DeviceProtection', 'TechSupport', 'StreamingTV', 'StreamingMovies',\n",
       "       'MultipleLines'],\n",
       "      dtype='object')"
      ]
     },
     "execution_count": 57,
     "metadata": {},
     "output_type": "execute_result"
    }
   ],
   "source": [
    "df.columns"
   ]
  },
  {
   "cell_type": "code",
   "execution_count": 58,
   "metadata": {},
   "outputs": [
    {
     "data": {
      "text/html": [
       "<div>\n",
       "<style scoped>\n",
       "    .dataframe tbody tr th:only-of-type {\n",
       "        vertical-align: middle;\n",
       "    }\n",
       "\n",
       "    .dataframe tbody tr th {\n",
       "        vertical-align: top;\n",
       "    }\n",
       "\n",
       "    .dataframe thead th {\n",
       "        text-align: right;\n",
       "    }\n",
       "</style>\n",
       "<table border=\"1\" class=\"dataframe\">\n",
       "  <thead>\n",
       "    <tr style=\"text-align: right;\">\n",
       "      <th></th>\n",
       "      <th>BeginDate</th>\n",
       "      <th>EndDate</th>\n",
       "      <th>Type</th>\n",
       "      <th>PaperlessBilling</th>\n",
       "      <th>PaymentMethod</th>\n",
       "      <th>MonthlyCharges</th>\n",
       "      <th>TotalCharges</th>\n",
       "      <th>gender</th>\n",
       "      <th>SeniorCitizen</th>\n",
       "      <th>Partner</th>\n",
       "      <th>Dependents</th>\n",
       "      <th>InternetService</th>\n",
       "      <th>OnlineSecurity</th>\n",
       "      <th>OnlineBackup</th>\n",
       "      <th>DeviceProtection</th>\n",
       "      <th>TechSupport</th>\n",
       "      <th>StreamingTV</th>\n",
       "      <th>StreamingMovies</th>\n",
       "      <th>MultipleLines</th>\n",
       "    </tr>\n",
       "    <tr>\n",
       "      <th>customerID</th>\n",
       "      <th></th>\n",
       "      <th></th>\n",
       "      <th></th>\n",
       "      <th></th>\n",
       "      <th></th>\n",
       "      <th></th>\n",
       "      <th></th>\n",
       "      <th></th>\n",
       "      <th></th>\n",
       "      <th></th>\n",
       "      <th></th>\n",
       "      <th></th>\n",
       "      <th></th>\n",
       "      <th></th>\n",
       "      <th></th>\n",
       "      <th></th>\n",
       "      <th></th>\n",
       "      <th></th>\n",
       "      <th></th>\n",
       "    </tr>\n",
       "  </thead>\n",
       "  <tbody>\n",
       "    <tr>\n",
       "      <th>7590-VHVEG</th>\n",
       "      <td>2020-01-01</td>\n",
       "      <td>NaT</td>\n",
       "      <td>Month-to-month</td>\n",
       "      <td>1</td>\n",
       "      <td>Electronic check</td>\n",
       "      <td>29.85</td>\n",
       "      <td>29.85</td>\n",
       "      <td>Female</td>\n",
       "      <td>0</td>\n",
       "      <td>1</td>\n",
       "      <td>0</td>\n",
       "      <td>DSL</td>\n",
       "      <td>0</td>\n",
       "      <td>1</td>\n",
       "      <td>0</td>\n",
       "      <td>0</td>\n",
       "      <td>0</td>\n",
       "      <td>0</td>\n",
       "      <td>0</td>\n",
       "    </tr>\n",
       "    <tr>\n",
       "      <th>5575-GNVDE</th>\n",
       "      <td>2017-04-01</td>\n",
       "      <td>NaT</td>\n",
       "      <td>One year</td>\n",
       "      <td>0</td>\n",
       "      <td>Mailed check</td>\n",
       "      <td>56.95</td>\n",
       "      <td>1889.50</td>\n",
       "      <td>Male</td>\n",
       "      <td>0</td>\n",
       "      <td>0</td>\n",
       "      <td>0</td>\n",
       "      <td>DSL</td>\n",
       "      <td>1</td>\n",
       "      <td>0</td>\n",
       "      <td>1</td>\n",
       "      <td>0</td>\n",
       "      <td>0</td>\n",
       "      <td>0</td>\n",
       "      <td>0</td>\n",
       "    </tr>\n",
       "    <tr>\n",
       "      <th>3668-QPYBK</th>\n",
       "      <td>2019-10-01</td>\n",
       "      <td>2019-12-01</td>\n",
       "      <td>Month-to-month</td>\n",
       "      <td>1</td>\n",
       "      <td>Mailed check</td>\n",
       "      <td>53.85</td>\n",
       "      <td>108.15</td>\n",
       "      <td>Male</td>\n",
       "      <td>0</td>\n",
       "      <td>0</td>\n",
       "      <td>0</td>\n",
       "      <td>DSL</td>\n",
       "      <td>1</td>\n",
       "      <td>1</td>\n",
       "      <td>0</td>\n",
       "      <td>0</td>\n",
       "      <td>0</td>\n",
       "      <td>0</td>\n",
       "      <td>0</td>\n",
       "    </tr>\n",
       "    <tr>\n",
       "      <th>7795-CFOCW</th>\n",
       "      <td>2016-05-01</td>\n",
       "      <td>NaT</td>\n",
       "      <td>One year</td>\n",
       "      <td>0</td>\n",
       "      <td>Bank transfer (automatic)</td>\n",
       "      <td>42.30</td>\n",
       "      <td>1840.75</td>\n",
       "      <td>Male</td>\n",
       "      <td>0</td>\n",
       "      <td>0</td>\n",
       "      <td>0</td>\n",
       "      <td>DSL</td>\n",
       "      <td>1</td>\n",
       "      <td>0</td>\n",
       "      <td>1</td>\n",
       "      <td>1</td>\n",
       "      <td>0</td>\n",
       "      <td>0</td>\n",
       "      <td>0</td>\n",
       "    </tr>\n",
       "    <tr>\n",
       "      <th>9237-HQITU</th>\n",
       "      <td>2019-09-01</td>\n",
       "      <td>2019-11-01</td>\n",
       "      <td>Month-to-month</td>\n",
       "      <td>1</td>\n",
       "      <td>Electronic check</td>\n",
       "      <td>70.70</td>\n",
       "      <td>151.65</td>\n",
       "      <td>Female</td>\n",
       "      <td>0</td>\n",
       "      <td>0</td>\n",
       "      <td>0</td>\n",
       "      <td>Fiber optic</td>\n",
       "      <td>0</td>\n",
       "      <td>0</td>\n",
       "      <td>0</td>\n",
       "      <td>0</td>\n",
       "      <td>0</td>\n",
       "      <td>0</td>\n",
       "      <td>0</td>\n",
       "    </tr>\n",
       "    <tr>\n",
       "      <th>...</th>\n",
       "      <td>...</td>\n",
       "      <td>...</td>\n",
       "      <td>...</td>\n",
       "      <td>...</td>\n",
       "      <td>...</td>\n",
       "      <td>...</td>\n",
       "      <td>...</td>\n",
       "      <td>...</td>\n",
       "      <td>...</td>\n",
       "      <td>...</td>\n",
       "      <td>...</td>\n",
       "      <td>...</td>\n",
       "      <td>...</td>\n",
       "      <td>...</td>\n",
       "      <td>...</td>\n",
       "      <td>...</td>\n",
       "      <td>...</td>\n",
       "      <td>...</td>\n",
       "      <td>...</td>\n",
       "    </tr>\n",
       "    <tr>\n",
       "      <th>6840-RESVB</th>\n",
       "      <td>2018-02-01</td>\n",
       "      <td>NaT</td>\n",
       "      <td>One year</td>\n",
       "      <td>1</td>\n",
       "      <td>Mailed check</td>\n",
       "      <td>84.80</td>\n",
       "      <td>1990.50</td>\n",
       "      <td>Male</td>\n",
       "      <td>0</td>\n",
       "      <td>1</td>\n",
       "      <td>1</td>\n",
       "      <td>DSL</td>\n",
       "      <td>1</td>\n",
       "      <td>0</td>\n",
       "      <td>1</td>\n",
       "      <td>1</td>\n",
       "      <td>1</td>\n",
       "      <td>1</td>\n",
       "      <td>1</td>\n",
       "    </tr>\n",
       "    <tr>\n",
       "      <th>2234-XADUH</th>\n",
       "      <td>2014-02-01</td>\n",
       "      <td>NaT</td>\n",
       "      <td>One year</td>\n",
       "      <td>1</td>\n",
       "      <td>Credit card (automatic)</td>\n",
       "      <td>103.20</td>\n",
       "      <td>7362.90</td>\n",
       "      <td>Female</td>\n",
       "      <td>0</td>\n",
       "      <td>1</td>\n",
       "      <td>1</td>\n",
       "      <td>Fiber optic</td>\n",
       "      <td>0</td>\n",
       "      <td>1</td>\n",
       "      <td>1</td>\n",
       "      <td>0</td>\n",
       "      <td>1</td>\n",
       "      <td>1</td>\n",
       "      <td>1</td>\n",
       "    </tr>\n",
       "    <tr>\n",
       "      <th>4801-JZAZL</th>\n",
       "      <td>2019-03-01</td>\n",
       "      <td>NaT</td>\n",
       "      <td>Month-to-month</td>\n",
       "      <td>1</td>\n",
       "      <td>Electronic check</td>\n",
       "      <td>29.60</td>\n",
       "      <td>346.45</td>\n",
       "      <td>Female</td>\n",
       "      <td>0</td>\n",
       "      <td>1</td>\n",
       "      <td>1</td>\n",
       "      <td>DSL</td>\n",
       "      <td>1</td>\n",
       "      <td>0</td>\n",
       "      <td>0</td>\n",
       "      <td>0</td>\n",
       "      <td>0</td>\n",
       "      <td>0</td>\n",
       "      <td>0</td>\n",
       "    </tr>\n",
       "    <tr>\n",
       "      <th>8361-LTMKD</th>\n",
       "      <td>2019-07-01</td>\n",
       "      <td>2019-11-01</td>\n",
       "      <td>Month-to-month</td>\n",
       "      <td>1</td>\n",
       "      <td>Mailed check</td>\n",
       "      <td>74.40</td>\n",
       "      <td>306.60</td>\n",
       "      <td>Male</td>\n",
       "      <td>1</td>\n",
       "      <td>1</td>\n",
       "      <td>0</td>\n",
       "      <td>Fiber optic</td>\n",
       "      <td>0</td>\n",
       "      <td>0</td>\n",
       "      <td>0</td>\n",
       "      <td>0</td>\n",
       "      <td>0</td>\n",
       "      <td>0</td>\n",
       "      <td>1</td>\n",
       "    </tr>\n",
       "    <tr>\n",
       "      <th>3186-AJIEK</th>\n",
       "      <td>2014-08-01</td>\n",
       "      <td>NaT</td>\n",
       "      <td>Two year</td>\n",
       "      <td>1</td>\n",
       "      <td>Bank transfer (automatic)</td>\n",
       "      <td>105.65</td>\n",
       "      <td>6844.50</td>\n",
       "      <td>Male</td>\n",
       "      <td>0</td>\n",
       "      <td>0</td>\n",
       "      <td>0</td>\n",
       "      <td>Fiber optic</td>\n",
       "      <td>1</td>\n",
       "      <td>0</td>\n",
       "      <td>1</td>\n",
       "      <td>1</td>\n",
       "      <td>1</td>\n",
       "      <td>1</td>\n",
       "      <td>0</td>\n",
       "    </tr>\n",
       "  </tbody>\n",
       "</table>\n",
       "<p>7032 rows × 19 columns</p>\n",
       "</div>"
      ],
      "text/plain": [
       "            BeginDate    EndDate            Type  PaperlessBilling  \\\n",
       "customerID                                                           \n",
       "7590-VHVEG 2020-01-01        NaT  Month-to-month                 1   \n",
       "5575-GNVDE 2017-04-01        NaT        One year                 0   \n",
       "3668-QPYBK 2019-10-01 2019-12-01  Month-to-month                 1   \n",
       "7795-CFOCW 2016-05-01        NaT        One year                 0   \n",
       "9237-HQITU 2019-09-01 2019-11-01  Month-to-month                 1   \n",
       "...               ...        ...             ...               ...   \n",
       "6840-RESVB 2018-02-01        NaT        One year                 1   \n",
       "2234-XADUH 2014-02-01        NaT        One year                 1   \n",
       "4801-JZAZL 2019-03-01        NaT  Month-to-month                 1   \n",
       "8361-LTMKD 2019-07-01 2019-11-01  Month-to-month                 1   \n",
       "3186-AJIEK 2014-08-01        NaT        Two year                 1   \n",
       "\n",
       "                        PaymentMethod  MonthlyCharges  TotalCharges  gender  \\\n",
       "customerID                                                                    \n",
       "7590-VHVEG           Electronic check           29.85         29.85  Female   \n",
       "5575-GNVDE               Mailed check           56.95       1889.50    Male   \n",
       "3668-QPYBK               Mailed check           53.85        108.15    Male   \n",
       "7795-CFOCW  Bank transfer (automatic)           42.30       1840.75    Male   \n",
       "9237-HQITU           Electronic check           70.70        151.65  Female   \n",
       "...                               ...             ...           ...     ...   \n",
       "6840-RESVB               Mailed check           84.80       1990.50    Male   \n",
       "2234-XADUH    Credit card (automatic)          103.20       7362.90  Female   \n",
       "4801-JZAZL           Electronic check           29.60        346.45  Female   \n",
       "8361-LTMKD               Mailed check           74.40        306.60    Male   \n",
       "3186-AJIEK  Bank transfer (automatic)          105.65       6844.50    Male   \n",
       "\n",
       "            SeniorCitizen  Partner  Dependents InternetService  \\\n",
       "customerID                                                       \n",
       "7590-VHVEG              0        1           0             DSL   \n",
       "5575-GNVDE              0        0           0             DSL   \n",
       "3668-QPYBK              0        0           0             DSL   \n",
       "7795-CFOCW              0        0           0             DSL   \n",
       "9237-HQITU              0        0           0     Fiber optic   \n",
       "...                   ...      ...         ...             ...   \n",
       "6840-RESVB              0        1           1             DSL   \n",
       "2234-XADUH              0        1           1     Fiber optic   \n",
       "4801-JZAZL              0        1           1             DSL   \n",
       "8361-LTMKD              1        1           0     Fiber optic   \n",
       "3186-AJIEK              0        0           0     Fiber optic   \n",
       "\n",
       "            OnlineSecurity  OnlineBackup  DeviceProtection  TechSupport  \\\n",
       "customerID                                                                \n",
       "7590-VHVEG               0             1                 0            0   \n",
       "5575-GNVDE               1             0                 1            0   \n",
       "3668-QPYBK               1             1                 0            0   \n",
       "7795-CFOCW               1             0                 1            1   \n",
       "9237-HQITU               0             0                 0            0   \n",
       "...                    ...           ...               ...          ...   \n",
       "6840-RESVB               1             0                 1            1   \n",
       "2234-XADUH               0             1                 1            0   \n",
       "4801-JZAZL               1             0                 0            0   \n",
       "8361-LTMKD               0             0                 0            0   \n",
       "3186-AJIEK               1             0                 1            1   \n",
       "\n",
       "            StreamingTV  StreamingMovies  MultipleLines  \n",
       "customerID                                               \n",
       "7590-VHVEG            0                0              0  \n",
       "5575-GNVDE            0                0              0  \n",
       "3668-QPYBK            0                0              0  \n",
       "7795-CFOCW            0                0              0  \n",
       "9237-HQITU            0                0              0  \n",
       "...                 ...              ...            ...  \n",
       "6840-RESVB            1                1              1  \n",
       "2234-XADUH            1                1              1  \n",
       "4801-JZAZL            0                0              0  \n",
       "8361-LTMKD            0                0              1  \n",
       "3186-AJIEK            1                1              0  \n",
       "\n",
       "[7032 rows x 19 columns]"
      ]
     },
     "execution_count": 58,
     "metadata": {},
     "output_type": "execute_result"
    }
   ],
   "source": [
    "fill_and_type(df, df.columns[[3,12,13,14,15,16,17,18]])"
   ]
  },
  {
   "cell_type": "markdown",
   "metadata": {},
   "source": [
    "Посмотрим на сводку по объединенной таблице."
   ]
  },
  {
   "cell_type": "code",
   "execution_count": 59,
   "metadata": {},
   "outputs": [
    {
     "name": "stdout",
     "output_type": "stream",
     "text": [
      "<class 'pandas.core.frame.DataFrame'>\n",
      "Index: 7032 entries, 7590-VHVEG to 3186-AJIEK\n",
      "Data columns (total 19 columns):\n",
      " #   Column            Non-Null Count  Dtype         \n",
      "---  ------            --------------  -----         \n",
      " 0   BeginDate         7032 non-null   datetime64[ns]\n",
      " 1   EndDate           1869 non-null   datetime64[ns]\n",
      " 2   Type              7032 non-null   object        \n",
      " 3   PaperlessBilling  7032 non-null   int64         \n",
      " 4   PaymentMethod     7032 non-null   object        \n",
      " 5   MonthlyCharges    7032 non-null   float64       \n",
      " 6   TotalCharges      7032 non-null   float64       \n",
      " 7   gender            7032 non-null   object        \n",
      " 8   SeniorCitizen     7032 non-null   int64         \n",
      " 9   Partner           7032 non-null   int64         \n",
      " 10  Dependents        7032 non-null   int64         \n",
      " 11  InternetService   5512 non-null   object        \n",
      " 12  OnlineSecurity    7032 non-null   int64         \n",
      " 13  OnlineBackup      7032 non-null   int64         \n",
      " 14  DeviceProtection  7032 non-null   int64         \n",
      " 15  TechSupport       7032 non-null   int64         \n",
      " 16  StreamingTV       7032 non-null   int64         \n",
      " 17  StreamingMovies   7032 non-null   int64         \n",
      " 18  MultipleLines     7032 non-null   int64         \n",
      "dtypes: datetime64[ns](2), float64(2), int64(11), object(4)\n",
      "memory usage: 1.4+ MB\n"
     ]
    }
   ],
   "source": [
    "df.info()"
   ]
  },
  {
   "cell_type": "markdown",
   "metadata": {},
   "source": [
    "Осталось разобраться с пропусками появившимися в столбце `InternetService`, так как там не бинарные, а категориальные признаки. "
   ]
  },
  {
   "cell_type": "code",
   "execution_count": 60,
   "metadata": {},
   "outputs": [
    {
     "data": {
      "text/plain": [
       "Fiber optic    3096\n",
       "DSL            2416\n",
       "NaN            1520\n",
       "Name: InternetService, dtype: int64"
      ]
     },
     "execution_count": 60,
     "metadata": {},
     "output_type": "execute_result"
    }
   ],
   "source": [
    "df.InternetService.value_counts(dropna=False)   "
   ]
  },
  {
   "cell_type": "markdown",
   "metadata": {},
   "source": [
    "Для того, чтобы ряд моделей, не умеющих переваривать NaN'ы об это не споткнулись, заменим их на строку `'No'`"
   ]
  },
  {
   "cell_type": "code",
   "execution_count": 61,
   "metadata": {},
   "outputs": [],
   "source": [
    "df.InternetService.fillna('No', inplace=True)"
   ]
  },
  {
   "cell_type": "code",
   "execution_count": 62,
   "metadata": {},
   "outputs": [
    {
     "data": {
      "text/plain": [
       "Fiber optic    3096\n",
       "DSL            2416\n",
       "No             1520\n",
       "Name: InternetService, dtype: int64"
      ]
     },
     "execution_count": 62,
     "metadata": {},
     "output_type": "execute_result"
    }
   ],
   "source": [
    "df.InternetService.value_counts(dropna=False)   "
   ]
  },
  {
   "cell_type": "markdown",
   "metadata": {},
   "source": [
    "Теперь в данном столбце мы имеем три категориальных признака."
   ]
  },
  {
   "cell_type": "markdown",
   "metadata": {},
   "source": [
    "### Целевой и дополнительный признаки."
   ]
  },
  {
   "cell_type": "markdown",
   "metadata": {},
   "source": [
    "#### Дополнительный признак"
   ]
  },
  {
   "cell_type": "markdown",
   "metadata": {},
   "source": [
    "В качестве дополнительного признака можем агрегировать время жизни клиента используя дату начала контракта и дату окончания. \n",
    "\n",
    "Для действующих клиентов срок жизни будет считаться к текущей дате.\n",
    "\n",
    "В рамках данного набора данных, текущей датой будет 1 февраля 2020 года, так как именно до этой даты были собраны данные."
   ]
  },
  {
   "cell_type": "markdown",
   "metadata": {},
   "source": [
    "Создадим столбец со временем жизни клиентов и посчитаем данный параметр для тех, у кого контракт был завершен.\n"
   ]
  },
  {
   "cell_type": "code",
   "execution_count": 63,
   "metadata": {},
   "outputs": [],
   "source": [
    "df['life_time'] = df.EndDate - df.BeginDate"
   ]
  },
  {
   "cell_type": "markdown",
   "metadata": {},
   "source": [
    "Напишем функцию, которая заменит пропуски по действующим клиентам на значение разницы текущей даты и даты начала контракта."
   ]
  },
  {
   "cell_type": "code",
   "execution_count": 64,
   "metadata": {},
   "outputs": [],
   "source": [
    "def lifetime(df, col):\n",
    "    df[col] = df[col].fillna(pd.Timedelta(0))\n",
    "    def fill(row):\n",
    "        if row[col] == pd.Timedelta(0): \n",
    "            row[col] = dt.datetime.strptime('2020-02-01', '%Y-%m-%d') - row['BeginDate']\n",
    "            # Для работы в реальном времени строчку выше необходимо чуть изменить, подставив значение текущей даты, \n",
    "            # для корректного расчета времени жизни тех клиентов, которые не расторгали договор.\n",
    "        return row[col]\n",
    "    df[col] = df.apply(fill, axis=1)\n",
    "    return df"
   ]
  },
  {
   "cell_type": "code",
   "execution_count": 65,
   "metadata": {},
   "outputs": [
    {
     "data": {
      "text/html": [
       "<div>\n",
       "<style scoped>\n",
       "    .dataframe tbody tr th:only-of-type {\n",
       "        vertical-align: middle;\n",
       "    }\n",
       "\n",
       "    .dataframe tbody tr th {\n",
       "        vertical-align: top;\n",
       "    }\n",
       "\n",
       "    .dataframe thead th {\n",
       "        text-align: right;\n",
       "    }\n",
       "</style>\n",
       "<table border=\"1\" class=\"dataframe\">\n",
       "  <thead>\n",
       "    <tr style=\"text-align: right;\">\n",
       "      <th></th>\n",
       "      <th>BeginDate</th>\n",
       "      <th>EndDate</th>\n",
       "      <th>Type</th>\n",
       "      <th>PaperlessBilling</th>\n",
       "      <th>PaymentMethod</th>\n",
       "      <th>MonthlyCharges</th>\n",
       "      <th>TotalCharges</th>\n",
       "      <th>gender</th>\n",
       "      <th>SeniorCitizen</th>\n",
       "      <th>Partner</th>\n",
       "      <th>Dependents</th>\n",
       "      <th>InternetService</th>\n",
       "      <th>OnlineSecurity</th>\n",
       "      <th>OnlineBackup</th>\n",
       "      <th>DeviceProtection</th>\n",
       "      <th>TechSupport</th>\n",
       "      <th>StreamingTV</th>\n",
       "      <th>StreamingMovies</th>\n",
       "      <th>MultipleLines</th>\n",
       "      <th>life_time</th>\n",
       "    </tr>\n",
       "    <tr>\n",
       "      <th>customerID</th>\n",
       "      <th></th>\n",
       "      <th></th>\n",
       "      <th></th>\n",
       "      <th></th>\n",
       "      <th></th>\n",
       "      <th></th>\n",
       "      <th></th>\n",
       "      <th></th>\n",
       "      <th></th>\n",
       "      <th></th>\n",
       "      <th></th>\n",
       "      <th></th>\n",
       "      <th></th>\n",
       "      <th></th>\n",
       "      <th></th>\n",
       "      <th></th>\n",
       "      <th></th>\n",
       "      <th></th>\n",
       "      <th></th>\n",
       "      <th></th>\n",
       "    </tr>\n",
       "  </thead>\n",
       "  <tbody>\n",
       "    <tr>\n",
       "      <th>7590-VHVEG</th>\n",
       "      <td>2020-01-01</td>\n",
       "      <td>NaT</td>\n",
       "      <td>Month-to-month</td>\n",
       "      <td>1</td>\n",
       "      <td>Electronic check</td>\n",
       "      <td>29.85</td>\n",
       "      <td>29.85</td>\n",
       "      <td>Female</td>\n",
       "      <td>0</td>\n",
       "      <td>1</td>\n",
       "      <td>0</td>\n",
       "      <td>DSL</td>\n",
       "      <td>0</td>\n",
       "      <td>1</td>\n",
       "      <td>0</td>\n",
       "      <td>0</td>\n",
       "      <td>0</td>\n",
       "      <td>0</td>\n",
       "      <td>0</td>\n",
       "      <td>31 days</td>\n",
       "    </tr>\n",
       "    <tr>\n",
       "      <th>5575-GNVDE</th>\n",
       "      <td>2017-04-01</td>\n",
       "      <td>NaT</td>\n",
       "      <td>One year</td>\n",
       "      <td>0</td>\n",
       "      <td>Mailed check</td>\n",
       "      <td>56.95</td>\n",
       "      <td>1889.50</td>\n",
       "      <td>Male</td>\n",
       "      <td>0</td>\n",
       "      <td>0</td>\n",
       "      <td>0</td>\n",
       "      <td>DSL</td>\n",
       "      <td>1</td>\n",
       "      <td>0</td>\n",
       "      <td>1</td>\n",
       "      <td>0</td>\n",
       "      <td>0</td>\n",
       "      <td>0</td>\n",
       "      <td>0</td>\n",
       "      <td>1036 days</td>\n",
       "    </tr>\n",
       "    <tr>\n",
       "      <th>3668-QPYBK</th>\n",
       "      <td>2019-10-01</td>\n",
       "      <td>2019-12-01</td>\n",
       "      <td>Month-to-month</td>\n",
       "      <td>1</td>\n",
       "      <td>Mailed check</td>\n",
       "      <td>53.85</td>\n",
       "      <td>108.15</td>\n",
       "      <td>Male</td>\n",
       "      <td>0</td>\n",
       "      <td>0</td>\n",
       "      <td>0</td>\n",
       "      <td>DSL</td>\n",
       "      <td>1</td>\n",
       "      <td>1</td>\n",
       "      <td>0</td>\n",
       "      <td>0</td>\n",
       "      <td>0</td>\n",
       "      <td>0</td>\n",
       "      <td>0</td>\n",
       "      <td>61 days</td>\n",
       "    </tr>\n",
       "    <tr>\n",
       "      <th>7795-CFOCW</th>\n",
       "      <td>2016-05-01</td>\n",
       "      <td>NaT</td>\n",
       "      <td>One year</td>\n",
       "      <td>0</td>\n",
       "      <td>Bank transfer (automatic)</td>\n",
       "      <td>42.30</td>\n",
       "      <td>1840.75</td>\n",
       "      <td>Male</td>\n",
       "      <td>0</td>\n",
       "      <td>0</td>\n",
       "      <td>0</td>\n",
       "      <td>DSL</td>\n",
       "      <td>1</td>\n",
       "      <td>0</td>\n",
       "      <td>1</td>\n",
       "      <td>1</td>\n",
       "      <td>0</td>\n",
       "      <td>0</td>\n",
       "      <td>0</td>\n",
       "      <td>1371 days</td>\n",
       "    </tr>\n",
       "    <tr>\n",
       "      <th>9237-HQITU</th>\n",
       "      <td>2019-09-01</td>\n",
       "      <td>2019-11-01</td>\n",
       "      <td>Month-to-month</td>\n",
       "      <td>1</td>\n",
       "      <td>Electronic check</td>\n",
       "      <td>70.70</td>\n",
       "      <td>151.65</td>\n",
       "      <td>Female</td>\n",
       "      <td>0</td>\n",
       "      <td>0</td>\n",
       "      <td>0</td>\n",
       "      <td>Fiber optic</td>\n",
       "      <td>0</td>\n",
       "      <td>0</td>\n",
       "      <td>0</td>\n",
       "      <td>0</td>\n",
       "      <td>0</td>\n",
       "      <td>0</td>\n",
       "      <td>0</td>\n",
       "      <td>61 days</td>\n",
       "    </tr>\n",
       "  </tbody>\n",
       "</table>\n",
       "</div>"
      ],
      "text/plain": [
       "            BeginDate    EndDate            Type  PaperlessBilling  \\\n",
       "customerID                                                           \n",
       "7590-VHVEG 2020-01-01        NaT  Month-to-month                 1   \n",
       "5575-GNVDE 2017-04-01        NaT        One year                 0   \n",
       "3668-QPYBK 2019-10-01 2019-12-01  Month-to-month                 1   \n",
       "7795-CFOCW 2016-05-01        NaT        One year                 0   \n",
       "9237-HQITU 2019-09-01 2019-11-01  Month-to-month                 1   \n",
       "\n",
       "                        PaymentMethod  MonthlyCharges  TotalCharges  gender  \\\n",
       "customerID                                                                    \n",
       "7590-VHVEG           Electronic check           29.85         29.85  Female   \n",
       "5575-GNVDE               Mailed check           56.95       1889.50    Male   \n",
       "3668-QPYBK               Mailed check           53.85        108.15    Male   \n",
       "7795-CFOCW  Bank transfer (automatic)           42.30       1840.75    Male   \n",
       "9237-HQITU           Electronic check           70.70        151.65  Female   \n",
       "\n",
       "            SeniorCitizen  Partner  Dependents InternetService  \\\n",
       "customerID                                                       \n",
       "7590-VHVEG              0        1           0             DSL   \n",
       "5575-GNVDE              0        0           0             DSL   \n",
       "3668-QPYBK              0        0           0             DSL   \n",
       "7795-CFOCW              0        0           0             DSL   \n",
       "9237-HQITU              0        0           0     Fiber optic   \n",
       "\n",
       "            OnlineSecurity  OnlineBackup  DeviceProtection  TechSupport  \\\n",
       "customerID                                                                \n",
       "7590-VHVEG               0             1                 0            0   \n",
       "5575-GNVDE               1             0                 1            0   \n",
       "3668-QPYBK               1             1                 0            0   \n",
       "7795-CFOCW               1             0                 1            1   \n",
       "9237-HQITU               0             0                 0            0   \n",
       "\n",
       "            StreamingTV  StreamingMovies  MultipleLines life_time  \n",
       "customerID                                                         \n",
       "7590-VHVEG            0                0              0   31 days  \n",
       "5575-GNVDE            0                0              0 1036 days  \n",
       "3668-QPYBK            0                0              0   61 days  \n",
       "7795-CFOCW            0                0              0 1371 days  \n",
       "9237-HQITU            0                0              0   61 days  "
      ]
     },
     "execution_count": 65,
     "metadata": {},
     "output_type": "execute_result"
    }
   ],
   "source": [
    "lifetime(df, 'life_time')\n",
    "df.head()"
   ]
  },
  {
   "cell_type": "markdown",
   "metadata": {},
   "source": [
    "#### Второй дополнительный признак"
   ]
  },
  {
   "cell_type": "markdown",
   "metadata": {},
   "source": [
    "Создадим дополнительный столбец, в котором отразим общее количество подключенных услуг, тем самым мы получим некий дополнительный критерий активности клиентов."
   ]
  },
  {
   "cell_type": "code",
   "execution_count": 66,
   "metadata": {},
   "outputs": [],
   "source": [
    "df['all_products'] = (\n",
    "    df.OnlineSecurity + \n",
    "    df.OnlineBackup + \n",
    "    df.DeviceProtection + \n",
    "    df.TechSupport + \n",
    "    df.StreamingTV + \n",
    "    df.StreamingMovies + \n",
    "    df.MultipleLines)"
   ]
  },
  {
   "cell_type": "code",
   "execution_count": 67,
   "metadata": {},
   "outputs": [
    {
     "data": {
      "text/html": [
       "<div>\n",
       "<style scoped>\n",
       "    .dataframe tbody tr th:only-of-type {\n",
       "        vertical-align: middle;\n",
       "    }\n",
       "\n",
       "    .dataframe tbody tr th {\n",
       "        vertical-align: top;\n",
       "    }\n",
       "\n",
       "    .dataframe thead th {\n",
       "        text-align: right;\n",
       "    }\n",
       "</style>\n",
       "<table border=\"1\" class=\"dataframe\">\n",
       "  <thead>\n",
       "    <tr style=\"text-align: right;\">\n",
       "      <th></th>\n",
       "      <th>BeginDate</th>\n",
       "      <th>EndDate</th>\n",
       "      <th>Type</th>\n",
       "      <th>PaperlessBilling</th>\n",
       "      <th>PaymentMethod</th>\n",
       "      <th>MonthlyCharges</th>\n",
       "      <th>TotalCharges</th>\n",
       "      <th>gender</th>\n",
       "      <th>SeniorCitizen</th>\n",
       "      <th>Partner</th>\n",
       "      <th>Dependents</th>\n",
       "      <th>InternetService</th>\n",
       "      <th>OnlineSecurity</th>\n",
       "      <th>OnlineBackup</th>\n",
       "      <th>DeviceProtection</th>\n",
       "      <th>TechSupport</th>\n",
       "      <th>StreamingTV</th>\n",
       "      <th>StreamingMovies</th>\n",
       "      <th>MultipleLines</th>\n",
       "      <th>life_time</th>\n",
       "      <th>all_products</th>\n",
       "    </tr>\n",
       "    <tr>\n",
       "      <th>customerID</th>\n",
       "      <th></th>\n",
       "      <th></th>\n",
       "      <th></th>\n",
       "      <th></th>\n",
       "      <th></th>\n",
       "      <th></th>\n",
       "      <th></th>\n",
       "      <th></th>\n",
       "      <th></th>\n",
       "      <th></th>\n",
       "      <th></th>\n",
       "      <th></th>\n",
       "      <th></th>\n",
       "      <th></th>\n",
       "      <th></th>\n",
       "      <th></th>\n",
       "      <th></th>\n",
       "      <th></th>\n",
       "      <th></th>\n",
       "      <th></th>\n",
       "      <th></th>\n",
       "    </tr>\n",
       "  </thead>\n",
       "  <tbody>\n",
       "    <tr>\n",
       "      <th>7590-VHVEG</th>\n",
       "      <td>2020-01-01</td>\n",
       "      <td>NaT</td>\n",
       "      <td>Month-to-month</td>\n",
       "      <td>1</td>\n",
       "      <td>Electronic check</td>\n",
       "      <td>29.85</td>\n",
       "      <td>29.85</td>\n",
       "      <td>Female</td>\n",
       "      <td>0</td>\n",
       "      <td>1</td>\n",
       "      <td>0</td>\n",
       "      <td>DSL</td>\n",
       "      <td>0</td>\n",
       "      <td>1</td>\n",
       "      <td>0</td>\n",
       "      <td>0</td>\n",
       "      <td>0</td>\n",
       "      <td>0</td>\n",
       "      <td>0</td>\n",
       "      <td>31 days</td>\n",
       "      <td>1</td>\n",
       "    </tr>\n",
       "    <tr>\n",
       "      <th>5575-GNVDE</th>\n",
       "      <td>2017-04-01</td>\n",
       "      <td>NaT</td>\n",
       "      <td>One year</td>\n",
       "      <td>0</td>\n",
       "      <td>Mailed check</td>\n",
       "      <td>56.95</td>\n",
       "      <td>1889.50</td>\n",
       "      <td>Male</td>\n",
       "      <td>0</td>\n",
       "      <td>0</td>\n",
       "      <td>0</td>\n",
       "      <td>DSL</td>\n",
       "      <td>1</td>\n",
       "      <td>0</td>\n",
       "      <td>1</td>\n",
       "      <td>0</td>\n",
       "      <td>0</td>\n",
       "      <td>0</td>\n",
       "      <td>0</td>\n",
       "      <td>1036 days</td>\n",
       "      <td>2</td>\n",
       "    </tr>\n",
       "    <tr>\n",
       "      <th>3668-QPYBK</th>\n",
       "      <td>2019-10-01</td>\n",
       "      <td>2019-12-01</td>\n",
       "      <td>Month-to-month</td>\n",
       "      <td>1</td>\n",
       "      <td>Mailed check</td>\n",
       "      <td>53.85</td>\n",
       "      <td>108.15</td>\n",
       "      <td>Male</td>\n",
       "      <td>0</td>\n",
       "      <td>0</td>\n",
       "      <td>0</td>\n",
       "      <td>DSL</td>\n",
       "      <td>1</td>\n",
       "      <td>1</td>\n",
       "      <td>0</td>\n",
       "      <td>0</td>\n",
       "      <td>0</td>\n",
       "      <td>0</td>\n",
       "      <td>0</td>\n",
       "      <td>61 days</td>\n",
       "      <td>2</td>\n",
       "    </tr>\n",
       "    <tr>\n",
       "      <th>7795-CFOCW</th>\n",
       "      <td>2016-05-01</td>\n",
       "      <td>NaT</td>\n",
       "      <td>One year</td>\n",
       "      <td>0</td>\n",
       "      <td>Bank transfer (automatic)</td>\n",
       "      <td>42.30</td>\n",
       "      <td>1840.75</td>\n",
       "      <td>Male</td>\n",
       "      <td>0</td>\n",
       "      <td>0</td>\n",
       "      <td>0</td>\n",
       "      <td>DSL</td>\n",
       "      <td>1</td>\n",
       "      <td>0</td>\n",
       "      <td>1</td>\n",
       "      <td>1</td>\n",
       "      <td>0</td>\n",
       "      <td>0</td>\n",
       "      <td>0</td>\n",
       "      <td>1371 days</td>\n",
       "      <td>3</td>\n",
       "    </tr>\n",
       "    <tr>\n",
       "      <th>9237-HQITU</th>\n",
       "      <td>2019-09-01</td>\n",
       "      <td>2019-11-01</td>\n",
       "      <td>Month-to-month</td>\n",
       "      <td>1</td>\n",
       "      <td>Electronic check</td>\n",
       "      <td>70.70</td>\n",
       "      <td>151.65</td>\n",
       "      <td>Female</td>\n",
       "      <td>0</td>\n",
       "      <td>0</td>\n",
       "      <td>0</td>\n",
       "      <td>Fiber optic</td>\n",
       "      <td>0</td>\n",
       "      <td>0</td>\n",
       "      <td>0</td>\n",
       "      <td>0</td>\n",
       "      <td>0</td>\n",
       "      <td>0</td>\n",
       "      <td>0</td>\n",
       "      <td>61 days</td>\n",
       "      <td>0</td>\n",
       "    </tr>\n",
       "  </tbody>\n",
       "</table>\n",
       "</div>"
      ],
      "text/plain": [
       "            BeginDate    EndDate            Type  PaperlessBilling  \\\n",
       "customerID                                                           \n",
       "7590-VHVEG 2020-01-01        NaT  Month-to-month                 1   \n",
       "5575-GNVDE 2017-04-01        NaT        One year                 0   \n",
       "3668-QPYBK 2019-10-01 2019-12-01  Month-to-month                 1   \n",
       "7795-CFOCW 2016-05-01        NaT        One year                 0   \n",
       "9237-HQITU 2019-09-01 2019-11-01  Month-to-month                 1   \n",
       "\n",
       "                        PaymentMethod  MonthlyCharges  TotalCharges  gender  \\\n",
       "customerID                                                                    \n",
       "7590-VHVEG           Electronic check           29.85         29.85  Female   \n",
       "5575-GNVDE               Mailed check           56.95       1889.50    Male   \n",
       "3668-QPYBK               Mailed check           53.85        108.15    Male   \n",
       "7795-CFOCW  Bank transfer (automatic)           42.30       1840.75    Male   \n",
       "9237-HQITU           Electronic check           70.70        151.65  Female   \n",
       "\n",
       "            SeniorCitizen  Partner  Dependents InternetService  \\\n",
       "customerID                                                       \n",
       "7590-VHVEG              0        1           0             DSL   \n",
       "5575-GNVDE              0        0           0             DSL   \n",
       "3668-QPYBK              0        0           0             DSL   \n",
       "7795-CFOCW              0        0           0             DSL   \n",
       "9237-HQITU              0        0           0     Fiber optic   \n",
       "\n",
       "            OnlineSecurity  OnlineBackup  DeviceProtection  TechSupport  \\\n",
       "customerID                                                                \n",
       "7590-VHVEG               0             1                 0            0   \n",
       "5575-GNVDE               1             0                 1            0   \n",
       "3668-QPYBK               1             1                 0            0   \n",
       "7795-CFOCW               1             0                 1            1   \n",
       "9237-HQITU               0             0                 0            0   \n",
       "\n",
       "            StreamingTV  StreamingMovies  MultipleLines life_time  \\\n",
       "customerID                                                          \n",
       "7590-VHVEG            0                0              0   31 days   \n",
       "5575-GNVDE            0                0              0 1036 days   \n",
       "3668-QPYBK            0                0              0   61 days   \n",
       "7795-CFOCW            0                0              0 1371 days   \n",
       "9237-HQITU            0                0              0   61 days   \n",
       "\n",
       "            all_products  \n",
       "customerID                \n",
       "7590-VHVEG             1  \n",
       "5575-GNVDE             2  \n",
       "3668-QPYBK             2  \n",
       "7795-CFOCW             3  \n",
       "9237-HQITU             0  "
      ]
     },
     "execution_count": 67,
     "metadata": {},
     "output_type": "execute_result"
    }
   ],
   "source": [
    "df.head()"
   ]
  },
  {
   "cell_type": "markdown",
   "metadata": {},
   "source": [
    "#### Целевой признак"
   ]
  },
  {
   "cell_type": "markdown",
   "metadata": {},
   "source": [
    "В качестве целевого признака для прогнозирования оттока клиентов будем использовать факт окончания контракта, если есть дата - клиент потерян, если даты нет - контракт действует, клиент активен."
   ]
  },
  {
   "cell_type": "markdown",
   "metadata": {},
   "source": [
    "Перепишем функцию использованую выше для создания отдельного столбца целевых признаков, где \"1\" - клиент потерян, \"0\" - клиент активен."
   ]
  },
  {
   "cell_type": "code",
   "execution_count": 68,
   "metadata": {},
   "outputs": [],
   "source": [
    "def target_feature(df,  col):\n",
    "    df[col] = df['EndDate'].fillna(pd.Timedelta(0))\n",
    "    def category(row):\n",
    "        if row[col] == pd.Timedelta(0): \n",
    "            row[col] = 0\n",
    "        else: row[col] = 1\n",
    "        return row[col]\n",
    "    df[col] = df.apply(category, axis=1)\n",
    "    return df"
   ]
  },
  {
   "cell_type": "code",
   "execution_count": 69,
   "metadata": {},
   "outputs": [
    {
     "data": {
      "text/html": [
       "<div>\n",
       "<style scoped>\n",
       "    .dataframe tbody tr th:only-of-type {\n",
       "        vertical-align: middle;\n",
       "    }\n",
       "\n",
       "    .dataframe tbody tr th {\n",
       "        vertical-align: top;\n",
       "    }\n",
       "\n",
       "    .dataframe thead th {\n",
       "        text-align: right;\n",
       "    }\n",
       "</style>\n",
       "<table border=\"1\" class=\"dataframe\">\n",
       "  <thead>\n",
       "    <tr style=\"text-align: right;\">\n",
       "      <th></th>\n",
       "      <th>BeginDate</th>\n",
       "      <th>EndDate</th>\n",
       "      <th>Type</th>\n",
       "      <th>PaperlessBilling</th>\n",
       "      <th>PaymentMethod</th>\n",
       "      <th>MonthlyCharges</th>\n",
       "      <th>TotalCharges</th>\n",
       "      <th>gender</th>\n",
       "      <th>SeniorCitizen</th>\n",
       "      <th>Partner</th>\n",
       "      <th>Dependents</th>\n",
       "      <th>InternetService</th>\n",
       "      <th>OnlineSecurity</th>\n",
       "      <th>OnlineBackup</th>\n",
       "      <th>DeviceProtection</th>\n",
       "      <th>TechSupport</th>\n",
       "      <th>StreamingTV</th>\n",
       "      <th>StreamingMovies</th>\n",
       "      <th>MultipleLines</th>\n",
       "      <th>life_time</th>\n",
       "      <th>all_products</th>\n",
       "      <th>target</th>\n",
       "    </tr>\n",
       "    <tr>\n",
       "      <th>customerID</th>\n",
       "      <th></th>\n",
       "      <th></th>\n",
       "      <th></th>\n",
       "      <th></th>\n",
       "      <th></th>\n",
       "      <th></th>\n",
       "      <th></th>\n",
       "      <th></th>\n",
       "      <th></th>\n",
       "      <th></th>\n",
       "      <th></th>\n",
       "      <th></th>\n",
       "      <th></th>\n",
       "      <th></th>\n",
       "      <th></th>\n",
       "      <th></th>\n",
       "      <th></th>\n",
       "      <th></th>\n",
       "      <th></th>\n",
       "      <th></th>\n",
       "      <th></th>\n",
       "      <th></th>\n",
       "    </tr>\n",
       "  </thead>\n",
       "  <tbody>\n",
       "    <tr>\n",
       "      <th>7590-VHVEG</th>\n",
       "      <td>2020-01-01</td>\n",
       "      <td>NaT</td>\n",
       "      <td>Month-to-month</td>\n",
       "      <td>1</td>\n",
       "      <td>Electronic check</td>\n",
       "      <td>29.85</td>\n",
       "      <td>29.85</td>\n",
       "      <td>Female</td>\n",
       "      <td>0</td>\n",
       "      <td>1</td>\n",
       "      <td>0</td>\n",
       "      <td>DSL</td>\n",
       "      <td>0</td>\n",
       "      <td>1</td>\n",
       "      <td>0</td>\n",
       "      <td>0</td>\n",
       "      <td>0</td>\n",
       "      <td>0</td>\n",
       "      <td>0</td>\n",
       "      <td>31 days</td>\n",
       "      <td>1</td>\n",
       "      <td>0</td>\n",
       "    </tr>\n",
       "    <tr>\n",
       "      <th>5575-GNVDE</th>\n",
       "      <td>2017-04-01</td>\n",
       "      <td>NaT</td>\n",
       "      <td>One year</td>\n",
       "      <td>0</td>\n",
       "      <td>Mailed check</td>\n",
       "      <td>56.95</td>\n",
       "      <td>1889.50</td>\n",
       "      <td>Male</td>\n",
       "      <td>0</td>\n",
       "      <td>0</td>\n",
       "      <td>0</td>\n",
       "      <td>DSL</td>\n",
       "      <td>1</td>\n",
       "      <td>0</td>\n",
       "      <td>1</td>\n",
       "      <td>0</td>\n",
       "      <td>0</td>\n",
       "      <td>0</td>\n",
       "      <td>0</td>\n",
       "      <td>1036 days</td>\n",
       "      <td>2</td>\n",
       "      <td>0</td>\n",
       "    </tr>\n",
       "    <tr>\n",
       "      <th>3668-QPYBK</th>\n",
       "      <td>2019-10-01</td>\n",
       "      <td>2019-12-01</td>\n",
       "      <td>Month-to-month</td>\n",
       "      <td>1</td>\n",
       "      <td>Mailed check</td>\n",
       "      <td>53.85</td>\n",
       "      <td>108.15</td>\n",
       "      <td>Male</td>\n",
       "      <td>0</td>\n",
       "      <td>0</td>\n",
       "      <td>0</td>\n",
       "      <td>DSL</td>\n",
       "      <td>1</td>\n",
       "      <td>1</td>\n",
       "      <td>0</td>\n",
       "      <td>0</td>\n",
       "      <td>0</td>\n",
       "      <td>0</td>\n",
       "      <td>0</td>\n",
       "      <td>61 days</td>\n",
       "      <td>2</td>\n",
       "      <td>1</td>\n",
       "    </tr>\n",
       "    <tr>\n",
       "      <th>7795-CFOCW</th>\n",
       "      <td>2016-05-01</td>\n",
       "      <td>NaT</td>\n",
       "      <td>One year</td>\n",
       "      <td>0</td>\n",
       "      <td>Bank transfer (automatic)</td>\n",
       "      <td>42.30</td>\n",
       "      <td>1840.75</td>\n",
       "      <td>Male</td>\n",
       "      <td>0</td>\n",
       "      <td>0</td>\n",
       "      <td>0</td>\n",
       "      <td>DSL</td>\n",
       "      <td>1</td>\n",
       "      <td>0</td>\n",
       "      <td>1</td>\n",
       "      <td>1</td>\n",
       "      <td>0</td>\n",
       "      <td>0</td>\n",
       "      <td>0</td>\n",
       "      <td>1371 days</td>\n",
       "      <td>3</td>\n",
       "      <td>0</td>\n",
       "    </tr>\n",
       "    <tr>\n",
       "      <th>9237-HQITU</th>\n",
       "      <td>2019-09-01</td>\n",
       "      <td>2019-11-01</td>\n",
       "      <td>Month-to-month</td>\n",
       "      <td>1</td>\n",
       "      <td>Electronic check</td>\n",
       "      <td>70.70</td>\n",
       "      <td>151.65</td>\n",
       "      <td>Female</td>\n",
       "      <td>0</td>\n",
       "      <td>0</td>\n",
       "      <td>0</td>\n",
       "      <td>Fiber optic</td>\n",
       "      <td>0</td>\n",
       "      <td>0</td>\n",
       "      <td>0</td>\n",
       "      <td>0</td>\n",
       "      <td>0</td>\n",
       "      <td>0</td>\n",
       "      <td>0</td>\n",
       "      <td>61 days</td>\n",
       "      <td>0</td>\n",
       "      <td>1</td>\n",
       "    </tr>\n",
       "  </tbody>\n",
       "</table>\n",
       "</div>"
      ],
      "text/plain": [
       "            BeginDate    EndDate            Type  PaperlessBilling  \\\n",
       "customerID                                                           \n",
       "7590-VHVEG 2020-01-01        NaT  Month-to-month                 1   \n",
       "5575-GNVDE 2017-04-01        NaT        One year                 0   \n",
       "3668-QPYBK 2019-10-01 2019-12-01  Month-to-month                 1   \n",
       "7795-CFOCW 2016-05-01        NaT        One year                 0   \n",
       "9237-HQITU 2019-09-01 2019-11-01  Month-to-month                 1   \n",
       "\n",
       "                        PaymentMethod  MonthlyCharges  TotalCharges  gender  \\\n",
       "customerID                                                                    \n",
       "7590-VHVEG           Electronic check           29.85         29.85  Female   \n",
       "5575-GNVDE               Mailed check           56.95       1889.50    Male   \n",
       "3668-QPYBK               Mailed check           53.85        108.15    Male   \n",
       "7795-CFOCW  Bank transfer (automatic)           42.30       1840.75    Male   \n",
       "9237-HQITU           Electronic check           70.70        151.65  Female   \n",
       "\n",
       "            SeniorCitizen  Partner  Dependents InternetService  \\\n",
       "customerID                                                       \n",
       "7590-VHVEG              0        1           0             DSL   \n",
       "5575-GNVDE              0        0           0             DSL   \n",
       "3668-QPYBK              0        0           0             DSL   \n",
       "7795-CFOCW              0        0           0             DSL   \n",
       "9237-HQITU              0        0           0     Fiber optic   \n",
       "\n",
       "            OnlineSecurity  OnlineBackup  DeviceProtection  TechSupport  \\\n",
       "customerID                                                                \n",
       "7590-VHVEG               0             1                 0            0   \n",
       "5575-GNVDE               1             0                 1            0   \n",
       "3668-QPYBK               1             1                 0            0   \n",
       "7795-CFOCW               1             0                 1            1   \n",
       "9237-HQITU               0             0                 0            0   \n",
       "\n",
       "            StreamingTV  StreamingMovies  MultipleLines life_time  \\\n",
       "customerID                                                          \n",
       "7590-VHVEG            0                0              0   31 days   \n",
       "5575-GNVDE            0                0              0 1036 days   \n",
       "3668-QPYBK            0                0              0   61 days   \n",
       "7795-CFOCW            0                0              0 1371 days   \n",
       "9237-HQITU            0                0              0   61 days   \n",
       "\n",
       "            all_products  target  \n",
       "customerID                        \n",
       "7590-VHVEG             1       0  \n",
       "5575-GNVDE             2       0  \n",
       "3668-QPYBK             2       1  \n",
       "7795-CFOCW             3       0  \n",
       "9237-HQITU             0       1  "
      ]
     },
     "execution_count": 69,
     "metadata": {},
     "output_type": "execute_result"
    }
   ],
   "source": [
    "target_feature(df, 'target')\n",
    "df.head()"
   ]
  },
  {
   "cell_type": "markdown",
   "metadata": {},
   "source": [
    "### Поиск аномалий"
   ]
  },
  {
   "cell_type": "markdown",
   "metadata": {},
   "source": [
    "Построим диаграммы размаха для численных столбцов: `MonthlyCharges` `TotalCharges` и  `life_time`"
   ]
  },
  {
   "cell_type": "markdown",
   "metadata": {},
   "source": [
    "#### Суммарный платеж от клиента"
   ]
  },
  {
   "cell_type": "code",
   "execution_count": 70,
   "metadata": {},
   "outputs": [
    {
     "data": {
      "text/plain": [
       "<AxesSubplot:>"
      ]
     },
     "execution_count": 70,
     "metadata": {},
     "output_type": "execute_result"
    },
    {
     "data": {
      "image/png": "[encoded data removed]",
      "text/plain": [
       "<Figure size 432x288 with 1 Axes>"
      ]
     },
     "metadata": {
      "needs_background": "light"
     },
     "output_type": "display_data"
    }
   ],
   "source": [
    "df.TotalCharges.plot(kind='box')"
   ]
  },
  {
   "cell_type": "markdown",
   "metadata": {},
   "source": [
    "#### Месячный платеж от клиента"
   ]
  },
  {
   "cell_type": "code",
   "execution_count": 71,
   "metadata": {},
   "outputs": [
    {
     "data": {
      "text/plain": [
       "<AxesSubplot:>"
      ]
     },
     "execution_count": 71,
     "metadata": {},
     "output_type": "execute_result"
    },
    {
     "data": {
      "image/png": "[encoded data removed]",
      "text/plain": [
       "<Figure size 432x288 with 1 Axes>"
      ]
     },
     "metadata": {
      "needs_background": "light"
     },
     "output_type": "display_data"
    }
   ],
   "source": [
    "df.MonthlyCharges.plot(kind='box')"
   ]
  },
  {
   "cell_type": "markdown",
   "metadata": {},
   "source": [
    "#### Время жизни клиента"
   ]
  },
  {
   "cell_type": "code",
   "execution_count": 72,
   "metadata": {},
   "outputs": [
    {
     "data": {
      "text/plain": [
       "<AxesSubplot:>"
      ]
     },
     "execution_count": 72,
     "metadata": {},
     "output_type": "execute_result"
    },
    {
     "data": {
      "image/png": "[encoded data removed]",
      "text/plain": [
       "<Figure size 432x288 with 1 Axes>"
      ]
     },
     "metadata": {
      "needs_background": "light"
     },
     "output_type": "display_data"
    }
   ],
   "source": [
    "pd.to_numeric(df.life_time).plot(kind='box')"
   ]
  },
  {
   "cell_type": "markdown",
   "metadata": {},
   "source": [
    "**По всем трем признакам аномалий не выявлено.**"
   ]
  },
  {
   "cell_type": "markdown",
   "metadata": {},
   "source": [
    "## План разработки моделей"
   ]
  },
  {
   "cell_type": "markdown",
   "metadata": {},
   "source": [
    "1. Произвести кодирование категориальных признаков методом прямого кодирования (One-Hot Encoding);\n",
    "2. Произвести масштабирование численных признаков методом стандартизации данных;\n",
    "3. Проверить сбалансированность классов и учитывать это при обучении модели. Произвести балансировку методом upsampling или downsampling; \n",
    "4. Обучить несколько моделей и сравнить результаты работы;\n",
    "5. Получить значение целевой метрики AUC-ROC ≥ 0.88;\n",
    "6. Получить значение дополнительной метрики Accuracy > 0.8"
   ]
  },
  {
   "cell_type": "markdown",
   "metadata": {},
   "source": [
    "# ЧАСТЬ 2. Создание модели, обучение и прогнозирование."
   ]
  },
  {
   "cell_type": "markdown",
   "metadata": {},
   "source": [
    "## Подготовка признаков: кодирование, масштабирование и балансировка данных."
   ]
  },
  {
   "cell_type": "markdown",
   "metadata": {},
   "source": [
    "### Кодирование признаков"
   ]
  },
  {
   "cell_type": "markdown",
   "metadata": {},
   "source": [
    "Определимся с тем, какие признаки необходимо кодировать."
   ]
  },
  {
   "cell_type": "code",
   "execution_count": 73,
   "metadata": {},
   "outputs": [
    {
     "data": {
      "text/html": [
       "<div>\n",
       "<style scoped>\n",
       "    .dataframe tbody tr th:only-of-type {\n",
       "        vertical-align: middle;\n",
       "    }\n",
       "\n",
       "    .dataframe tbody tr th {\n",
       "        vertical-align: top;\n",
       "    }\n",
       "\n",
       "    .dataframe thead th {\n",
       "        text-align: right;\n",
       "    }\n",
       "</style>\n",
       "<table border=\"1\" class=\"dataframe\">\n",
       "  <thead>\n",
       "    <tr style=\"text-align: right;\">\n",
       "      <th></th>\n",
       "      <th>BeginDate</th>\n",
       "      <th>EndDate</th>\n",
       "      <th>Type</th>\n",
       "      <th>PaperlessBilling</th>\n",
       "      <th>PaymentMethod</th>\n",
       "      <th>MonthlyCharges</th>\n",
       "      <th>TotalCharges</th>\n",
       "      <th>gender</th>\n",
       "      <th>SeniorCitizen</th>\n",
       "      <th>Partner</th>\n",
       "      <th>Dependents</th>\n",
       "      <th>InternetService</th>\n",
       "      <th>OnlineSecurity</th>\n",
       "      <th>OnlineBackup</th>\n",
       "      <th>DeviceProtection</th>\n",
       "      <th>TechSupport</th>\n",
       "      <th>StreamingTV</th>\n",
       "      <th>StreamingMovies</th>\n",
       "      <th>MultipleLines</th>\n",
       "      <th>life_time</th>\n",
       "      <th>all_products</th>\n",
       "      <th>target</th>\n",
       "    </tr>\n",
       "    <tr>\n",
       "      <th>customerID</th>\n",
       "      <th></th>\n",
       "      <th></th>\n",
       "      <th></th>\n",
       "      <th></th>\n",
       "      <th></th>\n",
       "      <th></th>\n",
       "      <th></th>\n",
       "      <th></th>\n",
       "      <th></th>\n",
       "      <th></th>\n",
       "      <th></th>\n",
       "      <th></th>\n",
       "      <th></th>\n",
       "      <th></th>\n",
       "      <th></th>\n",
       "      <th></th>\n",
       "      <th></th>\n",
       "      <th></th>\n",
       "      <th></th>\n",
       "      <th></th>\n",
       "      <th></th>\n",
       "      <th></th>\n",
       "    </tr>\n",
       "  </thead>\n",
       "  <tbody>\n",
       "    <tr>\n",
       "      <th>7590-VHVEG</th>\n",
       "      <td>2020-01-01</td>\n",
       "      <td>NaT</td>\n",
       "      <td>Month-to-month</td>\n",
       "      <td>1</td>\n",
       "      <td>Electronic check</td>\n",
       "      <td>29.85</td>\n",
       "      <td>29.85</td>\n",
       "      <td>Female</td>\n",
       "      <td>0</td>\n",
       "      <td>1</td>\n",
       "      <td>0</td>\n",
       "      <td>DSL</td>\n",
       "      <td>0</td>\n",
       "      <td>1</td>\n",
       "      <td>0</td>\n",
       "      <td>0</td>\n",
       "      <td>0</td>\n",
       "      <td>0</td>\n",
       "      <td>0</td>\n",
       "      <td>31 days</td>\n",
       "      <td>1</td>\n",
       "      <td>0</td>\n",
       "    </tr>\n",
       "    <tr>\n",
       "      <th>5575-GNVDE</th>\n",
       "      <td>2017-04-01</td>\n",
       "      <td>NaT</td>\n",
       "      <td>One year</td>\n",
       "      <td>0</td>\n",
       "      <td>Mailed check</td>\n",
       "      <td>56.95</td>\n",
       "      <td>1889.50</td>\n",
       "      <td>Male</td>\n",
       "      <td>0</td>\n",
       "      <td>0</td>\n",
       "      <td>0</td>\n",
       "      <td>DSL</td>\n",
       "      <td>1</td>\n",
       "      <td>0</td>\n",
       "      <td>1</td>\n",
       "      <td>0</td>\n",
       "      <td>0</td>\n",
       "      <td>0</td>\n",
       "      <td>0</td>\n",
       "      <td>1036 days</td>\n",
       "      <td>2</td>\n",
       "      <td>0</td>\n",
       "    </tr>\n",
       "    <tr>\n",
       "      <th>3668-QPYBK</th>\n",
       "      <td>2019-10-01</td>\n",
       "      <td>2019-12-01</td>\n",
       "      <td>Month-to-month</td>\n",
       "      <td>1</td>\n",
       "      <td>Mailed check</td>\n",
       "      <td>53.85</td>\n",
       "      <td>108.15</td>\n",
       "      <td>Male</td>\n",
       "      <td>0</td>\n",
       "      <td>0</td>\n",
       "      <td>0</td>\n",
       "      <td>DSL</td>\n",
       "      <td>1</td>\n",
       "      <td>1</td>\n",
       "      <td>0</td>\n",
       "      <td>0</td>\n",
       "      <td>0</td>\n",
       "      <td>0</td>\n",
       "      <td>0</td>\n",
       "      <td>61 days</td>\n",
       "      <td>2</td>\n",
       "      <td>1</td>\n",
       "    </tr>\n",
       "  </tbody>\n",
       "</table>\n",
       "</div>"
      ],
      "text/plain": [
       "            BeginDate    EndDate            Type  PaperlessBilling  \\\n",
       "customerID                                                           \n",
       "7590-VHVEG 2020-01-01        NaT  Month-to-month                 1   \n",
       "5575-GNVDE 2017-04-01        NaT        One year                 0   \n",
       "3668-QPYBK 2019-10-01 2019-12-01  Month-to-month                 1   \n",
       "\n",
       "               PaymentMethod  MonthlyCharges  TotalCharges  gender  \\\n",
       "customerID                                                           \n",
       "7590-VHVEG  Electronic check           29.85         29.85  Female   \n",
       "5575-GNVDE      Mailed check           56.95       1889.50    Male   \n",
       "3668-QPYBK      Mailed check           53.85        108.15    Male   \n",
       "\n",
       "            SeniorCitizen  Partner  Dependents InternetService  \\\n",
       "customerID                                                       \n",
       "7590-VHVEG              0        1           0             DSL   \n",
       "5575-GNVDE              0        0           0             DSL   \n",
       "3668-QPYBK              0        0           0             DSL   \n",
       "\n",
       "            OnlineSecurity  OnlineBackup  DeviceProtection  TechSupport  \\\n",
       "customerID                                                                \n",
       "7590-VHVEG               0             1                 0            0   \n",
       "5575-GNVDE               1             0                 1            0   \n",
       "3668-QPYBK               1             1                 0            0   \n",
       "\n",
       "            StreamingTV  StreamingMovies  MultipleLines life_time  \\\n",
       "customerID                                                          \n",
       "7590-VHVEG            0                0              0   31 days   \n",
       "5575-GNVDE            0                0              0 1036 days   \n",
       "3668-QPYBK            0                0              0   61 days   \n",
       "\n",
       "            all_products  target  \n",
       "customerID                        \n",
       "7590-VHVEG             1       0  \n",
       "5575-GNVDE             2       0  \n",
       "3668-QPYBK             2       1  "
      ]
     },
     "execution_count": 73,
     "metadata": {},
     "output_type": "execute_result"
    }
   ],
   "source": [
    "df.head(3)"
   ]
  },
  {
   "cell_type": "markdown",
   "metadata": {},
   "source": [
    "Для начала, уберем лишние столбцы, которые не нужны для модели: `BeginDate` и `EndDate`"
   ]
  },
  {
   "cell_type": "code",
   "execution_count": 74,
   "metadata": {},
   "outputs": [],
   "source": [
    "df = df.drop(['BeginDate','EndDate'] , axis=1)"
   ]
  },
  {
   "cell_type": "code",
   "execution_count": 75,
   "metadata": {},
   "outputs": [
    {
     "data": {
      "text/html": [
       "<div>\n",
       "<style scoped>\n",
       "    .dataframe tbody tr th:only-of-type {\n",
       "        vertical-align: middle;\n",
       "    }\n",
       "\n",
       "    .dataframe tbody tr th {\n",
       "        vertical-align: top;\n",
       "    }\n",
       "\n",
       "    .dataframe thead th {\n",
       "        text-align: right;\n",
       "    }\n",
       "</style>\n",
       "<table border=\"1\" class=\"dataframe\">\n",
       "  <thead>\n",
       "    <tr style=\"text-align: right;\">\n",
       "      <th></th>\n",
       "      <th>Type</th>\n",
       "      <th>PaperlessBilling</th>\n",
       "      <th>PaymentMethod</th>\n",
       "      <th>MonthlyCharges</th>\n",
       "      <th>TotalCharges</th>\n",
       "      <th>gender</th>\n",
       "      <th>SeniorCitizen</th>\n",
       "      <th>Partner</th>\n",
       "      <th>Dependents</th>\n",
       "      <th>InternetService</th>\n",
       "      <th>OnlineSecurity</th>\n",
       "      <th>OnlineBackup</th>\n",
       "      <th>DeviceProtection</th>\n",
       "      <th>TechSupport</th>\n",
       "      <th>StreamingTV</th>\n",
       "      <th>StreamingMovies</th>\n",
       "      <th>MultipleLines</th>\n",
       "      <th>life_time</th>\n",
       "      <th>all_products</th>\n",
       "      <th>target</th>\n",
       "    </tr>\n",
       "    <tr>\n",
       "      <th>customerID</th>\n",
       "      <th></th>\n",
       "      <th></th>\n",
       "      <th></th>\n",
       "      <th></th>\n",
       "      <th></th>\n",
       "      <th></th>\n",
       "      <th></th>\n",
       "      <th></th>\n",
       "      <th></th>\n",
       "      <th></th>\n",
       "      <th></th>\n",
       "      <th></th>\n",
       "      <th></th>\n",
       "      <th></th>\n",
       "      <th></th>\n",
       "      <th></th>\n",
       "      <th></th>\n",
       "      <th></th>\n",
       "      <th></th>\n",
       "      <th></th>\n",
       "    </tr>\n",
       "  </thead>\n",
       "  <tbody>\n",
       "    <tr>\n",
       "      <th>7590-VHVEG</th>\n",
       "      <td>Month-to-month</td>\n",
       "      <td>1</td>\n",
       "      <td>Electronic check</td>\n",
       "      <td>29.85</td>\n",
       "      <td>29.85</td>\n",
       "      <td>Female</td>\n",
       "      <td>0</td>\n",
       "      <td>1</td>\n",
       "      <td>0</td>\n",
       "      <td>DSL</td>\n",
       "      <td>0</td>\n",
       "      <td>1</td>\n",
       "      <td>0</td>\n",
       "      <td>0</td>\n",
       "      <td>0</td>\n",
       "      <td>0</td>\n",
       "      <td>0</td>\n",
       "      <td>31 days</td>\n",
       "      <td>1</td>\n",
       "      <td>0</td>\n",
       "    </tr>\n",
       "    <tr>\n",
       "      <th>5575-GNVDE</th>\n",
       "      <td>One year</td>\n",
       "      <td>0</td>\n",
       "      <td>Mailed check</td>\n",
       "      <td>56.95</td>\n",
       "      <td>1889.50</td>\n",
       "      <td>Male</td>\n",
       "      <td>0</td>\n",
       "      <td>0</td>\n",
       "      <td>0</td>\n",
       "      <td>DSL</td>\n",
       "      <td>1</td>\n",
       "      <td>0</td>\n",
       "      <td>1</td>\n",
       "      <td>0</td>\n",
       "      <td>0</td>\n",
       "      <td>0</td>\n",
       "      <td>0</td>\n",
       "      <td>1036 days</td>\n",
       "      <td>2</td>\n",
       "      <td>0</td>\n",
       "    </tr>\n",
       "    <tr>\n",
       "      <th>3668-QPYBK</th>\n",
       "      <td>Month-to-month</td>\n",
       "      <td>1</td>\n",
       "      <td>Mailed check</td>\n",
       "      <td>53.85</td>\n",
       "      <td>108.15</td>\n",
       "      <td>Male</td>\n",
       "      <td>0</td>\n",
       "      <td>0</td>\n",
       "      <td>0</td>\n",
       "      <td>DSL</td>\n",
       "      <td>1</td>\n",
       "      <td>1</td>\n",
       "      <td>0</td>\n",
       "      <td>0</td>\n",
       "      <td>0</td>\n",
       "      <td>0</td>\n",
       "      <td>0</td>\n",
       "      <td>61 days</td>\n",
       "      <td>2</td>\n",
       "      <td>1</td>\n",
       "    </tr>\n",
       "  </tbody>\n",
       "</table>\n",
       "</div>"
      ],
      "text/plain": [
       "                      Type  PaperlessBilling     PaymentMethod  \\\n",
       "customerID                                                       \n",
       "7590-VHVEG  Month-to-month                 1  Electronic check   \n",
       "5575-GNVDE        One year                 0      Mailed check   \n",
       "3668-QPYBK  Month-to-month                 1      Mailed check   \n",
       "\n",
       "            MonthlyCharges  TotalCharges  gender  SeniorCitizen  Partner  \\\n",
       "customerID                                                                 \n",
       "7590-VHVEG           29.85         29.85  Female              0        1   \n",
       "5575-GNVDE           56.95       1889.50    Male              0        0   \n",
       "3668-QPYBK           53.85        108.15    Male              0        0   \n",
       "\n",
       "            Dependents InternetService  OnlineSecurity  OnlineBackup  \\\n",
       "customerID                                                             \n",
       "7590-VHVEG           0             DSL               0             1   \n",
       "5575-GNVDE           0             DSL               1             0   \n",
       "3668-QPYBK           0             DSL               1             1   \n",
       "\n",
       "            DeviceProtection  TechSupport  StreamingTV  StreamingMovies  \\\n",
       "customerID                                                                \n",
       "7590-VHVEG                 0            0            0                0   \n",
       "5575-GNVDE                 1            0            0                0   \n",
       "3668-QPYBK                 0            0            0                0   \n",
       "\n",
       "            MultipleLines life_time  all_products  target  \n",
       "customerID                                                 \n",
       "7590-VHVEG              0   31 days             1       0  \n",
       "5575-GNVDE              0 1036 days             2       0  \n",
       "3668-QPYBK              0   61 days             2       1  "
      ]
     },
     "execution_count": 75,
     "metadata": {},
     "output_type": "execute_result"
    }
   ],
   "source": [
    "df.head(3)"
   ]
  },
  {
   "cell_type": "markdown",
   "metadata": {},
   "source": [
    " Передадим функции кодирования необходимые категориальные столбцы: ``Type``, ``PaymentMethod``, ``gender``, ``InternetService``"
   ]
  },
  {
   "cell_type": "code",
   "execution_count": 76,
   "metadata": {},
   "outputs": [],
   "source": [
    "df = pd.get_dummies(df, drop_first=True)"
   ]
  },
  {
   "cell_type": "code",
   "execution_count": 77,
   "metadata": {
    "scrolled": true
   },
   "outputs": [
    {
     "data": {
      "text/html": [
       "<div>\n",
       "<style scoped>\n",
       "    .dataframe tbody tr th:only-of-type {\n",
       "        vertical-align: middle;\n",
       "    }\n",
       "\n",
       "    .dataframe tbody tr th {\n",
       "        vertical-align: top;\n",
       "    }\n",
       "\n",
       "    .dataframe thead th {\n",
       "        text-align: right;\n",
       "    }\n",
       "</style>\n",
       "<table border=\"1\" class=\"dataframe\">\n",
       "  <thead>\n",
       "    <tr style=\"text-align: right;\">\n",
       "      <th></th>\n",
       "      <th>PaperlessBilling</th>\n",
       "      <th>MonthlyCharges</th>\n",
       "      <th>TotalCharges</th>\n",
       "      <th>SeniorCitizen</th>\n",
       "      <th>Partner</th>\n",
       "      <th>Dependents</th>\n",
       "      <th>OnlineSecurity</th>\n",
       "      <th>OnlineBackup</th>\n",
       "      <th>DeviceProtection</th>\n",
       "      <th>TechSupport</th>\n",
       "      <th>StreamingTV</th>\n",
       "      <th>StreamingMovies</th>\n",
       "      <th>MultipleLines</th>\n",
       "      <th>life_time</th>\n",
       "      <th>all_products</th>\n",
       "      <th>target</th>\n",
       "      <th>Type_One year</th>\n",
       "      <th>Type_Two year</th>\n",
       "      <th>PaymentMethod_Credit card (automatic)</th>\n",
       "      <th>PaymentMethod_Electronic check</th>\n",
       "      <th>PaymentMethod_Mailed check</th>\n",
       "      <th>gender_Male</th>\n",
       "      <th>InternetService_Fiber optic</th>\n",
       "      <th>InternetService_No</th>\n",
       "    </tr>\n",
       "    <tr>\n",
       "      <th>customerID</th>\n",
       "      <th></th>\n",
       "      <th></th>\n",
       "      <th></th>\n",
       "      <th></th>\n",
       "      <th></th>\n",
       "      <th></th>\n",
       "      <th></th>\n",
       "      <th></th>\n",
       "      <th></th>\n",
       "      <th></th>\n",
       "      <th></th>\n",
       "      <th></th>\n",
       "      <th></th>\n",
       "      <th></th>\n",
       "      <th></th>\n",
       "      <th></th>\n",
       "      <th></th>\n",
       "      <th></th>\n",
       "      <th></th>\n",
       "      <th></th>\n",
       "      <th></th>\n",
       "      <th></th>\n",
       "      <th></th>\n",
       "      <th></th>\n",
       "    </tr>\n",
       "  </thead>\n",
       "  <tbody>\n",
       "    <tr>\n",
       "      <th>7590-VHVEG</th>\n",
       "      <td>1</td>\n",
       "      <td>29.85</td>\n",
       "      <td>29.85</td>\n",
       "      <td>0</td>\n",
       "      <td>1</td>\n",
       "      <td>0</td>\n",
       "      <td>0</td>\n",
       "      <td>1</td>\n",
       "      <td>0</td>\n",
       "      <td>0</td>\n",
       "      <td>0</td>\n",
       "      <td>0</td>\n",
       "      <td>0</td>\n",
       "      <td>31 days</td>\n",
       "      <td>1</td>\n",
       "      <td>0</td>\n",
       "      <td>0</td>\n",
       "      <td>0</td>\n",
       "      <td>0</td>\n",
       "      <td>1</td>\n",
       "      <td>0</td>\n",
       "      <td>0</td>\n",
       "      <td>0</td>\n",
       "      <td>0</td>\n",
       "    </tr>\n",
       "    <tr>\n",
       "      <th>5575-GNVDE</th>\n",
       "      <td>0</td>\n",
       "      <td>56.95</td>\n",
       "      <td>1889.50</td>\n",
       "      <td>0</td>\n",
       "      <td>0</td>\n",
       "      <td>0</td>\n",
       "      <td>1</td>\n",
       "      <td>0</td>\n",
       "      <td>1</td>\n",
       "      <td>0</td>\n",
       "      <td>0</td>\n",
       "      <td>0</td>\n",
       "      <td>0</td>\n",
       "      <td>1036 days</td>\n",
       "      <td>2</td>\n",
       "      <td>0</td>\n",
       "      <td>1</td>\n",
       "      <td>0</td>\n",
       "      <td>0</td>\n",
       "      <td>0</td>\n",
       "      <td>1</td>\n",
       "      <td>1</td>\n",
       "      <td>0</td>\n",
       "      <td>0</td>\n",
       "    </tr>\n",
       "    <tr>\n",
       "      <th>3668-QPYBK</th>\n",
       "      <td>1</td>\n",
       "      <td>53.85</td>\n",
       "      <td>108.15</td>\n",
       "      <td>0</td>\n",
       "      <td>0</td>\n",
       "      <td>0</td>\n",
       "      <td>1</td>\n",
       "      <td>1</td>\n",
       "      <td>0</td>\n",
       "      <td>0</td>\n",
       "      <td>0</td>\n",
       "      <td>0</td>\n",
       "      <td>0</td>\n",
       "      <td>61 days</td>\n",
       "      <td>2</td>\n",
       "      <td>1</td>\n",
       "      <td>0</td>\n",
       "      <td>0</td>\n",
       "      <td>0</td>\n",
       "      <td>0</td>\n",
       "      <td>1</td>\n",
       "      <td>1</td>\n",
       "      <td>0</td>\n",
       "      <td>0</td>\n",
       "    </tr>\n",
       "  </tbody>\n",
       "</table>\n",
       "</div>"
      ],
      "text/plain": [
       "            PaperlessBilling  MonthlyCharges  TotalCharges  SeniorCitizen  \\\n",
       "customerID                                                                  \n",
       "7590-VHVEG                 1           29.85         29.85              0   \n",
       "5575-GNVDE                 0           56.95       1889.50              0   \n",
       "3668-QPYBK                 1           53.85        108.15              0   \n",
       "\n",
       "            Partner  Dependents  OnlineSecurity  OnlineBackup  \\\n",
       "customerID                                                      \n",
       "7590-VHVEG        1           0               0             1   \n",
       "5575-GNVDE        0           0               1             0   \n",
       "3668-QPYBK        0           0               1             1   \n",
       "\n",
       "            DeviceProtection  TechSupport  StreamingTV  StreamingMovies  \\\n",
       "customerID                                                                \n",
       "7590-VHVEG                 0            0            0                0   \n",
       "5575-GNVDE                 1            0            0                0   \n",
       "3668-QPYBK                 0            0            0                0   \n",
       "\n",
       "            MultipleLines life_time  all_products  target  Type_One year  \\\n",
       "customerID                                                                 \n",
       "7590-VHVEG              0   31 days             1       0              0   \n",
       "5575-GNVDE              0 1036 days             2       0              1   \n",
       "3668-QPYBK              0   61 days             2       1              0   \n",
       "\n",
       "            Type_Two year  PaymentMethod_Credit card (automatic)  \\\n",
       "customerID                                                         \n",
       "7590-VHVEG              0                                      0   \n",
       "5575-GNVDE              0                                      0   \n",
       "3668-QPYBK              0                                      0   \n",
       "\n",
       "            PaymentMethod_Electronic check  PaymentMethod_Mailed check  \\\n",
       "customerID                                                               \n",
       "7590-VHVEG                               1                           0   \n",
       "5575-GNVDE                               0                           1   \n",
       "3668-QPYBK                               0                           1   \n",
       "\n",
       "            gender_Male  InternetService_Fiber optic  InternetService_No  \n",
       "customerID                                                                \n",
       "7590-VHVEG            0                            0                   0  \n",
       "5575-GNVDE            1                            0                   0  \n",
       "3668-QPYBK            1                            0                   0  "
      ]
     },
     "execution_count": 77,
     "metadata": {},
     "output_type": "execute_result"
    }
   ],
   "source": [
    "df.head(3)"
   ]
  },
  {
   "cell_type": "markdown",
   "metadata": {},
   "source": [
    "Кодирование произведено корректно."
   ]
  },
  {
   "cell_type": "markdown",
   "metadata": {},
   "source": [
    "### Масштабирование количественных признаков"
   ]
  },
  {
   "cell_type": "markdown",
   "metadata": {},
   "source": [
    "<!-- <font color='red'> включали в процесс валидационную выборку -->"
   ]
  },
  {
   "cell_type": "markdown",
   "metadata": {},
   "source": [
    "Произведем масштабирование количественных признаком методом стандартизации данных."
   ]
  },
  {
   "cell_type": "markdown",
   "metadata": {},
   "source": [
    "Предварительно разделим данные на тренировочную, валидационную и тестовую выборки. А также, приведем значение столбца ``life_time`` к числовому формату."
   ]
  },
  {
   "cell_type": "code",
   "execution_count": 78,
   "metadata": {},
   "outputs": [],
   "source": [
    "df['life_time'] = pd.to_numeric(arg = df['life_time'], errors='coerce')"
   ]
  },
  {
   "cell_type": "code",
   "execution_count": 79,
   "metadata": {},
   "outputs": [
    {
     "name": "stdout",
     "output_type": "stream",
     "text": [
      "(4219, 23) (4219,)\n",
      "(1406, 23) (1406,)\n",
      "(1407, 23) (1407,)\n"
     ]
    }
   ],
   "source": [
    "target = df['target']\n",
    "features = df.drop('target', axis=1)\n",
    "\n",
    "features_train, features_valid_test, target_train, target_valid_test = train_test_split(\n",
    "    features, target, test_size=0.4, random_state=12345)\n",
    "\n",
    "features_valid, features_test, target_valid, target_test = train_test_split(\n",
    "    features_valid_test, target_valid_test, test_size=0.5, random_state=12345)\n",
    "\n",
    "print(features_train.shape, target_train.shape)\n",
    "print(features_valid.shape, target_valid.shape)\n",
    "print(features_test.shape, target_test.shape)"
   ]
  },
  {
   "cell_type": "code",
   "execution_count": 80,
   "metadata": {},
   "outputs": [],
   "source": [
    "numeric = ['MonthlyCharges', 'TotalCharges', 'life_time', 'all_products']"
   ]
  },
  {
   "cell_type": "code",
   "execution_count": 81,
   "metadata": {},
   "outputs": [],
   "source": [
    "scaler = StandardScaler()\n",
    "scaler.fit(features_train[numeric])\n",
    "features_train[numeric] = scaler.transform(features_train[numeric])\n",
    "\n",
    "features_valid[numeric] = scaler.transform(features_valid[numeric])\n",
    "\n",
    "features_test[numeric] = scaler.transform(features_test[numeric])"
   ]
  },
  {
   "cell_type": "markdown",
   "metadata": {},
   "source": [
    "### Проверка на мультиколлиниарность"
   ]
  },
  {
   "cell_type": "markdown",
   "metadata": {},
   "source": [
    "Сформируем датафрейм с корреляционными показателями каждого признака к каждому."
   ]
  },
  {
   "cell_type": "code",
   "execution_count": 82,
   "metadata": {
    "scrolled": true
   },
   "outputs": [],
   "source": [
    "df_corr = features_train.corr()"
   ]
  },
  {
   "cell_type": "code",
   "execution_count": 83,
   "metadata": {},
   "outputs": [
    {
     "data": {
      "text/html": [
       "<div>\n",
       "<style scoped>\n",
       "    .dataframe tbody tr th:only-of-type {\n",
       "        vertical-align: middle;\n",
       "    }\n",
       "\n",
       "    .dataframe tbody tr th {\n",
       "        vertical-align: top;\n",
       "    }\n",
       "\n",
       "    .dataframe thead th {\n",
       "        text-align: right;\n",
       "    }\n",
       "</style>\n",
       "<table border=\"1\" class=\"dataframe\">\n",
       "  <thead>\n",
       "    <tr style=\"text-align: right;\">\n",
       "      <th></th>\n",
       "      <th>PaperlessBilling</th>\n",
       "      <th>MonthlyCharges</th>\n",
       "      <th>TotalCharges</th>\n",
       "      <th>SeniorCitizen</th>\n",
       "      <th>Partner</th>\n",
       "      <th>Dependents</th>\n",
       "      <th>OnlineSecurity</th>\n",
       "      <th>OnlineBackup</th>\n",
       "      <th>DeviceProtection</th>\n",
       "      <th>TechSupport</th>\n",
       "      <th>StreamingTV</th>\n",
       "      <th>StreamingMovies</th>\n",
       "      <th>MultipleLines</th>\n",
       "      <th>life_time</th>\n",
       "      <th>all_products</th>\n",
       "      <th>Type_One year</th>\n",
       "      <th>Type_Two year</th>\n",
       "      <th>PaymentMethod_Credit card (automatic)</th>\n",
       "      <th>PaymentMethod_Electronic check</th>\n",
       "      <th>PaymentMethod_Mailed check</th>\n",
       "      <th>gender_Male</th>\n",
       "      <th>InternetService_Fiber optic</th>\n",
       "      <th>InternetService_No</th>\n",
       "    </tr>\n",
       "  </thead>\n",
       "  <tbody>\n",
       "    <tr>\n",
       "      <th>PaperlessBilling</th>\n",
       "      <td>1.000000</td>\n",
       "      <td>0.357911</td>\n",
       "      <td>0.164737</td>\n",
       "      <td>0.167465</td>\n",
       "      <td>-0.010532</td>\n",
       "      <td>-0.113333</td>\n",
       "      <td>-0.002991</td>\n",
       "      <td>0.137143</td>\n",
       "      <td>0.117630</td>\n",
       "      <td>0.036080</td>\n",
       "      <td>0.230428</td>\n",
       "      <td>0.214068</td>\n",
       "      <td>0.174757</td>\n",
       "      <td>0.009623</td>\n",
       "      <td>0.213871</td>\n",
       "      <td>-0.056616</td>\n",
       "      <td>-0.133821</td>\n",
       "      <td>-0.005533</td>\n",
       "      <td>0.196758</td>\n",
       "      <td>-0.210467</td>\n",
       "      <td>-0.028208</td>\n",
       "      <td>0.330008</td>\n",
       "      <td>-0.319776</td>\n",
       "    </tr>\n",
       "    <tr>\n",
       "      <th>MonthlyCharges</th>\n",
       "      <td>0.357911</td>\n",
       "      <td>1.000000</td>\n",
       "      <td>0.653888</td>\n",
       "      <td>0.219714</td>\n",
       "      <td>0.083735</td>\n",
       "      <td>-0.137474</td>\n",
       "      <td>0.292012</td>\n",
       "      <td>0.443080</td>\n",
       "      <td>0.489149</td>\n",
       "      <td>0.333858</td>\n",
       "      <td>0.634840</td>\n",
       "      <td>0.624495</td>\n",
       "      <td>0.500403</td>\n",
       "      <td>0.249006</td>\n",
       "      <td>0.773033</td>\n",
       "      <td>0.018112</td>\n",
       "      <td>-0.084271</td>\n",
       "      <td>0.025577</td>\n",
       "      <td>0.275222</td>\n",
       "      <td>-0.382734</td>\n",
       "      <td>-0.017550</td>\n",
       "      <td>0.789223</td>\n",
       "      <td>-0.756067</td>\n",
       "    </tr>\n",
       "    <tr>\n",
       "      <th>TotalCharges</th>\n",
       "      <td>0.164737</td>\n",
       "      <td>0.653888</td>\n",
       "      <td>1.000000</td>\n",
       "      <td>0.109690</td>\n",
       "      <td>0.312574</td>\n",
       "      <td>0.045293</td>\n",
       "      <td>0.407528</td>\n",
       "      <td>0.507776</td>\n",
       "      <td>0.539362</td>\n",
       "      <td>0.438808</td>\n",
       "      <td>0.520484</td>\n",
       "      <td>0.520240</td>\n",
       "      <td>0.470598</td>\n",
       "      <td>0.825889</td>\n",
       "      <td>0.789185</td>\n",
       "      <td>0.183599</td>\n",
       "      <td>0.342755</td>\n",
       "      <td>0.177956</td>\n",
       "      <td>-0.054885</td>\n",
       "      <td>-0.293087</td>\n",
       "      <td>-0.011187</td>\n",
       "      <td>0.365124</td>\n",
       "      <td>-0.372956</td>\n",
       "    </tr>\n",
       "    <tr>\n",
       "      <th>SeniorCitizen</th>\n",
       "      <td>0.167465</td>\n",
       "      <td>0.219714</td>\n",
       "      <td>0.109690</td>\n",
       "      <td>1.000000</td>\n",
       "      <td>0.018069</td>\n",
       "      <td>-0.215407</td>\n",
       "      <td>-0.026372</td>\n",
       "      <td>0.079699</td>\n",
       "      <td>0.066842</td>\n",
       "      <td>-0.056240</td>\n",
       "      <td>0.111898</td>\n",
       "      <td>0.124082</td>\n",
       "      <td>0.145375</td>\n",
       "      <td>0.024270</td>\n",
       "      <td>0.106745</td>\n",
       "      <td>-0.042893</td>\n",
       "      <td>-0.110051</td>\n",
       "      <td>-0.040997</td>\n",
       "      <td>0.181781</td>\n",
       "      <td>-0.154051</td>\n",
       "      <td>0.012746</td>\n",
       "      <td>0.249029</td>\n",
       "      <td>-0.183538</td>\n",
       "    </tr>\n",
       "    <tr>\n",
       "      <th>Partner</th>\n",
       "      <td>-0.010532</td>\n",
       "      <td>0.083735</td>\n",
       "      <td>0.312574</td>\n",
       "      <td>0.018069</td>\n",
       "      <td>1.000000</td>\n",
       "      <td>0.462441</td>\n",
       "      <td>0.137956</td>\n",
       "      <td>0.133963</td>\n",
       "      <td>0.155257</td>\n",
       "      <td>0.108605</td>\n",
       "      <td>0.115184</td>\n",
       "      <td>0.117144</td>\n",
       "      <td>0.127311</td>\n",
       "      <td>0.386142</td>\n",
       "      <td>0.207047</td>\n",
       "      <td>0.074737</td>\n",
       "      <td>0.262329</td>\n",
       "      <td>0.084897</td>\n",
       "      <td>-0.072607</td>\n",
       "      <td>-0.101830</td>\n",
       "      <td>-0.011851</td>\n",
       "      <td>-0.008521</td>\n",
       "      <td>0.018004</td>\n",
       "    </tr>\n",
       "  </tbody>\n",
       "</table>\n",
       "</div>"
      ],
      "text/plain": [
       "                  PaperlessBilling  MonthlyCharges  TotalCharges  \\\n",
       "PaperlessBilling          1.000000        0.357911      0.164737   \n",
       "MonthlyCharges            0.357911        1.000000      0.653888   \n",
       "TotalCharges              0.164737        0.653888      1.000000   \n",
       "SeniorCitizen             0.167465        0.219714      0.109690   \n",
       "Partner                  -0.010532        0.083735      0.312574   \n",
       "\n",
       "                  SeniorCitizen   Partner  Dependents  OnlineSecurity  \\\n",
       "PaperlessBilling       0.167465 -0.010532   -0.113333       -0.002991   \n",
       "MonthlyCharges         0.219714  0.083735   -0.137474        0.292012   \n",
       "TotalCharges           0.109690  0.312574    0.045293        0.407528   \n",
       "SeniorCitizen          1.000000  0.018069   -0.215407       -0.026372   \n",
       "Partner                0.018069  1.000000    0.462441        0.137956   \n",
       "\n",
       "                  OnlineBackup  DeviceProtection  TechSupport  StreamingTV  \\\n",
       "PaperlessBilling      0.137143          0.117630     0.036080     0.230428   \n",
       "MonthlyCharges        0.443080          0.489149     0.333858     0.634840   \n",
       "TotalCharges          0.507776          0.539362     0.438808     0.520484   \n",
       "SeniorCitizen         0.079699          0.066842    -0.056240     0.111898   \n",
       "Partner               0.133963          0.155257     0.108605     0.115184   \n",
       "\n",
       "                  StreamingMovies  MultipleLines  life_time  all_products  \\\n",
       "PaperlessBilling         0.214068       0.174757   0.009623      0.213871   \n",
       "MonthlyCharges           0.624495       0.500403   0.249006      0.773033   \n",
       "TotalCharges             0.520240       0.470598   0.825889      0.789185   \n",
       "SeniorCitizen            0.124082       0.145375   0.024270      0.106745   \n",
       "Partner                  0.117144       0.127311   0.386142      0.207047   \n",
       "\n",
       "                  Type_One year  Type_Two year  \\\n",
       "PaperlessBilling      -0.056616      -0.133821   \n",
       "MonthlyCharges         0.018112      -0.084271   \n",
       "TotalCharges           0.183599       0.342755   \n",
       "SeniorCitizen         -0.042893      -0.110051   \n",
       "Partner                0.074737       0.262329   \n",
       "\n",
       "                  PaymentMethod_Credit card (automatic)  \\\n",
       "PaperlessBilling                              -0.005533   \n",
       "MonthlyCharges                                 0.025577   \n",
       "TotalCharges                                   0.177956   \n",
       "SeniorCitizen                                 -0.040997   \n",
       "Partner                                        0.084897   \n",
       "\n",
       "                  PaymentMethod_Electronic check  PaymentMethod_Mailed check  \\\n",
       "PaperlessBilling                        0.196758                   -0.210467   \n",
       "MonthlyCharges                          0.275222                   -0.382734   \n",
       "TotalCharges                           -0.054885                   -0.293087   \n",
       "SeniorCitizen                           0.181781                   -0.154051   \n",
       "Partner                                -0.072607                   -0.101830   \n",
       "\n",
       "                  gender_Male  InternetService_Fiber optic  InternetService_No  \n",
       "PaperlessBilling    -0.028208                     0.330008           -0.319776  \n",
       "MonthlyCharges      -0.017550                     0.789223           -0.756067  \n",
       "TotalCharges        -0.011187                     0.365124           -0.372956  \n",
       "SeniorCitizen        0.012746                     0.249029           -0.183538  \n",
       "Partner             -0.011851                    -0.008521            0.018004  "
      ]
     },
     "execution_count": 83,
     "metadata": {},
     "output_type": "execute_result"
    }
   ],
   "source": [
    "df_corr.head()"
   ]
  },
  {
   "cell_type": "markdown",
   "metadata": {},
   "source": [
    "Так как признаком много, вручную искать может быть затратно и возрастает риск ошибки.\n",
    "Попробуем через сортировку по величине отыскать показатель корреляции выше `0.8`."
   ]
  },
  {
   "cell_type": "code",
   "execution_count": 84,
   "metadata": {},
   "outputs": [
    {
     "name": "stdout",
     "output_type": "stream",
     "text": [
      "\n",
      "TotalCharges    1.000000\n",
      "life_time       0.825889\n",
      "all_products    0.789185\n",
      "Name: TotalCharges, dtype: float64\n",
      "\n",
      "life_time        1.000000\n",
      "TotalCharges     0.825889\n",
      "Type_Two year    0.554903\n",
      "Name: life_time, dtype: float64\n"
     ]
    }
   ],
   "source": [
    "for i in df_corr.columns :\n",
    "    if abs(df_corr[i]).sort_values(ascending=False)[1] > 0.8 :\n",
    "        print()\n",
    "        print(abs(df_corr[i]).sort_values(ascending=False).head(3))"
   ]
  },
  {
   "cell_type": "markdown",
   "metadata": {},
   "source": [
    "**Обнаружена высокая корреляция признака время жизни клиента и суммарного платежа. Логика появления такой зависимости понятна, чем дольше клиент остается действующим, тем больше в нарастающем итоге он приносит денег.\n",
    "Так как абсолютная величина нарастающего итога менее информативна, чем срок жизни, считаю разумным отказаться от критерия суммарного платежа.**"
   ]
  },
  {
   "cell_type": "code",
   "execution_count": 85,
   "metadata": {},
   "outputs": [
    {
     "name": "stdout",
     "output_type": "stream",
     "text": [
      "(4219, 22)\n",
      "(1406, 22)\n",
      "(1407, 22)\n"
     ]
    }
   ],
   "source": [
    "features_train.drop('TotalCharges', axis=1, inplace=True)\n",
    "features_valid.drop('TotalCharges', axis=1, inplace=True)\n",
    "features_test.drop('TotalCharges', axis=1, inplace=True)\n",
    "print(features_train.shape)\n",
    "print(features_valid.shape)\n",
    "print(features_test.shape)"
   ]
  },
  {
   "cell_type": "markdown",
   "metadata": {},
   "source": [
    "### Балансировка данных"
   ]
  },
  {
   "cell_type": "markdown",
   "metadata": {},
   "source": [
    "Посмотрим насколько сбалансированные классы в обучающей выборке ."
   ]
  },
  {
   "cell_type": "code",
   "execution_count": 86,
   "metadata": {},
   "outputs": [
    {
     "data": {
      "text/plain": [
       "0    3097\n",
       "1    1122\n",
       "Name: target, dtype: int64"
      ]
     },
     "execution_count": 86,
     "metadata": {},
     "output_type": "execute_result"
    }
   ],
   "source": [
    "target_train.value_counts(dropna=False)"
   ]
  },
  {
   "cell_type": "code",
   "execution_count": 87,
   "metadata": {},
   "outputs": [
    {
     "data": {
      "text/plain": [
       "2.7602495543672014"
      ]
     },
     "execution_count": 87,
     "metadata": {},
     "output_type": "execute_result"
    }
   ],
   "source": [
    "3097/1122"
   ]
  },
  {
   "cell_type": "markdown",
   "metadata": {},
   "source": [
    "Присутствует явный дисбаланс классов. Необходимо будет произвести балансировку методом `upsampling`.\n",
    "\n",
    "Применяем именно этот метод для того, чтобы сильно не сокращать выборку (как в случае применения ``downsampling``)"
   ]
  },
  {
   "cell_type": "markdown",
   "metadata": {},
   "source": [
    "<!-- <font color='red'> не затрагивали валидационную выборку -->"
   ]
  },
  {
   "cell_type": "code",
   "execution_count": 88,
   "metadata": {},
   "outputs": [],
   "source": [
    "def upsample(features, target, repeat):\n",
    "    features_zeros = features[target == 0]\n",
    "    features_ones = features[target == 1]\n",
    "    target_zeros = target[target == 0]\n",
    "    target_ones = target[target == 1]\n",
    "\n",
    "    features_upsampled = pd.concat([features_zeros] + [features_ones] * repeat)\n",
    "    target_upsampled = pd.concat([target_zeros] + [target_ones] * repeat)\n",
    "    \n",
    "    features_upsampled, target_upsampled = shuffle(\n",
    "        features_upsampled, target_upsampled, random_state=12345)\n",
    "    \n",
    "    return features_upsampled, target_upsampled\n",
    "\n",
    "features_train, target_train = upsample(features_train, target_train, 3)\n"
   ]
  },
  {
   "cell_type": "code",
   "execution_count": 89,
   "metadata": {},
   "outputs": [
    {
     "data": {
      "text/plain": [
       "1    3366\n",
       "0    3097\n",
       "Name: target, dtype: int64"
      ]
     },
     "execution_count": 89,
     "metadata": {},
     "output_type": "execute_result"
    }
   ],
   "source": [
    "target_train.value_counts(dropna=False)"
   ]
  },
  {
   "cell_type": "markdown",
   "metadata": {},
   "source": [
    "Балансировка проведена успешно."
   ]
  },
  {
   "cell_type": "markdown",
   "metadata": {},
   "source": [
    "## Обучение моделей"
   ]
  },
  {
   "cell_type": "markdown",
   "metadata": {},
   "source": [
    "### Модель случайного леса"
   ]
  },
  {
   "cell_type": "markdown",
   "metadata": {},
   "source": [
    "Так как в данном случае планируется использовать RandomSearchCV со встроенной кросс-валидацией, объединим тренировочную и валидационную выборки."
   ]
  },
  {
   "cell_type": "code",
   "execution_count": 90,
   "metadata": {},
   "outputs": [],
   "source": [
    "features_train_valid = pd.concat([features_train] + [features_valid])\n",
    "target_train_valid = pd.concat([target_train] + [target_valid])"
   ]
  },
  {
   "cell_type": "code",
   "execution_count": 91,
   "metadata": {},
   "outputs": [],
   "source": [
    "model_forest = RandomForestClassifier(n_jobs=-1, random_state=12345)"
   ]
  },
  {
   "cell_type": "code",
   "execution_count": 92,
   "metadata": {},
   "outputs": [
    {
     "data": {
      "text/plain": [
       "\"\\nparams_forest = {'n_estimators': [1000],#[10, 50, 100, 200, 500, 1000],\\n         'max_depth' : [175]#[5, 10, 50, 100, 150, 175, None]\\n         }\\n\""
      ]
     },
     "execution_count": 92,
     "metadata": {},
     "output_type": "execute_result"
    }
   ],
   "source": [
    "'''\n",
    "params_forest = {'n_estimators': [1000],#[10, 50, 100, 200, 500, 1000],\n",
    "         'max_depth' : [175]#[5, 10, 50, 100, 150, 175, None]\n",
    "         }\n",
    "'''"
   ]
  },
  {
   "cell_type": "code",
   "execution_count": 93,
   "metadata": {},
   "outputs": [],
   "source": [
    "params_forest = {'n_estimators': [10, 50, 100, 200, 500, 1000],\n",
    "         'max_depth' : [5, 10, 50, 100, 150, 175, None]\n",
    "         }"
   ]
  },
  {
   "cell_type": "code",
   "execution_count": 94,
   "metadata": {},
   "outputs": [
    {
     "name": "stdout",
     "output_type": "stream",
     "text": [
      "Fitting 5 folds for each of 10 candidates, totalling 50 fits\n"
     ]
    },
    {
     "name": "stderr",
     "output_type": "stream",
     "text": [
      "[Parallel(n_jobs=-1)]: Using backend LokyBackend with 12 concurrent workers.\n",
      "[Parallel(n_jobs=-1)]: Done  17 tasks      | elapsed:    8.5s\n",
      "[Parallel(n_jobs=-1)]: Done  50 out of  50 | elapsed:   10.9s finished\n"
     ]
    },
    {
     "data": {
      "text/plain": [
       "RandomizedSearchCV(cv=5,\n",
       "                   estimator=RandomForestClassifier(n_jobs=-1,\n",
       "                                                    random_state=12345),\n",
       "                   n_jobs=-1,\n",
       "                   param_distributions={'max_depth': [5, 10, 50, 100, 150, 175,\n",
       "                                                      None],\n",
       "                                        'n_estimators': [10, 50, 100, 200, 500,\n",
       "                                                         1000]},\n",
       "                   random_state=12345, scoring='roc_auc', verbose=2)"
      ]
     },
     "execution_count": 94,
     "metadata": {},
     "output_type": "execute_result"
    }
   ],
   "source": [
    "clf_forest = RandomizedSearchCV(\n",
    "    model_forest, params_forest, n_jobs=-1, scoring='roc_auc', cv=5, refit=True, verbose=2, random_state=12345)\n",
    "\n",
    "clf_forest.fit(features_train_valid, target_train_valid)"
   ]
  },
  {
   "cell_type": "code",
   "execution_count": 95,
   "metadata": {},
   "outputs": [
    {
     "data": {
      "text/plain": [
       "{'n_estimators': 1000, 'max_depth': 175}"
      ]
     },
     "execution_count": 95,
     "metadata": {},
     "output_type": "execute_result"
    }
   ],
   "source": [
    "clf_forest.best_params_"
   ]
  },
  {
   "cell_type": "code",
   "execution_count": 96,
   "metadata": {},
   "outputs": [],
   "source": [
    "probabilities_test_forest = clf_forest.predict_proba(features_test)\n",
    "probabilities_one_test_forest = probabilities_test_forest[:, 1]\n",
    "\n",
    "auc_roc_forest = roc_auc_score(target_test, probabilities_one_test_forest)"
   ]
  },
  {
   "cell_type": "code",
   "execution_count": 97,
   "metadata": {},
   "outputs": [
    {
     "name": "stdout",
     "output_type": "stream",
     "text": [
      "Значение целевой метрики для модели Случайного Леса: 0.823586029177746\n"
     ]
    }
   ],
   "source": [
    "print('Значение целевой метрики для модели Случайного Леса:', auc_roc_forest)"
   ]
  },
  {
   "cell_type": "code",
   "execution_count": 98,
   "metadata": {},
   "outputs": [],
   "source": [
    "startTime = time.time()\n",
    "predict_forest = clf_forest.predict(features_test)\n",
    "endTime = time.time()\n",
    "totalTimePred_forest = endTime - startTime"
   ]
  },
  {
   "cell_type": "code",
   "execution_count": 99,
   "metadata": {},
   "outputs": [],
   "source": [
    "accuracy_test_forest = accuracy_score(target_test, predict_forest)"
   ]
  },
  {
   "cell_type": "code",
   "execution_count": 100,
   "metadata": {},
   "outputs": [
    {
     "name": "stdout",
     "output_type": "stream",
     "text": [
      "Значение дополнительной метрики для модели Случайного Леса: 0.7860696517412935\n"
     ]
    }
   ],
   "source": [
    "print('Значение дополнительной метрики для модели Случайного Леса:', accuracy_test_forest)"
   ]
  },
  {
   "cell_type": "markdown",
   "metadata": {},
   "source": [
    "#### График важности признаков для модели\n"
   ]
  },
  {
   "cell_type": "code",
   "execution_count": 101,
   "metadata": {},
   "outputs": [],
   "source": [
    "model_forest = RandomForestClassifier(n_jobs=-1, random_state=12345, n_estimators=1000, max_depth=175)"
   ]
  },
  {
   "cell_type": "markdown",
   "metadata": {},
   "source": [
    "Напишем функцию для вывода графика."
   ]
  },
  {
   "cell_type": "code",
   "execution_count": 102,
   "metadata": {},
   "outputs": [],
   "source": [
    "def draw_feature_importance(model):\n",
    "    model.fit(features_train_valid, target_train_valid)\n",
    "    importances = model.feature_importances_\n",
    "    feature_names = features_train_valid.columns\n",
    "    model_importances = pd.Series(importances, index=feature_names)\n",
    "    model_importances.nlargest(23).plot(kind='barh', figsize=(16,9))"
   ]
  },
  {
   "cell_type": "code",
   "execution_count": 103,
   "metadata": {},
   "outputs": [
    {
     "data": {
      "image/png": "[encoded data removed]",
      "text/plain": [
       "<Figure size 1152x648 with 1 Axes>"
      ]
     },
     "metadata": {
      "needs_background": "light"
     },
     "output_type": "display_data"
    }
   ],
   "source": [
    "draw_feature_importance(model_forest)"
   ]
  },
  {
   "cell_type": "markdown",
   "metadata": {},
   "source": [
    "**По важности признаков распределения первых трёх для данной модели:**\n",
    "- `life_time` - время жизни клиента;\n",
    "- `MonthlyCharges` - величина месячного платежа;\n",
    "- `Type_Two year` - двухгодичный формат контрактов."
   ]
  },
  {
   "cell_type": "markdown",
   "metadata": {},
   "source": [
    "### Модель CatBoost"
   ]
  },
  {
   "cell_type": "code",
   "execution_count": 104,
   "metadata": {},
   "outputs": [],
   "source": [
    "model_cat = CatBoostClassifier(loss_function=\"Logloss\", iterations=10) "
   ]
  },
  {
   "cell_type": "code",
   "execution_count": 105,
   "metadata": {},
   "outputs": [
    {
     "data": {
      "text/plain": [
       "\"\\nparams_cat = {'iterations':[1250],# [10, 50, 100, 200, 500, 1000, 1250],\\n         'learning_rate' : [0.1]#[0.0001, 0.001, 0.01, 0.1, 1]\\n         }\\n\""
      ]
     },
     "execution_count": 105,
     "metadata": {},
     "output_type": "execute_result"
    }
   ],
   "source": [
    "'''\n",
    "params_cat = {'iterations':[1250],# [10, 50, 100, 200, 500, 1000, 1250],\n",
    "         'learning_rate' : [0.1]#[0.0001, 0.001, 0.01, 0.1, 1]\n",
    "         }\n",
    "'''"
   ]
  },
  {
   "cell_type": "code",
   "execution_count": 106,
   "metadata": {},
   "outputs": [],
   "source": [
    "params_cat = {'iterations': [10, 50, 100, 200, 500, 1000, 1250],\n",
    "         'learning_rate' : [0.0001, 0.001, 0.01, 0.1, 1]\n",
    "         }"
   ]
  },
  {
   "cell_type": "code",
   "execution_count": 107,
   "metadata": {
    "scrolled": true
   },
   "outputs": [
    {
     "name": "stdout",
     "output_type": "stream",
     "text": [
      "0:\tlearn: 0.6444809\ttotal: 187ms\tremaining: 3m 53s\n",
      "1:\tlearn: 0.6097741\ttotal: 199ms\tremaining: 2m 4s\n",
      "2:\tlearn: 0.5825626\ttotal: 214ms\tremaining: 1m 28s\n",
      "3:\tlearn: 0.5619683\ttotal: 228ms\tremaining: 1m 11s\n",
      "4:\tlearn: 0.5448939\ttotal: 249ms\tremaining: 1m 1s\n",
      "5:\tlearn: 0.5327187\ttotal: 255ms\tremaining: 52.9s\n",
      "6:\tlearn: 0.5203944\ttotal: 261ms\tremaining: 46.4s\n",
      "7:\tlearn: 0.5078321\ttotal: 279ms\tremaining: 43.3s\n",
      "8:\tlearn: 0.5012062\ttotal: 293ms\tremaining: 40.4s\n",
      "9:\tlearn: 0.4943467\ttotal: 299ms\tremaining: 37.1s\n",
      "10:\tlearn: 0.4858931\ttotal: 308ms\tremaining: 34.7s\n",
      "11:\tlearn: 0.4793919\ttotal: 314ms\tremaining: 32.4s\n",
      "12:\tlearn: 0.4735086\ttotal: 321ms\tremaining: 30.5s\n",
      "13:\tlearn: 0.4683560\ttotal: 327ms\tremaining: 28.8s\n",
      "14:\tlearn: 0.4651344\ttotal: 333ms\tremaining: 27.4s\n",
      "15:\tlearn: 0.4619958\ttotal: 339ms\tremaining: 26.2s\n",
      "16:\tlearn: 0.4597218\ttotal: 360ms\tremaining: 26.1s\n",
      "17:\tlearn: 0.4567122\ttotal: 376ms\tremaining: 25.7s\n",
      "18:\tlearn: 0.4544642\ttotal: 383ms\tremaining: 24.8s\n",
      "19:\tlearn: 0.4516329\ttotal: 389ms\tremaining: 23.9s\n",
      "20:\tlearn: 0.4490935\ttotal: 394ms\tremaining: 23s\n",
      "21:\tlearn: 0.4469947\ttotal: 400ms\tremaining: 22.3s\n",
      "22:\tlearn: 0.4451857\ttotal: 407ms\tremaining: 21.7s\n",
      "23:\tlearn: 0.4416940\ttotal: 433ms\tremaining: 22.1s\n",
      "24:\tlearn: 0.4396223\ttotal: 455ms\tremaining: 22.3s\n",
      "25:\tlearn: 0.4377858\ttotal: 470ms\tremaining: 22.1s\n",
      "26:\tlearn: 0.4357402\ttotal: 485ms\tremaining: 22s\n",
      "27:\tlearn: 0.4316209\ttotal: 491ms\tremaining: 21.4s\n",
      "28:\tlearn: 0.4299104\ttotal: 497ms\tremaining: 20.9s\n",
      "29:\tlearn: 0.4285568\ttotal: 503ms\tremaining: 20.4s\n",
      "30:\tlearn: 0.4270290\ttotal: 508ms\tremaining: 20s\n",
      "31:\tlearn: 0.4246592\ttotal: 514ms\tremaining: 19.6s\n",
      "32:\tlearn: 0.4229653\ttotal: 520ms\tremaining: 19.2s\n",
      "33:\tlearn: 0.4212812\ttotal: 526ms\tremaining: 18.8s\n",
      "34:\tlearn: 0.4196573\ttotal: 532ms\tremaining: 18.5s\n",
      "35:\tlearn: 0.4182935\ttotal: 543ms\tremaining: 18.3s\n",
      "36:\tlearn: 0.4169601\ttotal: 558ms\tremaining: 18.3s\n",
      "37:\tlearn: 0.4157626\ttotal: 574ms\tremaining: 18.3s\n",
      "38:\tlearn: 0.4143039\ttotal: 582ms\tremaining: 18.1s\n",
      "39:\tlearn: 0.4127754\ttotal: 605ms\tremaining: 18.3s\n",
      "40:\tlearn: 0.4116068\ttotal: 612ms\tremaining: 18s\n",
      "41:\tlearn: 0.4105709\ttotal: 619ms\tremaining: 17.8s\n",
      "42:\tlearn: 0.4092045\ttotal: 625ms\tremaining: 17.5s\n",
      "43:\tlearn: 0.4070268\ttotal: 635ms\tremaining: 17.4s\n",
      "44:\tlearn: 0.4056554\ttotal: 641ms\tremaining: 17.2s\n",
      "45:\tlearn: 0.4041260\ttotal: 647ms\tremaining: 16.9s\n",
      "46:\tlearn: 0.4035080\ttotal: 653ms\tremaining: 16.7s\n",
      "47:\tlearn: 0.4021678\ttotal: 665ms\tremaining: 16.6s\n",
      "48:\tlearn: 0.4011634\ttotal: 681ms\tremaining: 16.7s\n",
      "49:\tlearn: 0.4000899\ttotal: 696ms\tremaining: 16.7s\n",
      "50:\tlearn: 0.3989846\ttotal: 702ms\tremaining: 16.5s\n",
      "51:\tlearn: 0.3972938\ttotal: 709ms\tremaining: 16.3s\n",
      "52:\tlearn: 0.3962646\ttotal: 715ms\tremaining: 16.1s\n",
      "53:\tlearn: 0.3949307\ttotal: 720ms\tremaining: 15.9s\n",
      "54:\tlearn: 0.3943071\ttotal: 726ms\tremaining: 15.8s\n",
      "55:\tlearn: 0.3935042\ttotal: 732ms\tremaining: 15.6s\n",
      "56:\tlearn: 0.3927717\ttotal: 738ms\tremaining: 15.4s\n",
      "57:\tlearn: 0.3918941\ttotal: 743ms\tremaining: 15.3s\n",
      "58:\tlearn: 0.3905008\ttotal: 749ms\tremaining: 15.1s\n",
      "59:\tlearn: 0.3896406\ttotal: 772ms\tremaining: 15.3s\n",
      "60:\tlearn: 0.3890250\ttotal: 786ms\tremaining: 15.3s\n",
      "61:\tlearn: 0.3873627\ttotal: 802ms\tremaining: 15.4s\n",
      "62:\tlearn: 0.3848741\ttotal: 807ms\tremaining: 15.2s\n",
      "63:\tlearn: 0.3841290\ttotal: 815ms\tremaining: 15.1s\n",
      "64:\tlearn: 0.3831853\ttotal: 822ms\tremaining: 15s\n",
      "65:\tlearn: 0.3820993\ttotal: 828ms\tremaining: 14.9s\n",
      "66:\tlearn: 0.3813005\ttotal: 845ms\tremaining: 14.9s\n",
      "67:\tlearn: 0.3803089\ttotal: 860ms\tremaining: 14.9s\n",
      "68:\tlearn: 0.3796553\ttotal: 866ms\tremaining: 14.8s\n",
      "69:\tlearn: 0.3785187\ttotal: 874ms\tremaining: 14.7s\n",
      "70:\tlearn: 0.3778436\ttotal: 880ms\tremaining: 14.6s\n",
      "71:\tlearn: 0.3773351\ttotal: 888ms\tremaining: 14.5s\n",
      "72:\tlearn: 0.3762656\ttotal: 894ms\tremaining: 14.4s\n",
      "73:\tlearn: 0.3734398\ttotal: 900ms\tremaining: 14.3s\n",
      "74:\tlearn: 0.3729164\ttotal: 917ms\tremaining: 14.4s\n",
      "75:\tlearn: 0.3718766\ttotal: 924ms\tremaining: 14.3s\n",
      "76:\tlearn: 0.3709941\ttotal: 930ms\tremaining: 14.2s\n",
      "77:\tlearn: 0.3697624\ttotal: 936ms\tremaining: 14.1s\n",
      "78:\tlearn: 0.3687259\ttotal: 942ms\tremaining: 14s\n",
      "79:\tlearn: 0.3678307\ttotal: 948ms\tremaining: 13.9s\n",
      "80:\tlearn: 0.3662704\ttotal: 962ms\tremaining: 13.9s\n",
      "81:\tlearn: 0.3645775\ttotal: 967ms\tremaining: 13.8s\n",
      "82:\tlearn: 0.3636023\ttotal: 974ms\tremaining: 13.7s\n",
      "83:\tlearn: 0.3623588\ttotal: 980ms\tremaining: 13.6s\n",
      "84:\tlearn: 0.3614524\ttotal: 986ms\tremaining: 13.5s\n",
      "85:\tlearn: 0.3604551\ttotal: 992ms\tremaining: 13.4s\n",
      "86:\tlearn: 0.3599447\ttotal: 997ms\tremaining: 13.3s\n",
      "87:\tlearn: 0.3589458\ttotal: 1s\tremaining: 13.3s\n",
      "88:\tlearn: 0.3581066\ttotal: 1.01s\tremaining: 13.2s\n",
      "89:\tlearn: 0.3564364\ttotal: 1.01s\tremaining: 13.1s\n",
      "90:\tlearn: 0.3556243\ttotal: 1.02s\tremaining: 13s\n",
      "91:\tlearn: 0.3529213\ttotal: 1.03s\tremaining: 12.9s\n",
      "92:\tlearn: 0.3520382\ttotal: 1.03s\tremaining: 12.8s\n",
      "93:\tlearn: 0.3505765\ttotal: 1.04s\tremaining: 12.8s\n",
      "94:\tlearn: 0.3497937\ttotal: 1.04s\tremaining: 12.7s\n",
      "95:\tlearn: 0.3485853\ttotal: 1.05s\tremaining: 12.6s\n",
      "96:\tlearn: 0.3468624\ttotal: 1.06s\tremaining: 12.6s\n",
      "97:\tlearn: 0.3457671\ttotal: 1.06s\tremaining: 12.5s\n",
      "98:\tlearn: 0.3446120\ttotal: 1.07s\tremaining: 12.4s\n",
      "99:\tlearn: 0.3425222\ttotal: 1.07s\tremaining: 12.4s\n",
      "100:\tlearn: 0.3410473\ttotal: 1.08s\tremaining: 12.3s\n",
      "101:\tlearn: 0.3400639\ttotal: 1.09s\tremaining: 12.2s\n",
      "102:\tlearn: 0.3391219\ttotal: 1.09s\tremaining: 12.2s\n",
      "103:\tlearn: 0.3379631\ttotal: 1.1s\tremaining: 12.1s\n",
      "104:\tlearn: 0.3374342\ttotal: 1.1s\tremaining: 12s\n",
      "105:\tlearn: 0.3367660\ttotal: 1.12s\tremaining: 12.1s\n",
      "106:\tlearn: 0.3357964\ttotal: 1.14s\tremaining: 12.1s\n",
      "107:\tlearn: 0.3349506\ttotal: 1.14s\tremaining: 12.1s\n",
      "108:\tlearn: 0.3339793\ttotal: 1.15s\tremaining: 12.1s\n",
      "109:\tlearn: 0.3333765\ttotal: 1.16s\tremaining: 12s\n",
      "110:\tlearn: 0.3329194\ttotal: 1.17s\tremaining: 12s\n",
      "111:\tlearn: 0.3320618\ttotal: 1.18s\tremaining: 11.9s\n",
      "112:\tlearn: 0.3312442\ttotal: 1.18s\tremaining: 11.9s\n",
      "113:\tlearn: 0.3306796\ttotal: 1.19s\tremaining: 11.8s\n",
      "114:\tlearn: 0.3300787\ttotal: 1.19s\tremaining: 11.8s\n",
      "115:\tlearn: 0.3297234\ttotal: 1.2s\tremaining: 11.7s\n",
      "116:\tlearn: 0.3283018\ttotal: 1.21s\tremaining: 11.7s\n",
      "117:\tlearn: 0.3270567\ttotal: 1.22s\tremaining: 11.7s\n",
      "118:\tlearn: 0.3263996\ttotal: 1.22s\tremaining: 11.6s\n",
      "119:\tlearn: 0.3245326\ttotal: 1.24s\tremaining: 11.7s\n",
      "120:\tlearn: 0.3235834\ttotal: 1.25s\tremaining: 11.6s\n",
      "121:\tlearn: 0.3229361\ttotal: 1.25s\tremaining: 11.6s\n",
      "122:\tlearn: 0.3224978\ttotal: 1.26s\tremaining: 11.6s\n",
      "123:\tlearn: 0.3213125\ttotal: 1.27s\tremaining: 11.5s\n",
      "124:\tlearn: 0.3199829\ttotal: 1.29s\tremaining: 11.6s\n",
      "125:\tlearn: 0.3187219\ttotal: 1.29s\tremaining: 11.5s\n",
      "126:\tlearn: 0.3182697\ttotal: 1.3s\tremaining: 11.5s\n",
      "127:\tlearn: 0.3178484\ttotal: 1.32s\tremaining: 11.5s\n",
      "128:\tlearn: 0.3168280\ttotal: 1.33s\tremaining: 11.6s\n",
      "129:\tlearn: 0.3163456\ttotal: 1.34s\tremaining: 11.5s\n",
      "130:\tlearn: 0.3156354\ttotal: 1.34s\tremaining: 11.5s\n",
      "131:\tlearn: 0.3146501\ttotal: 1.35s\tremaining: 11.4s\n",
      "132:\tlearn: 0.3138179\ttotal: 1.35s\tremaining: 11.4s\n",
      "133:\tlearn: 0.3128505\ttotal: 1.36s\tremaining: 11.3s\n",
      "134:\tlearn: 0.3119693\ttotal: 1.37s\tremaining: 11.3s\n",
      "135:\tlearn: 0.3111826\ttotal: 1.37s\tremaining: 11.2s\n",
      "136:\tlearn: 0.3099060\ttotal: 1.38s\tremaining: 11.2s\n",
      "137:\tlearn: 0.3080847\ttotal: 1.38s\tremaining: 11.2s\n",
      "138:\tlearn: 0.3072892\ttotal: 1.4s\tremaining: 11.2s\n",
      "139:\tlearn: 0.3063191\ttotal: 1.41s\tremaining: 11.2s\n",
      "140:\tlearn: 0.3057625\ttotal: 1.42s\tremaining: 11.2s\n",
      "141:\tlearn: 0.3048111\ttotal: 1.42s\tremaining: 11.1s\n",
      "142:\tlearn: 0.3040822\ttotal: 1.43s\tremaining: 11.1s\n",
      "143:\tlearn: 0.3031778\ttotal: 1.44s\tremaining: 11s\n",
      "144:\tlearn: 0.3023613\ttotal: 1.44s\tremaining: 11s\n",
      "145:\tlearn: 0.3016275\ttotal: 1.46s\tremaining: 11.1s\n",
      "146:\tlearn: 0.3009602\ttotal: 1.48s\tremaining: 11.1s\n",
      "147:\tlearn: 0.2997104\ttotal: 1.48s\tremaining: 11s\n",
      "148:\tlearn: 0.2992132\ttotal: 1.49s\tremaining: 11s\n",
      "149:\tlearn: 0.2985599\ttotal: 1.51s\tremaining: 11s\n",
      "150:\tlearn: 0.2972808\ttotal: 1.51s\tremaining: 11s\n",
      "151:\tlearn: 0.2965776\ttotal: 1.52s\tremaining: 11s\n",
      "152:\tlearn: 0.2957431\ttotal: 1.53s\tremaining: 11s\n",
      "153:\tlearn: 0.2944563\ttotal: 1.54s\tremaining: 11s\n",
      "154:\tlearn: 0.2936335\ttotal: 1.57s\tremaining: 11.1s\n",
      "155:\tlearn: 0.2931260\ttotal: 1.57s\tremaining: 11s\n",
      "156:\tlearn: 0.2923828\ttotal: 1.58s\tremaining: 11s\n",
      "157:\tlearn: 0.2919908\ttotal: 1.6s\tremaining: 11s\n",
      "158:\tlearn: 0.2914996\ttotal: 1.6s\tremaining: 11s\n",
      "159:\tlearn: 0.2909822\ttotal: 1.61s\tremaining: 10.9s\n",
      "160:\tlearn: 0.2902514\ttotal: 1.61s\tremaining: 10.9s\n",
      "161:\tlearn: 0.2886886\ttotal: 1.62s\tremaining: 10.9s\n",
      "162:\tlearn: 0.2881017\ttotal: 1.64s\tremaining: 10.9s\n",
      "163:\tlearn: 0.2875017\ttotal: 1.65s\tremaining: 11s\n",
      "164:\tlearn: 0.2865707\ttotal: 1.66s\tremaining: 10.9s\n",
      "165:\tlearn: 0.2860186\ttotal: 1.67s\tremaining: 10.9s\n",
      "166:\tlearn: 0.2855414\ttotal: 1.67s\tremaining: 10.9s\n",
      "167:\tlearn: 0.2848620\ttotal: 1.68s\tremaining: 10.8s\n",
      "168:\tlearn: 0.2843767\ttotal: 1.7s\tremaining: 10.9s\n"
     ]
    },
    {
     "name": "stdout",
     "output_type": "stream",
     "text": [
      "169:\tlearn: 0.2839124\ttotal: 1.71s\tremaining: 10.8s\n",
      "170:\tlearn: 0.2834280\ttotal: 1.72s\tremaining: 10.8s\n",
      "171:\tlearn: 0.2828787\ttotal: 1.73s\tremaining: 10.9s\n",
      "172:\tlearn: 0.2819490\ttotal: 1.74s\tremaining: 10.8s\n",
      "173:\tlearn: 0.2804801\ttotal: 1.74s\tremaining: 10.8s\n",
      "174:\tlearn: 0.2797887\ttotal: 1.75s\tremaining: 10.8s\n",
      "175:\tlearn: 0.2787610\ttotal: 1.76s\tremaining: 10.7s\n",
      "176:\tlearn: 0.2780340\ttotal: 1.77s\tremaining: 10.8s\n",
      "177:\tlearn: 0.2771287\ttotal: 1.79s\tremaining: 10.8s\n",
      "178:\tlearn: 0.2758511\ttotal: 1.8s\tremaining: 10.8s\n",
      "179:\tlearn: 0.2750489\ttotal: 1.81s\tremaining: 10.8s\n",
      "180:\tlearn: 0.2746957\ttotal: 1.81s\tremaining: 10.7s\n",
      "181:\tlearn: 0.2740824\ttotal: 1.82s\tremaining: 10.7s\n",
      "182:\tlearn: 0.2735512\ttotal: 1.83s\tremaining: 10.7s\n",
      "183:\tlearn: 0.2729634\ttotal: 1.84s\tremaining: 10.7s\n",
      "184:\tlearn: 0.2726226\ttotal: 1.85s\tremaining: 10.6s\n",
      "185:\tlearn: 0.2714739\ttotal: 1.88s\tremaining: 10.8s\n",
      "186:\tlearn: 0.2709863\ttotal: 1.89s\tremaining: 10.7s\n",
      "187:\tlearn: 0.2704752\ttotal: 1.91s\tremaining: 10.8s\n",
      "188:\tlearn: 0.2700673\ttotal: 1.91s\tremaining: 10.7s\n",
      "189:\tlearn: 0.2694978\ttotal: 1.92s\tremaining: 10.7s\n",
      "190:\tlearn: 0.2683654\ttotal: 1.93s\tremaining: 10.7s\n",
      "191:\tlearn: 0.2678931\ttotal: 1.94s\tremaining: 10.7s\n",
      "192:\tlearn: 0.2670492\ttotal: 1.94s\tremaining: 10.6s\n",
      "193:\tlearn: 0.2666286\ttotal: 1.95s\tremaining: 10.6s\n",
      "194:\tlearn: 0.2656974\ttotal: 1.95s\tremaining: 10.6s\n",
      "195:\tlearn: 0.2652974\ttotal: 1.97s\tremaining: 10.6s\n",
      "196:\tlearn: 0.2648594\ttotal: 1.97s\tremaining: 10.5s\n",
      "197:\tlearn: 0.2642624\ttotal: 1.98s\tremaining: 10.5s\n",
      "198:\tlearn: 0.2633999\ttotal: 1.98s\tremaining: 10.5s\n",
      "199:\tlearn: 0.2628344\ttotal: 1.99s\tremaining: 10.4s\n",
      "200:\tlearn: 0.2618951\ttotal: 2s\tremaining: 10.4s\n",
      "201:\tlearn: 0.2610024\ttotal: 2.01s\tremaining: 10.4s\n",
      "202:\tlearn: 0.2603564\ttotal: 2.02s\tremaining: 10.4s\n",
      "203:\tlearn: 0.2599030\ttotal: 2.02s\tremaining: 10.4s\n",
      "204:\tlearn: 0.2593504\ttotal: 2.04s\tremaining: 10.4s\n",
      "205:\tlearn: 0.2587755\ttotal: 2.06s\tremaining: 10.5s\n",
      "206:\tlearn: 0.2580859\ttotal: 2.07s\tremaining: 10.4s\n",
      "207:\tlearn: 0.2575377\ttotal: 2.08s\tremaining: 10.4s\n",
      "208:\tlearn: 0.2568799\ttotal: 2.09s\tremaining: 10.4s\n",
      "209:\tlearn: 0.2562747\ttotal: 2.1s\tremaining: 10.4s\n",
      "210:\tlearn: 0.2558516\ttotal: 2.1s\tremaining: 10.4s\n",
      "211:\tlearn: 0.2553696\ttotal: 2.11s\tremaining: 10.3s\n",
      "212:\tlearn: 0.2550617\ttotal: 2.12s\tremaining: 10.3s\n",
      "213:\tlearn: 0.2544721\ttotal: 2.12s\tremaining: 10.3s\n",
      "214:\tlearn: 0.2536834\ttotal: 2.13s\tremaining: 10.3s\n",
      "215:\tlearn: 0.2532022\ttotal: 2.14s\tremaining: 10.3s\n",
      "216:\tlearn: 0.2525474\ttotal: 2.15s\tremaining: 10.2s\n",
      "217:\tlearn: 0.2515463\ttotal: 2.15s\tremaining: 10.2s\n",
      "218:\tlearn: 0.2510621\ttotal: 2.16s\tremaining: 10.2s\n",
      "219:\tlearn: 0.2506541\ttotal: 2.17s\tremaining: 10.1s\n",
      "220:\tlearn: 0.2501742\ttotal: 2.18s\tremaining: 10.1s\n",
      "221:\tlearn: 0.2497025\ttotal: 2.19s\tremaining: 10.1s\n",
      "222:\tlearn: 0.2488439\ttotal: 2.21s\tremaining: 10.2s\n",
      "223:\tlearn: 0.2480312\ttotal: 2.21s\tremaining: 10.1s\n",
      "224:\tlearn: 0.2474260\ttotal: 2.22s\tremaining: 10.1s\n",
      "225:\tlearn: 0.2470622\ttotal: 2.24s\tremaining: 10.1s\n",
      "226:\tlearn: 0.2466602\ttotal: 2.24s\tremaining: 10.1s\n",
      "227:\tlearn: 0.2459529\ttotal: 2.25s\tremaining: 10.1s\n",
      "228:\tlearn: 0.2453330\ttotal: 2.26s\tremaining: 10.1s\n",
      "229:\tlearn: 0.2446759\ttotal: 2.26s\tremaining: 10s\n",
      "230:\tlearn: 0.2442181\ttotal: 2.27s\tremaining: 10s\n",
      "231:\tlearn: 0.2437462\ttotal: 2.27s\tremaining: 9.98s\n",
      "232:\tlearn: 0.2433548\ttotal: 2.28s\tremaining: 9.95s\n",
      "233:\tlearn: 0.2428597\ttotal: 2.28s\tremaining: 9.92s\n",
      "234:\tlearn: 0.2421578\ttotal: 2.29s\tremaining: 9.89s\n",
      "235:\tlearn: 0.2419086\ttotal: 2.29s\tremaining: 9.86s\n",
      "236:\tlearn: 0.2416027\ttotal: 2.3s\tremaining: 9.84s\n",
      "237:\tlearn: 0.2412879\ttotal: 2.31s\tremaining: 9.82s\n",
      "238:\tlearn: 0.2407213\ttotal: 2.31s\tremaining: 9.8s\n",
      "239:\tlearn: 0.2403113\ttotal: 2.32s\tremaining: 9.77s\n",
      "240:\tlearn: 0.2399154\ttotal: 2.33s\tremaining: 9.74s\n",
      "241:\tlearn: 0.2392805\ttotal: 2.33s\tremaining: 9.72s\n",
      "242:\tlearn: 0.2388861\ttotal: 2.34s\tremaining: 9.7s\n",
      "243:\tlearn: 0.2383323\ttotal: 2.35s\tremaining: 9.68s\n",
      "244:\tlearn: 0.2376048\ttotal: 2.35s\tremaining: 9.65s\n",
      "245:\tlearn: 0.2372515\ttotal: 2.37s\tremaining: 9.68s\n",
      "246:\tlearn: 0.2368228\ttotal: 2.38s\tremaining: 9.66s\n",
      "247:\tlearn: 0.2364246\ttotal: 2.38s\tremaining: 9.63s\n",
      "248:\tlearn: 0.2358376\ttotal: 2.39s\tremaining: 9.61s\n",
      "249:\tlearn: 0.2351895\ttotal: 2.4s\tremaining: 9.61s\n",
      "250:\tlearn: 0.2346959\ttotal: 2.41s\tremaining: 9.59s\n",
      "251:\tlearn: 0.2342862\ttotal: 2.41s\tremaining: 9.56s\n",
      "252:\tlearn: 0.2339160\ttotal: 2.42s\tremaining: 9.54s\n",
      "253:\tlearn: 0.2335633\ttotal: 2.43s\tremaining: 9.52s\n",
      "254:\tlearn: 0.2330984\ttotal: 2.43s\tremaining: 9.5s\n",
      "255:\tlearn: 0.2328335\ttotal: 2.44s\tremaining: 9.48s\n",
      "256:\tlearn: 0.2323450\ttotal: 2.45s\tremaining: 9.47s\n",
      "257:\tlearn: 0.2318805\ttotal: 2.46s\tremaining: 9.45s\n",
      "258:\tlearn: 0.2314655\ttotal: 2.46s\tremaining: 9.42s\n",
      "259:\tlearn: 0.2310194\ttotal: 2.47s\tremaining: 9.4s\n",
      "260:\tlearn: 0.2305608\ttotal: 2.47s\tremaining: 9.37s\n",
      "261:\tlearn: 0.2300797\ttotal: 2.5s\tremaining: 9.41s\n",
      "262:\tlearn: 0.2298315\ttotal: 2.5s\tremaining: 9.39s\n",
      "263:\tlearn: 0.2291628\ttotal: 2.51s\tremaining: 9.36s\n",
      "264:\tlearn: 0.2287344\ttotal: 2.51s\tremaining: 9.34s\n",
      "265:\tlearn: 0.2283572\ttotal: 2.52s\tremaining: 9.32s\n",
      "266:\tlearn: 0.2279020\ttotal: 2.56s\tremaining: 9.41s\n",
      "267:\tlearn: 0.2272858\ttotal: 2.56s\tremaining: 9.39s\n",
      "268:\tlearn: 0.2265508\ttotal: 2.57s\tremaining: 9.36s\n",
      "269:\tlearn: 0.2256324\ttotal: 2.58s\tremaining: 9.38s\n",
      "270:\tlearn: 0.2248594\ttotal: 2.59s\tremaining: 9.36s\n",
      "271:\tlearn: 0.2245303\ttotal: 2.6s\tremaining: 9.34s\n",
      "272:\tlearn: 0.2240008\ttotal: 2.6s\tremaining: 9.32s\n",
      "273:\tlearn: 0.2232992\ttotal: 2.61s\tremaining: 9.3s\n",
      "274:\tlearn: 0.2230679\ttotal: 2.64s\tremaining: 9.37s\n",
      "275:\tlearn: 0.2228304\ttotal: 2.65s\tremaining: 9.35s\n",
      "276:\tlearn: 0.2224875\ttotal: 2.65s\tremaining: 9.32s\n",
      "277:\tlearn: 0.2221761\ttotal: 2.66s\tremaining: 9.31s\n",
      "278:\tlearn: 0.2211426\ttotal: 2.67s\tremaining: 9.29s\n",
      "279:\tlearn: 0.2206979\ttotal: 2.67s\tremaining: 9.27s\n",
      "280:\tlearn: 0.2203270\ttotal: 2.69s\tremaining: 9.29s\n",
      "281:\tlearn: 0.2198097\ttotal: 2.7s\tremaining: 9.27s\n",
      "282:\tlearn: 0.2193673\ttotal: 2.71s\tremaining: 9.25s\n",
      "283:\tlearn: 0.2188943\ttotal: 2.71s\tremaining: 9.23s\n",
      "284:\tlearn: 0.2184906\ttotal: 2.72s\tremaining: 9.22s\n",
      "285:\tlearn: 0.2180193\ttotal: 2.74s\tremaining: 9.23s\n",
      "286:\tlearn: 0.2174867\ttotal: 2.75s\tremaining: 9.24s\n",
      "287:\tlearn: 0.2170452\ttotal: 2.8s\tremaining: 9.35s\n",
      "288:\tlearn: 0.2164536\ttotal: 2.81s\tremaining: 9.36s\n",
      "289:\tlearn: 0.2161045\ttotal: 2.83s\tremaining: 9.37s\n",
      "290:\tlearn: 0.2157612\ttotal: 2.85s\tremaining: 9.38s\n",
      "291:\tlearn: 0.2154192\ttotal: 2.86s\tremaining: 9.38s\n",
      "292:\tlearn: 0.2150458\ttotal: 2.87s\tremaining: 9.36s\n",
      "293:\tlearn: 0.2145335\ttotal: 2.87s\tremaining: 9.34s\n",
      "294:\tlearn: 0.2142110\ttotal: 2.89s\tremaining: 9.36s\n",
      "295:\tlearn: 0.2138082\ttotal: 2.9s\tremaining: 9.33s\n",
      "296:\tlearn: 0.2133948\ttotal: 2.9s\tremaining: 9.31s\n",
      "297:\tlearn: 0.2127624\ttotal: 2.91s\tremaining: 9.29s\n",
      "298:\tlearn: 0.2121996\ttotal: 2.91s\tremaining: 9.27s\n",
      "299:\tlearn: 0.2118368\ttotal: 2.93s\tremaining: 9.29s\n",
      "300:\tlearn: 0.2114308\ttotal: 2.94s\tremaining: 9.27s\n",
      "301:\tlearn: 0.2110924\ttotal: 2.95s\tremaining: 9.25s\n",
      "302:\tlearn: 0.2107067\ttotal: 2.95s\tremaining: 9.23s\n",
      "303:\tlearn: 0.2103898\ttotal: 2.96s\tremaining: 9.21s\n",
      "304:\tlearn: 0.2095978\ttotal: 2.96s\tremaining: 9.19s\n",
      "305:\tlearn: 0.2089694\ttotal: 2.98s\tremaining: 9.19s\n",
      "306:\tlearn: 0.2086537\ttotal: 2.99s\tremaining: 9.19s\n",
      "307:\tlearn: 0.2081898\ttotal: 3s\tremaining: 9.18s\n",
      "308:\tlearn: 0.2078040\ttotal: 3.01s\tremaining: 9.16s\n",
      "309:\tlearn: 0.2074837\ttotal: 3.01s\tremaining: 9.14s\n",
      "310:\tlearn: 0.2070730\ttotal: 3.03s\tremaining: 9.14s\n",
      "311:\tlearn: 0.2067357\ttotal: 3.04s\tremaining: 9.13s\n",
      "312:\tlearn: 0.2063840\ttotal: 3.04s\tremaining: 9.11s\n",
      "313:\tlearn: 0.2060778\ttotal: 3.05s\tremaining: 9.09s\n",
      "314:\tlearn: 0.2056446\ttotal: 3.07s\tremaining: 9.1s\n",
      "315:\tlearn: 0.2052798\ttotal: 3.07s\tremaining: 9.08s\n",
      "316:\tlearn: 0.2048629\ttotal: 3.08s\tremaining: 9.06s\n",
      "317:\tlearn: 0.2046496\ttotal: 3.08s\tremaining: 9.04s\n",
      "318:\tlearn: 0.2043573\ttotal: 3.09s\tremaining: 9.01s\n",
      "319:\tlearn: 0.2040616\ttotal: 3.09s\tremaining: 8.99s\n",
      "320:\tlearn: 0.2037823\ttotal: 3.11s\tremaining: 9s\n",
      "321:\tlearn: 0.2034430\ttotal: 3.12s\tremaining: 8.98s\n",
      "322:\tlearn: 0.2031771\ttotal: 3.14s\tremaining: 9.02s\n",
      "323:\tlearn: 0.2025440\ttotal: 3.15s\tremaining: 8.99s\n",
      "324:\tlearn: 0.2021088\ttotal: 3.15s\tremaining: 8.97s\n",
      "325:\tlearn: 0.2017760\ttotal: 3.17s\tremaining: 8.99s\n",
      "326:\tlearn: 0.2012225\ttotal: 3.18s\tremaining: 8.97s\n",
      "327:\tlearn: 0.2002856\ttotal: 3.18s\tremaining: 8.95s\n",
      "328:\tlearn: 0.1997842\ttotal: 3.2s\tremaining: 8.96s\n",
      "329:\tlearn: 0.1995178\ttotal: 3.23s\tremaining: 9.01s\n",
      "330:\tlearn: 0.1992276\ttotal: 3.24s\tremaining: 8.98s\n",
      "331:\tlearn: 0.1990039\ttotal: 3.24s\tremaining: 8.96s\n",
      "332:\tlearn: 0.1985322\ttotal: 3.25s\tremaining: 8.95s\n",
      "333:\tlearn: 0.1982987\ttotal: 3.26s\tremaining: 8.94s\n",
      "334:\tlearn: 0.1980053\ttotal: 3.27s\tremaining: 8.92s\n",
      "335:\tlearn: 0.1976738\ttotal: 3.27s\tremaining: 8.9s\n",
      "336:\tlearn: 0.1974493\ttotal: 3.28s\tremaining: 8.88s\n",
      "337:\tlearn: 0.1968659\ttotal: 3.3s\tremaining: 8.91s\n",
      "338:\tlearn: 0.1965638\ttotal: 3.32s\tremaining: 8.92s\n",
      "339:\tlearn: 0.1962551\ttotal: 3.33s\tremaining: 8.9s\n",
      "340:\tlearn: 0.1960204\ttotal: 3.33s\tremaining: 8.89s\n",
      "341:\tlearn: 0.1957932\ttotal: 3.35s\tremaining: 8.9s\n"
     ]
    },
    {
     "name": "stdout",
     "output_type": "stream",
     "text": [
      "342:\tlearn: 0.1953226\ttotal: 3.37s\tremaining: 8.9s\n",
      "343:\tlearn: 0.1951117\ttotal: 3.37s\tremaining: 8.88s\n",
      "344:\tlearn: 0.1948466\ttotal: 3.38s\tremaining: 8.86s\n",
      "345:\tlearn: 0.1945929\ttotal: 3.38s\tremaining: 8.84s\n",
      "346:\tlearn: 0.1940231\ttotal: 3.39s\tremaining: 8.82s\n",
      "347:\tlearn: 0.1937864\ttotal: 3.41s\tremaining: 8.83s\n",
      "348:\tlearn: 0.1932539\ttotal: 3.41s\tremaining: 8.81s\n",
      "349:\tlearn: 0.1927192\ttotal: 3.42s\tremaining: 8.8s\n",
      "350:\tlearn: 0.1924159\ttotal: 3.43s\tremaining: 8.78s\n",
      "351:\tlearn: 0.1922331\ttotal: 3.43s\tremaining: 8.76s\n",
      "352:\tlearn: 0.1917054\ttotal: 3.45s\tremaining: 8.77s\n",
      "353:\tlearn: 0.1915282\ttotal: 3.46s\tremaining: 8.76s\n",
      "354:\tlearn: 0.1912980\ttotal: 3.47s\tremaining: 8.74s\n",
      "355:\tlearn: 0.1910897\ttotal: 3.47s\tremaining: 8.72s\n",
      "356:\tlearn: 0.1906545\ttotal: 3.48s\tremaining: 8.71s\n",
      "357:\tlearn: 0.1903243\ttotal: 3.5s\tremaining: 8.72s\n",
      "358:\tlearn: 0.1899966\ttotal: 3.51s\tremaining: 8.7s\n",
      "359:\tlearn: 0.1896675\ttotal: 3.51s\tremaining: 8.68s\n",
      "360:\tlearn: 0.1891949\ttotal: 3.53s\tremaining: 8.69s\n",
      "361:\tlearn: 0.1889257\ttotal: 3.53s\tremaining: 8.67s\n",
      "362:\tlearn: 0.1886817\ttotal: 3.54s\tremaining: 8.65s\n",
      "363:\tlearn: 0.1884562\ttotal: 3.55s\tremaining: 8.63s\n",
      "364:\tlearn: 0.1880934\ttotal: 3.55s\tremaining: 8.61s\n",
      "365:\tlearn: 0.1877199\ttotal: 3.56s\tremaining: 8.59s\n",
      "366:\tlearn: 0.1873114\ttotal: 3.59s\tremaining: 8.64s\n",
      "367:\tlearn: 0.1870989\ttotal: 3.6s\tremaining: 8.62s\n",
      "368:\tlearn: 0.1867687\ttotal: 3.62s\tremaining: 8.64s\n",
      "369:\tlearn: 0.1863914\ttotal: 3.63s\tremaining: 8.62s\n",
      "370:\tlearn: 0.1861433\ttotal: 3.63s\tremaining: 8.6s\n",
      "371:\tlearn: 0.1855576\ttotal: 3.64s\tremaining: 8.59s\n",
      "372:\tlearn: 0.1851537\ttotal: 3.64s\tremaining: 8.57s\n",
      "373:\tlearn: 0.1846682\ttotal: 3.65s\tremaining: 8.56s\n",
      "374:\tlearn: 0.1840998\ttotal: 3.66s\tremaining: 8.54s\n",
      "375:\tlearn: 0.1837126\ttotal: 3.67s\tremaining: 8.52s\n",
      "376:\tlearn: 0.1833325\ttotal: 3.67s\tremaining: 8.51s\n",
      "377:\tlearn: 0.1828377\ttotal: 3.68s\tremaining: 8.49s\n",
      "378:\tlearn: 0.1824990\ttotal: 3.68s\tremaining: 8.47s\n",
      "379:\tlearn: 0.1823371\ttotal: 3.69s\tremaining: 8.45s\n",
      "380:\tlearn: 0.1820078\ttotal: 3.7s\tremaining: 8.43s\n",
      "381:\tlearn: 0.1817750\ttotal: 3.71s\tremaining: 8.43s\n",
      "382:\tlearn: 0.1814286\ttotal: 3.72s\tremaining: 8.41s\n",
      "383:\tlearn: 0.1810519\ttotal: 3.73s\tremaining: 8.4s\n",
      "384:\tlearn: 0.1807564\ttotal: 3.73s\tremaining: 8.38s\n",
      "385:\tlearn: 0.1805765\ttotal: 3.74s\tremaining: 8.37s\n",
      "386:\tlearn: 0.1803417\ttotal: 3.74s\tremaining: 8.35s\n",
      "387:\tlearn: 0.1800593\ttotal: 3.75s\tremaining: 8.33s\n",
      "388:\tlearn: 0.1798143\ttotal: 3.75s\tremaining: 8.31s\n",
      "389:\tlearn: 0.1796254\ttotal: 3.76s\tremaining: 8.29s\n",
      "390:\tlearn: 0.1793586\ttotal: 3.77s\tremaining: 8.27s\n",
      "391:\tlearn: 0.1790690\ttotal: 3.77s\tremaining: 8.26s\n",
      "392:\tlearn: 0.1787770\ttotal: 3.78s\tremaining: 8.24s\n",
      "393:\tlearn: 0.1786269\ttotal: 3.78s\tremaining: 8.22s\n",
      "394:\tlearn: 0.1784016\ttotal: 3.79s\tremaining: 8.2s\n",
      "395:\tlearn: 0.1781510\ttotal: 3.8s\tremaining: 8.19s\n",
      "396:\tlearn: 0.1779492\ttotal: 3.8s\tremaining: 8.17s\n",
      "397:\tlearn: 0.1777197\ttotal: 3.81s\tremaining: 8.15s\n",
      "398:\tlearn: 0.1773919\ttotal: 3.81s\tremaining: 8.13s\n",
      "399:\tlearn: 0.1771952\ttotal: 3.83s\tremaining: 8.13s\n",
      "400:\tlearn: 0.1768598\ttotal: 3.84s\tremaining: 8.13s\n",
      "401:\tlearn: 0.1765634\ttotal: 3.86s\tremaining: 8.14s\n",
      "402:\tlearn: 0.1763260\ttotal: 3.86s\tremaining: 8.12s\n",
      "403:\tlearn: 0.1760981\ttotal: 3.87s\tremaining: 8.11s\n",
      "404:\tlearn: 0.1759077\ttotal: 3.89s\tremaining: 8.11s\n",
      "405:\tlearn: 0.1756145\ttotal: 3.9s\tremaining: 8.11s\n",
      "406:\tlearn: 0.1754178\ttotal: 3.91s\tremaining: 8.1s\n",
      "407:\tlearn: 0.1751488\ttotal: 3.92s\tremaining: 8.08s\n",
      "408:\tlearn: 0.1747846\ttotal: 3.92s\tremaining: 8.07s\n",
      "409:\tlearn: 0.1744993\ttotal: 3.93s\tremaining: 8.05s\n",
      "410:\tlearn: 0.1742445\ttotal: 3.94s\tremaining: 8.03s\n",
      "411:\tlearn: 0.1739198\ttotal: 3.94s\tremaining: 8.02s\n",
      "412:\tlearn: 0.1737099\ttotal: 3.95s\tremaining: 8s\n",
      "413:\tlearn: 0.1735745\ttotal: 3.95s\tremaining: 7.98s\n",
      "414:\tlearn: 0.1732876\ttotal: 3.96s\tremaining: 7.96s\n",
      "415:\tlearn: 0.1729672\ttotal: 3.96s\tremaining: 7.95s\n",
      "416:\tlearn: 0.1727831\ttotal: 3.97s\tremaining: 7.93s\n",
      "417:\tlearn: 0.1725811\ttotal: 3.97s\tremaining: 7.91s\n",
      "418:\tlearn: 0.1724156\ttotal: 3.98s\tremaining: 7.89s\n",
      "419:\tlearn: 0.1722017\ttotal: 3.98s\tremaining: 7.88s\n",
      "420:\tlearn: 0.1719015\ttotal: 3.99s\tremaining: 7.86s\n",
      "421:\tlearn: 0.1713398\ttotal: 4.01s\tremaining: 7.87s\n",
      "422:\tlearn: 0.1711559\ttotal: 4.02s\tremaining: 7.86s\n",
      "423:\tlearn: 0.1709305\ttotal: 4.03s\tremaining: 7.84s\n",
      "424:\tlearn: 0.1706265\ttotal: 4.04s\tremaining: 7.85s\n",
      "425:\tlearn: 0.1703957\ttotal: 4.05s\tremaining: 7.83s\n",
      "426:\tlearn: 0.1701733\ttotal: 4.05s\tremaining: 7.81s\n",
      "427:\tlearn: 0.1700160\ttotal: 4.06s\tremaining: 7.8s\n",
      "428:\tlearn: 0.1698504\ttotal: 4.07s\tremaining: 7.8s\n",
      "429:\tlearn: 0.1696429\ttotal: 4.08s\tremaining: 7.78s\n",
      "430:\tlearn: 0.1693299\ttotal: 4.08s\tremaining: 7.76s\n",
      "431:\tlearn: 0.1691937\ttotal: 4.09s\tremaining: 7.75s\n",
      "432:\tlearn: 0.1689631\ttotal: 4.1s\tremaining: 7.73s\n",
      "433:\tlearn: 0.1687941\ttotal: 4.1s\tremaining: 7.72s\n",
      "434:\tlearn: 0.1686676\ttotal: 4.13s\tremaining: 7.75s\n",
      "435:\tlearn: 0.1683353\ttotal: 4.15s\tremaining: 7.75s\n",
      "436:\tlearn: 0.1681032\ttotal: 4.17s\tremaining: 7.75s\n",
      "437:\tlearn: 0.1679116\ttotal: 4.17s\tremaining: 7.73s\n",
      "438:\tlearn: 0.1674952\ttotal: 4.18s\tremaining: 7.72s\n",
      "439:\tlearn: 0.1672334\ttotal: 4.18s\tremaining: 7.7s\n",
      "440:\tlearn: 0.1668832\ttotal: 4.19s\tremaining: 7.68s\n",
      "441:\tlearn: 0.1665436\ttotal: 4.19s\tremaining: 7.67s\n",
      "442:\tlearn: 0.1662430\ttotal: 4.21s\tremaining: 7.68s\n",
      "443:\tlearn: 0.1660265\ttotal: 4.22s\tremaining: 7.66s\n",
      "444:\tlearn: 0.1658178\ttotal: 4.23s\tremaining: 7.65s\n",
      "445:\tlearn: 0.1654100\ttotal: 4.25s\tremaining: 7.65s\n",
      "446:\tlearn: 0.1650350\ttotal: 4.25s\tremaining: 7.64s\n",
      "447:\tlearn: 0.1648119\ttotal: 4.26s\tremaining: 7.63s\n",
      "448:\tlearn: 0.1645266\ttotal: 4.28s\tremaining: 7.63s\n",
      "449:\tlearn: 0.1643522\ttotal: 4.29s\tremaining: 7.62s\n",
      "450:\tlearn: 0.1641156\ttotal: 4.29s\tremaining: 7.61s\n",
      "451:\tlearn: 0.1638113\ttotal: 4.3s\tremaining: 7.59s\n",
      "452:\tlearn: 0.1636392\ttotal: 4.31s\tremaining: 7.58s\n",
      "453:\tlearn: 0.1633910\ttotal: 4.33s\tremaining: 7.58s\n",
      "454:\tlearn: 0.1630932\ttotal: 4.33s\tremaining: 7.57s\n",
      "455:\tlearn: 0.1627639\ttotal: 4.34s\tremaining: 7.55s\n",
      "456:\tlearn: 0.1626402\ttotal: 4.34s\tremaining: 7.54s\n",
      "457:\tlearn: 0.1624219\ttotal: 4.35s\tremaining: 7.52s\n",
      "458:\tlearn: 0.1621716\ttotal: 4.36s\tremaining: 7.51s\n",
      "459:\tlearn: 0.1616872\ttotal: 4.38s\tremaining: 7.52s\n",
      "460:\tlearn: 0.1614270\ttotal: 4.38s\tremaining: 7.5s\n",
      "461:\tlearn: 0.1612720\ttotal: 4.39s\tremaining: 7.49s\n",
      "462:\tlearn: 0.1607428\ttotal: 4.39s\tremaining: 7.47s\n",
      "463:\tlearn: 0.1603685\ttotal: 4.4s\tremaining: 7.46s\n",
      "464:\tlearn: 0.1599318\ttotal: 4.42s\tremaining: 7.46s\n",
      "465:\tlearn: 0.1596856\ttotal: 4.42s\tremaining: 7.45s\n",
      "466:\tlearn: 0.1595000\ttotal: 4.43s\tremaining: 7.43s\n",
      "467:\tlearn: 0.1591511\ttotal: 4.45s\tremaining: 7.43s\n",
      "468:\tlearn: 0.1590147\ttotal: 4.46s\tremaining: 7.42s\n",
      "469:\tlearn: 0.1586930\ttotal: 4.46s\tremaining: 7.41s\n",
      "470:\tlearn: 0.1583688\ttotal: 4.47s\tremaining: 7.39s\n",
      "471:\tlearn: 0.1582058\ttotal: 4.48s\tremaining: 7.38s\n",
      "472:\tlearn: 0.1580853\ttotal: 4.48s\tremaining: 7.36s\n",
      "473:\tlearn: 0.1576895\ttotal: 4.49s\tremaining: 7.35s\n",
      "474:\tlearn: 0.1573444\ttotal: 4.49s\tremaining: 7.33s\n",
      "475:\tlearn: 0.1571631\ttotal: 4.5s\tremaining: 7.32s\n",
      "476:\tlearn: 0.1569685\ttotal: 4.52s\tremaining: 7.33s\n",
      "477:\tlearn: 0.1568001\ttotal: 4.53s\tremaining: 7.31s\n",
      "478:\tlearn: 0.1566003\ttotal: 4.53s\tremaining: 7.3s\n",
      "479:\tlearn: 0.1564601\ttotal: 4.55s\tremaining: 7.3s\n",
      "480:\tlearn: 0.1561989\ttotal: 4.56s\tremaining: 7.29s\n",
      "481:\tlearn: 0.1559295\ttotal: 4.56s\tremaining: 7.27s\n",
      "482:\tlearn: 0.1556225\ttotal: 4.57s\tremaining: 7.26s\n",
      "483:\tlearn: 0.1553232\ttotal: 4.58s\tremaining: 7.24s\n",
      "484:\tlearn: 0.1550428\ttotal: 4.6s\tremaining: 7.25s\n",
      "485:\tlearn: 0.1547537\ttotal: 4.6s\tremaining: 7.24s\n",
      "486:\tlearn: 0.1546016\ttotal: 4.61s\tremaining: 7.22s\n",
      "487:\tlearn: 0.1544537\ttotal: 4.63s\tremaining: 7.23s\n",
      "488:\tlearn: 0.1542681\ttotal: 4.63s\tremaining: 7.21s\n",
      "489:\tlearn: 0.1541092\ttotal: 4.64s\tremaining: 7.2s\n",
      "490:\tlearn: 0.1538463\ttotal: 4.65s\tremaining: 7.18s\n",
      "491:\tlearn: 0.1537036\ttotal: 4.65s\tremaining: 7.17s\n",
      "492:\tlearn: 0.1533319\ttotal: 4.67s\tremaining: 7.18s\n",
      "493:\tlearn: 0.1531041\ttotal: 4.68s\tremaining: 7.16s\n",
      "494:\tlearn: 0.1529710\ttotal: 4.68s\tremaining: 7.15s\n",
      "495:\tlearn: 0.1527715\ttotal: 4.7s\tremaining: 7.15s\n",
      "496:\tlearn: 0.1526518\ttotal: 4.71s\tremaining: 7.13s\n",
      "497:\tlearn: 0.1524749\ttotal: 4.71s\tremaining: 7.12s\n",
      "498:\tlearn: 0.1523775\ttotal: 4.73s\tremaining: 7.12s\n",
      "499:\tlearn: 0.1520462\ttotal: 4.74s\tremaining: 7.11s\n",
      "500:\tlearn: 0.1519496\ttotal: 4.74s\tremaining: 7.09s\n",
      "501:\tlearn: 0.1517390\ttotal: 4.75s\tremaining: 7.08s\n",
      "502:\tlearn: 0.1515335\ttotal: 4.75s\tremaining: 7.06s\n",
      "503:\tlearn: 0.1512820\ttotal: 4.76s\tremaining: 7.05s\n",
      "504:\tlearn: 0.1510145\ttotal: 4.77s\tremaining: 7.03s\n",
      "505:\tlearn: 0.1507130\ttotal: 4.77s\tremaining: 7.02s\n",
      "506:\tlearn: 0.1504435\ttotal: 4.79s\tremaining: 7.02s\n",
      "507:\tlearn: 0.1502872\ttotal: 4.8s\tremaining: 7.02s\n",
      "508:\tlearn: 0.1501958\ttotal: 4.82s\tremaining: 7.02s\n"
     ]
    },
    {
     "name": "stdout",
     "output_type": "stream",
     "text": [
      "509:\tlearn: 0.1500712\ttotal: 4.83s\tremaining: 7s\n",
      "510:\tlearn: 0.1497997\ttotal: 4.85s\tremaining: 7.01s\n",
      "511:\tlearn: 0.1494687\ttotal: 4.86s\tremaining: 7.01s\n",
      "512:\tlearn: 0.1493508\ttotal: 4.88s\tremaining: 7.01s\n",
      "513:\tlearn: 0.1491760\ttotal: 4.9s\tremaining: 7.01s\n",
      "514:\tlearn: 0.1487928\ttotal: 4.9s\tremaining: 7s\n",
      "515:\tlearn: 0.1485519\ttotal: 4.91s\tremaining: 6.98s\n",
      "516:\tlearn: 0.1483833\ttotal: 4.91s\tremaining: 6.97s\n",
      "517:\tlearn: 0.1481553\ttotal: 4.92s\tremaining: 6.95s\n",
      "518:\tlearn: 0.1478943\ttotal: 4.93s\tremaining: 6.94s\n",
      "519:\tlearn: 0.1477434\ttotal: 4.93s\tremaining: 6.93s\n",
      "520:\tlearn: 0.1475815\ttotal: 4.95s\tremaining: 6.92s\n",
      "521:\tlearn: 0.1473640\ttotal: 4.96s\tremaining: 6.92s\n",
      "522:\tlearn: 0.1470998\ttotal: 4.98s\tremaining: 6.92s\n",
      "523:\tlearn: 0.1468771\ttotal: 4.98s\tremaining: 6.9s\n",
      "524:\tlearn: 0.1466841\ttotal: 4.99s\tremaining: 6.89s\n",
      "525:\tlearn: 0.1462118\ttotal: 5.01s\tremaining: 6.89s\n",
      "526:\tlearn: 0.1460891\ttotal: 5.03s\tremaining: 6.89s\n",
      "527:\tlearn: 0.1459228\ttotal: 5.04s\tremaining: 6.89s\n",
      "528:\tlearn: 0.1457769\ttotal: 5.04s\tremaining: 6.88s\n",
      "529:\tlearn: 0.1456704\ttotal: 5.05s\tremaining: 6.86s\n",
      "530:\tlearn: 0.1455277\ttotal: 5.06s\tremaining: 6.85s\n",
      "531:\tlearn: 0.1453194\ttotal: 5.07s\tremaining: 6.84s\n",
      "532:\tlearn: 0.1450675\ttotal: 5.07s\tremaining: 6.82s\n",
      "533:\tlearn: 0.1447932\ttotal: 5.09s\tremaining: 6.82s\n",
      "534:\tlearn: 0.1444576\ttotal: 5.09s\tremaining: 6.81s\n",
      "535:\tlearn: 0.1441207\ttotal: 5.1s\tremaining: 6.79s\n",
      "536:\tlearn: 0.1439321\ttotal: 5.11s\tremaining: 6.78s\n",
      "537:\tlearn: 0.1437512\ttotal: 5.11s\tremaining: 6.77s\n",
      "538:\tlearn: 0.1436576\ttotal: 5.13s\tremaining: 6.77s\n",
      "539:\tlearn: 0.1435472\ttotal: 5.14s\tremaining: 6.76s\n",
      "540:\tlearn: 0.1433310\ttotal: 5.14s\tremaining: 6.74s\n",
      "541:\tlearn: 0.1431685\ttotal: 5.15s\tremaining: 6.73s\n",
      "542:\tlearn: 0.1429905\ttotal: 5.16s\tremaining: 6.71s\n",
      "543:\tlearn: 0.1428986\ttotal: 5.16s\tremaining: 6.7s\n",
      "544:\tlearn: 0.1425540\ttotal: 5.17s\tremaining: 6.69s\n",
      "545:\tlearn: 0.1423385\ttotal: 5.19s\tremaining: 6.69s\n",
      "546:\tlearn: 0.1422320\ttotal: 5.22s\tremaining: 6.71s\n",
      "547:\tlearn: 0.1421246\ttotal: 5.23s\tremaining: 6.7s\n",
      "548:\tlearn: 0.1419952\ttotal: 5.24s\tremaining: 6.68s\n",
      "549:\tlearn: 0.1417433\ttotal: 5.24s\tremaining: 6.67s\n",
      "550:\tlearn: 0.1415146\ttotal: 5.25s\tremaining: 6.66s\n",
      "551:\tlearn: 0.1413654\ttotal: 5.25s\tremaining: 6.64s\n",
      "552:\tlearn: 0.1411824\ttotal: 5.26s\tremaining: 6.63s\n",
      "553:\tlearn: 0.1410998\ttotal: 5.26s\tremaining: 6.62s\n",
      "554:\tlearn: 0.1408156\ttotal: 5.27s\tremaining: 6.6s\n",
      "555:\tlearn: 0.1405510\ttotal: 5.28s\tremaining: 6.59s\n",
      "556:\tlearn: 0.1403417\ttotal: 5.28s\tremaining: 6.57s\n",
      "557:\tlearn: 0.1399990\ttotal: 5.29s\tremaining: 6.56s\n",
      "558:\tlearn: 0.1397593\ttotal: 5.29s\tremaining: 6.54s\n",
      "559:\tlearn: 0.1394973\ttotal: 5.3s\tremaining: 6.53s\n",
      "560:\tlearn: 0.1392809\ttotal: 5.31s\tremaining: 6.52s\n",
      "561:\tlearn: 0.1391567\ttotal: 5.31s\tremaining: 6.5s\n",
      "562:\tlearn: 0.1390223\ttotal: 5.32s\tremaining: 6.49s\n",
      "563:\tlearn: 0.1388617\ttotal: 5.32s\tremaining: 6.47s\n",
      "564:\tlearn: 0.1385851\ttotal: 5.33s\tremaining: 6.46s\n",
      "565:\tlearn: 0.1383649\ttotal: 5.33s\tremaining: 6.45s\n",
      "566:\tlearn: 0.1381022\ttotal: 5.36s\tremaining: 6.45s\n",
      "567:\tlearn: 0.1378511\ttotal: 5.36s\tremaining: 6.44s\n",
      "568:\tlearn: 0.1376757\ttotal: 5.37s\tremaining: 6.42s\n",
      "569:\tlearn: 0.1375450\ttotal: 5.37s\tremaining: 6.41s\n",
      "570:\tlearn: 0.1373590\ttotal: 5.38s\tremaining: 6.4s\n",
      "571:\tlearn: 0.1372549\ttotal: 5.38s\tremaining: 6.38s\n",
      "572:\tlearn: 0.1371734\ttotal: 5.39s\tremaining: 6.37s\n",
      "573:\tlearn: 0.1370238\ttotal: 5.4s\tremaining: 6.36s\n",
      "574:\tlearn: 0.1368185\ttotal: 5.4s\tremaining: 6.34s\n",
      "575:\tlearn: 0.1365701\ttotal: 5.41s\tremaining: 6.33s\n",
      "576:\tlearn: 0.1364741\ttotal: 5.43s\tremaining: 6.33s\n",
      "577:\tlearn: 0.1361678\ttotal: 5.43s\tremaining: 6.32s\n",
      "578:\tlearn: 0.1359521\ttotal: 5.44s\tremaining: 6.3s\n",
      "579:\tlearn: 0.1358216\ttotal: 5.46s\tremaining: 6.3s\n",
      "580:\tlearn: 0.1356855\ttotal: 5.46s\tremaining: 6.29s\n",
      "581:\tlearn: 0.1355222\ttotal: 5.47s\tremaining: 6.28s\n",
      "582:\tlearn: 0.1353651\ttotal: 5.48s\tremaining: 6.27s\n",
      "583:\tlearn: 0.1351274\ttotal: 5.48s\tremaining: 6.25s\n",
      "584:\tlearn: 0.1348029\ttotal: 5.5s\tremaining: 6.25s\n",
      "585:\tlearn: 0.1344636\ttotal: 5.51s\tremaining: 6.25s\n",
      "586:\tlearn: 0.1343165\ttotal: 5.53s\tremaining: 6.24s\n",
      "587:\tlearn: 0.1342203\ttotal: 5.53s\tremaining: 6.23s\n",
      "588:\tlearn: 0.1341355\ttotal: 5.54s\tremaining: 6.22s\n",
      "589:\tlearn: 0.1338989\ttotal: 5.56s\tremaining: 6.22s\n",
      "590:\tlearn: 0.1337427\ttotal: 5.56s\tremaining: 6.2s\n",
      "591:\tlearn: 0.1335073\ttotal: 5.57s\tremaining: 6.19s\n",
      "592:\tlearn: 0.1333930\ttotal: 5.59s\tremaining: 6.19s\n",
      "593:\tlearn: 0.1330891\ttotal: 5.6s\tremaining: 6.19s\n",
      "594:\tlearn: 0.1329890\ttotal: 5.61s\tremaining: 6.17s\n",
      "595:\tlearn: 0.1328809\ttotal: 5.61s\tremaining: 6.16s\n",
      "596:\tlearn: 0.1325149\ttotal: 5.62s\tremaining: 6.15s\n",
      "597:\tlearn: 0.1323211\ttotal: 5.62s\tremaining: 6.13s\n",
      "598:\tlearn: 0.1320797\ttotal: 5.63s\tremaining: 6.12s\n",
      "599:\tlearn: 0.1319836\ttotal: 5.64s\tremaining: 6.11s\n",
      "600:\tlearn: 0.1317742\ttotal: 5.64s\tremaining: 6.09s\n",
      "601:\tlearn: 0.1315994\ttotal: 5.65s\tremaining: 6.08s\n",
      "602:\tlearn: 0.1313965\ttotal: 5.66s\tremaining: 6.07s\n",
      "603:\tlearn: 0.1312434\ttotal: 5.67s\tremaining: 6.07s\n",
      "604:\tlearn: 0.1311542\ttotal: 5.68s\tremaining: 6.06s\n",
      "605:\tlearn: 0.1309751\ttotal: 5.69s\tremaining: 6.04s\n",
      "606:\tlearn: 0.1307929\ttotal: 5.69s\tremaining: 6.03s\n",
      "607:\tlearn: 0.1306879\ttotal: 5.71s\tremaining: 6.02s\n",
      "608:\tlearn: 0.1304919\ttotal: 5.71s\tremaining: 6.01s\n",
      "609:\tlearn: 0.1303491\ttotal: 5.72s\tremaining: 6s\n",
      "610:\tlearn: 0.1301086\ttotal: 5.72s\tremaining: 5.99s\n",
      "611:\tlearn: 0.1300072\ttotal: 5.73s\tremaining: 5.97s\n",
      "612:\tlearn: 0.1297924\ttotal: 5.75s\tremaining: 5.97s\n",
      "613:\tlearn: 0.1295999\ttotal: 5.76s\tremaining: 5.96s\n",
      "614:\tlearn: 0.1294342\ttotal: 5.76s\tremaining: 5.95s\n",
      "615:\tlearn: 0.1293297\ttotal: 5.77s\tremaining: 5.94s\n",
      "616:\tlearn: 0.1291443\ttotal: 5.78s\tremaining: 5.92s\n",
      "617:\tlearn: 0.1289956\ttotal: 5.78s\tremaining: 5.91s\n",
      "618:\tlearn: 0.1288013\ttotal: 5.79s\tremaining: 5.9s\n",
      "619:\tlearn: 0.1287076\ttotal: 5.79s\tremaining: 5.89s\n",
      "620:\tlearn: 0.1286192\ttotal: 5.8s\tremaining: 5.87s\n",
      "621:\tlearn: 0.1285351\ttotal: 5.81s\tremaining: 5.86s\n",
      "622:\tlearn: 0.1283204\ttotal: 5.84s\tremaining: 5.88s\n",
      "623:\tlearn: 0.1280383\ttotal: 5.85s\tremaining: 5.87s\n",
      "624:\tlearn: 0.1278563\ttotal: 5.85s\tremaining: 5.85s\n",
      "625:\tlearn: 0.1277318\ttotal: 5.87s\tremaining: 5.85s\n",
      "626:\tlearn: 0.1275705\ttotal: 5.88s\tremaining: 5.84s\n",
      "627:\tlearn: 0.1274043\ttotal: 5.88s\tremaining: 5.83s\n",
      "628:\tlearn: 0.1272185\ttotal: 5.9s\tremaining: 5.83s\n",
      "629:\tlearn: 0.1270046\ttotal: 5.91s\tremaining: 5.81s\n",
      "630:\tlearn: 0.1269199\ttotal: 5.91s\tremaining: 5.8s\n",
      "631:\tlearn: 0.1268368\ttotal: 5.92s\tremaining: 5.79s\n",
      "632:\tlearn: 0.1267171\ttotal: 5.93s\tremaining: 5.78s\n",
      "633:\tlearn: 0.1265583\ttotal: 5.93s\tremaining: 5.77s\n",
      "634:\tlearn: 0.1263474\ttotal: 5.94s\tremaining: 5.75s\n",
      "635:\tlearn: 0.1260943\ttotal: 5.95s\tremaining: 5.74s\n",
      "636:\tlearn: 0.1259495\ttotal: 5.95s\tremaining: 5.73s\n",
      "637:\tlearn: 0.1257670\ttotal: 5.96s\tremaining: 5.72s\n",
      "638:\tlearn: 0.1256566\ttotal: 5.96s\tremaining: 5.7s\n",
      "639:\tlearn: 0.1254585\ttotal: 5.99s\tremaining: 5.71s\n",
      "640:\tlearn: 0.1252039\ttotal: 6s\tremaining: 5.7s\n",
      "641:\tlearn: 0.1249182\ttotal: 6.01s\tremaining: 5.69s\n",
      "642:\tlearn: 0.1247814\ttotal: 6.01s\tremaining: 5.68s\n",
      "643:\tlearn: 0.1245194\ttotal: 6.03s\tremaining: 5.67s\n",
      "644:\tlearn: 0.1242839\ttotal: 6.04s\tremaining: 5.66s\n",
      "645:\tlearn: 0.1241241\ttotal: 6.04s\tremaining: 5.65s\n",
      "646:\tlearn: 0.1239127\ttotal: 6.05s\tremaining: 5.64s\n",
      "647:\tlearn: 0.1235953\ttotal: 6.05s\tremaining: 5.63s\n",
      "648:\tlearn: 0.1233677\ttotal: 6.06s\tremaining: 5.61s\n",
      "649:\tlearn: 0.1232186\ttotal: 6.08s\tremaining: 5.61s\n",
      "650:\tlearn: 0.1229637\ttotal: 6.08s\tremaining: 5.59s\n",
      "651:\tlearn: 0.1227682\ttotal: 6.09s\tremaining: 5.58s\n",
      "652:\tlearn: 0.1226328\ttotal: 6.11s\tremaining: 5.58s\n",
      "653:\tlearn: 0.1224727\ttotal: 6.11s\tremaining: 5.57s\n",
      "654:\tlearn: 0.1222449\ttotal: 6.13s\tremaining: 5.57s\n",
      "655:\tlearn: 0.1220947\ttotal: 6.14s\tremaining: 5.56s\n",
      "656:\tlearn: 0.1219240\ttotal: 6.15s\tremaining: 5.55s\n",
      "657:\tlearn: 0.1217375\ttotal: 6.15s\tremaining: 5.54s\n",
      "658:\tlearn: 0.1215871\ttotal: 6.16s\tremaining: 5.52s\n",
      "659:\tlearn: 0.1214369\ttotal: 6.17s\tremaining: 5.51s\n",
      "660:\tlearn: 0.1212719\ttotal: 6.17s\tremaining: 5.5s\n",
      "661:\tlearn: 0.1211001\ttotal: 6.19s\tremaining: 5.5s\n",
      "662:\tlearn: 0.1209144\ttotal: 6.21s\tremaining: 5.5s\n",
      "663:\tlearn: 0.1206998\ttotal: 6.21s\tremaining: 5.48s\n",
      "664:\tlearn: 0.1206178\ttotal: 6.22s\tremaining: 5.47s\n",
      "665:\tlearn: 0.1203991\ttotal: 6.23s\tremaining: 5.46s\n",
      "666:\tlearn: 0.1202867\ttotal: 6.23s\tremaining: 5.45s\n",
      "667:\tlearn: 0.1202001\ttotal: 6.26s\tremaining: 5.45s\n",
      "668:\tlearn: 0.1200365\ttotal: 6.28s\tremaining: 5.45s\n",
      "669:\tlearn: 0.1197954\ttotal: 6.29s\tremaining: 5.44s\n",
      "670:\tlearn: 0.1196475\ttotal: 6.3s\tremaining: 5.44s\n",
      "671:\tlearn: 0.1195157\ttotal: 6.31s\tremaining: 5.43s\n",
      "672:\tlearn: 0.1193262\ttotal: 6.32s\tremaining: 5.42s\n",
      "673:\tlearn: 0.1191670\ttotal: 6.32s\tremaining: 5.4s\n"
     ]
    },
    {
     "name": "stdout",
     "output_type": "stream",
     "text": [
      "674:\tlearn: 0.1190720\ttotal: 6.33s\tremaining: 5.39s\n",
      "675:\tlearn: 0.1188984\ttotal: 6.35s\tremaining: 5.39s\n",
      "676:\tlearn: 0.1187023\ttotal: 6.35s\tremaining: 5.38s\n",
      "677:\tlearn: 0.1185791\ttotal: 6.38s\tremaining: 5.38s\n",
      "678:\tlearn: 0.1185000\ttotal: 6.39s\tremaining: 5.38s\n",
      "679:\tlearn: 0.1184236\ttotal: 6.4s\tremaining: 5.36s\n",
      "680:\tlearn: 0.1182268\ttotal: 6.4s\tremaining: 5.35s\n",
      "681:\tlearn: 0.1181036\ttotal: 6.41s\tremaining: 5.34s\n",
      "682:\tlearn: 0.1179512\ttotal: 6.42s\tremaining: 5.33s\n",
      "683:\tlearn: 0.1177982\ttotal: 6.43s\tremaining: 5.32s\n",
      "684:\tlearn: 0.1176714\ttotal: 6.43s\tremaining: 5.31s\n",
      "685:\tlearn: 0.1175024\ttotal: 6.44s\tremaining: 5.29s\n",
      "686:\tlearn: 0.1173201\ttotal: 6.45s\tremaining: 5.28s\n",
      "687:\tlearn: 0.1170594\ttotal: 6.45s\tremaining: 5.27s\n",
      "688:\tlearn: 0.1168399\ttotal: 6.46s\tremaining: 5.26s\n",
      "689:\tlearn: 0.1166990\ttotal: 6.47s\tremaining: 5.25s\n",
      "690:\tlearn: 0.1165290\ttotal: 6.48s\tremaining: 5.24s\n",
      "691:\tlearn: 0.1164292\ttotal: 6.49s\tremaining: 5.24s\n",
      "692:\tlearn: 0.1162098\ttotal: 6.51s\tremaining: 5.23s\n",
      "693:\tlearn: 0.1160077\ttotal: 6.52s\tremaining: 5.22s\n",
      "694:\tlearn: 0.1158970\ttotal: 6.52s\tremaining: 5.21s\n",
      "695:\tlearn: 0.1157123\ttotal: 6.53s\tremaining: 5.2s\n",
      "696:\tlearn: 0.1156014\ttotal: 6.53s\tremaining: 5.18s\n",
      "697:\tlearn: 0.1153757\ttotal: 6.57s\tremaining: 5.2s\n",
      "698:\tlearn: 0.1151744\ttotal: 6.58s\tremaining: 5.18s\n",
      "699:\tlearn: 0.1150314\ttotal: 6.58s\tremaining: 5.17s\n",
      "700:\tlearn: 0.1148561\ttotal: 6.59s\tremaining: 5.16s\n",
      "701:\tlearn: 0.1147986\ttotal: 6.59s\tremaining: 5.15s\n",
      "702:\tlearn: 0.1146177\ttotal: 6.6s\tremaining: 5.13s\n",
      "703:\tlearn: 0.1144905\ttotal: 6.61s\tremaining: 5.12s\n",
      "704:\tlearn: 0.1143882\ttotal: 6.62s\tremaining: 5.12s\n",
      "705:\tlearn: 0.1141799\ttotal: 6.62s\tremaining: 5.1s\n",
      "706:\tlearn: 0.1140165\ttotal: 6.63s\tremaining: 5.09s\n",
      "707:\tlearn: 0.1139431\ttotal: 6.63s\tremaining: 5.08s\n",
      "708:\tlearn: 0.1138391\ttotal: 6.64s\tremaining: 5.07s\n",
      "709:\tlearn: 0.1135443\ttotal: 6.65s\tremaining: 5.06s\n",
      "710:\tlearn: 0.1133500\ttotal: 6.65s\tremaining: 5.04s\n",
      "711:\tlearn: 0.1132847\ttotal: 6.66s\tremaining: 5.03s\n",
      "712:\tlearn: 0.1130891\ttotal: 6.67s\tremaining: 5.02s\n",
      "713:\tlearn: 0.1129435\ttotal: 6.69s\tremaining: 5.02s\n",
      "714:\tlearn: 0.1128138\ttotal: 6.7s\tremaining: 5.01s\n",
      "715:\tlearn: 0.1126459\ttotal: 6.71s\tremaining: 5s\n",
      "716:\tlearn: 0.1125573\ttotal: 6.71s\tremaining: 4.99s\n",
      "717:\tlearn: 0.1123924\ttotal: 6.75s\tremaining: 5s\n",
      "718:\tlearn: 0.1122787\ttotal: 6.76s\tremaining: 5s\n",
      "719:\tlearn: 0.1121590\ttotal: 6.78s\tremaining: 4.99s\n",
      "720:\tlearn: 0.1120902\ttotal: 6.78s\tremaining: 4.98s\n",
      "721:\tlearn: 0.1119208\ttotal: 6.79s\tremaining: 4.97s\n",
      "722:\tlearn: 0.1117987\ttotal: 6.8s\tremaining: 4.95s\n",
      "723:\tlearn: 0.1117203\ttotal: 6.81s\tremaining: 4.95s\n",
      "724:\tlearn: 0.1116477\ttotal: 6.82s\tremaining: 4.93s\n",
      "725:\tlearn: 0.1114789\ttotal: 6.82s\tremaining: 4.92s\n",
      "726:\tlearn: 0.1112396\ttotal: 6.84s\tremaining: 4.92s\n",
      "727:\tlearn: 0.1111178\ttotal: 6.84s\tremaining: 4.91s\n",
      "728:\tlearn: 0.1109885\ttotal: 6.85s\tremaining: 4.9s\n",
      "729:\tlearn: 0.1108455\ttotal: 6.87s\tremaining: 4.89s\n",
      "730:\tlearn: 0.1107497\ttotal: 6.88s\tremaining: 4.88s\n",
      "731:\tlearn: 0.1105902\ttotal: 6.88s\tremaining: 4.87s\n",
      "732:\tlearn: 0.1104813\ttotal: 6.89s\tremaining: 4.86s\n",
      "733:\tlearn: 0.1102840\ttotal: 6.9s\tremaining: 4.85s\n",
      "734:\tlearn: 0.1102196\ttotal: 6.9s\tremaining: 4.84s\n",
      "735:\tlearn: 0.1101356\ttotal: 6.91s\tremaining: 4.83s\n",
      "736:\tlearn: 0.1100446\ttotal: 6.93s\tremaining: 4.82s\n",
      "737:\tlearn: 0.1099584\ttotal: 6.93s\tremaining: 4.81s\n",
      "738:\tlearn: 0.1098312\ttotal: 6.94s\tremaining: 4.8s\n",
      "739:\tlearn: 0.1097013\ttotal: 6.94s\tremaining: 4.79s\n",
      "740:\tlearn: 0.1096450\ttotal: 6.95s\tremaining: 4.77s\n",
      "741:\tlearn: 0.1096001\ttotal: 6.97s\tremaining: 4.77s\n",
      "742:\tlearn: 0.1094777\ttotal: 6.98s\tremaining: 4.76s\n",
      "743:\tlearn: 0.1093416\ttotal: 6.98s\tremaining: 4.75s\n",
      "744:\tlearn: 0.1092862\ttotal: 7s\tremaining: 4.75s\n",
      "745:\tlearn: 0.1091692\ttotal: 7.01s\tremaining: 4.74s\n",
      "746:\tlearn: 0.1089905\ttotal: 7.03s\tremaining: 4.73s\n",
      "747:\tlearn: 0.1088861\ttotal: 7.03s\tremaining: 4.72s\n",
      "748:\tlearn: 0.1087736\ttotal: 7.04s\tremaining: 4.71s\n",
      "749:\tlearn: 0.1086651\ttotal: 7.06s\tremaining: 4.71s\n",
      "750:\tlearn: 0.1085653\ttotal: 7.07s\tremaining: 4.7s\n",
      "751:\tlearn: 0.1084832\ttotal: 7.08s\tremaining: 4.69s\n",
      "752:\tlearn: 0.1083455\ttotal: 7.09s\tremaining: 4.68s\n",
      "753:\tlearn: 0.1081961\ttotal: 7.09s\tremaining: 4.67s\n",
      "754:\tlearn: 0.1081352\ttotal: 7.1s\tremaining: 4.65s\n",
      "755:\tlearn: 0.1080388\ttotal: 7.11s\tremaining: 4.64s\n",
      "756:\tlearn: 0.1079803\ttotal: 7.11s\tremaining: 4.63s\n",
      "757:\tlearn: 0.1078273\ttotal: 7.12s\tremaining: 4.62s\n",
      "758:\tlearn: 0.1077301\ttotal: 7.13s\tremaining: 4.61s\n",
      "759:\tlearn: 0.1076057\ttotal: 7.15s\tremaining: 4.61s\n",
      "760:\tlearn: 0.1074805\ttotal: 7.16s\tremaining: 4.6s\n",
      "761:\tlearn: 0.1073721\ttotal: 7.18s\tremaining: 4.6s\n",
      "762:\tlearn: 0.1072106\ttotal: 7.18s\tremaining: 4.58s\n",
      "763:\tlearn: 0.1070606\ttotal: 7.19s\tremaining: 4.57s\n",
      "764:\tlearn: 0.1069110\ttotal: 7.2s\tremaining: 4.56s\n",
      "765:\tlearn: 0.1068074\ttotal: 7.2s\tremaining: 4.55s\n",
      "766:\tlearn: 0.1067397\ttotal: 7.21s\tremaining: 4.54s\n",
      "767:\tlearn: 0.1065760\ttotal: 7.21s\tremaining: 4.53s\n",
      "768:\tlearn: 0.1064469\ttotal: 7.22s\tremaining: 4.51s\n",
      "769:\tlearn: 0.1063760\ttotal: 7.22s\tremaining: 4.5s\n",
      "770:\tlearn: 0.1063078\ttotal: 7.23s\tremaining: 4.49s\n",
      "771:\tlearn: 0.1061652\ttotal: 7.25s\tremaining: 4.49s\n",
      "772:\tlearn: 0.1060516\ttotal: 7.25s\tremaining: 4.48s\n",
      "773:\tlearn: 0.1059378\ttotal: 7.26s\tremaining: 4.46s\n",
      "774:\tlearn: 0.1058225\ttotal: 7.27s\tremaining: 4.45s\n",
      "775:\tlearn: 0.1056541\ttotal: 7.27s\tremaining: 4.44s\n",
      "776:\tlearn: 0.1055555\ttotal: 7.29s\tremaining: 4.44s\n",
      "777:\tlearn: 0.1053806\ttotal: 7.3s\tremaining: 4.43s\n",
      "778:\tlearn: 0.1052669\ttotal: 7.31s\tremaining: 4.42s\n",
      "779:\tlearn: 0.1051208\ttotal: 7.31s\tremaining: 4.41s\n",
      "780:\tlearn: 0.1049474\ttotal: 7.32s\tremaining: 4.39s\n",
      "781:\tlearn: 0.1048129\ttotal: 7.33s\tremaining: 4.38s\n",
      "782:\tlearn: 0.1046937\ttotal: 7.34s\tremaining: 4.38s\n",
      "783:\tlearn: 0.1045502\ttotal: 7.34s\tremaining: 4.36s\n",
      "784:\tlearn: 0.1044909\ttotal: 7.35s\tremaining: 4.35s\n",
      "785:\tlearn: 0.1044104\ttotal: 7.35s\tremaining: 4.34s\n",
      "786:\tlearn: 0.1042865\ttotal: 7.36s\tremaining: 4.33s\n",
      "787:\tlearn: 0.1042430\ttotal: 7.37s\tremaining: 4.32s\n",
      "788:\tlearn: 0.1041100\ttotal: 7.37s\tremaining: 4.31s\n",
      "789:\tlearn: 0.1039982\ttotal: 7.38s\tremaining: 4.29s\n",
      "790:\tlearn: 0.1037626\ttotal: 7.38s\tremaining: 4.28s\n",
      "791:\tlearn: 0.1036806\ttotal: 7.39s\tremaining: 4.27s\n",
      "792:\tlearn: 0.1035725\ttotal: 7.41s\tremaining: 4.27s\n",
      "793:\tlearn: 0.1034519\ttotal: 7.42s\tremaining: 4.26s\n",
      "794:\tlearn: 0.1033448\ttotal: 7.44s\tremaining: 4.26s\n",
      "795:\tlearn: 0.1031492\ttotal: 7.45s\tremaining: 4.25s\n",
      "796:\tlearn: 0.1030387\ttotal: 7.45s\tremaining: 4.24s\n",
      "797:\tlearn: 0.1029558\ttotal: 7.46s\tremaining: 4.22s\n",
      "798:\tlearn: 0.1028501\ttotal: 7.46s\tremaining: 4.21s\n",
      "799:\tlearn: 0.1027558\ttotal: 7.48s\tremaining: 4.21s\n",
      "800:\tlearn: 0.1026831\ttotal: 7.49s\tremaining: 4.2s\n",
      "801:\tlearn: 0.1025681\ttotal: 7.5s\tremaining: 4.19s\n",
      "802:\tlearn: 0.1023941\ttotal: 7.5s\tremaining: 4.17s\n",
      "803:\tlearn: 0.1022421\ttotal: 7.51s\tremaining: 4.16s\n",
      "804:\tlearn: 0.1021109\ttotal: 7.53s\tremaining: 4.16s\n",
      "805:\tlearn: 0.1020342\ttotal: 7.53s\tremaining: 4.15s\n",
      "806:\tlearn: 0.1019080\ttotal: 7.54s\tremaining: 4.14s\n",
      "807:\tlearn: 0.1017441\ttotal: 7.54s\tremaining: 4.13s\n",
      "808:\tlearn: 0.1015881\ttotal: 7.55s\tremaining: 4.12s\n",
      "809:\tlearn: 0.1013400\ttotal: 7.57s\tremaining: 4.11s\n",
      "810:\tlearn: 0.1010947\ttotal: 7.58s\tremaining: 4.11s\n",
      "811:\tlearn: 0.1008357\ttotal: 7.59s\tremaining: 4.09s\n",
      "812:\tlearn: 0.1007238\ttotal: 7.6s\tremaining: 4.08s\n",
      "813:\tlearn: 0.1005120\ttotal: 7.6s\tremaining: 4.07s\n",
      "814:\tlearn: 0.1004304\ttotal: 7.61s\tremaining: 4.06s\n",
      "815:\tlearn: 0.1003334\ttotal: 7.63s\tremaining: 4.06s\n",
      "816:\tlearn: 0.1002446\ttotal: 7.64s\tremaining: 4.05s\n",
      "817:\tlearn: 0.1001474\ttotal: 7.64s\tremaining: 4.04s\n",
      "818:\tlearn: 0.1001017\ttotal: 7.65s\tremaining: 4.03s\n",
      "819:\tlearn: 0.0999078\ttotal: 7.66s\tremaining: 4.02s\n",
      "820:\tlearn: 0.0998308\ttotal: 7.67s\tremaining: 4s\n",
      "821:\tlearn: 0.0997671\ttotal: 7.67s\tremaining: 3.99s\n",
      "822:\tlearn: 0.0996379\ttotal: 7.68s\tremaining: 3.98s\n",
      "823:\tlearn: 0.0995295\ttotal: 7.69s\tremaining: 3.98s\n",
      "824:\tlearn: 0.0993985\ttotal: 7.7s\tremaining: 3.96s\n",
      "825:\tlearn: 0.0992427\ttotal: 7.7s\tremaining: 3.95s\n",
      "826:\tlearn: 0.0989946\ttotal: 7.72s\tremaining: 3.95s\n",
      "827:\tlearn: 0.0988651\ttotal: 7.72s\tremaining: 3.94s\n",
      "828:\tlearn: 0.0987657\ttotal: 7.73s\tremaining: 3.93s\n",
      "829:\tlearn: 0.0986356\ttotal: 7.74s\tremaining: 3.92s\n",
      "830:\tlearn: 0.0985368\ttotal: 7.74s\tremaining: 3.9s\n",
      "831:\tlearn: 0.0984851\ttotal: 7.75s\tremaining: 3.89s\n",
      "832:\tlearn: 0.0983300\ttotal: 7.75s\tremaining: 3.88s\n",
      "833:\tlearn: 0.0982503\ttotal: 7.76s\tremaining: 3.87s\n",
      "834:\tlearn: 0.0981139\ttotal: 7.77s\tremaining: 3.86s\n",
      "835:\tlearn: 0.0980378\ttotal: 7.77s\tremaining: 3.85s\n",
      "836:\tlearn: 0.0979331\ttotal: 7.79s\tremaining: 3.85s\n",
      "837:\tlearn: 0.0978651\ttotal: 7.81s\tremaining: 3.84s\n"
     ]
    },
    {
     "name": "stdout",
     "output_type": "stream",
     "text": [
      "838:\tlearn: 0.0976839\ttotal: 7.81s\tremaining: 3.83s\n",
      "839:\tlearn: 0.0975461\ttotal: 7.82s\tremaining: 3.82s\n",
      "840:\tlearn: 0.0974670\ttotal: 7.83s\tremaining: 3.81s\n",
      "841:\tlearn: 0.0973798\ttotal: 7.83s\tremaining: 3.79s\n",
      "842:\tlearn: 0.0972840\ttotal: 7.84s\tremaining: 3.78s\n",
      "843:\tlearn: 0.0972133\ttotal: 7.84s\tremaining: 3.77s\n",
      "844:\tlearn: 0.0971396\ttotal: 7.85s\tremaining: 3.76s\n",
      "845:\tlearn: 0.0969947\ttotal: 7.86s\tremaining: 3.75s\n",
      "846:\tlearn: 0.0968571\ttotal: 7.86s\tremaining: 3.74s\n",
      "847:\tlearn: 0.0968074\ttotal: 7.87s\tremaining: 3.73s\n",
      "848:\tlearn: 0.0967649\ttotal: 7.9s\tremaining: 3.73s\n",
      "849:\tlearn: 0.0966479\ttotal: 7.9s\tremaining: 3.72s\n",
      "850:\tlearn: 0.0964320\ttotal: 7.92s\tremaining: 3.71s\n",
      "851:\tlearn: 0.0962564\ttotal: 7.93s\tremaining: 3.71s\n",
      "852:\tlearn: 0.0961780\ttotal: 7.94s\tremaining: 3.69s\n",
      "853:\tlearn: 0.0961066\ttotal: 7.94s\tremaining: 3.68s\n",
      "854:\tlearn: 0.0959875\ttotal: 7.95s\tremaining: 3.67s\n",
      "855:\tlearn: 0.0959516\ttotal: 7.95s\tremaining: 3.66s\n",
      "856:\tlearn: 0.0958473\ttotal: 7.96s\tremaining: 3.65s\n",
      "857:\tlearn: 0.0957326\ttotal: 7.97s\tremaining: 3.64s\n",
      "858:\tlearn: 0.0956209\ttotal: 7.97s\tremaining: 3.63s\n",
      "859:\tlearn: 0.0953142\ttotal: 7.98s\tremaining: 3.62s\n",
      "860:\tlearn: 0.0950825\ttotal: 7.98s\tremaining: 3.61s\n",
      "861:\tlearn: 0.0950158\ttotal: 7.99s\tremaining: 3.6s\n",
      "862:\tlearn: 0.0948401\ttotal: 8s\tremaining: 3.58s\n",
      "863:\tlearn: 0.0946951\ttotal: 8.01s\tremaining: 3.58s\n",
      "864:\tlearn: 0.0945912\ttotal: 8.03s\tremaining: 3.57s\n",
      "865:\tlearn: 0.0945311\ttotal: 8.03s\tremaining: 3.56s\n",
      "866:\tlearn: 0.0944173\ttotal: 8.04s\tremaining: 3.55s\n",
      "867:\tlearn: 0.0943390\ttotal: 8.04s\tremaining: 3.54s\n",
      "868:\tlearn: 0.0942266\ttotal: 8.05s\tremaining: 3.53s\n",
      "869:\tlearn: 0.0941660\ttotal: 8.06s\tremaining: 3.52s\n",
      "870:\tlearn: 0.0940355\ttotal: 8.07s\tremaining: 3.51s\n",
      "871:\tlearn: 0.0939033\ttotal: 8.07s\tremaining: 3.5s\n",
      "872:\tlearn: 0.0937555\ttotal: 8.09s\tremaining: 3.49s\n",
      "873:\tlearn: 0.0936184\ttotal: 8.09s\tremaining: 3.48s\n",
      "874:\tlearn: 0.0935211\ttotal: 8.1s\tremaining: 3.47s\n",
      "875:\tlearn: 0.0934248\ttotal: 8.11s\tremaining: 3.46s\n",
      "876:\tlearn: 0.0933590\ttotal: 8.15s\tremaining: 3.46s\n",
      "877:\tlearn: 0.0932442\ttotal: 8.15s\tremaining: 3.46s\n",
      "878:\tlearn: 0.0931100\ttotal: 8.16s\tremaining: 3.44s\n",
      "879:\tlearn: 0.0930568\ttotal: 8.17s\tremaining: 3.44s\n",
      "880:\tlearn: 0.0929656\ttotal: 8.18s\tremaining: 3.42s\n",
      "881:\tlearn: 0.0928616\ttotal: 8.18s\tremaining: 3.41s\n",
      "882:\tlearn: 0.0927469\ttotal: 8.19s\tremaining: 3.4s\n",
      "883:\tlearn: 0.0926164\ttotal: 8.21s\tremaining: 3.4s\n",
      "884:\tlearn: 0.0925279\ttotal: 8.21s\tremaining: 3.39s\n",
      "885:\tlearn: 0.0924419\ttotal: 8.22s\tremaining: 3.38s\n",
      "886:\tlearn: 0.0923587\ttotal: 8.23s\tremaining: 3.37s\n",
      "887:\tlearn: 0.0922544\ttotal: 8.24s\tremaining: 3.36s\n",
      "888:\tlearn: 0.0921922\ttotal: 8.24s\tremaining: 3.35s\n",
      "889:\tlearn: 0.0919629\ttotal: 8.25s\tremaining: 3.34s\n",
      "890:\tlearn: 0.0919138\ttotal: 8.25s\tremaining: 3.33s\n",
      "891:\tlearn: 0.0916933\ttotal: 8.26s\tremaining: 3.31s\n",
      "892:\tlearn: 0.0916058\ttotal: 8.28s\tremaining: 3.31s\n",
      "893:\tlearn: 0.0914811\ttotal: 8.29s\tremaining: 3.3s\n",
      "894:\tlearn: 0.0914065\ttotal: 8.31s\tremaining: 3.3s\n",
      "895:\tlearn: 0.0913525\ttotal: 8.36s\tremaining: 3.3s\n",
      "896:\tlearn: 0.0912777\ttotal: 8.36s\tremaining: 3.29s\n",
      "897:\tlearn: 0.0911660\ttotal: 8.37s\tremaining: 3.28s\n",
      "898:\tlearn: 0.0910778\ttotal: 8.38s\tremaining: 3.27s\n",
      "899:\tlearn: 0.0910090\ttotal: 8.4s\tremaining: 3.27s\n",
      "900:\tlearn: 0.0908881\ttotal: 8.41s\tremaining: 3.26s\n",
      "901:\tlearn: 0.0906871\ttotal: 8.41s\tremaining: 3.25s\n",
      "902:\tlearn: 0.0905955\ttotal: 8.43s\tremaining: 3.24s\n",
      "903:\tlearn: 0.0904977\ttotal: 8.44s\tremaining: 3.23s\n",
      "904:\tlearn: 0.0903908\ttotal: 8.45s\tremaining: 3.22s\n",
      "905:\tlearn: 0.0902822\ttotal: 8.46s\tremaining: 3.21s\n",
      "906:\tlearn: 0.0901829\ttotal: 8.46s\tremaining: 3.2s\n",
      "907:\tlearn: 0.0901328\ttotal: 8.47s\tremaining: 3.19s\n",
      "908:\tlearn: 0.0900721\ttotal: 8.48s\tremaining: 3.18s\n",
      "909:\tlearn: 0.0900050\ttotal: 8.48s\tremaining: 3.17s\n",
      "910:\tlearn: 0.0899652\ttotal: 8.49s\tremaining: 3.16s\n",
      "911:\tlearn: 0.0898752\ttotal: 8.49s\tremaining: 3.15s\n",
      "912:\tlearn: 0.0897400\ttotal: 8.5s\tremaining: 3.14s\n",
      "913:\tlearn: 0.0896487\ttotal: 8.51s\tremaining: 3.13s\n",
      "914:\tlearn: 0.0895704\ttotal: 8.51s\tremaining: 3.12s\n",
      "915:\tlearn: 0.0894843\ttotal: 8.52s\tremaining: 3.1s\n",
      "916:\tlearn: 0.0893788\ttotal: 8.52s\tremaining: 3.09s\n",
      "917:\tlearn: 0.0892966\ttotal: 8.53s\tremaining: 3.08s\n",
      "918:\tlearn: 0.0892042\ttotal: 8.55s\tremaining: 3.08s\n",
      "919:\tlearn: 0.0890854\ttotal: 8.55s\tremaining: 3.07s\n",
      "920:\tlearn: 0.0890287\ttotal: 8.56s\tremaining: 3.06s\n",
      "921:\tlearn: 0.0889125\ttotal: 8.57s\tremaining: 3.05s\n",
      "922:\tlearn: 0.0887772\ttotal: 8.57s\tremaining: 3.04s\n",
      "923:\tlearn: 0.0886986\ttotal: 8.59s\tremaining: 3.03s\n",
      "924:\tlearn: 0.0886533\ttotal: 8.61s\tremaining: 3.02s\n",
      "925:\tlearn: 0.0885811\ttotal: 8.61s\tremaining: 3.01s\n",
      "926:\tlearn: 0.0884937\ttotal: 8.62s\tremaining: 3s\n",
      "927:\tlearn: 0.0883766\ttotal: 8.63s\tremaining: 2.99s\n",
      "928:\tlearn: 0.0883010\ttotal: 8.63s\tremaining: 2.98s\n",
      "929:\tlearn: 0.0882514\ttotal: 8.64s\tremaining: 2.97s\n",
      "930:\tlearn: 0.0881545\ttotal: 8.64s\tremaining: 2.96s\n",
      "931:\tlearn: 0.0880779\ttotal: 8.65s\tremaining: 2.95s\n",
      "932:\tlearn: 0.0879413\ttotal: 8.65s\tremaining: 2.94s\n",
      "933:\tlearn: 0.0877810\ttotal: 8.66s\tremaining: 2.93s\n",
      "934:\tlearn: 0.0876904\ttotal: 8.66s\tremaining: 2.92s\n",
      "935:\tlearn: 0.0875931\ttotal: 8.67s\tremaining: 2.91s\n",
      "936:\tlearn: 0.0874969\ttotal: 8.68s\tremaining: 2.9s\n",
      "937:\tlearn: 0.0874392\ttotal: 8.68s\tremaining: 2.89s\n",
      "938:\tlearn: 0.0873342\ttotal: 8.69s\tremaining: 2.88s\n",
      "939:\tlearn: 0.0872524\ttotal: 8.7s\tremaining: 2.87s\n",
      "940:\tlearn: 0.0871717\ttotal: 8.71s\tremaining: 2.86s\n",
      "941:\tlearn: 0.0870407\ttotal: 8.72s\tremaining: 2.85s\n",
      "942:\tlearn: 0.0869912\ttotal: 8.73s\tremaining: 2.84s\n",
      "943:\tlearn: 0.0869056\ttotal: 8.73s\tremaining: 2.83s\n",
      "944:\tlearn: 0.0868378\ttotal: 8.74s\tremaining: 2.82s\n",
      "945:\tlearn: 0.0867794\ttotal: 8.77s\tremaining: 2.82s\n",
      "946:\tlearn: 0.0867064\ttotal: 8.78s\tremaining: 2.81s\n",
      "947:\tlearn: 0.0866223\ttotal: 8.78s\tremaining: 2.8s\n",
      "948:\tlearn: 0.0865243\ttotal: 8.79s\tremaining: 2.79s\n",
      "949:\tlearn: 0.0864364\ttotal: 8.8s\tremaining: 2.78s\n",
      "950:\tlearn: 0.0863442\ttotal: 8.81s\tremaining: 2.77s\n",
      "951:\tlearn: 0.0863056\ttotal: 8.81s\tremaining: 2.76s\n",
      "952:\tlearn: 0.0861690\ttotal: 8.82s\tremaining: 2.75s\n",
      "953:\tlearn: 0.0860671\ttotal: 8.83s\tremaining: 2.74s\n",
      "954:\tlearn: 0.0860025\ttotal: 8.84s\tremaining: 2.73s\n",
      "955:\tlearn: 0.0858844\ttotal: 8.84s\tremaining: 2.72s\n",
      "956:\tlearn: 0.0858069\ttotal: 8.86s\tremaining: 2.71s\n",
      "957:\tlearn: 0.0857730\ttotal: 8.88s\tremaining: 2.71s\n",
      "958:\tlearn: 0.0856283\ttotal: 8.88s\tremaining: 2.69s\n",
      "959:\tlearn: 0.0854944\ttotal: 8.89s\tremaining: 2.69s\n",
      "960:\tlearn: 0.0854113\ttotal: 8.89s\tremaining: 2.67s\n",
      "961:\tlearn: 0.0853631\ttotal: 8.9s\tremaining: 2.66s\n",
      "962:\tlearn: 0.0852729\ttotal: 8.92s\tremaining: 2.66s\n",
      "963:\tlearn: 0.0850573\ttotal: 8.93s\tremaining: 2.65s\n",
      "964:\tlearn: 0.0849574\ttotal: 8.94s\tremaining: 2.64s\n",
      "965:\tlearn: 0.0848677\ttotal: 8.94s\tremaining: 2.63s\n",
      "966:\tlearn: 0.0848190\ttotal: 8.95s\tremaining: 2.62s\n",
      "967:\tlearn: 0.0847519\ttotal: 8.95s\tremaining: 2.61s\n",
      "968:\tlearn: 0.0846679\ttotal: 8.96s\tremaining: 2.6s\n",
      "969:\tlearn: 0.0845909\ttotal: 8.97s\tremaining: 2.59s\n",
      "970:\tlearn: 0.0844822\ttotal: 8.98s\tremaining: 2.58s\n",
      "971:\tlearn: 0.0843771\ttotal: 8.99s\tremaining: 2.57s\n",
      "972:\tlearn: 0.0842741\ttotal: 8.99s\tremaining: 2.56s\n",
      "973:\tlearn: 0.0841969\ttotal: 9s\tremaining: 2.55s\n",
      "974:\tlearn: 0.0841228\ttotal: 9.01s\tremaining: 2.54s\n",
      "975:\tlearn: 0.0839975\ttotal: 9.03s\tremaining: 2.53s\n",
      "976:\tlearn: 0.0839547\ttotal: 9.03s\tremaining: 2.52s\n",
      "977:\tlearn: 0.0838795\ttotal: 9.04s\tremaining: 2.51s\n",
      "978:\tlearn: 0.0837501\ttotal: 9.05s\tremaining: 2.51s\n",
      "979:\tlearn: 0.0836680\ttotal: 9.06s\tremaining: 2.5s\n",
      "980:\tlearn: 0.0836369\ttotal: 9.08s\tremaining: 2.49s\n",
      "981:\tlearn: 0.0835047\ttotal: 9.09s\tremaining: 2.48s\n",
      "982:\tlearn: 0.0833991\ttotal: 9.1s\tremaining: 2.47s\n",
      "983:\tlearn: 0.0833688\ttotal: 9.11s\tremaining: 2.46s\n",
      "984:\tlearn: 0.0832788\ttotal: 9.13s\tremaining: 2.46s\n",
      "985:\tlearn: 0.0831604\ttotal: 9.13s\tremaining: 2.44s\n",
      "986:\tlearn: 0.0830925\ttotal: 9.14s\tremaining: 2.44s\n",
      "987:\tlearn: 0.0829581\ttotal: 9.15s\tremaining: 2.43s\n",
      "988:\tlearn: 0.0828436\ttotal: 9.15s\tremaining: 2.42s\n",
      "989:\tlearn: 0.0827140\ttotal: 9.16s\tremaining: 2.41s\n",
      "990:\tlearn: 0.0826803\ttotal: 9.17s\tremaining: 2.4s\n",
      "991:\tlearn: 0.0825973\ttotal: 9.17s\tremaining: 2.38s\n",
      "992:\tlearn: 0.0825063\ttotal: 9.19s\tremaining: 2.38s\n",
      "993:\tlearn: 0.0824314\ttotal: 9.19s\tremaining: 2.37s\n",
      "994:\tlearn: 0.0823651\ttotal: 9.2s\tremaining: 2.36s\n",
      "995:\tlearn: 0.0822931\ttotal: 9.21s\tremaining: 2.35s\n",
      "996:\tlearn: 0.0822260\ttotal: 9.22s\tremaining: 2.34s\n",
      "997:\tlearn: 0.0821951\ttotal: 9.22s\tremaining: 2.33s\n",
      "998:\tlearn: 0.0821074\ttotal: 9.23s\tremaining: 2.32s\n",
      "999:\tlearn: 0.0819741\ttotal: 9.26s\tremaining: 2.31s\n",
      "1000:\tlearn: 0.0819221\ttotal: 9.27s\tremaining: 2.31s\n"
     ]
    },
    {
     "name": "stdout",
     "output_type": "stream",
     "text": [
      "1001:\tlearn: 0.0818636\ttotal: 9.28s\tremaining: 2.29s\n",
      "1002:\tlearn: 0.0817734\ttotal: 9.29s\tremaining: 2.29s\n",
      "1003:\tlearn: 0.0817040\ttotal: 9.31s\tremaining: 2.28s\n",
      "1004:\tlearn: 0.0816212\ttotal: 9.32s\tremaining: 2.27s\n",
      "1005:\tlearn: 0.0814638\ttotal: 9.33s\tremaining: 2.26s\n",
      "1006:\tlearn: 0.0814062\ttotal: 9.33s\tremaining: 2.25s\n",
      "1007:\tlearn: 0.0813398\ttotal: 9.35s\tremaining: 2.24s\n",
      "1008:\tlearn: 0.0811732\ttotal: 9.36s\tremaining: 2.23s\n",
      "1009:\tlearn: 0.0811127\ttotal: 9.37s\tremaining: 2.23s\n",
      "1010:\tlearn: 0.0810248\ttotal: 9.37s\tremaining: 2.21s\n",
      "1011:\tlearn: 0.0809860\ttotal: 9.38s\tremaining: 2.21s\n",
      "1012:\tlearn: 0.0808710\ttotal: 9.39s\tremaining: 2.2s\n",
      "1013:\tlearn: 0.0807616\ttotal: 9.4s\tremaining: 2.19s\n",
      "1014:\tlearn: 0.0806951\ttotal: 9.41s\tremaining: 2.18s\n",
      "1015:\tlearn: 0.0805931\ttotal: 9.41s\tremaining: 2.17s\n",
      "1016:\tlearn: 0.0804672\ttotal: 9.42s\tremaining: 2.16s\n",
      "1017:\tlearn: 0.0803786\ttotal: 9.42s\tremaining: 2.15s\n",
      "1018:\tlearn: 0.0803039\ttotal: 9.43s\tremaining: 2.14s\n",
      "1019:\tlearn: 0.0802362\ttotal: 9.44s\tremaining: 2.13s\n",
      "1020:\tlearn: 0.0800934\ttotal: 9.44s\tremaining: 2.12s\n",
      "1021:\tlearn: 0.0800242\ttotal: 9.45s\tremaining: 2.11s\n",
      "1022:\tlearn: 0.0799754\ttotal: 9.46s\tremaining: 2.1s\n",
      "1023:\tlearn: 0.0798685\ttotal: 9.47s\tremaining: 2.09s\n",
      "1024:\tlearn: 0.0798273\ttotal: 9.47s\tremaining: 2.08s\n",
      "1025:\tlearn: 0.0797115\ttotal: 9.48s\tremaining: 2.07s\n",
      "1026:\tlearn: 0.0796219\ttotal: 9.48s\tremaining: 2.06s\n",
      "1027:\tlearn: 0.0795243\ttotal: 9.49s\tremaining: 2.05s\n",
      "1028:\tlearn: 0.0793579\ttotal: 9.5s\tremaining: 2.04s\n",
      "1029:\tlearn: 0.0792744\ttotal: 9.51s\tremaining: 2.03s\n",
      "1030:\tlearn: 0.0792187\ttotal: 9.53s\tremaining: 2.02s\n",
      "1031:\tlearn: 0.0791741\ttotal: 9.53s\tremaining: 2.01s\n",
      "1032:\tlearn: 0.0791166\ttotal: 9.54s\tremaining: 2s\n",
      "1033:\tlearn: 0.0789880\ttotal: 9.55s\tremaining: 2s\n",
      "1034:\tlearn: 0.0788387\ttotal: 9.57s\tremaining: 1.99s\n",
      "1035:\tlearn: 0.0787893\ttotal: 9.58s\tremaining: 1.98s\n",
      "1036:\tlearn: 0.0786844\ttotal: 9.58s\tremaining: 1.97s\n",
      "1037:\tlearn: 0.0786022\ttotal: 9.6s\tremaining: 1.96s\n",
      "1038:\tlearn: 0.0784684\ttotal: 9.61s\tremaining: 1.95s\n",
      "1039:\tlearn: 0.0783867\ttotal: 9.61s\tremaining: 1.94s\n",
      "1040:\tlearn: 0.0782560\ttotal: 9.63s\tremaining: 1.93s\n",
      "1041:\tlearn: 0.0781421\ttotal: 9.64s\tremaining: 1.92s\n",
      "1042:\tlearn: 0.0780834\ttotal: 9.65s\tremaining: 1.92s\n",
      "1043:\tlearn: 0.0779831\ttotal: 9.65s\tremaining: 1.91s\n",
      "1044:\tlearn: 0.0779142\ttotal: 9.66s\tremaining: 1.9s\n",
      "1045:\tlearn: 0.0778579\ttotal: 9.67s\tremaining: 1.89s\n",
      "1046:\tlearn: 0.0777705\ttotal: 9.67s\tremaining: 1.88s\n",
      "1047:\tlearn: 0.0777186\ttotal: 9.68s\tremaining: 1.86s\n",
      "1048:\tlearn: 0.0776468\ttotal: 9.68s\tremaining: 1.85s\n",
      "1049:\tlearn: 0.0775902\ttotal: 9.69s\tremaining: 1.84s\n",
      "1050:\tlearn: 0.0775020\ttotal: 9.7s\tremaining: 1.83s\n",
      "1051:\tlearn: 0.0773972\ttotal: 9.7s\tremaining: 1.82s\n",
      "1052:\tlearn: 0.0773562\ttotal: 9.71s\tremaining: 1.81s\n",
      "1053:\tlearn: 0.0773117\ttotal: 9.71s\tremaining: 1.81s\n",
      "1054:\tlearn: 0.0771989\ttotal: 9.73s\tremaining: 1.8s\n",
      "1055:\tlearn: 0.0771103\ttotal: 9.74s\tremaining: 1.79s\n",
      "1056:\tlearn: 0.0770695\ttotal: 9.74s\tremaining: 1.78s\n",
      "1057:\tlearn: 0.0769885\ttotal: 9.75s\tremaining: 1.77s\n",
      "1058:\tlearn: 0.0769388\ttotal: 9.75s\tremaining: 1.76s\n",
      "1059:\tlearn: 0.0768680\ttotal: 9.76s\tremaining: 1.75s\n",
      "1060:\tlearn: 0.0768003\ttotal: 9.77s\tremaining: 1.74s\n",
      "1061:\tlearn: 0.0767321\ttotal: 9.79s\tremaining: 1.73s\n",
      "1062:\tlearn: 0.0765811\ttotal: 9.79s\tremaining: 1.72s\n",
      "1063:\tlearn: 0.0765121\ttotal: 9.8s\tremaining: 1.71s\n",
      "1064:\tlearn: 0.0764258\ttotal: 9.82s\tremaining: 1.71s\n",
      "1065:\tlearn: 0.0763928\ttotal: 9.82s\tremaining: 1.7s\n",
      "1066:\tlearn: 0.0762751\ttotal: 9.83s\tremaining: 1.69s\n",
      "1067:\tlearn: 0.0762531\ttotal: 9.84s\tremaining: 1.68s\n",
      "1068:\tlearn: 0.0762146\ttotal: 9.85s\tremaining: 1.67s\n",
      "1069:\tlearn: 0.0761576\ttotal: 9.85s\tremaining: 1.66s\n",
      "1070:\tlearn: 0.0761205\ttotal: 9.86s\tremaining: 1.65s\n",
      "1071:\tlearn: 0.0760642\ttotal: 9.87s\tremaining: 1.64s\n",
      "1072:\tlearn: 0.0759941\ttotal: 9.88s\tremaining: 1.63s\n",
      "1073:\tlearn: 0.0759561\ttotal: 9.88s\tremaining: 1.62s\n",
      "1074:\tlearn: 0.0758961\ttotal: 9.89s\tremaining: 1.61s\n",
      "1075:\tlearn: 0.0758644\ttotal: 9.89s\tremaining: 1.6s\n",
      "1076:\tlearn: 0.0757554\ttotal: 9.91s\tremaining: 1.59s\n",
      "1077:\tlearn: 0.0756755\ttotal: 9.92s\tremaining: 1.58s\n",
      "1078:\tlearn: 0.0756091\ttotal: 9.93s\tremaining: 1.57s\n",
      "1079:\tlearn: 0.0755167\ttotal: 9.94s\tremaining: 1.56s\n",
      "1080:\tlearn: 0.0754857\ttotal: 9.95s\tremaining: 1.55s\n",
      "1081:\tlearn: 0.0754198\ttotal: 9.95s\tremaining: 1.54s\n",
      "1082:\tlearn: 0.0753327\ttotal: 9.96s\tremaining: 1.53s\n",
      "1083:\tlearn: 0.0752726\ttotal: 9.96s\tremaining: 1.52s\n",
      "1084:\tlearn: 0.0752310\ttotal: 9.97s\tremaining: 1.52s\n",
      "1085:\tlearn: 0.0751546\ttotal: 9.97s\tremaining: 1.51s\n",
      "1086:\tlearn: 0.0751197\ttotal: 9.98s\tremaining: 1.5s\n",
      "1087:\tlearn: 0.0750828\ttotal: 10s\tremaining: 1.49s\n",
      "1088:\tlearn: 0.0750293\ttotal: 10s\tremaining: 1.48s\n",
      "1089:\tlearn: 0.0749700\ttotal: 10s\tremaining: 1.47s\n",
      "1090:\tlearn: 0.0748689\ttotal: 10s\tremaining: 1.46s\n",
      "1091:\tlearn: 0.0748468\ttotal: 10s\tremaining: 1.45s\n",
      "1092:\tlearn: 0.0747679\ttotal: 10s\tremaining: 1.44s\n",
      "1093:\tlearn: 0.0746870\ttotal: 10s\tremaining: 1.43s\n",
      "1094:\tlearn: 0.0746297\ttotal: 10s\tremaining: 1.42s\n",
      "1095:\tlearn: 0.0746064\ttotal: 10.1s\tremaining: 1.41s\n",
      "1096:\tlearn: 0.0745592\ttotal: 10.1s\tremaining: 1.4s\n",
      "1097:\tlearn: 0.0744410\ttotal: 10.1s\tremaining: 1.39s\n",
      "1098:\tlearn: 0.0744005\ttotal: 10.1s\tremaining: 1.39s\n",
      "1099:\tlearn: 0.0743365\ttotal: 10.1s\tremaining: 1.38s\n",
      "1100:\tlearn: 0.0742798\ttotal: 10.1s\tremaining: 1.37s\n",
      "1101:\tlearn: 0.0741982\ttotal: 10.1s\tremaining: 1.36s\n",
      "1102:\tlearn: 0.0741812\ttotal: 10.1s\tremaining: 1.35s\n",
      "1103:\tlearn: 0.0741067\ttotal: 10.1s\tremaining: 1.34s\n",
      "1104:\tlearn: 0.0739933\ttotal: 10.1s\tremaining: 1.33s\n",
      "1105:\tlearn: 0.0739783\ttotal: 10.1s\tremaining: 1.32s\n",
      "1106:\tlearn: 0.0738450\ttotal: 10.1s\tremaining: 1.31s\n",
      "1107:\tlearn: 0.0737548\ttotal: 10.2s\tremaining: 1.3s\n",
      "1108:\tlearn: 0.0737348\ttotal: 10.2s\tremaining: 1.29s\n",
      "1109:\tlearn: 0.0736560\ttotal: 10.2s\tremaining: 1.28s\n",
      "1110:\tlearn: 0.0735840\ttotal: 10.2s\tremaining: 1.27s\n",
      "1111:\tlearn: 0.0735290\ttotal: 10.2s\tremaining: 1.26s\n",
      "1112:\tlearn: 0.0734686\ttotal: 10.2s\tremaining: 1.25s\n",
      "1113:\tlearn: 0.0733751\ttotal: 10.2s\tremaining: 1.25s\n",
      "1114:\tlearn: 0.0733228\ttotal: 10.2s\tremaining: 1.24s\n",
      "1115:\tlearn: 0.0732879\ttotal: 10.2s\tremaining: 1.23s\n",
      "1116:\tlearn: 0.0732103\ttotal: 10.2s\tremaining: 1.22s\n",
      "1117:\tlearn: 0.0731328\ttotal: 10.2s\tremaining: 1.21s\n",
      "1118:\tlearn: 0.0730617\ttotal: 10.3s\tremaining: 1.2s\n",
      "1119:\tlearn: 0.0729856\ttotal: 10.3s\tremaining: 1.19s\n",
      "1120:\tlearn: 0.0729416\ttotal: 10.3s\tremaining: 1.18s\n",
      "1121:\tlearn: 0.0728846\ttotal: 10.3s\tremaining: 1.17s\n",
      "1122:\tlearn: 0.0728355\ttotal: 10.3s\tremaining: 1.16s\n",
      "1123:\tlearn: 0.0728017\ttotal: 10.3s\tremaining: 1.15s\n",
      "1124:\tlearn: 0.0727597\ttotal: 10.3s\tremaining: 1.14s\n",
      "1125:\tlearn: 0.0726200\ttotal: 10.3s\tremaining: 1.14s\n",
      "1126:\tlearn: 0.0725606\ttotal: 10.3s\tremaining: 1.13s\n",
      "1127:\tlearn: 0.0724745\ttotal: 10.3s\tremaining: 1.12s\n",
      "1128:\tlearn: 0.0723810\ttotal: 10.3s\tremaining: 1.11s\n",
      "1129:\tlearn: 0.0723124\ttotal: 10.3s\tremaining: 1.1s\n",
      "1130:\tlearn: 0.0722725\ttotal: 10.3s\tremaining: 1.09s\n",
      "1131:\tlearn: 0.0721821\ttotal: 10.4s\tremaining: 1.08s\n",
      "1132:\tlearn: 0.0721230\ttotal: 10.4s\tremaining: 1.07s\n",
      "1133:\tlearn: 0.0720848\ttotal: 10.4s\tremaining: 1.06s\n",
      "1134:\tlearn: 0.0720234\ttotal: 10.4s\tremaining: 1.05s\n",
      "1135:\tlearn: 0.0719696\ttotal: 10.4s\tremaining: 1.04s\n",
      "1136:\tlearn: 0.0719398\ttotal: 10.4s\tremaining: 1.03s\n",
      "1137:\tlearn: 0.0718724\ttotal: 10.4s\tremaining: 1.02s\n",
      "1138:\tlearn: 0.0717449\ttotal: 10.4s\tremaining: 1.02s\n",
      "1139:\tlearn: 0.0716632\ttotal: 10.4s\tremaining: 1.01s\n",
      "1140:\tlearn: 0.0716012\ttotal: 10.4s\tremaining: 997ms\n",
      "1141:\tlearn: 0.0715903\ttotal: 10.4s\tremaining: 988ms\n",
      "1142:\tlearn: 0.0715584\ttotal: 10.5s\tremaining: 979ms\n",
      "1143:\tlearn: 0.0714899\ttotal: 10.5s\tremaining: 970ms\n",
      "1144:\tlearn: 0.0714565\ttotal: 10.5s\tremaining: 960ms\n",
      "1145:\tlearn: 0.0713866\ttotal: 10.5s\tremaining: 951ms\n",
      "1146:\tlearn: 0.0712969\ttotal: 10.5s\tremaining: 942ms\n",
      "1147:\tlearn: 0.0712028\ttotal: 10.5s\tremaining: 932ms\n",
      "1148:\tlearn: 0.0710568\ttotal: 10.5s\tremaining: 923ms\n",
      "1149:\tlearn: 0.0709697\ttotal: 10.5s\tremaining: 913ms\n",
      "1150:\tlearn: 0.0709007\ttotal: 10.5s\tremaining: 905ms\n",
      "1151:\tlearn: 0.0708379\ttotal: 10.5s\tremaining: 896ms\n",
      "1152:\tlearn: 0.0707933\ttotal: 10.5s\tremaining: 887ms\n",
      "1153:\tlearn: 0.0706828\ttotal: 10.5s\tremaining: 878ms\n",
      "1154:\tlearn: 0.0706258\ttotal: 10.6s\tremaining: 868ms\n",
      "1155:\tlearn: 0.0705853\ttotal: 10.6s\tremaining: 859ms\n",
      "1156:\tlearn: 0.0705263\ttotal: 10.6s\tremaining: 849ms\n",
      "1157:\tlearn: 0.0704768\ttotal: 10.6s\tremaining: 840ms\n",
      "1158:\tlearn: 0.0704296\ttotal: 10.6s\tremaining: 831ms\n",
      "1159:\tlearn: 0.0703354\ttotal: 10.6s\tremaining: 822ms\n",
      "1160:\tlearn: 0.0702771\ttotal: 10.6s\tremaining: 812ms\n",
      "1161:\tlearn: 0.0702579\ttotal: 10.6s\tremaining: 803ms\n",
      "1162:\tlearn: 0.0702017\ttotal: 10.6s\tremaining: 794ms\n",
      "1163:\tlearn: 0.0701829\ttotal: 10.6s\tremaining: 784ms\n",
      "1164:\tlearn: 0.0701087\ttotal: 10.6s\tremaining: 775ms\n",
      "1165:\tlearn: 0.0699784\ttotal: 10.6s\tremaining: 766ms\n",
      "1166:\tlearn: 0.0699580\ttotal: 10.6s\tremaining: 757ms\n",
      "1167:\tlearn: 0.0698625\ttotal: 10.7s\tremaining: 749ms\n",
      "1168:\tlearn: 0.0697892\ttotal: 10.7s\tremaining: 740ms\n",
      "1169:\tlearn: 0.0697203\ttotal: 10.7s\tremaining: 730ms\n",
      "1170:\tlearn: 0.0696211\ttotal: 10.7s\tremaining: 721ms\n"
     ]
    },
    {
     "name": "stdout",
     "output_type": "stream",
     "text": [
      "1171:\tlearn: 0.0695693\ttotal: 10.7s\tremaining: 712ms\n",
      "1172:\tlearn: 0.0695226\ttotal: 10.7s\tremaining: 702ms\n",
      "1173:\tlearn: 0.0694651\ttotal: 10.7s\tremaining: 693ms\n",
      "1174:\tlearn: 0.0694271\ttotal: 10.7s\tremaining: 684ms\n",
      "1175:\tlearn: 0.0693392\ttotal: 10.7s\tremaining: 675ms\n",
      "1176:\tlearn: 0.0692654\ttotal: 10.7s\tremaining: 665ms\n",
      "1177:\tlearn: 0.0692109\ttotal: 10.7s\tremaining: 656ms\n",
      "1178:\tlearn: 0.0691051\ttotal: 10.8s\tremaining: 648ms\n",
      "1179:\tlearn: 0.0690757\ttotal: 10.8s\tremaining: 639ms\n",
      "1180:\tlearn: 0.0690239\ttotal: 10.8s\tremaining: 630ms\n",
      "1181:\tlearn: 0.0689638\ttotal: 10.8s\tremaining: 620ms\n",
      "1182:\tlearn: 0.0689227\ttotal: 10.8s\tremaining: 611ms\n",
      "1183:\tlearn: 0.0688568\ttotal: 10.8s\tremaining: 602ms\n",
      "1184:\tlearn: 0.0688315\ttotal: 10.8s\tremaining: 593ms\n",
      "1185:\tlearn: 0.0687531\ttotal: 10.8s\tremaining: 584ms\n",
      "1186:\tlearn: 0.0687210\ttotal: 10.8s\tremaining: 575ms\n",
      "1187:\tlearn: 0.0686759\ttotal: 10.8s\tremaining: 565ms\n",
      "1188:\tlearn: 0.0686078\ttotal: 10.8s\tremaining: 556ms\n",
      "1189:\tlearn: 0.0685656\ttotal: 10.8s\tremaining: 547ms\n",
      "1190:\tlearn: 0.0684350\ttotal: 10.9s\tremaining: 538ms\n",
      "1191:\tlearn: 0.0683964\ttotal: 10.9s\tremaining: 528ms\n",
      "1192:\tlearn: 0.0683559\ttotal: 10.9s\tremaining: 519ms\n",
      "1193:\tlearn: 0.0682574\ttotal: 10.9s\tremaining: 510ms\n",
      "1194:\tlearn: 0.0681644\ttotal: 10.9s\tremaining: 501ms\n",
      "1195:\tlearn: 0.0681270\ttotal: 10.9s\tremaining: 492ms\n",
      "1196:\tlearn: 0.0680663\ttotal: 10.9s\tremaining: 483ms\n",
      "1197:\tlearn: 0.0680132\ttotal: 10.9s\tremaining: 474ms\n",
      "1198:\tlearn: 0.0679410\ttotal: 10.9s\tremaining: 465ms\n",
      "1199:\tlearn: 0.0678750\ttotal: 10.9s\tremaining: 456ms\n",
      "1200:\tlearn: 0.0678186\ttotal: 10.9s\tremaining: 447ms\n",
      "1201:\tlearn: 0.0677982\ttotal: 10.9s\tremaining: 437ms\n",
      "1202:\tlearn: 0.0677152\ttotal: 11s\tremaining: 428ms\n",
      "1203:\tlearn: 0.0676539\ttotal: 11s\tremaining: 419ms\n",
      "1204:\tlearn: 0.0675051\ttotal: 11s\tremaining: 410ms\n",
      "1205:\tlearn: 0.0674257\ttotal: 11s\tremaining: 400ms\n",
      "1206:\tlearn: 0.0673655\ttotal: 11s\tremaining: 391ms\n",
      "1207:\tlearn: 0.0673092\ttotal: 11s\tremaining: 382ms\n",
      "1208:\tlearn: 0.0672286\ttotal: 11s\tremaining: 373ms\n",
      "1209:\tlearn: 0.0670811\ttotal: 11s\tremaining: 364ms\n",
      "1210:\tlearn: 0.0670295\ttotal: 11s\tremaining: 355ms\n",
      "1211:\tlearn: 0.0669733\ttotal: 11s\tremaining: 346ms\n",
      "1212:\tlearn: 0.0668845\ttotal: 11s\tremaining: 336ms\n",
      "1213:\tlearn: 0.0668158\ttotal: 11s\tremaining: 327ms\n",
      "1214:\tlearn: 0.0667848\ttotal: 11s\tremaining: 318ms\n",
      "1215:\tlearn: 0.0667094\ttotal: 11s\tremaining: 309ms\n",
      "1216:\tlearn: 0.0666003\ttotal: 11.1s\tremaining: 300ms\n",
      "1217:\tlearn: 0.0665338\ttotal: 11.1s\tremaining: 291ms\n",
      "1218:\tlearn: 0.0664986\ttotal: 11.1s\tremaining: 282ms\n",
      "1219:\tlearn: 0.0664207\ttotal: 11.1s\tremaining: 273ms\n",
      "1220:\tlearn: 0.0663466\ttotal: 11.1s\tremaining: 264ms\n",
      "1221:\tlearn: 0.0662379\ttotal: 11.1s\tremaining: 255ms\n",
      "1222:\tlearn: 0.0661341\ttotal: 11.2s\tremaining: 246ms\n",
      "1223:\tlearn: 0.0660867\ttotal: 11.2s\tremaining: 237ms\n",
      "1224:\tlearn: 0.0660259\ttotal: 11.2s\tremaining: 228ms\n",
      "1225:\tlearn: 0.0659788\ttotal: 11.2s\tremaining: 219ms\n",
      "1226:\tlearn: 0.0659287\ttotal: 11.2s\tremaining: 210ms\n",
      "1227:\tlearn: 0.0658665\ttotal: 11.2s\tremaining: 201ms\n",
      "1228:\tlearn: 0.0658018\ttotal: 11.2s\tremaining: 192ms\n",
      "1229:\tlearn: 0.0657364\ttotal: 11.2s\tremaining: 183ms\n",
      "1230:\tlearn: 0.0657107\ttotal: 11.3s\tremaining: 174ms\n",
      "1231:\tlearn: 0.0656686\ttotal: 11.3s\tremaining: 165ms\n",
      "1232:\tlearn: 0.0656335\ttotal: 11.3s\tremaining: 155ms\n",
      "1233:\tlearn: 0.0656123\ttotal: 11.3s\tremaining: 146ms\n",
      "1234:\tlearn: 0.0655657\ttotal: 11.3s\tremaining: 137ms\n",
      "1235:\tlearn: 0.0655030\ttotal: 11.3s\tremaining: 128ms\n",
      "1236:\tlearn: 0.0654170\ttotal: 11.3s\tremaining: 119ms\n",
      "1237:\tlearn: 0.0653293\ttotal: 11.3s\tremaining: 110ms\n",
      "1238:\tlearn: 0.0652362\ttotal: 11.3s\tremaining: 101ms\n",
      "1239:\tlearn: 0.0651810\ttotal: 11.3s\tremaining: 91.5ms\n",
      "1240:\tlearn: 0.0651445\ttotal: 11.4s\tremaining: 82.4ms\n",
      "1241:\tlearn: 0.0650372\ttotal: 11.4s\tremaining: 73.3ms\n",
      "1242:\tlearn: 0.0650110\ttotal: 11.4s\tremaining: 64.1ms\n",
      "1243:\tlearn: 0.0649600\ttotal: 11.4s\tremaining: 55ms\n",
      "1244:\tlearn: 0.0649195\ttotal: 11.4s\tremaining: 45.8ms\n",
      "1245:\tlearn: 0.0648558\ttotal: 11.4s\tremaining: 36.7ms\n",
      "1246:\tlearn: 0.0647967\ttotal: 11.4s\tremaining: 27.5ms\n",
      "1247:\tlearn: 0.0647293\ttotal: 11.4s\tremaining: 18.3ms\n",
      "1248:\tlearn: 0.0646444\ttotal: 11.4s\tremaining: 9.16ms\n",
      "1249:\tlearn: 0.0646098\ttotal: 11.4s\tremaining: 0us\n"
     ]
    },
    {
     "data": {
      "text/plain": [
       "RandomizedSearchCV(cv=5,\n",
       "                   estimator=<catboost.core.CatBoostClassifier object at 0x000002AF78D30C10>,\n",
       "                   n_jobs=-1,\n",
       "                   param_distributions={'iterations': [10, 50, 100, 200, 500,\n",
       "                                                       1000, 1250],\n",
       "                                        'learning_rate': [0.0001, 0.001, 0.01,\n",
       "                                                          0.1, 1]},\n",
       "                   random_state=12345, scoring='roc_auc')"
      ]
     },
     "execution_count": 107,
     "metadata": {},
     "output_type": "execute_result"
    }
   ],
   "source": [
    "clf_cat = RandomizedSearchCV(\n",
    "    model_cat, params_cat, n_jobs=-1, scoring='roc_auc', cv=5, verbose=0, random_state=12345)\n",
    "\n",
    "clf_cat.fit(features_train_valid, target_train_valid)"
   ]
  },
  {
   "cell_type": "code",
   "execution_count": 108,
   "metadata": {},
   "outputs": [
    {
     "data": {
      "text/plain": [
       "{'learning_rate': 0.1, 'iterations': 1250}"
      ]
     },
     "execution_count": 108,
     "metadata": {},
     "output_type": "execute_result"
    }
   ],
   "source": [
    "clf_cat.best_params_"
   ]
  },
  {
   "cell_type": "code",
   "execution_count": 109,
   "metadata": {},
   "outputs": [],
   "source": [
    "probabilities_test_cat = clf_cat.predict_proba(features_test)\n",
    "probabilities_one_test_cat = probabilities_test_cat[:, 1]\n",
    "\n",
    "auc_roc_cat = roc_auc_score(target_test, probabilities_one_test_cat)"
   ]
  },
  {
   "cell_type": "code",
   "execution_count": 110,
   "metadata": {
    "scrolled": true
   },
   "outputs": [
    {
     "name": "stdout",
     "output_type": "stream",
     "text": [
      "Значение целевой метрики для модели CatBoost: 0.9059564387133867\n"
     ]
    }
   ],
   "source": [
    "print('Значение целевой метрики для модели CatBoost:', auc_roc_cat)"
   ]
  },
  {
   "cell_type": "code",
   "execution_count": 111,
   "metadata": {},
   "outputs": [],
   "source": [
    "startTime = time.time()\n",
    "predict_cat = clf_cat.predict(features_test)\n",
    "endTime = time.time()\n",
    "totalTimePred_cat = endTime - startTime"
   ]
  },
  {
   "cell_type": "code",
   "execution_count": 112,
   "metadata": {},
   "outputs": [],
   "source": [
    "accuracy_test_cat = accuracy_score(target_test, predict_cat)"
   ]
  },
  {
   "cell_type": "code",
   "execution_count": 113,
   "metadata": {
    "scrolled": true
   },
   "outputs": [
    {
     "name": "stdout",
     "output_type": "stream",
     "text": [
      "Значение дополнительной метрики для модели CatBoost: 0.8599857853589197\n"
     ]
    }
   ],
   "source": [
    "print('Значение дополнительной метрики для модели CatBoost:', accuracy_test_cat)"
   ]
  },
  {
   "cell_type": "markdown",
   "metadata": {},
   "source": [
    "#### График важности признаков для модели"
   ]
  },
  {
   "cell_type": "code",
   "execution_count": 114,
   "metadata": {},
   "outputs": [],
   "source": [
    "model_cat = CatBoostClassifier(loss_function=\"Logloss\", iterations=1250, learning_rate=0.1, verbose=0) "
   ]
  },
  {
   "cell_type": "code",
   "execution_count": 115,
   "metadata": {},
   "outputs": [
    {
     "data": {
      "image/png": "[encoded data removed]",
      "text/plain": [
       "<Figure size 1152x648 with 1 Axes>"
      ]
     },
     "metadata": {
      "needs_background": "light"
     },
     "output_type": "display_data"
    }
   ],
   "source": [
    "draw_feature_importance(model_cat)"
   ]
  },
  {
   "cell_type": "markdown",
   "metadata": {},
   "source": [
    "**По важности признаков распределения первых трёх для данной модели:**\n",
    "- `life_time` - время жизни клиента;\n",
    "- `MonthlyCharges` - величина месячного платежа;\n",
    "- `all_products` - количество подключенных услуг."
   ]
  },
  {
   "cell_type": "markdown",
   "metadata": {},
   "source": [
    "### Модель LightGBM"
   ]
  },
  {
   "cell_type": "code",
   "execution_count": 116,
   "metadata": {},
   "outputs": [],
   "source": [
    "lgbm = LGBMClassifier(random_state=12345)"
   ]
  },
  {
   "cell_type": "code",
   "execution_count": 117,
   "metadata": {},
   "outputs": [],
   "source": [
    "params_lgbm = {'n_estimators': (10, 50, 100, 500, 1000),\n",
    "              'max_depth': (10, 50, 100, 500, 1000, None),\n",
    "               'num_leaves': (50, 100, 500, 1000, 5000, None),\n",
    "               'min_data_in_leaf': (50, 100, 250, 500, 1000, None)\n",
    "              }"
   ]
  },
  {
   "cell_type": "code",
   "execution_count": 118,
   "metadata": {},
   "outputs": [
    {
     "name": "stdout",
     "output_type": "stream",
     "text": [
      "Fitting 5 folds for each of 10 candidates, totalling 50 fits\n"
     ]
    },
    {
     "name": "stderr",
     "output_type": "stream",
     "text": [
      "[Parallel(n_jobs=-1)]: Using backend LokyBackend with 12 concurrent workers.\n",
      "[Parallel(n_jobs=-1)]: Done  26 tasks      | elapsed:    3.0s\n",
      "[Parallel(n_jobs=-1)]: Done  50 out of  50 | elapsed:    4.7s finished\n"
     ]
    },
    {
     "data": {
      "text/plain": [
       "RandomizedSearchCV(cv=5, estimator=LGBMClassifier(random_state=12345),\n",
       "                   n_jobs=-1,\n",
       "                   param_distributions={'max_depth': (10, 50, 100, 500, 1000,\n",
       "                                                      None),\n",
       "                                        'min_data_in_leaf': (50, 100, 250, 500,\n",
       "                                                             1000, None),\n",
       "                                        'n_estimators': (10, 50, 100, 500,\n",
       "                                                         1000),\n",
       "                                        'num_leaves': (50, 100, 500, 1000, 5000,\n",
       "                                                       None)},\n",
       "                   random_state=12345, scoring='roc_auc', verbose=1)"
      ]
     },
     "execution_count": 118,
     "metadata": {},
     "output_type": "execute_result"
    }
   ],
   "source": [
    "clf_lgbm = RandomizedSearchCV(\n",
    "    lgbm, params_lgbm, n_jobs=-1, scoring='roc_auc', cv=5, verbose=1, random_state=12345)\n",
    "\n",
    "clf_lgbm.fit(features_train_valid, target_train_valid)"
   ]
  },
  {
   "cell_type": "code",
   "execution_count": 119,
   "metadata": {},
   "outputs": [
    {
     "data": {
      "text/plain": [
       "{'num_leaves': None,\n",
       " 'n_estimators': 500,\n",
       " 'min_data_in_leaf': None,\n",
       " 'max_depth': 500}"
      ]
     },
     "execution_count": 119,
     "metadata": {},
     "output_type": "execute_result"
    }
   ],
   "source": [
    "clf_lgbm.best_params_"
   ]
  },
  {
   "cell_type": "code",
   "execution_count": 120,
   "metadata": {},
   "outputs": [],
   "source": [
    "probabilities_test_lgbm = clf_lgbm.predict_proba(features_test)\n",
    "probabilities_one_test_lgbm = probabilities_test_lgbm[:, 1]\n",
    "\n",
    "auc_roc_lgbm = roc_auc_score(target_test, probabilities_one_test_lgbm)"
   ]
  },
  {
   "cell_type": "code",
   "execution_count": 121,
   "metadata": {},
   "outputs": [
    {
     "name": "stdout",
     "output_type": "stream",
     "text": [
      "Значение целевой метрики для модели LGBM: 0.9030715173043952\n"
     ]
    }
   ],
   "source": [
    "print('Значение целевой метрики для модели LGBM:', auc_roc_lgbm)"
   ]
  },
  {
   "cell_type": "code",
   "execution_count": 122,
   "metadata": {},
   "outputs": [],
   "source": [
    "startTime = time.time()\n",
    "predict_lgbm = clf_lgbm.predict(features_test)\n",
    "endTime = time.time()\n",
    "totalTimePred_lgbm = endTime - startTime"
   ]
  },
  {
   "cell_type": "code",
   "execution_count": 123,
   "metadata": {},
   "outputs": [],
   "source": [
    "accuracy_test_lgbm = accuracy_score(target_test, predict_lgbm)"
   ]
  },
  {
   "cell_type": "code",
   "execution_count": 124,
   "metadata": {},
   "outputs": [
    {
     "name": "stdout",
     "output_type": "stream",
     "text": [
      "Значение дополнительной метрики для модели LGBM: 0.8578535891968728\n"
     ]
    }
   ],
   "source": [
    "print('Значение дополнительной метрики для модели LGBM:', accuracy_test_lgbm)"
   ]
  },
  {
   "cell_type": "markdown",
   "metadata": {},
   "source": [
    "#### График важности признаков для модели"
   ]
  },
  {
   "cell_type": "code",
   "execution_count": 125,
   "metadata": {},
   "outputs": [],
   "source": [
    "lgbm = LGBMClassifier(random_state=12345, num_leaves=None, n_estimators=500, min_data_in_leaf=None, max_depth=500)"
   ]
  },
  {
   "cell_type": "code",
   "execution_count": 126,
   "metadata": {},
   "outputs": [
    {
     "data": {
      "image/png": "[encoded data removed]",
      "text/plain": [
       "<Figure size 1152x648 with 1 Axes>"
      ]
     },
     "metadata": {
      "needs_background": "light"
     },
     "output_type": "display_data"
    }
   ],
   "source": [
    "draw_feature_importance(lgbm)"
   ]
  },
  {
   "cell_type": "markdown",
   "metadata": {},
   "source": [
    "**По важности признаков распределения первых трёх для данной модели:**\n",
    "- `life_time` - время жизни клиента;\n",
    "- `MonthlyCharges` - величина месячного платежа;\n",
    "- `gender_Male` - мужской пол."
   ]
  },
  {
   "cell_type": "markdown",
   "metadata": {},
   "source": [
    "### Модель LogisticRegression"
   ]
  },
  {
   "cell_type": "code",
   "execution_count": 127,
   "metadata": {},
   "outputs": [],
   "source": [
    "model_logic = LogisticRegression(random_state=12345)"
   ]
  },
  {
   "cell_type": "code",
   "execution_count": 128,
   "metadata": {},
   "outputs": [],
   "source": [
    "params_logic = {'solver' :('newton-cg', 'lbfgs', 'liblinear', 'sag', 'saga'),\n",
    "              'C': (0.01, 0.1, 1, 5, 10)\n",
    "              }"
   ]
  },
  {
   "cell_type": "code",
   "execution_count": 129,
   "metadata": {},
   "outputs": [
    {
     "name": "stdout",
     "output_type": "stream",
     "text": [
      "Fitting 5 folds for each of 10 candidates, totalling 50 fits\n"
     ]
    },
    {
     "name": "stderr",
     "output_type": "stream",
     "text": [
      "[Parallel(n_jobs=-1)]: Using backend LokyBackend with 12 concurrent workers.\n",
      "[Parallel(n_jobs=-1)]: Done  27 out of  50 | elapsed:    0.4s remaining:    0.4s\n",
      "[Parallel(n_jobs=-1)]: Done  50 out of  50 | elapsed:    0.8s finished\n"
     ]
    },
    {
     "data": {
      "text/plain": [
       "RandomizedSearchCV(cv=5, estimator=LogisticRegression(random_state=12345),\n",
       "                   n_jobs=-1,\n",
       "                   param_distributions={'C': (0.01, 0.1, 1, 5, 10),\n",
       "                                        'solver': ('newton-cg', 'lbfgs',\n",
       "                                                   'liblinear', 'sag',\n",
       "                                                   'saga')},\n",
       "                   random_state=12345, scoring='roc_auc', verbose=1)"
      ]
     },
     "execution_count": 129,
     "metadata": {},
     "output_type": "execute_result"
    }
   ],
   "source": [
    "clf_logic = RandomizedSearchCV(\n",
    "    model_logic, params_logic, n_jobs=-1, scoring='roc_auc', cv=5, verbose=1, random_state=12345)\n",
    "\n",
    "clf_logic.fit(features_train_valid, target_train_valid)"
   ]
  },
  {
   "cell_type": "code",
   "execution_count": 130,
   "metadata": {},
   "outputs": [
    {
     "data": {
      "text/plain": [
       "{'solver': 'lbfgs', 'C': 10}"
      ]
     },
     "execution_count": 130,
     "metadata": {},
     "output_type": "execute_result"
    }
   ],
   "source": [
    "clf_logic.best_params_"
   ]
  },
  {
   "cell_type": "code",
   "execution_count": 131,
   "metadata": {},
   "outputs": [],
   "source": [
    "probabilities_test_logic = clf_logic.predict_proba(features_test)\n",
    "probabilities_one_test_logic = probabilities_test_logic[:, 1]\n",
    "\n",
    "auc_roc_logic = roc_auc_score(target_test, probabilities_one_test_logic)"
   ]
  },
  {
   "cell_type": "code",
   "execution_count": 132,
   "metadata": {},
   "outputs": [
    {
     "name": "stdout",
     "output_type": "stream",
     "text": [
      "Значение целевой метрики для модели LogisticRegression: 0.8418323870928001\n"
     ]
    }
   ],
   "source": [
    "print('Значение целевой метрики для модели LogisticRegression:', auc_roc_logic)"
   ]
  },
  {
   "cell_type": "code",
   "execution_count": 133,
   "metadata": {},
   "outputs": [],
   "source": [
    "startTime = time.time()\n",
    "predict_logic = clf_logic.predict(features_test)\n",
    "endTime = time.time()\n",
    "totalTimePred_logic = endTime - startTime"
   ]
  },
  {
   "cell_type": "code",
   "execution_count": 134,
   "metadata": {},
   "outputs": [],
   "source": [
    "accuracy_test_logic = accuracy_score(target_test, predict_logic)"
   ]
  },
  {
   "cell_type": "code",
   "execution_count": 135,
   "metadata": {},
   "outputs": [
    {
     "name": "stdout",
     "output_type": "stream",
     "text": [
      "Значение дополнительной метрики для модели LogisticRegression: 0.7526652452025586\n"
     ]
    }
   ],
   "source": [
    "print('Значение дополнительной метрики для модели LogisticRegression:', accuracy_test_logic)"
   ]
  },
  {
   "cell_type": "markdown",
   "metadata": {},
   "source": [
    "#### График важности признаков для модели"
   ]
  },
  {
   "cell_type": "code",
   "execution_count": 136,
   "metadata": {},
   "outputs": [
    {
     "data": {
      "text/plain": [
       "LogisticRegression(random_state=12345)"
      ]
     },
     "execution_count": 136,
     "metadata": {},
     "output_type": "execute_result"
    }
   ],
   "source": [
    "model_logic.fit(features_train_valid, target_train_valid)"
   ]
  },
  {
   "cell_type": "code",
   "execution_count": 137,
   "metadata": {},
   "outputs": [
    {
     "data": {
      "text/plain": [
       "array([[ 0.2817978 , -0.67349836,  0.16938417, -0.01474264, -0.15574143,\n",
       "        -0.28809309, -0.02664005, -0.04367975, -0.40924687,  0.42810488,\n",
       "         0.45309248,  0.27577432, -0.78810716,  0.18173107, -0.66601938,\n",
       "        -1.31608392, -0.12992952,  0.31329086, -0.04105338, -0.04672587,\n",
       "         1.41495767, -1.44937976]])"
      ]
     },
     "execution_count": 137,
     "metadata": {},
     "output_type": "execute_result"
    }
   ],
   "source": [
    "model_logic.coef_"
   ]
  },
  {
   "cell_type": "code",
   "execution_count": 138,
   "metadata": {},
   "outputs": [],
   "source": [
    "model_logic_importances = pd.Series(model_logic.coef_.flat, index=features_train_valid.columns)"
   ]
  },
  {
   "cell_type": "code",
   "execution_count": 139,
   "metadata": {},
   "outputs": [
    {
     "data": {
      "text/plain": [
       "<AxesSubplot:>"
      ]
     },
     "execution_count": 139,
     "metadata": {},
     "output_type": "execute_result"
    },
    {
     "data": {
      "image/png": "[encoded data removed]",
      "text/plain": [
       "<Figure size 1152x648 with 1 Axes>"
      ]
     },
     "metadata": {
      "needs_background": "light"
     },
     "output_type": "display_data"
    }
   ],
   "source": [
    "model_logic_importances.nlargest(23).plot(kind='barh', figsize=(16,9))"
   ]
  },
  {
   "cell_type": "markdown",
   "metadata": {},
   "source": [
    "## Выводы"
   ]
  },
  {
   "cell_type": "code",
   "execution_count": 140,
   "metadata": {},
   "outputs": [
    {
     "name": "stdout",
     "output_type": "stream",
     "text": [
      "Результаты работы моделей крассификации\n"
     ]
    },
    {
     "data": {
      "text/html": [
       "<div>\n",
       "<style scoped>\n",
       "    .dataframe tbody tr th:only-of-type {\n",
       "        vertical-align: middle;\n",
       "    }\n",
       "\n",
       "    .dataframe tbody tr th {\n",
       "        vertical-align: top;\n",
       "    }\n",
       "\n",
       "    .dataframe thead th {\n",
       "        text-align: right;\n",
       "    }\n",
       "</style>\n",
       "<table border=\"1\" class=\"dataframe\">\n",
       "  <thead>\n",
       "    <tr style=\"text-align: right;\">\n",
       "      <th></th>\n",
       "      <th>Model</th>\n",
       "      <th>ROC-AUC</th>\n",
       "      <th>Accuracy</th>\n",
       "      <th>Время обучения(sec)</th>\n",
       "      <th>Время предсказания(sec)</th>\n",
       "    </tr>\n",
       "  </thead>\n",
       "  <tbody>\n",
       "    <tr>\n",
       "      <th>0</th>\n",
       "      <td>RandomForest</td>\n",
       "      <td>0.823586</td>\n",
       "      <td>0.786070</td>\n",
       "      <td>2.305673</td>\n",
       "      <td>0.267053</td>\n",
       "    </tr>\n",
       "    <tr>\n",
       "      <th>1</th>\n",
       "      <td>LGBM</td>\n",
       "      <td>0.903072</td>\n",
       "      <td>0.857854</td>\n",
       "      <td>0.541133</td>\n",
       "      <td>0.014003</td>\n",
       "    </tr>\n",
       "    <tr>\n",
       "      <th>2</th>\n",
       "      <td>CatBoost</td>\n",
       "      <td>0.905956</td>\n",
       "      <td>0.859986</td>\n",
       "      <td>12.340816</td>\n",
       "      <td>0.007003</td>\n",
       "    </tr>\n",
       "    <tr>\n",
       "      <th>3</th>\n",
       "      <td>LogisticRegression</td>\n",
       "      <td>0.841832</td>\n",
       "      <td>0.752665</td>\n",
       "      <td>0.040030</td>\n",
       "      <td>0.002991</td>\n",
       "    </tr>\n",
       "  </tbody>\n",
       "</table>\n",
       "</div>"
      ],
      "text/plain": [
       "                Model   ROC-AUC  Accuracy  Время обучения(sec)  \\\n",
       "0        RandomForest  0.823586  0.786070             2.305673   \n",
       "1                LGBM  0.903072  0.857854             0.541133   \n",
       "2            CatBoost  0.905956  0.859986            12.340816   \n",
       "3  LogisticRegression  0.841832  0.752665             0.040030   \n",
       "\n",
       "   Время предсказания(sec)  \n",
       "0                 0.267053  \n",
       "1                 0.014003  \n",
       "2                 0.007003  \n",
       "3                 0.002991  "
      ]
     },
     "execution_count": 140,
     "metadata": {},
     "output_type": "execute_result"
    }
   ],
   "source": [
    "print('Результаты работы моделей крассификации')\n",
    "pd.DataFrame({\n",
    "    \"Model\" : ['RandomForest','LGBM', 'CatBoost', 'LogisticRegression'],\n",
    "    \"ROC-AUC\" : [auc_roc_forest, auc_roc_lgbm, auc_roc_cat, auc_roc_logic],\n",
    "    \"Accuracy\" : [accuracy_test_forest, accuracy_test_lgbm, accuracy_test_cat, accuracy_test_logic],\n",
    "    \"Время обучения(sec)\" : [clf_forest.refit_time_, clf_lgbm.refit_time_, clf_cat.refit_time_, clf_logic.refit_time_],\n",
    "    \"Время предсказания(sec)\" : [totalTimePred_forest, totalTimePred_lgbm, totalTimePred_cat, totalTimePred_logic]\n",
    "})"
   ]
  },
  {
   "cell_type": "markdown",
   "metadata": {},
   "source": [
    "**Лучший результат по ключевой метрике у модели CatBoost, при этом у модели LGBM данная метрика незначительно ниже, но ть и при этом время обучения меньше в 20 раз.**"
   ]
  },
  {
   "cell_type": "markdown",
   "metadata": {},
   "source": [
    "**Судя по важности признаков для моделей, необходимо обратить внимание на жизненный цикл клиента, принять меры по его увеличению и в таком случае это должно снизить процент отвалов.**\n",
    "\n",
    "**Вторым по важности критерием является месячный платеж, который косвенно говорит об объеме подключенных услгу и активности использования. Не факт, что формированное навязывание повышения среднего месячного чека приведет к положительным результатам, здесь надо быть осторожнее.**"
   ]
  },
  {
   "cell_type": "markdown",
   "metadata": {},
   "source": [
    "Результаты по важности критериев для модели, а точнее весе коэффициентов, у логистической регрессии несколько отличаются от остальных моделей.\n",
    "Судя по графику, можно сделать следующие выводы:\n",
    "- клиенты использующие только услуги телефонии (InternetService_No - нет интернет услуг) менее подвержены отвалу. Это подтверждает и коэффициент наличия оптоволоконного соединения, сигнализирующий о повышенной вероятности отвала (InternetService_Fiber optic ~1.5) \n",
    " ***Рекомендация: проверить качество предоставляемых интернет-услуг.***\n",
    "- коэффициенты наличия двухлетнего контракта и продолжительности \"жизни\" клиента имеют значительный вес,  как и у других моделей. Данный фактор подтвержден многократно.\n",
    " ***Рекомендация: принять меры по увеличению срока жизни клиента и переводе больше числа клиентов на двухлетние контракты.***"
   ]
  },
  {
   "cell_type": "markdown",
   "metadata": {},
   "source": [
    "# ЧАСТЬ 3. EDA поведения разных групп клиентов."
   ]
  },
  {
   "cell_type": "markdown",
   "metadata": {},
   "source": [
    "## EDA поведения разных групп клиентов."
   ]
  },
  {
   "cell_type": "markdown",
   "metadata": {},
   "source": [
    "Необходимо провести исследовательский анализ данных поведения разных групп клиентов для выработки стратегии по их удержанию."
   ]
  },
  {
   "cell_type": "markdown",
   "metadata": {},
   "source": [
    "План:\n",
    "- сравнение распределения величин ежемесячных платежей всех клиентов и тех, кто ушёл;\n",
    "- сравнение поведения клиентов вышеуказанных групп."
   ]
  },
  {
   "cell_type": "markdown",
   "metadata": {},
   "source": [
    "### Сравнение величин месячных платежей всех клиентов и ушедших."
   ]
  },
  {
   "cell_type": "code",
   "execution_count": 141,
   "metadata": {},
   "outputs": [],
   "source": [
    "def target_feature(df,  col):\n",
    "    df[col] = df['EndDate'].fillna(pd.Timedelta(0))\n",
    "    def category(row):\n",
    "        if row[col] == pd.Timedelta(0): \n",
    "            row[col] = 0\n",
    "        else: row[col] = 1\n",
    "        return row[col]\n",
    "    df[col] = df.apply(category, axis=1)\n",
    "    return df"
   ]
  },
  {
   "cell_type": "code",
   "execution_count": 142,
   "metadata": {},
   "outputs": [
    {
     "data": {
      "text/html": [
       "<div>\n",
       "<style scoped>\n",
       "    .dataframe tbody tr th:only-of-type {\n",
       "        vertical-align: middle;\n",
       "    }\n",
       "\n",
       "    .dataframe tbody tr th {\n",
       "        vertical-align: top;\n",
       "    }\n",
       "\n",
       "    .dataframe thead th {\n",
       "        text-align: right;\n",
       "    }\n",
       "</style>\n",
       "<table border=\"1\" class=\"dataframe\">\n",
       "  <thead>\n",
       "    <tr style=\"text-align: right;\">\n",
       "      <th></th>\n",
       "      <th>BeginDate</th>\n",
       "      <th>EndDate</th>\n",
       "      <th>Type</th>\n",
       "      <th>PaperlessBilling</th>\n",
       "      <th>PaymentMethod</th>\n",
       "      <th>MonthlyCharges</th>\n",
       "      <th>TotalCharges</th>\n",
       "      <th>gender</th>\n",
       "      <th>SeniorCitizen</th>\n",
       "      <th>Partner</th>\n",
       "      <th>Dependents</th>\n",
       "      <th>InternetService</th>\n",
       "      <th>OnlineSecurity</th>\n",
       "      <th>OnlineBackup</th>\n",
       "      <th>DeviceProtection</th>\n",
       "      <th>TechSupport</th>\n",
       "      <th>StreamingTV</th>\n",
       "      <th>StreamingMovies</th>\n",
       "      <th>MultipleLines</th>\n",
       "      <th>target</th>\n",
       "    </tr>\n",
       "    <tr>\n",
       "      <th>customerID</th>\n",
       "      <th></th>\n",
       "      <th></th>\n",
       "      <th></th>\n",
       "      <th></th>\n",
       "      <th></th>\n",
       "      <th></th>\n",
       "      <th></th>\n",
       "      <th></th>\n",
       "      <th></th>\n",
       "      <th></th>\n",
       "      <th></th>\n",
       "      <th></th>\n",
       "      <th></th>\n",
       "      <th></th>\n",
       "      <th></th>\n",
       "      <th></th>\n",
       "      <th></th>\n",
       "      <th></th>\n",
       "      <th></th>\n",
       "      <th></th>\n",
       "    </tr>\n",
       "  </thead>\n",
       "  <tbody>\n",
       "    <tr>\n",
       "      <th>7590-VHVEG</th>\n",
       "      <td>2020-01-01</td>\n",
       "      <td>NaT</td>\n",
       "      <td>Month-to-month</td>\n",
       "      <td>1.0</td>\n",
       "      <td>Electronic check</td>\n",
       "      <td>29.85</td>\n",
       "      <td>29.85</td>\n",
       "      <td>Female</td>\n",
       "      <td>0</td>\n",
       "      <td>1</td>\n",
       "      <td>0</td>\n",
       "      <td>DSL</td>\n",
       "      <td>0.0</td>\n",
       "      <td>1.0</td>\n",
       "      <td>0.0</td>\n",
       "      <td>0.0</td>\n",
       "      <td>0.0</td>\n",
       "      <td>0.0</td>\n",
       "      <td>NaN</td>\n",
       "      <td>0</td>\n",
       "    </tr>\n",
       "    <tr>\n",
       "      <th>5575-GNVDE</th>\n",
       "      <td>2017-04-01</td>\n",
       "      <td>NaT</td>\n",
       "      <td>One year</td>\n",
       "      <td>0.0</td>\n",
       "      <td>Mailed check</td>\n",
       "      <td>56.95</td>\n",
       "      <td>1889.50</td>\n",
       "      <td>Male</td>\n",
       "      <td>0</td>\n",
       "      <td>0</td>\n",
       "      <td>0</td>\n",
       "      <td>DSL</td>\n",
       "      <td>1.0</td>\n",
       "      <td>0.0</td>\n",
       "      <td>1.0</td>\n",
       "      <td>0.0</td>\n",
       "      <td>0.0</td>\n",
       "      <td>0.0</td>\n",
       "      <td>0.0</td>\n",
       "      <td>0</td>\n",
       "    </tr>\n",
       "    <tr>\n",
       "      <th>3668-QPYBK</th>\n",
       "      <td>2019-10-01</td>\n",
       "      <td>2019-12-01</td>\n",
       "      <td>Month-to-month</td>\n",
       "      <td>1.0</td>\n",
       "      <td>Mailed check</td>\n",
       "      <td>53.85</td>\n",
       "      <td>108.15</td>\n",
       "      <td>Male</td>\n",
       "      <td>0</td>\n",
       "      <td>0</td>\n",
       "      <td>0</td>\n",
       "      <td>DSL</td>\n",
       "      <td>1.0</td>\n",
       "      <td>1.0</td>\n",
       "      <td>0.0</td>\n",
       "      <td>0.0</td>\n",
       "      <td>0.0</td>\n",
       "      <td>0.0</td>\n",
       "      <td>0.0</td>\n",
       "      <td>1</td>\n",
       "    </tr>\n",
       "    <tr>\n",
       "      <th>7795-CFOCW</th>\n",
       "      <td>2016-05-01</td>\n",
       "      <td>NaT</td>\n",
       "      <td>One year</td>\n",
       "      <td>0.0</td>\n",
       "      <td>Bank transfer (automatic)</td>\n",
       "      <td>42.30</td>\n",
       "      <td>1840.75</td>\n",
       "      <td>Male</td>\n",
       "      <td>0</td>\n",
       "      <td>0</td>\n",
       "      <td>0</td>\n",
       "      <td>DSL</td>\n",
       "      <td>1.0</td>\n",
       "      <td>0.0</td>\n",
       "      <td>1.0</td>\n",
       "      <td>1.0</td>\n",
       "      <td>0.0</td>\n",
       "      <td>0.0</td>\n",
       "      <td>NaN</td>\n",
       "      <td>0</td>\n",
       "    </tr>\n",
       "    <tr>\n",
       "      <th>9237-HQITU</th>\n",
       "      <td>2019-09-01</td>\n",
       "      <td>2019-11-01</td>\n",
       "      <td>Month-to-month</td>\n",
       "      <td>1.0</td>\n",
       "      <td>Electronic check</td>\n",
       "      <td>70.70</td>\n",
       "      <td>151.65</td>\n",
       "      <td>Female</td>\n",
       "      <td>0</td>\n",
       "      <td>0</td>\n",
       "      <td>0</td>\n",
       "      <td>Fiber optic</td>\n",
       "      <td>0.0</td>\n",
       "      <td>0.0</td>\n",
       "      <td>0.0</td>\n",
       "      <td>0.0</td>\n",
       "      <td>0.0</td>\n",
       "      <td>0.0</td>\n",
       "      <td>0.0</td>\n",
       "      <td>1</td>\n",
       "    </tr>\n",
       "    <tr>\n",
       "      <th>...</th>\n",
       "      <td>...</td>\n",
       "      <td>...</td>\n",
       "      <td>...</td>\n",
       "      <td>...</td>\n",
       "      <td>...</td>\n",
       "      <td>...</td>\n",
       "      <td>...</td>\n",
       "      <td>...</td>\n",
       "      <td>...</td>\n",
       "      <td>...</td>\n",
       "      <td>...</td>\n",
       "      <td>...</td>\n",
       "      <td>...</td>\n",
       "      <td>...</td>\n",
       "      <td>...</td>\n",
       "      <td>...</td>\n",
       "      <td>...</td>\n",
       "      <td>...</td>\n",
       "      <td>...</td>\n",
       "      <td>...</td>\n",
       "    </tr>\n",
       "    <tr>\n",
       "      <th>6840-RESVB</th>\n",
       "      <td>2018-02-01</td>\n",
       "      <td>NaT</td>\n",
       "      <td>One year</td>\n",
       "      <td>1.0</td>\n",
       "      <td>Mailed check</td>\n",
       "      <td>84.80</td>\n",
       "      <td>1990.50</td>\n",
       "      <td>Male</td>\n",
       "      <td>0</td>\n",
       "      <td>1</td>\n",
       "      <td>1</td>\n",
       "      <td>DSL</td>\n",
       "      <td>1.0</td>\n",
       "      <td>0.0</td>\n",
       "      <td>1.0</td>\n",
       "      <td>1.0</td>\n",
       "      <td>1.0</td>\n",
       "      <td>1.0</td>\n",
       "      <td>1.0</td>\n",
       "      <td>0</td>\n",
       "    </tr>\n",
       "    <tr>\n",
       "      <th>2234-XADUH</th>\n",
       "      <td>2014-02-01</td>\n",
       "      <td>NaT</td>\n",
       "      <td>One year</td>\n",
       "      <td>1.0</td>\n",
       "      <td>Credit card (automatic)</td>\n",
       "      <td>103.20</td>\n",
       "      <td>7362.90</td>\n",
       "      <td>Female</td>\n",
       "      <td>0</td>\n",
       "      <td>1</td>\n",
       "      <td>1</td>\n",
       "      <td>Fiber optic</td>\n",
       "      <td>0.0</td>\n",
       "      <td>1.0</td>\n",
       "      <td>1.0</td>\n",
       "      <td>0.0</td>\n",
       "      <td>1.0</td>\n",
       "      <td>1.0</td>\n",
       "      <td>1.0</td>\n",
       "      <td>0</td>\n",
       "    </tr>\n",
       "    <tr>\n",
       "      <th>4801-JZAZL</th>\n",
       "      <td>2019-03-01</td>\n",
       "      <td>NaT</td>\n",
       "      <td>Month-to-month</td>\n",
       "      <td>1.0</td>\n",
       "      <td>Electronic check</td>\n",
       "      <td>29.60</td>\n",
       "      <td>346.45</td>\n",
       "      <td>Female</td>\n",
       "      <td>0</td>\n",
       "      <td>1</td>\n",
       "      <td>1</td>\n",
       "      <td>DSL</td>\n",
       "      <td>1.0</td>\n",
       "      <td>0.0</td>\n",
       "      <td>0.0</td>\n",
       "      <td>0.0</td>\n",
       "      <td>0.0</td>\n",
       "      <td>0.0</td>\n",
       "      <td>NaN</td>\n",
       "      <td>0</td>\n",
       "    </tr>\n",
       "    <tr>\n",
       "      <th>8361-LTMKD</th>\n",
       "      <td>2019-07-01</td>\n",
       "      <td>2019-11-01</td>\n",
       "      <td>Month-to-month</td>\n",
       "      <td>1.0</td>\n",
       "      <td>Mailed check</td>\n",
       "      <td>74.40</td>\n",
       "      <td>306.60</td>\n",
       "      <td>Male</td>\n",
       "      <td>1</td>\n",
       "      <td>1</td>\n",
       "      <td>0</td>\n",
       "      <td>Fiber optic</td>\n",
       "      <td>0.0</td>\n",
       "      <td>0.0</td>\n",
       "      <td>0.0</td>\n",
       "      <td>0.0</td>\n",
       "      <td>0.0</td>\n",
       "      <td>0.0</td>\n",
       "      <td>1.0</td>\n",
       "      <td>1</td>\n",
       "    </tr>\n",
       "    <tr>\n",
       "      <th>3186-AJIEK</th>\n",
       "      <td>2014-08-01</td>\n",
       "      <td>NaT</td>\n",
       "      <td>Two year</td>\n",
       "      <td>1.0</td>\n",
       "      <td>Bank transfer (automatic)</td>\n",
       "      <td>105.65</td>\n",
       "      <td>6844.50</td>\n",
       "      <td>Male</td>\n",
       "      <td>0</td>\n",
       "      <td>0</td>\n",
       "      <td>0</td>\n",
       "      <td>Fiber optic</td>\n",
       "      <td>1.0</td>\n",
       "      <td>0.0</td>\n",
       "      <td>1.0</td>\n",
       "      <td>1.0</td>\n",
       "      <td>1.0</td>\n",
       "      <td>1.0</td>\n",
       "      <td>0.0</td>\n",
       "      <td>0</td>\n",
       "    </tr>\n",
       "  </tbody>\n",
       "</table>\n",
       "<p>7032 rows × 20 columns</p>\n",
       "</div>"
      ],
      "text/plain": [
       "            BeginDate    EndDate            Type  PaperlessBilling  \\\n",
       "customerID                                                           \n",
       "7590-VHVEG 2020-01-01        NaT  Month-to-month               1.0   \n",
       "5575-GNVDE 2017-04-01        NaT        One year               0.0   \n",
       "3668-QPYBK 2019-10-01 2019-12-01  Month-to-month               1.0   \n",
       "7795-CFOCW 2016-05-01        NaT        One year               0.0   \n",
       "9237-HQITU 2019-09-01 2019-11-01  Month-to-month               1.0   \n",
       "...               ...        ...             ...               ...   \n",
       "6840-RESVB 2018-02-01        NaT        One year               1.0   \n",
       "2234-XADUH 2014-02-01        NaT        One year               1.0   \n",
       "4801-JZAZL 2019-03-01        NaT  Month-to-month               1.0   \n",
       "8361-LTMKD 2019-07-01 2019-11-01  Month-to-month               1.0   \n",
       "3186-AJIEK 2014-08-01        NaT        Two year               1.0   \n",
       "\n",
       "                        PaymentMethod  MonthlyCharges  TotalCharges  gender  \\\n",
       "customerID                                                                    \n",
       "7590-VHVEG           Electronic check           29.85         29.85  Female   \n",
       "5575-GNVDE               Mailed check           56.95       1889.50    Male   \n",
       "3668-QPYBK               Mailed check           53.85        108.15    Male   \n",
       "7795-CFOCW  Bank transfer (automatic)           42.30       1840.75    Male   \n",
       "9237-HQITU           Electronic check           70.70        151.65  Female   \n",
       "...                               ...             ...           ...     ...   \n",
       "6840-RESVB               Mailed check           84.80       1990.50    Male   \n",
       "2234-XADUH    Credit card (automatic)          103.20       7362.90  Female   \n",
       "4801-JZAZL           Electronic check           29.60        346.45  Female   \n",
       "8361-LTMKD               Mailed check           74.40        306.60    Male   \n",
       "3186-AJIEK  Bank transfer (automatic)          105.65       6844.50    Male   \n",
       "\n",
       "            SeniorCitizen  Partner  Dependents InternetService  \\\n",
       "customerID                                                       \n",
       "7590-VHVEG              0        1           0             DSL   \n",
       "5575-GNVDE              0        0           0             DSL   \n",
       "3668-QPYBK              0        0           0             DSL   \n",
       "7795-CFOCW              0        0           0             DSL   \n",
       "9237-HQITU              0        0           0     Fiber optic   \n",
       "...                   ...      ...         ...             ...   \n",
       "6840-RESVB              0        1           1             DSL   \n",
       "2234-XADUH              0        1           1     Fiber optic   \n",
       "4801-JZAZL              0        1           1             DSL   \n",
       "8361-LTMKD              1        1           0     Fiber optic   \n",
       "3186-AJIEK              0        0           0     Fiber optic   \n",
       "\n",
       "            OnlineSecurity  OnlineBackup  DeviceProtection  TechSupport  \\\n",
       "customerID                                                                \n",
       "7590-VHVEG             0.0           1.0               0.0          0.0   \n",
       "5575-GNVDE             1.0           0.0               1.0          0.0   \n",
       "3668-QPYBK             1.0           1.0               0.0          0.0   \n",
       "7795-CFOCW             1.0           0.0               1.0          1.0   \n",
       "9237-HQITU             0.0           0.0               0.0          0.0   \n",
       "...                    ...           ...               ...          ...   \n",
       "6840-RESVB             1.0           0.0               1.0          1.0   \n",
       "2234-XADUH             0.0           1.0               1.0          0.0   \n",
       "4801-JZAZL             1.0           0.0               0.0          0.0   \n",
       "8361-LTMKD             0.0           0.0               0.0          0.0   \n",
       "3186-AJIEK             1.0           0.0               1.0          1.0   \n",
       "\n",
       "            StreamingTV  StreamingMovies  MultipleLines  target  \n",
       "customerID                                                       \n",
       "7590-VHVEG          0.0              0.0            NaN       0  \n",
       "5575-GNVDE          0.0              0.0            0.0       0  \n",
       "3668-QPYBK          0.0              0.0            0.0       1  \n",
       "7795-CFOCW          0.0              0.0            NaN       0  \n",
       "9237-HQITU          0.0              0.0            0.0       1  \n",
       "...                 ...              ...            ...     ...  \n",
       "6840-RESVB          1.0              1.0            1.0       0  \n",
       "2234-XADUH          1.0              1.0            1.0       0  \n",
       "4801-JZAZL          0.0              0.0            NaN       0  \n",
       "8361-LTMKD          0.0              0.0            1.0       1  \n",
       "3186-AJIEK          1.0              1.0            0.0       0  \n",
       "\n",
       "[7032 rows x 20 columns]"
      ]
     },
     "execution_count": 142,
     "metadata": {},
     "output_type": "execute_result"
    }
   ],
   "source": [
    "target_feature(data, 'target')"
   ]
  },
  {
   "cell_type": "code",
   "execution_count": 143,
   "metadata": {},
   "outputs": [],
   "source": [
    "off_clients = data.query('target == 1')\n",
    "all_clients = data.query('target == 0')"
   ]
  },
  {
   "cell_type": "code",
   "execution_count": 144,
   "metadata": {
    "scrolled": false
   },
   "outputs": [
    {
     "data": {
      "text/plain": [
       "<AxesSubplot:ylabel='Frequency'>"
      ]
     },
     "execution_count": 144,
     "metadata": {},
     "output_type": "execute_result"
    },
    {
     "data": {
      "image/png": "[encoded data removed]",
      "text/plain": [
       "<Figure size 1152x648 with 1 Axes>"
      ]
     },
     "metadata": {
      "needs_background": "light"
     },
     "output_type": "display_data"
    }
   ],
   "source": [
    "off_clients['MonthlyCharges'].plot(kind='hist', figsize=(16,9), bins=100, alpha=0.5, label='off', legend=True)\n",
    "all_clients['MonthlyCharges'].plot(kind='hist', figsize=(16,9), bins=100, alpha=0.3, label='all', legend=True)"
   ]
  },
  {
   "cell_type": "markdown",
   "metadata": {},
   "source": [
    "Глядя на график можно говорить о том, что соотношение отвалившихся клиентов к общей массе наиболее сильно отличается в 20-25 долларов. То есть клиенты платящие в этом диапазоне отваливаются реже. Возможно это связано по совокупности с неким объективно необходимым минимумом услуг и комфортной цены."
   ]
  },
  {
   "cell_type": "code",
   "execution_count": 160,
   "metadata": {},
   "outputs": [
    {
     "data": {
      "text/plain": [
       "count    1869.000000\n",
       "mean       74.441332\n",
       "std        24.666053\n",
       "min        18.850000\n",
       "25%        56.150000\n",
       "50%        79.650000\n",
       "75%        94.200000\n",
       "max       118.350000\n",
       "Name: MonthlyCharges, dtype: float64"
      ]
     },
     "execution_count": 160,
     "metadata": {},
     "output_type": "execute_result"
    }
   ],
   "source": [
    "off_clients['MonthlyCharges'].describe()"
   ]
  },
  {
   "cell_type": "code",
   "execution_count": 161,
   "metadata": {
    "scrolled": true
   },
   "outputs": [
    {
     "data": {
      "text/plain": [
       "count    5163.000000\n",
       "mean       61.307408\n",
       "std        31.094557\n",
       "min        18.250000\n",
       "25%        25.100000\n",
       "50%        64.450000\n",
       "75%        88.475000\n",
       "max       118.750000\n",
       "Name: MonthlyCharges, dtype: float64"
      ]
     },
     "execution_count": 161,
     "metadata": {},
     "output_type": "execute_result"
    }
   ],
   "source": [
    "all_clients['MonthlyCharges'].describe()"
   ]
  },
  {
   "cell_type": "markdown",
   "metadata": {},
   "source": [
    "По статистикам посчитаным выше, можно сформулировать следующие наблюдения:\n",
    "- отвалившиеся клиенты в среднем платят на 13 долларов в месяц больше;\n",
    "- 25й квартиль отличается на 30 долларов (~2 раза), 50й(медиана)  на 15 долларов, 75й - на 6, таким образом, несмотря на то, что к верхней границе месячных оплат разрыв сокращается, существует постоянное превышение по сумме оплат у отвалившихся клиентов."
   ]
  },
  {
   "cell_type": "markdown",
   "metadata": {},
   "source": [
    "Посмотрим какими услугами пользуются две наблюдаемые категории клиентов."
   ]
  },
  {
   "cell_type": "markdown",
   "metadata": {},
   "source": [
    "### Сравнение поведения групп"
   ]
  },
  {
   "cell_type": "markdown",
   "metadata": {},
   "source": [
    "#### Телефонная связь"
   ]
  },
  {
   "cell_type": "markdown",
   "metadata": {},
   "source": [
    "Чтобы понять кто использует телефонную связь, а кто нет, создадим дополнительный признак, который будет основываться на данных из файла phone. Те, ID, которые есть в файле phone будут промечаться в общем датафрейме как пользователи телефонии, остальные - нет. На данный момент эти данные уже отражены в столбце ``MultipleLines``, так как после объединения таблиц пропуски появившиеся там свидетельствуют об отсутствии данных ID в файле ``phone``."
   ]
  },
  {
   "cell_type": "code",
   "execution_count": 147,
   "metadata": {},
   "outputs": [
    {
     "data": {
      "text/plain": [
       "0.0    3385\n",
       "1.0    2967\n",
       "NaN     680\n",
       "Name: MultipleLines, dtype: int64"
      ]
     },
     "execution_count": 147,
     "metadata": {},
     "output_type": "execute_result"
    }
   ],
   "source": [
    "data.MultipleLines.value_counts(dropna=False)"
   ]
  },
  {
   "cell_type": "code",
   "execution_count": 148,
   "metadata": {},
   "outputs": [],
   "source": [
    "def phone_feature(df,  col):\n",
    "    def category(row):\n",
    "        if row['MultipleLines'] == 0.0: \n",
    "            row[col] = 1\n",
    "        elif row['MultipleLines'] == 1.0: \n",
    "            row[col] = 1\n",
    "        else: row[col] = 0\n",
    "        return row[col]\n",
    "    df[col] = df.apply(category, axis=1)\n",
    "    return df"
   ]
  },
  {
   "cell_type": "code",
   "execution_count": 149,
   "metadata": {},
   "outputs": [
    {
     "data": {
      "text/plain": [
       "1    6352\n",
       "0     680\n",
       "Name: phone, dtype: int64"
      ]
     },
     "execution_count": 149,
     "metadata": {},
     "output_type": "execute_result"
    }
   ],
   "source": [
    "phone_feature(data, 'phone')\n",
    "data.phone.value_counts(dropna=False)"
   ]
  },
  {
   "cell_type": "markdown",
   "metadata": {},
   "source": [
    "#### График соотношения с услугой телефонии и без для группы отключенных клиентов."
   ]
  },
  {
   "cell_type": "code",
   "execution_count": 150,
   "metadata": {},
   "outputs": [
    {
     "data": {
      "text/plain": [
       "<AxesSubplot:ylabel='phone'>"
      ]
     },
     "execution_count": 150,
     "metadata": {},
     "output_type": "execute_result"
    },
    {
     "data": {
      "image/png": "[encoded data removed]",
      "text/plain": [
       "<Figure size 432x288 with 1 Axes>"
      ]
     },
     "metadata": {},
     "output_type": "display_data"
    }
   ],
   "source": [
    "data.query('target == 1').groupby('phone')['phone'].count().plot(kind='pie', legend=True)"
   ]
  },
  {
   "cell_type": "code",
   "execution_count": 151,
   "metadata": {},
   "outputs": [
    {
     "name": "stdout",
     "output_type": "stream",
     "text": [
      "Количественное соотношение: 0.9090422685928304\n"
     ]
    }
   ],
   "source": [
    "print('Количественное соотношение:', data.query('target == 1')['phone'].mean())"
   ]
  },
  {
   "cell_type": "markdown",
   "metadata": {},
   "source": [
    "Более 90% данной группы пользуются услугой телефонии."
   ]
  },
  {
   "cell_type": "markdown",
   "metadata": {},
   "source": [
    "#### График соотношения с услугой телефонии и без для группы действующих клиентов."
   ]
  },
  {
   "cell_type": "code",
   "execution_count": 152,
   "metadata": {},
   "outputs": [
    {
     "data": {
      "text/plain": [
       "<AxesSubplot:ylabel='phone'>"
      ]
     },
     "execution_count": 152,
     "metadata": {},
     "output_type": "execute_result"
    },
    {
     "data": {
      "image/png": "[encoded data removed]",
      "text/plain": [
       "<Figure size 432x288 with 1 Axes>"
      ]
     },
     "metadata": {},
     "output_type": "display_data"
    }
   ],
   "source": [
    "data.query('target == 0').groupby('phone')['phone'].count().plot(kind='pie', legend=True)"
   ]
  },
  {
   "cell_type": "code",
   "execution_count": 153,
   "metadata": {},
   "outputs": [
    {
     "name": "stdout",
     "output_type": "stream",
     "text": [
      "Количественное соотношение: 0.9012202208018594\n"
     ]
    }
   ],
   "source": [
    "print('Количественное соотношение:', data.query('target == 0')['phone'].mean())"
   ]
  },
  {
   "cell_type": "markdown",
   "metadata": {},
   "source": [
    "Аналогично с предыдущей группой, услугами телефонии пользуются более 90%, значения очень близки, и отличаются на несколько десятых процента."
   ]
  },
  {
   "cell_type": "markdown",
   "metadata": {},
   "source": [
    "### Интернет"
   ]
  },
  {
   "cell_type": "markdown",
   "metadata": {},
   "source": [
    "Прометим пользователей интернет услугами. Разные виды интернет подключения будут объеденены."
   ]
  },
  {
   "cell_type": "code",
   "execution_count": 154,
   "metadata": {},
   "outputs": [],
   "source": [
    "def internet_feature(df,  col):\n",
    "    def category(row):\n",
    "        if row['InternetService'] == 'Fiber optic': \n",
    "            row[col] = 1\n",
    "        elif row['InternetService'] == 'DSL': \n",
    "            row[col] = 1\n",
    "        else: row[col] = 0\n",
    "        return row[col]\n",
    "    df[col] = df.apply(category, axis=1)\n",
    "    return df"
   ]
  },
  {
   "cell_type": "code",
   "execution_count": 155,
   "metadata": {},
   "outputs": [
    {
     "data": {
      "text/plain": [
       "1    5512\n",
       "0    1520\n",
       "Name: internet, dtype: int64"
      ]
     },
     "execution_count": 155,
     "metadata": {},
     "output_type": "execute_result"
    }
   ],
   "source": [
    "internet_feature(data, 'internet')\n",
    "data.internet.value_counts(dropna=False)"
   ]
  },
  {
   "cell_type": "markdown",
   "metadata": {},
   "source": [
    "#### График соотношения с услугой интернет и без для группы отключенных клиентов."
   ]
  },
  {
   "cell_type": "code",
   "execution_count": 156,
   "metadata": {},
   "outputs": [
    {
     "data": {
      "text/plain": [
       "<AxesSubplot:ylabel='internet'>"
      ]
     },
     "execution_count": 156,
     "metadata": {},
     "output_type": "execute_result"
    },
    {
     "data": {
      "image/png": "[encoded data removed]",
      "text/plain": [
       "<Figure size 432x288 with 1 Axes>"
      ]
     },
     "metadata": {},
     "output_type": "display_data"
    }
   ],
   "source": [
    "data.query('target == 1').groupby('internet')['internet'].count().plot(kind='pie', legend=True)"
   ]
  },
  {
   "cell_type": "code",
   "execution_count": 157,
   "metadata": {},
   "outputs": [
    {
     "name": "stdout",
     "output_type": "stream",
     "text": [
      "Количественное соотношение: 0.9395398608881755\n"
     ]
    }
   ],
   "source": [
    "print('Количественное соотношение:', data.query('target == 1')['internet'].mean())"
   ]
  },
  {
   "cell_type": "markdown",
   "metadata": {},
   "source": [
    "#### График соотношения с услугой интернет и без для группы действующих клиентов."
   ]
  },
  {
   "cell_type": "code",
   "execution_count": 158,
   "metadata": {},
   "outputs": [
    {
     "data": {
      "text/plain": [
       "<AxesSubplot:ylabel='internet'>"
      ]
     },
     "execution_count": 158,
     "metadata": {},
     "output_type": "execute_result"
    },
    {
     "data": {
      "image/png": "[encoded data removed]",
      "text/plain": [
       "<Figure size 432x288 with 1 Axes>"
      ]
     },
     "metadata": {},
     "output_type": "display_data"
    }
   ],
   "source": [
    "data.query('target == 0').groupby('internet')['internet'].count().plot(kind='pie', legend=True)"
   ]
  },
  {
   "cell_type": "code",
   "execution_count": 159,
   "metadata": {},
   "outputs": [
    {
     "name": "stdout",
     "output_type": "stream",
     "text": [
      "Количественное соотношение: 0.7274840209180709\n"
     ]
    }
   ],
   "source": [
    "print('Количественное соотношение:', data.query('target == 0')['internet'].mean())"
   ]
  },
  {
   "cell_type": "markdown",
   "metadata": {},
   "source": [
    "### Вывод"
   ]
  },
  {
   "cell_type": "markdown",
   "metadata": {},
   "source": [
    "Исходя из выше описанных графиков можно сделать вывод, что по услугам телефонии расхождения в поведении отлюченных клиентов и действующих нет. Одновременно с этим наблюдается явный перекос по интернет услугам, среди отвалившихся клиентов на 20% больше тех, кто пользовался интернет услугами. Это может свидетельствовать о том, что с интернет услугами что-то не так.\n",
    "\n",
    "Если вспомнить о том, что по месячным оплатам среди отлюченных клиентов было значительное превышение, то можно предположить, что отключившиеся клиенты, это те, кто решил поменять именно интернет провайдера.\n",
    "\n",
    "Таким образом стоит уделить пристальное внимание в первую очередь возможности дисконтирования именно интернет услуг потенциально отваливающимся клиентам."
   ]
  },
  {
   "cell_type": "markdown",
   "metadata": {},
   "source": [
    "## Отчёт  о проделанной работе для TeamLead"
   ]
  },
  {
   "cell_type": "markdown",
   "metadata": {},
   "source": [
    "### "
   ]
  },
  {
   "cell_type": "markdown",
   "metadata": {},
   "source": [
    "По итогу проделанной работы в соответствии с планом разработки моделей были выполнены все намеченные пункты, а именно:\n",
    "- произведено кодирование категориальных признаков для корректной обработки в любом виде разрабатываемых моделей;\n",
    "- произведено масштабирование численных признаков методом стандартизации для корректного взвешивания данных признаков в моделях типа линейной регрессии;\n",
    "- произведена балансировка классов методом `upsampling` для повышения качества обучения модели;\n",
    "- были обучены модели `RandomForest`, `LGBM`, `CatBoost` и `LogisticRegression`, а также подобраны оптимальные гиперпараметры к ним;\n",
    "- были получены значения целевой и дополнительной метрик в соответсвии с планом - выше критических отметок."
   ]
  },
  {
   "cell_type": "markdown",
   "metadata": {},
   "source": [
    "### "
   ]
  },
  {
   "cell_type": "markdown",
   "metadata": {},
   "source": [
    "В процессе работы возникло временное затруднение с обращением внутри функции к пропущенным значениям типа NaT для вычисления срока жизни клиентов и соответствующего замещения пропусков на вычисленную величину.\n",
    "Данный вопрос удалось решить через дополнительную строку перед чиклом сравнения и замещения с условием. Эта строка перезаписывала все пропуски типа NaT на нулевые значения с тем же типом данных. Был применен метод `.fillna(pd.Timedelta(0))`"
   ]
  },
  {
   "cell_type": "markdown",
   "metadata": {},
   "source": [
    "Также в процессе обработки результатов обученных моделей, возникло временное затруднение с интерпретацией и отображением выходных значений логистической регрессии.\n",
    "\n",
    "В отличие от других моделей у нее не оказалось атрибута `feature_importances_` для которого ранее уже была создана функция.\n",
    "\n",
    "Был использован атрибудт `.coef_` для извлечения коэффициентов, но при этом выходной массив оказался многомерным с одной строкой. Напрямую данный массив не удавалось собрать в объект типа `Series`.\n",
    "Был применён метод `.flat` для разделения многомерного массива поэлементно, что позволило собрать объект типа `Series` присоединив попарно коэффициенты и названия признаков соответственно.\n"
   ]
  },
  {
   "cell_type": "markdown",
   "metadata": {},
   "source": [
    "### "
   ]
  },
  {
   "cell_type": "markdown",
   "metadata": {},
   "source": [
    "Ключевыми шагами в данном проекте стали:\n",
    "- предварительный анализ и предобработка данных;\n",
    "- подготовка признаков и формата датафрейма для отправки на обучения в моделях;\n",
    "- применения различных моделей и подбор оптимальных гиперпараметров к каждой из них, для проведения сравнительного анализа эффективности;\n",
    "- интерпретация результатов работы моделей и оценка их эффективности."
   ]
  },
  {
   "cell_type": "markdown",
   "metadata": {},
   "source": [
    "### "
   ]
  },
  {
   "cell_type": "markdown",
   "metadata": {},
   "source": [
    "Наболее успешной моделью для данного проекта можно считать модель `CatBoost`  с наивысшей ключевой и дополнительной метриками. \n",
    "\n",
    "Величины итоговых метрик:\n",
    "- AUC-ROC = 0.905956\n",
    "- Accuracy = 0.859986"
   ]
  },
  {
   "cell_type": "markdown",
   "metadata": {},
   "source": [
    "Данная модель позволит с высокой точностью классифицировать клиентов как потенциально \"отвальных\" и тем самым, позволит применять мотивационно-поощрительные меры к ограниченному кругу лиц, экономя ресурсы организации."
   ]
  }
 ],
 "metadata": {
  "ExecuteTimeLog": [
   {
    "duration": 1457,
    "start_time": "2021-09-28T17:05:12.146Z"
   },
   {
    "duration": 6,
    "start_time": "2021-09-28T17:05:44.578Z"
   },
   {
    "duration": 96,
    "start_time": "2021-09-28T17:05:45.298Z"
   },
   {
    "duration": 101,
    "start_time": "2021-09-28T17:06:53.177Z"
   },
   {
    "duration": 14,
    "start_time": "2021-09-28T17:06:53.977Z"
   },
   {
    "duration": 8,
    "start_time": "2021-09-28T17:06:55.278Z"
   },
   {
    "duration": 4,
    "start_time": "2021-09-28T17:06:55.445Z"
   },
   {
    "duration": 6,
    "start_time": "2021-09-28T17:06:55.677Z"
   },
   {
    "duration": 5,
    "start_time": "2021-09-28T17:06:56.078Z"
   },
   {
    "duration": 8,
    "start_time": "2021-09-28T17:06:56.605Z"
   },
   {
    "duration": 7,
    "start_time": "2021-09-28T17:06:56.933Z"
   },
   {
    "duration": 7172,
    "start_time": "2021-09-28T17:06:57.411Z"
   },
   {
    "duration": 99,
    "start_time": "2021-09-28T17:07:04.585Z"
   },
   {
    "duration": 5,
    "start_time": "2021-09-28T17:07:04.687Z"
   },
   {
    "duration": 85,
    "start_time": "2021-09-28T17:07:04.695Z"
   },
   {
    "duration": 8,
    "start_time": "2021-09-28T17:07:04.783Z"
   },
   {
    "duration": 90,
    "start_time": "2021-09-28T17:07:04.793Z"
   },
   {
    "duration": 95,
    "start_time": "2021-09-28T17:07:04.885Z"
   },
   {
    "duration": 95,
    "start_time": "2021-09-28T17:07:04.983Z"
   },
   {
    "duration": 4,
    "start_time": "2021-09-28T17:07:05.081Z"
   },
   {
    "duration": 5,
    "start_time": "2021-09-28T17:07:05.088Z"
   },
   {
    "duration": 81,
    "start_time": "2021-09-28T17:07:05.095Z"
   },
   {
    "duration": 11,
    "start_time": "2021-09-28T17:07:05.179Z"
   },
   {
    "duration": 1901,
    "start_time": "2021-09-28T17:07:05.192Z"
   },
   {
    "duration": 7,
    "start_time": "2021-09-28T17:07:07.178Z"
   },
   {
    "duration": 10,
    "start_time": "2021-09-28T17:07:07.188Z"
   },
   {
    "duration": 4,
    "start_time": "2021-09-28T17:07:07.277Z"
   },
   {
    "duration": 17,
    "start_time": "2021-09-28T17:07:07.283Z"
   },
   {
    "duration": 11,
    "start_time": "2021-09-28T17:07:07.378Z"
   },
   {
    "duration": 88,
    "start_time": "2021-09-28T17:07:07.391Z"
   },
   {
    "duration": 6,
    "start_time": "2021-09-28T17:07:07.482Z"
   },
   {
    "duration": 92,
    "start_time": "2021-09-28T17:07:07.491Z"
   },
   {
    "duration": 8,
    "start_time": "2021-09-28T17:07:07.587Z"
   },
   {
    "duration": 179,
    "start_time": "2021-09-28T17:07:07.597Z"
   },
   {
    "duration": 7,
    "start_time": "2021-09-28T17:07:07.779Z"
   },
   {
    "duration": 95,
    "start_time": "2021-09-28T17:07:07.788Z"
   },
   {
    "duration": 9,
    "start_time": "2021-09-28T17:07:07.885Z"
   },
   {
    "duration": 11,
    "start_time": "2021-09-28T17:07:07.977Z"
   },
   {
    "duration": 92,
    "start_time": "2021-09-28T17:07:07.991Z"
   },
   {
    "duration": 3495,
    "start_time": "2021-09-28T17:07:08.085Z"
   },
   {
    "duration": 7,
    "start_time": "2021-09-28T17:07:11.582Z"
   },
   {
    "duration": 88,
    "start_time": "2021-09-28T17:07:11.592Z"
   },
   {
    "duration": 97,
    "start_time": "2021-09-28T17:07:11.683Z"
   },
   {
    "duration": 102,
    "start_time": "2021-09-28T17:07:11.782Z"
   },
   {
    "duration": 93,
    "start_time": "2021-09-28T17:07:11.886Z"
   },
   {
    "duration": 7709,
    "start_time": "2021-09-28T17:07:11.981Z"
   },
   {
    "duration": 96,
    "start_time": "2021-09-28T17:07:19.693Z"
   },
   {
    "duration": 94,
    "start_time": "2021-09-28T17:07:19.792Z"
   },
   {
    "duration": 90,
    "start_time": "2021-09-28T17:07:19.889Z"
   },
   {
    "duration": 589,
    "start_time": "2021-09-28T17:07:19.981Z"
   },
   {
    "duration": 9,
    "start_time": "2021-09-28T17:07:20.572Z"
   },
   {
    "duration": 6,
    "start_time": "2021-09-28T17:10:38.977Z"
   },
   {
    "duration": 114,
    "start_time": "2021-09-28T17:10:39.677Z"
   },
   {
    "duration": 109,
    "start_time": "2021-09-28T17:10:42.077Z"
   },
   {
    "duration": 58,
    "start_time": "2021-09-28T17:10:42.922Z"
   },
   {
    "duration": 6,
    "start_time": "2021-09-28T17:10:43.078Z"
   },
   {
    "duration": 7805,
    "start_time": "2021-09-28T17:10:43.276Z"
   },
   {
    "duration": 97,
    "start_time": "2021-09-28T17:10:51.084Z"
   },
   {
    "duration": 101,
    "start_time": "2021-09-28T17:10:51.183Z"
   },
   {
    "duration": 93,
    "start_time": "2021-09-28T17:10:51.286Z"
   },
   {
    "duration": 97,
    "start_time": "2021-09-28T17:10:51.381Z"
   },
   {
    "duration": 6,
    "start_time": "2021-09-28T17:10:51.480Z"
   },
   {
    "duration": 89,
    "start_time": "2021-09-28T17:10:51.488Z"
   },
   {
    "duration": 3798,
    "start_time": "2021-09-28T17:10:51.580Z"
   },
   {
    "duration": 8,
    "start_time": "2021-09-28T17:10:55.381Z"
   },
   {
    "duration": 187,
    "start_time": "2021-09-28T17:10:55.391Z"
   },
   {
    "duration": 4,
    "start_time": "2021-09-28T17:10:55.581Z"
   },
   {
    "duration": 2399,
    "start_time": "2021-09-28T17:10:55.587Z"
   },
   {
    "duration": 1302,
    "start_time": "2021-09-28T17:10:57.989Z"
   },
   {
    "duration": 799,
    "start_time": "2021-09-28T17:10:59.293Z"
   },
   {
    "duration": 904,
    "start_time": "2021-09-28T17:11:00.177Z"
   },
   {
    "duration": 17,
    "start_time": "2021-09-28T17:16:23.078Z"
   },
   {
    "duration": 5,
    "start_time": "2021-09-28T17:16:24.377Z"
   },
   {
    "duration": 16,
    "start_time": "2021-09-28T17:16:24.578Z"
   },
   {
    "duration": 99,
    "start_time": "2021-09-28T17:16:24.978Z"
   },
   {
    "duration": 18,
    "start_time": "2021-09-28T17:16:25.176Z"
   },
   {
    "duration": 36,
    "start_time": "2021-09-28T17:16:26.243Z"
   },
   {
    "duration": 16,
    "start_time": "2021-09-28T17:16:26.477Z"
   },
   {
    "duration": 74,
    "start_time": "2021-09-28T17:16:26.603Z"
   },
   {
    "duration": 19,
    "start_time": "2021-09-28T17:16:26.891Z"
   },
   {
    "duration": 7,
    "start_time": "2021-09-28T17:16:27.413Z"
   },
   {
    "duration": 4,
    "start_time": "2021-09-28T17:16:27.626Z"
   },
   {
    "duration": 19,
    "start_time": "2021-09-28T17:16:28.135Z"
   },
   {
    "duration": 7,
    "start_time": "2021-09-28T17:16:28.377Z"
   },
   {
    "duration": 9,
    "start_time": "2021-09-28T17:18:25.377Z"
   },
   {
    "duration": 78,
    "start_time": "2021-09-28T17:18:26.000Z"
   },
   {
    "duration": 3,
    "start_time": "2021-09-28T17:18:26.677Z"
   },
   {
    "duration": 283,
    "start_time": "2021-09-28T17:20:05.794Z"
   },
   {
    "duration": 84,
    "start_time": "2021-09-28T17:20:14.593Z"
   },
   {
    "duration": 198152,
    "start_time": "2021-09-28T17:20:18.278Z"
   },
   {
    "duration": 4,
    "start_time": "2021-09-28T17:23:36.432Z"
   },
   {
    "duration": 444,
    "start_time": "2021-09-28T17:23:36.439Z"
   },
   {
    "duration": 7,
    "start_time": "2021-09-28T17:23:36.898Z"
   },
   {
    "duration": 570,
    "start_time": "2021-09-28T17:23:36.909Z"
   },
   {
    "duration": 4,
    "start_time": "2021-09-28T17:23:37.482Z"
   },
   {
    "duration": 5,
    "start_time": "2021-09-28T17:23:37.488Z"
   },
   {
    "duration": 3,
    "start_time": "2021-09-28T17:23:50.877Z"
   },
   {
    "duration": 4,
    "start_time": "2021-09-28T17:23:52.372Z"
   },
   {
    "duration": 188086,
    "start_time": "2021-09-28T17:24:08.899Z"
   },
   {
    "duration": 8,
    "start_time": "2021-09-28T17:27:16.987Z"
   },
   {
    "duration": 6,
    "start_time": "2021-09-28T17:27:16.997Z"
   },
   {
    "duration": 7,
    "start_time": "2021-09-28T17:27:17.005Z"
   },
   {
    "duration": 15,
    "start_time": "2021-09-28T17:27:17.013Z"
   }
  ],
  "kernelspec": {
   "display_name": "Python 3",
   "language": "python",
   "name": "python3"
  },
  "language_info": {
   "codemirror_mode": {
    "name": "ipython",
    "version": 3
   },
   "file_extension": ".py",
   "mimetype": "text/x-python",
   "name": "python",
   "nbconvert_exporter": "python",
   "pygments_lexer": "ipython3",
   "version": "3.8.5"
  },
  "toc": {
   "base_numbering": 1,
   "nav_menu": {},
   "number_sections": true,
   "sideBar": true,
   "skip_h1_title": true,
   "title_cell": "ОГЛАВЛЕНИЕ",
   "title_sidebar": "Contents",
   "toc_cell": true,
   "toc_position": {
    "height": "calc(100% - 180px)",
    "left": "10px",
    "top": "150px",
    "width": "384px"
   },
   "toc_section_display": true,
   "toc_window_display": false
  }
 },
 "nbformat": 4,
 "nbformat_minor": 4
}
