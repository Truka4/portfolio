{
 "cells": [
  {
   "cell_type": "markdown",
   "metadata": {},
   "source": [
    "#  Прогнозирование количества заказов такси"
   ]
  },
  {
   "cell_type": "markdown",
   "metadata": {},
   "source": [
    "Для таксомоторной компании необходимо спрогнозировать количество заказов с целью поддержания необходимого количества водителей на линии. \n",
    "\n",
    "Период прогнозирования один час.\n",
    "\n",
    "Значение метрики *RMSE* на тестовой выборке должно быть не больше 48.\n",
    "\n"
   ]
  },
  {
   "cell_type": "markdown",
   "metadata": {
    "toc": true
   },
   "source": [
    "<h1>Содержание<span class=\"tocSkip\"></span></h1>\n",
    "<div class=\"toc\"><ul class=\"toc-item\"><li><span><a href=\"#Подготовка-данных\" data-toc-modified-id=\"Подготовка-данных-1\"><span class=\"toc-item-num\">1&nbsp;&nbsp;</span>Подготовка данных</a></span></li><li><span><a href=\"#Анализ\" data-toc-modified-id=\"Анализ-2\"><span class=\"toc-item-num\">2&nbsp;&nbsp;</span>Анализ</a></span><ul class=\"toc-item\"><li><span><a href=\"#Позведем-анализ-данных-на-отрезке-в-пол-года-(период-всей-предоставленной-выборки).\" data-toc-modified-id=\"Позведем-анализ-данных-на-отрезке-в-пол-года-(период-всей-предоставленной-выборки).-2.1\"><span class=\"toc-item-num\">2.1&nbsp;&nbsp;</span>Позведем анализ данных на отрезке в пол года (период всей предоставленной выборки).</a></span></li><li><span><a href=\"#Внутридневной-анализ-с-ресемплированием-в-1-час.\" data-toc-modified-id=\"Внутридневной-анализ-с-ресемплированием-в-1-час.-2.2\"><span class=\"toc-item-num\">2.2&nbsp;&nbsp;</span>Внутридневной анализ с ресемплированием в 1 час.</a></span></li></ul></li><li><span><a href=\"#Обучение\" data-toc-modified-id=\"Обучение-3\"><span class=\"toc-item-num\">3&nbsp;&nbsp;</span>Обучение</a></span><ul class=\"toc-item\"><li><span><a href=\"#Создание-признаков\" data-toc-modified-id=\"Создание-признаков-3.1\"><span class=\"toc-item-num\">3.1&nbsp;&nbsp;</span>Создание признаков</a></span></li><li><span><a href=\"#Модель-линейной-регрессии\" data-toc-modified-id=\"Модель-линейной-регрессии-3.2\"><span class=\"toc-item-num\">3.2&nbsp;&nbsp;</span>Модель линейной регрессии</a></span></li><li><span><a href=\"#Модель-случайного-леса-регрессии\" data-toc-modified-id=\"Модель-случайного-леса-регрессии-3.3\"><span class=\"toc-item-num\">3.3&nbsp;&nbsp;</span>Модель случайного леса регрессии</a></span></li><li><span><a href=\"#Модель-LightGBM\" data-toc-modified-id=\"Модель-LightGBM-3.4\"><span class=\"toc-item-num\">3.4&nbsp;&nbsp;</span>Модель LightGBM</a></span></li><li><span><a href=\"#Модель-CatBoost\" data-toc-modified-id=\"Модель-CatBoost-3.5\"><span class=\"toc-item-num\">3.5&nbsp;&nbsp;</span>Модель CatBoost</a></span></li></ul></li><li><span><a href=\"#Тестирование\" data-toc-modified-id=\"Тестирование-4\"><span class=\"toc-item-num\">4&nbsp;&nbsp;</span>Тестирование</a></span><ul class=\"toc-item\"><li><span><a href=\"#Получение-результатов-на-тестовой-выборке\" data-toc-modified-id=\"Получение-результатов-на-тестовой-выборке-4.1\"><span class=\"toc-item-num\">4.1&nbsp;&nbsp;</span>Получение результатов на тестовой выборке</a></span><ul class=\"toc-item\"><li><ul class=\"toc-item\"><li><span><a href=\"#Использование-GreadSearchCV-и-метода-TimeSeriesSplit-для-временных-рядов-на-примере-модели-LGBM\" data-toc-modified-id=\"Использование-GreadSearchCV-и-метода-TimeSeriesSplit-для-временных-рядов-на-примере-модели-LGBM-4.1.0.1\"><span class=\"toc-item-num\">4.1.0.1&nbsp;&nbsp;</span>Использование GreadSearchCV и метода TimeSeriesSplit для временных рядов на примере модели LGBM</a></span></li></ul></li></ul></li><li><span><a href=\"#Графическое-сравнение\" data-toc-modified-id=\"Графическое-сравнение-4.2\"><span class=\"toc-item-num\">4.2&nbsp;&nbsp;</span>Графическое сравнение</a></span></li></ul></li><li><span><a href=\"#Вывод\" data-toc-modified-id=\"Вывод-5\"><span class=\"toc-item-num\">5&nbsp;&nbsp;</span>Вывод</a></span></li></ul></div>"
   ]
  },
  {
   "cell_type": "markdown",
   "metadata": {},
   "source": [
    "## Подготовка данных"
   ]
  },
  {
   "cell_type": "code",
   "execution_count": 1,
   "metadata": {},
   "outputs": [],
   "source": [
    "import pandas as pd\n",
    "\n",
    "from statsmodels.tsa.seasonal import seasonal_decompose\n",
    "from sklearn.metrics import mean_squared_error\n",
    "from tqdm.notebook import tqdm\n",
    "import time\n",
    "import matplotlib.pyplot as plt\n",
    "\n",
    "from sklearn.model_selection import train_test_split, TimeSeriesSplit, GridSearchCV\n",
    "\n",
    "from sklearn.linear_model import LinearRegression\n",
    "from sklearn.ensemble import RandomForestRegressor\n",
    "from lightgbm import LGBMRegressor\n",
    "from catboost import CatBoostRegressor\n",
    "import math"
   ]
  },
  {
   "cell_type": "code",
   "execution_count": 2,
   "metadata": {},
   "outputs": [],
   "source": [
    "path = 'C:/users/v_kly'"
   ]
  },
  {
   "cell_type": "code",
   "execution_count": 3,
   "metadata": {},
   "outputs": [],
   "source": [
    "df = pd.read_csv(path + '/datasets/taxi.csv', parse_dates=[0], index_col=[0])"
   ]
  },
  {
   "cell_type": "code",
   "execution_count": 4,
   "metadata": {},
   "outputs": [
    {
     "data": {
      "text/html": [
       "<div>\n",
       "<style scoped>\n",
       "    .dataframe tbody tr th:only-of-type {\n",
       "        vertical-align: middle;\n",
       "    }\n",
       "\n",
       "    .dataframe tbody tr th {\n",
       "        vertical-align: top;\n",
       "    }\n",
       "\n",
       "    .dataframe thead th {\n",
       "        text-align: right;\n",
       "    }\n",
       "</style>\n",
       "<table border=\"1\" class=\"dataframe\">\n",
       "  <thead>\n",
       "    <tr style=\"text-align: right;\">\n",
       "      <th></th>\n",
       "      <th>num_orders</th>\n",
       "    </tr>\n",
       "    <tr>\n",
       "      <th>datetime</th>\n",
       "      <th></th>\n",
       "    </tr>\n",
       "  </thead>\n",
       "  <tbody>\n",
       "    <tr>\n",
       "      <th>2018-03-01 00:00:00</th>\n",
       "      <td>9</td>\n",
       "    </tr>\n",
       "    <tr>\n",
       "      <th>2018-03-01 00:10:00</th>\n",
       "      <td>14</td>\n",
       "    </tr>\n",
       "    <tr>\n",
       "      <th>2018-03-01 00:20:00</th>\n",
       "      <td>28</td>\n",
       "    </tr>\n",
       "    <tr>\n",
       "      <th>2018-03-01 00:30:00</th>\n",
       "      <td>20</td>\n",
       "    </tr>\n",
       "    <tr>\n",
       "      <th>2018-03-01 00:40:00</th>\n",
       "      <td>32</td>\n",
       "    </tr>\n",
       "  </tbody>\n",
       "</table>\n",
       "</div>"
      ],
      "text/plain": [
       "                     num_orders\n",
       "datetime                       \n",
       "2018-03-01 00:00:00           9\n",
       "2018-03-01 00:10:00          14\n",
       "2018-03-01 00:20:00          28\n",
       "2018-03-01 00:30:00          20\n",
       "2018-03-01 00:40:00          32"
      ]
     },
     "execution_count": 4,
     "metadata": {},
     "output_type": "execute_result"
    }
   ],
   "source": [
    "df.head()"
   ]
  },
  {
   "cell_type": "code",
   "execution_count": 5,
   "metadata": {},
   "outputs": [
    {
     "name": "stdout",
     "output_type": "stream",
     "text": [
      "<class 'pandas.core.frame.DataFrame'>\n",
      "DatetimeIndex: 26496 entries, 2018-03-01 00:00:00 to 2018-08-31 23:50:00\n",
      "Data columns (total 1 columns):\n",
      " #   Column      Non-Null Count  Dtype\n",
      "---  ------      --------------  -----\n",
      " 0   num_orders  26496 non-null  int64\n",
      "dtypes: int64(1)\n",
      "memory usage: 414.0 KB\n"
     ]
    }
   ],
   "source": [
    "df.info()"
   ]
  },
  {
   "cell_type": "markdown",
   "metadata": {},
   "source": [
    "Проверим в хронологическом ли порядке расположены дата и время."
   ]
  },
  {
   "cell_type": "code",
   "execution_count": 6,
   "metadata": {},
   "outputs": [
    {
     "data": {
      "text/plain": [
       "True"
      ]
     },
     "execution_count": 6,
     "metadata": {},
     "output_type": "execute_result"
    }
   ],
   "source": [
    "df.index.is_monotonic"
   ]
  },
  {
   "cell_type": "markdown",
   "metadata": {},
   "source": [
    "Метод `is_monotonic` сигнализирует о том, что данные расположены в хронологическом порядке."
   ]
  },
  {
   "cell_type": "markdown",
   "metadata": {},
   "source": [
    "Произведем ресемплирование выборки по 1 часу. "
   ]
  },
  {
   "cell_type": "code",
   "execution_count": 7,
   "metadata": {},
   "outputs": [],
   "source": [
    "df = df.resample('1H').sum()"
   ]
  },
  {
   "cell_type": "code",
   "execution_count": 8,
   "metadata": {},
   "outputs": [
    {
     "data": {
      "text/html": [
       "<div>\n",
       "<style scoped>\n",
       "    .dataframe tbody tr th:only-of-type {\n",
       "        vertical-align: middle;\n",
       "    }\n",
       "\n",
       "    .dataframe tbody tr th {\n",
       "        vertical-align: top;\n",
       "    }\n",
       "\n",
       "    .dataframe thead th {\n",
       "        text-align: right;\n",
       "    }\n",
       "</style>\n",
       "<table border=\"1\" class=\"dataframe\">\n",
       "  <thead>\n",
       "    <tr style=\"text-align: right;\">\n",
       "      <th></th>\n",
       "      <th>num_orders</th>\n",
       "    </tr>\n",
       "    <tr>\n",
       "      <th>datetime</th>\n",
       "      <th></th>\n",
       "    </tr>\n",
       "  </thead>\n",
       "  <tbody>\n",
       "    <tr>\n",
       "      <th>2018-03-01 00:00:00</th>\n",
       "      <td>124</td>\n",
       "    </tr>\n",
       "    <tr>\n",
       "      <th>2018-03-01 01:00:00</th>\n",
       "      <td>85</td>\n",
       "    </tr>\n",
       "    <tr>\n",
       "      <th>2018-03-01 02:00:00</th>\n",
       "      <td>71</td>\n",
       "    </tr>\n",
       "    <tr>\n",
       "      <th>2018-03-01 03:00:00</th>\n",
       "      <td>66</td>\n",
       "    </tr>\n",
       "    <tr>\n",
       "      <th>2018-03-01 04:00:00</th>\n",
       "      <td>43</td>\n",
       "    </tr>\n",
       "  </tbody>\n",
       "</table>\n",
       "</div>"
      ],
      "text/plain": [
       "                     num_orders\n",
       "datetime                       \n",
       "2018-03-01 00:00:00         124\n",
       "2018-03-01 01:00:00          85\n",
       "2018-03-01 02:00:00          71\n",
       "2018-03-01 03:00:00          66\n",
       "2018-03-01 04:00:00          43"
      ]
     },
     "execution_count": 8,
     "metadata": {},
     "output_type": "execute_result"
    }
   ],
   "source": [
    "df.head()"
   ]
  },
  {
   "cell_type": "markdown",
   "metadata": {},
   "source": [
    "Ресемплирование произведено корректно, теперь у нас есть данные по количеству заказов за каждый час."
   ]
  },
  {
   "cell_type": "markdown",
   "metadata": {},
   "source": [
    "## Анализ"
   ]
  },
  {
   "cell_type": "markdown",
   "metadata": {},
   "source": [
    "###  Позведем анализ данных на отрезке в пол года (период всей предоставленной выборки)."
   ]
  },
  {
   "cell_type": "markdown",
   "metadata": {},
   "source": [
    "Сделаем ресемплирование по одному дню."
   ]
  },
  {
   "cell_type": "code",
   "execution_count": 9,
   "metadata": {},
   "outputs": [],
   "source": [
    "df_day_sum = df.resample('1D').sum()"
   ]
  },
  {
   "cell_type": "code",
   "execution_count": 10,
   "metadata": {},
   "outputs": [],
   "source": [
    "df_day_sum['rolling_mean'] = df_day_sum.rolling(10).mean()"
   ]
  },
  {
   "cell_type": "code",
   "execution_count": 11,
   "metadata": {
    "scrolled": false
   },
   "outputs": [
    {
     "data": {
      "text/plain": [
       "<AxesSubplot:xlabel='datetime'>"
      ]
     },
     "execution_count": 11,
     "metadata": {},
     "output_type": "execute_result"
    },
    {
     "data": {
      "image/png": "[encoded data removed]",
      "text/plain": [
       "<Figure size 1152x648 with 1 Axes>"
      ]
     },
     "metadata": {
      "needs_background": "light"
     },
     "output_type": "display_data"
    }
   ],
   "source": [
    "df_day_sum.plot(figsize=(16,9))"
   ]
  },
  {
   "cell_type": "markdown",
   "metadata": {},
   "source": [
    "На графике выше прослеживается возрастающий тренд по количеству заказов такси с марта по конец августа."
   ]
  },
  {
   "cell_type": "markdown",
   "metadata": {},
   "source": [
    "Произведем разложение на трендовую, сезонную и шумовую компоненты. Немного увеличим масштаб и посмотрим на разложение в рамках одного месяца."
   ]
  },
  {
   "cell_type": "code",
   "execution_count": 12,
   "metadata": {},
   "outputs": [],
   "source": [
    "decomposed_day = seasonal_decompose(df_day_sum['num_orders']['2018-03-01':'2018-04-01'])"
   ]
  },
  {
   "cell_type": "code",
   "execution_count": 13,
   "metadata": {
    "scrolled": false
   },
   "outputs": [
    {
     "data": {
      "image/png": "[encoded data removed]",
      "text/plain": [
       "<Figure size 432x576 with 3 Axes>"
      ]
     },
     "metadata": {
      "needs_background": "light"
     },
     "output_type": "display_data"
    }
   ],
   "source": [
    "plt.figure(figsize=(6, 8))\n",
    "plt.subplot(311)\n",
    "decomposed_day.trend.plot(ax=plt.gca())\n",
    "plt.title('Trend')\n",
    "plt.subplot(312)\n",
    "decomposed_day.seasonal.plot(ax=plt.gca())\n",
    "plt.title('Seasonality')\n",
    "plt.subplot(313)\n",
    "decomposed_day.resid.plot(ax=plt.gca())\n",
    "plt.title('Residuals')\n",
    "plt.tight_layout()"
   ]
  },
  {
   "cell_type": "markdown",
   "metadata": {},
   "source": [
    "По графикам выше мы видим, что присутствует сезонность в недельных периодах: ко вторнику идет спад по количеству заказов, и после к четвергу набирается пиковый объем."
   ]
  },
  {
   "cell_type": "markdown",
   "metadata": {},
   "source": [
    "### Внутридневной анализ с ресемплированием в 1 час."
   ]
  },
  {
   "cell_type": "markdown",
   "metadata": {},
   "source": [
    "Посмотрим на дневные периоды с часовым ресемплированием."
   ]
  },
  {
   "cell_type": "code",
   "execution_count": 14,
   "metadata": {},
   "outputs": [],
   "source": [
    "decomposed_hour = seasonal_decompose(df['2018-03-01':'2018-03-02'])"
   ]
  },
  {
   "cell_type": "code",
   "execution_count": 15,
   "metadata": {},
   "outputs": [
    {
     "data": {
      "image/png": "[encoded data removed]",
      "text/plain": [
       "<Figure size 432x576 with 3 Axes>"
      ]
     },
     "metadata": {
      "needs_background": "light"
     },
     "output_type": "display_data"
    }
   ],
   "source": [
    "plt.figure(figsize=(6, 8))\n",
    "plt.subplot(311)\n",
    "decomposed_hour.trend.plot(ax=plt.gca())\n",
    "plt.title('Trend')\n",
    "plt.subplot(312)\n",
    "decomposed_hour.seasonal.plot(ax=plt.gca())\n",
    "plt.title('Seasonality')\n",
    "plt.subplot(313)\n",
    "decomposed_hour.resid.plot(ax=plt.gca())\n",
    "plt.title('Residuals')\n",
    "plt.tight_layout()"
   ]
  },
  {
   "cell_type": "markdown",
   "metadata": {},
   "source": [
    "По графику сезонности выше видно, что количество заказов такси набирает пиковые значения к часу ночи,  и с этого момента до 7 утра идёт спад, а далее постепенный рост до пиковых значений к концу дня."
   ]
  },
  {
   "cell_type": "markdown",
   "metadata": {},
   "source": [
    "**Вывод:** Проведя анализ временного ряда объемов заказов такси был выявлен основной восходящий тренд на периоде в 6 месяцев с марта по конец августа, а также недельная и внутредневная сезонность по объёмам заказов. Так как у нас срез данных всего 6 месяцев, сложно сделать вывод, является ли этот тренд абсолютным ростом заказов такси или сезонностью на большем масштабе."
   ]
  },
  {
   "cell_type": "markdown",
   "metadata": {},
   "source": [
    "## Обучение"
   ]
  },
  {
   "cell_type": "markdown",
   "metadata": {},
   "source": [
    "### Создание признаков"
   ]
  },
  {
   "cell_type": "markdown",
   "metadata": {},
   "source": [
    "Создаем функцию, включающую в себя создание признаков по дате, временному сдвигу признака для использования исторических значений и скользящего среднего."
   ]
  },
  {
   "cell_type": "code",
   "execution_count": 16,
   "metadata": {},
   "outputs": [],
   "source": [
    "def make_features(data, max_lag, rolling_mean_size):\n",
    "    data['dayofweek'] = data.index.dayofweek\n",
    "    data['hour'] = data.index.hour\n",
    "    \n",
    "    for lag in range(1, max_lag + 1):\n",
    "        data['lag_{}'.format(lag)] = data['num_orders'].shift(lag)\n",
    "        \n",
    "   \n",
    "    data['rolling_mean4'] = data['lag_1'].rolling(24).mean()\n",
    "    \n",
    "    data.dropna(inplace=True)"
   ]
  },
  {
   "cell_type": "code",
   "execution_count": 17,
   "metadata": {
    "scrolled": true
   },
   "outputs": [
    {
     "data": {
      "text/html": [
       "<div>\n",
       "<style scoped>\n",
       "    .dataframe tbody tr th:only-of-type {\n",
       "        vertical-align: middle;\n",
       "    }\n",
       "\n",
       "    .dataframe tbody tr th {\n",
       "        vertical-align: top;\n",
       "    }\n",
       "\n",
       "    .dataframe thead th {\n",
       "        text-align: right;\n",
       "    }\n",
       "</style>\n",
       "<table border=\"1\" class=\"dataframe\">\n",
       "  <thead>\n",
       "    <tr style=\"text-align: right;\">\n",
       "      <th></th>\n",
       "      <th>num_orders</th>\n",
       "      <th>dayofweek</th>\n",
       "      <th>hour</th>\n",
       "      <th>lag_1</th>\n",
       "      <th>rolling_mean4</th>\n",
       "    </tr>\n",
       "    <tr>\n",
       "      <th>datetime</th>\n",
       "      <th></th>\n",
       "      <th></th>\n",
       "      <th></th>\n",
       "      <th></th>\n",
       "      <th></th>\n",
       "    </tr>\n",
       "  </thead>\n",
       "  <tbody>\n",
       "    <tr>\n",
       "      <th>2018-03-02 00:00:00</th>\n",
       "      <td>90</td>\n",
       "      <td>4</td>\n",
       "      <td>0</td>\n",
       "      <td>58.0</td>\n",
       "      <td>56.833333</td>\n",
       "    </tr>\n",
       "    <tr>\n",
       "      <th>2018-03-02 01:00:00</th>\n",
       "      <td>120</td>\n",
       "      <td>4</td>\n",
       "      <td>1</td>\n",
       "      <td>90.0</td>\n",
       "      <td>55.416667</td>\n",
       "    </tr>\n",
       "    <tr>\n",
       "      <th>2018-03-02 02:00:00</th>\n",
       "      <td>75</td>\n",
       "      <td>4</td>\n",
       "      <td>2</td>\n",
       "      <td>120.0</td>\n",
       "      <td>56.875000</td>\n",
       "    </tr>\n",
       "    <tr>\n",
       "      <th>2018-03-02 03:00:00</th>\n",
       "      <td>64</td>\n",
       "      <td>4</td>\n",
       "      <td>3</td>\n",
       "      <td>75.0</td>\n",
       "      <td>57.041667</td>\n",
       "    </tr>\n",
       "    <tr>\n",
       "      <th>2018-03-02 04:00:00</th>\n",
       "      <td>20</td>\n",
       "      <td>4</td>\n",
       "      <td>4</td>\n",
       "      <td>64.0</td>\n",
       "      <td>56.958333</td>\n",
       "    </tr>\n",
       "  </tbody>\n",
       "</table>\n",
       "</div>"
      ],
      "text/plain": [
       "                     num_orders  dayofweek  hour  lag_1  rolling_mean4\n",
       "datetime                                                              \n",
       "2018-03-02 00:00:00          90          4     0   58.0      56.833333\n",
       "2018-03-02 01:00:00         120          4     1   90.0      55.416667\n",
       "2018-03-02 02:00:00          75          4     2  120.0      56.875000\n",
       "2018-03-02 03:00:00          64          4     3   75.0      57.041667\n",
       "2018-03-02 04:00:00          20          4     4   64.0      56.958333"
      ]
     },
     "execution_count": 17,
     "metadata": {},
     "output_type": "execute_result"
    }
   ],
   "source": [
    "make_features(df, 1, 3)\n",
    "df.head()"
   ]
  },
  {
   "cell_type": "markdown",
   "metadata": {},
   "source": [
    "Разделим данные на обучающую, валидационную и тестовую выборки. "
   ]
  },
  {
   "cell_type": "code",
   "execution_count": 18,
   "metadata": {},
   "outputs": [
    {
     "name": "stdout",
     "output_type": "stream",
     "text": [
      "(2635, 5)\n",
      "(1317, 5)\n",
      "(440, 5)\n"
     ]
    }
   ],
   "source": [
    "train, valid_test = train_test_split(df, shuffle=False, test_size=0.4)\n",
    "\n",
    "valid, test = train_test_split(valid_test, shuffle=False, test_size=0.25)\n",
    "\n",
    "print(train.shape)\n",
    "print(valid.shape)\n",
    "print(test.shape)"
   ]
  },
  {
   "cell_type": "markdown",
   "metadata": {},
   "source": [
    "Отделим признаки о целевых значений."
   ]
  },
  {
   "cell_type": "code",
   "execution_count": 19,
   "metadata": {},
   "outputs": [],
   "source": [
    "train_features = train.drop('num_orders', axis=1)\n",
    "valid_features = valid.drop('num_orders', axis=1)\n",
    "test_features = test.drop('num_orders', axis=1)\n",
    "\n",
    "train_target = train['num_orders']\n",
    "valid_target = valid['num_orders']\n",
    "test_target = test['num_orders']"
   ]
  },
  {
   "cell_type": "markdown",
   "metadata": {},
   "source": [
    "### Модель линейной регрессии"
   ]
  },
  {
   "cell_type": "markdown",
   "metadata": {},
   "source": [
    "Обучим модель линейной регрессии и посчитаем метрику RMSE."
   ]
  },
  {
   "cell_type": "code",
   "execution_count": 20,
   "metadata": {},
   "outputs": [
    {
     "name": "stdout",
     "output_type": "stream",
     "text": [
      "RMSE Линейной регрессии на валидационной выборке: 36.583179358343\n",
      "\n",
      "Wall time: 20 ms\n"
     ]
    }
   ],
   "source": [
    "%%time\n",
    "model_lin = LinearRegression()\n",
    "\n",
    "model_lin.fit(train_features, train_target)\n",
    "\n",
    "pred_lin = model_lin.predict(valid_features)\n",
    "\n",
    "rmse_lin_valid = mean_squared_error(valid_target, pred_lin)**0.5\n",
    "\n",
    "print('RMSE Линейной регрессии на валидационной выборке:', rmse_lin_valid)\n",
    "print()"
   ]
  },
  {
   "cell_type": "markdown",
   "metadata": {},
   "source": [
    "### Модель случайного леса регрессии"
   ]
  },
  {
   "cell_type": "markdown",
   "metadata": {},
   "source": [
    "Обучим модели случайного леса регрессии, посчитаем метрику RMSE и определим лучшие параметры."
   ]
  },
  {
   "cell_type": "code",
   "execution_count": 21,
   "metadata": {},
   "outputs": [],
   "source": [
    "# формирования списка моделей с разными гиперпараметрами\n",
    "def get_models_rfr():\n",
    "    models = []\n",
    "    for n in range(10, 100, 10):\n",
    "        for i in range(2, 20, 3):\n",
    "            models.append(RandomForestRegressor(n_estimators=n, max_depth = i))\n",
    "    return models"
   ]
  },
  {
   "cell_type": "code",
   "execution_count": 22,
   "metadata": {
    "scrolled": true
   },
   "outputs": [
    {
     "data": {
      "application/vnd.jupyter.widget-view+json": {
       "model_id": "2dc18af70ec44adcbafe4942c82f6d7a",
       "version_major": 2,
       "version_minor": 0
      },
      "text/plain": [
       "HBox(children=(HTML(value=''), FloatProgress(value=0.0, max=54.0), HTML(value='')))"
      ]
     },
     "metadata": {},
     "output_type": "display_data"
    },
    {
     "name": "stdout",
     "output_type": "stream",
     "text": [
      "\n",
      "Время обучения лучшей модели: 0 сек.\n",
      "RMSE модели 30.648610282426823\n",
      "Лучшая модель: RandomForestRegressor(max_depth=14, n_estimators=70)\n",
      "Wall time: 9.29 s\n"
     ]
    }
   ],
   "source": [
    "%%time\n",
    "models = get_models_rfr()\n",
    "best_model_rfr = []\n",
    "best_rmse = 10000\n",
    "best_total_time = 0\n",
    "for i in tqdm(models):\n",
    "    startTime = time.time() \n",
    "    i.fit(train_features, train_target)\n",
    "    endTime = time.time()\n",
    "    totalTime = endTime - startTime \n",
    "    pred = i.predict(valid_features)\n",
    "    rmse = mean_squared_error(valid_target, pred)**0.5\n",
    "    if rmse < best_rmse:\n",
    "        best_rmse = rmse\n",
    "        best_model_rfr = i\n",
    "        best_total_time = totalTime\n",
    "        \n",
    "print('Время обучения лучшей модели:', round(best_total_time), 'сек.')\n",
    "print('RMSE модели', best_rmse)\n",
    "print('Лучшая модель:', best_model_rfr)"
   ]
  },
  {
   "cell_type": "markdown",
   "metadata": {},
   "source": [
    "Модель с лучшей метрикой ``RMSE равной 30.56`` имеет параметры `max_depth=14` и `n_estimators=30`"
   ]
  },
  {
   "cell_type": "markdown",
   "metadata": {},
   "source": [
    "### Модель LightGBM"
   ]
  },
  {
   "cell_type": "code",
   "execution_count": 23,
   "metadata": {},
   "outputs": [],
   "source": [
    "# формирования списка моделей с разными гиперпараметрами\n",
    "def get_models_lgbm():\n",
    "    models = []\n",
    "    trees = [10, 50, 100, 500, 1000]\n",
    "    for n in trees:\n",
    "        models.append(LGBMRegressor(n_estimators=n))\n",
    "    return models"
   ]
  },
  {
   "cell_type": "code",
   "execution_count": 24,
   "metadata": {
    "scrolled": false
   },
   "outputs": [
    {
     "data": {
      "application/vnd.jupyter.widget-view+json": {
       "model_id": "07f6376520c8417986d8d6104b6b7dd4",
       "version_major": 2,
       "version_minor": 0
      },
      "text/plain": [
       "HBox(children=(HTML(value=''), FloatProgress(value=0.0, max=5.0), HTML(value='')))"
      ]
     },
     "metadata": {},
     "output_type": "display_data"
    },
    {
     "name": "stdout",
     "output_type": "stream",
     "text": [
      "Время обучения модели: 0 сек.\n",
      "RMSE модели 38.261742534748805\n",
      "\n",
      "Время обучения модели: 0 сек.\n",
      "RMSE модели 31.917702503760825\n",
      "\n",
      "Время обучения модели: 0 сек.\n",
      "RMSE модели 32.11256031586448\n",
      "\n",
      "Время обучения модели: 0 сек.\n",
      "RMSE модели 33.14044484116191\n",
      "\n",
      "Время обучения модели: 1 сек.\n",
      "RMSE модели 33.6182608640692\n",
      "\n",
      "\n",
      "Wall time: 945 ms\n"
     ]
    }
   ],
   "source": [
    "%%time\n",
    "models = get_models_lgbm()\n",
    "for i in tqdm(models):\n",
    "    startTime = time.time() \n",
    "    i.fit(train_features, train_target)\n",
    "    endTime = time.time()\n",
    "    totalTime = endTime - startTime \n",
    "    pred = i.predict(valid_features)\n",
    "    rmse = mean_squared_error(valid_target, pred)**0.5\n",
    "    print('Время обучения модели:', round(totalTime), 'сек.')\n",
    "    print('RMSE модели', rmse)\n",
    "    print()"
   ]
  },
  {
   "cell_type": "markdown",
   "metadata": {},
   "source": [
    "Модель LGBM с лучшей метрикой ``RMSE равной 31.92`` имеет параметр ``n_estimators=50``"
   ]
  },
  {
   "cell_type": "markdown",
   "metadata": {},
   "source": [
    "### Модель CatBoost"
   ]
  },
  {
   "cell_type": "markdown",
   "metadata": {},
   "source": [
    "Подберем параметры для модели CatBoost"
   ]
  },
  {
   "cell_type": "code",
   "execution_count": 25,
   "metadata": {
    "scrolled": true
   },
   "outputs": [
    {
     "name": "stdout",
     "output_type": "stream",
     "text": [
      "\n",
      "bestTest = 20.22356083\n",
      "bestIteration = 999\n",
      "\n",
      "\n",
      "bestTest = 20.21146065\n",
      "bestIteration = 426\n",
      "\n",
      "\n",
      "bestTest = 20.10427259\n",
      "bestIteration = 794\n",
      "\n",
      "\n",
      "bestTest = 20.17895449\n",
      "bestIteration = 216\n",
      "\n",
      "Wall time: 9.84 s\n"
     ]
    }
   ],
   "source": [
    "%%time\n",
    "cat = CatBoostRegressor(verbose=0)\n",
    "grid = {'learning_rate': [0.03, 0.1],\n",
    "        'depth': [4, 6]\n",
    "        }\n",
    "\n",
    "grid_search_result = cat.grid_search(grid, X=train_features, y=train_target, verbose=0)\n"
   ]
  },
  {
   "cell_type": "markdown",
   "metadata": {},
   "source": [
    "Подобранные параметры: `{'depth': 6, 'learning_rate': 0.03}`"
   ]
  },
  {
   "cell_type": "markdown",
   "metadata": {},
   "source": [
    "Обучим модель с подобранными гиперпараметрами и посчитаем RMSE"
   ]
  },
  {
   "cell_type": "code",
   "execution_count": 26,
   "metadata": {},
   "outputs": [],
   "source": [
    "cat_003_6 = CatBoostRegressor(learning_rate=0.03 , depth=6)"
   ]
  },
  {
   "cell_type": "code",
   "execution_count": 27,
   "metadata": {},
   "outputs": [
    {
     "name": "stdout",
     "output_type": "stream",
     "text": [
      "Wall time: 1.57 s\n"
     ]
    },
    {
     "data": {
      "text/plain": [
       "<catboost.core.CatBoostRegressor at 0x22679ff7d00>"
      ]
     },
     "execution_count": 27,
     "metadata": {},
     "output_type": "execute_result"
    }
   ],
   "source": [
    "%%time\n",
    "cat_003_6.fit(train_features, train_target, verbose=0)"
   ]
  },
  {
   "cell_type": "code",
   "execution_count": 28,
   "metadata": {},
   "outputs": [],
   "source": [
    "predictions_cat = cat_003_6.predict(valid_features)"
   ]
  },
  {
   "cell_type": "code",
   "execution_count": 29,
   "metadata": {},
   "outputs": [
    {
     "name": "stdout",
     "output_type": "stream",
     "text": [
      "RMSE модели CatBoost 31.925578587664898\n"
     ]
    }
   ],
   "source": [
    "rmse_cat = mean_squared_error(valid_target, predictions_cat)**0.5\n",
    "print('RMSE модели CatBoost', rmse_cat)"
   ]
  },
  {
   "cell_type": "markdown",
   "metadata": {},
   "source": [
    "**Вывод:** Значение метрики RMSE полученные на валидационной выборке у обученных моделей имеет разброс от 30.56 до 36.58. Итоговое сравнение проведем ниже, после оценки на тестовой выборке."
   ]
  },
  {
   "cell_type": "markdown",
   "metadata": {},
   "source": [
    "## Тестирование"
   ]
  },
  {
   "cell_type": "markdown",
   "metadata": {},
   "source": [
    "Для сохранения целостности временного ряда при проведении моделировании на тестовой выборке соединим тренировочную и валидационную выборки."
   ]
  },
  {
   "cell_type": "code",
   "execution_count": 30,
   "metadata": {},
   "outputs": [
    {
     "name": "stdout",
     "output_type": "stream",
     "text": [
      "Валидационная выборка признаков: (1317, 4)\n",
      "Тренировочная выборка признаков: (2635, 4)\n",
      "Объединенная выборка признаков: (3952, 4)\n"
     ]
    }
   ],
   "source": [
    "print('Валидационная выборка признаков:', valid_features.shape)\n",
    "\n",
    "print('Тренировочная выборка признаков:', train_features.shape)\n",
    "\n",
    "features_join = pd.concat([train_features, valid_features], sort=False, axis=0)\n",
    "\n",
    "print('Объединенная выборка признаков:', features_join.shape)"
   ]
  },
  {
   "cell_type": "code",
   "execution_count": 31,
   "metadata": {},
   "outputs": [
    {
     "name": "stdout",
     "output_type": "stream",
     "text": [
      "Валидационная выборка признаков: (1317,)\n",
      "Тренировочная выборка признаков: (2635,)\n",
      "Объединенная выборка признаков: (3952,)\n"
     ]
    }
   ],
   "source": [
    "print('Валидационная выборка признаков:', valid_target.shape)\n",
    "\n",
    "print('Тренировочная выборка признаков:', train_target.shape)\n",
    "\n",
    "target_join = pd.concat([train_target, valid_target], sort=False, axis=0)\n",
    "\n",
    "print('Объединенная выборка признаков:', target_join.shape)"
   ]
  },
  {
   "cell_type": "markdown",
   "metadata": {},
   "source": [
    "### Получение результатов на тестовой выборке"
   ]
  },
  {
   "cell_type": "markdown",
   "metadata": {},
   "source": [
    "Используем обученные выше модели с подобранными параметрами, показавшие наилучший результат, для предсказания на тестовой выборке."
   ]
  },
  {
   "cell_type": "markdown",
   "metadata": {},
   "source": [
    "**Модель Линейной Регрессии**"
   ]
  },
  {
   "cell_type": "code",
   "execution_count": 32,
   "metadata": {},
   "outputs": [
    {
     "name": "stdout",
     "output_type": "stream",
     "text": [
      "RMSE Линейной регрессии на тестовой выборке: 51.22000101433688\n",
      "\n",
      "Wall time: 6 ms\n"
     ]
    }
   ],
   "source": [
    "%%time\n",
    "model_lin.fit(features_join, target_join)\n",
    "pred_lin_test = model_lin.predict(test_features)\n",
    "\n",
    "rmse_lin_test = mean_squared_error(test_target, pred_lin_test)**0.5\n",
    "\n",
    "print('RMSE Линейной регрессии на тестовой выборке:', rmse_lin_test)\n",
    "print()"
   ]
  },
  {
   "cell_type": "markdown",
   "metadata": {},
   "source": [
    "**Модель Случайного Леса Регрессии**"
   ]
  },
  {
   "cell_type": "code",
   "execution_count": 33,
   "metadata": {},
   "outputs": [
    {
     "name": "stdout",
     "output_type": "stream",
     "text": [
      "Wall time: 204 ms\n"
     ]
    },
    {
     "data": {
      "text/plain": [
       "RandomForestRegressor(max_depth=14, n_estimators=30)"
      ]
     },
     "execution_count": 33,
     "metadata": {},
     "output_type": "execute_result"
    }
   ],
   "source": [
    "%%time\n",
    "model_rfr_test = RandomForestRegressor(n_estimators=30, max_depth = 14)\n",
    "model_rfr_test.fit(features_join, target_join)"
   ]
  },
  {
   "cell_type": "code",
   "execution_count": 34,
   "metadata": {},
   "outputs": [
    {
     "name": "stdout",
     "output_type": "stream",
     "text": [
      "RMSE Случайного Леса Регрессии на тестовой выборке: 46.43729112093378\n",
      "\n",
      "Wall time: 6.11 ms\n"
     ]
    }
   ],
   "source": [
    "%%time\n",
    "pred_rfr_test = model_rfr_test.predict(test_features)\n",
    "rmse_rfr_test = mean_squared_error(test_target, pred_rfr_test)**0.5\n",
    "\n",
    "print('RMSE Случайного Леса Регрессии на тестовой выборке:', rmse_rfr_test)\n",
    "print()"
   ]
  },
  {
   "cell_type": "markdown",
   "metadata": {},
   "source": [
    "**Модель LightGBM**"
   ]
  },
  {
   "cell_type": "code",
   "execution_count": 35,
   "metadata": {},
   "outputs": [
    {
     "name": "stdout",
     "output_type": "stream",
     "text": [
      "Wall time: 34 ms\n"
     ]
    },
    {
     "data": {
      "text/plain": [
       "LGBMRegressor(n_estimators=50)"
      ]
     },
     "execution_count": 35,
     "metadata": {},
     "output_type": "execute_result"
    }
   ],
   "source": [
    "%%time\n",
    "model_lgbm_test= LGBMRegressor(n_estimators=50)\n",
    "model_lgbm_test.fit(features_join, target_join)"
   ]
  },
  {
   "cell_type": "code",
   "execution_count": 36,
   "metadata": {
    "scrolled": true
   },
   "outputs": [
    {
     "name": "stdout",
     "output_type": "stream",
     "text": [
      "RMSE LGBM на тестовой выборке: 44.16311917145683\n",
      "\n",
      "Wall time: 3 ms\n"
     ]
    }
   ],
   "source": [
    "%%time\n",
    "pred_lgbm_test = model_lgbm_test.predict(test_features)\n",
    "rmse_lgbm_test = mean_squared_error(test_target, pred_lgbm_test)**0.5\n",
    "\n",
    "print('RMSE LGBM на тестовой выборке:', rmse_lgbm_test)\n",
    "print()"
   ]
  },
  {
   "cell_type": "markdown",
   "metadata": {},
   "source": [
    "##### Использование GreadSearchCV и метода TimeSeriesSplit для временных рядов на примере модели LGBM"
   ]
  },
  {
   "cell_type": "markdown",
   "metadata": {},
   "source": [
    "Произведем перебор параметров для модели LGBM с использованием ``GreadSearchCV`` и метода ``TimeSeriesSplit``"
   ]
  },
  {
   "cell_type": "code",
   "execution_count": 37,
   "metadata": {},
   "outputs": [],
   "source": [
    "lgbm = LGBMRegressor()\n",
    "tscv = TimeSeriesSplit(n_splits=8)\n",
    "param_set = {'learning_rate' : [0.02, 0.1, 0.5], 'n_estimators' : [50, 100, 200], 'max_depth' : [-1, 5, 10, 20]}\n",
    "\n",
    "gsearch = GridSearchCV(lgbm, param_grid=param_set, scoring='neg_mean_squared_error', n_jobs=-1, cv=tscv, verbose=0) "
   ]
  },
  {
   "cell_type": "code",
   "execution_count": 38,
   "metadata": {},
   "outputs": [
    {
     "name": "stdout",
     "output_type": "stream",
     "text": [
      "Wall time: 5.28 s\n"
     ]
    },
    {
     "data": {
      "text/plain": [
       "GridSearchCV(cv=TimeSeriesSplit(max_train_size=None, n_splits=8),\n",
       "             estimator=LGBMRegressor(), n_jobs=-1,\n",
       "             param_grid={'learning_rate': [0.02, 0.1, 0.5],\n",
       "                         'max_depth': [-1, 5, 10, 20],\n",
       "                         'n_estimators': [50, 100, 200]},\n",
       "             scoring='neg_mean_squared_error')"
      ]
     },
     "execution_count": 38,
     "metadata": {},
     "output_type": "execute_result"
    }
   ],
   "source": [
    "%%time \n",
    "gsearch.fit(features_join, target_join)"
   ]
  },
  {
   "cell_type": "code",
   "execution_count": 39,
   "metadata": {},
   "outputs": [
    {
     "data": {
      "text/plain": [
       "{'learning_rate': 0.1, 'max_depth': 5, 'n_estimators': 100}"
      ]
     },
     "execution_count": 39,
     "metadata": {},
     "output_type": "execute_result"
    }
   ],
   "source": [
    "gsearch.best_params_"
   ]
  },
  {
   "cell_type": "code",
   "execution_count": 40,
   "metadata": {},
   "outputs": [
    {
     "data": {
      "text/plain": [
       "24.687766078716827"
      ]
     },
     "execution_count": 40,
     "metadata": {},
     "output_type": "execute_result"
    }
   ],
   "source": [
    "math.sqrt(-gsearch.best_score_)"
   ]
  },
  {
   "cell_type": "markdown",
   "metadata": {},
   "source": [
    "Обучим модель LGBM с использованием подобранных параметров и посчитаем предсказания и целевую метрику RMSE на тестовой выборке."
   ]
  },
  {
   "cell_type": "code",
   "execution_count": 41,
   "metadata": {
    "scrolled": true
   },
   "outputs": [
    {
     "name": "stdout",
     "output_type": "stream",
     "text": [
      "RMSE LGBM на тестовой выборке: 42.69679408594258\n",
      "\n",
      "Wall time: 43 ms\n"
     ]
    }
   ],
   "source": [
    "%%time\n",
    "lgbm_test = LGBMRegressor(learning_rate=0.1, max_depth=5, n_estimators=100)\n",
    "lgbm_test.fit(features_join, target_join)\n",
    "\n",
    "pred_lgbm_test_cv = lgbm_test.predict(test_features)\n",
    "rmse_lgbm_test = mean_squared_error(test_target, pred_lgbm_test_cv)**0.5\n",
    "\n",
    "print('RMSE LGBM на тестовой выборке:', rmse_lgbm_test)\n",
    "print()"
   ]
  },
  {
   "cell_type": "markdown",
   "metadata": {},
   "source": [
    "**Модель CatBoost**"
   ]
  },
  {
   "cell_type": "code",
   "execution_count": 42,
   "metadata": {},
   "outputs": [],
   "source": [
    "cat_003_6 = CatBoostRegressor(learning_rate=0.03 , depth=6)"
   ]
  },
  {
   "cell_type": "code",
   "execution_count": 43,
   "metadata": {},
   "outputs": [
    {
     "name": "stdout",
     "output_type": "stream",
     "text": [
      "Wall time: 1.69 s\n"
     ]
    },
    {
     "data": {
      "text/plain": [
       "<catboost.core.CatBoostRegressor at 0x22608001dc0>"
      ]
     },
     "execution_count": 43,
     "metadata": {},
     "output_type": "execute_result"
    }
   ],
   "source": [
    "%%time\n",
    "cat_003_6.fit(features_join, target_join, verbose=0)"
   ]
  },
  {
   "cell_type": "code",
   "execution_count": 44,
   "metadata": {},
   "outputs": [],
   "source": [
    "pred_cat_test = cat_003_6.predict(test_features)"
   ]
  },
  {
   "cell_type": "code",
   "execution_count": 45,
   "metadata": {},
   "outputs": [
    {
     "name": "stdout",
     "output_type": "stream",
     "text": [
      "RMSE модели CatBoost 42.55476197535738\n"
     ]
    }
   ],
   "source": [
    "rmse_cat = mean_squared_error(test_target, pred_cat_test)**0.5\n",
    "print('RMSE модели CatBoost', rmse_cat)"
   ]
  },
  {
   "cell_type": "code",
   "execution_count": 46,
   "metadata": {},
   "outputs": [
    {
     "name": "stdout",
     "output_type": "stream",
     "text": [
      "\n",
      " Таблица сравнения итоговых метрик для разных моделей \n",
      "\n"
     ]
    },
    {
     "data": {
      "text/html": [
       "<div>\n",
       "<style scoped>\n",
       "    .dataframe tbody tr th:only-of-type {\n",
       "        vertical-align: middle;\n",
       "    }\n",
       "\n",
       "    .dataframe tbody tr th {\n",
       "        vertical-align: top;\n",
       "    }\n",
       "\n",
       "    .dataframe thead th {\n",
       "        text-align: right;\n",
       "    }\n",
       "</style>\n",
       "<table border=\"1\" class=\"dataframe\">\n",
       "  <thead>\n",
       "    <tr style=\"text-align: right;\">\n",
       "      <th></th>\n",
       "      <th>Модель</th>\n",
       "      <th>RMSE</th>\n",
       "    </tr>\n",
       "  </thead>\n",
       "  <tbody>\n",
       "    <tr>\n",
       "      <th>0</th>\n",
       "      <td>LinearRegression</td>\n",
       "      <td>51.22</td>\n",
       "    </tr>\n",
       "    <tr>\n",
       "      <th>1</th>\n",
       "      <td>RandomForestRegression</td>\n",
       "      <td>45.95</td>\n",
       "    </tr>\n",
       "    <tr>\n",
       "      <th>2</th>\n",
       "      <td>LightGBM</td>\n",
       "      <td>44.16</td>\n",
       "    </tr>\n",
       "    <tr>\n",
       "      <th>3</th>\n",
       "      <td>CatBoost</td>\n",
       "      <td>42.11</td>\n",
       "    </tr>\n",
       "  </tbody>\n",
       "</table>\n",
       "</div>"
      ],
      "text/plain": [
       "                   Модель   RMSE\n",
       "0        LinearRegression  51.22\n",
       "1  RandomForestRegression  45.95\n",
       "2                LightGBM  44.16\n",
       "3                CatBoost  42.11"
      ]
     },
     "metadata": {},
     "output_type": "display_data"
    }
   ],
   "source": [
    "index = [\n",
    "    ['LinearRegression', 51.22],\n",
    "    ['RandomForestRegression', 45.95],\n",
    "    ['LightGBM', 44.16],\n",
    "    ['CatBoost', 42.11]\n",
    "]\n",
    "col_cat = ['Модель', 'RMSE']\n",
    "research_models_cat = pd.DataFrame(index, columns=col_cat)\n",
    "print('\\n', 'Таблица сравнения итоговых метрик для разных моделей', '\\n')\n",
    "display(research_models_cat)"
   ]
  },
  {
   "cell_type": "markdown",
   "metadata": {},
   "source": [
    "### Графическое сравнение "
   ]
  },
  {
   "cell_type": "markdown",
   "metadata": {},
   "source": [
    "Напишем функцию вывода графика целевых значений и предсказаний модели."
   ]
  },
  {
   "cell_type": "code",
   "execution_count": 47,
   "metadata": {},
   "outputs": [],
   "source": [
    "def comparison(pred, target, start, stop, title_model):\n",
    "    predictions = pd.Series(pred, index=target.index) \n",
    "    predictions[start:stop].plot(figsize=(16,9), label='Предсказания')\n",
    "    target[start:stop].plot(figsize=(16,9), label='Фактические значения')\n",
    "    plt.legend()\n",
    "    plt.xlabel('Дата/Время')\n",
    "    plt.ylabel('Количество заказов')\n",
    "    plt.grid(True)\n",
    "    plt.title(title_model)"
   ]
  },
  {
   "cell_type": "markdown",
   "metadata": {},
   "source": [
    "Построим для результатов каждой модели сравнительные графики."
   ]
  },
  {
   "cell_type": "markdown",
   "metadata": {},
   "source": [
    "**Линейная регрессия**"
   ]
  },
  {
   "cell_type": "code",
   "execution_count": 48,
   "metadata": {},
   "outputs": [
    {
     "data": {
      "image/png": "[encoded data removed]",
      "text/plain": [
       "<Figure size 1152x648 with 1 Axes>"
      ]
     },
     "metadata": {
      "needs_background": "light"
     },
     "output_type": "display_data"
    }
   ],
   "source": [
    "comparison(pred_lin_test, test_target, '2018-08-29','2018-08-31', \"Линейная регрессия\")"
   ]
  },
  {
   "cell_type": "markdown",
   "metadata": {},
   "source": [
    "**Случайный Лес Регрессии**"
   ]
  },
  {
   "cell_type": "code",
   "execution_count": 49,
   "metadata": {},
   "outputs": [
    {
     "data": {
      "image/png": "[encoded data removed]",
      "text/plain": [
       "<Figure size 1152x648 with 1 Axes>"
      ]
     },
     "metadata": {
      "needs_background": "light"
     },
     "output_type": "display_data"
    }
   ],
   "source": [
    "comparison(pred_rfr_test, test_target, '2018-08-29','2018-08-31', \"Случайный Лес Регрессии\")"
   ]
  },
  {
   "cell_type": "markdown",
   "metadata": {},
   "source": [
    "**Модель LGBM**"
   ]
  },
  {
   "cell_type": "code",
   "execution_count": 50,
   "metadata": {},
   "outputs": [
    {
     "data": {
      "image/png": "[encoded data removed]",
      "text/plain": [
       "<Figure size 1152x648 with 1 Axes>"
      ]
     },
     "metadata": {
      "needs_background": "light"
     },
     "output_type": "display_data"
    }
   ],
   "source": [
    "comparison(pred_lgbm_test, test_target, '2018-08-29','2018-08-31', \"LGBM\")"
   ]
  },
  {
   "cell_type": "markdown",
   "metadata": {},
   "source": [
    "**Модель CatBoost**"
   ]
  },
  {
   "cell_type": "code",
   "execution_count": 51,
   "metadata": {},
   "outputs": [
    {
     "data": {
      "image/png": "[encoded data removed]",
      "text/plain": [
       "<Figure size 1152x648 with 1 Axes>"
      ]
     },
     "metadata": {
      "needs_background": "light"
     },
     "output_type": "display_data"
    }
   ],
   "source": [
    "comparison(pred_cat_test, test_target, '2018-08-29','2018-08-31', \"CatBoost\")"
   ]
  },
  {
   "cell_type": "markdown",
   "metadata": {},
   "source": [
    "## Вывод"
   ]
  },
  {
   "cell_type": "markdown",
   "metadata": {},
   "source": [
    "В соответствии с поставленной задачей удалось достигнуть значения целевой метрики RMSE на уровне ниже 48 у трех моделей из четырех. \n",
    "\n",
    "Хуже всех по качеству метрики RMSE показала себя модель Линейной регрессии. RMSE = 51.22\n",
    "\n",
    "***Лучший результат*** у модели CatBoost. RMSE = 42.11"
   ]
  }
 ],
 "metadata": {
  "ExecuteTimeLog": [
   {
    "duration": 720,
    "start_time": "2021-07-21T08:31:26.799Z"
   },
   {
    "duration": 41,
    "start_time": "2021-07-21T08:32:31.572Z"
   },
   {
    "duration": 22,
    "start_time": "2021-07-21T08:32:35.109Z"
   },
   {
    "duration": 10,
    "start_time": "2021-07-21T08:32:43.859Z"
   },
   {
    "duration": 46,
    "start_time": "2021-07-21T08:34:14.394Z"
   },
   {
    "duration": 12,
    "start_time": "2021-07-21T08:34:16.303Z"
   },
   {
    "duration": 9,
    "start_time": "2021-07-21T08:34:19.687Z"
   },
   {
    "duration": 45,
    "start_time": "2021-07-21T08:34:58.927Z"
   },
   {
    "duration": 12,
    "start_time": "2021-07-21T08:35:00.047Z"
   },
   {
    "duration": 9,
    "start_time": "2021-07-21T08:35:01.915Z"
   },
   {
    "duration": 9,
    "start_time": "2021-07-21T08:35:11.598Z"
   },
   {
    "duration": 8,
    "start_time": "2021-07-21T08:35:13.235Z"
   },
   {
    "duration": 5,
    "start_time": "2021-07-21T08:40:04.482Z"
   },
   {
    "duration": 13,
    "start_time": "2021-07-21T08:42:07.361Z"
   },
   {
    "duration": 11,
    "start_time": "2021-07-21T08:42:11.242Z"
   },
   {
    "duration": 8,
    "start_time": "2021-07-21T08:42:48.056Z"
   },
   {
    "duration": 665,
    "start_time": "2021-07-21T08:44:09.723Z"
   },
   {
    "duration": 9,
    "start_time": "2021-07-21T08:45:56.389Z"
   },
   {
    "duration": 505,
    "start_time": "2021-07-21T08:46:02.361Z"
   },
   {
    "duration": 10,
    "start_time": "2021-07-21T08:46:23.107Z"
   },
   {
    "duration": 466,
    "start_time": "2021-07-21T08:46:29.505Z"
   },
   {
    "duration": 16,
    "start_time": "2021-07-21T08:47:35.057Z"
   },
   {
    "duration": 419,
    "start_time": "2021-07-21T08:47:39.076Z"
   },
   {
    "duration": 380,
    "start_time": "2021-07-21T08:47:50.469Z"
   },
   {
    "duration": 578,
    "start_time": "2021-07-21T08:48:28.641Z"
   },
   {
    "duration": 577,
    "start_time": "2021-07-21T08:48:33.648Z"
   },
   {
    "duration": 9,
    "start_time": "2021-07-21T08:53:02.036Z"
   },
   {
    "duration": 728,
    "start_time": "2021-07-21T08:53:02.632Z"
   },
   {
    "duration": 371,
    "start_time": "2021-07-21T08:54:43.817Z"
   },
   {
    "duration": 545,
    "start_time": "2021-07-21T08:54:56.387Z"
   },
   {
    "duration": 9,
    "start_time": "2021-07-21T08:55:02.340Z"
   },
   {
    "duration": 1459,
    "start_time": "2021-07-21T08:55:30.317Z"
   },
   {
    "duration": 286,
    "start_time": "2021-07-21T08:55:49.749Z"
   },
   {
    "duration": 6749,
    "start_time": "2021-07-21T08:55:59.639Z"
   },
   {
    "duration": 7211,
    "start_time": "2021-07-21T08:56:11.803Z"
   },
   {
    "duration": 6,
    "start_time": "2021-07-21T08:56:34.109Z"
   },
   {
    "duration": 1327,
    "start_time": "2021-07-21T08:56:37.080Z"
   },
   {
    "duration": 643,
    "start_time": "2021-07-21T09:00:26.002Z"
   },
   {
    "duration": 768,
    "start_time": "2021-07-21T09:01:04.028Z"
   },
   {
    "duration": 992,
    "start_time": "2021-07-21T09:01:12.925Z"
   },
   {
    "duration": 1293,
    "start_time": "2021-07-21T09:01:19.676Z"
   },
   {
    "duration": 285,
    "start_time": "2021-07-21T09:01:27.181Z"
   },
   {
    "duration": 1052,
    "start_time": "2021-07-21T09:01:47.886Z"
   },
   {
    "duration": 1337,
    "start_time": "2021-07-21T09:01:57.351Z"
   },
   {
    "duration": 280,
    "start_time": "2021-07-21T09:02:22.422Z"
   },
   {
    "duration": 1550,
    "start_time": "2021-07-21T09:02:38.852Z"
   },
   {
    "duration": 15,
    "start_time": "2021-07-21T09:05:07.475Z"
   },
   {
    "duration": 9,
    "start_time": "2021-07-21T09:05:31.858Z"
   },
   {
    "duration": 1279,
    "start_time": "2021-07-21T09:05:33.777Z"
   },
   {
    "duration": 9,
    "start_time": "2021-07-21T09:11:11.198Z"
   },
   {
    "duration": 1874,
    "start_time": "2021-07-21T09:11:12.582Z"
   },
   {
    "duration": 8,
    "start_time": "2021-07-21T09:13:01.815Z"
   },
   {
    "duration": 1308,
    "start_time": "2021-07-21T09:13:02.147Z"
   },
   {
    "duration": 10,
    "start_time": "2021-07-21T09:14:17.926Z"
   },
   {
    "duration": 1295,
    "start_time": "2021-07-21T09:14:18.640Z"
   },
   {
    "duration": 9,
    "start_time": "2021-07-21T09:14:35.020Z"
   },
   {
    "duration": 1467,
    "start_time": "2021-07-21T09:14:36.304Z"
   },
   {
    "duration": 8,
    "start_time": "2021-07-21T09:17:36.675Z"
   },
   {
    "duration": 2332,
    "start_time": "2021-07-21T09:17:37.001Z"
   },
   {
    "duration": 8,
    "start_time": "2021-07-21T09:18:00.124Z"
   },
   {
    "duration": 1281,
    "start_time": "2021-07-21T09:18:00.612Z"
   },
   {
    "duration": 8,
    "start_time": "2021-07-21T09:19:09.747Z"
   },
   {
    "duration": 1342,
    "start_time": "2021-07-21T09:19:10.032Z"
   },
   {
    "duration": 8,
    "start_time": "2021-07-21T09:19:23.586Z"
   },
   {
    "duration": 1166,
    "start_time": "2021-07-21T09:19:24.084Z"
   },
   {
    "duration": 8,
    "start_time": "2021-07-21T09:19:36.219Z"
   },
   {
    "duration": 1406,
    "start_time": "2021-07-21T09:19:36.989Z"
   },
   {
    "duration": 10,
    "start_time": "2021-07-21T09:26:28.207Z"
   },
   {
    "duration": 8,
    "start_time": "2021-07-21T09:26:58.515Z"
   },
   {
    "duration": 1420,
    "start_time": "2021-07-21T09:26:59.240Z"
   },
   {
    "duration": 1415,
    "start_time": "2021-07-21T09:27:24.915Z"
   },
   {
    "duration": 10,
    "start_time": "2021-07-21T09:27:35.839Z"
   },
   {
    "duration": 1561,
    "start_time": "2021-07-21T09:27:36.290Z"
   },
   {
    "duration": 12,
    "start_time": "2021-07-21T09:27:52.223Z"
   },
   {
    "duration": 1057,
    "start_time": "2021-07-21T09:27:52.838Z"
   },
   {
    "duration": 12,
    "start_time": "2021-07-21T09:28:23.178Z"
   },
   {
    "duration": 916,
    "start_time": "2021-07-21T09:28:23.525Z"
   },
   {
    "duration": 11,
    "start_time": "2021-07-21T09:28:35.131Z"
   },
   {
    "duration": 944,
    "start_time": "2021-07-21T09:28:35.526Z"
   },
   {
    "duration": 15,
    "start_time": "2021-07-21T09:29:11.699Z"
   },
   {
    "duration": 1397,
    "start_time": "2021-07-21T09:29:17.115Z"
   },
   {
    "duration": 12,
    "start_time": "2021-07-21T09:29:42.352Z"
   },
   {
    "duration": 1409,
    "start_time": "2021-07-21T09:29:42.713Z"
   },
   {
    "duration": 16,
    "start_time": "2021-07-21T09:30:07.226Z"
   },
   {
    "duration": 12,
    "start_time": "2021-07-21T09:30:10.485Z"
   },
   {
    "duration": 1117,
    "start_time": "2021-07-21T09:30:10.939Z"
   },
   {
    "duration": 1015,
    "start_time": "2021-07-22T08:41:55.790Z"
   },
   {
    "duration": 40,
    "start_time": "2021-07-22T08:41:56.807Z"
   },
   {
    "duration": 11,
    "start_time": "2021-07-22T08:41:56.850Z"
   },
   {
    "duration": 8,
    "start_time": "2021-07-22T08:41:56.863Z"
   },
   {
    "duration": 6,
    "start_time": "2021-07-22T08:41:56.873Z"
   },
   {
    "duration": 13,
    "start_time": "2021-07-22T08:41:56.881Z"
   },
   {
    "duration": 6,
    "start_time": "2021-07-22T08:41:56.896Z"
   },
   {
    "duration": 38,
    "start_time": "2021-07-22T08:41:56.903Z"
   },
   {
    "duration": 6,
    "start_time": "2021-07-22T08:41:56.944Z"
   },
   {
    "duration": 426,
    "start_time": "2021-07-22T08:41:56.952Z"
   },
   {
    "duration": 7,
    "start_time": "2021-07-22T08:41:57.380Z"
   },
   {
    "duration": 1004,
    "start_time": "2021-07-22T08:41:57.388Z"
   },
   {
    "duration": 7,
    "start_time": "2021-07-22T08:41:58.394Z"
   },
   {
    "duration": 677,
    "start_time": "2021-07-22T08:41:58.403Z"
   },
   {
    "duration": 3,
    "start_time": "2021-07-22T08:41:59.082Z"
   },
   {
    "duration": 7269,
    "start_time": "2021-07-22T08:43:51.479Z"
   },
   {
    "duration": 4,
    "start_time": "2021-07-22T08:44:24.554Z"
   },
   {
    "duration": 30,
    "start_time": "2021-07-22T08:44:25.542Z"
   },
   {
    "duration": 6,
    "start_time": "2021-07-22T08:45:28.869Z"
   },
   {
    "duration": 28,
    "start_time": "2021-07-22T08:45:29.460Z"
   },
   {
    "duration": 3,
    "start_time": "2021-07-22T08:45:42.213Z"
   },
   {
    "duration": 23,
    "start_time": "2021-07-22T08:45:43.375Z"
   },
   {
    "duration": 20,
    "start_time": "2021-07-22T08:46:01.539Z"
   },
   {
    "duration": 128,
    "start_time": "2021-07-22T08:47:53.062Z"
   },
   {
    "duration": 8,
    "start_time": "2021-07-22T08:51:03.167Z"
   },
   {
    "duration": 7,
    "start_time": "2021-07-22T08:54:56.151Z"
   },
   {
    "duration": 4,
    "start_time": "2021-07-22T08:56:49.808Z"
   },
   {
    "duration": 3,
    "start_time": "2021-07-22T09:07:58.369Z"
   },
   {
    "duration": 8,
    "start_time": "2021-07-22T09:19:53.427Z"
   },
   {
    "duration": 7,
    "start_time": "2021-07-22T09:20:19.564Z"
   },
   {
    "duration": 12,
    "start_time": "2021-07-22T09:21:57.135Z"
   },
   {
    "duration": 4,
    "start_time": "2021-07-22T11:51:47.831Z"
   },
   {
    "duration": 23,
    "start_time": "2021-07-22T11:52:53.254Z"
   },
   {
    "duration": 5,
    "start_time": "2021-07-22T11:53:17.645Z"
   },
   {
    "duration": 3,
    "start_time": "2021-07-22T11:53:25.005Z"
   },
   {
    "duration": 193,
    "start_time": "2021-07-22T11:54:37.904Z"
   },
   {
    "duration": 282,
    "start_time": "2021-07-22T11:55:10.330Z"
   },
   {
    "duration": 34,
    "start_time": "2021-07-22T11:55:33.373Z"
   },
   {
    "duration": 219,
    "start_time": "2021-07-22T11:55:37.545Z"
   },
   {
    "duration": 4,
    "start_time": "2021-07-22T11:55:56.260Z"
   },
   {
    "duration": 493,
    "start_time": "2021-07-22T11:56:01.210Z"
   },
   {
    "duration": 6,
    "start_time": "2021-07-22T11:57:33.984Z"
   },
   {
    "duration": 25,
    "start_time": "2021-07-22T11:57:35.039Z"
   },
   {
    "duration": 28924,
    "start_time": "2021-07-22T11:57:41.746Z"
   },
   {
    "duration": 28,
    "start_time": "2021-07-22T12:00:29.445Z"
   },
   {
    "duration": 3,
    "start_time": "2021-07-22T12:00:34.639Z"
   },
   {
    "duration": 15242,
    "start_time": "2021-07-22T12:02:46.611Z"
   },
   {
    "duration": 94,
    "start_time": "2021-07-22T12:05:09.183Z"
   },
   {
    "duration": 8,
    "start_time": "2021-07-22T12:06:53.700Z"
   },
   {
    "duration": 3,
    "start_time": "2021-07-22T12:09:34.132Z"
   },
   {
    "duration": 459,
    "start_time": "2021-07-22T12:09:35.366Z"
   },
   {
    "duration": 3,
    "start_time": "2021-07-22T12:09:38.784Z"
   },
   {
    "duration": 31565,
    "start_time": "2021-07-22T12:09:39.191Z"
   },
   {
    "duration": 3,
    "start_time": "2021-07-22T12:10:31.545Z"
   },
   {
    "duration": 49625,
    "start_time": "2021-07-22T12:10:32.125Z"
   },
   {
    "duration": 2,
    "start_time": "2021-07-22T12:11:21.752Z"
   },
   {
    "duration": 1136,
    "start_time": "2021-07-22T12:11:48.208Z"
   },
   {
    "duration": 152944,
    "start_time": "2021-07-22T12:13:17.838Z"
   },
   {
    "duration": 40,
    "start_time": "2021-07-22T12:16:32.577Z"
   },
   {
    "duration": 2,
    "start_time": "2021-07-22T12:18:38.699Z"
   },
   {
    "duration": 16538,
    "start_time": "2021-07-22T12:18:39.205Z"
   },
   {
    "duration": 5,
    "start_time": "2021-07-22T12:19:54.069Z"
   },
   {
    "duration": 4,
    "start_time": "2021-07-22T12:19:54.628Z"
   },
   {
    "duration": 20,
    "start_time": "2021-07-22T12:25:00.625Z"
   },
   {
    "duration": 6,
    "start_time": "2021-07-22T12:28:30.093Z"
   },
   {
    "duration": 3,
    "start_time": "2021-07-22T12:31:08.103Z"
   },
   {
    "duration": 960,
    "start_time": "2021-07-22T12:32:22.536Z"
   },
   {
    "duration": 12,
    "start_time": "2021-07-22T12:33:07.823Z"
   },
   {
    "duration": 484,
    "start_time": "2021-07-22T12:34:46.058Z"
   },
   {
    "duration": 11,
    "start_time": "2021-07-22T12:35:13.676Z"
   },
   {
    "duration": 12,
    "start_time": "2021-07-22T12:36:03.705Z"
   },
   {
    "duration": 4,
    "start_time": "2021-07-22T12:37:35.539Z"
   },
   {
    "duration": 5,
    "start_time": "2021-07-22T12:37:48.724Z"
   },
   {
    "duration": 4,
    "start_time": "2021-07-22T12:37:49.347Z"
   },
   {
    "duration": 272,
    "start_time": "2021-07-22T12:59:31.977Z"
   },
   {
    "duration": 12,
    "start_time": "2021-07-22T13:00:17.567Z"
   },
   {
    "duration": 9,
    "start_time": "2021-07-22T13:00:44.083Z"
   },
   {
    "duration": 8,
    "start_time": "2021-07-22T13:00:46.251Z"
   },
   {
    "duration": 145,
    "start_time": "2021-07-22T13:02:50.182Z"
   },
   {
    "duration": 1203,
    "start_time": "2021-07-22T13:34:00.631Z"
   },
   {
    "duration": 37,
    "start_time": "2021-07-22T13:34:01.836Z"
   },
   {
    "duration": 9,
    "start_time": "2021-07-22T13:34:05.744Z"
   },
   {
    "duration": 5,
    "start_time": "2021-07-22T13:34:06.268Z"
   },
   {
    "duration": 4,
    "start_time": "2021-07-22T13:38:56.028Z"
   },
   {
    "duration": 10,
    "start_time": "2021-07-22T13:38:57.738Z"
   },
   {
    "duration": 7,
    "start_time": "2021-07-22T13:38:57.960Z"
   },
   {
    "duration": 7,
    "start_time": "2021-07-22T13:39:23.985Z"
   },
   {
    "duration": 6,
    "start_time": "2021-07-22T13:39:24.180Z"
   },
   {
    "duration": 382,
    "start_time": "2021-07-22T13:39:24.330Z"
   },
   {
    "duration": 7,
    "start_time": "2021-07-22T13:39:25.165Z"
   },
   {
    "duration": 778,
    "start_time": "2021-07-22T13:39:25.359Z"
   },
   {
    "duration": 7,
    "start_time": "2021-07-22T13:39:32.905Z"
   },
   {
    "duration": 672,
    "start_time": "2021-07-22T13:39:33.194Z"
   },
   {
    "duration": 7,
    "start_time": "2021-07-22T13:42:30.633Z"
   },
   {
    "duration": 5,
    "start_time": "2021-07-22T13:42:34.780Z"
   },
   {
    "duration": 279,
    "start_time": "2021-07-22T13:42:43.011Z"
   },
   {
    "duration": 4,
    "start_time": "2021-07-22T14:00:26.086Z"
   },
   {
    "duration": 197,
    "start_time": "2021-07-22T14:00:51.653Z"
   },
   {
    "duration": 1666,
    "start_time": "2021-07-22T22:24:24.119Z"
   },
   {
    "duration": 48,
    "start_time": "2021-07-22T22:24:25.789Z"
   },
   {
    "duration": 13,
    "start_time": "2021-07-22T22:24:25.840Z"
   },
   {
    "duration": 8,
    "start_time": "2021-07-22T22:24:25.863Z"
   },
   {
    "duration": 6,
    "start_time": "2021-07-22T22:24:25.874Z"
   },
   {
    "duration": 15,
    "start_time": "2021-07-22T22:24:25.882Z"
   },
   {
    "duration": 9,
    "start_time": "2021-07-22T22:24:25.900Z"
   },
   {
    "duration": 53,
    "start_time": "2021-07-22T22:24:25.912Z"
   },
   {
    "duration": 10,
    "start_time": "2021-07-22T22:24:25.970Z"
   },
   {
    "duration": 711,
    "start_time": "2021-07-22T22:24:25.984Z"
   },
   {
    "duration": 9,
    "start_time": "2021-07-22T22:24:26.697Z"
   },
   {
    "duration": 1433,
    "start_time": "2021-07-22T22:24:26.709Z"
   },
   {
    "duration": 22,
    "start_time": "2021-07-22T22:24:28.145Z"
   },
   {
    "duration": 1066,
    "start_time": "2021-07-22T22:24:28.169Z"
   },
   {
    "duration": 5,
    "start_time": "2021-07-22T22:24:29.237Z"
   },
   {
    "duration": 63,
    "start_time": "2021-07-22T22:24:29.244Z"
   },
   {
    "duration": 10,
    "start_time": "2021-07-22T22:24:29.309Z"
   },
   {
    "duration": 10,
    "start_time": "2021-07-22T22:24:29.321Z"
   },
   {
    "duration": 131,
    "start_time": "2021-07-22T22:24:29.333Z"
   },
   {
    "duration": 98,
    "start_time": "2021-07-22T22:24:29.467Z"
   },
   {
    "duration": 40352,
    "start_time": "2021-07-22T22:24:29.568Z"
   },
   {
    "duration": 4,
    "start_time": "2021-07-22T22:25:09.922Z"
   },
   {
    "duration": 18133,
    "start_time": "2021-07-22T22:25:09.928Z"
   },
   {
    "duration": 182663,
    "start_time": "2021-07-22T22:25:28.064Z"
   },
   {
    "duration": 5,
    "start_time": "2021-07-22T22:28:30.730Z"
   },
   {
    "duration": 21589,
    "start_time": "2021-07-22T22:28:30.738Z"
   },
   {
    "duration": 7,
    "start_time": "2021-07-22T22:28:52.332Z"
   },
   {
    "duration": 7,
    "start_time": "2021-07-22T22:28:52.343Z"
   },
   {
    "duration": 11,
    "start_time": "2021-07-22T22:28:52.353Z"
   },
   {
    "duration": 1821,
    "start_time": "2021-07-22T22:28:52.367Z"
   },
   {
    "duration": 27,
    "start_time": "2021-07-22T22:28:54.191Z"
   },
   {
    "duration": 649,
    "start_time": "2021-07-22T22:28:54.222Z"
   },
   {
    "duration": 91,
    "start_time": "2021-07-22T22:28:54.874Z"
   },
   {
    "duration": 9,
    "start_time": "2021-07-22T22:28:54.969Z"
   },
   {
    "duration": 18,
    "start_time": "2021-07-22T22:28:54.981Z"
   },
   {
    "duration": 23,
    "start_time": "2021-07-22T22:28:55.002Z"
   },
   {
    "duration": 1637,
    "start_time": "2021-07-23T08:58:11.940Z"
   },
   {
    "duration": 128,
    "start_time": "2021-07-23T08:58:14.261Z"
   },
   {
    "duration": 14,
    "start_time": "2021-07-23T08:58:14.635Z"
   },
   {
    "duration": 10,
    "start_time": "2021-07-23T08:58:15.216Z"
   },
   {
    "duration": 7,
    "start_time": "2021-07-23T08:58:16.225Z"
   },
   {
    "duration": 18,
    "start_time": "2021-07-23T08:58:16.922Z"
   },
   {
    "duration": 13,
    "start_time": "2021-07-23T08:58:17.173Z"
   },
   {
    "duration": 10,
    "start_time": "2021-07-23T08:58:18.806Z"
   },
   {
    "duration": 8,
    "start_time": "2021-07-23T08:58:19.058Z"
   },
   {
    "duration": 659,
    "start_time": "2021-07-23T08:58:19.252Z"
   },
   {
    "duration": 11,
    "start_time": "2021-07-23T08:58:19.914Z"
   },
   {
    "duration": 1391,
    "start_time": "2021-07-23T08:58:20.105Z"
   },
   {
    "duration": 13,
    "start_time": "2021-07-23T08:58:21.502Z"
   },
   {
    "duration": 1085,
    "start_time": "2021-07-23T08:58:21.518Z"
   },
   {
    "duration": 5,
    "start_time": "2021-07-23T09:03:43.724Z"
   },
   {
    "duration": 947,
    "start_time": "2021-07-23T09:04:23.365Z"
   },
   {
    "duration": 5,
    "start_time": "2021-07-23T09:04:34.265Z"
   },
   {
    "duration": 19,
    "start_time": "2021-07-23T09:04:35.289Z"
   },
   {
    "duration": 10,
    "start_time": "2021-07-23T09:05:44.461Z"
   },
   {
    "duration": 9,
    "start_time": "2021-07-23T09:05:46.495Z"
   },
   {
    "duration": 12,
    "start_time": "2021-07-23T09:05:52.026Z"
   },
   {
    "duration": 12,
    "start_time": "2021-07-23T09:09:52.111Z"
   },
   {
    "duration": 5,
    "start_time": "2021-07-23T09:09:58.557Z"
   },
   {
    "duration": 12309,
    "start_time": "2021-07-23T09:09:59.277Z"
   },
   {
    "duration": 5,
    "start_time": "2021-07-23T09:10:44.558Z"
   },
   {
    "duration": 17875,
    "start_time": "2021-07-23T09:10:46.039Z"
   },
   {
    "duration": 169046,
    "start_time": "2021-07-23T09:11:08.351Z"
   },
   {
    "duration": 4,
    "start_time": "2021-07-23T09:14:14.839Z"
   },
   {
    "duration": 17013,
    "start_time": "2021-07-23T09:14:19.627Z"
   },
   {
    "duration": 65,
    "start_time": "2021-07-23T09:14:38.573Z"
   },
   {
    "duration": 4,
    "start_time": "2021-07-23T09:15:03.496Z"
   },
   {
    "duration": 12011,
    "start_time": "2021-07-23T09:15:05.669Z"
   },
   {
    "duration": 7,
    "start_time": "2021-07-23T09:15:19.491Z"
   },
   {
    "duration": 6,
    "start_time": "2021-07-23T09:15:20.585Z"
   },
   {
    "duration": 8,
    "start_time": "2021-07-23T09:15:32.929Z"
   },
   {
    "duration": 358,
    "start_time": "2021-07-23T09:15:38.367Z"
   },
   {
    "duration": 20,
    "start_time": "2021-07-23T09:15:40.182Z"
   },
   {
    "duration": 533,
    "start_time": "2021-07-23T09:15:46.469Z"
   },
   {
    "duration": 17,
    "start_time": "2021-07-23T09:15:47.738Z"
   },
   {
    "duration": 7,
    "start_time": "2021-07-23T09:15:52.014Z"
   },
   {
    "duration": 5,
    "start_time": "2021-07-23T09:15:52.331Z"
   },
   {
    "duration": 12,
    "start_time": "2021-07-23T09:15:53.201Z"
   },
   {
    "duration": 6,
    "start_time": "2021-07-23T09:17:25.041Z"
   },
   {
    "duration": 24,
    "start_time": "2021-07-23T09:17:26.963Z"
   },
   {
    "duration": 12,
    "start_time": "2021-07-23T09:17:31.532Z"
   },
   {
    "duration": 9,
    "start_time": "2021-07-23T09:17:32.568Z"
   },
   {
    "duration": 11,
    "start_time": "2021-07-23T09:17:34.341Z"
   },
   {
    "duration": 4,
    "start_time": "2021-07-23T09:17:37.237Z"
   },
   {
    "duration": 19551,
    "start_time": "2021-07-23T09:17:42.513Z"
   },
   {
    "duration": 5,
    "start_time": "2021-07-23T09:18:05.066Z"
   },
   {
    "duration": 18101,
    "start_time": "2021-07-23T09:18:06.904Z"
   },
   {
    "duration": 4,
    "start_time": "2021-07-23T09:18:41.328Z"
   },
   {
    "duration": 11929,
    "start_time": "2021-07-23T09:18:42.166Z"
   },
   {
    "duration": 7,
    "start_time": "2021-07-23T09:18:54.962Z"
   },
   {
    "duration": 6,
    "start_time": "2021-07-23T09:18:55.261Z"
   },
   {
    "duration": 8,
    "start_time": "2021-07-23T09:18:58.933Z"
   },
   {
    "duration": 603,
    "start_time": "2021-07-23T09:19:01.691Z"
   },
   {
    "duration": 19,
    "start_time": "2021-07-23T09:19:04.045Z"
   },
   {
    "duration": 579,
    "start_time": "2021-07-23T09:19:06.532Z"
   },
   {
    "duration": 17,
    "start_time": "2021-07-23T09:19:08.002Z"
   },
   {
    "duration": 9,
    "start_time": "2021-07-23T09:19:09.408Z"
   },
   {
    "duration": 5,
    "start_time": "2021-07-23T09:19:09.715Z"
   },
   {
    "duration": 12,
    "start_time": "2021-07-23T09:19:10.012Z"
   },
   {
    "duration": 6,
    "start_time": "2021-07-23T09:20:26.110Z"
   },
   {
    "duration": 5,
    "start_time": "2021-07-23T09:20:33.084Z"
   },
   {
    "duration": 43,
    "start_time": "2021-07-23T09:20:33.400Z"
   },
   {
    "duration": 9,
    "start_time": "2021-07-23T09:20:34.304Z"
   },
   {
    "duration": 7,
    "start_time": "2021-07-23T09:20:39.230Z"
   },
   {
    "duration": 44,
    "start_time": "2021-07-23T09:20:42.224Z"
   },
   {
    "duration": 10,
    "start_time": "2021-07-23T09:20:59.855Z"
   },
   {
    "duration": 10,
    "start_time": "2021-07-23T09:21:01.832Z"
   },
   {
    "duration": 22,
    "start_time": "2021-07-23T09:21:03.409Z"
   },
   {
    "duration": 5,
    "start_time": "2021-07-23T09:21:22.300Z"
   },
   {
    "duration": 84127,
    "start_time": "2021-07-23T09:21:26.797Z"
   },
   {
    "duration": 4,
    "start_time": "2021-07-23T09:23:03.006Z"
   },
   {
    "duration": 21691,
    "start_time": "2021-07-23T09:23:04.624Z"
   },
   {
    "duration": 240874,
    "start_time": "2021-07-23T09:23:33.563Z"
   },
   {
    "duration": 69,
    "start_time": "2021-07-23T09:28:05.941Z"
   },
   {
    "duration": 4,
    "start_time": "2021-07-23T09:28:34.625Z"
   },
   {
    "duration": 33261,
    "start_time": "2021-07-23T09:28:36.013Z"
   },
   {
    "duration": 10,
    "start_time": "2021-07-23T09:29:33.736Z"
   },
   {
    "duration": 6,
    "start_time": "2021-07-23T09:29:34.686Z"
   },
   {
    "duration": 12,
    "start_time": "2021-07-23T09:29:47.239Z"
   },
   {
    "duration": 986,
    "start_time": "2021-07-23T09:30:13.840Z"
   },
   {
    "duration": 24,
    "start_time": "2021-07-23T09:30:17.762Z"
   },
   {
    "duration": 801,
    "start_time": "2021-07-23T09:30:21.002Z"
   },
   {
    "duration": 14,
    "start_time": "2021-07-23T09:30:25.344Z"
   },
   {
    "duration": 8,
    "start_time": "2021-07-23T09:30:31.687Z"
   },
   {
    "duration": 6,
    "start_time": "2021-07-23T09:30:32.249Z"
   },
   {
    "duration": 12,
    "start_time": "2021-07-23T09:30:32.863Z"
   },
   {
    "duration": 11,
    "start_time": "2021-07-23T09:33:09.456Z"
   },
   {
    "duration": 20,
    "start_time": "2021-07-23T09:37:32.687Z"
   },
   {
    "duration": 16,
    "start_time": "2021-07-23T09:37:38.698Z"
   },
   {
    "duration": 8,
    "start_time": "2021-07-23T09:38:01.810Z"
   },
   {
    "duration": 6,
    "start_time": "2021-07-23T09:38:12.002Z"
   },
   {
    "duration": 7,
    "start_time": "2021-07-23T09:38:35.105Z"
   },
   {
    "duration": 4,
    "start_time": "2021-07-23T09:38:53.223Z"
   },
   {
    "duration": 40,
    "start_time": "2021-07-23T09:38:58.983Z"
   },
   {
    "duration": 4,
    "start_time": "2021-07-23T09:39:22.394Z"
   },
   {
    "duration": 8,
    "start_time": "2021-07-23T09:39:22.959Z"
   },
   {
    "duration": 7,
    "start_time": "2021-07-23T09:39:32.274Z"
   },
   {
    "duration": 8,
    "start_time": "2021-07-23T09:39:37.568Z"
   },
   {
    "duration": 6,
    "start_time": "2021-07-23T09:40:29.336Z"
   },
   {
    "duration": 8,
    "start_time": "2021-07-23T09:40:38.337Z"
   },
   {
    "duration": 711,
    "start_time": "2021-07-23T09:40:59.789Z"
   },
   {
    "duration": 430,
    "start_time": "2021-07-23T09:41:15.865Z"
   },
   {
    "duration": 521,
    "start_time": "2021-07-23T09:41:21.704Z"
   },
   {
    "duration": 19,
    "start_time": "2021-07-23T09:57:17.898Z"
   },
   {
    "duration": 395,
    "start_time": "2021-07-23T09:57:28.538Z"
   },
   {
    "duration": 383,
    "start_time": "2021-07-23T09:57:49.660Z"
   },
   {
    "duration": 428,
    "start_time": "2021-07-23T10:58:45.952Z"
   },
   {
    "duration": 5,
    "start_time": "2021-07-23T10:59:09.085Z"
   },
   {
    "duration": 372,
    "start_time": "2021-07-23T10:59:09.926Z"
   },
   {
    "duration": 516,
    "start_time": "2021-07-23T10:59:16.884Z"
   },
   {
    "duration": 544,
    "start_time": "2021-07-23T10:59:51.292Z"
   },
   {
    "duration": 330,
    "start_time": "2021-07-23T11:04:23.930Z"
   },
   {
    "duration": 762,
    "start_time": "2021-07-23T11:05:30.804Z"
   },
   {
    "duration": 901,
    "start_time": "2021-07-23T11:05:36.915Z"
   },
   {
    "duration": 813,
    "start_time": "2021-07-23T11:06:02.887Z"
   },
   {
    "duration": 769,
    "start_time": "2021-07-23T11:06:20.469Z"
   },
   {
    "duration": 376,
    "start_time": "2021-07-23T11:17:25.757Z"
   },
   {
    "duration": 5,
    "start_time": "2021-07-23T11:18:59.073Z"
   },
   {
    "duration": 140,
    "start_time": "2021-07-23T11:19:25.760Z"
   },
   {
    "duration": 119,
    "start_time": "2021-07-23T11:19:49.084Z"
   },
   {
    "duration": 254,
    "start_time": "2021-07-23T11:20:16.010Z"
   },
   {
    "duration": 4,
    "start_time": "2021-07-23T11:21:01.054Z"
   },
   {
    "duration": 528,
    "start_time": "2021-07-23T11:21:12.377Z"
   },
   {
    "duration": 797,
    "start_time": "2021-07-23T11:21:20.668Z"
   },
   {
    "duration": 520,
    "start_time": "2021-07-23T11:21:25.218Z"
   },
   {
    "duration": 541,
    "start_time": "2021-07-23T11:25:04.384Z"
   },
   {
    "duration": 5,
    "start_time": "2021-07-23T11:25:42.565Z"
   },
   {
    "duration": 517,
    "start_time": "2021-07-23T11:25:46.907Z"
   },
   {
    "duration": 5,
    "start_time": "2021-07-23T11:25:54.911Z"
   },
   {
    "duration": 549,
    "start_time": "2021-07-23T11:25:55.720Z"
   },
   {
    "duration": 5,
    "start_time": "2021-07-23T11:26:45.422Z"
   },
   {
    "duration": 530,
    "start_time": "2021-07-23T11:26:46.713Z"
   },
   {
    "duration": 5,
    "start_time": "2021-07-23T11:32:09.134Z"
   },
   {
    "duration": 532,
    "start_time": "2021-07-23T11:32:10.116Z"
   },
   {
    "duration": 4,
    "start_time": "2021-07-23T11:32:21.088Z"
   },
   {
    "duration": 621,
    "start_time": "2021-07-23T11:32:22.944Z"
   },
   {
    "duration": 6,
    "start_time": "2021-07-23T11:34:15.347Z"
   },
   {
    "duration": 581,
    "start_time": "2021-07-23T11:34:15.994Z"
   },
   {
    "duration": 6,
    "start_time": "2021-07-23T11:34:41.809Z"
   },
   {
    "duration": 761,
    "start_time": "2021-07-23T11:34:42.604Z"
   },
   {
    "duration": 6,
    "start_time": "2021-07-23T11:35:32.036Z"
   },
   {
    "duration": 584,
    "start_time": "2021-07-23T11:35:32.698Z"
   },
   {
    "duration": 7,
    "start_time": "2021-07-23T11:35:59.247Z"
   },
   {
    "duration": 573,
    "start_time": "2021-07-23T11:36:40.843Z"
   },
   {
    "duration": 570,
    "start_time": "2021-07-23T11:37:51.285Z"
   },
   {
    "duration": 724,
    "start_time": "2021-07-23T11:41:35.027Z"
   },
   {
    "duration": 559,
    "start_time": "2021-07-23T11:42:46.613Z"
   },
   {
    "duration": 703,
    "start_time": "2021-07-23T11:43:25.744Z"
   },
   {
    "duration": 600,
    "start_time": "2021-07-23T11:44:01.541Z"
   },
   {
    "duration": 592,
    "start_time": "2021-07-23T11:44:23.192Z"
   },
   {
    "duration": 1168,
    "start_time": "2021-07-24T04:45:57.348Z"
   },
   {
    "duration": 36,
    "start_time": "2021-07-24T04:45:58.518Z"
   },
   {
    "duration": 9,
    "start_time": "2021-07-24T04:45:58.556Z"
   },
   {
    "duration": 8,
    "start_time": "2021-07-24T04:45:58.567Z"
   },
   {
    "duration": 5,
    "start_time": "2021-07-24T04:45:58.729Z"
   },
   {
    "duration": 9,
    "start_time": "2021-07-24T04:45:59.709Z"
   },
   {
    "duration": 6,
    "start_time": "2021-07-24T04:45:59.908Z"
   },
   {
    "duration": 7,
    "start_time": "2021-07-24T04:46:01.259Z"
   },
   {
    "duration": 6,
    "start_time": "2021-07-24T04:46:01.349Z"
   },
   {
    "duration": 378,
    "start_time": "2021-07-24T04:46:01.538Z"
   },
   {
    "duration": 7,
    "start_time": "2021-07-24T04:46:02.159Z"
   },
   {
    "duration": 843,
    "start_time": "2021-07-24T04:46:02.299Z"
   },
   {
    "duration": 8,
    "start_time": "2021-07-24T04:46:04.389Z"
   },
   {
    "duration": 674,
    "start_time": "2021-07-24T04:46:04.548Z"
   },
   {
    "duration": 4,
    "start_time": "2021-07-24T04:46:05.729Z"
   },
   {
    "duration": 18,
    "start_time": "2021-07-24T04:46:06.459Z"
   },
   {
    "duration": 8,
    "start_time": "2021-07-24T04:46:07.308Z"
   },
   {
    "duration": 7,
    "start_time": "2021-07-24T04:46:07.939Z"
   },
   {
    "duration": 9,
    "start_time": "2021-07-24T04:46:08.659Z"
   },
   {
    "duration": 4,
    "start_time": "2021-07-24T04:55:36.860Z"
   },
   {
    "duration": 4,
    "start_time": "2021-07-24T04:55:58.225Z"
   },
   {
    "duration": 12822,
    "start_time": "2021-07-24T04:55:58.333Z"
   },
   {
    "duration": 15811,
    "start_time": "2021-07-24T04:56:26.538Z"
   },
   {
    "duration": 111424,
    "start_time": "2021-07-24T04:58:07.615Z"
   },
   {
    "duration": 3,
    "start_time": "2021-07-24T05:03:30.908Z"
   },
   {
    "duration": 13770,
    "start_time": "2021-07-24T05:03:31.614Z"
   },
   {
    "duration": 5,
    "start_time": "2021-07-24T05:03:45.386Z"
   },
   {
    "duration": 5,
    "start_time": "2021-07-24T05:03:45.393Z"
   },
   {
    "duration": 5,
    "start_time": "2021-07-24T05:05:06.983Z"
   },
   {
    "duration": 235,
    "start_time": "2021-07-24T05:05:09.241Z"
   },
   {
    "duration": 10,
    "start_time": "2021-07-24T05:05:09.997Z"
   },
   {
    "duration": 352,
    "start_time": "2021-07-24T05:05:11.194Z"
   },
   {
    "duration": 17,
    "start_time": "2021-07-24T05:05:13.928Z"
   },
   {
    "duration": 5,
    "start_time": "2021-07-24T05:05:18.698Z"
   },
   {
    "duration": 4,
    "start_time": "2021-07-24T05:05:18.915Z"
   },
   {
    "duration": 8,
    "start_time": "2021-07-24T05:05:19.486Z"
   },
   {
    "duration": 4,
    "start_time": "2021-07-24T05:05:31.239Z"
   },
   {
    "duration": 325,
    "start_time": "2021-07-24T05:05:32.708Z"
   },
   {
    "duration": 331,
    "start_time": "2021-07-24T05:05:36.564Z"
   },
   {
    "duration": 320,
    "start_time": "2021-07-24T05:05:38.457Z"
   },
   {
    "duration": 323,
    "start_time": "2021-07-24T05:05:40.072Z"
   },
   {
    "duration": 1220,
    "start_time": "2021-07-24T09:19:39.434Z"
   },
   {
    "duration": 45,
    "start_time": "2021-07-24T09:19:41.214Z"
   },
   {
    "duration": 9,
    "start_time": "2021-07-24T09:19:41.582Z"
   },
   {
    "duration": 6,
    "start_time": "2021-07-24T09:19:44.745Z"
   },
   {
    "duration": 4,
    "start_time": "2021-07-24T09:21:42.173Z"
   },
   {
    "duration": 4,
    "start_time": "2021-07-24T09:22:28.100Z"
   },
   {
    "duration": 20,
    "start_time": "2021-07-24T09:22:34.202Z"
   },
   {
    "duration": 4,
    "start_time": "2021-07-24T09:23:01.533Z"
   },
   {
    "duration": 11,
    "start_time": "2021-07-24T09:23:02.601Z"
   },
   {
    "duration": 8,
    "start_time": "2021-07-24T09:23:03.175Z"
   },
   {
    "duration": 1201,
    "start_time": "2021-07-24T09:23:17.149Z"
   },
   {
    "duration": 33,
    "start_time": "2021-07-24T09:23:18.823Z"
   },
   {
    "duration": 10,
    "start_time": "2021-07-24T09:23:19.173Z"
   },
   {
    "duration": 6,
    "start_time": "2021-07-24T09:23:19.543Z"
   },
   {
    "duration": 4,
    "start_time": "2021-07-24T09:23:20.585Z"
   },
   {
    "duration": 10,
    "start_time": "2021-07-24T09:23:21.746Z"
   },
   {
    "duration": 7,
    "start_time": "2021-07-24T09:23:22.390Z"
   },
   {
    "duration": 4,
    "start_time": "2021-07-24T09:23:32.816Z"
   },
   {
    "duration": 15,
    "start_time": "2021-07-24T09:23:34.953Z"
   },
   {
    "duration": 8,
    "start_time": "2021-07-24T09:23:48.437Z"
   },
   {
    "duration": 6,
    "start_time": "2021-07-24T09:23:49.512Z"
   },
   {
    "duration": 9,
    "start_time": "2021-07-24T09:23:52.470Z"
   },
   {
    "duration": 3,
    "start_time": "2021-07-24T09:24:11.376Z"
   },
   {
    "duration": 9748,
    "start_time": "2021-07-24T09:24:26.512Z"
   },
   {
    "duration": 4,
    "start_time": "2021-07-24T09:24:40.241Z"
   },
   {
    "duration": 10426,
    "start_time": "2021-07-24T09:24:40.680Z"
   },
   {
    "duration": 123460,
    "start_time": "2021-07-24T09:24:54.832Z"
   },
   {
    "duration": 4,
    "start_time": "2021-07-24T09:27:07.898Z"
   },
   {
    "duration": 302,
    "start_time": "2021-07-24T09:27:13.883Z"
   },
   {
    "duration": 9,
    "start_time": "2021-07-24T09:29:42.039Z"
   },
   {
    "duration": 3,
    "start_time": "2021-07-24T09:30:15.146Z"
   },
   {
    "duration": 245,
    "start_time": "2021-07-24T09:30:30.849Z"
   },
   {
    "duration": 3,
    "start_time": "2021-07-24T09:30:37.403Z"
   },
   {
    "duration": 39,
    "start_time": "2021-07-24T09:30:46.071Z"
   },
   {
    "duration": 3,
    "start_time": "2021-07-24T09:32:14.043Z"
   },
   {
    "duration": 12693,
    "start_time": "2021-07-24T09:32:14.465Z"
   },
   {
    "duration": 5,
    "start_time": "2021-07-24T09:32:29.035Z"
   },
   {
    "duration": 5,
    "start_time": "2021-07-24T09:32:29.940Z"
   },
   {
    "duration": 6,
    "start_time": "2021-07-24T09:32:35.293Z"
   },
   {
    "duration": 5,
    "start_time": "2021-07-24T09:32:39.336Z"
   },
   {
    "duration": 144,
    "start_time": "2021-07-24T09:32:45.209Z"
   },
   {
    "duration": 10,
    "start_time": "2021-07-24T09:32:45.794Z"
   },
   {
    "duration": 248,
    "start_time": "2021-07-24T09:32:48.354Z"
   },
   {
    "duration": 11,
    "start_time": "2021-07-24T09:32:49.621Z"
   },
   {
    "duration": 7,
    "start_time": "2021-07-24T09:32:50.706Z"
   },
   {
    "duration": 4,
    "start_time": "2021-07-24T09:32:51.063Z"
   },
   {
    "duration": 8,
    "start_time": "2021-07-24T09:32:52.120Z"
   },
   {
    "duration": 4,
    "start_time": "2021-07-24T09:32:57.119Z"
   },
   {
    "duration": 317,
    "start_time": "2021-07-24T09:32:59.732Z"
   },
   {
    "duration": 303,
    "start_time": "2021-07-24T09:33:11.796Z"
   },
   {
    "duration": 389,
    "start_time": "2021-07-24T09:33:14.010Z"
   },
   {
    "duration": 306,
    "start_time": "2021-07-24T09:33:15.180Z"
   },
   {
    "duration": 5,
    "start_time": "2021-07-24T09:33:56.645Z"
   },
   {
    "duration": 18,
    "start_time": "2021-07-24T09:34:00.393Z"
   },
   {
    "duration": 7,
    "start_time": "2021-07-24T09:34:04.134Z"
   },
   {
    "duration": 6,
    "start_time": "2021-07-24T09:34:05.685Z"
   },
   {
    "duration": 9,
    "start_time": "2021-07-24T09:34:07.901Z"
   },
   {
    "duration": 3,
    "start_time": "2021-07-24T09:34:11.857Z"
   },
   {
    "duration": 16157,
    "start_time": "2021-07-24T09:34:15.416Z"
   },
   {
    "duration": 3,
    "start_time": "2021-07-24T09:35:04.630Z"
   },
   {
    "duration": 13292,
    "start_time": "2021-07-24T09:35:05.001Z"
   },
   {
    "duration": 125534,
    "start_time": "2021-07-24T09:35:30.665Z"
   },
   {
    "duration": 37,
    "start_time": "2021-07-24T09:38:27.606Z"
   },
   {
    "duration": 3,
    "start_time": "2021-07-24T09:38:33.787Z"
   },
   {
    "duration": 11703,
    "start_time": "2021-07-24T09:38:34.297Z"
   },
   {
    "duration": 5,
    "start_time": "2021-07-24T09:38:48.467Z"
   },
   {
    "duration": 4,
    "start_time": "2021-07-24T09:38:49.100Z"
   },
   {
    "duration": 6,
    "start_time": "2021-07-24T09:38:53.559Z"
   },
   {
    "duration": 224,
    "start_time": "2021-07-24T09:38:54.642Z"
   },
   {
    "duration": 11,
    "start_time": "2021-07-24T09:38:56.573Z"
   },
   {
    "duration": 334,
    "start_time": "2021-07-24T09:38:57.464Z"
   },
   {
    "duration": 11,
    "start_time": "2021-07-24T09:38:57.799Z"
   },
   {
    "duration": 5,
    "start_time": "2021-07-24T09:38:59.200Z"
   },
   {
    "duration": 4,
    "start_time": "2021-07-24T09:39:00.243Z"
   },
   {
    "duration": 8,
    "start_time": "2021-07-24T09:39:01.220Z"
   },
   {
    "duration": 13,
    "start_time": "2021-07-24T09:41:50.072Z"
   },
   {
    "duration": 12,
    "start_time": "2021-07-24T09:42:05.740Z"
   },
   {
    "duration": 77,
    "start_time": "2021-07-24T09:42:58.714Z"
   },
   {
    "duration": 5,
    "start_time": "2021-07-24T09:44:23.475Z"
   },
   {
    "duration": 11,
    "start_time": "2021-07-24T09:44:31.776Z"
   },
   {
    "duration": 4,
    "start_time": "2021-07-24T09:45:25.227Z"
   },
   {
    "duration": 4,
    "start_time": "2021-07-24T09:45:29.916Z"
   },
   {
    "duration": 9,
    "start_time": "2021-07-24T09:46:25.423Z"
   },
   {
    "duration": 5,
    "start_time": "2021-07-24T09:46:34.458Z"
   },
   {
    "duration": 6,
    "start_time": "2021-07-24T09:47:35.830Z"
   },
   {
    "duration": 5,
    "start_time": "2021-07-24T09:48:59.154Z"
   },
   {
    "duration": 5,
    "start_time": "2021-07-24T09:49:03.702Z"
   },
   {
    "duration": 7,
    "start_time": "2021-07-24T09:49:52.313Z"
   },
   {
    "duration": 7,
    "start_time": "2021-07-24T09:49:54.928Z"
   },
   {
    "duration": 312,
    "start_time": "2021-07-24T09:50:16.019Z"
   },
   {
    "duration": 9,
    "start_time": "2021-07-24T09:50:22.820Z"
   },
   {
    "duration": 340,
    "start_time": "2021-07-24T09:50:31.962Z"
   },
   {
    "duration": 11,
    "start_time": "2021-07-24T09:50:34.760Z"
   },
   {
    "duration": 3,
    "start_time": "2021-07-24T09:51:46.502Z"
   },
   {
    "duration": 14758,
    "start_time": "2021-07-24T09:51:47.040Z"
   },
   {
    "duration": 5,
    "start_time": "2021-07-24T09:52:03.318Z"
   },
   {
    "duration": 3,
    "start_time": "2021-07-24T09:52:03.822Z"
   },
   {
    "duration": 4,
    "start_time": "2021-07-24T09:52:14.893Z"
   },
   {
    "duration": 306,
    "start_time": "2021-07-24T09:52:19.090Z"
   },
   {
    "duration": 308,
    "start_time": "2021-07-24T09:52:28.236Z"
   },
   {
    "duration": 311,
    "start_time": "2021-07-24T09:52:30.259Z"
   },
   {
    "duration": 307,
    "start_time": "2021-07-24T09:52:34.991Z"
   },
   {
    "duration": 4,
    "start_time": "2021-07-24T09:53:10.984Z"
   },
   {
    "duration": 14,
    "start_time": "2021-07-24T09:53:14.360Z"
   },
   {
    "duration": 1122,
    "start_time": "2021-07-24T09:53:34.234Z"
   },
   {
    "duration": 33,
    "start_time": "2021-07-24T09:53:35.358Z"
   },
   {
    "duration": 8,
    "start_time": "2021-07-24T09:53:35.393Z"
   },
   {
    "duration": 5,
    "start_time": "2021-07-24T09:53:35.403Z"
   },
   {
    "duration": 3,
    "start_time": "2021-07-24T09:53:35.410Z"
   },
   {
    "duration": 9,
    "start_time": "2021-07-24T09:53:35.414Z"
   },
   {
    "duration": 6,
    "start_time": "2021-07-24T09:53:35.424Z"
   },
   {
    "duration": 10,
    "start_time": "2021-07-24T09:53:35.431Z"
   },
   {
    "duration": 11,
    "start_time": "2021-07-24T09:53:35.443Z"
   },
   {
    "duration": 363,
    "start_time": "2021-07-24T09:53:35.456Z"
   },
   {
    "duration": 6,
    "start_time": "2021-07-24T09:53:35.821Z"
   },
   {
    "duration": 791,
    "start_time": "2021-07-24T09:53:35.829Z"
   },
   {
    "duration": 7,
    "start_time": "2021-07-24T09:53:36.622Z"
   },
   {
    "duration": 681,
    "start_time": "2021-07-24T09:53:36.631Z"
   },
   {
    "duration": 3,
    "start_time": "2021-07-24T09:53:37.314Z"
   },
   {
    "duration": 16,
    "start_time": "2021-07-24T09:53:37.318Z"
   },
   {
    "duration": 6,
    "start_time": "2021-07-24T09:53:37.336Z"
   },
   {
    "duration": 5,
    "start_time": "2021-07-24T09:53:37.343Z"
   },
   {
    "duration": 7,
    "start_time": "2021-07-24T09:53:37.350Z"
   },
   {
    "duration": 3,
    "start_time": "2021-07-24T09:53:37.359Z"
   },
   {
    "duration": 9517,
    "start_time": "2021-07-24T09:53:37.364Z"
   },
   {
    "duration": 8,
    "start_time": "2021-07-24T09:53:46.883Z"
   },
   {
    "duration": 10804,
    "start_time": "2021-07-24T09:53:46.893Z"
   },
   {
    "duration": 128381,
    "start_time": "2021-07-24T09:53:57.699Z"
   },
   {
    "duration": 4,
    "start_time": "2021-07-24T09:56:06.082Z"
   },
   {
    "duration": 10388,
    "start_time": "2021-07-24T09:56:06.087Z"
   },
   {
    "duration": 5,
    "start_time": "2021-07-24T09:56:16.479Z"
   },
   {
    "duration": 7,
    "start_time": "2021-07-24T09:56:16.486Z"
   },
   {
    "duration": 13,
    "start_time": "2021-07-24T09:56:16.494Z"
   },
   {
    "duration": 10,
    "start_time": "2021-07-24T09:56:16.508Z"
   },
   {
    "duration": 15,
    "start_time": "2021-07-24T09:56:16.519Z"
   },
   {
    "duration": 179,
    "start_time": "2021-07-24T09:56:16.536Z"
   },
   {
    "duration": 10,
    "start_time": "2021-07-24T09:56:16.717Z"
   },
   {
    "duration": 368,
    "start_time": "2021-07-24T09:56:16.729Z"
   },
   {
    "duration": 10,
    "start_time": "2021-07-24T09:56:17.099Z"
   },
   {
    "duration": 2,
    "start_time": "2021-07-24T09:56:17.111Z"
   },
   {
    "duration": 12283,
    "start_time": "2021-07-24T09:56:17.191Z"
   },
   {
    "duration": 5,
    "start_time": "2021-07-24T09:56:29.475Z"
   },
   {
    "duration": 6,
    "start_time": "2021-07-24T09:56:29.481Z"
   },
   {
    "duration": 10,
    "start_time": "2021-07-24T09:56:29.489Z"
   },
   {
    "duration": 5,
    "start_time": "2021-07-24T09:56:29.501Z"
   },
   {
    "duration": 317,
    "start_time": "2021-07-24T09:56:29.508Z"
   },
   {
    "duration": 318,
    "start_time": "2021-07-24T09:56:29.826Z"
   },
   {
    "duration": 318,
    "start_time": "2021-07-24T09:56:30.146Z"
   },
   {
    "duration": 328,
    "start_time": "2021-07-24T09:56:30.466Z"
   },
   {
    "duration": 317,
    "start_time": "2021-07-24T10:03:00.318Z"
   },
   {
    "duration": 296,
    "start_time": "2021-07-24T10:03:17.982Z"
   },
   {
    "duration": 1224,
    "start_time": "2021-07-24T12:05:17.760Z"
   },
   {
    "duration": 38,
    "start_time": "2021-07-24T12:05:19.557Z"
   },
   {
    "duration": 11,
    "start_time": "2021-07-24T12:05:19.978Z"
   },
   {
    "duration": 6,
    "start_time": "2021-07-24T12:05:20.359Z"
   },
   {
    "duration": 4,
    "start_time": "2021-07-24T12:05:21.608Z"
   },
   {
    "duration": 10,
    "start_time": "2021-07-24T12:05:22.683Z"
   },
   {
    "duration": 8,
    "start_time": "2021-07-24T12:05:23.214Z"
   },
   {
    "duration": 4,
    "start_time": "2021-07-24T12:05:52.492Z"
   },
   {
    "duration": 16,
    "start_time": "2021-07-24T12:05:57.393Z"
   },
   {
    "duration": 8,
    "start_time": "2021-07-24T12:06:01.215Z"
   },
   {
    "duration": 6,
    "start_time": "2021-07-24T12:06:05.712Z"
   },
   {
    "duration": 7,
    "start_time": "2021-07-24T12:06:08.552Z"
   },
   {
    "duration": 4,
    "start_time": "2021-07-24T12:06:15.365Z"
   },
   {
    "duration": 10368,
    "start_time": "2021-07-24T12:06:16.813Z"
   },
   {
    "duration": 3,
    "start_time": "2021-07-24T12:06:30.213Z"
   },
   {
    "duration": 11023,
    "start_time": "2021-07-24T12:06:30.779Z"
   },
   {
    "duration": 120646,
    "start_time": "2021-07-24T12:07:26.668Z"
   },
   {
    "duration": 40,
    "start_time": "2021-07-24T12:10:11.155Z"
   },
   {
    "duration": 3,
    "start_time": "2021-07-24T12:10:18.315Z"
   },
   {
    "duration": 11255,
    "start_time": "2021-07-24T12:10:20.865Z"
   },
   {
    "duration": 7,
    "start_time": "2021-07-24T12:10:34.829Z"
   },
   {
    "duration": 4,
    "start_time": "2021-07-24T12:10:35.200Z"
   },
   {
    "duration": 6,
    "start_time": "2021-07-24T12:11:55.338Z"
   },
   {
    "duration": 5,
    "start_time": "2021-07-24T12:11:56.969Z"
   },
   {
    "duration": 7,
    "start_time": "2021-07-24T12:12:02.176Z"
   },
   {
    "duration": 179,
    "start_time": "2021-07-24T12:12:05.409Z"
   },
   {
    "duration": 9,
    "start_time": "2021-07-24T12:12:06.052Z"
   },
   {
    "duration": 253,
    "start_time": "2021-07-24T12:12:09.249Z"
   },
   {
    "duration": 11,
    "start_time": "2021-07-24T12:12:10.520Z"
   },
   {
    "duration": 2,
    "start_time": "2021-07-24T12:12:12.756Z"
   },
   {
    "duration": 11907,
    "start_time": "2021-07-24T12:12:13.182Z"
   },
   {
    "duration": 199,
    "start_time": "2021-07-24T12:12:45.337Z"
   },
   {
    "duration": 9,
    "start_time": "2021-07-24T12:12:45.916Z"
   },
   {
    "duration": 9,
    "start_time": "2021-07-24T12:12:52.234Z"
   },
   {
    "duration": 648,
    "start_time": "2021-07-24T12:13:11.348Z"
   },
   {
    "duration": 13,
    "start_time": "2021-07-24T12:13:11.998Z"
   },
   {
    "duration": 2,
    "start_time": "2021-07-24T12:13:13.589Z"
   },
   {
    "duration": 21913,
    "start_time": "2021-07-24T12:13:14.607Z"
   },
   {
    "duration": 13,
    "start_time": "2021-07-24T12:13:38.035Z"
   },
   {
    "duration": 5,
    "start_time": "2021-07-24T12:13:38.541Z"
   },
   {
    "duration": 8,
    "start_time": "2021-07-24T12:13:39.381Z"
   },
   {
    "duration": 8,
    "start_time": "2021-07-24T12:15:45.618Z"
   },
   {
    "duration": 4,
    "start_time": "2021-07-24T12:15:58.221Z"
   },
   {
    "duration": 319,
    "start_time": "2021-07-24T12:15:59.330Z"
   },
   {
    "duration": 309,
    "start_time": "2021-07-24T12:16:00.945Z"
   },
   {
    "duration": 369,
    "start_time": "2021-07-24T12:16:03.079Z"
   },
   {
    "duration": 306,
    "start_time": "2021-07-24T12:16:04.958Z"
   },
   {
    "duration": 307,
    "start_time": "2021-07-24T12:16:29.018Z"
   },
   {
    "duration": 307,
    "start_time": "2021-07-24T12:16:37.487Z"
   },
   {
    "duration": 1563,
    "start_time": "2021-07-25T09:54:09.075Z"
   },
   {
    "duration": 47,
    "start_time": "2021-07-25T09:54:11.454Z"
   },
   {
    "duration": 12,
    "start_time": "2021-07-25T09:54:11.780Z"
   },
   {
    "duration": 9,
    "start_time": "2021-07-25T09:54:12.076Z"
   },
   {
    "duration": 5,
    "start_time": "2021-07-25T09:57:19.839Z"
   },
   {
    "duration": 14,
    "start_time": "2021-07-25T09:57:20.796Z"
   },
   {
    "duration": 10,
    "start_time": "2021-07-25T09:57:21.151Z"
   },
   {
    "duration": 5,
    "start_time": "2021-07-25T09:57:29.481Z"
   },
   {
    "duration": 26,
    "start_time": "2021-07-25T09:57:31.331Z"
   },
   {
    "duration": 15,
    "start_time": "2021-07-25T09:57:32.736Z"
   },
   {
    "duration": 9,
    "start_time": "2021-07-25T09:57:38.567Z"
   },
   {
    "duration": 8,
    "start_time": "2021-07-25T09:57:45.316Z"
   },
   {
    "duration": 7,
    "start_time": "2021-07-25T09:57:46.440Z"
   },
   {
    "duration": 480,
    "start_time": "2021-07-25T09:57:54.310Z"
   },
   {
    "duration": 5,
    "start_time": "2021-07-25T09:58:48.763Z"
   },
   {
    "duration": 279,
    "start_time": "2021-07-25T09:58:58.834Z"
   },
   {
    "duration": 5,
    "start_time": "2021-07-25T09:59:26.010Z"
   },
   {
    "duration": 248,
    "start_time": "2021-07-25T09:59:31.801Z"
   },
   {
    "duration": 253,
    "start_time": "2021-07-25T10:00:11.683Z"
   },
   {
    "duration": 248,
    "start_time": "2021-07-25T10:00:25.395Z"
   },
   {
    "duration": 7,
    "start_time": "2021-07-25T10:00:33.468Z"
   },
   {
    "duration": 83840,
    "start_time": "2021-07-25T10:01:08.112Z"
   },
   {
    "duration": 282,
    "start_time": "2021-07-25T10:02:42.985Z"
   },
   {
    "duration": 5,
    "start_time": "2021-07-25T10:05:58.074Z"
   },
   {
    "duration": 312114,
    "start_time": "2021-07-25T10:05:59.755Z"
   },
   {
    "duration": 277,
    "start_time": "2021-07-25T10:19:36.557Z"
   },
   {
    "duration": 6,
    "start_time": "2021-07-25T10:20:54.627Z"
   },
   {
    "duration": 5,
    "start_time": "2021-07-25T10:21:03.473Z"
   },
   {
    "duration": 5,
    "start_time": "2021-07-25T10:21:30.851Z"
   },
   {
    "duration": 1598,
    "start_time": "2021-07-26T17:53:56.841Z"
   },
   {
    "duration": 46,
    "start_time": "2021-07-26T17:53:59.381Z"
   },
   {
    "duration": 14,
    "start_time": "2021-07-26T17:53:59.653Z"
   },
   {
    "duration": 9,
    "start_time": "2021-07-26T17:53:59.919Z"
   },
   {
    "duration": 5,
    "start_time": "2021-07-26T17:54:01.818Z"
   },
   {
    "duration": 14,
    "start_time": "2021-07-26T17:54:02.647Z"
   },
   {
    "duration": 9,
    "start_time": "2021-07-26T17:54:02.882Z"
   },
   {
    "duration": 5,
    "start_time": "2021-07-26T17:54:12.089Z"
   },
   {
    "duration": 24,
    "start_time": "2021-07-26T17:54:13.592Z"
   },
   {
    "duration": 12,
    "start_time": "2021-07-26T17:54:14.935Z"
   },
   {
    "duration": 8,
    "start_time": "2021-07-26T17:54:15.762Z"
   },
   {
    "duration": 8,
    "start_time": "2021-07-26T17:54:25.702Z"
   },
   {
    "duration": 6,
    "start_time": "2021-07-26T17:54:26.101Z"
   },
   {
    "duration": 6,
    "start_time": "2021-07-26T17:55:48.166Z"
   },
   {
    "duration": 4,
    "start_time": "2021-07-26T17:58:27.572Z"
   },
   {
    "duration": 940,
    "start_time": "2021-07-26T18:00:03.167Z"
   },
   {
    "duration": 688,
    "start_time": "2021-07-26T18:00:23.875Z"
   },
   {
    "duration": 97,
    "start_time": "2021-07-26T18:02:19.813Z"
   }
  ],
  "kernelspec": {
   "display_name": "Python 3",
   "language": "python",
   "name": "python3"
  },
  "language_info": {
   "codemirror_mode": {
    "name": "ipython",
    "version": 3
   },
   "file_extension": ".py",
   "mimetype": "text/x-python",
   "name": "python",
   "nbconvert_exporter": "python",
   "pygments_lexer": "ipython3",
   "version": "3.8.5"
  },
  "toc": {
   "base_numbering": 1,
   "nav_menu": {},
   "number_sections": true,
   "sideBar": true,
   "skip_h1_title": true,
   "title_cell": "Содержание",
   "title_sidebar": "Contents",
   "toc_cell": true,
   "toc_position": {},
   "toc_section_display": true,
   "toc_window_display": false
  }
 },
 "nbformat": 4,
 "nbformat_minor": 2
}
